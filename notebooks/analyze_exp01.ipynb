{
 "cells": [
  {
   "cell_type": "code",
   "execution_count": null,
   "id": "separated-collar",
   "metadata": {},
   "outputs": [],
   "source": [
    "import numpy as np\n",
    "import os\n",
    "import matplotlib.pyplot as plt\n",
    "import mpl_lego as mplego\n",
    "import pandas as pd\n",
    "\n",
    "from hatespeech.utils import annotator_race_to_col\n",
    "\n",
    "%matplotlib inline"
   ]
  },
  {
   "cell_type": "code",
   "execution_count": null,
   "id": "special-alarm",
   "metadata": {},
   "outputs": [],
   "source": [
    "base_path = os.path.join(os.environ['HOME'], 'projects/hatespeech-2021-fairml')\n",
    "data_path = os.path.join(base_path, 'data/clean_qualtrics_irt_rollout.feather')\n",
    "results_path = os.path.join(base_path, 'scaling/experiments/exp01')"
   ]
  },
  {
   "cell_type": "code",
   "execution_count": null,
   "id": "domestic-channels",
   "metadata": {},
   "outputs": [],
   "source": [
    "data = pd.read_feather(data_path)"
   ]
  },
  {
   "cell_type": "code",
   "execution_count": null,
   "id": "precise-jacksonville",
   "metadata": {},
   "outputs": [],
   "source": [
    "black_target_annotator_path = os.path.join(results_path, \"exp01_scores_black.2.txt\")\n",
    "white_target_annotator_path = os.path.join(results_path, \"exp01_scores_white.2.txt\")"
   ]
  },
  {
   "cell_type": "code",
   "execution_count": null,
   "id": "unusual-chain",
   "metadata": {},
   "outputs": [],
   "source": [
    "# Get severities for black-targeting comments\n",
    "black_target_annotator = pd.read_csv(black_target_annotator_path, delimiter='\\t', skiprows=1)\n",
    "black_target_severity = black_target_annotator['Measure']\n",
    "# Get severities for white-targeting comments\n",
    "white_target_annotator = pd.read_csv(white_target_annotator_path, delimiter='\\t', skiprows=1)\n",
    "white_target_severity = white_target_annotator['Measure']"
   ]
  },
  {
   "cell_type": "code",
   "execution_count": null,
   "id": "coupled-theorem",
   "metadata": {},
   "outputs": [],
   "source": [
    "print(f'Black-targeting: {black_target_severity.shape}')\n",
    "print(f'White-targeting: {white_target_severity.shape}')"
   ]
  },
  {
   "cell_type": "code",
   "execution_count": null,
   "id": "satellite-funds",
   "metadata": {},
   "outputs": [],
   "source": [
    "# Get annotators that looked at both black- and white- targeting comments\n",
    "common_annotators = black_target_annotator[\n",
    "    black_target_annotator['Judges'].isin(white_target_annotator['Judges'])\n",
    "]['Judges'].values\n",
    "black_common = black_target_annotator[black_target_annotator['Judges'].isin(common_annotators)]\n",
    "white_common = white_target_annotator[white_target_annotator['Judges'].isin(common_annotators)]\n",
    "print(f'Common annotators: {common_annotators.shape}')"
   ]
  },
  {
   "cell_type": "code",
   "execution_count": null,
   "id": "acute-paraguay",
   "metadata": {},
   "outputs": [],
   "source": [
    "fig, ax = plt.subplots(1, 1, figsize=(10, 5))\n",
    "\n",
    "bins = np.linspace(-6, 6, 51)\n",
    "\n",
    "ax.hist(\n",
    "    black_target_severity,\n",
    "    bins=bins,\n",
    "    density=True,\n",
    "    linewidth=2,\n",
    "    color='C0',\n",
    "    label=r'\\textbf{Black-Targeted}',\n",
    "    histtype='step')\n",
    "ax.hist(\n",
    "    white_target_severity,\n",
    "    bins=bins,\n",
    "    density=True,\n",
    "    linewidth=2,\n",
    "    color='C1',\n",
    "    label=r'\\textbf{White-Targeted}',\n",
    "    histtype='step')\n",
    "\n",
    "ax.set_xlim([-3, 3])\n",
    "ax.set_xlabel(r'\\textbf{Severity} $(\\alpha_j)$', fontsize=20)\n",
    "ax.set_ylabel(r'\\textbf{Density}', fontsize=20)\n",
    "ax.legend(loc='best', prop={'size': 15})\n",
    "plt.savefig('exp01_severities.pdf', bbox_inches='tight')"
   ]
  },
  {
   "cell_type": "code",
   "execution_count": null,
   "id": "controlling-pacific",
   "metadata": {},
   "outputs": [],
   "source": [
    "fig, ax = plt.subplots(1, 1, figsize=(8, 8))\n",
    "\n",
    "ax.hexbin(\n",
    "    black_common['Measure'],\n",
    "    white_common['Measure'],\n",
    "    bins='log',\n",
    "    cmap='Greys',\n",
    "    gridsize=30)\n",
    "ax.set_xlim([-6, 6])\n",
    "ax.set_ylim(ax.get_xlim())\n",
    "ax.plot(ax.get_xlim(), ax.get_ylim(), color='red', linestyle='--')\n",
    "ax.set_xlabel(r'\\textbf{Severity from Black-Targeting Comments}', fontsize=18)\n",
    "ax.set_ylabel(r'\\textbf{Severity from White-Targeting Comments}', fontsize=18)\n",
    "ax.tick_params(labelsize=15)\n",
    "plt.savefig('exp01_severities_common_annotators.pdf', bbox_inches='tight')"
   ]
  },
  {
   "cell_type": "code",
   "execution_count": null,
   "id": "fundamental-insertion",
   "metadata": {},
   "outputs": [],
   "source": [
    "fig, ax = plt.subplots(1, 1, figsize=(8, 6))\n",
    "\n",
    "ax.hist(\n",
    "    black_common['Measure'] - white_common['Measure'],\n",
    "    bins=np.linspace(-5, 5, 21),\n",
    "    histtype='step',\n",
    "    linewidth=3,\n",
    "    color='black')\n",
    "ax.set_xlim([-5, 5])\n",
    "ax.axvline(0, linestyle='--', color='grey')\n",
    "ax.tick_params(labelsize=15)\n",
    "ax.set_xlabel(r'$\\alpha_b - \\alpha_w$', fontsize=20)\n",
    "ax.set_ylabel(r'\\textbf{Frequency}', fontsize=20)\n",
    "plt.savefig('exp01_severity_diff.pdf', bbox_inches='tight')"
   ]
  },
  {
   "cell_type": "code",
   "execution_count": null,
   "id": "romantic-cocktail",
   "metadata": {},
   "outputs": [],
   "source": [
    "# Get demographic information of annotators\n",
    "white_annotators = data[data[annotator_race_to_col['white']] == 1]['labeler_id'].values\n",
    "black_annotators = data[data[annotator_race_to_col['black']] == 1]['labeler_id'].values"
   ]
  },
  {
   "cell_type": "code",
   "execution_count": null,
   "id": "hourly-richardson",
   "metadata": {},
   "outputs": [],
   "source": [
    "fig, ax = plt.subplots(1, 1, figsize=(8, 6))\n",
    "\n",
    "bins = np.linspace(-4, 4, 21)\n",
    "\n",
    "black_diffs = (\n",
    "    black_common[black_common['Judges'].isin(black_annotators)]['Measure'].values\n",
    "     - white_common[white_common['Judges'].isin(black_annotators)]['Measure'].values\n",
    ")\n",
    "white_diffs = (\n",
    "    black_common[black_common['Judges'].isin(white_annotators)]['Measure'].values\n",
    "     - white_common[white_common['Judges'].isin(white_annotators)]['Measure'].values)\n",
    "ax.hist(\n",
    "    black_diffs,\n",
    "    bins=bins,\n",
    "    histtype='step',\n",
    "    linewidth=3,\n",
    "    density=True,\n",
    "    label=r'\\textbf{Black Annotators}',\n",
    "    color='C0')\n",
    "ax.hist(\n",
    "    (black_common[black_common['Judges'].isin(white_annotators)]['Measure'].values\n",
    "     - white_common[white_common['Judges'].isin(white_annotators)]['Measure'].values),\n",
    "    bins=bins,\n",
    "    histtype='step',\n",
    "    linewidth=3,\n",
    "    density=True,\n",
    "    label=r'\\textbf{White Annotators}',\n",
    "    color='C1')\n",
    "ax.set_xlim([-5, 5])\n",
    "ax.axvline(0, linestyle='--', color='grey')\n",
    "ax.tick_params(labelsize=15)\n",
    "ax.set_xlabel(r'$\\alpha_b - \\alpha_w$', fontsize=20)\n",
    "ax.set_ylabel(r'\\textbf{Frequency}', fontsize=20)\n",
    "ax.legend(loc='best', prop={'size': 14})\n",
    "\n",
    "inset = fig.add_axes([0.23, 0.5, 0.15, 0.35])\n",
    "inset.boxplot(\n",
    "    x=[black_diffs, white_diffs],\n",
    "    showfliers=False,\n",
    "    widths=0.5,\n",
    "    medianprops={'color': 'black', 'lw': 2},\n",
    "    boxprops={'lw': 2},)\n",
    "inset.set_xticklabels(['Black\\nAnn.', 'White\\nAnn.'])\n",
    "inset.set_ylabel(r'$\\alpha_b - \\alpha_w$', fontsize=20)\n",
    "inset.axhline(0, linestyle='--', color='gray')\n",
    "inset.tick_params(labelsize=15)\n",
    "plt.savefig('exp01_white_vs_black_annotators.pdf', bbox_inches='tight')"
   ]
  },
  {
   "cell_type": "code",
   "execution_count": null,
   "id": "republican-riding",
   "metadata": {},
   "outputs": [],
   "source": [
    "fig, axes = plt.subplots(1, 2, figsize=(16, 8))\n",
    "\n",
    "axes[0].scatter(\n",
    "    black_common[black_common['Judges'].isin(black_annotators)]['Measure'],\n",
    "    white_common[white_common['Judges'].isin(black_annotators)]['Measure'],\n",
    "    alpha=0.3,\n",
    "    color='black')\n",
    "\n",
    "axes[1].scatter(\n",
    "    black_common[black_common['Judges'].isin(white_annotators)]['Measure'],\n",
    "    white_common[white_common['Judges'].isin(white_annotators)]['Measure'],\n",
    "    alpha=0.2,\n",
    "    color='black')\n",
    "\n",
    "for ax in axes:\n",
    "    ax.set_xlim([-6, 6])\n",
    "    ax.set_ylim(ax.get_xlim())\n",
    "    ax.plot(ax.get_xlim(), ax.get_ylim(), color='red', linestyle='--')\n",
    "    ax.set_xlabel(r'\\textbf{Severity from Black-Targeting Comments}', fontsize=18)\n",
    "    ax.set_ylabel(r'\\textbf{Severity from White-Targeting Comments}', fontsize=18)\n",
    "    ax.tick_params(labelsize=15)"
   ]
  }
 ],
 "metadata": {
  "kernelspec": {
   "display_name": "hate",
   "language": "python",
   "name": "hate"
  },
  "language_info": {
   "codemirror_mode": {
    "name": "ipython",
    "version": 3
   },
   "file_extension": ".py",
   "mimetype": "text/x-python",
   "name": "python",
   "nbconvert_exporter": "python",
   "pygments_lexer": "ipython3",
   "version": "3.7.9"
  }
 },
 "nbformat": 4,
 "nbformat_minor": 5
}
