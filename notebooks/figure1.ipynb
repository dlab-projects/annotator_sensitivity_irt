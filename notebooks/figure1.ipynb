{
 "cells": [
  {
   "cell_type": "code",
   "execution_count": 8,
   "id": "eb14b419-8594-4e11-b9d8-3607f835bb7a",
   "metadata": {},
   "outputs": [],
   "source": [
    "import numpy as np\n",
    "import pandas as pd\n",
    "import seaborn as sns\n",
    "import csv\n",
    "import os \n",
    "\n",
    "# from google.colab import drive\n",
    "# drive.mount('/content/gdrive')\n",
    "\n",
    "import matplotlib.pyplot as plt\n",
    "%matplotlib inline"
   ]
  },
  {
   "cell_type": "markdown",
   "id": "8b8b0694-bb01-4620-86e4-21f59d33166d",
   "metadata": {},
   "source": [
    "#### Figure 1 - looking at example comments (e.g. 1 on race, 2 on gender) with distributions\n",
    "Small number of items, distribution of those items\n",
    "Sentiment, respect, violence, genocide, hate speech item\n",
    "Hate score next to each comment\n",
    "the comments that we should look at should be the ones that we also talk about later in the paper \n"
   ]
  },
  {
   "cell_type": "code",
   "execution_count": 9,
   "id": "3884a221-993e-4e41-8e09-6e1de81d411b",
   "metadata": {},
   "outputs": [],
   "source": [
    "#this is for the analysis on demographic background of raters \n",
    "data_multi = pd.read_feather('/home/rbarreto/data/scaled-facets-multi-50k-v4.feather')"
   ]
  },
  {
   "cell_type": "code",
   "execution_count": 34,
   "id": "01847cc3-52a4-4826-8504-d67122745004",
   "metadata": {},
   "outputs": [],
   "source": [
    "#listing the hate speech items here for reference later\n",
    "items = ['sentiment', 'respect', 'insult', 'humiliate', 'status', 'dehumanize', 'violence_phys', 'genocide', 'attack_defend', 'hatespeech']"
   ]
  },
  {
   "cell_type": "code",
   "execution_count": 10,
   "id": "a038c476-c727-45b6-8930-260429a65faf",
   "metadata": {},
   "outputs": [],
   "source": [
    "df_race_distribution = data_multi"
   ]
  },
  {
   "cell_type": "code",
   "execution_count": 11,
   "id": "febfa9f7-18e0-410a-93d1-e5336d0c3806",
   "metadata": {},
   "outputs": [],
   "source": [
    "df_race_distribution.rename(columns={'demo_race_ethnicitie_1': 'demo_american_indian_alaska_native',\n",
    "                                       'demo_race_ethnicitie_2': 'demo_asian',\n",
    "                                       'demo_race_ethnicitie_3': 'demo_black',\n",
    "                                       'demo_race_ethnicitie_4': 'demo_latino',\n",
    "                                       'demo_race_ethnicitie_5': 'demo_native_hawaiian_pacific_islander',\n",
    "                                       'demo_race_ethnicitie_6': 'demo_white',\n",
    "                                       'demo_race_ethnicitie_7': 'demo_other_race',\n",
    "                                       'demo_race_ethnicitie_7_text': 'demo_other_race_text',\n",
    "                                       'demo_race_ethnicitie_8': 'demo_middle_eastern',\n",
    "                                       'target_race_1': 'target_black',\n",
    "                                       'target_race_2': 'target_latino',\n",
    "                                       'target_race_3': 'target_asian',\n",
    "                                       'target_race_4': 'target_native american',\n",
    "                                       'target_race_5': 'target_pacific islander',\n",
    "                                       'target_race_6': 'target_white',\n",
    "                                       'target_race_7': 'target_other_race',\n",
    "                                       'target_race_7_text': 'target_other_race_text'}, inplace=True)"
   ]
  },
  {
   "cell_type": "code",
   "execution_count": 12,
   "id": "2c510bfa-e9f3-4ab3-bb1a-f87a8ef2291b",
   "metadata": {},
   "outputs": [],
   "source": [
    "def label_race(row):\n",
    "    if row['demo_american_indian_alaska_native'] == 1:\n",
    "        return 'american indian alaska native'\n",
    "\n",
    "    if row['demo_american_indian_alaska_native'] + row['demo_asian'] + row['demo_black'] + row['demo_latino'] + row['demo_native_hawaiian_pacific_islander'] + row['demo_white'] + row['demo_other_race'] + row['demo_middle_eastern'] > 1:\n",
    "        return 'two or more races'\n",
    "\n",
    "    if row['demo_asian'] == 1:\n",
    "        return 'asian'\n",
    "    if row['demo_black'] == 1:\n",
    "        return 'black'\n",
    "    if row['demo_latino'] == 1:\n",
    "        return 'latino'\n",
    "    if row['demo_native_hawaiian_pacific_islander'] == 1:\n",
    "        return 'native hawaiian pacific islander'\n",
    "    if row['demo_white'] == 1:\n",
    "        return 'white'\n",
    "    if row['demo_other_race'] == 1:\n",
    "        return 'other race'\n",
    "    if row['demo_middle_eastern'] == 1:\n",
    "        return 'middle eastern'\n",
    "    return 'unknown'"
   ]
  },
  {
   "cell_type": "code",
   "execution_count": 13,
   "id": "4b0f99c1-04fb-4b1d-b565-02427472a812",
   "metadata": {},
   "outputs": [
    {
     "data": {
      "text/plain": [
       "0          white\n",
       "1          white\n",
       "2          white\n",
       "3          white\n",
       "4          white\n",
       "           ...  \n",
       "135551    latino\n",
       "135552     white\n",
       "135553     white\n",
       "135554     white\n",
       "135555    latino\n",
       "Length: 135556, dtype: object"
      ]
     },
     "execution_count": 13,
     "metadata": {},
     "output_type": "execute_result"
    }
   ],
   "source": [
    "#applying function to df\n",
    "#making the NAs into 0 for the function above to work\n",
    "\n",
    "df_race_distribution.replace('NA', 0).apply(label_race, axis=1) #axis =1 means application is done at row rather than column lelvel\n"
   ]
  },
  {
   "cell_type": "code",
   "execution_count": 23,
   "id": "a2100855-686a-4022-bb20-e21a1f56bb05",
   "metadata": {},
   "outputs": [],
   "source": [
    "df_race_distribution['race_label'] = df_race_distribution.replace('NA', 0).apply(label_race, axis=1)"
   ]
  },
  {
   "cell_type": "code",
   "execution_count": 24,
   "id": "0600b2ad-8368-41a0-a184-18ab262474af",
   "metadata": {},
   "outputs": [
    {
     "data": {
      "text/plain": [
       "799"
      ]
     },
     "execution_count": 24,
     "metadata": {},
     "output_type": "execute_result"
    }
   ],
   "source": [
    "#for comment 20,001 there are 799 unique labelers\n",
    "#we want to be able to just plug and play the visualization for other comments, so consider making it a function\n",
    "df_20001 = df_race_distribution[df_race_distribution['comment_id'] == 20001]\n",
    "df_20001['labeler_id'].nunique()"
   ]
  },
  {
   "cell_type": "code",
   "execution_count": 81,
   "id": "31b110cd-b535-4bac-b12b-fd9e4c91b2cb",
   "metadata": {},
   "outputs": [
    {
     "data": {
      "text/html": [
       "<div>\n",
       "<style scoped>\n",
       "    .dataframe tbody tr th:only-of-type {\n",
       "        vertical-align: middle;\n",
       "    }\n",
       "\n",
       "    .dataframe tbody tr th {\n",
       "        vertical-align: top;\n",
       "    }\n",
       "\n",
       "    .dataframe thead th {\n",
       "        text-align: right;\n",
       "    }\n",
       "</style>\n",
       "<table border=\"1\" class=\"dataframe\">\n",
       "  <thead>\n",
       "    <tr style=\"text-align: right;\">\n",
       "      <th></th>\n",
       "      <th></th>\n",
       "      <th>sentiment</th>\n",
       "      <th>respect</th>\n",
       "      <th>insult</th>\n",
       "      <th>humiliate</th>\n",
       "      <th>status</th>\n",
       "      <th>dehumanize</th>\n",
       "      <th>violence_phys</th>\n",
       "      <th>genocide</th>\n",
       "      <th>attack_defend</th>\n",
       "      <th>hatespeech</th>\n",
       "    </tr>\n",
       "    <tr>\n",
       "      <th>race_label</th>\n",
       "      <th>comment_id</th>\n",
       "      <th></th>\n",
       "      <th></th>\n",
       "      <th></th>\n",
       "      <th></th>\n",
       "      <th></th>\n",
       "      <th></th>\n",
       "      <th></th>\n",
       "      <th></th>\n",
       "      <th></th>\n",
       "      <th></th>\n",
       "    </tr>\n",
       "  </thead>\n",
       "  <tbody>\n",
       "    <tr>\n",
       "      <th>black</th>\n",
       "      <th>20001</th>\n",
       "      <td>4.000000</td>\n",
       "      <td>3.944444</td>\n",
       "      <td>2.888889</td>\n",
       "      <td>1.625000</td>\n",
       "      <td>0.805556</td>\n",
       "      <td>0.708333</td>\n",
       "      <td>0.958333</td>\n",
       "      <td>0.972222</td>\n",
       "      <td>2.916667</td>\n",
       "      <td>1.000000</td>\n",
       "    </tr>\n",
       "    <tr>\n",
       "      <th>white</th>\n",
       "      <th>20001</th>\n",
       "      <td>3.956303</td>\n",
       "      <td>3.969748</td>\n",
       "      <td>2.857143</td>\n",
       "      <td>1.485714</td>\n",
       "      <td>0.899160</td>\n",
       "      <td>0.761345</td>\n",
       "      <td>0.976471</td>\n",
       "      <td>0.969748</td>\n",
       "      <td>2.853782</td>\n",
       "      <td>0.989916</td>\n",
       "    </tr>\n",
       "  </tbody>\n",
       "</table>\n",
       "</div>"
      ],
      "text/plain": [
       "                       sentiment   respect    insult  humiliate    status  \\\n",
       "race_label comment_id                                                       \n",
       "black      20001        4.000000  3.944444  2.888889   1.625000  0.805556   \n",
       "white      20001        3.956303  3.969748  2.857143   1.485714  0.899160   \n",
       "\n",
       "                       dehumanize  violence_phys  genocide  attack_defend  \\\n",
       "race_label comment_id                                                       \n",
       "black      20001         0.708333       0.958333  0.972222       2.916667   \n",
       "white      20001         0.761345       0.976471  0.969748       2.853782   \n",
       "\n",
       "                       hatespeech  \n",
       "race_label comment_id              \n",
       "black      20001         1.000000  \n",
       "white      20001         0.989916  "
      ]
     },
     "execution_count": 81,
     "metadata": {},
     "output_type": "execute_result"
    }
   ],
   "source": [
    "#what is the average across all items for black vs white labelers\n",
    "#make sure including comments that have enough black labelers\n",
    "\n",
    "#will need to group by race (black and white)\n",
    "\n",
    "#df[df['comment_id'].isin(comment_ids_g100)].groupby(by=['predict_text', 'comment_id']).mean()\n",
    "df_20001_race = df_20001[df_20001['race_label'].isin(['black', 'white'])].groupby(by=['race_label', 'comment_id']).mean()[items]\n",
    "df_20001_race "
   ]
  },
  {
   "cell_type": "code",
   "execution_count": 82,
   "id": "ae918161-de04-413b-89bd-80ccaff5e0de",
   "metadata": {},
   "outputs": [
    {
     "data": {
      "text/plain": [
       "72"
      ]
     },
     "execution_count": 82,
     "metadata": {},
     "output_type": "execute_result"
    }
   ],
   "source": [
    "df_20001[df_20001['race_label'] == 'black']['labeler_id'].nunique()"
   ]
  },
  {
   "cell_type": "code",
   "execution_count": 83,
   "id": "d3887402-9986-4afe-907c-b4f8b51c19f2",
   "metadata": {},
   "outputs": [
    {
     "name": "stdout",
     "output_type": "stream",
     "text": [
      "number of unique white labelers in comment 20001 is: 595\n",
      "number of unique black labelers in comment 20001 is: 72\n"
     ]
    }
   ],
   "source": [
    "unique_white_20001 = df_20001[df_20001['race_label'] == 'white']['labeler_id'].nunique()\n",
    "unique_black_20001 = df_20001[df_20001['race_label'] == 'black']['labeler_id'].nunique()\n",
    "\n",
    "print('number of unique white labelers in comment 20001 is:', unique_white_20001)\n",
    "print('number of unique black labelers in comment 20001 is:', unique_black_20001)\n",
    "\n",
    "#the reason these don't add up to 799 is bc we are filtering out any non black / non white labelers "
   ]
  },
  {
   "cell_type": "code",
   "execution_count": 84,
   "id": "110baa67-61b1-405c-911e-286adbe86972",
   "metadata": {},
   "outputs": [
    {
     "data": {
      "image/png": "[encoded data removed]",
      "text/plain": [
       "<Figure size 432x288 with 1 Axes>"
      ]
     },
     "metadata": {
      "needs_background": "light"
     },
     "output_type": "display_data"
    }
   ],
   "source": [
    "df_20001_race.plot.bar();\n",
    "\n",
    "#one of the issues is that the the range that each item can take is not uniform \n",
    "#ie some items have been collapsed to binary, others are on a Likert scale (1-5)\n",
    "#so how do we show that on here"
   ]
  },
  {
   "cell_type": "code",
   "execution_count": 90,
   "id": "653076e5-64c4-44d3-a787-1ec6d2e0db64",
   "metadata": {},
   "outputs": [],
   "source": [
    "df_20001_race.reset_index(level=['race_label', 'comment_id'], inplace=True)\n"
   ]
  },
  {
   "cell_type": "code",
   "execution_count": 103,
   "id": "97c7b4ec-141d-4703-9c13-09b87db27d01",
   "metadata": {},
   "outputs": [],
   "source": [
    "df_20001_race.set_index('race_label', inplace=True)"
   ]
  },
  {
   "cell_type": "code",
   "execution_count": 106,
   "id": "00bb5e9b-6fd7-4b8f-94e5-d681e3d3228c",
   "metadata": {},
   "outputs": [
    {
     "data": {
      "text/html": [
       "<div>\n",
       "<style scoped>\n",
       "    .dataframe tbody tr th:only-of-type {\n",
       "        vertical-align: middle;\n",
       "    }\n",
       "\n",
       "    .dataframe tbody tr th {\n",
       "        vertical-align: top;\n",
       "    }\n",
       "\n",
       "    .dataframe thead th {\n",
       "        text-align: right;\n",
       "    }\n",
       "</style>\n",
       "<table border=\"1\" class=\"dataframe\">\n",
       "  <thead>\n",
       "    <tr style=\"text-align: right;\">\n",
       "      <th></th>\n",
       "      <th>comment_id</th>\n",
       "      <th>sentiment</th>\n",
       "      <th>respect</th>\n",
       "      <th>insult</th>\n",
       "      <th>humiliate</th>\n",
       "      <th>status</th>\n",
       "      <th>dehumanize</th>\n",
       "      <th>violence_phys</th>\n",
       "      <th>genocide</th>\n",
       "      <th>attack_defend</th>\n",
       "      <th>hatespeech</th>\n",
       "      <th>item</th>\n",
       "    </tr>\n",
       "    <tr>\n",
       "      <th>race_label</th>\n",
       "      <th></th>\n",
       "      <th></th>\n",
       "      <th></th>\n",
       "      <th></th>\n",
       "      <th></th>\n",
       "      <th></th>\n",
       "      <th></th>\n",
       "      <th></th>\n",
       "      <th></th>\n",
       "      <th></th>\n",
       "      <th></th>\n",
       "      <th></th>\n",
       "    </tr>\n",
       "  </thead>\n",
       "  <tbody>\n",
       "    <tr>\n",
       "      <th>black</th>\n",
       "      <td>20001</td>\n",
       "      <td>4.000000</td>\n",
       "      <td>3.944444</td>\n",
       "      <td>2.888889</td>\n",
       "      <td>1.625000</td>\n",
       "      <td>0.805556</td>\n",
       "      <td>0.708333</td>\n",
       "      <td>0.958333</td>\n",
       "      <td>0.972222</td>\n",
       "      <td>2.916667</td>\n",
       "      <td>1.000000</td>\n",
       "      <td></td>\n",
       "    </tr>\n",
       "    <tr>\n",
       "      <th>white</th>\n",
       "      <td>20001</td>\n",
       "      <td>3.956303</td>\n",
       "      <td>3.969748</td>\n",
       "      <td>2.857143</td>\n",
       "      <td>1.485714</td>\n",
       "      <td>0.899160</td>\n",
       "      <td>0.761345</td>\n",
       "      <td>0.976471</td>\n",
       "      <td>0.969748</td>\n",
       "      <td>2.853782</td>\n",
       "      <td>0.989916</td>\n",
       "      <td></td>\n",
       "    </tr>\n",
       "  </tbody>\n",
       "</table>\n",
       "</div>"
      ],
      "text/plain": [
       "            comment_id  sentiment   respect    insult  humiliate    status  \\\n",
       "race_label                                                                   \n",
       "black            20001   4.000000  3.944444  2.888889   1.625000  0.805556   \n",
       "white            20001   3.956303  3.969748  2.857143   1.485714  0.899160   \n",
       "\n",
       "            dehumanize  violence_phys  genocide  attack_defend  hatespeech  \\\n",
       "race_label                                                                   \n",
       "black         0.708333       0.958333  0.972222       2.916667    1.000000   \n",
       "white         0.761345       0.976471  0.969748       2.853782    0.989916   \n",
       "\n",
       "           item  \n",
       "race_label       \n",
       "black            \n",
       "white            "
      ]
     },
     "execution_count": 106,
     "metadata": {},
     "output_type": "execute_result"
    }
   ],
   "source": [
    "df_20001_race"
   ]
  },
  {
   "cell_type": "code",
   "execution_count": 107,
   "id": "bd772bc3-3eb5-4432-a45a-fd93386bf513",
   "metadata": {},
   "outputs": [],
   "source": [
    "df_20001_race = df_20001_race.drop('item', 1)"
   ]
  },
  {
   "cell_type": "code",
   "execution_count": 110,
   "id": "48da9bbb-ef13-4498-b4b6-f7b26e43483f",
   "metadata": {},
   "outputs": [],
   "source": [
    "df_20001_race = df_20001_race.drop('comment_id', 1)"
   ]
  },
  {
   "cell_type": "code",
   "execution_count": 111,
   "id": "b10004a9-8f53-4721-8502-89af62c0d3f6",
   "metadata": {},
   "outputs": [
    {
     "data": {
      "text/plain": [
       "array(['sentiment', 'respect', 'insult', 'humiliate', 'status',\n",
       "       'dehumanize', 'violence_phys', 'genocide', 'attack_defend',\n",
       "       'hatespeech'], dtype=object)"
      ]
     },
     "execution_count": 111,
     "metadata": {},
     "output_type": "execute_result"
    }
   ],
   "source": [
    "df_20001_race.columns.values"
   ]
  },
  {
   "cell_type": "code",
   "execution_count": 115,
   "id": "0fa8bab1-c842-47f8-9391-b8c02f010bb5",
   "metadata": {},
   "outputs": [
    {
     "data": {
      "text/html": [
       "<div>\n",
       "<style scoped>\n",
       "    .dataframe tbody tr th:only-of-type {\n",
       "        vertical-align: middle;\n",
       "    }\n",
       "\n",
       "    .dataframe tbody tr th {\n",
       "        vertical-align: top;\n",
       "    }\n",
       "\n",
       "    .dataframe thead th {\n",
       "        text-align: right;\n",
       "    }\n",
       "</style>\n",
       "<table border=\"1\" class=\"dataframe\">\n",
       "  <thead>\n",
       "    <tr style=\"text-align: right;\">\n",
       "      <th>race_label</th>\n",
       "      <th>black</th>\n",
       "      <th>white</th>\n",
       "    </tr>\n",
       "  </thead>\n",
       "  <tbody>\n",
       "    <tr>\n",
       "      <th>sentiment</th>\n",
       "      <td>4.000000</td>\n",
       "      <td>3.956303</td>\n",
       "    </tr>\n",
       "    <tr>\n",
       "      <th>respect</th>\n",
       "      <td>3.944444</td>\n",
       "      <td>3.969748</td>\n",
       "    </tr>\n",
       "    <tr>\n",
       "      <th>insult</th>\n",
       "      <td>2.888889</td>\n",
       "      <td>2.857143</td>\n",
       "    </tr>\n",
       "    <tr>\n",
       "      <th>humiliate</th>\n",
       "      <td>1.625000</td>\n",
       "      <td>1.485714</td>\n",
       "    </tr>\n",
       "    <tr>\n",
       "      <th>status</th>\n",
       "      <td>0.805556</td>\n",
       "      <td>0.899160</td>\n",
       "    </tr>\n",
       "    <tr>\n",
       "      <th>dehumanize</th>\n",
       "      <td>0.708333</td>\n",
       "      <td>0.761345</td>\n",
       "    </tr>\n",
       "    <tr>\n",
       "      <th>violence_phys</th>\n",
       "      <td>0.958333</td>\n",
       "      <td>0.976471</td>\n",
       "    </tr>\n",
       "    <tr>\n",
       "      <th>genocide</th>\n",
       "      <td>0.972222</td>\n",
       "      <td>0.969748</td>\n",
       "    </tr>\n",
       "    <tr>\n",
       "      <th>attack_defend</th>\n",
       "      <td>2.916667</td>\n",
       "      <td>2.853782</td>\n",
       "    </tr>\n",
       "    <tr>\n",
       "      <th>hatespeech</th>\n",
       "      <td>1.000000</td>\n",
       "      <td>0.989916</td>\n",
       "    </tr>\n",
       "  </tbody>\n",
       "</table>\n",
       "</div>"
      ],
      "text/plain": [
       "race_label        black     white\n",
       "sentiment      4.000000  3.956303\n",
       "respect        3.944444  3.969748\n",
       "insult         2.888889  2.857143\n",
       "humiliate      1.625000  1.485714\n",
       "status         0.805556  0.899160\n",
       "dehumanize     0.708333  0.761345\n",
       "violence_phys  0.958333  0.976471\n",
       "genocide       0.972222  0.969748\n",
       "attack_defend  2.916667  2.853782\n",
       "hatespeech     1.000000  0.989916"
      ]
     },
     "execution_count": 115,
     "metadata": {},
     "output_type": "execute_result"
    }
   ],
   "source": [
    "df_20001_race.T\n"
   ]
  },
  {
   "cell_type": "code",
   "execution_count": 114,
   "id": "8bd4832a-dc18-4dbb-ab70-8b5925e13ee3",
   "metadata": {},
   "outputs": [
    {
     "data": {
      "text/plain": [
       "Index(['black', 'white'], dtype='object', name='race_label')"
      ]
     },
     "execution_count": 114,
     "metadata": {},
     "output_type": "execute_result"
    }
   ],
   "source": [
    "#make the columns values (black, white) into columns\n",
    "df_20001_race.T.columns"
   ]
  },
  {
   "cell_type": "code",
   "execution_count": 118,
   "id": "bb602e15-e849-4a5b-88fa-8e8039663b3c",
   "metadata": {},
   "outputs": [
    {
     "data": {
      "image/png": "[encoded data removed]",
      "text/plain": [
       "<Figure size 432x288 with 1 Axes>"
      ]
     },
     "metadata": {
      "needs_background": "light"
     },
     "output_type": "display_data"
    }
   ],
   "source": [
    "df_20001_race.T.plot.bar();"
   ]
  },
  {
   "cell_type": "code",
   "execution_count": null,
   "id": "5903e651-e683-4efa-a280-0e4d4d877b59",
   "metadata": {},
   "outputs": [],
   "source": [
    "#what's the comment_id that targets black folks and that has the most black labelers on it?\n",
    "#this could help us decide which comments to see and also is interesting in and of itself\n",
    "#for comments with greater than 50 labelers, what does the distribution of black labelers"
   ]
  },
  {
   "cell_type": "code",
   "execution_count": 124,
   "id": "5b47c7da-dda5-41a3-831a-35041e3a658b",
   "metadata": {},
   "outputs": [],
   "source": [
    "#okay so here's a function that does everything we just did and puts into one \n",
    "\n",
    "def mean_item_by_race(df, comment_id_no):\n",
    "    \"\"\" comment_id_no is the comment id number\n",
    "    df is the dataframe\"\"\"\n",
    "    \n",
    "    items = ['sentiment', 'respect', 'insult', 'humiliate', 'status', 'dehumanize', 'violence_phys', 'genocide', 'attack_defend', 'hatespeech'] \n",
    "    \n",
    "    df_comment = df[df['comment_id'] == comment_id_no]\n",
    "    \n",
    "    df_comment_race = df_comment[df_comment['race_label'].isin(['black', 'white'])].groupby(by=['race_label', 'comment_id']).mean()[items]\n",
    "    \n",
    "    df_comment_race.reset_index(level=['comment_id'], inplace=True)\n",
    "    \n",
    "    df_comment_race = df_comment_race.drop('comment_id', 1)\n",
    "    \n",
    "    return df_comment_race.T.plot.bar()\n",
    "\n",
    " "
   ]
  },
  {
   "cell_type": "code",
   "execution_count": 125,
   "id": "c17fd830-edee-4de7-9984-e001b0f96cb1",
   "metadata": {},
   "outputs": [
    {
     "data": {
      "image/png": "[encoded data removed]",
      "text/plain": [
       "<Figure size 432x288 with 1 Axes>"
      ]
     },
     "metadata": {
      "needs_background": "light"
     },
     "output_type": "display_data"
    }
   ],
   "source": [
    "#chose comment from men_v_women comments\n",
    "mean_item_by_race(df_race_distribution, 20005);"
   ]
  },
  {
   "cell_type": "code",
   "execution_count": 126,
   "id": "989452d4-f2c2-4e03-a7b0-795171515ea3",
   "metadata": {},
   "outputs": [
    {
     "data": {
      "image/png": "[encoded data removed]",
      "text/plain": [
       "<Figure size 432x288 with 1 Axes>"
      ]
     },
     "metadata": {
      "needs_background": "light"
     },
     "output_type": "display_data"
    }
   ],
   "source": [
    "#chose comment from black_v_white comments\n",
    "mean_item_by_race(df_race_distribution, 20001);"
   ]
  },
  {
   "cell_type": "code",
   "execution_count": null,
   "id": "c7664bee-e9da-4477-ada7-9b5a72148256",
   "metadata": {},
   "outputs": [],
   "source": []
  }
 ],
 "metadata": {
  "kernelspec": {
   "display_name": "Python 3",
   "language": "python",
   "name": "python3"
  },
  "language_info": {
   "codemirror_mode": {
    "name": "ipython",
    "version": 3
   },
   "file_extension": ".py",
   "mimetype": "text/x-python",
   "name": "python",
   "nbconvert_exporter": "python",
   "pygments_lexer": "ipython3",
   "version": "3.9.5"
  }
 },
 "nbformat": 4,
 "nbformat_minor": 5
}
