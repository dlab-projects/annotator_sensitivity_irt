{
 "cells": [
  {
   "cell_type": "code",
   "execution_count": 1,
   "metadata": {},
   "outputs": [],
   "source": [
    "import numpy as np\n",
    "import os\n",
    "import matplotlib.pyplot as plt\n",
    "import mpl_lego as mplego\n",
    "import pandas as pd\n",
    "\n",
    "from hatespeech.keys import *\n",
    "from hatespeech import utils\n",
    "\n",
    "%matplotlib inline"
   ]
  },
  {
   "cell_type": "code",
   "execution_count": 2,
   "metadata": {},
   "outputs": [],
   "source": [
    "data_path = \"~/data/hatespeech/clean_qualtrics_irt_rollout.feather\""
   ]
  },
  {
   "cell_type": "code",
   "execution_count": 3,
   "metadata": {},
   "outputs": [],
   "source": [
    "data = pd.read_feather(data_path).rename(columns={'violence_phys': 'violence'})"
   ]
  },
  {
   "cell_type": "code",
   "execution_count": 4,
   "metadata": {},
   "outputs": [],
   "source": [
    "new_data = data[['comment_id', 'labeler_id'] + items].copy()"
   ]
  },
  {
   "cell_type": "code",
   "execution_count": 5,
   "metadata": {},
   "outputs": [],
   "source": [
    "new_data['raw_text'] = data['raw_text']"
   ]
  },
  {
   "cell_type": "code",
   "execution_count": 6,
   "metadata": {},
   "outputs": [],
   "source": [
    "# Target race\n",
    "new_data['target_race_asian'] = ~data[target_race_to_col['asian']].isna()\n",
    "new_data['target_race_black'] = ~data[target_race_to_col['black']].isna()\n",
    "new_data['target_race_latinx'] = ~data[target_race_to_col['latinx']].isna()\n",
    "new_data['target_race_middle_eastern'] = ~data[target_race_to_col['middle_eastern']].isna()\n",
    "new_data['target_race_native_american'] = ~data[target_race_to_col['native_american']].isna()\n",
    "new_data['target_race_pacific_islander'] = ~data[target_race_to_col['pacific_islander']].isna()\n",
    "new_data['target_race_white'] = ~data[target_race_to_col['white']].isna()\n",
    "new_data['target_race_other'] = ~data[target_race_to_col['other_race']].isna()\n",
    "new_data['target_race_other_text'] = data[target_race_to_col['other_race'] + '_text']\n",
    "new_data['target_race'] = new_data[target_race_cols].any(axis=1)"
   ]
  },
  {
   "cell_type": "code",
   "execution_count": 7,
   "metadata": {},
   "outputs": [],
   "source": [
    "# Target religion\n",
    "new_data['target_religion_atheist'] = ~data[target_religion_to_col['atheist']].isna()\n",
    "new_data['target_religion_buddhist'] = ~data[target_religion_to_col['buddhist']].isna()\n",
    "new_data['target_religion_christian'] = ~data[target_religion_to_col['christian']].isna()\n",
    "new_data['target_religion_hindu'] = ~data[target_religion_to_col['hindu']].isna()\n",
    "new_data['target_religion_jewish'] = ~data[target_religion_to_col['jewish']].isna()\n",
    "new_data['target_religion_mormon'] = ~data[target_religion_to_col['mormon']].isna()\n",
    "new_data['target_religion_muslim'] = ~data[target_religion_to_col['muslim']].isna()\n",
    "new_data['target_religion_other'] = ~data[target_religion_to_col['other']].isna()\n",
    "new_data['target_religion_other_text'] = data[target_religion_to_col['other'] + '_text']\n",
    "new_data['target_religion'] = new_data[target_religion_cols].any(axis=1)"
   ]
  },
  {
   "cell_type": "code",
   "execution_count": 8,
   "metadata": {},
   "outputs": [],
   "source": [
    "# Target origin\n",
    "new_data['target_origin_immigrant'] = ~data[target_origin_to_col['immigrant']].isna()\n",
    "new_data['target_origin_migrant_worker'] = ~data[target_origin_to_col['migrant_worker']].isna()\n",
    "new_data['target_origin_specific_country'] = ~data[target_origin_to_col['specific_country']].isna()\n",
    "new_data['target_origin_undocumented'] = ~data[target_origin_to_col['undocumented']].isna()\n",
    "new_data['target_origin_other'] = ~data[target_origin_to_col['other']].isna()\n",
    "new_data['target_origin_other_text'] = data[target_origin_to_col['other'] + '_text']\n",
    "new_data['target_origin'] = new_data[target_origin_cols].any(axis=1)"
   ]
  },
  {
   "cell_type": "code",
   "execution_count": 9,
   "metadata": {},
   "outputs": [],
   "source": [
    "# Target gender\n",
    "new_data['target_gender_men'] = ~data[target_gender_to_col['men']].isna()\n",
    "new_data['target_gender_non_binary'] = ~data[target_gender_to_col['non-binary']].isna()\n",
    "new_data['target_gender_transgender_men'] = ~data[target_gender_to_col['transgender_men']].isna()\n",
    "new_data['target_gender_transgender_unspecified'] = ~data[target_gender_to_col['transgender_unspecified']].isna()\n",
    "new_data['target_gender_transgender_women'] = ~data[target_gender_to_col['transgender_women']].isna()\n",
    "new_data['target_gender_women'] = ~data[target_gender_to_col['women']].isna()\n",
    "new_data['target_gender_other'] = ~data[target_gender_to_col['other_gender']].isna()\n",
    "new_data['target_gender_other_text'] = data[target_gender_to_col['other_gender'] + '_text']\n",
    "new_data['target_gender'] = new_data[target_gender_cols].any(axis=1)"
   ]
  },
  {
   "cell_type": "code",
   "execution_count": 10,
   "metadata": {},
   "outputs": [],
   "source": [
    "# Target sexuality\n",
    "new_data['target_sexuality_bisexual'] = ~data[target_sexuality_to_col['bisexual']].isna()\n",
    "new_data['target_sexuality_gay'] = ~data[target_sexuality_to_col['gay']].isna()\n",
    "new_data['target_sexuality_lesbian'] = ~data[target_sexuality_to_col['lesbian']].isna()\n",
    "new_data['target_sexuality_straight'] = ~data[target_sexuality_to_col['straight']].isna()\n",
    "new_data['target_sexuality_other'] = ~data[target_sexuality_to_col['other']].isna()\n",
    "new_data['target_sexuality_other_text'] = data[target_sexuality_to_col['other'] + '_text']\n",
    "new_data['target_sexuality'] = new_data[target_sexuality_cols].any(axis=1)"
   ]
  },
  {
   "cell_type": "code",
   "execution_count": 11,
   "metadata": {},
   "outputs": [],
   "source": [
    "# Target age\n",
    "new_data['target_age_children'] = ~data[target_age_to_col['children']].isna()\n",
    "new_data['target_age_teenagers'] = ~data[target_age_to_col['teenagers']].isna()\n",
    "new_data['target_age_young_adults'] = ~data[target_age_to_col['young_adults']].isna()\n",
    "new_data['target_age_middle_aged'] = ~data[target_age_to_col['middle_aged']].isna()\n",
    "new_data['target_age_seniors'] = ~data[target_age_to_col['seniors']].isna()\n",
    "new_data['target_age_other'] = ~data[target_age_to_col['other']].isna()\n",
    "new_data['target_age_other_text'] = data[target_age_to_col['other'] + '_text']\n",
    "new_data['target_age'] = new_data[target_age_cols].any(axis=1)"
   ]
  },
  {
   "cell_type": "code",
   "execution_count": 12,
   "metadata": {},
   "outputs": [],
   "source": [
    "# Target disability\n",
    "new_data['target_disability_physical'] = ~data[target_disability_to_col['physical']].isna()\n",
    "new_data['target_disability_cognitive'] = ~data[target_disability_to_col['cognitive']].isna()\n",
    "new_data['target_disability_neurological'] = ~data[target_disability_to_col['neurological']].isna()\n",
    "new_data['target_disability_visually_impaired'] = ~data[target_disability_to_col['visually_impaired']].isna()\n",
    "new_data['target_disability_hearing_impaired'] = ~data[target_disability_to_col['hearing_impaired']].isna()\n",
    "new_data['target_disability_unspecific'] = ~data[target_disability_to_col['unspecific']].isna()\n",
    "new_data['target_disability_other'] = ~data[target_disability_to_col['other']].isna()\n",
    "new_data['target_disability_other_text'] = data[target_disability_to_col['other'] + '_text']\n",
    "new_data['target_disability'] = new_data[target_disability_cols].any(axis=1)"
   ]
  },
  {
   "cell_type": "code",
   "execution_count": 13,
   "metadata": {},
   "outputs": [],
   "source": [
    "# Target political group\n",
    "new_data['target_politics_alt_right'] = ~data[target_politics_to_col['alt_right']].isna()\n",
    "new_data['target_politics_communist'] = ~data[target_politics_to_col['communist']].isna()\n",
    "new_data['target_politics_conservative'] = ~data[target_politics_to_col['conservative']].isna()\n",
    "new_data['target_politics_democrat'] = ~data[target_politics_to_col['democrat']].isna()\n",
    "new_data['target_politics_green_party'] = ~data[target_politics_to_col['green_party']].isna()\n",
    "new_data['target_politics_leftist'] = ~data[target_politics_to_col['leftist']].isna()\n",
    "new_data['target_politics_liberal'] = ~data[target_politics_to_col['liberal']].isna()\n",
    "new_data['target_politics_libertarian'] = ~data[target_politics_to_col['libertarian']].isna()\n",
    "new_data['target_politics_republican'] = ~data[target_politics_to_col['republican']].isna()\n",
    "new_data['target_politics_socialist'] = ~data[target_politics_to_col['socialist']].isna()\n",
    "new_data['target_politics_other'] = ~data[target_politics_to_col['other']].isna()\n",
    "new_data['target_politics_other_text'] = data[target_politics_to_col['other'] + '_text']\n",
    "new_data['target_politics'] = new_data[target_politics_cols].any(axis=1)"
   ]
  },
  {
   "cell_type": "code",
   "execution_count": 14,
   "metadata": {},
   "outputs": [],
   "source": [
    "# Annotator columns with only one value allowed\n",
    "new_data['annotator_gender'] = data[annotator_gender_col].map(swap_key_val(annotator_gender))\n",
    "new_data['annotator_trans'] = data[annotator_trans_col].map(swap_key_val(annotator_trans))\n",
    "new_data['annotator_educ'] = data[annotator_educ_col].map(swap_key_val(annotator_educ))\n",
    "new_data['annotator_income'] = data[annotator_income_col].map(swap_key_val(annotator_income))\n",
    "new_data['annotator_ideology'] = data[annotator_ideology_col].map(swap_key_val(annotator_ideology))"
   ]
  },
  {
   "cell_type": "code",
   "execution_count": 15,
   "metadata": {},
   "outputs": [],
   "source": [
    "# Annotator race\n",
    "new_data['annotator_race_asian'] = ~data[annotator_race_to_col['asian']].isna()\n",
    "new_data['annotator_race_black'] = ~data[annotator_race_to_col['black']].isna()\n",
    "new_data['annotator_race_latinx'] = ~data[annotator_race_to_col['latinx']].isna()\n",
    "new_data['annotator_race_middle_eastern'] = ~data[annotator_race_to_col['middle_eastern']].isna()\n",
    "new_data['annotator_race_native_american'] = ~data[annotator_race_to_col['native_american']].isna()\n",
    "new_data['annotator_race_pacific_islander'] = ~data[annotator_race_to_col['pacific_islander']].isna()\n",
    "new_data['annotator_race_white'] = ~data[annotator_race_to_col['white']].isna()\n",
    "new_data['annotator_race_other'] = ~data[annotator_race_to_col['other_race']].isna()\n",
    "new_data['annotator_race_other_text'] = data[annotator_race_to_col['other_race'] + '_text']"
   ]
  },
  {
   "cell_type": "code",
   "execution_count": 19,
   "metadata": {},
   "outputs": [],
   "source": [
    "# Annotator age\n",
    "new_data['annotator_age'] = data[annotator_age_col].apply(annotator_age_converter)"
   ]
  },
  {
   "cell_type": "code",
   "execution_count": 16,
   "metadata": {},
   "outputs": [],
   "source": [
    "# Annotator religion\n",
    "new_data['annotator_religion_atheist'] = ~data[annotator_religion_to_col['atheist']].isna()\n",
    "new_data['annotator_religion_buddhist'] = ~data[annotator_religion_to_col['buddhist']].isna()\n",
    "new_data['annotator_religion_christian'] = ~data[annotator_religion_to_col['christian']].isna()\n",
    "new_data['annotator_religion_hindu'] = ~data[annotator_religion_to_col['hindu']].isna()\n",
    "new_data['annotator_religion_jewish'] = ~data[annotator_religion_to_col['jewish']].isna()\n",
    "new_data['annotator_religion_mormon'] = ~data[annotator_religion_to_col['mormon']].isna()\n",
    "new_data['annotator_religion_muslim'] = ~data[annotator_religion_to_col['muslim']].isna()\n",
    "new_data['annotator_religion_nothing'] = ~data[annotator_religion_to_col['nothing']].isna()\n",
    "new_data['annotator_religion_other'] = ~data[annotator_religion_to_col['other']].isna()\n",
    "new_data['annotator_religion_other_text'] = data[annotator_religion_to_col['other'] + '_text']"
   ]
  },
  {
   "cell_type": "code",
   "execution_count": 17,
   "metadata": {},
   "outputs": [],
   "source": [
    "# Annotator sexuality\n",
    "new_data['annotator_sexuality_bisexual'] = ~data[annotator_sexual_orientation_to_col['bisexual']].isna()\n",
    "new_data['annotator_sexuality_gay'] = ~data[annotator_sexual_orientation_to_col['gay']].isna()\n",
    "new_data['annotator_sexuality_straight'] = ~data[annotator_sexual_orientation_to_col['straight']].isna()\n",
    "new_data['annotator_sexuality_other'] = ~data[annotator_sexual_orientation_to_col['other']].isna()\n",
    "new_data['annotator_sexuality_other_text'] = data[annotator_sexual_orientation_to_col['other'] + '_text']"
   ]
  }
 ],
 "metadata": {
  "kernelspec": {
   "display_name": "hate",
   "language": "python",
   "name": "hate"
  },
  "language_info": {
   "codemirror_mode": {
    "name": "ipython",
    "version": 3
   },
   "file_extension": ".py",
   "mimetype": "text/x-python",
   "name": "python",
   "nbconvert_exporter": "python",
   "pygments_lexer": "ipython3",
   "version": "3.7.9"
  }
 },
 "nbformat": 4,
 "nbformat_minor": 4
}
