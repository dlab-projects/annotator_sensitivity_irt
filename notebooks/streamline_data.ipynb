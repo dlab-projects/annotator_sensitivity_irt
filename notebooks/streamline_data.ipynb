{
 "cells": [
  {
   "cell_type": "code",
   "execution_count": 1,
   "metadata": {},
   "outputs": [],
   "source": [
    "import numpy as np\n",
    "import os\n",
    "import matplotlib.pyplot as plt\n",
    "import mpl_lego as mplego\n",
    "import pandas as pd\n",
    "\n",
    "from hatespeech.keys import *\n",
    "from hatespeech import utils\n",
    "\n",
    "%matplotlib inline"
   ]
  },
  {
   "cell_type": "code",
   "execution_count": 2,
   "metadata": {},
   "outputs": [],
   "source": [
    "data_path = \"~/data/hatespeech/clean_qualtrics_irt_rollout.feather\""
   ]
  },
  {
   "cell_type": "code",
   "execution_count": 3,
   "metadata": {},
   "outputs": [],
   "source": [
    "data = pd.read_feather(data_path).rename(columns={'violence_phys': 'violence'})"
   ]
  },
  {
   "cell_type": "code",
   "execution_count": 4,
   "metadata": {},
   "outputs": [],
   "source": [
    "new_data = data[['comment_id', 'labeler_id'] + items].copy()"
   ]
  },
  {
   "cell_type": "code",
   "execution_count": 5,
   "metadata": {},
   "outputs": [],
   "source": [
    "new_data['raw_text'] = data['raw_text']\n"
   ]
  },
  {
   "cell_type": "code",
   "execution_count": 22,
   "metadata": {},
   "outputs": [],
   "source": [
    "# Target race\n",
    "new_data['target_race_asian'] = ~data[race_to_col['asian']].isna()\n",
    "new_data['target_race_black'] = ~data[race_to_col['black']].isna()\n",
    "new_data['target_race_latinx'] = ~data[race_to_col['latinx']].isna()\n",
    "new_data['target_race_middle_eastern'] = ~data[race_to_col['middle_eastern']].isna()\n",
    "new_data['target_race_native_american'] = ~data[race_to_col['native_american']].isna()\n",
    "new_data['target_race_pacific_islander'] = ~data[race_to_col['pacific_islander']].isna()\n",
    "new_data['target_race_white'] = ~data[race_to_col['white']].isna()\n",
    "new_data['target_race_other'] = ~data[race_to_col['other_race']].isna()\n",
    "new_data['target_race_other_text'] = data[race_to_col['other_race'] + '_text']\n",
    "new_data['target_race'] = new_data[target_race_cols].any(axis=1)"
   ]
  },
  {
   "cell_type": "code",
   "execution_count": 7,
   "metadata": {},
   "outputs": [],
   "source": [
    "# Target religion\n",
    "new_data['target_religion_atheist'] = data[religion_to_col['atheist']].isna()\n",
    "new_data['target_religion_buddhist'] = data[religion_to_col['buddhist']].isna()\n",
    "new_data['target_religion_christian'] = data[religion_to_col['christian']].isna()\n",
    "new_data['target_religion_hindu'] = data[religion_to_col['hindu']].isna()\n",
    "new_data['target_religion_jewish'] = data[religion_to_col['jewish']].isna()\n",
    "new_data['target_religion_mormon'] = data[religion_to_col['mormon']].isna()\n",
    "new_data['target_religion_muslim'] = data[religion_to_col['muslim']].isna()\n",
    "new_data['target_religion_other'] = data[religion_to_col['other']].isna()\n",
    "new_data['target_religion_other_text'] = data[religion_to_col['other'] + '_text']"
   ]
  },
  {
   "cell_type": "code",
   "execution_count": 8,
   "metadata": {},
   "outputs": [],
   "source": [
    "# Target origin\n",
    "new_data['target_origin_immigrant'] = data[origin_to_col['immigrant']].isna()\n",
    "new_data['target_origin_migrant_worker'] = data[origin_to_col['migrant_worker']].isna()\n",
    "new_data['target_origin_specific_country'] = data[origin_to_col['specific_country']].isna()\n",
    "new_data['target_origin_undocumented'] = data[origin_to_col['undocumented']].isna()\n",
    "new_data['target_origin_other'] = data[origin_to_col['other']].isna()\n",
    "new_data['target_origin_other_text'] = data[origin_to_col['other'] + '_text']"
   ]
  },
  {
   "cell_type": "code",
   "execution_count": 9,
   "metadata": {},
   "outputs": [],
   "source": [
    "# Target gender\n",
    "new_data['target_gender_men'] = data[gender_to_col['men']].isna()\n",
    "new_data['target_gender_non_binary'] = data[gender_to_col['non-binary']].isna()\n",
    "new_data['target_gender_transgender_men'] = data[gender_to_col['transgender_men']].isna()\n",
    "new_data['target_gender_transgender_unspecified'] = data[gender_to_col['transgender_unspecified']].isna()\n",
    "new_data['target_gender_transgender_women'] = data[gender_to_col['transgender_women']].isna()\n",
    "new_data['target_gender_women'] = data[gender_to_col['women']].isna()\n",
    "new_data['target_gender_other'] = data[gender_to_col['other_gender']].isna()\n",
    "new_data['target_gender_other_text'] = data[gender_to_col['other_gender'] + '_text']"
   ]
  },
  {
   "cell_type": "code",
   "execution_count": 10,
   "metadata": {},
   "outputs": [],
   "source": [
    "# Target sexuality\n",
    "new_data['target_sexuality_bisexual'] = data[sexuality_to_col['bisexual']].isna()\n",
    "new_data['target_sexuality_gay'] = data[sexuality_to_col['gay']].isna()\n",
    "new_data['target_sexuality_lesbian'] = data[sexuality_to_col['lesbian']].isna()\n",
    "new_data['target_sexuality_straight'] = data[sexuality_to_col['straight']].isna()\n",
    "new_data['target_sexuality_other'] = data[sexuality_to_col['other']].isna()\n",
    "new_data['target_sexuality_other_text'] = data[sexuality_to_col['other'] + '_text']"
   ]
  },
  {
   "cell_type": "code",
   "execution_count": null,
   "metadata": {},
   "outputs": [],
   "source": []
  },
  {
   "cell_type": "code",
   "execution_count": 14,
   "metadata": {},
   "outputs": [
    {
     "data": {
      "text/html": [
       "<div>\n",
       "<style scoped>\n",
       "    .dataframe tbody tr th:only-of-type {\n",
       "        vertical-align: middle;\n",
       "    }\n",
       "\n",
       "    .dataframe tbody tr th {\n",
       "        vertical-align: top;\n",
       "    }\n",
       "\n",
       "    .dataframe thead th {\n",
       "        text-align: right;\n",
       "    }\n",
       "</style>\n",
       "<table border=\"1\" class=\"dataframe\">\n",
       "  <thead>\n",
       "    <tr style=\"text-align: right;\">\n",
       "      <th></th>\n",
       "      <th>target_race_asian</th>\n",
       "      <th>target_race_black</th>\n",
       "      <th>target_race_latinx</th>\n",
       "      <th>target_race_middle_eastern</th>\n",
       "      <th>target_race_native_american</th>\n",
       "      <th>target_race_pacific_islander</th>\n",
       "      <th>target_race_white</th>\n",
       "      <th>target_race_other</th>\n",
       "    </tr>\n",
       "  </thead>\n",
       "  <tbody>\n",
       "    <tr>\n",
       "      <th>0</th>\n",
       "      <td>True</td>\n",
       "      <td>True</td>\n",
       "      <td>True</td>\n",
       "      <td>True</td>\n",
       "      <td>True</td>\n",
       "      <td>True</td>\n",
       "      <td>True</td>\n",
       "      <td>True</td>\n",
       "    </tr>\n",
       "    <tr>\n",
       "      <th>1</th>\n",
       "      <td>True</td>\n",
       "      <td>True</td>\n",
       "      <td>True</td>\n",
       "      <td>True</td>\n",
       "      <td>True</td>\n",
       "      <td>True</td>\n",
       "      <td>True</td>\n",
       "      <td>True</td>\n",
       "    </tr>\n",
       "    <tr>\n",
       "      <th>2</th>\n",
       "      <td>True</td>\n",
       "      <td>True</td>\n",
       "      <td>True</td>\n",
       "      <td>True</td>\n",
       "      <td>True</td>\n",
       "      <td>True</td>\n",
       "      <td>True</td>\n",
       "      <td>True</td>\n",
       "    </tr>\n",
       "    <tr>\n",
       "      <th>3</th>\n",
       "      <td>True</td>\n",
       "      <td>True</td>\n",
       "      <td>True</td>\n",
       "      <td>True</td>\n",
       "      <td>True</td>\n",
       "      <td>True</td>\n",
       "      <td>True</td>\n",
       "      <td>True</td>\n",
       "    </tr>\n",
       "    <tr>\n",
       "      <th>4</th>\n",
       "      <td>False</td>\n",
       "      <td>False</td>\n",
       "      <td>False</td>\n",
       "      <td>False</td>\n",
       "      <td>False</td>\n",
       "      <td>False</td>\n",
       "      <td>False</td>\n",
       "      <td>True</td>\n",
       "    </tr>\n",
       "    <tr>\n",
       "      <th>...</th>\n",
       "      <td>...</td>\n",
       "      <td>...</td>\n",
       "      <td>...</td>\n",
       "      <td>...</td>\n",
       "      <td>...</td>\n",
       "      <td>...</td>\n",
       "      <td>...</td>\n",
       "      <td>...</td>\n",
       "    </tr>\n",
       "    <tr>\n",
       "      <th>289713</th>\n",
       "      <td>True</td>\n",
       "      <td>True</td>\n",
       "      <td>True</td>\n",
       "      <td>True</td>\n",
       "      <td>True</td>\n",
       "      <td>True</td>\n",
       "      <td>True</td>\n",
       "      <td>True</td>\n",
       "    </tr>\n",
       "    <tr>\n",
       "      <th>289714</th>\n",
       "      <td>True</td>\n",
       "      <td>True</td>\n",
       "      <td>True</td>\n",
       "      <td>True</td>\n",
       "      <td>True</td>\n",
       "      <td>True</td>\n",
       "      <td>True</td>\n",
       "      <td>True</td>\n",
       "    </tr>\n",
       "    <tr>\n",
       "      <th>289715</th>\n",
       "      <td>True</td>\n",
       "      <td>True</td>\n",
       "      <td>True</td>\n",
       "      <td>True</td>\n",
       "      <td>True</td>\n",
       "      <td>True</td>\n",
       "      <td>True</td>\n",
       "      <td>True</td>\n",
       "    </tr>\n",
       "    <tr>\n",
       "      <th>289716</th>\n",
       "      <td>True</td>\n",
       "      <td>True</td>\n",
       "      <td>True</td>\n",
       "      <td>True</td>\n",
       "      <td>True</td>\n",
       "      <td>True</td>\n",
       "      <td>True</td>\n",
       "      <td>True</td>\n",
       "    </tr>\n",
       "    <tr>\n",
       "      <th>289717</th>\n",
       "      <td>True</td>\n",
       "      <td>True</td>\n",
       "      <td>True</td>\n",
       "      <td>True</td>\n",
       "      <td>True</td>\n",
       "      <td>True</td>\n",
       "      <td>True</td>\n",
       "      <td>True</td>\n",
       "    </tr>\n",
       "  </tbody>\n",
       "</table>\n",
       "<p>289718 rows × 8 columns</p>\n",
       "</div>"
      ],
      "text/plain": [
       "        target_race_asian  target_race_black  target_race_latinx  \\\n",
       "0                    True               True                True   \n",
       "1                    True               True                True   \n",
       "2                    True               True                True   \n",
       "3                    True               True                True   \n",
       "4                   False              False               False   \n",
       "...                   ...                ...                 ...   \n",
       "289713               True               True                True   \n",
       "289714               True               True                True   \n",
       "289715               True               True                True   \n",
       "289716               True               True                True   \n",
       "289717               True               True                True   \n",
       "\n",
       "        target_race_middle_eastern  target_race_native_american  \\\n",
       "0                             True                         True   \n",
       "1                             True                         True   \n",
       "2                             True                         True   \n",
       "3                             True                         True   \n",
       "4                            False                        False   \n",
       "...                            ...                          ...   \n",
       "289713                        True                         True   \n",
       "289714                        True                         True   \n",
       "289715                        True                         True   \n",
       "289716                        True                         True   \n",
       "289717                        True                         True   \n",
       "\n",
       "        target_race_pacific_islander  target_race_white  target_race_other  \n",
       "0                               True               True               True  \n",
       "1                               True               True               True  \n",
       "2                               True               True               True  \n",
       "3                               True               True               True  \n",
       "4                              False              False               True  \n",
       "...                              ...                ...                ...  \n",
       "289713                          True               True               True  \n",
       "289714                          True               True               True  \n",
       "289715                          True               True               True  \n",
       "289716                          True               True               True  \n",
       "289717                          True               True               True  \n",
       "\n",
       "[289718 rows x 8 columns]"
      ]
     },
     "execution_count": 14,
     "metadata": {},
     "output_type": "execute_result"
    }
   ],
   "source": [
    "new_data[target_race_cols]"
   ]
  },
  {
   "cell_type": "code",
   "execution_count": 23,
   "metadata": {},
   "outputs": [
    {
     "data": {
      "text/plain": [
       "['target_identities_1',\n",
       " 'target_identities_2',\n",
       " 'target_identities_3',\n",
       " 'target_identities_4',\n",
       " 'target_identities_5',\n",
       " 'target_identities_6',\n",
       " 'target_identities_7',\n",
       " 'target_identities_9',\n",
       " 'target_race_1',\n",
       " 'target_race_2',\n",
       " 'target_race_3',\n",
       " 'target_race_8',\n",
       " 'target_race_4',\n",
       " 'target_race_5',\n",
       " 'target_race_6',\n",
       " 'target_race_7',\n",
       " 'target_race_7_text',\n",
       " 'target_religion_1',\n",
       " 'target_religion_2',\n",
       " 'target_religion_4',\n",
       " 'target_religion_5',\n",
       " 'target_religion_8',\n",
       " 'target_religion_9',\n",
       " 'target_religion_10',\n",
       " 'target_religion_6',\n",
       " 'target_religion_6_text',\n",
       " 'target_citizen_5',\n",
       " 'target_citizen_1',\n",
       " 'target_citizen_2',\n",
       " 'target_citizen_3',\n",
       " 'target_citizen_4',\n",
       " 'target_citizen_4_text',\n",
       " 'target_gender_1',\n",
       " 'target_gender_3',\n",
       " 'target_gender_2',\n",
       " 'target_gender_5',\n",
       " 'target_gender_6',\n",
       " 'target_gender_7',\n",
       " 'target_gender_4',\n",
       " 'target_gender_4_text',\n",
       " 'target_sexuality_1',\n",
       " 'target_sexuality_2',\n",
       " 'target_sexuality_6',\n",
       " 'target_sexuality_3',\n",
       " 'target_sexuality_5',\n",
       " 'target_sexuality_5_text',\n",
       " 'target_age_1',\n",
       " 'target_age_2',\n",
       " 'target_age_3',\n",
       " 'target_age_4',\n",
       " 'target_age_5',\n",
       " 'target_age_6',\n",
       " 'target_age_6_text',\n",
       " 'target_disability_1',\n",
       " 'target_disability_2',\n",
       " 'target_disability_3',\n",
       " 'target_disability_4',\n",
       " 'target_disability_5',\n",
       " 'target_disability_9',\n",
       " 'target_disability_6',\n",
       " 'target_disability_6_text',\n",
       " 'target_identity_count',\n",
       " 'has_targets']"
      ]
     },
     "execution_count": 23,
     "metadata": {},
     "output_type": "execute_result"
    }
   ],
   "source": [
    "[col for col in data.columns if 'target' in col]"
   ]
  },
  {
   "cell_type": "code",
   "execution_count": 20,
   "metadata": {},
   "outputs": [
    {
     "data": {
      "text/plain": [
       "['target_race_7_text',\n",
       " 'target_religion_6_text',\n",
       " 'target_citizen_4_text',\n",
       " 'target_gender_4_text',\n",
       " 'target_sexuality_5_text',\n",
       " 'target_age_6_text',\n",
       " 'target_disability_6_text',\n",
       " 'q39_11_text',\n",
       " 'comment_text',\n",
       " 'demo_gender_4_text',\n",
       " 'demo_race_ethnicitie_7_text',\n",
       " 'demo_religion_10_text',\n",
       " 'demo_sexual_orien_4_text',\n",
       " 'text_merge',\n",
       " 'raw_text',\n",
       " 'preprocessed_text',\n",
       " 'annotator_text',\n",
       " 'predict_text']"
      ]
     },
     "execution_count": 20,
     "metadata": {},
     "output_type": "execute_result"
    }
   ],
   "source": [
    "[col for col in data.columns if 'text' in col]"
   ]
  },
  {
   "cell_type": "code",
   "execution_count": 44,
   "metadata": {},
   "outputs": [
    {
     "data": {
      "text/plain": [
       "'You died, admit it. His smile just made your day infinitely better. 이미담한테 투표 해주세요! 🙏🏽  이미담한테 투표 해주세요! 🙏🏽  이미담한테 투표 해주세요! 🙏🏽  #이미담_신경쓰여 #LEEMIDAM #PRODUCE_X_101 #브로듀스_X_101 URL'"
      ]
     },
     "execution_count": 44,
     "metadata": {},
     "output_type": "execute_result"
    }
   ],
   "source": [
    "data['annotator_text'].iloc[-2]"
   ]
  },
  {
   "cell_type": "code",
   "execution_count": 43,
   "metadata": {},
   "outputs": [
    {
     "data": {
      "text/plain": [
       "'You died, admit it. His smile just made your day infinitely better. 이미담한테 투표 해주세요! ??  이미담한테 투표 해주세요! ??  이미담한테 투표 해주세요! ??  #이미담_신경쓰여 #LEEMIDAM #PRODUCE_X_101 #브로듀스_X'"
      ]
     },
     "execution_count": 43,
     "metadata": {},
     "output_type": "execute_result"
    }
   ],
   "source": [
    "data['comment_text'].iloc[-2]"
   ]
  },
  {
   "cell_type": "code",
   "execution_count": 42,
   "metadata": {},
   "outputs": [
    {
     "data": {
      "text/plain": [
       "'You died, admit it. His smile just made'"
      ]
     },
     "execution_count": 42,
     "metadata": {},
     "output_type": "execute_result"
    }
   ],
   "source": [
    "data['text_merge'].iloc[-2]"
   ]
  },
  {
   "cell_type": "code",
   "execution_count": 36,
   "metadata": {},
   "outputs": [
    {
     "data": {
      "text/plain": [
       "0          True\n",
       "1          True\n",
       "2          True\n",
       "3          True\n",
       "4          True\n",
       "          ...  \n",
       "289713    False\n",
       "289714    False\n",
       "289715    False\n",
       "289716    False\n",
       "289717    False\n",
       "Length: 289718, dtype: bool"
      ]
     },
     "execution_count": 36,
     "metadata": {},
     "output_type": "execute_result"
    }
   ],
   "source": [
    "data['comment_text'] == data['annotator_text']"
   ]
  },
  {
   "cell_type": "code",
   "execution_count": null,
   "metadata": {},
   "outputs": [],
   "source": []
  }
 ],
 "metadata": {
  "kernelspec": {
   "display_name": "hate",
   "language": "python",
   "name": "hate"
  },
  "language_info": {
   "codemirror_mode": {
    "name": "ipython",
    "version": 3
   },
   "file_extension": ".py",
   "mimetype": "text/x-python",
   "name": "python",
   "nbconvert_exporter": "python",
   "pygments_lexer": "ipython3",
   "version": "3.7.9"
  }
 },
 "nbformat": 4,
 "nbformat_minor": 4
}
