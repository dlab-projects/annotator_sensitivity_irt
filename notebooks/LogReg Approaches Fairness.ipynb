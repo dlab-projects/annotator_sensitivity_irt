{
 "cells": [
  {
   "cell_type": "code",
   "execution_count": 12,
   "id": "0cec07dc-aaf5-4ba9-8953-1fcaad1cfe05",
   "metadata": {},
   "outputs": [],
   "source": [
    "import numpy as np\n",
    "import pandas as pd\n",
    "import seaborn as sns\n",
    "\n",
    "\n",
    "import csv\n",
    "\n",
    "import os \n",
    "import sklearn\n",
    "from sklearn.preprocessing import OneHotEncoder\n",
    "\n",
    "from sklearn.linear_model import LassoCV\n",
    "from sklearn.linear_model import LogisticRegression\n",
    "from sklearn.model_selection import train_test_split\n",
    "from sklearn.metrics import confusion_matrix\n",
    "\n",
    "import statsmodels.api as sm\n",
    "\n",
    "import matplotlib.pyplot as plt\n",
    "%matplotlib inline"
   ]
  },
  {
   "cell_type": "code",
   "execution_count": null,
   "id": "88382eeb-8e34-43ca-b81f-5a092df25697",
   "metadata": {},
   "outputs": [],
   "source": []
  },
  {
   "cell_type": "code",
   "execution_count": 13,
   "id": "42661b52-ed4b-4853-ba07-adf18f6729e7",
   "metadata": {},
   "outputs": [
    {
     "data": {
      "text/html": [
       "<div>\n",
       "<style scoped>\n",
       "    .dataframe tbody tr th:only-of-type {\n",
       "        vertical-align: middle;\n",
       "    }\n",
       "\n",
       "    .dataframe tbody tr th {\n",
       "        vertical-align: top;\n",
       "    }\n",
       "\n",
       "    .dataframe thead th {\n",
       "        text-align: right;\n",
       "    }\n",
       "</style>\n",
       "<table border=\"1\" class=\"dataframe\">\n",
       "  <thead>\n",
       "    <tr style=\"text-align: right;\">\n",
       "      <th></th>\n",
       "      <th>sentiment</th>\n",
       "      <th>respect</th>\n",
       "      <th>insult</th>\n",
       "      <th>humiliate</th>\n",
       "      <th>status</th>\n",
       "      <th>dehumanize</th>\n",
       "      <th>violence_phys</th>\n",
       "      <th>genocide</th>\n",
       "      <th>attack_defend</th>\n",
       "      <th>hatespeech</th>\n",
       "      <th>...</th>\n",
       "      <th>demo_sexual_orien_2</th>\n",
       "      <th>demo_sexual_orien_3</th>\n",
       "      <th>demo_sexual_orien_4</th>\n",
       "      <th>demo_sexual_orien_5</th>\n",
       "      <th>demo_sexual_orien_4_text</th>\n",
       "      <th>demo_ideology</th>\n",
       "      <th>locationlatitude</th>\n",
       "      <th>locationlongitude</th>\n",
       "      <th>identity</th>\n",
       "      <th>hypothesis</th>\n",
       "    </tr>\n",
       "  </thead>\n",
       "  <tbody>\n",
       "    <tr>\n",
       "      <th>0</th>\n",
       "      <td>0.0</td>\n",
       "      <td>0.0</td>\n",
       "      <td>0.0</td>\n",
       "      <td>0.0</td>\n",
       "      <td>0.0</td>\n",
       "      <td>0.0</td>\n",
       "      <td>0.0</td>\n",
       "      <td>0.0</td>\n",
       "      <td>0.0</td>\n",
       "      <td>0.0</td>\n",
       "      <td>...</td>\n",
       "      <td>NaN</td>\n",
       "      <td>NaN</td>\n",
       "      <td>NaN</td>\n",
       "      <td>NaN</td>\n",
       "      <td></td>\n",
       "      <td>4.0</td>\n",
       "      <td>37.55029296875</td>\n",
       "      <td>-77.39420318603515625</td>\n",
       "      <td>0.917681</td>\n",
       "      <td>-1.130178</td>\n",
       "    </tr>\n",
       "    <tr>\n",
       "      <th>1</th>\n",
       "      <td>0.0</td>\n",
       "      <td>0.0</td>\n",
       "      <td>0.0</td>\n",
       "      <td>0.0</td>\n",
       "      <td>0.0</td>\n",
       "      <td>0.0</td>\n",
       "      <td>0.0</td>\n",
       "      <td>0.0</td>\n",
       "      <td>1.0</td>\n",
       "      <td>0.0</td>\n",
       "      <td>...</td>\n",
       "      <td>NaN</td>\n",
       "      <td>NaN</td>\n",
       "      <td>NaN</td>\n",
       "      <td>NaN</td>\n",
       "      <td></td>\n",
       "      <td>4.0</td>\n",
       "      <td>32.9568939208984375</td>\n",
       "      <td>-96.83170318603515625</td>\n",
       "      <td>0.918119</td>\n",
       "      <td>-1.146973</td>\n",
       "    </tr>\n",
       "    <tr>\n",
       "      <th>2</th>\n",
       "      <td>4.0</td>\n",
       "      <td>4.0</td>\n",
       "      <td>3.0</td>\n",
       "      <td>2.0</td>\n",
       "      <td>1.0</td>\n",
       "      <td>1.0</td>\n",
       "      <td>0.0</td>\n",
       "      <td>0.0</td>\n",
       "      <td>3.0</td>\n",
       "      <td>1.0</td>\n",
       "      <td>...</td>\n",
       "      <td>NaN</td>\n",
       "      <td>NaN</td>\n",
       "      <td>NaN</td>\n",
       "      <td>NaN</td>\n",
       "      <td></td>\n",
       "      <td>5.0</td>\n",
       "      <td>39.3361053466796875</td>\n",
       "      <td>-76.53890228271484375</td>\n",
       "      <td>0.985910</td>\n",
       "      <td>-0.207369</td>\n",
       "    </tr>\n",
       "    <tr>\n",
       "      <th>3</th>\n",
       "      <td>2.0</td>\n",
       "      <td>3.0</td>\n",
       "      <td>1.0</td>\n",
       "      <td>0.0</td>\n",
       "      <td>0.0</td>\n",
       "      <td>0.0</td>\n",
       "      <td>0.0</td>\n",
       "      <td>0.0</td>\n",
       "      <td>2.0</td>\n",
       "      <td>0.0</td>\n",
       "      <td>...</td>\n",
       "      <td>NaN</td>\n",
       "      <td>NaN</td>\n",
       "      <td>NaN</td>\n",
       "      <td>NaN</td>\n",
       "      <td></td>\n",
       "      <td>4.0</td>\n",
       "      <td>37.1439971923828125</td>\n",
       "      <td>-94.4727020263671875</td>\n",
       "      <td>0.969761</td>\n",
       "      <td>-0.055536</td>\n",
       "    </tr>\n",
       "    <tr>\n",
       "      <th>4</th>\n",
       "      <td>4.0</td>\n",
       "      <td>4.0</td>\n",
       "      <td>3.0</td>\n",
       "      <td>2.0</td>\n",
       "      <td>1.0</td>\n",
       "      <td>1.0</td>\n",
       "      <td>1.0</td>\n",
       "      <td>0.0</td>\n",
       "      <td>2.0</td>\n",
       "      <td>1.0</td>\n",
       "      <td>...</td>\n",
       "      <td>NaN</td>\n",
       "      <td>NaN</td>\n",
       "      <td>NaN</td>\n",
       "      <td>NaN</td>\n",
       "      <td></td>\n",
       "      <td>4.0</td>\n",
       "      <td>34.215301513671875</td>\n",
       "      <td>-79.64679718017578125</td>\n",
       "      <td>0.935462</td>\n",
       "      <td>0.104225</td>\n",
       "    </tr>\n",
       "  </tbody>\n",
       "</table>\n",
       "<p>5 rows × 135 columns</p>\n",
       "</div>"
      ],
      "text/plain": [
       "   sentiment  respect  insult  humiliate  status  dehumanize  violence_phys  \\\n",
       "0        0.0      0.0     0.0        0.0     0.0         0.0            0.0   \n",
       "1        0.0      0.0     0.0        0.0     0.0         0.0            0.0   \n",
       "2        4.0      4.0     3.0        2.0     1.0         1.0            0.0   \n",
       "3        2.0      3.0     1.0        0.0     0.0         0.0            0.0   \n",
       "4        4.0      4.0     3.0        2.0     1.0         1.0            1.0   \n",
       "\n",
       "   genocide  attack_defend  hatespeech  ...  demo_sexual_orien_2  \\\n",
       "0       0.0            0.0         0.0  ...                  NaN   \n",
       "1       0.0            1.0         0.0  ...                  NaN   \n",
       "2       0.0            3.0         1.0  ...                  NaN   \n",
       "3       0.0            2.0         0.0  ...                  NaN   \n",
       "4       0.0            2.0         1.0  ...                  NaN   \n",
       "\n",
       "  demo_sexual_orien_3 demo_sexual_orien_4 demo_sexual_orien_5  \\\n",
       "0                 NaN                 NaN                 NaN   \n",
       "1                 NaN                 NaN                 NaN   \n",
       "2                 NaN                 NaN                 NaN   \n",
       "3                 NaN                 NaN                 NaN   \n",
       "4                 NaN                 NaN                 NaN   \n",
       "\n",
       "   demo_sexual_orien_4_text  demo_ideology     locationlatitude  \\\n",
       "0                                      4.0       37.55029296875   \n",
       "1                                      4.0  32.9568939208984375   \n",
       "2                                      5.0  39.3361053466796875   \n",
       "3                                      4.0  37.1439971923828125   \n",
       "4                                      4.0   34.215301513671875   \n",
       "\n",
       "       locationlongitude  identity  hypothesis  \n",
       "0  -77.39420318603515625  0.917681   -1.130178  \n",
       "1  -96.83170318603515625  0.918119   -1.146973  \n",
       "2  -76.53890228271484375  0.985910   -0.207369  \n",
       "3   -94.4727020263671875  0.969761   -0.055536  \n",
       "4  -79.64679718017578125  0.935462    0.104225  \n",
       "\n",
       "[5 rows x 135 columns]"
      ]
     },
     "execution_count": 13,
     "metadata": {},
     "output_type": "execute_result"
    }
   ],
   "source": [
    "data_multi = pd.read_feather('/home/rbarreto/data/scaled-facets-multi-50k-v4.feather')\n",
    "data_multi.head(5)"
   ]
  },
  {
   "cell_type": "code",
   "execution_count": 3,
   "id": "26a40e59-fdf7-467b-b553-c9c55a9d0633",
   "metadata": {},
   "outputs": [
    {
     "data": {
      "text/plain": [
       "array(['sentiment', 'respect', 'insult', 'humiliate', 'status',\n",
       "       'dehumanize', 'violence_phys', 'genocide', 'attack_defend',\n",
       "       'hatespeech', 'comment_id', 'platform', 'uid', 'predict_text',\n",
       "       'measure', 'std_err', 'num_ratings', 'weight', 'has_targets',\n",
       "       'target_identity_count', 'labeler_id', 'rater_measure',\n",
       "       'rater_infitms', 'rater_outfitms', 'infitms', 'outfitms',\n",
       "       'target_identities_1', 'target_identities_2',\n",
       "       'target_identities_3', 'target_identities_4',\n",
       "       'target_identities_5', 'target_identities_6',\n",
       "       'target_identities_7', 'target_identities_9', 'target_race_1',\n",
       "       'target_race_2', 'target_race_3', 'target_race_8', 'target_race_4',\n",
       "       'target_race_5', 'target_race_6', 'target_race_7',\n",
       "       'target_race_7_text', 'target_religion_1', 'target_religion_2',\n",
       "       'target_religion_4', 'target_religion_5', 'target_religion_8',\n",
       "       'target_religion_9', 'target_religion_10', 'target_religion_6',\n",
       "       'target_religion_6_text', 'target_citizen_5', 'target_citizen_1',\n",
       "       'target_citizen_2', 'target_citizen_3', 'target_citizen_4',\n",
       "       'target_citizen_4_text', 'target_gender_1', 'target_gender_3',\n",
       "       'target_gender_2', 'target_gender_5', 'target_gender_6',\n",
       "       'target_gender_7', 'target_gender_4', 'target_gender_4_text',\n",
       "       'target_sexuality_1', 'target_sexuality_2', 'target_sexuality_6',\n",
       "       'target_sexuality_3', 'target_sexuality_5',\n",
       "       'target_sexuality_5_text', 'target_age_1', 'target_age_2',\n",
       "       'target_age_3', 'target_age_4', 'target_age_5', 'target_age_6',\n",
       "       'target_age_6_text', 'target_disability_1', 'target_disability_2',\n",
       "       'target_disability_3', 'target_disability_4',\n",
       "       'target_disability_5', 'target_disability_9',\n",
       "       'target_disability_6', 'target_disability_6_text',\n",
       "       'target_political_1', 'target_political_2', 'target_political_3',\n",
       "       'target_political_4', 'target_political_5', 'target_political_6',\n",
       "       'target_political_7', 'target_political_8', 'target_political_9',\n",
       "       'target_political_10', 'target_political_11',\n",
       "       'target_political_11_text', 'demo_gender', 'demo_gender_4_text',\n",
       "       'demo_trans', 'demo_educ', 'demo_race_ethnicitie_1',\n",
       "       'demo_race_ethnicitie_2', 'demo_race_ethnicitie_3',\n",
       "       'demo_race_ethnicitie_4', 'demo_race_ethnicitie_5',\n",
       "       'demo_race_ethnicitie_8', 'demo_race_ethnicitie_6',\n",
       "       'demo_race_ethnicitie_7', 'demo_race_ethnicitie_7_text',\n",
       "       'demo_age', 'demo_income', 'demo_religion_1', 'demo_religion_2',\n",
       "       'demo_religion_11', 'demo_religion_4', 'demo_religion_5',\n",
       "       'demo_religion_7', 'demo_religion_8', 'demo_religion_9',\n",
       "       'demo_religion_10', 'demo_religion_10_text', 'demo_sexual_orien_1',\n",
       "       'demo_sexual_orien_2', 'demo_sexual_orien_3',\n",
       "       'demo_sexual_orien_4', 'demo_sexual_orien_5',\n",
       "       'demo_sexual_orien_4_text', 'demo_ideology', 'locationlatitude',\n",
       "       'locationlongitude', 'identity', 'hypothesis'], dtype=object)"
      ]
     },
     "execution_count": 3,
     "metadata": {},
     "output_type": "execute_result"
    }
   ],
   "source": [
    "data_multi.columns.values"
   ]
  },
  {
   "cell_type": "markdown",
   "id": "fa02d45e-3288-4b38-ab5f-21b82ed91978",
   "metadata": {},
   "source": [
    "## Sentiment Score by NLTK VADER"
   ]
  },
  {
   "cell_type": "code",
   "execution_count": 14,
   "id": "9577ad0c-c931-49bd-ac5c-99ff7f91b4e9",
   "metadata": {},
   "outputs": [
    {
     "name": "stderr",
     "output_type": "stream",
     "text": [
      "[nltk_data] Downloading package vader_lexicon to\n",
      "[nltk_data]     /home/rbarreto/nltk_data...\n",
      "[nltk_data]   Package vader_lexicon is already up-to-date!\n"
     ]
    }
   ],
   "source": [
    "import nltk\n",
    "nltk.download('vader_lexicon')\n",
    "from nltk.sentiment import SentimentIntensityAnalyzer\n",
    "sia = SentimentIntensityAnalyzer()"
   ]
  },
  {
   "cell_type": "code",
   "execution_count": 15,
   "id": "709a770d-9a38-4d00-b998-a2f3913fd993",
   "metadata": {},
   "outputs": [],
   "source": [
    "data_multi['polarity'] = data_multi['predict_text'].map(lambda x:sia.polarity_scores(x))"
   ]
  },
  {
   "cell_type": "code",
   "execution_count": 16,
   "id": "59a9a842-0848-49d6-a6d8-c0fb4644b7ab",
   "metadata": {},
   "outputs": [
    {
     "name": "stdout",
     "output_type": "stream",
     "text": [
      "> True Yes indeed. She sort of reminds me of the elder lady that played the part in the movie \"Titanic\" who was telling her story!!! And I wouldn't have wanted to cover who I really am!! I would be proud!!!! WE should be proud of our race no matter what it is!!\n",
      "> True The trans women reading this tweet right now is beautiful\n",
      "> False Question: These 4 broads who criticize America, what country did they flee to get here? And now they want to make OUR America like THEIR former HELL HOLE. I don't think so!!!!!!!!!!  Let them explain their GRATITUDE for letting them in OUR country.\n",
      "> True It is about time for all illegals to go back to their country of origin and keep our freeway open and prevent heavy traffic.\n",
      "> False For starters bend over the one in pink and kick that ass and pussy to get a taste until she's begging for a dick inside her.\n",
      "> False Sounds like the kinda wholsesome life I'd die for ❤️ never met any black Lesbians before so i guess you're my first ever.\n",
      "> False Who the fuck is this insignificant simple minded redneck? When he gets a vagina he can decide what he wants to do with it.\n",
      "> False Fuck off you insufferable [SLUR] retarded [SLUR] faggot.\n",
      "> True OMG! The EGO's of these young, young, inexperienced women display are remarkable! So self absorbed - so, so proud of the mistakes their constituents all made in giving them a bit of power.  They'll be quite surprised to find that the vast majority of Americans think that these women represent the very WORST of \"modern\" America.  Egos out of control !!\n",
      "> False Worthless [SLUR] whore, these tits with look nice with bite marks and cum\n"
     ]
    }
   ],
   "source": [
    "from random import shuffle\n",
    "\n",
    "def is_positive(text:str) -> bool:\n",
    "    \"\"\"True if text has positive compound statement, False otherwise\"\"\"\n",
    "    return sia.polarity_scores(text)[\"compound\"] > 0\n",
    "\n",
    "for text in data_multi['predict_text'][:10]:\n",
    "    print(\">\", is_positive(text), text)"
   ]
  },
  {
   "cell_type": "code",
   "execution_count": 17,
   "id": "0ddb97b7-58a0-4ffc-8cd8-1b738f9ab0bf",
   "metadata": {},
   "outputs": [],
   "source": [
    "data_multi['polarity_binary'] = data_multi['predict_text'].map(lambda x:is_positive(x))"
   ]
  },
  {
   "cell_type": "code",
   "execution_count": 18,
   "id": "ccac4518-1b64-4e37-8a4f-10323c661ab4",
   "metadata": {},
   "outputs": [],
   "source": [
    "labels_polarity = []\n",
    "for boolean in data_multi['polarity_binary']:\n",
    "    if boolean == True:\n",
    "        labels_polarity.append(1)\n",
    "    else:\n",
    "        labels_polarity.append(0)"
   ]
  },
  {
   "cell_type": "code",
   "execution_count": 19,
   "id": "5ad6e961-dfb2-4309-a9cb-b2f942e852ae",
   "metadata": {},
   "outputs": [],
   "source": [
    "data_multi['labels_polarity'] = labels_polarity"
   ]
  },
  {
   "cell_type": "code",
   "execution_count": 22,
   "id": "6f4c888e-9f81-447e-82d6-f645e3320407",
   "metadata": {},
   "outputs": [],
   "source": [
    "def label_race(row):\n",
    "    if (row['demo_race_ethnicitie_1'] + row['demo_race_ethnicitie_2'] + \n",
    "    row['demo_race_ethnicitie_3'] + row['demo_race_ethnicitie_4'] + \n",
    "    row['demo_race_ethnicitie_5'] + row['demo_race_ethnicitie_6'] + \n",
    "    row['demo_race_ethnicitie_7'] + row['demo_race_ethnicitie_8'] > 1):\n",
    "        return 'two or more races'\n",
    "    if row['demo_race_ethnicitie_1'] == 1:\n",
    "        return 'american indian alaska native'\n",
    "    if row['demo_race_ethnicitie_2'] == 1:\n",
    "        return 'asian'\n",
    "    if row['demo_race_ethnicitie_3'] == 1:\n",
    "        return 'black'\n",
    "    if row['demo_race_ethnicitie_4'] == 1:\n",
    "        return 'latino'\n",
    "    if row['demo_race_ethnicitie_5'] == 1:\n",
    "        return 'native hawaiian pacific islander'\n",
    "    if row['demo_race_ethnicitie_6'] == 1:\n",
    "        return 'white'\n",
    "    if row['demo_race_ethnicitie_7'] == 1:\n",
    "        return 'other race'\n",
    "    if row['demo_race_ethnicitie_8'] == 1:\n",
    "        return 'middle eastern'\n",
    "    return 'unknown'"
   ]
  },
  {
   "cell_type": "code",
   "execution_count": 23,
   "id": "cbd52d24-8349-4f87-a853-3062baf7baa9",
   "metadata": {},
   "outputs": [],
   "source": [
    "data_multi['race_label'] = data_multi.replace(np.nan, 0).apply(label_race, axis=1) #axis =1 means application is done at row rather than column lelvel"
   ]
  },
  {
   "cell_type": "markdown",
   "id": "2c93d039-b75c-4db2-ba53-1c63df56e739",
   "metadata": {},
   "source": [
    "## Logistic Regression on Data Targeted by Race"
   ]
  },
  {
   "cell_type": "code",
   "execution_count": 24,
   "id": "19830b6a-b632-46b1-b8f4-e14b28e51353",
   "metadata": {},
   "outputs": [
    {
     "data": {
      "text/plain": [
       "1.0    48359\n",
       "Name: target_identities_1, dtype: int64"
      ]
     },
     "execution_count": 24,
     "metadata": {},
     "output_type": "execute_result"
    }
   ],
   "source": [
    "data_multi['target_identities_1'].value_counts()"
   ]
  },
  {
   "cell_type": "code",
   "execution_count": 11,
   "id": "9d076a6b-4d17-4d81-b511-7c594eb395cf",
   "metadata": {},
   "outputs": [
    {
     "data": {
      "text/plain": [
       "135556"
      ]
     },
     "execution_count": 11,
     "metadata": {},
     "output_type": "execute_result"
    }
   ],
   "source": [
    "len(data_multi)"
   ]
  },
  {
   "cell_type": "code",
   "execution_count": 25,
   "id": "534476ef-c802-4e1b-950f-b2fdfdd4e246",
   "metadata": {},
   "outputs": [],
   "source": [
    "data_race = data_multi[data_multi['target_identities_1'] == 1]"
   ]
  },
  {
   "cell_type": "code",
   "execution_count": 26,
   "id": "e1e9dac6-1905-4cfc-9802-d057dfa6a3cd",
   "metadata": {},
   "outputs": [
    {
     "data": {
      "text/plain": [
       "48359"
      ]
     },
     "execution_count": 26,
     "metadata": {},
     "output_type": "execute_result"
    }
   ],
   "source": [
    "len(data_race)"
   ]
  },
  {
   "cell_type": "code",
   "execution_count": 27,
   "id": "758771c3-b53f-4fe3-b154-80b4159e7ad0",
   "metadata": {},
   "outputs": [],
   "source": [
    "X_2 = data_race"
   ]
  },
  {
   "cell_type": "code",
   "execution_count": 28,
   "id": "4e47dd2a-03a3-41a4-bbd5-08bc394cb097",
   "metadata": {},
   "outputs": [
    {
     "name": "stderr",
     "output_type": "stream",
     "text": [
      "<ipython-input-28-961b824b6a88>:2: SettingWithCopyWarning: \n",
      "A value is trying to be set on a copy of a slice from a DataFrame.\n",
      "Try using .loc[row_indexer,col_indexer] = value instead\n",
      "\n",
      "See the caveats in the documentation: https://pandas.pydata.org/pandas-docs/stable/user_guide/indexing.html#returning-a-view-versus-a-copy\n",
      "  X_2['black_labeler_black_target'] = X_2['target_race_1'] * X_2['demo_race_ethnicitie_3']\n",
      "<ipython-input-28-961b824b6a88>:6: SettingWithCopyWarning: \n",
      "A value is trying to be set on a copy of a slice from a DataFrame.\n",
      "Try using .loc[row_indexer,col_indexer] = value instead\n",
      "\n",
      "See the caveats in the documentation: https://pandas.pydata.org/pandas-docs/stable/user_guide/indexing.html#returning-a-view-versus-a-copy\n",
      "  X_2['white_labeler_black_target'] = X_2['target_race_1'] * X_2['demo_race_ethnicitie_6']\n",
      "<ipython-input-28-961b824b6a88>:10: SettingWithCopyWarning: \n",
      "A value is trying to be set on a copy of a slice from a DataFrame.\n",
      "Try using .loc[row_indexer,col_indexer] = value instead\n",
      "\n",
      "See the caveats in the documentation: https://pandas.pydata.org/pandas-docs/stable/user_guide/indexing.html#returning-a-view-versus-a-copy\n",
      "  X_2['black_labeler_white_target'] = X_2['target_race_6'] * X_2['demo_race_ethnicitie_3']\n",
      "<ipython-input-28-961b824b6a88>:14: SettingWithCopyWarning: \n",
      "A value is trying to be set on a copy of a slice from a DataFrame.\n",
      "Try using .loc[row_indexer,col_indexer] = value instead\n",
      "\n",
      "See the caveats in the documentation: https://pandas.pydata.org/pandas-docs/stable/user_guide/indexing.html#returning-a-view-versus-a-copy\n",
      "  X_2['white_labeler_white_target'] = X_2['target_race_6'] * X_2['demo_race_ethnicitie_6']\n"
     ]
    }
   ],
   "source": [
    "#black labeler, black target\n",
    "X_2['black_labeler_black_target'] = X_2['target_race_1'] * X_2['demo_race_ethnicitie_3']\n",
    "\n",
    "#white labeler, black target\n",
    "\n",
    "X_2['white_labeler_black_target'] = X_2['target_race_1'] * X_2['demo_race_ethnicitie_6']\n",
    "\n",
    "#black labeler, white target\n",
    "\n",
    "X_2['black_labeler_white_target'] = X_2['target_race_6'] * X_2['demo_race_ethnicitie_3']\n",
    "\n",
    "#white labeler, white target\n",
    "\n",
    "X_2['white_labeler_white_target'] = X_2['target_race_6'] * X_2['demo_race_ethnicitie_6']"
   ]
  },
  {
   "cell_type": "code",
   "execution_count": 29,
   "id": "2ba6a834-3e0e-4ea9-a541-3b2281d364fb",
   "metadata": {},
   "outputs": [
    {
     "data": {
      "text/plain": [
       "array(['sentiment', 'respect', 'insult', 'humiliate', 'status',\n",
       "       'dehumanize', 'violence_phys', 'genocide', 'attack_defend',\n",
       "       'hatespeech', 'comment_id', 'platform', 'uid', 'predict_text',\n",
       "       'measure', 'std_err', 'num_ratings', 'weight', 'has_targets',\n",
       "       'target_identity_count', 'labeler_id', 'rater_measure',\n",
       "       'rater_infitms', 'rater_outfitms', 'infitms', 'outfitms',\n",
       "       'target_identities_1', 'target_identities_2',\n",
       "       'target_identities_3', 'target_identities_4',\n",
       "       'target_identities_5', 'target_identities_6',\n",
       "       'target_identities_7', 'target_identities_9', 'target_race_1',\n",
       "       'target_race_2', 'target_race_3', 'target_race_8', 'target_race_4',\n",
       "       'target_race_5', 'target_race_6', 'target_race_7',\n",
       "       'target_race_7_text', 'target_religion_1', 'target_religion_2',\n",
       "       'target_religion_4', 'target_religion_5', 'target_religion_8',\n",
       "       'target_religion_9', 'target_religion_10', 'target_religion_6',\n",
       "       'target_religion_6_text', 'target_citizen_5', 'target_citizen_1',\n",
       "       'target_citizen_2', 'target_citizen_3', 'target_citizen_4',\n",
       "       'target_citizen_4_text', 'target_gender_1', 'target_gender_3',\n",
       "       'target_gender_2', 'target_gender_5', 'target_gender_6',\n",
       "       'target_gender_7', 'target_gender_4', 'target_gender_4_text',\n",
       "       'target_sexuality_1', 'target_sexuality_2', 'target_sexuality_6',\n",
       "       'target_sexuality_3', 'target_sexuality_5',\n",
       "       'target_sexuality_5_text', 'target_age_1', 'target_age_2',\n",
       "       'target_age_3', 'target_age_4', 'target_age_5', 'target_age_6',\n",
       "       'target_age_6_text', 'target_disability_1', 'target_disability_2',\n",
       "       'target_disability_3', 'target_disability_4',\n",
       "       'target_disability_5', 'target_disability_9',\n",
       "       'target_disability_6', 'target_disability_6_text',\n",
       "       'target_political_1', 'target_political_2', 'target_political_3',\n",
       "       'target_political_4', 'target_political_5', 'target_political_6',\n",
       "       'target_political_7', 'target_political_8', 'target_political_9',\n",
       "       'target_political_10', 'target_political_11',\n",
       "       'target_political_11_text', 'demo_gender', 'demo_gender_4_text',\n",
       "       'demo_trans', 'demo_educ', 'demo_race_ethnicitie_1',\n",
       "       'demo_race_ethnicitie_2', 'demo_race_ethnicitie_3',\n",
       "       'demo_race_ethnicitie_4', 'demo_race_ethnicitie_5',\n",
       "       'demo_race_ethnicitie_8', 'demo_race_ethnicitie_6',\n",
       "       'demo_race_ethnicitie_7', 'demo_race_ethnicitie_7_text',\n",
       "       'demo_age', 'demo_income', 'demo_religion_1', 'demo_religion_2',\n",
       "       'demo_religion_11', 'demo_religion_4', 'demo_religion_5',\n",
       "       'demo_religion_7', 'demo_religion_8', 'demo_religion_9',\n",
       "       'demo_religion_10', 'demo_religion_10_text', 'demo_sexual_orien_1',\n",
       "       'demo_sexual_orien_2', 'demo_sexual_orien_3',\n",
       "       'demo_sexual_orien_4', 'demo_sexual_orien_5',\n",
       "       'demo_sexual_orien_4_text', 'demo_ideology', 'locationlatitude',\n",
       "       'locationlongitude', 'identity', 'hypothesis', 'polarity',\n",
       "       'polarity_binary', 'labels_polarity', 'race_label',\n",
       "       'black_labeler_black_target', 'white_labeler_black_target',\n",
       "       'black_labeler_white_target', 'white_labeler_white_target'],\n",
       "      dtype=object)"
      ]
     },
     "execution_count": 29,
     "metadata": {},
     "output_type": "execute_result"
    }
   ],
   "source": [
    "X_2.columns.values"
   ]
  },
  {
   "cell_type": "code",
   "execution_count": 30,
   "id": "74baf560-91e7-4025-b3ea-1880af4b6ea6",
   "metadata": {},
   "outputs": [],
   "source": [
    "features = ['target_race_1', 'target_race_2', 'target_race_3', 'target_race_4', 'target_race_5', 'target_race_6',\n",
    "            'demo_race_ethnicitie_1', 'demo_race_ethnicitie_2', 'demo_race_ethnicitie_3', 'demo_race_ethnicitie_4',\n",
    "            'demo_race_ethnicitie_5', 'demo_race_ethnicitie_6', 'black_labeler_black_target', 'white_labeler_black_target',\n",
    "            'labels_polarity']"
   ]
  },
  {
   "cell_type": "code",
   "execution_count": 31,
   "id": "c7d136b0-84b8-44c0-87ee-d645b1b2b14a",
   "metadata": {},
   "outputs": [],
   "source": [
    "X_2 = X_2[features]"
   ]
  },
  {
   "cell_type": "code",
   "execution_count": 32,
   "id": "3f3ca4a1-b670-47b7-8aa2-3262e753d6c3",
   "metadata": {},
   "outputs": [
    {
     "data": {
      "text/plain": [
       "Index(['target_race_1', 'target_race_2', 'target_race_3', 'target_race_4',\n",
       "       'target_race_5', 'target_race_6', 'demo_race_ethnicitie_1',\n",
       "       'demo_race_ethnicitie_2', 'demo_race_ethnicitie_3',\n",
       "       'demo_race_ethnicitie_4', 'demo_race_ethnicitie_5',\n",
       "       'demo_race_ethnicitie_6', 'black_labeler_black_target',\n",
       "       'white_labeler_black_target', 'labels_polarity'],\n",
       "      dtype='object')"
      ]
     },
     "execution_count": 32,
     "metadata": {},
     "output_type": "execute_result"
    }
   ],
   "source": [
    "X_2.columns"
   ]
  },
  {
   "cell_type": "code",
   "execution_count": 33,
   "id": "c0c3908a-9295-4773-8a49-e75b257e1597",
   "metadata": {},
   "outputs": [],
   "source": [
    "log_reg = LogisticRegression()"
   ]
  },
  {
   "cell_type": "code",
   "execution_count": 34,
   "id": "ee2e3b9b-8554-432e-afa1-1927d7a3ee4c",
   "metadata": {},
   "outputs": [
    {
     "data": {
      "text/plain": [
       "array([0., 0., 1., ..., 0., 0., 0.])"
      ]
     },
     "execution_count": 34,
     "metadata": {},
     "output_type": "execute_result"
    }
   ],
   "source": [
    "y = data_multi[data_multi['target_identities_1'] == 1]['dehumanize'].values\n",
    "y"
   ]
  },
  {
   "cell_type": "code",
   "execution_count": 35,
   "id": "15ac27a0-e39b-48a9-b883-916dcaf4d496",
   "metadata": {},
   "outputs": [
    {
     "data": {
      "text/html": [
       "<div>\n",
       "<style scoped>\n",
       "    .dataframe tbody tr th:only-of-type {\n",
       "        vertical-align: middle;\n",
       "    }\n",
       "\n",
       "    .dataframe tbody tr th {\n",
       "        vertical-align: top;\n",
       "    }\n",
       "\n",
       "    .dataframe thead th {\n",
       "        text-align: right;\n",
       "    }\n",
       "</style>\n",
       "<table border=\"1\" class=\"dataframe\">\n",
       "  <thead>\n",
       "    <tr style=\"text-align: right;\">\n",
       "      <th></th>\n",
       "      <th>target_race_1</th>\n",
       "      <th>target_race_2</th>\n",
       "      <th>target_race_3</th>\n",
       "      <th>target_race_4</th>\n",
       "      <th>target_race_5</th>\n",
       "      <th>target_race_6</th>\n",
       "      <th>demo_race_ethnicitie_1</th>\n",
       "      <th>demo_race_ethnicitie_2</th>\n",
       "      <th>demo_race_ethnicitie_3</th>\n",
       "      <th>demo_race_ethnicitie_4</th>\n",
       "      <th>demo_race_ethnicitie_5</th>\n",
       "      <th>demo_race_ethnicitie_6</th>\n",
       "      <th>black_labeler_black_target</th>\n",
       "      <th>white_labeler_black_target</th>\n",
       "      <th>labels_polarity</th>\n",
       "    </tr>\n",
       "  </thead>\n",
       "  <tbody>\n",
       "    <tr>\n",
       "      <th>0</th>\n",
       "      <td>1.0</td>\n",
       "      <td>1.0</td>\n",
       "      <td>1.0</td>\n",
       "      <td>1.0</td>\n",
       "      <td>1.0</td>\n",
       "      <td>1.0</td>\n",
       "      <td>NaN</td>\n",
       "      <td>NaN</td>\n",
       "      <td>NaN</td>\n",
       "      <td>NaN</td>\n",
       "      <td>NaN</td>\n",
       "      <td>1.0</td>\n",
       "      <td>NaN</td>\n",
       "      <td>1.0</td>\n",
       "      <td>1</td>\n",
       "    </tr>\n",
       "    <tr>\n",
       "      <th>5</th>\n",
       "      <td>1.0</td>\n",
       "      <td>NaN</td>\n",
       "      <td>NaN</td>\n",
       "      <td>NaN</td>\n",
       "      <td>NaN</td>\n",
       "      <td>NaN</td>\n",
       "      <td>NaN</td>\n",
       "      <td>NaN</td>\n",
       "      <td>NaN</td>\n",
       "      <td>NaN</td>\n",
       "      <td>NaN</td>\n",
       "      <td>1.0</td>\n",
       "      <td>NaN</td>\n",
       "      <td>1.0</td>\n",
       "      <td>0</td>\n",
       "    </tr>\n",
       "    <tr>\n",
       "      <th>6</th>\n",
       "      <td>NaN</td>\n",
       "      <td>NaN</td>\n",
       "      <td>NaN</td>\n",
       "      <td>NaN</td>\n",
       "      <td>NaN</td>\n",
       "      <td>1.0</td>\n",
       "      <td>NaN</td>\n",
       "      <td>NaN</td>\n",
       "      <td>1.0</td>\n",
       "      <td>NaN</td>\n",
       "      <td>NaN</td>\n",
       "      <td>NaN</td>\n",
       "      <td>NaN</td>\n",
       "      <td>NaN</td>\n",
       "      <td>0</td>\n",
       "    </tr>\n",
       "    <tr>\n",
       "      <th>13</th>\n",
       "      <td>NaN</td>\n",
       "      <td>NaN</td>\n",
       "      <td>NaN</td>\n",
       "      <td>NaN</td>\n",
       "      <td>NaN</td>\n",
       "      <td>NaN</td>\n",
       "      <td>NaN</td>\n",
       "      <td>NaN</td>\n",
       "      <td>NaN</td>\n",
       "      <td>NaN</td>\n",
       "      <td>NaN</td>\n",
       "      <td>1.0</td>\n",
       "      <td>NaN</td>\n",
       "      <td>NaN</td>\n",
       "      <td>0</td>\n",
       "    </tr>\n",
       "    <tr>\n",
       "      <th>14</th>\n",
       "      <td>NaN</td>\n",
       "      <td>NaN</td>\n",
       "      <td>NaN</td>\n",
       "      <td>NaN</td>\n",
       "      <td>NaN</td>\n",
       "      <td>1.0</td>\n",
       "      <td>1.0</td>\n",
       "      <td>NaN</td>\n",
       "      <td>1.0</td>\n",
       "      <td>NaN</td>\n",
       "      <td>NaN</td>\n",
       "      <td>1.0</td>\n",
       "      <td>NaN</td>\n",
       "      <td>NaN</td>\n",
       "      <td>0</td>\n",
       "    </tr>\n",
       "    <tr>\n",
       "      <th>...</th>\n",
       "      <td>...</td>\n",
       "      <td>...</td>\n",
       "      <td>...</td>\n",
       "      <td>...</td>\n",
       "      <td>...</td>\n",
       "      <td>...</td>\n",
       "      <td>...</td>\n",
       "      <td>...</td>\n",
       "      <td>...</td>\n",
       "      <td>...</td>\n",
       "      <td>...</td>\n",
       "      <td>...</td>\n",
       "      <td>...</td>\n",
       "      <td>...</td>\n",
       "      <td>...</td>\n",
       "    </tr>\n",
       "    <tr>\n",
       "      <th>135545</th>\n",
       "      <td>NaN</td>\n",
       "      <td>NaN</td>\n",
       "      <td>NaN</td>\n",
       "      <td>NaN</td>\n",
       "      <td>NaN</td>\n",
       "      <td>NaN</td>\n",
       "      <td>NaN</td>\n",
       "      <td>NaN</td>\n",
       "      <td>NaN</td>\n",
       "      <td>NaN</td>\n",
       "      <td>NaN</td>\n",
       "      <td>1.0</td>\n",
       "      <td>NaN</td>\n",
       "      <td>NaN</td>\n",
       "      <td>0</td>\n",
       "    </tr>\n",
       "    <tr>\n",
       "      <th>135548</th>\n",
       "      <td>NaN</td>\n",
       "      <td>NaN</td>\n",
       "      <td>NaN</td>\n",
       "      <td>NaN</td>\n",
       "      <td>NaN</td>\n",
       "      <td>NaN</td>\n",
       "      <td>NaN</td>\n",
       "      <td>NaN</td>\n",
       "      <td>NaN</td>\n",
       "      <td>NaN</td>\n",
       "      <td>NaN</td>\n",
       "      <td>1.0</td>\n",
       "      <td>NaN</td>\n",
       "      <td>NaN</td>\n",
       "      <td>1</td>\n",
       "    </tr>\n",
       "    <tr>\n",
       "      <th>135549</th>\n",
       "      <td>NaN</td>\n",
       "      <td>NaN</td>\n",
       "      <td>NaN</td>\n",
       "      <td>NaN</td>\n",
       "      <td>NaN</td>\n",
       "      <td>NaN</td>\n",
       "      <td>NaN</td>\n",
       "      <td>NaN</td>\n",
       "      <td>NaN</td>\n",
       "      <td>NaN</td>\n",
       "      <td>NaN</td>\n",
       "      <td>1.0</td>\n",
       "      <td>NaN</td>\n",
       "      <td>NaN</td>\n",
       "      <td>0</td>\n",
       "    </tr>\n",
       "    <tr>\n",
       "      <th>135550</th>\n",
       "      <td>NaN</td>\n",
       "      <td>NaN</td>\n",
       "      <td>NaN</td>\n",
       "      <td>NaN</td>\n",
       "      <td>NaN</td>\n",
       "      <td>NaN</td>\n",
       "      <td>NaN</td>\n",
       "      <td>NaN</td>\n",
       "      <td>NaN</td>\n",
       "      <td>NaN</td>\n",
       "      <td>NaN</td>\n",
       "      <td>1.0</td>\n",
       "      <td>NaN</td>\n",
       "      <td>NaN</td>\n",
       "      <td>0</td>\n",
       "    </tr>\n",
       "    <tr>\n",
       "      <th>135552</th>\n",
       "      <td>NaN</td>\n",
       "      <td>NaN</td>\n",
       "      <td>NaN</td>\n",
       "      <td>NaN</td>\n",
       "      <td>NaN</td>\n",
       "      <td>NaN</td>\n",
       "      <td>NaN</td>\n",
       "      <td>NaN</td>\n",
       "      <td>NaN</td>\n",
       "      <td>NaN</td>\n",
       "      <td>NaN</td>\n",
       "      <td>1.0</td>\n",
       "      <td>NaN</td>\n",
       "      <td>NaN</td>\n",
       "      <td>0</td>\n",
       "    </tr>\n",
       "  </tbody>\n",
       "</table>\n",
       "<p>48359 rows × 15 columns</p>\n",
       "</div>"
      ],
      "text/plain": [
       "        target_race_1  target_race_2  target_race_3  target_race_4  \\\n",
       "0                 1.0            1.0            1.0            1.0   \n",
       "5                 1.0            NaN            NaN            NaN   \n",
       "6                 NaN            NaN            NaN            NaN   \n",
       "13                NaN            NaN            NaN            NaN   \n",
       "14                NaN            NaN            NaN            NaN   \n",
       "...               ...            ...            ...            ...   \n",
       "135545            NaN            NaN            NaN            NaN   \n",
       "135548            NaN            NaN            NaN            NaN   \n",
       "135549            NaN            NaN            NaN            NaN   \n",
       "135550            NaN            NaN            NaN            NaN   \n",
       "135552            NaN            NaN            NaN            NaN   \n",
       "\n",
       "        target_race_5  target_race_6  demo_race_ethnicitie_1  \\\n",
       "0                 1.0            1.0                     NaN   \n",
       "5                 NaN            NaN                     NaN   \n",
       "6                 NaN            1.0                     NaN   \n",
       "13                NaN            NaN                     NaN   \n",
       "14                NaN            1.0                     1.0   \n",
       "...               ...            ...                     ...   \n",
       "135545            NaN            NaN                     NaN   \n",
       "135548            NaN            NaN                     NaN   \n",
       "135549            NaN            NaN                     NaN   \n",
       "135550            NaN            NaN                     NaN   \n",
       "135552            NaN            NaN                     NaN   \n",
       "\n",
       "        demo_race_ethnicitie_2  demo_race_ethnicitie_3  \\\n",
       "0                          NaN                     NaN   \n",
       "5                          NaN                     NaN   \n",
       "6                          NaN                     1.0   \n",
       "13                         NaN                     NaN   \n",
       "14                         NaN                     1.0   \n",
       "...                        ...                     ...   \n",
       "135545                     NaN                     NaN   \n",
       "135548                     NaN                     NaN   \n",
       "135549                     NaN                     NaN   \n",
       "135550                     NaN                     NaN   \n",
       "135552                     NaN                     NaN   \n",
       "\n",
       "        demo_race_ethnicitie_4  demo_race_ethnicitie_5  \\\n",
       "0                          NaN                     NaN   \n",
       "5                          NaN                     NaN   \n",
       "6                          NaN                     NaN   \n",
       "13                         NaN                     NaN   \n",
       "14                         NaN                     NaN   \n",
       "...                        ...                     ...   \n",
       "135545                     NaN                     NaN   \n",
       "135548                     NaN                     NaN   \n",
       "135549                     NaN                     NaN   \n",
       "135550                     NaN                     NaN   \n",
       "135552                     NaN                     NaN   \n",
       "\n",
       "        demo_race_ethnicitie_6  black_labeler_black_target  \\\n",
       "0                          1.0                         NaN   \n",
       "5                          1.0                         NaN   \n",
       "6                          NaN                         NaN   \n",
       "13                         1.0                         NaN   \n",
       "14                         1.0                         NaN   \n",
       "...                        ...                         ...   \n",
       "135545                     1.0                         NaN   \n",
       "135548                     1.0                         NaN   \n",
       "135549                     1.0                         NaN   \n",
       "135550                     1.0                         NaN   \n",
       "135552                     1.0                         NaN   \n",
       "\n",
       "        white_labeler_black_target  labels_polarity  \n",
       "0                              1.0                1  \n",
       "5                              1.0                0  \n",
       "6                              NaN                0  \n",
       "13                             NaN                0  \n",
       "14                             NaN                0  \n",
       "...                            ...              ...  \n",
       "135545                         NaN                0  \n",
       "135548                         NaN                1  \n",
       "135549                         NaN                0  \n",
       "135550                         NaN                0  \n",
       "135552                         NaN                0  \n",
       "\n",
       "[48359 rows x 15 columns]"
      ]
     },
     "execution_count": 35,
     "metadata": {},
     "output_type": "execute_result"
    }
   ],
   "source": [
    "X_2 = pd.get_dummies(X_2)\n",
    "X_2"
   ]
  },
  {
   "cell_type": "code",
   "execution_count": 36,
   "id": "106d2f4e-e12f-4df0-9a42-b0200e211a07",
   "metadata": {},
   "outputs": [],
   "source": [
    "X_2 = X_2.fillna(0)"
   ]
  },
  {
   "cell_type": "code",
   "execution_count": 37,
   "id": "2500fcdb-4aed-438c-b3f1-78c092ebb97d",
   "metadata": {},
   "outputs": [],
   "source": [
    "#making train test split here \n",
    "X_2_train, X_2_test, y_train, y_test = train_test_split(X_2, y, test_size = .25)"
   ]
  },
  {
   "cell_type": "code",
   "execution_count": 38,
   "id": "404571b9-6884-449c-8c49-1d003aa0df23",
   "metadata": {},
   "outputs": [
    {
     "data": {
      "text/plain": [
       "LogisticRegression()"
      ]
     },
     "execution_count": 38,
     "metadata": {},
     "output_type": "execute_result"
    }
   ],
   "source": [
    "log_reg.fit(X_2_train, y_train)"
   ]
  },
  {
   "cell_type": "code",
   "execution_count": 39,
   "id": "4a2601d0-c887-433e-8350-1a8238eb9fda",
   "metadata": {},
   "outputs": [
    {
     "data": {
      "text/plain": [
       "array([[ 0.06323651,  0.53804321,  0.31561404, -1.22787615, -0.4012416 ,\n",
       "        -0.68275751, -0.10340538, -0.07544181, -0.19389152, -0.03819315,\n",
       "         0.09324866, -0.12956404,  0.18871961,  0.00693671, -1.06019905]])"
      ]
     },
     "execution_count": 39,
     "metadata": {},
     "output_type": "execute_result"
    }
   ],
   "source": [
    "log_reg.coef_"
   ]
  },
  {
   "cell_type": "code",
   "execution_count": 40,
   "id": "01995a8a-4757-4151-a498-d11a3afbac2d",
   "metadata": {},
   "outputs": [
    {
     "name": "stdout",
     "output_type": "stream",
     "text": [
      "0.615098293308335\n"
     ]
    }
   ],
   "source": [
    "print(log_reg.score(X_2_train, y_train))"
   ]
  },
  {
   "cell_type": "code",
   "execution_count": 41,
   "id": "24fea421-cdd0-4fa0-97c3-c536ef3da474",
   "metadata": {},
   "outputs": [
    {
     "name": "stdout",
     "output_type": "stream",
     "text": [
      "0.6152191894127378\n"
     ]
    }
   ],
   "source": [
    "print(log_reg.score(X_2_test, y_test))"
   ]
  },
  {
   "cell_type": "code",
   "execution_count": 42,
   "id": "b8834a33-6914-4dd5-a4e3-4de212a5d0a9",
   "metadata": {},
   "outputs": [
    {
     "name": "stdout",
     "output_type": "stream",
     "text": [
      "Optimization terminated successfully.\n",
      "         Current function value: 0.643344\n",
      "         Iterations 5\n"
     ]
    }
   ],
   "source": [
    "results = sm.Logit(y_train, X_2_train).fit()"
   ]
  },
  {
   "cell_type": "code",
   "execution_count": 34,
   "id": "820338a4-78b2-4cb1-b3ee-ddcac350f654",
   "metadata": {},
   "outputs": [
    {
     "name": "stdout",
     "output_type": "stream",
     "text": [
      "                           Logit Regression Results                           \n",
      "==============================================================================\n",
      "Dep. Variable:                      y   No. Observations:                36269\n",
      "Model:                          Logit   Df Residuals:                    36254\n",
      "Method:                           MLE   Df Model:                           14\n",
      "Date:                Tue, 21 Sep 2021   Pseudo R-squ.:                 0.06101\n",
      "Time:                        14:07:41   Log-Likelihood:                -23323.\n",
      "converged:                       True   LL-Null:                       -24839.\n",
      "Covariance Type:            nonrobust   LLR p-value:                     0.000\n",
      "==============================================================================================\n",
      "                                 coef    std err          z      P>|z|      [0.025      0.975]\n",
      "----------------------------------------------------------------------------------------------\n",
      "target_race_1                  0.0707      0.053      1.324      0.185      -0.034       0.175\n",
      "target_race_2                  0.5552      0.032     17.280      0.000       0.492       0.618\n",
      "target_race_3                  0.3274      0.037      8.932      0.000       0.256       0.399\n",
      "target_race_4                 -1.2308      0.077    -15.896      0.000      -1.383      -1.079\n",
      "target_race_5                 -0.3082      0.086     -3.575      0.000      -0.477      -0.139\n",
      "target_race_6                 -0.6738      0.030    -22.624      0.000      -0.732      -0.615\n",
      "demo_race_ethnicitie_1        -0.1650      0.080     -2.050      0.040      -0.323      -0.007\n",
      "demo_race_ethnicitie_2         0.0011      0.046      0.024      0.981      -0.089       0.091\n",
      "demo_race_ethnicitie_3        -0.0628      0.050     -1.268      0.205      -0.160       0.034\n",
      "demo_race_ethnicitie_4         0.0524      0.044      1.203      0.229      -0.033       0.138\n",
      "demo_race_ethnicitie_5         0.0081      0.177      0.045      0.964      -0.339       0.356\n",
      "demo_race_ethnicitie_6        -0.0215      0.022     -0.978      0.328      -0.065       0.022\n",
      "black_labeler_black_target     0.1310      0.083      1.576      0.115      -0.032       0.294\n",
      "white_labeler_black_target     0.0042      0.058      0.072      0.943      -0.110       0.119\n",
      "labels_polarity               -1.0674      0.029    -37.046      0.000      -1.124      -1.011\n",
      "==============================================================================================\n"
     ]
    }
   ],
   "source": [
    "print(results.summary())\n"
   ]
  },
  {
   "cell_type": "markdown",
   "id": "b9fafc9c-0818-4884-badb-23ec32d1455b",
   "metadata": {},
   "source": [
    "### Logistic Regression on Data Targeting Black "
   ]
  },
  {
   "cell_type": "code",
   "execution_count": 38,
   "id": "99331dfc-cdc0-4e80-8b51-6f0266f2aa1c",
   "metadata": {},
   "outputs": [],
   "source": [
    "data_black = data_multi[data_multi['target_race_1'] == 1]"
   ]
  },
  {
   "cell_type": "code",
   "execution_count": 39,
   "id": "74847638-b606-4f14-8f87-58238d8d33db",
   "metadata": {},
   "outputs": [],
   "source": [
    "X_2 = data_black"
   ]
  },
  {
   "cell_type": "code",
   "execution_count": 43,
   "id": "2e515c4c-93a6-462d-bf43-b49ac85e1909",
   "metadata": {},
   "outputs": [],
   "source": [
    "features = ['demo_race_ethnicitie_1', 'demo_race_ethnicitie_2', 'demo_race_ethnicitie_3', 'demo_race_ethnicitie_4', 'demo_race_ethnicitie_5', 'demo_race_ethnicitie_6', 'labels_polarity']"
   ]
  },
  {
   "cell_type": "code",
   "execution_count": 44,
   "id": "7c483186-577d-4643-8138-ee06ee37df69",
   "metadata": {},
   "outputs": [],
   "source": [
    "X_2 = X_2[features]"
   ]
  },
  {
   "cell_type": "code",
   "execution_count": 46,
   "id": "9dadd3bc-60bc-4fba-b2ca-5eaaad54bf4d",
   "metadata": {},
   "outputs": [
    {
     "data": {
      "text/plain": [
       "array(['demo_race_ethnicitie_1', 'demo_race_ethnicitie_2',\n",
       "       'demo_race_ethnicitie_3', 'demo_race_ethnicitie_4',\n",
       "       'demo_race_ethnicitie_5', 'demo_race_ethnicitie_6',\n",
       "       'labels_polarity'], dtype=object)"
      ]
     },
     "execution_count": 46,
     "metadata": {},
     "output_type": "execute_result"
    }
   ],
   "source": [
    "X_2.columns.values"
   ]
  },
  {
   "cell_type": "code",
   "execution_count": 49,
   "id": "4131c043-f0c6-42cf-a287-1f276c7be7d8",
   "metadata": {},
   "outputs": [
    {
     "data": {
      "text/plain": [
       "array([0., 0., 0., ..., 0., 0., 0.])"
      ]
     },
     "execution_count": 49,
     "metadata": {},
     "output_type": "execute_result"
    }
   ],
   "source": [
    "y = data_multi[data_multi['target_race_1'] == 1]['dehumanize'].values\n",
    "y\n"
   ]
  },
  {
   "cell_type": "code",
   "execution_count": 50,
   "id": "2bb750c1-d413-46ed-846d-eecbdf02c6ff",
   "metadata": {},
   "outputs": [
    {
     "name": "stdout",
     "output_type": "stream",
     "text": [
      "22899\n",
      "22899\n"
     ]
    }
   ],
   "source": [
    "print(len(y))\n",
    "print(len(X_2))"
   ]
  },
  {
   "cell_type": "code",
   "execution_count": 51,
   "id": "1fb96971-22b4-499a-9cf8-9d4d06419c09",
   "metadata": {},
   "outputs": [
    {
     "data": {
      "text/html": [
       "<div>\n",
       "<style scoped>\n",
       "    .dataframe tbody tr th:only-of-type {\n",
       "        vertical-align: middle;\n",
       "    }\n",
       "\n",
       "    .dataframe tbody tr th {\n",
       "        vertical-align: top;\n",
       "    }\n",
       "\n",
       "    .dataframe thead th {\n",
       "        text-align: right;\n",
       "    }\n",
       "</style>\n",
       "<table border=\"1\" class=\"dataframe\">\n",
       "  <thead>\n",
       "    <tr style=\"text-align: right;\">\n",
       "      <th></th>\n",
       "      <th>demo_race_ethnicitie_1</th>\n",
       "      <th>demo_race_ethnicitie_2</th>\n",
       "      <th>demo_race_ethnicitie_3</th>\n",
       "      <th>demo_race_ethnicitie_4</th>\n",
       "      <th>demo_race_ethnicitie_5</th>\n",
       "      <th>demo_race_ethnicitie_6</th>\n",
       "      <th>labels_polarity</th>\n",
       "    </tr>\n",
       "  </thead>\n",
       "  <tbody>\n",
       "    <tr>\n",
       "      <th>0</th>\n",
       "      <td>NaN</td>\n",
       "      <td>NaN</td>\n",
       "      <td>NaN</td>\n",
       "      <td>NaN</td>\n",
       "      <td>NaN</td>\n",
       "      <td>1.0</td>\n",
       "      <td>1</td>\n",
       "    </tr>\n",
       "    <tr>\n",
       "      <th>5</th>\n",
       "      <td>NaN</td>\n",
       "      <td>NaN</td>\n",
       "      <td>NaN</td>\n",
       "      <td>NaN</td>\n",
       "      <td>NaN</td>\n",
       "      <td>1.0</td>\n",
       "      <td>0</td>\n",
       "    </tr>\n",
       "    <tr>\n",
       "      <th>20</th>\n",
       "      <td>NaN</td>\n",
       "      <td>NaN</td>\n",
       "      <td>NaN</td>\n",
       "      <td>1.0</td>\n",
       "      <td>NaN</td>\n",
       "      <td>1.0</td>\n",
       "      <td>0</td>\n",
       "    </tr>\n",
       "    <tr>\n",
       "      <th>21</th>\n",
       "      <td>NaN</td>\n",
       "      <td>NaN</td>\n",
       "      <td>NaN</td>\n",
       "      <td>NaN</td>\n",
       "      <td>NaN</td>\n",
       "      <td>1.0</td>\n",
       "      <td>0</td>\n",
       "    </tr>\n",
       "    <tr>\n",
       "      <th>22</th>\n",
       "      <td>NaN</td>\n",
       "      <td>NaN</td>\n",
       "      <td>NaN</td>\n",
       "      <td>NaN</td>\n",
       "      <td>NaN</td>\n",
       "      <td>1.0</td>\n",
       "      <td>0</td>\n",
       "    </tr>\n",
       "    <tr>\n",
       "      <th>...</th>\n",
       "      <td>...</td>\n",
       "      <td>...</td>\n",
       "      <td>...</td>\n",
       "      <td>...</td>\n",
       "      <td>...</td>\n",
       "      <td>...</td>\n",
       "      <td>...</td>\n",
       "    </tr>\n",
       "    <tr>\n",
       "      <th>135346</th>\n",
       "      <td>NaN</td>\n",
       "      <td>NaN</td>\n",
       "      <td>NaN</td>\n",
       "      <td>NaN</td>\n",
       "      <td>NaN</td>\n",
       "      <td>1.0</td>\n",
       "      <td>1</td>\n",
       "    </tr>\n",
       "    <tr>\n",
       "      <th>135381</th>\n",
       "      <td>NaN</td>\n",
       "      <td>NaN</td>\n",
       "      <td>1.0</td>\n",
       "      <td>NaN</td>\n",
       "      <td>NaN</td>\n",
       "      <td>NaN</td>\n",
       "      <td>1</td>\n",
       "    </tr>\n",
       "    <tr>\n",
       "      <th>135415</th>\n",
       "      <td>NaN</td>\n",
       "      <td>NaN</td>\n",
       "      <td>NaN</td>\n",
       "      <td>NaN</td>\n",
       "      <td>NaN</td>\n",
       "      <td>1.0</td>\n",
       "      <td>1</td>\n",
       "    </tr>\n",
       "    <tr>\n",
       "      <th>135467</th>\n",
       "      <td>NaN</td>\n",
       "      <td>NaN</td>\n",
       "      <td>NaN</td>\n",
       "      <td>NaN</td>\n",
       "      <td>NaN</td>\n",
       "      <td>1.0</td>\n",
       "      <td>1</td>\n",
       "    </tr>\n",
       "    <tr>\n",
       "      <th>135473</th>\n",
       "      <td>NaN</td>\n",
       "      <td>NaN</td>\n",
       "      <td>NaN</td>\n",
       "      <td>NaN</td>\n",
       "      <td>NaN</td>\n",
       "      <td>1.0</td>\n",
       "      <td>1</td>\n",
       "    </tr>\n",
       "  </tbody>\n",
       "</table>\n",
       "<p>22899 rows × 7 columns</p>\n",
       "</div>"
      ],
      "text/plain": [
       "        demo_race_ethnicitie_1  demo_race_ethnicitie_2  \\\n",
       "0                          NaN                     NaN   \n",
       "5                          NaN                     NaN   \n",
       "20                         NaN                     NaN   \n",
       "21                         NaN                     NaN   \n",
       "22                         NaN                     NaN   \n",
       "...                        ...                     ...   \n",
       "135346                     NaN                     NaN   \n",
       "135381                     NaN                     NaN   \n",
       "135415                     NaN                     NaN   \n",
       "135467                     NaN                     NaN   \n",
       "135473                     NaN                     NaN   \n",
       "\n",
       "        demo_race_ethnicitie_3  demo_race_ethnicitie_4  \\\n",
       "0                          NaN                     NaN   \n",
       "5                          NaN                     NaN   \n",
       "20                         NaN                     1.0   \n",
       "21                         NaN                     NaN   \n",
       "22                         NaN                     NaN   \n",
       "...                        ...                     ...   \n",
       "135346                     NaN                     NaN   \n",
       "135381                     1.0                     NaN   \n",
       "135415                     NaN                     NaN   \n",
       "135467                     NaN                     NaN   \n",
       "135473                     NaN                     NaN   \n",
       "\n",
       "        demo_race_ethnicitie_5  demo_race_ethnicitie_6  labels_polarity  \n",
       "0                          NaN                     1.0                1  \n",
       "5                          NaN                     1.0                0  \n",
       "20                         NaN                     1.0                0  \n",
       "21                         NaN                     1.0                0  \n",
       "22                         NaN                     1.0                0  \n",
       "...                        ...                     ...              ...  \n",
       "135346                     NaN                     1.0                1  \n",
       "135381                     NaN                     NaN                1  \n",
       "135415                     NaN                     1.0                1  \n",
       "135467                     NaN                     1.0                1  \n",
       "135473                     NaN                     1.0                1  \n",
       "\n",
       "[22899 rows x 7 columns]"
      ]
     },
     "execution_count": 51,
     "metadata": {},
     "output_type": "execute_result"
    }
   ],
   "source": [
    "X_2 = pd.get_dummies(X_2)\n",
    "X_2"
   ]
  },
  {
   "cell_type": "code",
   "execution_count": 52,
   "id": "743aa459-d02c-4530-85cb-e1d28d65a1f0",
   "metadata": {},
   "outputs": [],
   "source": [
    "X_2 = X_2.fillna(0)"
   ]
  },
  {
   "cell_type": "code",
   "execution_count": 53,
   "id": "b482df42-e7ed-48f8-92f8-f6cd13496dd7",
   "metadata": {},
   "outputs": [],
   "source": [
    "#making train test split here \n",
    "X_2_train, X_2_test, y_train, y_test = train_test_split(X_2, y, test_size = .25)"
   ]
  },
  {
   "cell_type": "code",
   "execution_count": 54,
   "id": "2605596c-fcff-4118-bdd2-1666ce3925eb",
   "metadata": {},
   "outputs": [
    {
     "data": {
      "text/plain": [
       "LogisticRegression()"
      ]
     },
     "execution_count": 54,
     "metadata": {},
     "output_type": "execute_result"
    }
   ],
   "source": [
    "log_reg.fit(X_2_train, y_train)"
   ]
  },
  {
   "cell_type": "code",
   "execution_count": 55,
   "id": "4a64dae4-fc53-47f4-9a51-a41fc4c4162b",
   "metadata": {},
   "outputs": [
    {
     "data": {
      "text/plain": [
       "array([[-0.17877284, -0.11121885, -0.00350741, -0.0560917 , -0.2357716 ,\n",
       "        -0.08726867, -0.7056091 ]])"
      ]
     },
     "execution_count": 55,
     "metadata": {},
     "output_type": "execute_result"
    }
   ],
   "source": [
    "log_reg.coef_"
   ]
  },
  {
   "cell_type": "code",
   "execution_count": 56,
   "id": "4400bb0d-61a2-41a7-b877-915b3d5eaaa6",
   "metadata": {},
   "outputs": [
    {
     "name": "stdout",
     "output_type": "stream",
     "text": [
      "0.5504832886922092\n"
     ]
    }
   ],
   "source": [
    "print(log_reg.score(X_2_train, y_train))"
   ]
  },
  {
   "cell_type": "code",
   "execution_count": 57,
   "id": "ba5c4d19-d4bd-4e70-8a3c-e798b965ff1d",
   "metadata": {},
   "outputs": [
    {
     "name": "stdout",
     "output_type": "stream",
     "text": [
      "0.5407860262008733\n"
     ]
    }
   ],
   "source": [
    "print(log_reg.score(X_2_test, y_test))"
   ]
  },
  {
   "cell_type": "code",
   "execution_count": 58,
   "id": "f8c09b36-8436-47d3-8a4c-ee751785d420",
   "metadata": {},
   "outputs": [
    {
     "name": "stdout",
     "output_type": "stream",
     "text": [
      "Optimization terminated successfully.\n",
      "         Current function value: 0.678499\n",
      "         Iterations 5\n"
     ]
    }
   ],
   "source": [
    "results = sm.Logit(y_train, X_2_train).fit()"
   ]
  },
  {
   "cell_type": "code",
   "execution_count": 59,
   "id": "15211004-1f87-40e2-96ae-4a1bfeeb0770",
   "metadata": {},
   "outputs": [
    {
     "name": "stdout",
     "output_type": "stream",
     "text": [
      "                           Logit Regression Results                           \n",
      "==============================================================================\n",
      "Dep. Variable:                      y   No. Observations:                17174\n",
      "Model:                          Logit   Df Residuals:                    17167\n",
      "Method:                           MLE   Df Model:                            6\n",
      "Date:                Tue, 21 Sep 2021   Pseudo R-squ.:                 0.01356\n",
      "Time:                        14:46:16   Log-Likelihood:                -11653.\n",
      "converged:                       True   LL-Null:                       -11813.\n",
      "Covariance Type:            nonrobust   LLR p-value:                 3.501e-66\n",
      "==========================================================================================\n",
      "                             coef    std err          z      P>|z|      [0.025      0.975]\n",
      "------------------------------------------------------------------------------------------\n",
      "demo_race_ethnicitie_1    -0.1800      0.115     -1.572      0.116      -0.404       0.044\n",
      "demo_race_ethnicitie_2    -0.1019      0.060     -1.696      0.090      -0.220       0.016\n",
      "demo_race_ethnicitie_3     0.0063      0.049      0.129      0.898      -0.090       0.103\n",
      "demo_race_ethnicitie_4    -0.0494      0.060     -0.829      0.407      -0.166       0.067\n",
      "demo_race_ethnicitie_5    -0.2536      0.289     -0.876      0.381      -0.821       0.314\n",
      "demo_race_ethnicitie_6    -0.0757      0.019     -4.051      0.000      -0.112      -0.039\n",
      "labels_polarity           -0.7058      0.040    -17.434      0.000      -0.785      -0.626\n",
      "==========================================================================================\n"
     ]
    }
   ],
   "source": [
    "print(results.summary())"
   ]
  },
  {
   "cell_type": "code",
   "execution_count": null,
   "id": "8f397a4c-fd87-493b-a6cf-f92bc32c451a",
   "metadata": {},
   "outputs": [],
   "source": [
    "#how do we explore the impact of location on decisions?\n",
    "\n",
    "#how can i see what the full items options are and include them in the y"
   ]
  },
  {
   "cell_type": "code",
   "execution_count": 43,
   "id": "c795b4f6-7572-431d-9e0e-4f31df19a3cb",
   "metadata": {},
   "outputs": [
    {
     "data": {
      "text/plain": [
       "array(['sentiment', 'respect', 'insult', 'humiliate', 'status',\n",
       "       'dehumanize', 'violence_phys', 'genocide', 'attack_defend',\n",
       "       'hatespeech', 'comment_id', 'platform', 'uid', 'predict_text',\n",
       "       'measure', 'std_err', 'num_ratings', 'weight', 'has_targets',\n",
       "       'target_identity_count', 'labeler_id', 'rater_measure',\n",
       "       'rater_infitms', 'rater_outfitms', 'infitms', 'outfitms',\n",
       "       'target_identities_1', 'target_identities_2',\n",
       "       'target_identities_3', 'target_identities_4',\n",
       "       'target_identities_5', 'target_identities_6',\n",
       "       'target_identities_7', 'target_identities_9', 'target_race_1',\n",
       "       'target_race_2', 'target_race_3', 'target_race_8', 'target_race_4',\n",
       "       'target_race_5', 'target_race_6', 'target_race_7',\n",
       "       'target_race_7_text', 'target_religion_1', 'target_religion_2',\n",
       "       'target_religion_4', 'target_religion_5', 'target_religion_8',\n",
       "       'target_religion_9', 'target_religion_10', 'target_religion_6',\n",
       "       'target_religion_6_text', 'target_citizen_5', 'target_citizen_1',\n",
       "       'target_citizen_2', 'target_citizen_3', 'target_citizen_4',\n",
       "       'target_citizen_4_text', 'target_gender_1', 'target_gender_3',\n",
       "       'target_gender_2', 'target_gender_5', 'target_gender_6',\n",
       "       'target_gender_7', 'target_gender_4', 'target_gender_4_text',\n",
       "       'target_sexuality_1', 'target_sexuality_2', 'target_sexuality_6',\n",
       "       'target_sexuality_3', 'target_sexuality_5',\n",
       "       'target_sexuality_5_text', 'target_age_1', 'target_age_2',\n",
       "       'target_age_3', 'target_age_4', 'target_age_5', 'target_age_6',\n",
       "       'target_age_6_text', 'target_disability_1', 'target_disability_2',\n",
       "       'target_disability_3', 'target_disability_4',\n",
       "       'target_disability_5', 'target_disability_9',\n",
       "       'target_disability_6', 'target_disability_6_text',\n",
       "       'target_political_1', 'target_political_2', 'target_political_3',\n",
       "       'target_political_4', 'target_political_5', 'target_political_6',\n",
       "       'target_political_7', 'target_political_8', 'target_political_9',\n",
       "       'target_political_10', 'target_political_11',\n",
       "       'target_political_11_text', 'demo_gender', 'demo_gender_4_text',\n",
       "       'demo_trans', 'demo_educ', 'demo_race_ethnicitie_1',\n",
       "       'demo_race_ethnicitie_2', 'demo_race_ethnicitie_3',\n",
       "       'demo_race_ethnicitie_4', 'demo_race_ethnicitie_5',\n",
       "       'demo_race_ethnicitie_8', 'demo_race_ethnicitie_6',\n",
       "       'demo_race_ethnicitie_7', 'demo_race_ethnicitie_7_text',\n",
       "       'demo_age', 'demo_income', 'demo_religion_1', 'demo_religion_2',\n",
       "       'demo_religion_11', 'demo_religion_4', 'demo_religion_5',\n",
       "       'demo_religion_7', 'demo_religion_8', 'demo_religion_9',\n",
       "       'demo_religion_10', 'demo_religion_10_text', 'demo_sexual_orien_1',\n",
       "       'demo_sexual_orien_2', 'demo_sexual_orien_3',\n",
       "       'demo_sexual_orien_4', 'demo_sexual_orien_5',\n",
       "       'demo_sexual_orien_4_text', 'demo_ideology', 'locationlatitude',\n",
       "       'locationlongitude', 'identity', 'hypothesis', 'polarity',\n",
       "       'polarity_binary', 'labels_polarity', 'race_label'], dtype=object)"
      ]
     },
     "execution_count": 43,
     "metadata": {},
     "output_type": "execute_result"
    }
   ],
   "source": [
    "data_multi.columns.values"
   ]
  },
  {
   "cell_type": "code",
   "execution_count": 44,
   "id": "9991c61a-1ef2-49ff-8e93-ada1e03a1a27",
   "metadata": {},
   "outputs": [
    {
     "name": "stdout",
     "output_type": "stream",
     "text": [
      "sentiment 4.0    61435\n",
      "3.0    35243\n",
      "2.0    19785\n",
      "0.0     9658\n",
      "1.0     9435\n",
      "Name: sentiment, dtype: int64\n",
      "respect 4.0    58473\n",
      "3.0    30720\n",
      "2.0    23895\n",
      "0.0    12839\n",
      "1.0     9629\n",
      "Name: respect, dtype: int64\n",
      "insult 3.0    44153\n",
      "2.0    39673\n",
      "0.0    33143\n",
      "1.0    18587\n",
      "Name: insult, dtype: int64\n",
      "humiliate 0.0    65896\n",
      "1.0    39382\n",
      "2.0    30278\n",
      "Name: humiliate, dtype: int64\n",
      "status 1.0    68913\n",
      "0.0    66643\n",
      "Name: status, dtype: int64\n",
      "dehumanize 0.0    85581\n",
      "1.0    49975\n",
      "Name: dehumanize, dtype: int64\n",
      "violence_phys 0.0    110890\n",
      "1.0     24666\n",
      "Name: violence_phys, dtype: int64\n",
      "genocide 0.0    121003\n",
      "1.0     14553\n",
      "Name: genocide, dtype: int64\n",
      "attack_defend 2.0    44883\n",
      "1.0    38201\n",
      "3.0    33468\n",
      "0.0    19004\n",
      "Name: attack_defend, dtype: int64\n",
      "hatespeech 0.0    89535\n",
      "1.0    46021\n",
      "Name: hatespeech, dtype: int64\n"
     ]
    }
   ],
   "source": [
    "items =['sentiment', 'respect', 'insult', 'humiliate', 'status',\n",
    "       'dehumanize', 'violence_phys', 'genocide', 'attack_defend',\n",
    "       'hatespeech']\n",
    "\n",
    "for i in items:\n",
    "    print(i, data_multi[i].value_counts(dropna=False))"
   ]
  },
  {
   "cell_type": "code",
   "execution_count": 45,
   "id": "2609fcd8-b5e9-449d-9968-d870f0323c95",
   "metadata": {},
   "outputs": [],
   "source": [
    "hatespeechsum = data_multi[items].sum(axis=1)"
   ]
  },
  {
   "cell_type": "code",
   "execution_count": 46,
   "id": "0b695146-4a87-4721-8f62-ee2f7665a9b3",
   "metadata": {},
   "outputs": [],
   "source": [
    "data_multi['hatespeechsum'] = hatespeechsum"
   ]
  },
  {
   "cell_type": "code",
   "execution_count": 47,
   "id": "4eaf4c5e-79a5-47f8-9638-6c85aa8b8a6c",
   "metadata": {},
   "outputs": [
    {
     "data": {
      "text/plain": [
       "8.0     4008\n",
       "3.0     4190\n",
       "9.0     4222\n",
       "4.0     4249\n",
       "2.0     4306\n",
       "21.0    4624\n",
       "7.0     4683\n",
       "1.0     5052\n",
       "0.0     5062\n",
       "10.0    5454\n",
       "20.0    5609\n",
       "11.0    6718\n",
       "5.0     6726\n",
       "14.0    6853\n",
       "13.0    6963\n",
       "15.0    6970\n",
       "12.0    7303\n",
       "16.0    7423\n",
       "17.0    8119\n",
       "6.0     8485\n",
       "18.0    9202\n",
       "19.0    9335\n",
       "Name: hatespeechsum, dtype: int64"
      ]
     },
     "execution_count": 47,
     "metadata": {},
     "output_type": "execute_result"
    }
   ],
   "source": [
    "data_multi['hatespeechsum'].value_counts(ascending=True, dropna=False)"
   ]
  },
  {
   "cell_type": "code",
   "execution_count": 48,
   "id": "bec5c864-a9a1-42a3-8cb8-079cd6dfefab",
   "metadata": {},
   "outputs": [
    {
     "data": {
      "text/plain": [
       "<AxesSubplot:xlabel='hatespeechsum', ylabel='Count'>"
      ]
     },
     "execution_count": 48,
     "metadata": {},
     "output_type": "execute_result"
    },
    {
     "data": {
      "image/png": "[encoded data removed]",
      "text/plain": [
       "<Figure size 432x288 with 1 Axes>"
      ]
     },
     "metadata": {
      "needs_background": "light"
     },
     "output_type": "display_data"
    }
   ],
   "source": [
    "sns.histplot(x = 'hatespeechsum',  data = data_multi)"
   ]
  },
  {
   "cell_type": "code",
   "execution_count": 49,
   "id": "d19bbc58-e37d-477e-9710-93e07d89a528",
   "metadata": {},
   "outputs": [
    {
     "data": {
      "text/plain": [
       "array([ 0.,  1., 19., ...,  2.,  3., 15.])"
      ]
     },
     "execution_count": 49,
     "metadata": {},
     "output_type": "execute_result"
    }
   ],
   "source": [
    "from sklearn import preprocessing\n",
    "\n",
    "hatespeech_array = np.array(data_multi['hatespeechsum'])\n",
    "hatespeech_array"
   ]
  },
  {
   "cell_type": "code",
   "execution_count": 50,
   "id": "973f8060-5de3-4887-ba2f-adb768249ee5",
   "metadata": {},
   "outputs": [],
   "source": [
    "normalized_hate = preprocessing.normalize([hatespeech_array])"
   ]
  },
  {
   "cell_type": "code",
   "execution_count": 51,
   "id": "75778c11-80b2-4fe6-9432-76ffebefe827",
   "metadata": {},
   "outputs": [
    {
     "name": "stdout",
     "output_type": "stream",
     "text": [
      "[[0.         0.00020939 0.00397837 ... 0.00041878 0.00062816 0.00314082]]\n"
     ]
    }
   ],
   "source": [
    "print(normalized_hate)"
   ]
  },
  {
   "cell_type": "code",
   "execution_count": 52,
   "id": "a347475f-663a-486d-8675-29810ed02d35",
   "metadata": {},
   "outputs": [
    {
     "data": {
      "text/plain": [
       "135556"
      ]
     },
     "execution_count": 52,
     "metadata": {},
     "output_type": "execute_result"
    }
   ],
   "source": [
    "len(normalized_hate[0])"
   ]
  },
  {
   "cell_type": "code",
   "execution_count": 53,
   "id": "51dd63b6-3871-4d71-8fb4-c1238ec5c49c",
   "metadata": {},
   "outputs": [],
   "source": [
    "data_multi['normalized_hate'] = normalized_hate[0]"
   ]
  },
  {
   "cell_type": "code",
   "execution_count": 54,
   "id": "6c5e3755-c70c-43f3-b3b8-4d23fbfc8164",
   "metadata": {},
   "outputs": [
    {
     "data": {
      "text/plain": [
       "<AxesSubplot:xlabel='normalized_hate', ylabel='Count'>"
      ]
     },
     "execution_count": 54,
     "metadata": {},
     "output_type": "execute_result"
    },
    {
     "data": {
      "image/png": "[encoded data removed]",
      "text/plain": [
       "<Figure size 432x288 with 1 Axes>"
      ]
     },
     "metadata": {
      "needs_background": "light"
     },
     "output_type": "display_data"
    }
   ],
   "source": [
    "sns.histplot(x = 'normalized_hate', data = data_multi)"
   ]
  },
  {
   "cell_type": "code",
   "execution_count": 55,
   "id": "6cd64baf-9dcf-4745-b58a-159af673c929",
   "metadata": {},
   "outputs": [
    {
     "data": {
      "text/plain": [
       "0.003978    9335\n",
       "0.003769    9202\n",
       "0.001256    8485\n",
       "0.003560    8119\n",
       "0.003350    7423\n",
       "0.002513    7303\n",
       "0.003141    6970\n",
       "0.002722    6963\n",
       "0.002931    6853\n",
       "0.001047    6726\n",
       "0.002303    6718\n",
       "0.004188    5609\n",
       "0.002094    5454\n",
       "0.000000    5062\n",
       "0.000209    5052\n",
       "0.001466    4683\n",
       "0.004397    4624\n",
       "0.000419    4306\n",
       "0.000838    4249\n",
       "0.001884    4222\n",
       "0.000628    4190\n",
       "0.001675    4008\n",
       "Name: normalized_hate, dtype: int64"
      ]
     },
     "execution_count": 55,
     "metadata": {},
     "output_type": "execute_result"
    }
   ],
   "source": [
    "data_multi['normalized_hate'].value_counts()"
   ]
  },
  {
   "cell_type": "code",
   "execution_count": 56,
   "id": "6f0af116-14b8-4ade-a82e-c85a08520372",
   "metadata": {},
   "outputs": [
    {
     "data": {
      "text/html": [
       "<div>\n",
       "<style scoped>\n",
       "    .dataframe tbody tr th:only-of-type {\n",
       "        vertical-align: middle;\n",
       "    }\n",
       "\n",
       "    .dataframe tbody tr th {\n",
       "        vertical-align: top;\n",
       "    }\n",
       "\n",
       "    .dataframe thead th {\n",
       "        text-align: right;\n",
       "    }\n",
       "</style>\n",
       "<table border=\"1\" class=\"dataframe\">\n",
       "  <thead>\n",
       "    <tr style=\"text-align: right;\">\n",
       "      <th></th>\n",
       "      <th>sentiment</th>\n",
       "      <th>respect</th>\n",
       "      <th>insult</th>\n",
       "      <th>humiliate</th>\n",
       "      <th>status</th>\n",
       "      <th>dehumanize</th>\n",
       "      <th>violence_phys</th>\n",
       "      <th>genocide</th>\n",
       "      <th>attack_defend</th>\n",
       "      <th>hatespeech</th>\n",
       "      <th>...</th>\n",
       "      <th>locationlatitude</th>\n",
       "      <th>locationlongitude</th>\n",
       "      <th>identity</th>\n",
       "      <th>hypothesis</th>\n",
       "      <th>polarity</th>\n",
       "      <th>polarity_binary</th>\n",
       "      <th>labels_polarity</th>\n",
       "      <th>race_label</th>\n",
       "      <th>hatespeechsum</th>\n",
       "      <th>normalized_hate</th>\n",
       "    </tr>\n",
       "  </thead>\n",
       "  <tbody>\n",
       "    <tr>\n",
       "      <th>2</th>\n",
       "      <td>4.0</td>\n",
       "      <td>4.0</td>\n",
       "      <td>3.0</td>\n",
       "      <td>2.0</td>\n",
       "      <td>1.0</td>\n",
       "      <td>1.0</td>\n",
       "      <td>0.0</td>\n",
       "      <td>0.0</td>\n",
       "      <td>3.0</td>\n",
       "      <td>1.0</td>\n",
       "      <td>...</td>\n",
       "      <td>39.3361053466796875</td>\n",
       "      <td>-76.53890228271484375</td>\n",
       "      <td>0.985910</td>\n",
       "      <td>-0.207369</td>\n",
       "      <td>{'neg': 0.172, 'neu': 0.68, 'pos': 0.148, 'com...</td>\n",
       "      <td>False</td>\n",
       "      <td>0</td>\n",
       "      <td>white</td>\n",
       "      <td>19.0</td>\n",
       "      <td>0.003978</td>\n",
       "    </tr>\n",
       "    <tr>\n",
       "      <th>4</th>\n",
       "      <td>4.0</td>\n",
       "      <td>4.0</td>\n",
       "      <td>3.0</td>\n",
       "      <td>2.0</td>\n",
       "      <td>1.0</td>\n",
       "      <td>1.0</td>\n",
       "      <td>1.0</td>\n",
       "      <td>0.0</td>\n",
       "      <td>2.0</td>\n",
       "      <td>1.0</td>\n",
       "      <td>...</td>\n",
       "      <td>34.215301513671875</td>\n",
       "      <td>-79.64679718017578125</td>\n",
       "      <td>0.935462</td>\n",
       "      <td>0.104225</td>\n",
       "      <td>{'neg': 0.236, 'neu': 0.764, 'pos': 0.0, 'comp...</td>\n",
       "      <td>False</td>\n",
       "      <td>0</td>\n",
       "      <td>white</td>\n",
       "      <td>19.0</td>\n",
       "      <td>0.003978</td>\n",
       "    </tr>\n",
       "    <tr>\n",
       "      <th>6</th>\n",
       "      <td>4.0</td>\n",
       "      <td>4.0</td>\n",
       "      <td>3.0</td>\n",
       "      <td>2.0</td>\n",
       "      <td>1.0</td>\n",
       "      <td>1.0</td>\n",
       "      <td>0.0</td>\n",
       "      <td>0.0</td>\n",
       "      <td>2.0</td>\n",
       "      <td>1.0</td>\n",
       "      <td>...</td>\n",
       "      <td>40.6627044677734375</td>\n",
       "      <td>-73.9138031005859375</td>\n",
       "      <td>0.932548</td>\n",
       "      <td>-0.047389</td>\n",
       "      <td>{'neg': 0.219, 'neu': 0.781, 'pos': 0.0, 'comp...</td>\n",
       "      <td>False</td>\n",
       "      <td>0</td>\n",
       "      <td>black</td>\n",
       "      <td>18.0</td>\n",
       "      <td>0.003769</td>\n",
       "    </tr>\n",
       "    <tr>\n",
       "      <th>7</th>\n",
       "      <td>4.0</td>\n",
       "      <td>4.0</td>\n",
       "      <td>3.0</td>\n",
       "      <td>2.0</td>\n",
       "      <td>1.0</td>\n",
       "      <td>0.0</td>\n",
       "      <td>0.0</td>\n",
       "      <td>0.0</td>\n",
       "      <td>2.0</td>\n",
       "      <td>1.0</td>\n",
       "      <td>...</td>\n",
       "      <td>39.443603515625</td>\n",
       "      <td>-104.85359954833984375</td>\n",
       "      <td>0.933526</td>\n",
       "      <td>0.446312</td>\n",
       "      <td>{'neg': 0.699, 'neu': 0.301, 'pos': 0.0, 'comp...</td>\n",
       "      <td>False</td>\n",
       "      <td>0</td>\n",
       "      <td>white</td>\n",
       "      <td>17.0</td>\n",
       "      <td>0.003560</td>\n",
       "    </tr>\n",
       "    <tr>\n",
       "      <th>8</th>\n",
       "      <td>4.0</td>\n",
       "      <td>4.0</td>\n",
       "      <td>3.0</td>\n",
       "      <td>1.0</td>\n",
       "      <td>1.0</td>\n",
       "      <td>1.0</td>\n",
       "      <td>0.0</td>\n",
       "      <td>0.0</td>\n",
       "      <td>0.0</td>\n",
       "      <td>0.0</td>\n",
       "      <td>...</td>\n",
       "      <td>34.9250946044921875</td>\n",
       "      <td>-80.7277984619140625</td>\n",
       "      <td>0.891258</td>\n",
       "      <td>-0.199284</td>\n",
       "      <td>{'neg': 0.103, 'neu': 0.713, 'pos': 0.184, 'co...</td>\n",
       "      <td>True</td>\n",
       "      <td>1</td>\n",
       "      <td>white</td>\n",
       "      <td>14.0</td>\n",
       "      <td>0.002931</td>\n",
       "    </tr>\n",
       "    <tr>\n",
       "      <th>...</th>\n",
       "      <td>...</td>\n",
       "      <td>...</td>\n",
       "      <td>...</td>\n",
       "      <td>...</td>\n",
       "      <td>...</td>\n",
       "      <td>...</td>\n",
       "      <td>...</td>\n",
       "      <td>...</td>\n",
       "      <td>...</td>\n",
       "      <td>...</td>\n",
       "      <td>...</td>\n",
       "      <td>...</td>\n",
       "      <td>...</td>\n",
       "      <td>...</td>\n",
       "      <td>...</td>\n",
       "      <td>...</td>\n",
       "      <td>...</td>\n",
       "      <td>...</td>\n",
       "      <td>...</td>\n",
       "      <td>...</td>\n",
       "      <td>...</td>\n",
       "    </tr>\n",
       "    <tr>\n",
       "      <th>135478</th>\n",
       "      <td>3.0</td>\n",
       "      <td>3.0</td>\n",
       "      <td>2.0</td>\n",
       "      <td>1.0</td>\n",
       "      <td>1.0</td>\n",
       "      <td>1.0</td>\n",
       "      <td>0.0</td>\n",
       "      <td>0.0</td>\n",
       "      <td>1.0</td>\n",
       "      <td>0.0</td>\n",
       "      <td>...</td>\n",
       "      <td>34.5487060546875</td>\n",
       "      <td>-77.94029998779296875</td>\n",
       "      <td>0.787630</td>\n",
       "      <td>0.259148</td>\n",
       "      <td>{'neg': 0.0, 'neu': 0.351, 'pos': 0.649, 'comp...</td>\n",
       "      <td>True</td>\n",
       "      <td>1</td>\n",
       "      <td>white</td>\n",
       "      <td>12.0</td>\n",
       "      <td>0.002513</td>\n",
       "    </tr>\n",
       "    <tr>\n",
       "      <th>135515</th>\n",
       "      <td>4.0</td>\n",
       "      <td>4.0</td>\n",
       "      <td>3.0</td>\n",
       "      <td>2.0</td>\n",
       "      <td>0.0</td>\n",
       "      <td>1.0</td>\n",
       "      <td>0.0</td>\n",
       "      <td>0.0</td>\n",
       "      <td>1.0</td>\n",
       "      <td>1.0</td>\n",
       "      <td>...</td>\n",
       "      <td>34.1558990478515625</td>\n",
       "      <td>-116.431304931640625</td>\n",
       "      <td>0.526959</td>\n",
       "      <td>0.469881</td>\n",
       "      <td>{'neg': 0.0, 'neu': 0.879, 'pos': 0.121, 'comp...</td>\n",
       "      <td>True</td>\n",
       "      <td>1</td>\n",
       "      <td>white</td>\n",
       "      <td>16.0</td>\n",
       "      <td>0.003350</td>\n",
       "    </tr>\n",
       "    <tr>\n",
       "      <th>135531</th>\n",
       "      <td>4.0</td>\n",
       "      <td>3.0</td>\n",
       "      <td>2.0</td>\n",
       "      <td>1.0</td>\n",
       "      <td>0.0</td>\n",
       "      <td>1.0</td>\n",
       "      <td>0.0</td>\n",
       "      <td>0.0</td>\n",
       "      <td>1.0</td>\n",
       "      <td>0.0</td>\n",
       "      <td>...</td>\n",
       "      <td>34.0034027099609375</td>\n",
       "      <td>-84.46050262451171875</td>\n",
       "      <td>0.526959</td>\n",
       "      <td>0.469881</td>\n",
       "      <td>{'neg': 0.0, 'neu': 0.879, 'pos': 0.121, 'comp...</td>\n",
       "      <td>True</td>\n",
       "      <td>1</td>\n",
       "      <td>white</td>\n",
       "      <td>12.0</td>\n",
       "      <td>0.002513</td>\n",
       "    </tr>\n",
       "    <tr>\n",
       "      <th>135532</th>\n",
       "      <td>3.0</td>\n",
       "      <td>4.0</td>\n",
       "      <td>2.0</td>\n",
       "      <td>1.0</td>\n",
       "      <td>0.0</td>\n",
       "      <td>0.0</td>\n",
       "      <td>0.0</td>\n",
       "      <td>0.0</td>\n",
       "      <td>1.0</td>\n",
       "      <td>0.0</td>\n",
       "      <td>...</td>\n",
       "      <td>34.000701904296875</td>\n",
       "      <td>-81.03479766845703125</td>\n",
       "      <td>0.802158</td>\n",
       "      <td>0.344536</td>\n",
       "      <td>{'neg': 0.0, 'neu': 0.774, 'pos': 0.226, 'comp...</td>\n",
       "      <td>True</td>\n",
       "      <td>1</td>\n",
       "      <td>white</td>\n",
       "      <td>11.0</td>\n",
       "      <td>0.002303</td>\n",
       "    </tr>\n",
       "    <tr>\n",
       "      <th>135555</th>\n",
       "      <td>4.0</td>\n",
       "      <td>4.0</td>\n",
       "      <td>3.0</td>\n",
       "      <td>0.0</td>\n",
       "      <td>0.0</td>\n",
       "      <td>0.0</td>\n",
       "      <td>1.0</td>\n",
       "      <td>0.0</td>\n",
       "      <td>2.0</td>\n",
       "      <td>1.0</td>\n",
       "      <td>...</td>\n",
       "      <td>29.04150390625</td>\n",
       "      <td>-95.70040130615234375</td>\n",
       "      <td>0.931011</td>\n",
       "      <td>-0.265011</td>\n",
       "      <td>{'neg': 0.301, 'neu': 0.637, 'pos': 0.062, 'co...</td>\n",
       "      <td>False</td>\n",
       "      <td>0</td>\n",
       "      <td>two or more races</td>\n",
       "      <td>15.0</td>\n",
       "      <td>0.003141</td>\n",
       "    </tr>\n",
       "  </tbody>\n",
       "</table>\n",
       "<p>84573 rows × 141 columns</p>\n",
       "</div>"
      ],
      "text/plain": [
       "        sentiment  respect  insult  humiliate  status  dehumanize  \\\n",
       "2             4.0      4.0     3.0        2.0     1.0         1.0   \n",
       "4             4.0      4.0     3.0        2.0     1.0         1.0   \n",
       "6             4.0      4.0     3.0        2.0     1.0         1.0   \n",
       "7             4.0      4.0     3.0        2.0     1.0         0.0   \n",
       "8             4.0      4.0     3.0        1.0     1.0         1.0   \n",
       "...           ...      ...     ...        ...     ...         ...   \n",
       "135478        3.0      3.0     2.0        1.0     1.0         1.0   \n",
       "135515        4.0      4.0     3.0        2.0     0.0         1.0   \n",
       "135531        4.0      3.0     2.0        1.0     0.0         1.0   \n",
       "135532        3.0      4.0     2.0        1.0     0.0         0.0   \n",
       "135555        4.0      4.0     3.0        0.0     0.0         0.0   \n",
       "\n",
       "        violence_phys  genocide  attack_defend  hatespeech  ...  \\\n",
       "2                 0.0       0.0            3.0         1.0  ...   \n",
       "4                 1.0       0.0            2.0         1.0  ...   \n",
       "6                 0.0       0.0            2.0         1.0  ...   \n",
       "7                 0.0       0.0            2.0         1.0  ...   \n",
       "8                 0.0       0.0            0.0         0.0  ...   \n",
       "...               ...       ...            ...         ...  ...   \n",
       "135478            0.0       0.0            1.0         0.0  ...   \n",
       "135515            0.0       0.0            1.0         1.0  ...   \n",
       "135531            0.0       0.0            1.0         0.0  ...   \n",
       "135532            0.0       0.0            1.0         0.0  ...   \n",
       "135555            1.0       0.0            2.0         1.0  ...   \n",
       "\n",
       "           locationlatitude       locationlongitude  identity hypothesis  \\\n",
       "2       39.3361053466796875   -76.53890228271484375  0.985910  -0.207369   \n",
       "4        34.215301513671875   -79.64679718017578125  0.935462   0.104225   \n",
       "6       40.6627044677734375    -73.9138031005859375  0.932548  -0.047389   \n",
       "7           39.443603515625  -104.85359954833984375  0.933526   0.446312   \n",
       "8       34.9250946044921875    -80.7277984619140625  0.891258  -0.199284   \n",
       "...                     ...                     ...       ...        ...   \n",
       "135478     34.5487060546875   -77.94029998779296875  0.787630   0.259148   \n",
       "135515  34.1558990478515625    -116.431304931640625  0.526959   0.469881   \n",
       "135531  34.0034027099609375   -84.46050262451171875  0.526959   0.469881   \n",
       "135532   34.000701904296875   -81.03479766845703125  0.802158   0.344536   \n",
       "135555       29.04150390625   -95.70040130615234375  0.931011  -0.265011   \n",
       "\n",
       "                                                 polarity  polarity_binary  \\\n",
       "2       {'neg': 0.172, 'neu': 0.68, 'pos': 0.148, 'com...            False   \n",
       "4       {'neg': 0.236, 'neu': 0.764, 'pos': 0.0, 'comp...            False   \n",
       "6       {'neg': 0.219, 'neu': 0.781, 'pos': 0.0, 'comp...            False   \n",
       "7       {'neg': 0.699, 'neu': 0.301, 'pos': 0.0, 'comp...            False   \n",
       "8       {'neg': 0.103, 'neu': 0.713, 'pos': 0.184, 'co...             True   \n",
       "...                                                   ...              ...   \n",
       "135478  {'neg': 0.0, 'neu': 0.351, 'pos': 0.649, 'comp...             True   \n",
       "135515  {'neg': 0.0, 'neu': 0.879, 'pos': 0.121, 'comp...             True   \n",
       "135531  {'neg': 0.0, 'neu': 0.879, 'pos': 0.121, 'comp...             True   \n",
       "135532  {'neg': 0.0, 'neu': 0.774, 'pos': 0.226, 'comp...             True   \n",
       "135555  {'neg': 0.301, 'neu': 0.637, 'pos': 0.062, 'co...            False   \n",
       "\n",
       "        labels_polarity         race_label  hatespeechsum  normalized_hate  \n",
       "2                     0              white           19.0         0.003978  \n",
       "4                     0              white           19.0         0.003978  \n",
       "6                     0              black           18.0         0.003769  \n",
       "7                     0              white           17.0         0.003560  \n",
       "8                     1              white           14.0         0.002931  \n",
       "...                 ...                ...            ...              ...  \n",
       "135478                1              white           12.0         0.002513  \n",
       "135515                1              white           16.0         0.003350  \n",
       "135531                1              white           12.0         0.002513  \n",
       "135532                1              white           11.0         0.002303  \n",
       "135555                0  two or more races           15.0         0.003141  \n",
       "\n",
       "[84573 rows x 141 columns]"
      ]
     },
     "execution_count": 56,
     "metadata": {},
     "output_type": "execute_result"
    }
   ],
   "source": [
    "data_multi[data_multi['normalized_hate'] >= 0.002]\n",
    "\n",
    "#i used a cut off point \n",
    "#not sure why in ormalized but itl  \\ooks nice on a graph\n",
    "#and it makes it easier to decide on the cut off point \n",
    "#this is called \"scaling it\"\n"
   ]
  },
  {
   "cell_type": "code",
   "execution_count": 57,
   "id": "b6e4576e-01de-4dcf-bfcb-59abc3fa3ce6",
   "metadata": {},
   "outputs": [
    {
     "data": {
      "text/plain": [
       "84573"
      ]
     },
     "execution_count": 57,
     "metadata": {},
     "output_type": "execute_result"
    }
   ],
   "source": [
    "len(data_multi[data_multi['normalized_hate'] >= 0.002])\n",
    "#this mimicks the 1/3 and 2/3 positive negative class distinction that i talked about with Akshay Balsubramani\n",
    "#but do we want it to be 50-50?\n",
    "#how was the data collected initially -- let that be the leading demarcator "
   ]
  },
  {
   "cell_type": "code",
   "execution_count": 58,
   "id": "b5f8b2f1-193d-42b5-a65e-579e09df0ca7",
   "metadata": {},
   "outputs": [
    {
     "data": {
      "text/plain": [
       "50983"
      ]
     },
     "execution_count": 58,
     "metadata": {},
     "output_type": "execute_result"
    }
   ],
   "source": [
    "len(data_multi[data_multi['normalized_hate'] < 0.002])"
   ]
  },
  {
   "cell_type": "code",
   "execution_count": 59,
   "id": "40303de2-8c65-4df3-8d1a-57065e1b2282",
   "metadata": {},
   "outputs": [],
   "source": [
    "#binarized hate\n",
    "data_multi['binarized_hate'] = np.where(data_multi.normalized_hate >= 0.002, 1, 0)"
   ]
  },
  {
   "cell_type": "code",
   "execution_count": 60,
   "id": "c248b05f-fcad-4d65-82b9-769582a77ed1",
   "metadata": {},
   "outputs": [
    {
     "data": {
      "text/plain": [
       "1    84573\n",
       "0    50983\n",
       "Name: binarized_hate, dtype: int64"
      ]
     },
     "execution_count": 60,
     "metadata": {},
     "output_type": "execute_result"
    }
   ],
   "source": [
    "data_multi['binarized_hate'].value_counts()"
   ]
  },
  {
   "cell_type": "code",
   "execution_count": 61,
   "id": "bb348fcb-2d59-496a-a60d-09261cb25ae7",
   "metadata": {},
   "outputs": [
    {
     "data": {
      "text/plain": [
       "array([0, 0, 1, ..., 0, 0, 1])"
      ]
     },
     "execution_count": 61,
     "metadata": {},
     "output_type": "execute_result"
    }
   ],
   "source": [
    "y = data_multi['binarized_hate'].values\n",
    "y"
   ]
  },
  {
   "cell_type": "code",
   "execution_count": 70,
   "id": "920639a0-1864-4a9f-a21a-3732324e3265",
   "metadata": {},
   "outputs": [],
   "source": [
    "features = ['target_black', 'target_latino', 'target_asian', 'target_native american', 'target_pacific islander', 'target_white',\n",
    "            'demo_asian', 'demo_black', 'demo_american_indian_alaska_native', 'demo_latino',\n",
    "            'demo_white', 'demo_other_race', 'black_labeler_black_target', 'white_labeler_black_target',\n",
    "            'labels_polarity']"
   ]
  },
  {
   "cell_type": "code",
   "execution_count": 63,
   "id": "39a06935-2cf1-46ed-9885-14011e9da189",
   "metadata": {},
   "outputs": [],
   "source": [
    "X_2 = data_multi"
   ]
  },
  {
   "cell_type": "code",
   "execution_count": 64,
   "id": "0076525f-a84a-4f10-b12d-390812ac3757",
   "metadata": {},
   "outputs": [],
   "source": [
    "X_2.rename(columns={'demo_race_ethnicitie_1': 'demo_american_indian_alaska_native',\n",
    "                                       'demo_race_ethnicitie_2': 'demo_asian',\n",
    "                                       'demo_race_ethnicitie_3': 'demo_black',\n",
    "                                       'demo_race_ethnicitie_4': 'demo_latino',\n",
    "                                       'demo_race_ethnicitie_5': 'demo_native_hawaiian_pacific_islander',\n",
    "                                       'demo_race_ethnicitie_6': 'demo_white',\n",
    "                                       'demo_race_ethnicitie_7': 'demo_other_race',\n",
    "                                       'demo_race_ethnicitie_7_text': 'demo_other_race_text',\n",
    "                                       'demo_race_ethnicitie_8': 'demo_middle_eastern',\n",
    "                                       'target_race_1': 'target_black',\n",
    "                                       'target_race_2': 'target_latino',\n",
    "                                       'target_race_3': 'target_asian',\n",
    "                                       'target_race_4': 'target_native american',\n",
    "                                       'target_race_5': 'target_pacific islander',\n",
    "                                       'target_race_6': 'target_white',\n",
    "                                       'target_race_7': 'target_other_race',\n",
    "                                       'target_race_7_text': 'target_other_race_text'}, inplace=True)"
   ]
  },
  {
   "cell_type": "code",
   "execution_count": 66,
   "id": "6b1288fd-60bc-4159-b5a5-4c5ab9533bfe",
   "metadata": {},
   "outputs": [],
   "source": [
    "#black labeler, black target\n",
    "X_2['black_labeler_black_target'] = X_2['target_black'] * X_2['demo_black']\n",
    "\n",
    "#white labeler, black target\n",
    "\n",
    "X_2['white_labeler_black_target'] = X_2['target_black'] * X_2['demo_white']\n",
    "\n",
    "#black labeler, white target\n",
    "\n",
    "X_2['black_labeler_white_target'] = X_2['target_white'] * X_2['demo_black']\n",
    "\n",
    "#white labeler, white target\n",
    "\n",
    "X_2['white_labeler_white_target'] = X_2['target_white'] * X_2['demo_white']"
   ]
  },
  {
   "cell_type": "code",
   "execution_count": 71,
   "id": "61447cf8-1625-4083-961b-8ec7a7f8670b",
   "metadata": {},
   "outputs": [],
   "source": [
    "X_2 = X_2[features]"
   ]
  },
  {
   "cell_type": "code",
   "execution_count": 72,
   "id": "abf1ebe8-2595-41b0-905e-0cfe67782912",
   "metadata": {},
   "outputs": [
    {
     "data": {
      "text/html": [
       "<div>\n",
       "<style scoped>\n",
       "    .dataframe tbody tr th:only-of-type {\n",
       "        vertical-align: middle;\n",
       "    }\n",
       "\n",
       "    .dataframe tbody tr th {\n",
       "        vertical-align: top;\n",
       "    }\n",
       "\n",
       "    .dataframe thead th {\n",
       "        text-align: right;\n",
       "    }\n",
       "</style>\n",
       "<table border=\"1\" class=\"dataframe\">\n",
       "  <thead>\n",
       "    <tr style=\"text-align: right;\">\n",
       "      <th></th>\n",
       "      <th>target_black</th>\n",
       "      <th>target_latino</th>\n",
       "      <th>target_asian</th>\n",
       "      <th>target_native american</th>\n",
       "      <th>target_pacific islander</th>\n",
       "      <th>target_white</th>\n",
       "      <th>demo_asian</th>\n",
       "      <th>demo_black</th>\n",
       "      <th>demo_american_indian_alaska_native</th>\n",
       "      <th>demo_latino</th>\n",
       "      <th>demo_white</th>\n",
       "      <th>demo_other_race</th>\n",
       "      <th>black_labeler_black_target</th>\n",
       "      <th>white_labeler_black_target</th>\n",
       "      <th>labels_polarity</th>\n",
       "    </tr>\n",
       "  </thead>\n",
       "  <tbody>\n",
       "    <tr>\n",
       "      <th>0</th>\n",
       "      <td>1.0</td>\n",
       "      <td>1.0</td>\n",
       "      <td>1.0</td>\n",
       "      <td>1.0</td>\n",
       "      <td>1.0</td>\n",
       "      <td>1.0</td>\n",
       "      <td>NaN</td>\n",
       "      <td>NaN</td>\n",
       "      <td>NaN</td>\n",
       "      <td>NaN</td>\n",
       "      <td>1.0</td>\n",
       "      <td>NaN</td>\n",
       "      <td>NaN</td>\n",
       "      <td>1.0</td>\n",
       "      <td>1</td>\n",
       "    </tr>\n",
       "    <tr>\n",
       "      <th>1</th>\n",
       "      <td>NaN</td>\n",
       "      <td>NaN</td>\n",
       "      <td>NaN</td>\n",
       "      <td>NaN</td>\n",
       "      <td>NaN</td>\n",
       "      <td>NaN</td>\n",
       "      <td>NaN</td>\n",
       "      <td>NaN</td>\n",
       "      <td>NaN</td>\n",
       "      <td>NaN</td>\n",
       "      <td>1.0</td>\n",
       "      <td>NaN</td>\n",
       "      <td>NaN</td>\n",
       "      <td>NaN</td>\n",
       "      <td>1</td>\n",
       "    </tr>\n",
       "    <tr>\n",
       "      <th>2</th>\n",
       "      <td>NaN</td>\n",
       "      <td>NaN</td>\n",
       "      <td>NaN</td>\n",
       "      <td>NaN</td>\n",
       "      <td>NaN</td>\n",
       "      <td>NaN</td>\n",
       "      <td>NaN</td>\n",
       "      <td>NaN</td>\n",
       "      <td>NaN</td>\n",
       "      <td>NaN</td>\n",
       "      <td>1.0</td>\n",
       "      <td>NaN</td>\n",
       "      <td>NaN</td>\n",
       "      <td>NaN</td>\n",
       "      <td>0</td>\n",
       "    </tr>\n",
       "    <tr>\n",
       "      <th>3</th>\n",
       "      <td>NaN</td>\n",
       "      <td>NaN</td>\n",
       "      <td>NaN</td>\n",
       "      <td>NaN</td>\n",
       "      <td>NaN</td>\n",
       "      <td>NaN</td>\n",
       "      <td>NaN</td>\n",
       "      <td>NaN</td>\n",
       "      <td>NaN</td>\n",
       "      <td>NaN</td>\n",
       "      <td>1.0</td>\n",
       "      <td>NaN</td>\n",
       "      <td>NaN</td>\n",
       "      <td>NaN</td>\n",
       "      <td>1</td>\n",
       "    </tr>\n",
       "    <tr>\n",
       "      <th>4</th>\n",
       "      <td>NaN</td>\n",
       "      <td>NaN</td>\n",
       "      <td>NaN</td>\n",
       "      <td>NaN</td>\n",
       "      <td>NaN</td>\n",
       "      <td>NaN</td>\n",
       "      <td>NaN</td>\n",
       "      <td>NaN</td>\n",
       "      <td>NaN</td>\n",
       "      <td>NaN</td>\n",
       "      <td>1.0</td>\n",
       "      <td>NaN</td>\n",
       "      <td>NaN</td>\n",
       "      <td>NaN</td>\n",
       "      <td>0</td>\n",
       "    </tr>\n",
       "    <tr>\n",
       "      <th>...</th>\n",
       "      <td>...</td>\n",
       "      <td>...</td>\n",
       "      <td>...</td>\n",
       "      <td>...</td>\n",
       "      <td>...</td>\n",
       "      <td>...</td>\n",
       "      <td>...</td>\n",
       "      <td>...</td>\n",
       "      <td>...</td>\n",
       "      <td>...</td>\n",
       "      <td>...</td>\n",
       "      <td>...</td>\n",
       "      <td>...</td>\n",
       "      <td>...</td>\n",
       "      <td>...</td>\n",
       "    </tr>\n",
       "    <tr>\n",
       "      <th>135551</th>\n",
       "      <td>NaN</td>\n",
       "      <td>NaN</td>\n",
       "      <td>NaN</td>\n",
       "      <td>NaN</td>\n",
       "      <td>NaN</td>\n",
       "      <td>NaN</td>\n",
       "      <td>NaN</td>\n",
       "      <td>NaN</td>\n",
       "      <td>NaN</td>\n",
       "      <td>1.0</td>\n",
       "      <td>1.0</td>\n",
       "      <td>NaN</td>\n",
       "      <td>NaN</td>\n",
       "      <td>NaN</td>\n",
       "      <td>1</td>\n",
       "    </tr>\n",
       "    <tr>\n",
       "      <th>135552</th>\n",
       "      <td>NaN</td>\n",
       "      <td>NaN</td>\n",
       "      <td>NaN</td>\n",
       "      <td>NaN</td>\n",
       "      <td>NaN</td>\n",
       "      <td>NaN</td>\n",
       "      <td>NaN</td>\n",
       "      <td>NaN</td>\n",
       "      <td>NaN</td>\n",
       "      <td>NaN</td>\n",
       "      <td>1.0</td>\n",
       "      <td>NaN</td>\n",
       "      <td>NaN</td>\n",
       "      <td>NaN</td>\n",
       "      <td>0</td>\n",
       "    </tr>\n",
       "    <tr>\n",
       "      <th>135553</th>\n",
       "      <td>NaN</td>\n",
       "      <td>NaN</td>\n",
       "      <td>NaN</td>\n",
       "      <td>NaN</td>\n",
       "      <td>NaN</td>\n",
       "      <td>NaN</td>\n",
       "      <td>NaN</td>\n",
       "      <td>NaN</td>\n",
       "      <td>NaN</td>\n",
       "      <td>NaN</td>\n",
       "      <td>1.0</td>\n",
       "      <td>NaN</td>\n",
       "      <td>NaN</td>\n",
       "      <td>NaN</td>\n",
       "      <td>0</td>\n",
       "    </tr>\n",
       "    <tr>\n",
       "      <th>135554</th>\n",
       "      <td>NaN</td>\n",
       "      <td>NaN</td>\n",
       "      <td>NaN</td>\n",
       "      <td>NaN</td>\n",
       "      <td>NaN</td>\n",
       "      <td>NaN</td>\n",
       "      <td>NaN</td>\n",
       "      <td>NaN</td>\n",
       "      <td>NaN</td>\n",
       "      <td>NaN</td>\n",
       "      <td>1.0</td>\n",
       "      <td>NaN</td>\n",
       "      <td>NaN</td>\n",
       "      <td>NaN</td>\n",
       "      <td>0</td>\n",
       "    </tr>\n",
       "    <tr>\n",
       "      <th>135555</th>\n",
       "      <td>NaN</td>\n",
       "      <td>NaN</td>\n",
       "      <td>NaN</td>\n",
       "      <td>NaN</td>\n",
       "      <td>NaN</td>\n",
       "      <td>NaN</td>\n",
       "      <td>NaN</td>\n",
       "      <td>NaN</td>\n",
       "      <td>NaN</td>\n",
       "      <td>1.0</td>\n",
       "      <td>1.0</td>\n",
       "      <td>NaN</td>\n",
       "      <td>NaN</td>\n",
       "      <td>NaN</td>\n",
       "      <td>0</td>\n",
       "    </tr>\n",
       "  </tbody>\n",
       "</table>\n",
       "<p>135556 rows × 15 columns</p>\n",
       "</div>"
      ],
      "text/plain": [
       "        target_black  target_latino  target_asian  target_native american  \\\n",
       "0                1.0            1.0           1.0                     1.0   \n",
       "1                NaN            NaN           NaN                     NaN   \n",
       "2                NaN            NaN           NaN                     NaN   \n",
       "3                NaN            NaN           NaN                     NaN   \n",
       "4                NaN            NaN           NaN                     NaN   \n",
       "...              ...            ...           ...                     ...   \n",
       "135551           NaN            NaN           NaN                     NaN   \n",
       "135552           NaN            NaN           NaN                     NaN   \n",
       "135553           NaN            NaN           NaN                     NaN   \n",
       "135554           NaN            NaN           NaN                     NaN   \n",
       "135555           NaN            NaN           NaN                     NaN   \n",
       "\n",
       "        target_pacific islander  target_white  demo_asian  demo_black  \\\n",
       "0                           1.0           1.0         NaN         NaN   \n",
       "1                           NaN           NaN         NaN         NaN   \n",
       "2                           NaN           NaN         NaN         NaN   \n",
       "3                           NaN           NaN         NaN         NaN   \n",
       "4                           NaN           NaN         NaN         NaN   \n",
       "...                         ...           ...         ...         ...   \n",
       "135551                      NaN           NaN         NaN         NaN   \n",
       "135552                      NaN           NaN         NaN         NaN   \n",
       "135553                      NaN           NaN         NaN         NaN   \n",
       "135554                      NaN           NaN         NaN         NaN   \n",
       "135555                      NaN           NaN         NaN         NaN   \n",
       "\n",
       "        demo_american_indian_alaska_native  demo_latino  demo_white  \\\n",
       "0                                      NaN          NaN         1.0   \n",
       "1                                      NaN          NaN         1.0   \n",
       "2                                      NaN          NaN         1.0   \n",
       "3                                      NaN          NaN         1.0   \n",
       "4                                      NaN          NaN         1.0   \n",
       "...                                    ...          ...         ...   \n",
       "135551                                 NaN          1.0         1.0   \n",
       "135552                                 NaN          NaN         1.0   \n",
       "135553                                 NaN          NaN         1.0   \n",
       "135554                                 NaN          NaN         1.0   \n",
       "135555                                 NaN          1.0         1.0   \n",
       "\n",
       "        demo_other_race  black_labeler_black_target  \\\n",
       "0                   NaN                         NaN   \n",
       "1                   NaN                         NaN   \n",
       "2                   NaN                         NaN   \n",
       "3                   NaN                         NaN   \n",
       "4                   NaN                         NaN   \n",
       "...                 ...                         ...   \n",
       "135551              NaN                         NaN   \n",
       "135552              NaN                         NaN   \n",
       "135553              NaN                         NaN   \n",
       "135554              NaN                         NaN   \n",
       "135555              NaN                         NaN   \n",
       "\n",
       "        white_labeler_black_target  labels_polarity  \n",
       "0                              1.0                1  \n",
       "1                              NaN                1  \n",
       "2                              NaN                0  \n",
       "3                              NaN                1  \n",
       "4                              NaN                0  \n",
       "...                            ...              ...  \n",
       "135551                         NaN                1  \n",
       "135552                         NaN                0  \n",
       "135553                         NaN                0  \n",
       "135554                         NaN                0  \n",
       "135555                         NaN                0  \n",
       "\n",
       "[135556 rows x 15 columns]"
      ]
     },
     "execution_count": 72,
     "metadata": {},
     "output_type": "execute_result"
    }
   ],
   "source": [
    "X_2 = pd.get_dummies(X_2)\n",
    "X_2"
   ]
  },
  {
   "cell_type": "code",
   "execution_count": 73,
   "id": "9fac42e1-0d7f-4302-9345-c85183e6ed6e",
   "metadata": {},
   "outputs": [],
   "source": [
    "X_2 = X_2.fillna(0)"
   ]
  },
  {
   "cell_type": "code",
   "execution_count": 74,
   "id": "d2d02f57-beaa-48e5-bb67-acd9988003a5",
   "metadata": {},
   "outputs": [],
   "source": [
    "#making train test split here \n",
    "X_2_train, X_2_test, y_train, y_test = train_test_split(X_2, y, test_size = .25)"
   ]
  },
  {
   "cell_type": "code",
   "execution_count": 75,
   "id": "bf82d3cd-0ac8-4057-bdec-098ead1fff25",
   "metadata": {},
   "outputs": [],
   "source": [
    "log_reg = LogisticRegression()"
   ]
  },
  {
   "cell_type": "code",
   "execution_count": 76,
   "id": "e2bfbc2d-a4c1-4197-b0ec-d7e9a8f0c9cf",
   "metadata": {},
   "outputs": [
    {
     "data": {
      "text/plain": [
       "LogisticRegression()"
      ]
     },
     "execution_count": 76,
     "metadata": {},
     "output_type": "execute_result"
    }
   ],
   "source": [
    "log_reg.fit(X_2_train, y_train)"
   ]
  },
  {
   "cell_type": "code",
   "execution_count": 77,
   "id": "619f043f-eeae-4083-ae93-417e36faf4e7",
   "metadata": {},
   "outputs": [
    {
     "data": {
      "text/plain": [
       "array([[ 0.34089338,  0.54644873,  0.32134161, -1.49250534, -0.59413366,\n",
       "        -0.15009703, -0.06609709, -0.06306147, -0.10038954, -0.04668811,\n",
       "         0.00815467, -0.08835192,  0.03690027,  0.03887129, -1.7813659 ]])"
      ]
     },
     "execution_count": 77,
     "metadata": {},
     "output_type": "execute_result"
    }
   ],
   "source": [
    "log_reg.coef_"
   ]
  },
  {
   "cell_type": "code",
   "execution_count": 78,
   "id": "425176fa-ce48-41d9-833c-d320de72a39d",
   "metadata": {},
   "outputs": [
    {
     "name": "stdout",
     "output_type": "stream",
     "text": [
      "0.7257910629801214\n"
     ]
    }
   ],
   "source": [
    "#let's look at the test set here to see if the model is any good \n",
    "\n",
    "print(log_reg.score(X_2_train, y_train))"
   ]
  },
  {
   "cell_type": "code",
   "execution_count": 79,
   "id": "58737eb3-e4ce-4eb8-87c0-6dd29f5e61cf",
   "metadata": {},
   "outputs": [
    {
     "name": "stdout",
     "output_type": "stream",
     "text": [
      "0.7256041783469562\n"
     ]
    }
   ],
   "source": [
    "print(log_reg.score(X_2_test, y_test))"
   ]
  },
  {
   "cell_type": "code",
   "execution_count": 80,
   "id": "8e810506-9115-4bc2-b320-82cb47963e11",
   "metadata": {},
   "outputs": [
    {
     "name": "stdout",
     "output_type": "stream",
     "text": [
      "Optimization terminated successfully.\n",
      "         Current function value: 0.581582\n",
      "         Iterations 5\n"
     ]
    }
   ],
   "source": [
    "results = sm.Logit(y_train, X_2_train).fit()"
   ]
  },
  {
   "cell_type": "code",
   "execution_count": 81,
   "id": "3452ec3f-927a-4390-bd37-ebc795d2822b",
   "metadata": {},
   "outputs": [
    {
     "name": "stdout",
     "output_type": "stream",
     "text": [
      "                           Logit Regression Results                           \n",
      "==============================================================================\n",
      "Dep. Variable:                      y   No. Observations:               101667\n",
      "Model:                          Logit   Df Residuals:                   101652\n",
      "Method:                           MLE   Df Model:                           14\n",
      "Date:                Tue, 26 Oct 2021   Pseudo R-squ.:                  0.1212\n",
      "Time:                        14:35:27   Log-Likelihood:                -59128.\n",
      "converged:                       True   LL-Null:                       -67285.\n",
      "Covariance Type:            nonrobust   LLR p-value:                     0.000\n",
      "======================================================================================================\n",
      "                                         coef    std err          z      P>|z|      [0.025      0.975]\n",
      "------------------------------------------------------------------------------------------------------\n",
      "target_black                           0.7887      0.056     14.134      0.000       0.679       0.898\n",
      "target_latino                          0.5953      0.037     16.019      0.000       0.522       0.668\n",
      "target_asian                           0.3714      0.039      9.553      0.000       0.295       0.448\n",
      "target_native american                -1.4998      0.073    -20.414      0.000      -1.644      -1.356\n",
      "target_pacific islander               -0.6828      0.086     -7.897      0.000      -0.852      -0.513\n",
      "target_white                          -0.1075      0.027     -3.910      0.000      -0.161      -0.054\n",
      "demo_asian                             0.7210      0.028     25.883      0.000       0.666       0.776\n",
      "demo_black                             0.8046      0.025     32.354      0.000       0.756       0.853\n",
      "demo_american_indian_alaska_native    -0.0339      0.052     -0.652      0.515      -0.136       0.068\n",
      "demo_latino                            0.5258      0.028     18.784      0.000       0.471       0.581\n",
      "demo_white                             0.9983      0.010     95.599      0.000       0.978       1.019\n",
      "demo_other_race                        0.5829      0.068      8.519      0.000       0.449       0.717\n",
      "black_labeler_black_target            -0.3730      0.079     -4.742      0.000      -0.527      -0.219\n",
      "white_labeler_black_target            -0.4004      0.059     -6.800      0.000      -0.516      -0.285\n",
      "labels_polarity                       -1.7227      0.015   -114.805      0.000      -1.752      -1.693\n",
      "======================================================================================================\n"
     ]
    }
   ],
   "source": [
    "print(results.summary())"
   ]
  },
  {
   "cell_type": "code",
   "execution_count": null,
   "id": "d9147865-62b0-41ae-9186-1943b6148bd1",
   "metadata": {},
   "outputs": [],
   "source": [
    "#how should the y be defined\n",
    "\n",
    "#made it hate speech sum normalized and then binarized into 0 1 bc i thought this would be helpful for logit \n",
    "\n",
    "#maybe i use the items where the y is a set of \"subjective\" criteria \n"
   ]
  },
  {
   "cell_type": "code",
   "execution_count": 53,
   "id": "a24c092e-6b95-45bc-b32e-8f65e8b27519",
   "metadata": {},
   "outputs": [
    {
     "data": {
      "text/plain": [
       "array(['sentiment', 'respect', 'insult', 'humiliate', 'status',\n",
       "       'dehumanize', 'violence_phys', 'genocide', 'attack_defend',\n",
       "       'hatespeech', 'comment_id', 'platform', 'uid', 'predict_text',\n",
       "       'measure', 'std_err', 'num_ratings', 'weight', 'has_targets',\n",
       "       'target_identity_count', 'labeler_id', 'rater_measure',\n",
       "       'rater_infitms', 'rater_outfitms', 'infitms', 'outfitms',\n",
       "       'target_identities_1', 'target_identities_2',\n",
       "       'target_identities_3', 'target_identities_4',\n",
       "       'target_identities_5', 'target_identities_6',\n",
       "       'target_identities_7', 'target_identities_9', 'target_race_1',\n",
       "       'target_race_2', 'target_race_3', 'target_race_8', 'target_race_4',\n",
       "       'target_race_5', 'target_race_6', 'target_race_7',\n",
       "       'target_race_7_text', 'target_religion_1', 'target_religion_2',\n",
       "       'target_religion_4', 'target_religion_5', 'target_religion_8',\n",
       "       'target_religion_9', 'target_religion_10', 'target_religion_6',\n",
       "       'target_religion_6_text', 'target_citizen_5', 'target_citizen_1',\n",
       "       'target_citizen_2', 'target_citizen_3', 'target_citizen_4',\n",
       "       'target_citizen_4_text', 'target_gender_1', 'target_gender_3',\n",
       "       'target_gender_2', 'target_gender_5', 'target_gender_6',\n",
       "       'target_gender_7', 'target_gender_4', 'target_gender_4_text',\n",
       "       'target_sexuality_1', 'target_sexuality_2', 'target_sexuality_6',\n",
       "       'target_sexuality_3', 'target_sexuality_5',\n",
       "       'target_sexuality_5_text', 'target_age_1', 'target_age_2',\n",
       "       'target_age_3', 'target_age_4', 'target_age_5', 'target_age_6',\n",
       "       'target_age_6_text', 'target_disability_1', 'target_disability_2',\n",
       "       'target_disability_3', 'target_disability_4',\n",
       "       'target_disability_5', 'target_disability_9',\n",
       "       'target_disability_6', 'target_disability_6_text',\n",
       "       'target_political_1', 'target_political_2', 'target_political_3',\n",
       "       'target_political_4', 'target_political_5', 'target_political_6',\n",
       "       'target_political_7', 'target_political_8', 'target_political_9',\n",
       "       'target_political_10', 'target_political_11',\n",
       "       'target_political_11_text', 'demo_gender', 'demo_gender_4_text',\n",
       "       'demo_trans', 'demo_educ', 'demo_race_ethnicitie_1',\n",
       "       'demo_race_ethnicitie_2', 'demo_race_ethnicitie_3',\n",
       "       'demo_race_ethnicitie_4', 'demo_race_ethnicitie_5',\n",
       "       'demo_race_ethnicitie_8', 'demo_race_ethnicitie_6',\n",
       "       'demo_race_ethnicitie_7', 'demo_race_ethnicitie_7_text',\n",
       "       'demo_age', 'demo_income', 'demo_religion_1', 'demo_religion_2',\n",
       "       'demo_religion_11', 'demo_religion_4', 'demo_religion_5',\n",
       "       'demo_religion_7', 'demo_religion_8', 'demo_religion_9',\n",
       "       'demo_religion_10', 'demo_religion_10_text', 'demo_sexual_orien_1',\n",
       "       'demo_sexual_orien_2', 'demo_sexual_orien_3',\n",
       "       'demo_sexual_orien_4', 'demo_sexual_orien_5',\n",
       "       'demo_sexual_orien_4_text', 'demo_ideology', 'locationlatitude',\n",
       "       'locationlongitude', 'identity', 'hypothesis', 'hatespeechsum',\n",
       "       'normalized_hate', 'binarized_hate', 'polarity', 'polarity_binary',\n",
       "       'labels_polarity', 'black_labeler_black_target',\n",
       "       'white_labeler_black_target', 'black_labeler_white_target',\n",
       "       'white_labeler_white_target'], dtype=object)"
      ]
     },
     "execution_count": 53,
     "metadata": {},
     "output_type": "execute_result"
    }
   ],
   "source": [
    "data_multi.columns.values"
   ]
  },
  {
   "cell_type": "code",
   "execution_count": 54,
   "id": "68eb1b09-63c5-46ea-86aa-02e1c9d1d3cd",
   "metadata": {},
   "outputs": [],
   "source": [
    "items = ['sentiment', 'respect', 'insult', 'humiliate', 'status',\n",
    "       'dehumanize', 'violence_phys', 'genocide', 'attack_defend',\n",
    "       'hatespeech']"
   ]
  },
  {
   "cell_type": "code",
   "execution_count": 59,
   "id": "ec85d853-3124-4727-bb88-d6504ec945c5",
   "metadata": {},
   "outputs": [],
   "source": [
    "black_target_black_labeler_dehumanize = data_multi[(data_multi['target_race_1'] == 1) & (data_multi['demo_race_ethnicitie_3'])]['dehumanize']"
   ]
  },
  {
   "cell_type": "code",
   "execution_count": 60,
   "id": "582eeb2a-3024-4d40-84ac-6a3a4731669e",
   "metadata": {},
   "outputs": [],
   "source": [
    "black_target_white_labeler_dehumanize = data_multi[(data_multi['target_race_1'] == 1) & (data_multi['demo_race_ethnicitie_6'])]['dehumanize']"
   ]
  },
  {
   "cell_type": "code",
   "execution_count": 63,
   "id": "feddeaf1-4690-483a-9468-910546377d43",
   "metadata": {},
   "outputs": [
    {
     "name": "stdout",
     "output_type": "stream",
     "text": [
      "black target black labeler dehumanize mean 0.46116928446771377\n",
      "black target white labeler dehumanize mean 0.4498786734968994\n"
     ]
    }
   ],
   "source": [
    "import statistics as s\n",
    "\n",
    "print('black target black labeler dehumanize mean', s.mean(black_target_black_labeler_dehumanize))\n",
    "print('black target white labeler dehumanize mean', s.mean(black_target_white_labeler_dehumanize))"
   ]
  },
  {
   "cell_type": "code",
   "execution_count": 66,
   "id": "f15e7215-8b4d-4615-8e2f-c3e25debdf4a",
   "metadata": {},
   "outputs": [
    {
     "name": "stdout",
     "output_type": "stream",
     "text": [
      "sentiment black target black labeler 3.1919720767888307\n",
      "sentiment black target white labeler 3.265192774332704\n",
      "respect black target black labeler 3.074607329842932\n",
      "respect black target white labeler 3.1447290374764085\n",
      "insult black target black labeler 1.9376090750436301\n",
      "insult black target white labeler 1.9723914801833378\n",
      "humiliate black target black labeler 0.955933682373473\n",
      "humiliate black target white labeler 0.8925856025882988\n",
      "status black target black labeler 0.5392670157068062\n",
      "status black target white labeler 0.5994607710973309\n",
      "dehumanize black target black labeler 0.46116928446771377\n",
      "dehumanize black target white labeler 0.4498786734968994\n",
      "violence_phys black target black labeler 0.27137870855148344\n",
      "violence_phys black target white labeler 0.257427878134268\n",
      "genocide black target black labeler 0.2111692844677138\n",
      "genocide black target white labeler 0.1870045834456727\n",
      "attack_defend black target black labeler 1.8656195462478184\n",
      "attack_defend black target white labeler 1.8552170396333243\n",
      "hatespeech black target black labeler 0.5318499127399651\n",
      "hatespeech black target white labeler 0.543273119439202\n"
     ]
    }
   ],
   "source": [
    "for i in items:\n",
    "    print(i, 'black target black labeler', s.mean(data_multi[(data_multi['target_race_1'] == 1) & (data_multi['demo_race_ethnicitie_3'])][i]))\n",
    "    print(i, 'black target white labeler', s.mean(data_multi[(data_multi['target_race_1'] == 1) & (data_multi['demo_race_ethnicitie_6'])][i]))\n",
    "\n",
    "    #look back at target race agreement in previous notebook"
   ]
  },
  {
   "cell_type": "code",
   "execution_count": 67,
   "id": "fe9f2ae1-2ae0-4344-b647-6f7d865b6921",
   "metadata": {},
   "outputs": [],
   "source": [
    "#average_items_black_target = {'black_labeler':{'sentiment': , 'respect': }, 'white_labeler':{} }\n",
    "\n",
    "black_target_white_labeler = data_multi[(data_multi['target_race_1'] == 1) & (data_multi['demo_race_ethnicitie_6'])]"
   ]
  },
  {
   "cell_type": "code",
   "execution_count": 69,
   "id": "8d855625-2629-4ade-927d-465977afa96d",
   "metadata": {},
   "outputs": [],
   "source": [
    "black_target_black_labeler_dehumanize = data_multi[(data_multi['target_race_1'] == 1) & (data_multi['demo_race_ethnicitie_3'])]"
   ]
  },
  {
   "cell_type": "code",
   "execution_count": 71,
   "id": "c2ab07bc-f633-4a18-b4ff-1be60562bba2",
   "metadata": {},
   "outputs": [],
   "source": [
    "values_black = []\n",
    "values_white = []\n",
    "for i in items:\n",
    "    values_black.append(s.mean(data_multi[(data_multi['target_race_1'] == 1) & (data_multi['demo_race_ethnicitie_3'])][i]))\n",
    "    values_white.append(s.mean(data_multi[(data_multi['target_race_1'] == 1) & (data_multi['demo_race_ethnicitie_6'])][i]))"
   ]
  },
  {
   "cell_type": "code",
   "execution_count": 72,
   "id": "00fe6cc3-b203-4d0d-abd8-e7b9b6f347e0",
   "metadata": {},
   "outputs": [
    {
     "data": {
      "text/plain": [
       "[3.265192774332704,\n",
       " 3.1447290374764085,\n",
       " 1.9723914801833378,\n",
       " 0.8925856025882988,\n",
       " 0.5994607710973309,\n",
       " 0.4498786734968994,\n",
       " 0.257427878134268,\n",
       " 0.1870045834456727,\n",
       " 1.8552170396333243,\n",
       " 0.543273119439202]"
      ]
     },
     "execution_count": 72,
     "metadata": {},
     "output_type": "execute_result"
    }
   ],
   "source": [
    "values_black\n",
    "values_white"
   ]
  },
  {
   "cell_type": "code",
   "execution_count": null,
   "id": "78550b5b-30ab-4693-9fb6-2945cb91d4b6",
   "metadata": {},
   "outputs": [],
   "source": []
  }
 ],
 "metadata": {
  "kernelspec": {
   "display_name": "Python 3",
   "language": "python",
   "name": "python3"
  },
  "language_info": {
   "codemirror_mode": {
    "name": "ipython",
    "version": 3
   },
   "file_extension": ".py",
   "mimetype": "text/x-python",
   "name": "python",
   "nbconvert_exporter": "python",
   "pygments_lexer": "ipython3",
   "version": "3.9.5"
  }
 },
 "nbformat": 4,
 "nbformat_minor": 5
}
