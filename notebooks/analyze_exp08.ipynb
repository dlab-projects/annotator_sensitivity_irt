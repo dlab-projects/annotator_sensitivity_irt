{
 "cells": [
  {
   "cell_type": "code",
   "execution_count": 1,
   "metadata": {},
   "outputs": [],
   "source": [
    "import numpy as np\n",
    "import os\n",
    "import matplotlib.pyplot as plt\n",
    "import mpl_lego as mplego\n",
    "import pandas as pd\n",
    "\n",
    "from hatespeech.keys import (items,\n",
    "                             race_to_col,\n",
    "                             annotator_race_to_col,\n",
    "                             annotator_gender,\n",
    "                             annotator_educ,\n",
    "                             annotator_income,\n",
    "                             annotator_religion_to_col,\n",
    "                             annotator_sexual_orientation_to_col,\n",
    "                             annotator_ideology)\n",
    "from hatespeech import utils\n",
    "from IPython.display import Markdown\n",
    "from scipy.stats import f_oneway, kruskal\n",
    "\n",
    "%matplotlib inline"
   ]
  },
  {
   "cell_type": "code",
   "execution_count": 2,
   "metadata": {},
   "outputs": [],
   "source": [
    "pd.set_option('display.max_colwidth', None)"
   ]
  },
  {
   "cell_type": "code",
   "execution_count": 3,
   "metadata": {},
   "outputs": [],
   "source": [
    "mplego.style.use_latex_style()"
   ]
  },
  {
   "cell_type": "code",
   "execution_count": 14,
   "metadata": {},
   "outputs": [],
   "source": [
    "exp = \"08\"\n",
    "base_path = os.path.join(os.environ['HOME'], 'projects/hatespeech-2021-fairml')\n",
    "data_path = os.path.join(os.environ['HOME'], 'data/hatespeech/clean_qualtrics_irt_rollout.feather')\n",
    "rater_quality_path = \"~/data/hatespeech/rater_quality_check.csv\"\n",
    "results_path = os.path.join(base_path, f'scaling/experiments/exp{exp}')"
   ]
  },
  {
   "cell_type": "code",
   "execution_count": 15,
   "metadata": {},
   "outputs": [],
   "source": [
    "data = pd.read_feather(data_path).rename(columns={'violence_phys': 'violence'})\n",
    "# Remove all rows in which some item is missing\n",
    "data = utils.filter_missing_items(data)\n",
    "# Remove all rows in which the rater is not up to sufficient quality\n",
    "rater_quality = pd.read_csv(rater_quality_path)\n",
    "data = utils.filter_annotator_quality(data, rater_quality)\n",
    "# Recode item responses\n",
    "data = utils.recode_responses(\n",
    "    data,\n",
    "    insult={1: 0, 2: 1, 3: 2, 4: 3},\n",
    "    humiliate={1: 0, 2: 0, 3: 1, 4: 2},\n",
    "    status={1: 0, 2: 0, 3: 1, 4: 1},\n",
    "    dehumanize={1: 0, 2: 0, 3: 1, 4: 1},\n",
    "    violence={1: 0, 2: 0, 3: 1, 4: 1},\n",
    "    genocide={1: 0, 2: 0, 3: 1, 4: 1},\n",
    "    attack_defend={1: 0, 2: 1, 3: 2, 4: 3},\n",
    "    hatespeech={1: 0, 2: 1})\n",
    "data = data[(data[race_to_col['black']] == 1)\n",
    "            | (data[race_to_col['white']] == 1)]\n"
   ]
  },
  {
   "cell_type": "code",
   "execution_count": 16,
   "metadata": {},
   "outputs": [],
   "source": [
    "avg_scores = data.groupby('comment_id')[items].mean()"
   ]
  },
  {
   "cell_type": "code",
   "execution_count": 17,
   "metadata": {},
   "outputs": [],
   "source": [
    "out_path = os.path.join(results_path, f\"exp08_out.txt\")"
   ]
  },
  {
   "cell_type": "code",
   "execution_count": 18,
   "metadata": {},
   "outputs": [],
   "source": [
    "with open(out_path) as f:\n",
    "    lines = f.readlines()"
   ]
  },
  {
   "cell_type": "code",
   "execution_count": 22,
   "metadata": {},
   "outputs": [],
   "source": [
    "bias_lines = lines[26223:26287]"
   ]
  },
  {
   "cell_type": "code",
   "execution_count": 119,
   "metadata": {},
   "outputs": [],
   "source": [
    "races = {\n",
    "    'asian': 3,\n",
    "    'black': 1,\n",
    "    'latinx': 2,\n",
    "    'middleeastern': 4,\n",
    "    'nativeamerican': 5,\n",
    "    'pacificislander': 6,\n",
    "    'white': 0,\n",
    "    'other': 7\n",
    "}"
   ]
  },
  {
   "cell_type": "code",
   "execution_count": 131,
   "metadata": {},
   "outputs": [
    {
     "data": {
      "text/plain": [
       "array(['white', 'black', 'latinx', 'asian', 'middleeastern',\n",
       "       'nativeamerican', 'pacificislander', 'other'], dtype='<U15')"
      ]
     },
     "execution_count": 131,
     "metadata": {},
     "output_type": "execute_result"
    }
   ],
   "source": [
    "np.array(list(races.keys()))[np.argsort(list(races.values()))]"
   ]
  },
  {
   "cell_type": "code",
   "execution_count": 129,
   "metadata": {},
   "outputs": [
    {
     "data": {
      "text/plain": [
       "array(dict_keys(['asian', 'black', 'latinx', 'middleeastern', 'nativeamerican', 'pacificislander', 'white', 'other']),\n",
       "      dtype=object)"
      ]
     },
     "execution_count": 129,
     "metadata": {},
     "output_type": "execute_result"
    }
   ],
   "source": [
    "np.array(races.keys())"
   ]
  },
  {
   "cell_type": "code",
   "execution_count": 120,
   "metadata": {},
   "outputs": [],
   "source": [
    "n_samples = len(bias_lines)\n",
    "observed = np.zeros(n_samples)\n",
    "expected = np.zeros(n_samples)\n",
    "bias_size = np.zeros(n_samples)\n",
    "t_stats = np.zeros(n_samples)\n",
    "p_vals = np.zeros(n_samples)\n",
    "target = np.zeros(n_samples, dtype=str)\n",
    "annotator = np.zeros(n_samples, dtype=str)\n",
    "biases = np.zeros((8, 8))\n",
    "p_values = np.zeros((8, 8))\n",
    "\n",
    "for idx, line in enumerate(bias_lines):\n",
    "    processed = line.replace('|', ' ').replace('>', ' ').replace('<', ' ').split()\n",
    "    observed[idx] = float(processed[0])\n",
    "    expected[idx] = float(processed[1])\n",
    "    bias_size[idx] = float(processed[4])\n",
    "    t_stats[idx] = float(processed[6])\n",
    "    p_vals[idx] = float(processed[8])\n",
    "    target[idx] = processed[13]\n",
    "    annotator[idx] = processed[16]\n",
    "\n",
    "    ii = races[line[88:105].replace(' ', '')]\n",
    "    jj = races[line[112:132].replace(' ', '')]\n",
    "    biases[ii, jj] = -float(processed[4])\n",
    "    \n",
    "    p_values[ii, jj] = float(processed[8])"
   ]
  },
  {
   "cell_type": "code",
   "execution_count": 121,
   "metadata": {},
   "outputs": [
    {
     "data": {
      "text/plain": [
       "{'asian': 3,\n",
       " 'black': 1,\n",
       " 'latinx': 2,\n",
       " 'middleeastern': 4,\n",
       " 'nativeamerican': 5,\n",
       " 'pacificislander': 6,\n",
       " 'white': 0,\n",
       " 'other': 7}"
      ]
     },
     "execution_count": 121,
     "metadata": {},
     "output_type": "execute_result"
    }
   ],
   "source": [
    "races"
   ]
  },
  {
   "cell_type": "code",
   "execution_count": 122,
   "metadata": {},
   "outputs": [
    {
     "data": {
      "text/plain": [
       "<BarContainer object of 8 artists>"
      ]
     },
     "execution_count": 122,
     "metadata": {},
     "output_type": "execute_result"
    },
    {
     "data": {
      "image/png": "[encoded data removed]",
      "text/plain": [
       "<Figure size 432x288 with 1 Axes>"
      ]
     },
     "metadata": {
      "needs_background": "light"
     },
     "output_type": "display_data"
    }
   ],
   "source": [
    "plt.bar(x=np.arange(8), height=np.diag(biases))"
   ]
  },
  {
   "cell_type": "code",
   "execution_count": 106,
   "metadata": {},
   "outputs": [
    {
     "data": {
      "text/plain": [
       "['__builtins__',\n",
       " '__cached__',\n",
       " '__doc__',\n",
       " '__file__',\n",
       " '__loader__',\n",
       " '__name__',\n",
       " '__package__',\n",
       " '__spec__',\n",
       " 'append_colorbar_to_axis',\n",
       " 'append_marginal_axis',\n",
       " 'np',\n",
       " 'plt',\n",
       " 'scale_values_to_cmap']"
      ]
     },
     "execution_count": 106,
     "metadata": {},
     "output_type": "execute_result"
    }
   ],
   "source": [
    "dir(mplego.colorbar)"
   ]
  },
  {
   "cell_type": "code",
   "execution_count": 116,
   "metadata": {},
   "outputs": [
    {
     "data": {
      "text/plain": [
       "array([[ True, False,  True,  True, False, False, False, False],\n",
       "       [False,  True, False, False, False, False, False, False],\n",
       "       [False, False, False, False, False, False, False, False],\n",
       "       [False, False, False,  True,  True, False, False,  True],\n",
       "       [False,  True, False,  True, False, False, False,  True],\n",
       "       [False, False, False, False, False, False,  True,  True],\n",
       "       [False,  True,  True, False, False, False,  True, False],\n",
       "       [ True, False, False, False, False, False, False, False]])"
      ]
     },
     "execution_count": 116,
     "metadata": {},
     "output_type": "execute_result"
    }
   ],
   "source": [
    "p_values < 0.1"
   ]
  },
  {
   "cell_type": "code",
   "execution_count": 125,
   "metadata": {},
   "outputs": [
    {
     "data": {
      "text/plain": [
       "(<matplotlib.colorbar.Colorbar at 0x7ff4bd148810>, <Axes:>)"
      ]
     },
     "execution_count": 125,
     "metadata": {},
     "output_type": "execute_result"
    },
    {
     "data": {
      "image/png": "[encoded data removed]",
      "text/plain": [
       "<Figure size 720x720 with 2 Axes>"
      ]
     },
     "metadata": {
      "needs_background": "light"
     },
     "output_type": "display_data"
    }
   ],
   "source": [
    "fig, ax = plt.subplots(1, 1, figsize=(10, 10))\n",
    "img = ax.imshow(biases, cmap='RdGy', vmax=0.5, vmin=-0.5, origin='lower')\n",
    "ax.set_xticks(np.arange(8))\n",
    "ax.set_yticks(np.arange(8))\n",
    "ax.set_xticklabels(list(races.keys()), rotation=30, ha='right')\n",
    "ax.set_yticklabels(list(races.keys()), rotation=30, ha='right')\n",
    "ax.tick_params(labelsize=20)\n",
    "\n",
    "for ii in range(p_values.shape[0]):\n",
    "    for jj in range(p_values.shape[1]):\n",
    "        if p_values[ii, jj] < 0.1:\n",
    "            ax.scatter(ii, jj, marker='x', color='black', s=50)\n",
    "\n",
    "ax.set_xlabel(r'\\textbf{Target Race}', fontsize=20)\n",
    "ax.set_ylabel(r'\\textbf{Annotator Race}', fontsize=20)\n",
    "mplego.colorbar.append_colorbar_to_axis(ax, img)"
   ]
  },
  {
   "cell_type": "code",
   "execution_count": 34,
   "metadata": {},
   "outputs": [],
   "source": [
    "df = pd.DataFrame({\n",
    "    'observed': observed,\n",
    "    'expected': expected,\n",
    "    'bias': bias_size,\n",
    "    't_statistics': t_stats,\n",
    "    'p_values': p_vals,\n",
    "    'target_race': target,\n",
    "    'annotator_race': annotator})"
   ]
  },
  {
   "cell_type": "code",
   "execution_count": 35,
   "metadata": {},
   "outputs": [],
   "source": [
    "df['bias_corrected'] = -df['bias']\n",
    "df['bias_abs'] = df['bias'].abs()"
   ]
  },
  {
   "cell_type": "code",
   "execution_count": 36,
   "metadata": {},
   "outputs": [
    {
     "data": {
      "text/html": [
       "<div>\n",
       "<style scoped>\n",
       "    .dataframe tbody tr th:only-of-type {\n",
       "        vertical-align: middle;\n",
       "    }\n",
       "\n",
       "    .dataframe tbody tr th {\n",
       "        vertical-align: top;\n",
       "    }\n",
       "\n",
       "    .dataframe thead th {\n",
       "        text-align: right;\n",
       "    }\n",
       "</style>\n",
       "<table border=\"1\" class=\"dataframe\">\n",
       "  <thead>\n",
       "    <tr style=\"text-align: right;\">\n",
       "      <th></th>\n",
       "      <th>observed</th>\n",
       "      <th>expected</th>\n",
       "      <th>bias</th>\n",
       "      <th>t_statistics</th>\n",
       "      <th>p_values</th>\n",
       "      <th>target_race</th>\n",
       "      <th>annotator_race</th>\n",
       "      <th>bias_corrected</th>\n",
       "      <th>bias_abs</th>\n",
       "    </tr>\n",
       "  </thead>\n",
       "  <tbody>\n",
       "    <tr>\n",
       "      <th>0</th>\n",
       "      <td>4967.0</td>\n",
       "      <td>4974.88</td>\n",
       "      <td>-0.01</td>\n",
       "      <td>-0.28</td>\n",
       "      <td>0.7794</td>\n",
       "      <td>b</td>\n",
       "      <td>n</td>\n",
       "      <td>0.01</td>\n",
       "      <td>0.01</td>\n",
       "    </tr>\n",
       "    <tr>\n",
       "      <th>1</th>\n",
       "      <td>2014.0</td>\n",
       "      <td>2013.03</td>\n",
       "      <td>0.00</td>\n",
       "      <td>0.06</td>\n",
       "      <td>0.9535</td>\n",
       "      <td>l</td>\n",
       "      <td>n</td>\n",
       "      <td>-0.00</td>\n",
       "      <td>0.00</td>\n",
       "    </tr>\n",
       "    <tr>\n",
       "      <th>2</th>\n",
       "      <td>1830.0</td>\n",
       "      <td>1820.75</td>\n",
       "      <td>0.04</td>\n",
       "      <td>0.59</td>\n",
       "      <td>0.5559</td>\n",
       "      <td>a</td>\n",
       "      <td>n</td>\n",
       "      <td>-0.04</td>\n",
       "      <td>0.04</td>\n",
       "    </tr>\n",
       "    <tr>\n",
       "      <th>3</th>\n",
       "      <td>277.0</td>\n",
       "      <td>276.73</td>\n",
       "      <td>0.00</td>\n",
       "      <td>0.03</td>\n",
       "      <td>0.9735</td>\n",
       "      <td>n</td>\n",
       "      <td>n</td>\n",
       "      <td>-0.00</td>\n",
       "      <td>0.00</td>\n",
       "    </tr>\n",
       "    <tr>\n",
       "      <th>4</th>\n",
       "      <td>654.0</td>\n",
       "      <td>638.67</td>\n",
       "      <td>0.11</td>\n",
       "      <td>1.32</td>\n",
       "      <td>0.1878</td>\n",
       "      <td>p</td>\n",
       "      <td>n</td>\n",
       "      <td>-0.11</td>\n",
       "      <td>0.11</td>\n",
       "    </tr>\n",
       "    <tr>\n",
       "      <th>...</th>\n",
       "      <td>...</td>\n",
       "      <td>...</td>\n",
       "      <td>...</td>\n",
       "      <td>...</td>\n",
       "      <td>...</td>\n",
       "      <td>...</td>\n",
       "      <td>...</td>\n",
       "      <td>...</td>\n",
       "      <td>...</td>\n",
       "    </tr>\n",
       "    <tr>\n",
       "      <th>59</th>\n",
       "      <td>77.0</td>\n",
       "      <td>84.22</td>\n",
       "      <td>-0.38</td>\n",
       "      <td>-1.67</td>\n",
       "      <td>0.0988</td>\n",
       "      <td>n</td>\n",
       "      <td>m</td>\n",
       "      <td>0.38</td>\n",
       "      <td>0.38</td>\n",
       "    </tr>\n",
       "    <tr>\n",
       "      <th>60</th>\n",
       "      <td>282.0</td>\n",
       "      <td>272.81</td>\n",
       "      <td>0.19</td>\n",
       "      <td>1.33</td>\n",
       "      <td>0.1862</td>\n",
       "      <td>p</td>\n",
       "      <td>m</td>\n",
       "      <td>-0.19</td>\n",
       "      <td>0.19</td>\n",
       "    </tr>\n",
       "    <tr>\n",
       "      <th>61</th>\n",
       "      <td>395.0</td>\n",
       "      <td>390.20</td>\n",
       "      <td>0.05</td>\n",
       "      <td>0.50</td>\n",
       "      <td>0.6169</td>\n",
       "      <td>w</td>\n",
       "      <td>m</td>\n",
       "      <td>-0.05</td>\n",
       "      <td>0.05</td>\n",
       "    </tr>\n",
       "    <tr>\n",
       "      <th>62</th>\n",
       "      <td>290.0</td>\n",
       "      <td>296.59</td>\n",
       "      <td>-0.11</td>\n",
       "      <td>-0.84</td>\n",
       "      <td>0.3999</td>\n",
       "      <td>o</td>\n",
       "      <td>m</td>\n",
       "      <td>0.11</td>\n",
       "      <td>0.11</td>\n",
       "    </tr>\n",
       "    <tr>\n",
       "      <th>63</th>\n",
       "      <td>520.0</td>\n",
       "      <td>502.15</td>\n",
       "      <td>0.31</td>\n",
       "      <td>2.32</td>\n",
       "      <td>0.0209</td>\n",
       "      <td>m</td>\n",
       "      <td>m</td>\n",
       "      <td>-0.31</td>\n",
       "      <td>0.31</td>\n",
       "    </tr>\n",
       "  </tbody>\n",
       "</table>\n",
       "<p>64 rows × 9 columns</p>\n",
       "</div>"
      ],
      "text/plain": [
       "    observed  expected  bias  t_statistics  p_values target_race  \\\n",
       "0     4967.0   4974.88 -0.01         -0.28    0.7794           b   \n",
       "1     2014.0   2013.03  0.00          0.06    0.9535           l   \n",
       "2     1830.0   1820.75  0.04          0.59    0.5559           a   \n",
       "3      277.0    276.73  0.00          0.03    0.9735           n   \n",
       "4      654.0    638.67  0.11          1.32    0.1878           p   \n",
       "..       ...       ...   ...           ...       ...         ...   \n",
       "59      77.0     84.22 -0.38         -1.67    0.0988           n   \n",
       "60     282.0    272.81  0.19          1.33    0.1862           p   \n",
       "61     395.0    390.20  0.05          0.50    0.6169           w   \n",
       "62     290.0    296.59 -0.11         -0.84    0.3999           o   \n",
       "63     520.0    502.15  0.31          2.32    0.0209           m   \n",
       "\n",
       "   annotator_race  bias_corrected  bias_abs  \n",
       "0               n            0.01      0.01  \n",
       "1               n           -0.00      0.00  \n",
       "2               n           -0.04      0.04  \n",
       "3               n           -0.00      0.00  \n",
       "4               n           -0.11      0.11  \n",
       "..            ...             ...       ...  \n",
       "59              m            0.38      0.38  \n",
       "60              m           -0.19      0.19  \n",
       "61              m           -0.05      0.05  \n",
       "62              m            0.11      0.11  \n",
       "63              m           -0.31      0.31  \n",
       "\n",
       "[64 rows x 9 columns]"
      ]
     },
     "execution_count": 36,
     "metadata": {},
     "output_type": "execute_result"
    }
   ],
   "source": [
    "df"
   ]
  }
 ],
 "metadata": {
  "kernelspec": {
   "display_name": "hate",
   "language": "python",
   "name": "hate"
  },
  "language_info": {
   "codemirror_mode": {
    "name": "ipython",
    "version": 3
   },
   "file_extension": ".py",
   "mimetype": "text/x-python",
   "name": "python",
   "nbconvert_exporter": "python",
   "pygments_lexer": "ipython3",
   "version": "3.7.9"
  }
 },
 "nbformat": 4,
 "nbformat_minor": 4
}
