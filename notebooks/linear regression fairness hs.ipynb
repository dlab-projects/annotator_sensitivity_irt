{
 "cells": [
  {
   "cell_type": "code",
   "execution_count": 260,
   "id": "6ef86af2-ab97-4747-b62c-3fad40011dd7",
   "metadata": {},
   "outputs": [],
   "source": [
    "import numpy as np\n",
    "import pandas as pd\n",
    "import seaborn as sns\n",
    "\n",
    "\n",
    "import csv\n",
    "\n",
    "import os \n",
    "import sklearn\n",
    "from sklearn.preprocessing import OneHotEncoder\n",
    "\n",
    "from sklearn.linear_model import LassoCV\n",
    "from sklearn.linear_model import LogisticRegression\n",
    "from sklearn.model_selection import train_test_split\n",
    "from sklearn.metrics import confusion_matrix\n",
    "\n",
    "import statsmodels.api as sm\n",
    "\n",
    "import matplotlib.pyplot as plt\n",
    "%matplotlib inline"
   ]
  },
  {
   "cell_type": "code",
   "execution_count": null,
   "id": "9f98c248-bdf4-4361-997a-0324cb60114d",
   "metadata": {},
   "outputs": [],
   "source": []
  },
  {
   "cell_type": "code",
   "execution_count": null,
   "id": "0c82a230-b8cc-4c30-9e6d-672c34977706",
   "metadata": {},
   "outputs": [],
   "source": []
  },
  {
   "cell_type": "code",
   "execution_count": null,
   "id": "7c725fb1-0ec4-486e-9abf-71b91ff8041d",
   "metadata": {},
   "outputs": [],
   "source": []
  },
  {
   "cell_type": "code",
   "execution_count": 250,
   "id": "feaf36dc-a43d-4086-9e65-622b59de5f97",
   "metadata": {},
   "outputs": [
    {
     "data": {
      "text/html": [
       "<div>\n",
       "<style scoped>\n",
       "    .dataframe tbody tr th:only-of-type {\n",
       "        vertical-align: middle;\n",
       "    }\n",
       "\n",
       "    .dataframe tbody tr th {\n",
       "        vertical-align: top;\n",
       "    }\n",
       "\n",
       "    .dataframe thead th {\n",
       "        text-align: right;\n",
       "    }\n",
       "</style>\n",
       "<table border=\"1\" class=\"dataframe\">\n",
       "  <thead>\n",
       "    <tr style=\"text-align: right;\">\n",
       "      <th></th>\n",
       "      <th>sentiment</th>\n",
       "      <th>respect</th>\n",
       "      <th>insult</th>\n",
       "      <th>humiliate</th>\n",
       "      <th>status</th>\n",
       "      <th>dehumanize</th>\n",
       "      <th>violence_phys</th>\n",
       "      <th>genocide</th>\n",
       "      <th>attack_defend</th>\n",
       "      <th>hatespeech</th>\n",
       "      <th>...</th>\n",
       "      <th>demo_sexual_orien_2</th>\n",
       "      <th>demo_sexual_orien_3</th>\n",
       "      <th>demo_sexual_orien_4</th>\n",
       "      <th>demo_sexual_orien_5</th>\n",
       "      <th>demo_sexual_orien_4_text</th>\n",
       "      <th>demo_ideology</th>\n",
       "      <th>locationlatitude</th>\n",
       "      <th>locationlongitude</th>\n",
       "      <th>identity</th>\n",
       "      <th>hypothesis</th>\n",
       "    </tr>\n",
       "  </thead>\n",
       "  <tbody>\n",
       "    <tr>\n",
       "      <th>0</th>\n",
       "      <td>0.0</td>\n",
       "      <td>0.0</td>\n",
       "      <td>0.0</td>\n",
       "      <td>0.0</td>\n",
       "      <td>0.0</td>\n",
       "      <td>0.0</td>\n",
       "      <td>0.0</td>\n",
       "      <td>0.0</td>\n",
       "      <td>0.0</td>\n",
       "      <td>0.0</td>\n",
       "      <td>...</td>\n",
       "      <td>NaN</td>\n",
       "      <td>NaN</td>\n",
       "      <td>NaN</td>\n",
       "      <td>NaN</td>\n",
       "      <td></td>\n",
       "      <td>4.0</td>\n",
       "      <td>37.55029296875</td>\n",
       "      <td>-77.39420318603515625</td>\n",
       "      <td>0.917681</td>\n",
       "      <td>-1.130178</td>\n",
       "    </tr>\n",
       "    <tr>\n",
       "      <th>1</th>\n",
       "      <td>0.0</td>\n",
       "      <td>0.0</td>\n",
       "      <td>0.0</td>\n",
       "      <td>0.0</td>\n",
       "      <td>0.0</td>\n",
       "      <td>0.0</td>\n",
       "      <td>0.0</td>\n",
       "      <td>0.0</td>\n",
       "      <td>1.0</td>\n",
       "      <td>0.0</td>\n",
       "      <td>...</td>\n",
       "      <td>NaN</td>\n",
       "      <td>NaN</td>\n",
       "      <td>NaN</td>\n",
       "      <td>NaN</td>\n",
       "      <td></td>\n",
       "      <td>4.0</td>\n",
       "      <td>32.9568939208984375</td>\n",
       "      <td>-96.83170318603515625</td>\n",
       "      <td>0.918119</td>\n",
       "      <td>-1.146973</td>\n",
       "    </tr>\n",
       "    <tr>\n",
       "      <th>2</th>\n",
       "      <td>4.0</td>\n",
       "      <td>4.0</td>\n",
       "      <td>3.0</td>\n",
       "      <td>2.0</td>\n",
       "      <td>1.0</td>\n",
       "      <td>1.0</td>\n",
       "      <td>0.0</td>\n",
       "      <td>0.0</td>\n",
       "      <td>3.0</td>\n",
       "      <td>1.0</td>\n",
       "      <td>...</td>\n",
       "      <td>NaN</td>\n",
       "      <td>NaN</td>\n",
       "      <td>NaN</td>\n",
       "      <td>NaN</td>\n",
       "      <td></td>\n",
       "      <td>5.0</td>\n",
       "      <td>39.3361053466796875</td>\n",
       "      <td>-76.53890228271484375</td>\n",
       "      <td>0.985910</td>\n",
       "      <td>-0.207369</td>\n",
       "    </tr>\n",
       "    <tr>\n",
       "      <th>3</th>\n",
       "      <td>2.0</td>\n",
       "      <td>3.0</td>\n",
       "      <td>1.0</td>\n",
       "      <td>0.0</td>\n",
       "      <td>0.0</td>\n",
       "      <td>0.0</td>\n",
       "      <td>0.0</td>\n",
       "      <td>0.0</td>\n",
       "      <td>2.0</td>\n",
       "      <td>0.0</td>\n",
       "      <td>...</td>\n",
       "      <td>NaN</td>\n",
       "      <td>NaN</td>\n",
       "      <td>NaN</td>\n",
       "      <td>NaN</td>\n",
       "      <td></td>\n",
       "      <td>4.0</td>\n",
       "      <td>37.1439971923828125</td>\n",
       "      <td>-94.4727020263671875</td>\n",
       "      <td>0.969761</td>\n",
       "      <td>-0.055536</td>\n",
       "    </tr>\n",
       "    <tr>\n",
       "      <th>4</th>\n",
       "      <td>4.0</td>\n",
       "      <td>4.0</td>\n",
       "      <td>3.0</td>\n",
       "      <td>2.0</td>\n",
       "      <td>1.0</td>\n",
       "      <td>1.0</td>\n",
       "      <td>1.0</td>\n",
       "      <td>0.0</td>\n",
       "      <td>2.0</td>\n",
       "      <td>1.0</td>\n",
       "      <td>...</td>\n",
       "      <td>NaN</td>\n",
       "      <td>NaN</td>\n",
       "      <td>NaN</td>\n",
       "      <td>NaN</td>\n",
       "      <td></td>\n",
       "      <td>4.0</td>\n",
       "      <td>34.215301513671875</td>\n",
       "      <td>-79.64679718017578125</td>\n",
       "      <td>0.935462</td>\n",
       "      <td>0.104225</td>\n",
       "    </tr>\n",
       "  </tbody>\n",
       "</table>\n",
       "<p>5 rows × 135 columns</p>\n",
       "</div>"
      ],
      "text/plain": [
       "   sentiment  respect  insult  humiliate  status  dehumanize  violence_phys  \\\n",
       "0        0.0      0.0     0.0        0.0     0.0         0.0            0.0   \n",
       "1        0.0      0.0     0.0        0.0     0.0         0.0            0.0   \n",
       "2        4.0      4.0     3.0        2.0     1.0         1.0            0.0   \n",
       "3        2.0      3.0     1.0        0.0     0.0         0.0            0.0   \n",
       "4        4.0      4.0     3.0        2.0     1.0         1.0            1.0   \n",
       "\n",
       "   genocide  attack_defend  hatespeech  ...  demo_sexual_orien_2  \\\n",
       "0       0.0            0.0         0.0  ...                  NaN   \n",
       "1       0.0            1.0         0.0  ...                  NaN   \n",
       "2       0.0            3.0         1.0  ...                  NaN   \n",
       "3       0.0            2.0         0.0  ...                  NaN   \n",
       "4       0.0            2.0         1.0  ...                  NaN   \n",
       "\n",
       "  demo_sexual_orien_3 demo_sexual_orien_4 demo_sexual_orien_5  \\\n",
       "0                 NaN                 NaN                 NaN   \n",
       "1                 NaN                 NaN                 NaN   \n",
       "2                 NaN                 NaN                 NaN   \n",
       "3                 NaN                 NaN                 NaN   \n",
       "4                 NaN                 NaN                 NaN   \n",
       "\n",
       "   demo_sexual_orien_4_text  demo_ideology     locationlatitude  \\\n",
       "0                                      4.0       37.55029296875   \n",
       "1                                      4.0  32.9568939208984375   \n",
       "2                                      5.0  39.3361053466796875   \n",
       "3                                      4.0  37.1439971923828125   \n",
       "4                                      4.0   34.215301513671875   \n",
       "\n",
       "       locationlongitude  identity  hypothesis  \n",
       "0  -77.39420318603515625  0.917681   -1.130178  \n",
       "1  -96.83170318603515625  0.918119   -1.146973  \n",
       "2  -76.53890228271484375  0.985910   -0.207369  \n",
       "3   -94.4727020263671875  0.969761   -0.055536  \n",
       "4  -79.64679718017578125  0.935462    0.104225  \n",
       "\n",
       "[5 rows x 135 columns]"
      ]
     },
     "execution_count": 250,
     "metadata": {},
     "output_type": "execute_result"
    }
   ],
   "source": [
    "data_multi = pd.read_feather('/home/rbarreto/data/scaled-facets-multi-50k-v4.feather')\n",
    "data_multi.head(5)"
   ]
  },
  {
   "cell_type": "code",
   "execution_count": null,
   "id": "1992d89e-9dbe-4009-a3a7-eef769b78576",
   "metadata": {},
   "outputs": [],
   "source": []
  },
  {
   "cell_type": "code",
   "execution_count": null,
   "id": "fde3cae0-d02c-43d5-8ce8-5da686000b8f",
   "metadata": {},
   "outputs": [],
   "source": [
    "# pd.set_option('display.max_rows', None, 'display.max_columns', None)\n",
    "# pd.options.display.max_seq_items = 2000\n",
    "# data_multi.columns"
   ]
  },
  {
   "cell_type": "code",
   "execution_count": null,
   "id": "4655ca3b-c7b8-4ccc-897d-e3cfd21c2bec",
   "metadata": {},
   "outputs": [],
   "source": []
  },
  {
   "cell_type": "code",
   "execution_count": null,
   "id": "646bd024-fc9b-47fb-a544-86dd0830fa0e",
   "metadata": {},
   "outputs": [],
   "source": [
    "#we can combine locationlatitude and locationlongitude\n",
    "#then generate the country for every labeler (must be a function that does this in python)\n",
    "#then turn it into a categorical variable\n",
    "#hypothesis: people from more conservative regions...XYZ"
   ]
  },
  {
   "cell_type": "code",
   "execution_count": null,
   "id": "7ffd1a68-b103-4cfd-8a0a-1e09efec79a1",
   "metadata": {},
   "outputs": [],
   "source": [
    "data_multi['has_targets'].value_counts(dropna=False)\n"
   ]
  },
  {
   "cell_type": "code",
   "execution_count": null,
   "id": "a0e939be-bff7-4eee-a1c8-07ef23d7f039",
   "metadata": {},
   "outputs": [],
   "source": [
    "len(data_multi)"
   ]
  },
  {
   "cell_type": "code",
   "execution_count": null,
   "id": "cde0c948-68b5-4f60-8abf-ddc0f25c59a0",
   "metadata": {},
   "outputs": [],
   "source": [
    "data_multi['dehumanize'].value_counts()"
   ]
  },
  {
   "cell_type": "code",
   "execution_count": null,
   "id": "b42a63ca-a101-4aea-9806-79be529ae736",
   "metadata": {},
   "outputs": [],
   "source": [
    "data_multi['sentiment'].value_counts()"
   ]
  },
  {
   "cell_type": "code",
   "execution_count": null,
   "id": "4fcd8fa3-1247-4f12-afc0-6bbbe4de927e",
   "metadata": {},
   "outputs": [],
   "source": [
    "data_multi.columns.values"
   ]
  },
  {
   "cell_type": "code",
   "execution_count": null,
   "id": "222c4371-e2f3-45e4-ab19-9b3ee91f5bd5",
   "metadata": {},
   "outputs": [],
   "source": []
  },
  {
   "cell_type": "code",
   "execution_count": null,
   "id": "1315bdd6-35f5-42a9-a81f-1a78fc3dffef",
   "metadata": {},
   "outputs": [],
   "source": []
  },
  {
   "cell_type": "code",
   "execution_count": null,
   "id": "2a413500-0f58-43b6-8e69-23df040e2f39",
   "metadata": {},
   "outputs": [],
   "source": []
  },
  {
   "cell_type": "code",
   "execution_count": null,
   "id": "ad1f6559-ef5c-40b6-bce4-e95d7ad384f7",
   "metadata": {},
   "outputs": [],
   "source": [
    "data_multi.shape"
   ]
  },
  {
   "cell_type": "code",
   "execution_count": null,
   "id": "0c45a936-224a-4855-907d-b3b683e88a64",
   "metadata": {},
   "outputs": [],
   "source": []
  },
  {
   "cell_type": "code",
   "execution_count": null,
   "id": "fa14e09c-87c2-4b7b-8dd9-323813fca3f0",
   "metadata": {},
   "outputs": [],
   "source": [
    "# Hate speech construct items\n",
    "items = [\n",
    "    \"sentiment\",\n",
    "    \"respect\",\n",
    "    \"insult\",\n",
    "    \"humiliate\",\n",
    "    \"status\",\n",
    "    \"dehumanize\",\n",
    "    \"violence_phys\",\n",
    "    \"genocide\",\n",
    "    \"attack_defend\",\n",
    "    \"hatespeech\"]\n",
    "\n",
    "hate_speech_sum = data_multi[items].sum(axis=1)"
   ]
  },
  {
   "cell_type": "code",
   "execution_count": null,
   "id": "b65ae27c-7cec-49b2-8354-95238eedeab9",
   "metadata": {},
   "outputs": [],
   "source": []
  },
  {
   "cell_type": "code",
   "execution_count": null,
   "id": "a32af1bc-e53a-43c6-8d0f-82730fd65fcc",
   "metadata": {},
   "outputs": [],
   "source": [
    "data_multi['hatespeech'].value_counts()\n"
   ]
  },
  {
   "cell_type": "code",
   "execution_count": null,
   "id": "d635fd80-a31a-4e0e-831e-a9b884065d62",
   "metadata": {},
   "outputs": [],
   "source": [
    "hate_speech_sum"
   ]
  },
  {
   "cell_type": "code",
   "execution_count": null,
   "id": "0029cd2b-75ce-4cb2-a5d2-d5345ff2a9fb",
   "metadata": {},
   "outputs": [],
   "source": [
    "data_multi.columns.values"
   ]
  },
  {
   "cell_type": "code",
   "execution_count": null,
   "id": "45823b13-bffb-44f5-ad08-939cb32fba82",
   "metadata": {},
   "outputs": [],
   "source": [
    "data_multi['dehumanize'].value_counts()"
   ]
  },
  {
   "cell_type": "code",
   "execution_count": null,
   "id": "5b3f8fd6-4b65-403c-844b-0a0164266a1c",
   "metadata": {},
   "outputs": [],
   "source": [
    "data_multi['target_race_1'].value_counts()"
   ]
  },
  {
   "cell_type": "code",
   "execution_count": null,
   "id": "ef72e30c-7658-4ffd-b3e9-7141659f6733",
   "metadata": {},
   "outputs": [],
   "source": [
    "data_multi['platform'].value_counts(dropna=False)"
   ]
  },
  {
   "cell_type": "code",
   "execution_count": null,
   "id": "6a28fdb6-8f74-468d-b7f9-d18c120f03fd",
   "metadata": {},
   "outputs": [],
   "source": [
    "data_multi['platform'].value_counts(dropna=False)"
   ]
  },
  {
   "cell_type": "markdown",
   "id": "3ff22b53-c327-4794-a07e-e930ff814cc6",
   "metadata": {},
   "source": [
    "## What are the different variables that we want to include as features in the linear regression model and why?\n",
    "\n",
    "1. comment_id bc some comments will be more hateful than others (this should be categorical not nominal) \n",
    "2. the different demo characteristics \n",
    "\n",
    "\n",
    "What are we trying to predict?\n",
    "1. Is it the hate speech sum (also do we want to predict for a particular part in the hate speech sum? what if something is washed out) \n",
    "2. is it the hate speech score \n",
    "3. if it's the hate speech sum, then this goes along with the previous line of inquiry\n",
    "4. we still need to figure out what is the relationship between the hate speech sum and the hate speech score \n",
    "5. can it be the hate speech sum conditional on \n",
    "\n",
    "\n",
    "So one way to address this is by making the variable into DVs (target_race_white, target_race_black, and demo_race_X etc)\n",
    "and including them as controls in the regression \n",
    "\n",
    "For traditional social science stuff it’s to show that the strength and direction of the relationship is roughly the same even when you don’t control for certain stuff; So it’s “robust to alternative specifications”; It’s a bit subject to p-hacking but for exploratory analysis"
   ]
  },
  {
   "cell_type": "markdown",
   "id": "8dc9197a-0621-4bac-84ef-949065651ad9",
   "metadata": {},
   "source": [
    "## FULL MODEL "
   ]
  },
  {
   "cell_type": "code",
   "execution_count": null,
   "id": "360dfc3d-5a2a-4af1-97bb-36aa22848c61",
   "metadata": {},
   "outputs": [],
   "source": [
    "features = ['platform', 'locationlatitude', 'target_identity_count', \n",
    "            'target_identities_1', 'target_identities_2',\n",
    "       'target_identities_3', 'target_identities_4',\n",
    "       'target_identities_5', 'target_identities_6',\n",
    "       'target_identities_7', 'target_identities_9', 'target_race_1',\n",
    "       'target_race_2', 'target_race_3', 'target_race_8', 'target_race_4',\n",
    "       'target_race_5', 'target_race_6', 'target_race_7',\n",
    "       'target_religion_1', 'target_religion_2',\n",
    "       'target_religion_4', 'target_religion_5', 'target_religion_8',\n",
    "       'target_religion_9', 'target_religion_10', 'target_religion_6',\n",
    "       'target_citizen_5', 'target_citizen_1',\n",
    "       'target_citizen_2', 'target_citizen_3', 'target_citizen_4', \n",
    "       'target_gender_1', 'target_gender_3',\n",
    "       'target_gender_2', 'target_gender_5', 'target_gender_6',\n",
    "       'target_gender_7', 'target_gender_4',\n",
    "       'target_sexuality_1', 'target_sexuality_2', 'target_sexuality_6',\n",
    "       'target_sexuality_3', 'target_sexuality_5', 'target_age_1', 'target_age_2',\n",
    "       'target_age_3', 'target_age_4', 'target_age_5', 'target_age_6',\n",
    "       'target_disability_1', 'target_disability_2',\n",
    "       'target_disability_3', 'target_disability_4',\n",
    "       'target_disability_5', 'target_disability_9','target_disability_6', \n",
    "       'target_political_1', 'target_political_2', 'target_political_3',\n",
    "       'target_political_4', 'target_political_5', 'target_political_6',\n",
    "       'target_political_7', 'target_political_8', 'target_political_9',\n",
    "       'target_political_10', 'target_political_11', 'demo_gender',\n",
    "       'demo_trans', 'demo_educ', 'demo_race_ethnicitie_1',\n",
    "       'demo_race_ethnicitie_2', 'demo_race_ethnicitie_3',\n",
    "       'demo_race_ethnicitie_4', 'demo_race_ethnicitie_5',\n",
    "       'demo_race_ethnicitie_8', 'demo_race_ethnicitie_6',\n",
    "       'demo_race_ethnicitie_7',\n",
    "       'demo_age', 'demo_income', 'demo_religion_1', 'demo_religion_2',\n",
    "       'demo_religion_11', 'demo_religion_4', 'demo_religion_5',\n",
    "       'demo_religion_7', 'demo_religion_8', 'demo_religion_9',\n",
    "       'demo_religion_10', 'demo_sexual_orien_1',\n",
    "       'demo_sexual_orien_2', 'demo_sexual_orien_3',\n",
    "       'demo_sexual_orien_4', 'demo_sexual_orien_5', 'demo_ideology', 'comment_id']\n",
    "\n",
    "\n",
    "\n",
    "\n",
    "\n",
    "# add: 'demo_race_ethnicitie_DV', 'target_race_DV']\n",
    "\n",
    "#remove: all the write in text options\n",
    "#should i actually review them and categorize them or just leave as is?\n",
    "\n",
    "#'target_race_1', 'target_race_2', \n",
    "#             'target_race_3', 'target_race_4', 'target_race_5', 'target_race_6', 'target_race_7']"
   ]
  },
  {
   "cell_type": "code",
   "execution_count": null,
   "id": "3974528d-c360-4c03-9346-4e1d6bf64b93",
   "metadata": {},
   "outputs": [],
   "source": [
    "data_multi['demo_ideology'].value_counts()"
   ]
  },
  {
   "cell_type": "code",
   "execution_count": null,
   "id": "b207397e-8d70-4e83-a2ef-6135084b76b0",
   "metadata": {},
   "outputs": [],
   "source": []
  },
  {
   "cell_type": "code",
   "execution_count": null,
   "id": "a04e2958-c513-4093-b8c5-deba76583c82",
   "metadata": {},
   "outputs": [],
   "source": []
  },
  {
   "cell_type": "code",
   "execution_count": null,
   "id": "004fecb7-83c7-4cc4-8d8b-44e831168660",
   "metadata": {},
   "outputs": [],
   "source": [
    "#turning locationlatitude into a float \n",
    "#this one matters because it's about geography\n",
    "#is it possible to look at what the different geographies represent? \n",
    "\n",
    "data_multi['locationlatitude'] = data_multi['locationlatitude'].astype(float)"
   ]
  },
  {
   "cell_type": "code",
   "execution_count": null,
   "id": "38fd8382-181c-4c24-b27a-915a78f250ac",
   "metadata": {},
   "outputs": [],
   "source": [
    "print(data_multi['locationlatitude'])"
   ]
  },
  {
   "cell_type": "code",
   "execution_count": null,
   "id": "a2e1b989-760c-4b19-95fd-5376741d49ee",
   "metadata": {},
   "outputs": [],
   "source": [
    "data_multi['target_identity_count'].value_counts()"
   ]
  },
  {
   "cell_type": "code",
   "execution_count": null,
   "id": "bd63fb33-d825-41c6-aee4-53d5943b74a5",
   "metadata": {},
   "outputs": [],
   "source": []
  },
  {
   "cell_type": "code",
   "execution_count": null,
   "id": "a3b96552-7c8b-4edf-b6ae-635a6c5057ed",
   "metadata": {},
   "outputs": [],
   "source": []
  },
  {
   "cell_type": "code",
   "execution_count": null,
   "id": "83c58f8a-551c-4cc9-adc2-35cddd6464db",
   "metadata": {},
   "outputs": [],
   "source": []
  },
  {
   "cell_type": "code",
   "execution_count": null,
   "id": "9b70a266-562b-4955-a152-c3efc684daa6",
   "metadata": {},
   "outputs": [],
   "source": []
  },
  {
   "cell_type": "code",
   "execution_count": null,
   "id": "d5c34c69-30c9-48c9-b83f-5da616bc5f04",
   "metadata": {},
   "outputs": [],
   "source": [
    "X = data_multi[features]\n",
    "X"
   ]
  },
  {
   "cell_type": "code",
   "execution_count": null,
   "id": "edf0f09b-669f-498a-879e-09f53bc0267e",
   "metadata": {},
   "outputs": [],
   "source": []
  },
  {
   "cell_type": "code",
   "execution_count": null,
   "id": "64b2e4fe-93a4-46f1-be05-24cac4a0177f",
   "metadata": {},
   "outputs": [],
   "source": [
    "type(X['comment_id'])"
   ]
  },
  {
   "cell_type": "code",
   "execution_count": null,
   "id": "1d3ccf92-2ddc-4ec4-99b6-6ed9cc6de676",
   "metadata": {},
   "outputs": [],
   "source": [
    "#convert comment_id to categorical\n",
    "\n",
    "X['comment_id'] = X['comment_id'].astype('category')"
   ]
  },
  {
   "cell_type": "code",
   "execution_count": null,
   "id": "76572571-7910-4a45-9078-924c04fd732b",
   "metadata": {},
   "outputs": [],
   "source": [
    "print(X['comment_id']) #39k categories --> Lasso\n",
    "#try reference set comments "
   ]
  },
  {
   "cell_type": "code",
   "execution_count": null,
   "id": "83b0278a-2ff2-4af7-857e-c393cf9f9b53",
   "metadata": {},
   "outputs": [],
   "source": [
    "pd.get_dummies(X)\n",
    "#assign to X\n",
    "#get rid of comments"
   ]
  },
  {
   "cell_type": "code",
   "execution_count": null,
   "id": "d6ef9a99-1a04-4e95-abd0-086d7da6da29",
   "metadata": {},
   "outputs": [],
   "source": []
  },
  {
   "cell_type": "code",
   "execution_count": null,
   "id": "57b39f1c-0225-4561-bc45-3ea8b552d675",
   "metadata": {},
   "outputs": [],
   "source": []
  },
  {
   "cell_type": "code",
   "execution_count": null,
   "id": "1f7ccfc7-382b-4c94-918e-a03674de2de7",
   "metadata": {},
   "outputs": [],
   "source": []
  },
  {
   "cell_type": "code",
   "execution_count": null,
   "id": "83d466db-f6b4-47df-9d97-550093a4f303",
   "metadata": {},
   "outputs": [],
   "source": [
    "#convert platform to category\n",
    "\n",
    "X['platform'] = X['platform'].astype('category')\n"
   ]
  },
  {
   "cell_type": "code",
   "execution_count": null,
   "id": "07989697-7210-434d-8baa-0f3ea26d6e21",
   "metadata": {},
   "outputs": [],
   "source": [
    "X['platform']"
   ]
  },
  {
   "cell_type": "code",
   "execution_count": null,
   "id": "7def7655-1a70-4d53-9dd1-f2ea39ae8d6b",
   "metadata": {},
   "outputs": [],
   "source": [
    "#are the other variables that needed to converted to category?"
   ]
  },
  {
   "cell_type": "code",
   "execution_count": null,
   "id": "fd5475aa-898b-4c7d-93a3-77224e1e8461",
   "metadata": {},
   "outputs": [],
   "source": [
    "#get dummy function \n",
    "\n",
    "X = pd.get_dummies(X)"
   ]
  },
  {
   "cell_type": "code",
   "execution_count": null,
   "id": "3106d178-0dd4-473c-b904-818567970aa6",
   "metadata": {},
   "outputs": [],
   "source": [
    "#turning all NaNs into 0s\n",
    "\n",
    "X.fillna(0, inplace=True)"
   ]
  },
  {
   "cell_type": "code",
   "execution_count": null,
   "id": "9415d559-0478-4ea1-b601-328fd58b3203",
   "metadata": {},
   "outputs": [],
   "source": [
    "X\n",
    "#what is platform_reference?"
   ]
  },
  {
   "cell_type": "code",
   "execution_count": null,
   "id": "04bedfe7-9391-4340-818e-86b236cd72ec",
   "metadata": {},
   "outputs": [],
   "source": []
  },
  {
   "cell_type": "code",
   "execution_count": null,
   "id": "6b8b3bca-9109-4a43-91a6-ddbafc930549",
   "metadata": {},
   "outputs": [],
   "source": [
    "y = hate_speech_sum.values\n",
    "y"
   ]
  },
  {
   "cell_type": "code",
   "execution_count": null,
   "id": "dcddd475-b759-4b8d-af65-45a35a5a4eaa",
   "metadata": {},
   "outputs": [],
   "source": []
  },
  {
   "cell_type": "code",
   "execution_count": null,
   "id": "63f8fe35-0797-46be-895f-63d8333f40e8",
   "metadata": {},
   "outputs": [],
   "source": []
  },
  {
   "cell_type": "code",
   "execution_count": null,
   "id": "a6aab6c7-7537-40f1-b256-867d7b7f0569",
   "metadata": {},
   "outputs": [],
   "source": [
    "#object that will do the fitting here \n",
    "\n",
    "lasso_var = LassoCV()"
   ]
  },
  {
   "cell_type": "code",
   "execution_count": null,
   "id": "9470cdc0-ebe7-4d2a-80eb-a687ea95eaf7",
   "metadata": {},
   "outputs": [],
   "source": [
    "lasso_var.fit(X, y)"
   ]
  },
  {
   "cell_type": "code",
   "execution_count": null,
   "id": "3210b42e-813a-45c3-b579-730abf3d09af",
   "metadata": {},
   "outputs": [],
   "source": [
    "lasso_var.coef_"
   ]
  },
  {
   "cell_type": "code",
   "execution_count": null,
   "id": "f0800015-51ee-4c82-8ee8-26bcbd9710ba",
   "metadata": {},
   "outputs": [],
   "source": [
    "lasso_var.score(X, y)"
   ]
  },
  {
   "cell_type": "code",
   "execution_count": null,
   "id": "5ce0bb9d-653c-4555-bcb9-a1ca69ef9f00",
   "metadata": {},
   "outputs": [],
   "source": [
    "#create test set "
   ]
  },
  {
   "cell_type": "code",
   "execution_count": null,
   "id": "d734c817-ef6d-41f8-a042-d71f10790a0c",
   "metadata": {},
   "outputs": [],
   "source": [
    "# X = data_multi[data_multi = [features].fillna(0)"
   ]
  },
  {
   "cell_type": "markdown",
   "id": "af423559-f6f1-4de9-9ece-6332fb58d7c1",
   "metadata": {},
   "source": [
    "## Make a reference set"
   ]
  },
  {
   "cell_type": "code",
   "execution_count": null,
   "id": "05a22d7a-3617-4803-9678-885ee2d88cd9",
   "metadata": {},
   "outputs": [],
   "source": [
    "number_labelers = data_multi['comment_id'].value_counts()"
   ]
  },
  {
   "cell_type": "code",
   "execution_count": null,
   "id": "6e944e51-3583-440b-93db-8161e52d2248",
   "metadata": {},
   "outputs": [],
   "source": []
  },
  {
   "cell_type": "code",
   "execution_count": null,
   "id": "183d19d3-b2dd-4c59-87b4-422eeb653498",
   "metadata": {},
   "outputs": [],
   "source": [
    "comment_ids_reference = number_labelers[number_labelers > 50].index"
   ]
  },
  {
   "cell_type": "code",
   "execution_count": null,
   "id": "ee9b076b-9be1-43b3-85d0-70bf0b191548",
   "metadata": {},
   "outputs": [],
   "source": []
  },
  {
   "cell_type": "code",
   "execution_count": null,
   "id": "446d1400-1b81-430f-af22-d8e6af3614e6",
   "metadata": {},
   "outputs": [],
   "source": [
    "df_reference = data_multi[data_multi['comment_id'].isin(comment_ids_reference)]"
   ]
  },
  {
   "cell_type": "code",
   "execution_count": null,
   "id": "4db87d90-45dd-4d4b-aadd-7671216150df",
   "metadata": {},
   "outputs": [],
   "source": [
    "df_reference['comment_id'].value_counts()"
   ]
  },
  {
   "cell_type": "code",
   "execution_count": null,
   "id": "ce07c6dd-0bb4-41c1-abab-99342090e3a1",
   "metadata": {},
   "outputs": [],
   "source": [
    "df_reference['comment_id'].unique().size\n",
    "\n",
    "df_reference.shape\n"
   ]
  },
  {
   "cell_type": "markdown",
   "id": "20acb17b-e6e2-4950-90ba-0b63d7f3c1a1",
   "metadata": {},
   "source": [
    "## RACE MODEL "
   ]
  },
  {
   "cell_type": "markdown",
   "id": "3853718c-0679-4fd4-b11a-0034b04b6307",
   "metadata": {},
   "source": [
    "Interpreting outputs of regression mode\n",
    "\n",
    "Should be in the same scale as the original outcome, and to measure error you usually look at Root Mean Squared Error (RMSE)\n",
    "\n",
    "because there aren’t that many observations too many columns might be why you’re not seeing much"
   ]
  },
  {
   "cell_type": "code",
   "execution_count": null,
   "id": "bf1a29b1-568f-4b1a-a25e-2a4a2274a1c3",
   "metadata": {},
   "outputs": [],
   "source": [
    "features = ['target_race_1',\n",
    "        'demo_race_ethnicitie_3', 'comment_id']"
   ]
  },
  {
   "cell_type": "code",
   "execution_count": null,
   "id": "861479b1-b002-408a-ba6d-84cf529a9793",
   "metadata": {},
   "outputs": [],
   "source": [
    "#removing latitude, not that informative ;non-linear"
   ]
  },
  {
   "cell_type": "code",
   "execution_count": null,
   "id": "60b3d87f-f1a0-46db-8db7-e283ba7200d6",
   "metadata": {},
   "outputs": [],
   "source": [
    "X = df_reference[features]\n",
    "X"
   ]
  },
  {
   "cell_type": "code",
   "execution_count": null,
   "id": "410071fb-841f-4610-a279-73f4fe2d1b50",
   "metadata": {},
   "outputs": [],
   "source": [
    "df_reference['platform'].value_counts()"
   ]
  },
  {
   "cell_type": "code",
   "execution_count": null,
   "id": "690e2bf3-1681-4dbc-a394-6b01219e5c66",
   "metadata": {},
   "outputs": [],
   "source": [
    "X = X.fillna(0)"
   ]
  },
  {
   "cell_type": "code",
   "execution_count": null,
   "id": "7553991d-00c8-4d05-966c-6244c7ec15da",
   "metadata": {},
   "outputs": [],
   "source": [
    "X['black_labeler_target'] = X['target_race_1'] * X['demo_race_ethnicitie_3']"
   ]
  },
  {
   "cell_type": "code",
   "execution_count": null,
   "id": "07176e40-dea7-4e54-8f99-08b366bb12f0",
   "metadata": {},
   "outputs": [],
   "source": []
  },
  {
   "cell_type": "code",
   "execution_count": null,
   "id": "07cc04e4-a545-47f5-8f12-7acc325e09b6",
   "metadata": {},
   "outputs": [],
   "source": [
    "\n",
    "# X['platform'] = X['platform'].astype('category')"
   ]
  },
  {
   "cell_type": "code",
   "execution_count": null,
   "id": "17f2d975-a8b2-4d47-9b95-e3b69e45eaa1",
   "metadata": {},
   "outputs": [],
   "source": [
    "type(X['comment_id'])"
   ]
  },
  {
   "cell_type": "code",
   "execution_count": null,
   "id": "09488e70-6a49-4c50-942d-dc879c9b08d0",
   "metadata": {},
   "outputs": [],
   "source": [
    "X"
   ]
  },
  {
   "cell_type": "code",
   "execution_count": null,
   "id": "c6ea37bc-c0e6-44b6-aacb-e5a12e54bcd1",
   "metadata": {},
   "outputs": [],
   "source": [
    "# X['locationlatitude'] = X['locationlatitude'].astype('category')"
   ]
  },
  {
   "cell_type": "code",
   "execution_count": null,
   "id": "c548f6a6-399b-4bf0-97cd-c6e12dca9135",
   "metadata": {},
   "outputs": [],
   "source": []
  },
  {
   "cell_type": "code",
   "execution_count": null,
   "id": "506c4b14-6698-42ab-9bc2-d284b9d206b7",
   "metadata": {},
   "outputs": [],
   "source": []
  },
  {
   "cell_type": "code",
   "execution_count": null,
   "id": "0987b105-e077-465f-aefe-0fb78533013f",
   "metadata": {},
   "outputs": [],
   "source": [
    "X['comment_id'] = X['comment_id'].astype('category')"
   ]
  },
  {
   "cell_type": "code",
   "execution_count": null,
   "id": "8784fbb4-fcce-46a6-ad26-58692877f577",
   "metadata": {},
   "outputs": [],
   "source": []
  },
  {
   "cell_type": "code",
   "execution_count": null,
   "id": "ee4c1dbf-0064-464f-8299-5551f5b25c9a",
   "metadata": {},
   "outputs": [],
   "source": [
    "X.isna().sum()"
   ]
  },
  {
   "cell_type": "code",
   "execution_count": null,
   "id": "22cbc643-8876-451c-be64-20f161f8b2f5",
   "metadata": {},
   "outputs": [],
   "source": [
    "X_1 = pd.get_dummies(X)"
   ]
  },
  {
   "cell_type": "code",
   "execution_count": null,
   "id": "17dbfd7f-39a5-4316-83a0-e144adac7a82",
   "metadata": {},
   "outputs": [],
   "source": [
    "X_1"
   ]
  },
  {
   "cell_type": "code",
   "execution_count": null,
   "id": "7c8c0e7a-6bdc-4aeb-b8a1-16f5edee5e4e",
   "metadata": {},
   "outputs": [],
   "source": [
    "#try to do regression\n",
    "#with the hate speech score after IRT \n",
    "#as the OUTCOME\n",
    "#in a way to control for hte hatefulness of the comment? (not sure how it does that tho)"
   ]
  },
  {
   "cell_type": "code",
   "execution_count": null,
   "id": "6aff1316-77fb-4284-8260-340a5a870fc6",
   "metadata": {},
   "outputs": [],
   "source": []
  },
  {
   "cell_type": "code",
   "execution_count": null,
   "id": "167c345e-1ee3-4c05-af1f-b4f5a97a0883",
   "metadata": {},
   "outputs": [],
   "source": [
    "X.columns\n"
   ]
  },
  {
   "cell_type": "code",
   "execution_count": null,
   "id": "e66f7000-b2e1-4011-a3c1-108dc994a604",
   "metadata": {},
   "outputs": [],
   "source": []
  },
  {
   "cell_type": "code",
   "execution_count": null,
   "id": "f732c0eb-efb1-4283-a409-de59618ea960",
   "metadata": {},
   "outputs": [],
   "source": [
    "len(X_1)"
   ]
  },
  {
   "cell_type": "code",
   "execution_count": null,
   "id": "a778787f-fcf1-44f3-ba9b-ebecf465caef",
   "metadata": {},
   "outputs": [],
   "source": [
    "y = df_reference['dehumanize'].values\n",
    "len(y)"
   ]
  },
  {
   "cell_type": "code",
   "execution_count": null,
   "id": "68984df5-248e-4981-becf-d527f90ed62c",
   "metadata": {},
   "outputs": [],
   "source": [
    "log_reg = LogisticRegression()"
   ]
  },
  {
   "cell_type": "code",
   "execution_count": null,
   "id": "f80c684f-cc88-41c7-9fe5-f2084881d9ac",
   "metadata": {},
   "outputs": [],
   "source": [
    "log_reg.fit(X_1, y)"
   ]
  },
  {
   "cell_type": "code",
   "execution_count": null,
   "id": "a1a820af-b78d-49e3-b55a-906b066dd441",
   "metadata": {},
   "outputs": [],
   "source": [
    "#split into train and test set \n",
    "#train_test_split() \n",
    "#stratify (keyword) according to response variable \n",
    "#to make sure both train test sets have equal proportion of positive outcomes \n",
    "#dehumanize may be more rare\n",
    "\n",
    "y.mean()\n",
    "#common in the dataset"
   ]
  },
  {
   "cell_type": "code",
   "execution_count": null,
   "id": "7f30be6b-4e72-4110-bd1b-373b10d302f6",
   "metadata": {},
   "outputs": [],
   "source": [
    "#logistic_regression_CV --> this will regularize logistic regression\n",
    "#L1 or L2 regularization to see what it's like "
   ]
  },
  {
   "cell_type": "code",
   "execution_count": null,
   "id": "c50aa509-3c8e-4cd2-822b-12f3d97829f0",
   "metadata": {},
   "outputs": [],
   "source": [
    "log_reg.coef_\n",
    "#coeffs of fitted model on training set as descriptive analysis - not generalizability\n",
    "\n",
    "#if you're black in this dataset, according to this model, lower probability that you rate that comment as dehumanizing \n",
    "#maybe this model doesn't generalize -- or not controlling for enough variables \n",
    "#impact of the effect is the exponential of the coefficient\n",
    "#lower proab by 10% (not big)\n",
    "\n",
    "#statsmodels import"
   ]
  },
  {
   "cell_type": "code",
   "execution_count": null,
   "id": "3bf70c90-cad5-482d-93a2-fcdeb408bfe1",
   "metadata": {},
   "outputs": [],
   "source": [
    "X_1.columns"
   ]
  },
  {
   "cell_type": "code",
   "execution_count": null,
   "id": "b150394a-4645-476a-8415-5c5dc55a39dc",
   "metadata": {},
   "outputs": [],
   "source": [
    "log_reg.score(X_1, y) \n",
    "#accuracy\n",
    "#this is on the training set\n"
   ]
  },
  {
   "cell_type": "code",
   "execution_count": null,
   "id": "cadc6af9-0003-4a9e-a20d-3fd0058d1f63",
   "metadata": {},
   "outputs": [],
   "source": [
    "#use statsmodels to get p-values"
   ]
  },
  {
   "cell_type": "code",
   "execution_count": null,
   "id": "e0f016c9-94ad-4cd2-91ca-c36b6c7e890a",
   "metadata": {},
   "outputs": [],
   "source": [
    "#some of these have been recoded from the Likert scale\n",
    "#sentiment hatespeech etc\n",
    "#for the recoded ones, fit a logistic regression \n",
    "#hate speech sum slightly more continuous bc addition of many scores (0-20)\n",
    "#suitable for regression\n",
    "#switch to classification for 0-1\n",
    "\n",
    "#dehumanize (0 - 1 coded)\n",
    "#how well does this generalize, without knowing anything about the text?\n",
    "#put in a dummy variable for the comment itself (ie holding constant)\n",
    "#the log regression won't know if the comment itself is hateful or not (reference set comments assigned )\n",
    "#BERT neural network w/ representation and then stack demographic on top"
   ]
  },
  {
   "cell_type": "markdown",
   "id": "70c2f122-ebd9-48f3-90ea-df3b13cb5bfc",
   "metadata": {},
   "source": [
    "## StatsModels Attempt"
   ]
  },
  {
   "cell_type": "code",
   "execution_count": null,
   "id": "d7c83640-cb9a-49a4-99d5-6eec0721c8eb",
   "metadata": {},
   "outputs": [],
   "source": [
    "import statsmodels.api as sm"
   ]
  },
  {
   "cell_type": "code",
   "execution_count": null,
   "id": "25d5041e-dc1a-4a37-8676-6cc1a67bf39b",
   "metadata": {},
   "outputs": [],
   "source": [
    "! python -m pip install statsmodels"
   ]
  },
  {
   "cell_type": "code",
   "execution_count": null,
   "id": "dacccc4e-512d-4a30-bcc8-33b2e73499e7",
   "metadata": {},
   "outputs": [],
   "source": []
  },
  {
   "cell_type": "code",
   "execution_count": null,
   "id": "7c1d5be8-ca41-4420-8ed6-5b3bd3a6e5cd",
   "metadata": {},
   "outputs": [],
   "source": [
    "\n",
    "\n",
    "results = sm.Logit(y, X_1).fit()"
   ]
  },
  {
   "cell_type": "code",
   "execution_count": null,
   "id": "c768d5f2-ba33-4815-92e7-35d56f03e587",
   "metadata": {},
   "outputs": [],
   "source": [
    "print(results.summary())"
   ]
  },
  {
   "cell_type": "markdown",
   "id": "500a7727-552e-48cb-bb95-b22303513c30",
   "metadata": {},
   "source": [
    "#### Let's take out the comment_ids and run the model again\n",
    "#### Let's make it for the full dataset not just the reference set \n"
   ]
  },
  {
   "cell_type": "code",
   "execution_count": null,
   "id": "6a4772a9-915e-4649-b629-93710937c210",
   "metadata": {},
   "outputs": [],
   "source": []
  },
  {
   "cell_type": "code",
   "execution_count": null,
   "id": "0b08d566-c76a-4717-889e-2c2c19aff6b6",
   "metadata": {},
   "outputs": [],
   "source": [
    "features = ['target_race_1',\n",
    "        'demo_race_ethnicitie_3', 'platform']\n",
    "\n",
    "X_2 = data_multi[features]\n"
   ]
  },
  {
   "cell_type": "code",
   "execution_count": null,
   "id": "1112e996-2f21-4488-a018-e63d4681a53d",
   "metadata": {},
   "outputs": [],
   "source": [
    "X_2['platform'].value_counts()\n",
    "print(X_2['platform'])"
   ]
  },
  {
   "cell_type": "code",
   "execution_count": null,
   "id": "19f8d588-3cea-4e93-b292-209f6acb754b",
   "metadata": {},
   "outputs": [],
   "source": [
    "X_2['platform'] = X_2['platform'].astype('category')"
   ]
  },
  {
   "cell_type": "code",
   "execution_count": null,
   "id": "861f3332-81e9-41cf-a561-b513893cc835",
   "metadata": {},
   "outputs": [],
   "source": [
    "X_2['black_labeler_target'] = X_2['target_race_1'] * X_2['demo_race_ethnicitie_3']"
   ]
  },
  {
   "cell_type": "code",
   "execution_count": null,
   "id": "658aecb1-8146-47b2-9526-89a1f17f626d",
   "metadata": {},
   "outputs": [],
   "source": [
    "# X_2['white_labeler_black_target'] = X_2['target_race_1'] * X_2['demo_race_ethnicitie_6']"
   ]
  },
  {
   "cell_type": "code",
   "execution_count": null,
   "id": "ff6444ea-b83d-4862-9649-99a344d7ef53",
   "metadata": {},
   "outputs": [],
   "source": [
    "X_2"
   ]
  },
  {
   "cell_type": "code",
   "execution_count": null,
   "id": "7e1ea5b4-3423-47f9-aa9d-bf42ea3b96ac",
   "metadata": {},
   "outputs": [],
   "source": [
    "X_2 = pd.get_dummies(X_2)"
   ]
  },
  {
   "cell_type": "code",
   "execution_count": null,
   "id": "01fb52c0-04b6-45ee-83e8-5962ae065282",
   "metadata": {},
   "outputs": [],
   "source": [
    "X_2 = X_2.fillna(0)"
   ]
  },
  {
   "cell_type": "code",
   "execution_count": null,
   "id": "7e6b5974-5aad-4704-bb71-d6adc1e42466",
   "metadata": {},
   "outputs": [],
   "source": [
    "y = data_multi['dehumanize'].values"
   ]
  },
  {
   "cell_type": "code",
   "execution_count": null,
   "id": "7246c66f-943c-409e-b812-bf9f0d382188",
   "metadata": {},
   "outputs": [],
   "source": [
    "print(len(y))\n",
    "len(X_2)\n"
   ]
  },
  {
   "cell_type": "code",
   "execution_count": null,
   "id": "3a0438f7-fe98-4c3d-9960-e6648e5bc105",
   "metadata": {},
   "outputs": [],
   "source": [
    "X_2.isna().sum()"
   ]
  },
  {
   "cell_type": "code",
   "execution_count": null,
   "id": "7161261a-4ce2-472d-aa18-81e7aff3f489",
   "metadata": {},
   "outputs": [],
   "source": [
    "results = sm.Logit(y, X_2).fit()"
   ]
  },
  {
   "cell_type": "code",
   "execution_count": null,
   "id": "7ca32ab7-5b49-4d3d-a415-423d19dee95f",
   "metadata": {},
   "outputs": [],
   "source": [
    "print(results.summary())"
   ]
  },
  {
   "cell_type": "markdown",
   "id": "1ed08552-31ef-4214-a2ed-56f8d078ef3b",
   "metadata": {},
   "source": [
    "#### Model for Whtie Labelers on Black Content"
   ]
  },
  {
   "cell_type": "code",
   "execution_count": null,
   "id": "f0d0fb1e-96c2-462e-8273-1329b9e54718",
   "metadata": {},
   "outputs": [],
   "source": [
    "features = ['target_race_1',\n",
    "        'demo_race_ethnicitie_6', 'platform']\n",
    "\n",
    "X_2 = data_multi[features]\n"
   ]
  },
  {
   "cell_type": "code",
   "execution_count": null,
   "id": "1500bdc1-ae3b-4e42-8a5e-6c31f0751561",
   "metadata": {},
   "outputs": [],
   "source": []
  },
  {
   "cell_type": "code",
   "execution_count": null,
   "id": "c1018f69-c025-47e8-8190-4931a95b3008",
   "metadata": {},
   "outputs": [],
   "source": [
    "X_2['platform'].value_counts()\n",
    "print(X_2['platform'])"
   ]
  },
  {
   "cell_type": "code",
   "execution_count": null,
   "id": "c82be340-b63e-4579-8158-eb728ff1a40a",
   "metadata": {},
   "outputs": [],
   "source": [
    "X_2['platform'] = X_2['platform'].astype('category')"
   ]
  },
  {
   "cell_type": "code",
   "execution_count": null,
   "id": "25c72b64-3e6a-4291-8500-1c70a4f88ea5",
   "metadata": {},
   "outputs": [],
   "source": [
    "X_2['white_labeler_black_target'] = X_2['target_race_1'] * X_2['demo_race_ethnicitie_6']"
   ]
  },
  {
   "cell_type": "code",
   "execution_count": null,
   "id": "3694fc4c-24db-407d-bb7b-7157ef1b18f1",
   "metadata": {},
   "outputs": [],
   "source": [
    "X_2.columns"
   ]
  },
  {
   "cell_type": "code",
   "execution_count": null,
   "id": "2e76e2b0-124f-43c1-9b72-f1431d5d8e1f",
   "metadata": {},
   "outputs": [],
   "source": [
    "X_2 = pd.get_dummies(X_2)"
   ]
  },
  {
   "cell_type": "code",
   "execution_count": null,
   "id": "a294294c-1865-4452-b978-22d577730a77",
   "metadata": {},
   "outputs": [],
   "source": [
    "X_2 = X_2.fillna(0)"
   ]
  },
  {
   "cell_type": "code",
   "execution_count": null,
   "id": "78e88e0c-9627-4224-bf90-8bd66ee60910",
   "metadata": {},
   "outputs": [],
   "source": [
    "y = data_multi['dehumanize'].values"
   ]
  },
  {
   "cell_type": "code",
   "execution_count": null,
   "id": "920bd2c5-e25c-4d72-b264-ad5e2dc4bd1d",
   "metadata": {},
   "outputs": [],
   "source": [
    "print(len(y))\n",
    "len(X_2)\n"
   ]
  },
  {
   "cell_type": "code",
   "execution_count": null,
   "id": "54a23193-c069-4626-b2f0-c2f1f89efc58",
   "metadata": {},
   "outputs": [],
   "source": [
    "X_2.isna().sum()"
   ]
  },
  {
   "cell_type": "code",
   "execution_count": null,
   "id": "2bff97fe-454a-4731-a9c0-c9935f0264e6",
   "metadata": {},
   "outputs": [],
   "source": [
    "X_2"
   ]
  },
  {
   "cell_type": "code",
   "execution_count": null,
   "id": "1f4b9359-7100-4665-bbb5-ec3049761252",
   "metadata": {},
   "outputs": [],
   "source": [
    "results = sm.Logit(y, X_2).fit()"
   ]
  },
  {
   "cell_type": "code",
   "execution_count": null,
   "id": "7fbb87c4-52d1-4469-8a07-1adc6aecf4e5",
   "metadata": {},
   "outputs": [],
   "source": []
  },
  {
   "cell_type": "code",
   "execution_count": null,
   "id": "1ec579b5-9660-46d3-8bb5-9e8a2182ad40",
   "metadata": {},
   "outputs": [],
   "source": [
    "print(results.summary())"
   ]
  },
  {
   "cell_type": "code",
   "execution_count": null,
   "id": "dba05313-10c8-43d7-bb7f-48ba5949b827",
   "metadata": {},
   "outputs": [],
   "source": []
  },
  {
   "cell_type": "markdown",
   "id": "169f5163-c2aa-496a-8177-76fbe0fe092d",
   "metadata": {},
   "source": [
    "### Including Both White Labeler Black Target and Black Labeler Black Target Interaction Terms"
   ]
  },
  {
   "cell_type": "code",
   "execution_count": null,
   "id": "99a4ca45-69bd-4ee0-be78-957d001b8091",
   "metadata": {},
   "outputs": [],
   "source": [
    "#sentiment\n",
    "\n",
    "data_multi['sentiment'].value_counts()\n"
   ]
  },
  {
   "cell_type": "code",
   "execution_count": null,
   "id": "cf539456-df7e-4938-8e19-a38be2aec478",
   "metadata": {},
   "outputs": [],
   "source": [
    "#turning sentiment into binary\n",
    "\n",
    "# def likert_binary():\n",
    "binary_likert = []\n",
    "for num in data_multi['sentiment']:\n",
    "    if num == 0:\n",
    "        binary_likert.append(1)\n",
    "    if num == 1:\n",
    "        binary_likert.append(1)\n",
    "    if num == 2:\n",
    "        binary_likert.append(1)\n",
    "    if num == 3:\n",
    "        binary_likert.append(0)\n",
    "    if num == 4:\n",
    "        binary_likert.append(0)\n",
    "        \n"
   ]
  },
  {
   "cell_type": "code",
   "execution_count": null,
   "id": "fb6b2940-1c82-48ec-95fc-2acffb0d120b",
   "metadata": {},
   "outputs": [],
   "source": [
    "# binary_likert\n",
    "\n",
    "#dehumanize 0,1,2 = 0; and 3,4 = 1\n",
    "#for dehumnize, 0 is not dehumanizing, 1 is dehumanizing\n",
    "\n",
    "#for sentiment 0,1,2 =0; and 3,4=1\n",
    "#for sentiment binary 0 is strongly positive, 1 is strongly negative\n",
    "\n",
    "#let's change this so the order agrees with how CS definitions are\n",
    "#so let' smake 0 strongly neg, and 1 strongly pos \n",
    "#so 0,1,2=1, and 3,4=0\n"
   ]
  },
  {
   "cell_type": "code",
   "execution_count": null,
   "id": "aa6ad133-f38b-4fe8-87f2-f6f6ef04b674",
   "metadata": {},
   "outputs": [],
   "source": [
    "data_multi['sentiment_binary'] = binary_likert"
   ]
  },
  {
   "cell_type": "code",
   "execution_count": null,
   "id": "15287e2e-03b2-44f3-87f6-fa96c8448707",
   "metadata": {},
   "outputs": [],
   "source": [
    "features = ['target_race_1', 'demo_race_ethnicitie_3', 'sentiment_binary']\n",
    "\n",
    "X_2 = data_multi[features]"
   ]
  },
  {
   "cell_type": "code",
   "execution_count": null,
   "id": "6a661376-e8c1-4a80-979c-c69dd29e39a0",
   "metadata": {},
   "outputs": [],
   "source": [
    "# X_2['white_labeler_black_target'] = X_2['target_race_1'] * X_2['demo_race_ethnicitie_6']"
   ]
  },
  {
   "cell_type": "code",
   "execution_count": null,
   "id": "111c6358-968d-4c6c-b656-45ce9a973781",
   "metadata": {},
   "outputs": [],
   "source": [
    "X_2['black_labeler_target'] = X_2['target_race_1'] * X_2['demo_race_ethnicitie_3']"
   ]
  },
  {
   "cell_type": "code",
   "execution_count": null,
   "id": "d03dc25d-6de1-49cd-9849-d1db96888c97",
   "metadata": {},
   "outputs": [],
   "source": [
    "X_2 = pd.get_dummies(X_2)"
   ]
  },
  {
   "cell_type": "code",
   "execution_count": null,
   "id": "7d35165f-8d13-4a6f-b361-b1c4c84041d2",
   "metadata": {},
   "outputs": [],
   "source": [
    "X_2 = X_2.fillna(0)"
   ]
  },
  {
   "cell_type": "code",
   "execution_count": null,
   "id": "5c6c81c1-e9dc-4d89-91e4-170d24639641",
   "metadata": {},
   "outputs": [],
   "source": [
    "y = data_multi['dehumanize'].values"
   ]
  },
  {
   "cell_type": "code",
   "execution_count": null,
   "id": "82b85637-7692-48af-b878-63c58e77d7cc",
   "metadata": {},
   "outputs": [],
   "source": [
    "print(len(y))\n",
    "len(X_2)\n"
   ]
  },
  {
   "cell_type": "code",
   "execution_count": null,
   "id": "f9e1a9e0-3515-4784-ae70-81695a98b4ab",
   "metadata": {},
   "outputs": [],
   "source": [
    "X_2.isna().sum()"
   ]
  },
  {
   "cell_type": "code",
   "execution_count": null,
   "id": "0a403168-74cc-472d-8f33-fb65a1c84717",
   "metadata": {},
   "outputs": [],
   "source": [
    "X_2"
   ]
  },
  {
   "cell_type": "code",
   "execution_count": null,
   "id": "bb8db7d5-259a-445d-a06a-a739cdb68b7d",
   "metadata": {},
   "outputs": [],
   "source": [
    "results = sm.Logit(y, X_2).fit()"
   ]
  },
  {
   "cell_type": "code",
   "execution_count": null,
   "id": "beda560d-f500-4adc-843d-786227474236",
   "metadata": {},
   "outputs": [],
   "source": [
    "data_multi['dehumanize'].value_counts()\n",
    "#what is the direction of dehumanize\n",
    "\n",
    "#what is the direction in sentiment_binary"
   ]
  },
  {
   "cell_type": "code",
   "execution_count": null,
   "id": "038dfaa8-5d1b-495c-8ccb-945420583c89",
   "metadata": {},
   "outputs": [],
   "source": [
    "print(results.summary())\n",
    "\n",
    "#explain likert binary and why for job talk\n",
    "#distribution \n",
    "#cut off point \n",
    "#include as histogram (bonus slide)\n",
    "#change cut off in code and see what happens with analysis\n",
    "#\"robustness\" of conclusions to the cut off (my conclusions are robust to the choice of cut off; \n",
    "#i can vary the cutoff but conclusin still same)\n",
    "#tried running it and got the same signal"
   ]
  },
  {
   "cell_type": "code",
   "execution_count": null,
   "id": "40a5da51-317f-460a-a393-1db132b740ab",
   "metadata": {},
   "outputs": [],
   "source": [
    "#let's change this so the order agrees with how CS definitions are\n",
    "#so let' smake 0 strongly neg, and 1 strongly pos \n",
    "#so 0,1,2=1, and 3,4=0\n",
    "\n",
    "#dehumanize 0,1,2 = 0; and 3,4 = 1\n",
    "#for dehumnize, 0 is not dehumanizing, 1 is dehumanizing"
   ]
  },
  {
   "cell_type": "code",
   "execution_count": null,
   "id": "1e31c1bc-b7d1-41a4-9de0-1c3646e0a038",
   "metadata": {},
   "outputs": [],
   "source": [
    "#make a 2 x 2 tableof demo_race_ethnicitie_3 on x and y is dehumanize\n",
    "\n",
    "\n",
    "#make another one for sentiment_binary - 2x2 table or 2x5 table\n",
    "#look at -20 and -41 on z \n",
    "\n",
    "#plot all the features\n",
    "\n",
    "#check accuracy / performance overall \n",
    "#look at confusion matrix "
   ]
  },
  {
   "cell_type": "code",
   "execution_count": null,
   "id": "b3e4c1e9-f0e6-4535-9c86-7c0cec0fa044",
   "metadata": {},
   "outputs": [],
   "source": [
    "#is reference set the ground truth? confirm\n",
    "#subset posts for target = black\n",
    "\n",
    "df_reference = data_multi[data_multi['platform'] == 'reference']\n",
    "df_reference"
   ]
  },
  {
   "cell_type": "markdown",
   "id": "eb2dc7f0-adba-485e-b01c-7aad1b37e311",
   "metadata": {},
   "source": [
    "### Computation of Performance Metrics for Black Labelers vs non-Black Labelers"
   ]
  },
  {
   "cell_type": "markdown",
   "id": "6d069d8c-321c-4a03-bc89-780b2f148766",
   "metadata": {},
   "source": [
    "For posts target = black \n",
    "The question is whether the black labelers in general are more accurate than other labelers (specify majorityy of labelers are black) on black targets \n",
    "\n",
    "Subset to posts black target, look at accuracy of black labelers on posts they labeled \n",
    "Compute performance measure of choice \n",
    "\n",
    "Accuracy or average precision \n",
    "\n",
    "average precision is good for when one class is much more common than the other in the evaluation set\n",
    "\n"
   ]
  },
  {
   "cell_type": "code",
   "execution_count": null,
   "id": "1186c62b-9a02-43eb-a415-b1d76c9ae139",
   "metadata": {},
   "outputs": [],
   "source": [
    "#black targets\n",
    "df_reference[df_reference['target_race_1'] == 1]"
   ]
  },
  {
   "cell_type": "code",
   "execution_count": null,
   "id": "1b66543a-f671-4ede-9f7d-1206a0d4f092",
   "metadata": {},
   "outputs": [],
   "source": [
    "#black labelers\n",
    "df_reference[df_reference['demo_race_ethnicitie_3'] == 1]"
   ]
  },
  {
   "cell_type": "code",
   "execution_count": null,
   "id": "5bae75b7-133e-4100-97e7-4297e8716f70",
   "metadata": {},
   "outputs": [],
   "source": [
    "X_2 = data_multi[]"
   ]
  },
  {
   "cell_type": "code",
   "execution_count": null,
   "id": "627432f4-3958-4f92-ac35-da96ab28ee7e",
   "metadata": {},
   "outputs": [],
   "source": [
    "X_2_train, X_2_test, y_train, y_test = train_test_split(X_2, y, test_size = .25)"
   ]
  },
  {
   "cell_type": "code",
   "execution_count": null,
   "id": "a2739d49-fded-484c-a7e9-05a0b1e10857",
   "metadata": {},
   "outputs": [],
   "source": [
    "log_reg = LogisticRegression()"
   ]
  },
  {
   "cell_type": "code",
   "execution_count": null,
   "id": "8188cbdd-47ee-445d-9726-e67f649e3b8f",
   "metadata": {},
   "outputs": [],
   "source": [
    "log_reg.fit(X_2, y)"
   ]
  },
  {
   "cell_type": "code",
   "execution_count": null,
   "id": "f580e3b2-3806-46f3-bb07-3b6a01d315da",
   "metadata": {},
   "outputs": [],
   "source": [
    "log_reg.coef_"
   ]
  },
  {
   "cell_type": "code",
   "execution_count": null,
   "id": "91dad97c-e95b-4c21-a2c4-3cd532dfb299",
   "metadata": {},
   "outputs": [],
   "source": [
    "log_reg.score(X_2, y)\n",
    "#accuracy"
   ]
  },
  {
   "cell_type": "code",
   "execution_count": null,
   "id": "290ba879-094a-4e7e-bac5-16cbfc60b552",
   "metadata": {},
   "outputs": [],
   "source": [
    "from sklearn.metrics import accuracy_score"
   ]
  },
  {
   "cell_type": "markdown",
   "id": "cad5867a-b972-4745-af4b-e004fc163994",
   "metadata": {},
   "source": [
    "# don't need to train a model \n"
   ]
  },
  {
   "cell_type": "code",
   "execution_count": null,
   "id": "05d2b9f1-2cf3-4d5f-8825-6d49d19dd8ba",
   "metadata": {},
   "outputs": [],
   "source": [
    "df_reference.columns"
   ]
  },
  {
   "cell_type": "code",
   "execution_count": null,
   "id": "b54b9135-2a85-4d65-8ea1-196800707d96",
   "metadata": {},
   "outputs": [],
   "source": []
  },
  {
   "cell_type": "code",
   "execution_count": null,
   "id": "ba659bd3-d773-4107-afae-2c166c7ea8c5",
   "metadata": {},
   "outputs": [],
   "source": []
  },
  {
   "cell_type": "code",
   "execution_count": null,
   "id": "ce48e913-0e64-47cd-b051-8b430d77f296",
   "metadata": {},
   "outputs": [],
   "source": [
    "\n",
    "#y pred is what the labelers outside of the reference set predict for comments inside the reference set?\n",
    "#y true is what the labelers inside the reference set predict for comments in the reference set\n",
    "\n",
    "#what does this have to do with black and non-black labelers?\n",
    "\n",
    "#filter the df for content targeting black people\n",
    "#label dehumanizing or not will be y true labels\n",
    "\n",
    "#\n"
   ]
  },
  {
   "cell_type": "code",
   "execution_count": null,
   "id": "37c62709-1873-4b9e-a53a-4c95a044fc86",
   "metadata": {},
   "outputs": [],
   "source": [
    "df_reference[(df_reference['target_race_1'] == 1) & (df_reference['dehumanize'] == 1)]"
   ]
  },
  {
   "cell_type": "code",
   "execution_count": null,
   "id": "cfd92de3-2858-4935-95c5-e4b5a37c55a0",
   "metadata": {},
   "outputs": [],
   "source": [
    "y_true = df_reference['dehumanize'].values"
   ]
  },
  {
   "cell_type": "code",
   "execution_count": null,
   "id": "b5c329b9-47fd-4ad8-964a-e8eb8536adb1",
   "metadata": {},
   "outputs": [],
   "source": [
    "reference_comment_id = df_reference['comment_id'].to_list()\n"
   ]
  },
  {
   "cell_type": "code",
   "execution_count": null,
   "id": "f0dff086-609a-445c-b5c3-7859ecf25db4",
   "metadata": {},
   "outputs": [],
   "source": [
    "#by definition looking at things not in reference\n",
    "non_ref_comment_id = data_multi[data_multi['platform'] != 'reference']['comment_id'].to_list()"
   ]
  },
  {
   "cell_type": "code",
   "execution_count": null,
   "id": "1d73e5dc-76c8-4d9e-9c61-f55fbd4373cc",
   "metadata": {},
   "outputs": [],
   "source": [
    "def intersection(list1, list2):\n",
    "    list3 = [value for value in list1 if value in list2]\n",
    "    return list3"
   ]
  },
  {
   "cell_type": "code",
   "execution_count": null,
   "id": "27c3b425-467c-4ee8-b7b1-c581fbc994c3",
   "metadata": {},
   "outputs": [],
   "source": [
    "print(intersection(reference_comment_id, non_ref_comment_id))"
   ]
  },
  {
   "cell_type": "code",
   "execution_count": null,
   "id": "d9b7772a-3eee-4426-b390-afe70c71f130",
   "metadata": {},
   "outputs": [],
   "source": [
    "list(set(reference_comment_id) & set(non_ref_comment_id))"
   ]
  },
  {
   "cell_type": "code",
   "execution_count": null,
   "id": "41fa4e4a-ec56-4948-bd69-e40368eacc14",
   "metadata": {},
   "outputs": [],
   "source": [
    "#if it's in the reference set, there'll be multiple "
   ]
  },
  {
   "cell_type": "markdown",
   "id": "b12ff76c-7904-45c7-865e-518829d69819",
   "metadata": {},
   "source": [
    "#### Inter Rater Reliability "
   ]
  },
  {
   "cell_type": "code",
   "execution_count": null,
   "id": "d05c05dd-d744-41dc-8b1c-3b8ef4f3e86e",
   "metadata": {},
   "outputs": [],
   "source": [
    "#for overall comments we don't see a change\n",
    "\n",
    "#but then we when we look at comments about their group\n",
    "\n",
    "#does this mean that they're more lenient / harsher for their own group?\n",
    "\n",
    "#how do we interpret this? ie what happens if we ask white pepole on white text \n",
    "\n",
    "#what does this mean in terms of recommendations of what to do next\n",
    "\n",
    "#what are applications for social media companies? "
   ]
  },
  {
   "cell_type": "code",
   "execution_count": 41,
   "id": "da312cce-cc89-4c34-a105-7a1b5e2463b8",
   "metadata": {},
   "outputs": [],
   "source": [
    "from sklearn.metrics import cohen_kappa_score\n"
   ]
  },
  {
   "cell_type": "code",
   "execution_count": 39,
   "id": "7f9ac6f2-8db1-4137-96d8-66b2305a65df",
   "metadata": {},
   "outputs": [
    {
     "data": {
      "text/plain": [
       "2292"
      ]
     },
     "execution_count": 39,
     "metadata": {},
     "output_type": "execute_result"
    }
   ],
   "source": [
    "#labeler 1, black labelers, black content on dehumanize specifically\n",
    "\n",
    "df_white_labeler_black_target = data_multi[(data_multi['demo_race_ethnicitie_3'] == 1) & (data_multi['target_race_1'] == 1)]\n",
    "\n",
    "labeler_1 = df_white_labeler_black_target['dehumanize'].values\n",
    "\n",
    "len(labeler_1)\n"
   ]
  },
  {
   "cell_type": "code",
   "execution_count": 40,
   "id": "a6e69061-d651-4328-a30d-c6d2b30bdb6c",
   "metadata": {},
   "outputs": [
    {
     "data": {
      "text/plain": [
       "18545"
      ]
     },
     "execution_count": 40,
     "metadata": {},
     "output_type": "execute_result"
    }
   ],
   "source": [
    "#labeler 2, white labelers, black content on dehumanize specifically\n",
    "df_black_labeler_target = data_multi[(data_multi['demo_race_ethnicitie_6'] == 1) & (data_multi['target_race_1'] == 1)]\n",
    "\n",
    "labeler_2 = df_black_labeler_target['dehumanize'].values\n",
    "\n",
    "len(labeler_2)"
   ]
  },
  {
   "cell_type": "code",
   "execution_count": null,
   "id": "c3b4f9c1-acec-4b34-a4be-6b9eba92d6fd",
   "metadata": {},
   "outputs": [],
   "source": [
    "sklearn.metrics.cohen_kappa_score(labeler_1, labeler_2)"
   ]
  },
  {
   "cell_type": "markdown",
   "id": "7153dc4b-1adc-4c2d-b82b-691ba75fa2c9",
   "metadata": {},
   "source": [
    "#### Creating a sentiment analyzer"
   ]
  },
  {
   "cell_type": "code",
   "execution_count": 192,
   "id": "4c9654ce-b3a7-4036-8f1b-2da6fa4c36d4",
   "metadata": {},
   "outputs": [
    {
     "name": "stderr",
     "output_type": "stream",
     "text": [
      "[nltk_data] Downloading package vader_lexicon to\n",
      "[nltk_data]     /home/rbarreto/nltk_data...\n",
      "[nltk_data]   Package vader_lexicon is already up-to-date!\n"
     ]
    }
   ],
   "source": [
    "import nltk\n",
    "nltk.download('vader_lexicon')\n",
    "from nltk.sentiment import SentimentIntensityAnalyzer\n",
    "sia = SentimentIntensityAnalyzer()\n",
    "\n"
   ]
  },
  {
   "cell_type": "code",
   "execution_count": 193,
   "id": "783a63f2-5247-42f4-b3ed-c3eec7da064f",
   "metadata": {},
   "outputs": [
    {
     "name": "stdout",
     "output_type": "stream",
     "text": [
      "Requirement already satisfied: nltk in /home/rbarreto/miniconda3/envs/hatespeech/lib/python3.9/site-packages (3.6.2)\n",
      "Requirement already satisfied: regex in /home/rbarreto/miniconda3/envs/hatespeech/lib/python3.9/site-packages (from nltk) (2021.8.28)\n",
      "Requirement already satisfied: click in /home/rbarreto/miniconda3/envs/hatespeech/lib/python3.9/site-packages (from nltk) (8.0.1)\n",
      "Requirement already satisfied: tqdm in /home/rbarreto/miniconda3/envs/hatespeech/lib/python3.9/site-packages (from nltk) (4.62.2)\n",
      "Requirement already satisfied: joblib in /home/rbarreto/miniconda3/envs/hatespeech/lib/python3.9/site-packages (from nltk) (1.0.1)\n"
     ]
    }
   ],
   "source": [
    "! pip install nltk"
   ]
  },
  {
   "cell_type": "code",
   "execution_count": 194,
   "id": "ed352439-5307-4095-802e-be57e2870a49",
   "metadata": {},
   "outputs": [
    {
     "data": {
      "text/plain": [
       "{'neg': 0.0, 'neu': 0.295, 'pos': 0.705, 'compound': 0.8012}"
      ]
     },
     "execution_count": 194,
     "metadata": {},
     "output_type": "execute_result"
    }
   ],
   "source": [
    "sia.polarity_scores('Wow, NLTK is really powerful!')"
   ]
  },
  {
   "cell_type": "code",
   "execution_count": 195,
   "id": "433b6dd2-aa4e-4da6-aa71-e9583b8cf110",
   "metadata": {},
   "outputs": [],
   "source": [
    "# for text in data_multi['predict_text']:\n",
    "#     print(sia.polarity_scores(text))"
   ]
  },
  {
   "cell_type": "code",
   "execution_count": 196,
   "id": "3ff522d9-0528-4a52-94fe-56aaf5f01115",
   "metadata": {},
   "outputs": [
    {
     "data": {
      "text/plain": [
       "'Yes indeed. She sort of reminds me of the elder lady that played the part in the movie \"Titanic\" who was telling her story!!! And I wouldn\\'t have wanted to cover who I really am!! I would be proud!!!! WE should be proud of our race no matter what it is!!'"
      ]
     },
     "execution_count": 196,
     "metadata": {},
     "output_type": "execute_result"
    }
   ],
   "source": [
    "data_multi['predict_text'][0]"
   ]
  },
  {
   "cell_type": "code",
   "execution_count": 197,
   "id": "a5bb2f46-7cbd-4a31-b323-d9bdb50ca51f",
   "metadata": {},
   "outputs": [
    {
     "data": {
      "text/plain": [
       "{'neg': 0.04, 'neu': 0.772, 'pos': 0.188, 'compound': 0.8057}"
      ]
     },
     "execution_count": 197,
     "metadata": {},
     "output_type": "execute_result"
    }
   ],
   "source": [
    "dictionary_sentiment = {}\n",
    "\n",
    "sia.polarity_scores(data_multi['predict_text'][0])"
   ]
  },
  {
   "cell_type": "code",
   "execution_count": 198,
   "id": "d2c9cb06-f233-40f5-bf44-013b22e41da9",
   "metadata": {},
   "outputs": [],
   "source": [
    "data_multi['polarity'] = data_multi['predict_text'].map(lambda x:sia.polarity_scores(x))"
   ]
  },
  {
   "cell_type": "code",
   "execution_count": null,
   "id": "fede2248-a416-4d63-9f04-c004f63a03bc",
   "metadata": {},
   "outputs": [],
   "source": []
  },
  {
   "cell_type": "code",
   "execution_count": 199,
   "id": "1f54bd18-4954-4818-936d-94855323221e",
   "metadata": {},
   "outputs": [
    {
     "data": {
      "text/html": [
       "<div>\n",
       "<style scoped>\n",
       "    .dataframe tbody tr th:only-of-type {\n",
       "        vertical-align: middle;\n",
       "    }\n",
       "\n",
       "    .dataframe tbody tr th {\n",
       "        vertical-align: top;\n",
       "    }\n",
       "\n",
       "    .dataframe thead th {\n",
       "        text-align: right;\n",
       "    }\n",
       "</style>\n",
       "<table border=\"1\" class=\"dataframe\">\n",
       "  <thead>\n",
       "    <tr style=\"text-align: right;\">\n",
       "      <th></th>\n",
       "      <th>comment_id</th>\n",
       "      <th>polarity</th>\n",
       "    </tr>\n",
       "  </thead>\n",
       "  <tbody>\n",
       "    <tr>\n",
       "      <th>0</th>\n",
       "      <td>47777</td>\n",
       "      <td>{'neg': 0.04, 'neu': 0.772, 'pos': 0.188, 'com...</td>\n",
       "    </tr>\n",
       "    <tr>\n",
       "      <th>1</th>\n",
       "      <td>39773</td>\n",
       "      <td>{'neg': 0.0, 'neu': 0.698, 'pos': 0.302, 'comp...</td>\n",
       "    </tr>\n",
       "    <tr>\n",
       "      <th>2</th>\n",
       "      <td>47101</td>\n",
       "      <td>{'neg': 0.172, 'neu': 0.68, 'pos': 0.148, 'com...</td>\n",
       "    </tr>\n",
       "    <tr>\n",
       "      <th>3</th>\n",
       "      <td>43625</td>\n",
       "      <td>{'neg': 0.0, 'neu': 0.905, 'pos': 0.095, 'comp...</td>\n",
       "    </tr>\n",
       "    <tr>\n",
       "      <th>4</th>\n",
       "      <td>12538</td>\n",
       "      <td>{'neg': 0.236, 'neu': 0.764, 'pos': 0.0, 'comp...</td>\n",
       "    </tr>\n",
       "    <tr>\n",
       "      <th>...</th>\n",
       "      <td>...</td>\n",
       "      <td>...</td>\n",
       "    </tr>\n",
       "    <tr>\n",
       "      <th>135551</th>\n",
       "      <td>37080</td>\n",
       "      <td>{'neg': 0.103, 'neu': 0.816, 'pos': 0.082, 'co...</td>\n",
       "    </tr>\n",
       "    <tr>\n",
       "      <th>135552</th>\n",
       "      <td>22986</td>\n",
       "      <td>{'neg': 0.0, 'neu': 1.0, 'pos': 0.0, 'compound...</td>\n",
       "    </tr>\n",
       "    <tr>\n",
       "      <th>135553</th>\n",
       "      <td>21008</td>\n",
       "      <td>{'neg': 0.0, 'neu': 1.0, 'pos': 0.0, 'compound...</td>\n",
       "    </tr>\n",
       "    <tr>\n",
       "      <th>135554</th>\n",
       "      <td>22986</td>\n",
       "      <td>{'neg': 0.0, 'neu': 1.0, 'pos': 0.0, 'compound...</td>\n",
       "    </tr>\n",
       "    <tr>\n",
       "      <th>135555</th>\n",
       "      <td>14785</td>\n",
       "      <td>{'neg': 0.301, 'neu': 0.637, 'pos': 0.062, 'co...</td>\n",
       "    </tr>\n",
       "  </tbody>\n",
       "</table>\n",
       "<p>135556 rows × 2 columns</p>\n",
       "</div>"
      ],
      "text/plain": [
       "        comment_id                                           polarity\n",
       "0            47777  {'neg': 0.04, 'neu': 0.772, 'pos': 0.188, 'com...\n",
       "1            39773  {'neg': 0.0, 'neu': 0.698, 'pos': 0.302, 'comp...\n",
       "2            47101  {'neg': 0.172, 'neu': 0.68, 'pos': 0.148, 'com...\n",
       "3            43625  {'neg': 0.0, 'neu': 0.905, 'pos': 0.095, 'comp...\n",
       "4            12538  {'neg': 0.236, 'neu': 0.764, 'pos': 0.0, 'comp...\n",
       "...            ...                                                ...\n",
       "135551       37080  {'neg': 0.103, 'neu': 0.816, 'pos': 0.082, 'co...\n",
       "135552       22986  {'neg': 0.0, 'neu': 1.0, 'pos': 0.0, 'compound...\n",
       "135553       21008  {'neg': 0.0, 'neu': 1.0, 'pos': 0.0, 'compound...\n",
       "135554       22986  {'neg': 0.0, 'neu': 1.0, 'pos': 0.0, 'compound...\n",
       "135555       14785  {'neg': 0.301, 'neu': 0.637, 'pos': 0.062, 'co...\n",
       "\n",
       "[135556 rows x 2 columns]"
      ]
     },
     "execution_count": 199,
     "metadata": {},
     "output_type": "execute_result"
    }
   ],
   "source": [
    "data_multi[['comment_id', 'polarity']]"
   ]
  },
  {
   "cell_type": "code",
   "execution_count": 200,
   "id": "afaa78aa-bbec-4078-a837-a61565415c16",
   "metadata": {},
   "outputs": [
    {
     "name": "stdout",
     "output_type": "stream",
     "text": [
      "> True Yes indeed. She sort of reminds me of the elder lady that played the part in the movie \"Titanic\" who was telling her story!!! And I wouldn't have wanted to cover who I really am!! I would be proud!!!! WE should be proud of our race no matter what it is!!\n",
      "> True The trans women reading this tweet right now is beautiful\n",
      "> False Question: These 4 broads who criticize America, what country did they flee to get here? And now they want to make OUR America like THEIR former HELL HOLE. I don't think so!!!!!!!!!!  Let them explain their GRATITUDE for letting them in OUR country.\n",
      "> True It is about time for all illegals to go back to their country of origin and keep our freeway open and prevent heavy traffic.\n",
      "> False For starters bend over the one in pink and kick that ass and pussy to get a taste until she's begging for a dick inside her.\n",
      "> False Sounds like the kinda wholsesome life I'd die for ❤️ never met any black Lesbians before so i guess you're my first ever.\n",
      "> False Who the fuck is this insignificant simple minded redneck? When he gets a vagina he can decide what he wants to do with it.\n",
      "> False Fuck off you insufferable [SLUR] retarded [SLUR] faggot.\n",
      "> True OMG! The EGO's of these young, young, inexperienced women display are remarkable! So self absorbed - so, so proud of the mistakes their constituents all made in giving them a bit of power.  They'll be quite surprised to find that the vast majority of Americans think that these women represent the very WORST of \"modern\" America.  Egos out of control !!\n",
      "> False Worthless [SLUR] whore, these tits with look nice with bite marks and cum\n"
     ]
    }
   ],
   "source": [
    "from random import shuffle\n",
    "\n",
    "def is_positive(text:str) -> bool:\n",
    "    \"\"\"True if text has positive compound statement, False otherwise\"\"\"\n",
    "    return sia.polarity_scores(text)[\"compound\"] > 0\n",
    "\n",
    "for text in data_multi['predict_text'][:10]:\n",
    "    print(\">\", is_positive(text), text)"
   ]
  },
  {
   "cell_type": "code",
   "execution_count": 201,
   "id": "4e04c4e0-43e5-4cba-9f26-b0722012e1ed",
   "metadata": {},
   "outputs": [],
   "source": [
    "data_multi['polarity_binary'] = data_multi['predict_text'].map(lambda x:is_positive(x))"
   ]
  },
  {
   "cell_type": "code",
   "execution_count": 202,
   "id": "f709dc7d-6ae3-4706-ab5d-ad229d3e3cd7",
   "metadata": {},
   "outputs": [
    {
     "data": {
      "text/plain": [
       "False    94209\n",
       "True     41347\n",
       "Name: polarity_binary, dtype: int64"
      ]
     },
     "execution_count": 202,
     "metadata": {},
     "output_type": "execute_result"
    }
   ],
   "source": [
    "data_multi['polarity_binary'].value_counts(dropna=False)"
   ]
  },
  {
   "cell_type": "code",
   "execution_count": 203,
   "id": "887a5c37-51d8-487c-a4b0-8477656d9fb2",
   "metadata": {},
   "outputs": [],
   "source": [
    "labels_polarity = []\n",
    "for boolean in data_multi['polarity_binary']:\n",
    "    if boolean == True:\n",
    "        labels_polarity.append(1)\n",
    "    else:\n",
    "        labels_polarity.append(0)"
   ]
  },
  {
   "cell_type": "code",
   "execution_count": 204,
   "id": "0e080424-9f6a-453f-8c46-c32acff1d2e4",
   "metadata": {},
   "outputs": [],
   "source": [
    "# labels_polarity\n",
    "#1 is positive, 0 is negative"
   ]
  },
  {
   "cell_type": "code",
   "execution_count": 205,
   "id": "f3ab6f91-d00a-411b-8632-90fcf3dbf5da",
   "metadata": {},
   "outputs": [],
   "source": [
    "data_multi['labels_polarity'] = labels_polarity"
   ]
  },
  {
   "cell_type": "code",
   "execution_count": 206,
   "id": "713e0740-e288-4ddc-aba3-e39148cf3864",
   "metadata": {},
   "outputs": [
    {
     "data": {
      "text/plain": [
       "0    94209\n",
       "1    41347\n",
       "Name: labels_polarity, dtype: int64"
      ]
     },
     "execution_count": 206,
     "metadata": {},
     "output_type": "execute_result"
    }
   ],
   "source": [
    "data_multi['labels_polarity'].value_counts()"
   ]
  },
  {
   "cell_type": "markdown",
   "id": "fb03d458-b52d-4ebc-a32a-cdc417ec948d",
   "metadata": {},
   "source": [
    "### Training Model with New Sentiment"
   ]
  },
  {
   "cell_type": "code",
   "execution_count": 207,
   "id": "dff213f6-d393-4a89-a170-0c19a13452e5",
   "metadata": {},
   "outputs": [],
   "source": [
    "features = ['target_race_1', 'demo_race_ethnicitie_3', 'labels_polarity']\n",
    "\n",
    "X_2 = data_multi[features]"
   ]
  },
  {
   "cell_type": "code",
   "execution_count": 208,
   "id": "e2446905-e16b-499e-9b4d-7af705a03bd8",
   "metadata": {},
   "outputs": [
    {
     "name": "stderr",
     "output_type": "stream",
     "text": [
      "<ipython-input-208-0004f9be48da>:1: SettingWithCopyWarning: \n",
      "A value is trying to be set on a copy of a slice from a DataFrame.\n",
      "Try using .loc[row_indexer,col_indexer] = value instead\n",
      "\n",
      "See the caveats in the documentation: https://pandas.pydata.org/pandas-docs/stable/user_guide/indexing.html#returning-a-view-versus-a-copy\n",
      "  X_2['black_labeler_target'] = X_2['target_race_1'] * X_2['demo_race_ethnicitie_3']\n"
     ]
    }
   ],
   "source": [
    "X_2['black_labeler_target'] = X_2['target_race_1'] * X_2['demo_race_ethnicitie_3']"
   ]
  },
  {
   "cell_type": "code",
   "execution_count": 209,
   "id": "97dd8276-5945-47ee-98c9-b6be92db5b3e",
   "metadata": {},
   "outputs": [],
   "source": [
    "X_2 = pd.get_dummies(X_2)"
   ]
  },
  {
   "cell_type": "code",
   "execution_count": 210,
   "id": "7e17812e-651b-4e79-9d1c-52b658f1207d",
   "metadata": {},
   "outputs": [],
   "source": [
    "X_2 = X_2.fillna(0)"
   ]
  },
  {
   "cell_type": "code",
   "execution_count": 211,
   "id": "54e4307b-14b0-480b-9e53-27b466d41460",
   "metadata": {},
   "outputs": [],
   "source": [
    "y = data_multi['dehumanize'].values"
   ]
  },
  {
   "cell_type": "code",
   "execution_count": 212,
   "id": "b35a1ca0-4b9e-4413-8dc6-c0d41e969421",
   "metadata": {},
   "outputs": [
    {
     "name": "stdout",
     "output_type": "stream",
     "text": [
      "Optimization terminated successfully.\n",
      "         Current function value: 0.621177\n",
      "         Iterations 5\n"
     ]
    }
   ],
   "source": [
    "results = sm.Logit(y, X_2).fit()"
   ]
  },
  {
   "cell_type": "code",
   "execution_count": 213,
   "id": "fe9c2fbf-5b97-49f1-b5da-519466fd4a42",
   "metadata": {},
   "outputs": [
    {
     "name": "stdout",
     "output_type": "stream",
     "text": [
      "                           Logit Regression Results                           \n",
      "==============================================================================\n",
      "Dep. Variable:                      y   No. Observations:               135556\n",
      "Model:                          Logit   Df Residuals:                   135552\n",
      "Method:                           MLE   Df Model:                            3\n",
      "Date:                Mon, 20 Sep 2021   Pseudo R-squ.:                 0.05631\n",
      "Time:                        19:13:08   Log-Likelihood:                -84204.\n",
      "converged:                       True   LL-Null:                       -89229.\n",
      "Covariance Type:            nonrobust   LLR p-value:                     0.000\n",
      "==========================================================================================\n",
      "                             coef    std err          z      P>|z|      [0.025      0.975]\n",
      "------------------------------------------------------------------------------------------\n",
      "target_race_1              0.0608      0.015      4.161      0.000       0.032       0.089\n",
      "demo_race_ethnicitie_3    -0.2597      0.021    -12.412      0.000      -0.301      -0.219\n",
      "labels_polarity           -1.5562      0.013   -117.682      0.000      -1.582      -1.530\n",
      "black_labeler_target       0.3345      0.051      6.622      0.000       0.235       0.433\n",
      "==========================================================================================\n"
     ]
    }
   ],
   "source": [
    "print(results.summary())"
   ]
  },
  {
   "cell_type": "markdown",
   "id": "cd7a7490-dffe-483b-8b48-6c9d5afcb444",
   "metadata": {},
   "source": [
    "### Making the race model bigger AND adding the train / test split "
   ]
  },
  {
   "cell_type": "code",
   "execution_count": 214,
   "id": "6cc5b127-8cca-44f4-86cd-be137f3f078b",
   "metadata": {},
   "outputs": [],
   "source": [
    "X_2 = data_multi"
   ]
  },
  {
   "cell_type": "code",
   "execution_count": 215,
   "id": "5f8daedd-004c-4dc3-b1e9-a7c36dd7359b",
   "metadata": {},
   "outputs": [],
   "source": [
    "#adding the other racial groups in demographics and racial groups in target, except for leaving one out \n",
    "#should i have an interaction term for each of the demo - target identity pairs?\n",
    "#only the ones that i care about \n",
    "\n",
    "#can i compare these sizes as effect sizes?\n",
    "#black labeler, black content\n",
    "#white labeler, black content\n",
    "\n",
    "#black labeler, white content\n",
    "#white labeler, white content\n",
    "\n",
    "#i could also put altogether BIPOC vs white - with caveats Claudia gave\n",
    "\n",
    "features = ['target_race_1', 'target_race_2', 'target_race_3', 'target_race_4', 'target_race_5', 'target_race_6',\n",
    "            'demo_race_ethnicitie_1', 'demo_race_ethnicitie_2', 'demo_race_ethnicitie_3', 'demo_race_ethnicitie_4',\n",
    "            'demo_race_ethnicitie_5', 'demo_race_ethnicitie_6', 'black_labeler_black_target', 'white_labeler_black_target',\n",
    "            'labels_polarity']\n",
    "\n",
    "# 'black_labeler_white_target', 'white_labeler_white_target',"
   ]
  },
  {
   "cell_type": "code",
   "execution_count": 216,
   "id": "c3dd91e5-51d3-4164-a775-54d6101a1af4",
   "metadata": {},
   "outputs": [],
   "source": [
    "#black labeler, black target\n",
    "X_2['black_labeler_black_target'] = X_2['target_race_1'] * X_2['demo_race_ethnicitie_3']\n",
    "\n",
    "#white labeler, black target\n",
    "\n",
    "X_2['white_labeler_black_target'] = X_2['target_race_1'] * X_2['demo_race_ethnicitie_6']\n",
    "\n",
    "#black labeler, white target\n",
    "\n",
    "X_2['black_labeler_white_target'] = X_2['target_race_6'] * X_2['demo_race_ethnicitie_3']\n",
    "\n",
    "#white labeler, white target\n",
    "\n",
    "X_2['white_labeler_white_target'] = X_2['target_race_6'] * X_2['demo_race_ethnicitie_6']"
   ]
  },
  {
   "cell_type": "code",
   "execution_count": 217,
   "id": "72583c2f-98c9-4202-8413-e057850550be",
   "metadata": {},
   "outputs": [
    {
     "data": {
      "text/plain": [
       "1.0    18545\n",
       "Name: white_labeler_black_target, dtype: int64"
      ]
     },
     "execution_count": 217,
     "metadata": {},
     "output_type": "execute_result"
    }
   ],
   "source": [
    "X_2['white_labeler_black_target'].value_counts()"
   ]
  },
  {
   "cell_type": "code",
   "execution_count": 218,
   "id": "230d4af3-5996-49d6-a926-84d2d51a5783",
   "metadata": {},
   "outputs": [
    {
     "data": {
      "text/plain": [
       "1.0    2292\n",
       "Name: black_labeler_black_target, dtype: int64"
      ]
     },
     "execution_count": 218,
     "metadata": {},
     "output_type": "execute_result"
    }
   ],
   "source": [
    "X_2['black_labeler_black_target'].value_counts()"
   ]
  },
  {
   "cell_type": "code",
   "execution_count": 219,
   "id": "ee978fa4-6007-4394-9dc7-fcf48165d461",
   "metadata": {},
   "outputs": [
    {
     "data": {
      "text/plain": [
       "1.0    1086\n",
       "Name: black_labeler_white_target, dtype: int64"
      ]
     },
     "execution_count": 219,
     "metadata": {},
     "output_type": "execute_result"
    }
   ],
   "source": [
    "X_2['black_labeler_white_target'].value_counts()"
   ]
  },
  {
   "cell_type": "code",
   "execution_count": 245,
   "id": "62e35fdf-33c0-4bdc-b1b5-a0e2eff2d6d3",
   "metadata": {},
   "outputs": [
    {
     "ename": "KeyError",
     "evalue": "'white_labeler_white_target'",
     "output_type": "error",
     "traceback": [
      "\u001b[0;31m---------------------------------------------------------------------------\u001b[0m",
      "\u001b[0;31mKeyError\u001b[0m                                  Traceback (most recent call last)",
      "\u001b[0;32m~/miniconda3/envs/hatespeech/lib/python3.9/site-packages/pandas/core/indexes/base.py\u001b[0m in \u001b[0;36mget_loc\u001b[0;34m(self, key, method, tolerance)\u001b[0m\n\u001b[1;32m   3080\u001b[0m             \u001b[0;32mtry\u001b[0m\u001b[0;34m:\u001b[0m\u001b[0;34m\u001b[0m\u001b[0;34m\u001b[0m\u001b[0m\n\u001b[0;32m-> 3081\u001b[0;31m                 \u001b[0;32mreturn\u001b[0m \u001b[0mself\u001b[0m\u001b[0;34m.\u001b[0m\u001b[0m_engine\u001b[0m\u001b[0;34m.\u001b[0m\u001b[0mget_loc\u001b[0m\u001b[0;34m(\u001b[0m\u001b[0mcasted_key\u001b[0m\u001b[0;34m)\u001b[0m\u001b[0;34m\u001b[0m\u001b[0;34m\u001b[0m\u001b[0m\n\u001b[0m\u001b[1;32m   3082\u001b[0m             \u001b[0;32mexcept\u001b[0m \u001b[0mKeyError\u001b[0m \u001b[0;32mas\u001b[0m \u001b[0merr\u001b[0m\u001b[0;34m:\u001b[0m\u001b[0;34m\u001b[0m\u001b[0;34m\u001b[0m\u001b[0m\n",
      "\u001b[0;32mpandas/_libs/index.pyx\u001b[0m in \u001b[0;36mpandas._libs.index.IndexEngine.get_loc\u001b[0;34m()\u001b[0m\n",
      "\u001b[0;32mpandas/_libs/index.pyx\u001b[0m in \u001b[0;36mpandas._libs.index.IndexEngine.get_loc\u001b[0;34m()\u001b[0m\n",
      "\u001b[0;32mpandas/_libs/hashtable_class_helper.pxi\u001b[0m in \u001b[0;36mpandas._libs.hashtable.PyObjectHashTable.get_item\u001b[0;34m()\u001b[0m\n",
      "\u001b[0;32mpandas/_libs/hashtable_class_helper.pxi\u001b[0m in \u001b[0;36mpandas._libs.hashtable.PyObjectHashTable.get_item\u001b[0;34m()\u001b[0m\n",
      "\u001b[0;31mKeyError\u001b[0m: 'white_labeler_white_target'",
      "\nThe above exception was the direct cause of the following exception:\n",
      "\u001b[0;31mKeyError\u001b[0m                                  Traceback (most recent call last)",
      "\u001b[0;32m<ipython-input-245-3c5df1e3c759>\u001b[0m in \u001b[0;36m<module>\u001b[0;34m\u001b[0m\n\u001b[0;32m----> 1\u001b[0;31m \u001b[0mX_2\u001b[0m\u001b[0;34m[\u001b[0m\u001b[0;34m'white_labeler_white_target'\u001b[0m\u001b[0;34m]\u001b[0m\u001b[0;34m.\u001b[0m\u001b[0mvalue_counts\u001b[0m\u001b[0;34m(\u001b[0m\u001b[0;34m)\u001b[0m\u001b[0;34m\u001b[0m\u001b[0;34m\u001b[0m\u001b[0m\n\u001b[0m",
      "\u001b[0;32m~/miniconda3/envs/hatespeech/lib/python3.9/site-packages/pandas/core/frame.py\u001b[0m in \u001b[0;36m__getitem__\u001b[0;34m(self, key)\u001b[0m\n\u001b[1;32m   3022\u001b[0m             \u001b[0;32mif\u001b[0m \u001b[0mself\u001b[0m\u001b[0;34m.\u001b[0m\u001b[0mcolumns\u001b[0m\u001b[0;34m.\u001b[0m\u001b[0mnlevels\u001b[0m \u001b[0;34m>\u001b[0m \u001b[0;36m1\u001b[0m\u001b[0;34m:\u001b[0m\u001b[0;34m\u001b[0m\u001b[0;34m\u001b[0m\u001b[0m\n\u001b[1;32m   3023\u001b[0m                 \u001b[0;32mreturn\u001b[0m \u001b[0mself\u001b[0m\u001b[0;34m.\u001b[0m\u001b[0m_getitem_multilevel\u001b[0m\u001b[0;34m(\u001b[0m\u001b[0mkey\u001b[0m\u001b[0;34m)\u001b[0m\u001b[0;34m\u001b[0m\u001b[0;34m\u001b[0m\u001b[0m\n\u001b[0;32m-> 3024\u001b[0;31m             \u001b[0mindexer\u001b[0m \u001b[0;34m=\u001b[0m \u001b[0mself\u001b[0m\u001b[0;34m.\u001b[0m\u001b[0mcolumns\u001b[0m\u001b[0;34m.\u001b[0m\u001b[0mget_loc\u001b[0m\u001b[0;34m(\u001b[0m\u001b[0mkey\u001b[0m\u001b[0;34m)\u001b[0m\u001b[0;34m\u001b[0m\u001b[0;34m\u001b[0m\u001b[0m\n\u001b[0m\u001b[1;32m   3025\u001b[0m             \u001b[0;32mif\u001b[0m \u001b[0mis_integer\u001b[0m\u001b[0;34m(\u001b[0m\u001b[0mindexer\u001b[0m\u001b[0;34m)\u001b[0m\u001b[0;34m:\u001b[0m\u001b[0;34m\u001b[0m\u001b[0;34m\u001b[0m\u001b[0m\n\u001b[1;32m   3026\u001b[0m                 \u001b[0mindexer\u001b[0m \u001b[0;34m=\u001b[0m \u001b[0;34m[\u001b[0m\u001b[0mindexer\u001b[0m\u001b[0;34m]\u001b[0m\u001b[0;34m\u001b[0m\u001b[0;34m\u001b[0m\u001b[0m\n",
      "\u001b[0;32m~/miniconda3/envs/hatespeech/lib/python3.9/site-packages/pandas/core/indexes/base.py\u001b[0m in \u001b[0;36mget_loc\u001b[0;34m(self, key, method, tolerance)\u001b[0m\n\u001b[1;32m   3081\u001b[0m                 \u001b[0;32mreturn\u001b[0m \u001b[0mself\u001b[0m\u001b[0;34m.\u001b[0m\u001b[0m_engine\u001b[0m\u001b[0;34m.\u001b[0m\u001b[0mget_loc\u001b[0m\u001b[0;34m(\u001b[0m\u001b[0mcasted_key\u001b[0m\u001b[0;34m)\u001b[0m\u001b[0;34m\u001b[0m\u001b[0;34m\u001b[0m\u001b[0m\n\u001b[1;32m   3082\u001b[0m             \u001b[0;32mexcept\u001b[0m \u001b[0mKeyError\u001b[0m \u001b[0;32mas\u001b[0m \u001b[0merr\u001b[0m\u001b[0;34m:\u001b[0m\u001b[0;34m\u001b[0m\u001b[0;34m\u001b[0m\u001b[0m\n\u001b[0;32m-> 3083\u001b[0;31m                 \u001b[0;32mraise\u001b[0m \u001b[0mKeyError\u001b[0m\u001b[0;34m(\u001b[0m\u001b[0mkey\u001b[0m\u001b[0;34m)\u001b[0m \u001b[0;32mfrom\u001b[0m \u001b[0merr\u001b[0m\u001b[0;34m\u001b[0m\u001b[0;34m\u001b[0m\u001b[0m\n\u001b[0m\u001b[1;32m   3084\u001b[0m \u001b[0;34m\u001b[0m\u001b[0m\n\u001b[1;32m   3085\u001b[0m         \u001b[0;32mif\u001b[0m \u001b[0mtolerance\u001b[0m \u001b[0;32mis\u001b[0m \u001b[0;32mnot\u001b[0m \u001b[0;32mNone\u001b[0m\u001b[0;34m:\u001b[0m\u001b[0;34m\u001b[0m\u001b[0;34m\u001b[0m\u001b[0m\n",
      "\u001b[0;31mKeyError\u001b[0m: 'white_labeler_white_target'"
     ]
    }
   ],
   "source": [
    "X_2['white_labeler_white_target'].value_counts()"
   ]
  },
  {
   "cell_type": "code",
   "execution_count": 221,
   "id": "eaccb1e6-8d68-4efc-8519-121674b2c21d",
   "metadata": {},
   "outputs": [],
   "source": [
    "X_2 = data_multi[features]"
   ]
  },
  {
   "cell_type": "code",
   "execution_count": null,
   "id": "6ed87538-4936-4e44-8520-95d838dea24d",
   "metadata": {},
   "outputs": [],
   "source": []
  },
  {
   "cell_type": "code",
   "execution_count": 222,
   "id": "a55b7879-49c4-497a-a0d1-5d57d234d9d5",
   "metadata": {},
   "outputs": [
    {
     "data": {
      "text/plain": [
       "array(['target_race_1', 'target_race_2', 'target_race_3', 'target_race_4',\n",
       "       'target_race_5', 'target_race_6', 'demo_race_ethnicitie_1',\n",
       "       'demo_race_ethnicitie_2', 'demo_race_ethnicitie_3',\n",
       "       'demo_race_ethnicitie_4', 'demo_race_ethnicitie_5',\n",
       "       'demo_race_ethnicitie_6', 'black_labeler_black_target',\n",
       "       'white_labeler_black_target', 'labels_polarity'], dtype=object)"
      ]
     },
     "execution_count": 222,
     "metadata": {},
     "output_type": "execute_result"
    }
   ],
   "source": [
    "X_2.columns.values"
   ]
  },
  {
   "cell_type": "code",
   "execution_count": 223,
   "id": "54674467-66e5-4cb5-a174-d1c73f20c0a9",
   "metadata": {},
   "outputs": [],
   "source": [
    "log_reg = LogisticRegression()"
   ]
  },
  {
   "cell_type": "code",
   "execution_count": 224,
   "id": "679332d0-253b-44f6-9e2b-67f7517f0a4b",
   "metadata": {},
   "outputs": [
    {
     "data": {
      "text/plain": [
       "0.0    65896\n",
       "1.0    39382\n",
       "2.0    30278\n",
       "Name: humiliate, dtype: int64"
      ]
     },
     "execution_count": 224,
     "metadata": {},
     "output_type": "execute_result"
    }
   ],
   "source": [
    " data_multi['humiliate'].value_counts()"
   ]
  },
  {
   "cell_type": "code",
   "execution_count": 225,
   "id": "c5c138fc-e167-442c-9ce1-2bb4958cd5d1",
   "metadata": {},
   "outputs": [
    {
     "data": {
      "text/plain": [
       "array([0., 0., 1., ..., 0., 0., 0.])"
      ]
     },
     "execution_count": 225,
     "metadata": {},
     "output_type": "execute_result"
    }
   ],
   "source": [
    "y = data_multi['dehumanize'].values\n",
    "y"
   ]
  },
  {
   "cell_type": "code",
   "execution_count": 226,
   "id": "fe07ac3e-fad6-44e5-a922-80151e919aff",
   "metadata": {},
   "outputs": [
    {
     "data": {
      "text/html": [
       "<div>\n",
       "<style scoped>\n",
       "    .dataframe tbody tr th:only-of-type {\n",
       "        vertical-align: middle;\n",
       "    }\n",
       "\n",
       "    .dataframe tbody tr th {\n",
       "        vertical-align: top;\n",
       "    }\n",
       "\n",
       "    .dataframe thead th {\n",
       "        text-align: right;\n",
       "    }\n",
       "</style>\n",
       "<table border=\"1\" class=\"dataframe\">\n",
       "  <thead>\n",
       "    <tr style=\"text-align: right;\">\n",
       "      <th></th>\n",
       "      <th>target_race_1</th>\n",
       "      <th>target_race_2</th>\n",
       "      <th>target_race_3</th>\n",
       "      <th>target_race_4</th>\n",
       "      <th>target_race_5</th>\n",
       "      <th>target_race_6</th>\n",
       "      <th>demo_race_ethnicitie_1</th>\n",
       "      <th>demo_race_ethnicitie_2</th>\n",
       "      <th>demo_race_ethnicitie_3</th>\n",
       "      <th>demo_race_ethnicitie_4</th>\n",
       "      <th>demo_race_ethnicitie_5</th>\n",
       "      <th>demo_race_ethnicitie_6</th>\n",
       "      <th>black_labeler_black_target</th>\n",
       "      <th>white_labeler_black_target</th>\n",
       "      <th>labels_polarity</th>\n",
       "    </tr>\n",
       "  </thead>\n",
       "  <tbody>\n",
       "    <tr>\n",
       "      <th>0</th>\n",
       "      <td>1.0</td>\n",
       "      <td>1.0</td>\n",
       "      <td>1.0</td>\n",
       "      <td>1.0</td>\n",
       "      <td>1.0</td>\n",
       "      <td>1.0</td>\n",
       "      <td>NaN</td>\n",
       "      <td>NaN</td>\n",
       "      <td>NaN</td>\n",
       "      <td>NaN</td>\n",
       "      <td>NaN</td>\n",
       "      <td>1.0</td>\n",
       "      <td>NaN</td>\n",
       "      <td>1.0</td>\n",
       "      <td>1</td>\n",
       "    </tr>\n",
       "    <tr>\n",
       "      <th>1</th>\n",
       "      <td>NaN</td>\n",
       "      <td>NaN</td>\n",
       "      <td>NaN</td>\n",
       "      <td>NaN</td>\n",
       "      <td>NaN</td>\n",
       "      <td>NaN</td>\n",
       "      <td>NaN</td>\n",
       "      <td>NaN</td>\n",
       "      <td>NaN</td>\n",
       "      <td>NaN</td>\n",
       "      <td>NaN</td>\n",
       "      <td>1.0</td>\n",
       "      <td>NaN</td>\n",
       "      <td>NaN</td>\n",
       "      <td>1</td>\n",
       "    </tr>\n",
       "    <tr>\n",
       "      <th>2</th>\n",
       "      <td>NaN</td>\n",
       "      <td>NaN</td>\n",
       "      <td>NaN</td>\n",
       "      <td>NaN</td>\n",
       "      <td>NaN</td>\n",
       "      <td>NaN</td>\n",
       "      <td>NaN</td>\n",
       "      <td>NaN</td>\n",
       "      <td>NaN</td>\n",
       "      <td>NaN</td>\n",
       "      <td>NaN</td>\n",
       "      <td>1.0</td>\n",
       "      <td>NaN</td>\n",
       "      <td>NaN</td>\n",
       "      <td>0</td>\n",
       "    </tr>\n",
       "    <tr>\n",
       "      <th>3</th>\n",
       "      <td>NaN</td>\n",
       "      <td>NaN</td>\n",
       "      <td>NaN</td>\n",
       "      <td>NaN</td>\n",
       "      <td>NaN</td>\n",
       "      <td>NaN</td>\n",
       "      <td>NaN</td>\n",
       "      <td>NaN</td>\n",
       "      <td>NaN</td>\n",
       "      <td>NaN</td>\n",
       "      <td>NaN</td>\n",
       "      <td>1.0</td>\n",
       "      <td>NaN</td>\n",
       "      <td>NaN</td>\n",
       "      <td>1</td>\n",
       "    </tr>\n",
       "    <tr>\n",
       "      <th>4</th>\n",
       "      <td>NaN</td>\n",
       "      <td>NaN</td>\n",
       "      <td>NaN</td>\n",
       "      <td>NaN</td>\n",
       "      <td>NaN</td>\n",
       "      <td>NaN</td>\n",
       "      <td>NaN</td>\n",
       "      <td>NaN</td>\n",
       "      <td>NaN</td>\n",
       "      <td>NaN</td>\n",
       "      <td>NaN</td>\n",
       "      <td>1.0</td>\n",
       "      <td>NaN</td>\n",
       "      <td>NaN</td>\n",
       "      <td>0</td>\n",
       "    </tr>\n",
       "    <tr>\n",
       "      <th>...</th>\n",
       "      <td>...</td>\n",
       "      <td>...</td>\n",
       "      <td>...</td>\n",
       "      <td>...</td>\n",
       "      <td>...</td>\n",
       "      <td>...</td>\n",
       "      <td>...</td>\n",
       "      <td>...</td>\n",
       "      <td>...</td>\n",
       "      <td>...</td>\n",
       "      <td>...</td>\n",
       "      <td>...</td>\n",
       "      <td>...</td>\n",
       "      <td>...</td>\n",
       "      <td>...</td>\n",
       "    </tr>\n",
       "    <tr>\n",
       "      <th>135551</th>\n",
       "      <td>NaN</td>\n",
       "      <td>NaN</td>\n",
       "      <td>NaN</td>\n",
       "      <td>NaN</td>\n",
       "      <td>NaN</td>\n",
       "      <td>NaN</td>\n",
       "      <td>NaN</td>\n",
       "      <td>NaN</td>\n",
       "      <td>NaN</td>\n",
       "      <td>1.0</td>\n",
       "      <td>NaN</td>\n",
       "      <td>1.0</td>\n",
       "      <td>NaN</td>\n",
       "      <td>NaN</td>\n",
       "      <td>1</td>\n",
       "    </tr>\n",
       "    <tr>\n",
       "      <th>135552</th>\n",
       "      <td>NaN</td>\n",
       "      <td>NaN</td>\n",
       "      <td>NaN</td>\n",
       "      <td>NaN</td>\n",
       "      <td>NaN</td>\n",
       "      <td>NaN</td>\n",
       "      <td>NaN</td>\n",
       "      <td>NaN</td>\n",
       "      <td>NaN</td>\n",
       "      <td>NaN</td>\n",
       "      <td>NaN</td>\n",
       "      <td>1.0</td>\n",
       "      <td>NaN</td>\n",
       "      <td>NaN</td>\n",
       "      <td>0</td>\n",
       "    </tr>\n",
       "    <tr>\n",
       "      <th>135553</th>\n",
       "      <td>NaN</td>\n",
       "      <td>NaN</td>\n",
       "      <td>NaN</td>\n",
       "      <td>NaN</td>\n",
       "      <td>NaN</td>\n",
       "      <td>NaN</td>\n",
       "      <td>NaN</td>\n",
       "      <td>NaN</td>\n",
       "      <td>NaN</td>\n",
       "      <td>NaN</td>\n",
       "      <td>NaN</td>\n",
       "      <td>1.0</td>\n",
       "      <td>NaN</td>\n",
       "      <td>NaN</td>\n",
       "      <td>0</td>\n",
       "    </tr>\n",
       "    <tr>\n",
       "      <th>135554</th>\n",
       "      <td>NaN</td>\n",
       "      <td>NaN</td>\n",
       "      <td>NaN</td>\n",
       "      <td>NaN</td>\n",
       "      <td>NaN</td>\n",
       "      <td>NaN</td>\n",
       "      <td>NaN</td>\n",
       "      <td>NaN</td>\n",
       "      <td>NaN</td>\n",
       "      <td>NaN</td>\n",
       "      <td>NaN</td>\n",
       "      <td>1.0</td>\n",
       "      <td>NaN</td>\n",
       "      <td>NaN</td>\n",
       "      <td>0</td>\n",
       "    </tr>\n",
       "    <tr>\n",
       "      <th>135555</th>\n",
       "      <td>NaN</td>\n",
       "      <td>NaN</td>\n",
       "      <td>NaN</td>\n",
       "      <td>NaN</td>\n",
       "      <td>NaN</td>\n",
       "      <td>NaN</td>\n",
       "      <td>NaN</td>\n",
       "      <td>NaN</td>\n",
       "      <td>NaN</td>\n",
       "      <td>1.0</td>\n",
       "      <td>NaN</td>\n",
       "      <td>1.0</td>\n",
       "      <td>NaN</td>\n",
       "      <td>NaN</td>\n",
       "      <td>0</td>\n",
       "    </tr>\n",
       "  </tbody>\n",
       "</table>\n",
       "<p>135556 rows × 15 columns</p>\n",
       "</div>"
      ],
      "text/plain": [
       "        target_race_1  target_race_2  target_race_3  target_race_4  \\\n",
       "0                 1.0            1.0            1.0            1.0   \n",
       "1                 NaN            NaN            NaN            NaN   \n",
       "2                 NaN            NaN            NaN            NaN   \n",
       "3                 NaN            NaN            NaN            NaN   \n",
       "4                 NaN            NaN            NaN            NaN   \n",
       "...               ...            ...            ...            ...   \n",
       "135551            NaN            NaN            NaN            NaN   \n",
       "135552            NaN            NaN            NaN            NaN   \n",
       "135553            NaN            NaN            NaN            NaN   \n",
       "135554            NaN            NaN            NaN            NaN   \n",
       "135555            NaN            NaN            NaN            NaN   \n",
       "\n",
       "        target_race_5  target_race_6  demo_race_ethnicitie_1  \\\n",
       "0                 1.0            1.0                     NaN   \n",
       "1                 NaN            NaN                     NaN   \n",
       "2                 NaN            NaN                     NaN   \n",
       "3                 NaN            NaN                     NaN   \n",
       "4                 NaN            NaN                     NaN   \n",
       "...               ...            ...                     ...   \n",
       "135551            NaN            NaN                     NaN   \n",
       "135552            NaN            NaN                     NaN   \n",
       "135553            NaN            NaN                     NaN   \n",
       "135554            NaN            NaN                     NaN   \n",
       "135555            NaN            NaN                     NaN   \n",
       "\n",
       "        demo_race_ethnicitie_2  demo_race_ethnicitie_3  \\\n",
       "0                          NaN                     NaN   \n",
       "1                          NaN                     NaN   \n",
       "2                          NaN                     NaN   \n",
       "3                          NaN                     NaN   \n",
       "4                          NaN                     NaN   \n",
       "...                        ...                     ...   \n",
       "135551                     NaN                     NaN   \n",
       "135552                     NaN                     NaN   \n",
       "135553                     NaN                     NaN   \n",
       "135554                     NaN                     NaN   \n",
       "135555                     NaN                     NaN   \n",
       "\n",
       "        demo_race_ethnicitie_4  demo_race_ethnicitie_5  \\\n",
       "0                          NaN                     NaN   \n",
       "1                          NaN                     NaN   \n",
       "2                          NaN                     NaN   \n",
       "3                          NaN                     NaN   \n",
       "4                          NaN                     NaN   \n",
       "...                        ...                     ...   \n",
       "135551                     1.0                     NaN   \n",
       "135552                     NaN                     NaN   \n",
       "135553                     NaN                     NaN   \n",
       "135554                     NaN                     NaN   \n",
       "135555                     1.0                     NaN   \n",
       "\n",
       "        demo_race_ethnicitie_6  black_labeler_black_target  \\\n",
       "0                          1.0                         NaN   \n",
       "1                          1.0                         NaN   \n",
       "2                          1.0                         NaN   \n",
       "3                          1.0                         NaN   \n",
       "4                          1.0                         NaN   \n",
       "...                        ...                         ...   \n",
       "135551                     1.0                         NaN   \n",
       "135552                     1.0                         NaN   \n",
       "135553                     1.0                         NaN   \n",
       "135554                     1.0                         NaN   \n",
       "135555                     1.0                         NaN   \n",
       "\n",
       "        white_labeler_black_target  labels_polarity  \n",
       "0                              1.0                1  \n",
       "1                              NaN                1  \n",
       "2                              NaN                0  \n",
       "3                              NaN                1  \n",
       "4                              NaN                0  \n",
       "...                            ...              ...  \n",
       "135551                         NaN                1  \n",
       "135552                         NaN                0  \n",
       "135553                         NaN                0  \n",
       "135554                         NaN                0  \n",
       "135555                         NaN                0  \n",
       "\n",
       "[135556 rows x 15 columns]"
      ]
     },
     "execution_count": 226,
     "metadata": {},
     "output_type": "execute_result"
    }
   ],
   "source": [
    "X_2 = pd.get_dummies(X_2)\n",
    "X_2"
   ]
  },
  {
   "cell_type": "code",
   "execution_count": 227,
   "id": "12534291-6470-4697-92c4-bec2780181a1",
   "metadata": {},
   "outputs": [],
   "source": [
    "X_2 = X_2.fillna(0)"
   ]
  },
  {
   "cell_type": "code",
   "execution_count": 228,
   "id": "b1445fad-41df-44ae-be4c-4880f3ff432f",
   "metadata": {},
   "outputs": [],
   "source": [
    "# X_2.isna()"
   ]
  },
  {
   "cell_type": "code",
   "execution_count": 229,
   "id": "b960979b-aa8f-460a-9077-c1fa8ee856a1",
   "metadata": {},
   "outputs": [],
   "source": [
    "#making train test split here \n",
    "X_2_train, X_2_test, y_train, y_test = train_test_split(X_2, y, test_size = .25)"
   ]
  },
  {
   "cell_type": "code",
   "execution_count": 230,
   "id": "40607e17-29e9-47ad-b4bc-7cc3fb58e810",
   "metadata": {},
   "outputs": [
    {
     "data": {
      "text/plain": [
       "LogisticRegression()"
      ]
     },
     "execution_count": 230,
     "metadata": {},
     "output_type": "execute_result"
    }
   ],
   "source": [
    "log_reg.fit(X_2_train, y_train)"
   ]
  },
  {
   "cell_type": "code",
   "execution_count": 270,
   "id": "8a609e34-0b8d-44d9-b101-b8212ce93afd",
   "metadata": {},
   "outputs": [
    {
     "data": {
      "text/plain": [
       "array([[ 0.37448136,  0.71522213,  0.54765703, -1.12619581, -0.7551878 ,\n",
       "        -0.49800652, -0.13830143, -0.08722556, -0.08437877, -0.03273767,\n",
       "        -0.3335996 , -0.03984704,  0.1077433 , -0.07282033, -1.35331983]])"
      ]
     },
     "execution_count": 270,
     "metadata": {},
     "output_type": "execute_result"
    }
   ],
   "source": [
    "log_reg.coef_"
   ]
  },
  {
   "cell_type": "code",
   "execution_count": 252,
   "id": "d8684b4f-a0c5-4b35-82c3-f05801c34b0b",
   "metadata": {},
   "outputs": [
    {
     "name": "stdout",
     "output_type": "stream",
     "text": [
      "0.6495224605820965\n"
     ]
    }
   ],
   "source": [
    "#let's look at the test set here to see if the model is any good \n",
    "\n",
    "print(log_reg.score(X_2_train, y_train))"
   ]
  },
  {
   "cell_type": "code",
   "execution_count": 253,
   "id": "5c69ae50-3e20-4b02-ab11-f6d411e67d98",
   "metadata": {},
   "outputs": [
    {
     "name": "stdout",
     "output_type": "stream",
     "text": [
      "0.6545486736109062\n"
     ]
    }
   ],
   "source": [
    "print(log_reg.score(X_2_test, y_test))"
   ]
  },
  {
   "cell_type": "code",
   "execution_count": 273,
   "id": "64465ff2-252d-4a36-8c36-4c580ca06f73",
   "metadata": {},
   "outputs": [
    {
     "data": {
      "text/plain": [
       "0.6334798902298682"
      ]
     },
     "execution_count": 273,
     "metadata": {},
     "output_type": "execute_result"
    }
   ],
   "source": [
    "1 - y_test.mean()"
   ]
  },
  {
   "cell_type": "code",
   "execution_count": 274,
   "id": "cbd8a024-eceb-450a-9839-b94b7e66eedd",
   "metadata": {},
   "outputs": [
    {
     "data": {
      "text/plain": [
       "0.6306176045324441"
      ]
     },
     "execution_count": 274,
     "metadata": {},
     "output_type": "execute_result"
    }
   ],
   "source": [
    "1 - y_train.mean()"
   ]
  },
  {
   "cell_type": "code",
   "execution_count": null,
   "id": "96159b63-4189-441a-b595-346a42efc9db",
   "metadata": {},
   "outputs": [],
   "source": [
    "#observational study \n",
    "#step 1: correlational analysis (in race fairness notebook)\n",
    "#step 2: constructing model -- encode those differences in coefficients but also if patterns generalizable\n"
   ]
  },
  {
   "cell_type": "code",
   "execution_count": 275,
   "id": "f6faa675-b757-4ff0-803f-af097607e34b",
   "metadata": {},
   "outputs": [
    {
     "data": {
      "text/plain": [
       "array(['sentiment', 'respect', 'insult', 'humiliate', 'status',\n",
       "       'dehumanize', 'violence_phys', 'genocide', 'attack_defend',\n",
       "       'hatespeech', 'comment_id', 'platform', 'uid', 'predict_text',\n",
       "       'measure', 'std_err', 'num_ratings', 'weight', 'has_targets',\n",
       "       'target_identity_count', 'labeler_id', 'rater_measure',\n",
       "       'rater_infitms', 'rater_outfitms', 'infitms', 'outfitms',\n",
       "       'target_identities_1', 'target_identities_2',\n",
       "       'target_identities_3', 'target_identities_4',\n",
       "       'target_identities_5', 'target_identities_6',\n",
       "       'target_identities_7', 'target_identities_9', 'target_race_1',\n",
       "       'target_race_2', 'target_race_3', 'target_race_8', 'target_race_4',\n",
       "       'target_race_5', 'target_race_6', 'target_race_7',\n",
       "       'target_race_7_text', 'target_religion_1', 'target_religion_2',\n",
       "       'target_religion_4', 'target_religion_5', 'target_religion_8',\n",
       "       'target_religion_9', 'target_religion_10', 'target_religion_6',\n",
       "       'target_religion_6_text', 'target_citizen_5', 'target_citizen_1',\n",
       "       'target_citizen_2', 'target_citizen_3', 'target_citizen_4',\n",
       "       'target_citizen_4_text', 'target_gender_1', 'target_gender_3',\n",
       "       'target_gender_2', 'target_gender_5', 'target_gender_6',\n",
       "       'target_gender_7', 'target_gender_4', 'target_gender_4_text',\n",
       "       'target_sexuality_1', 'target_sexuality_2', 'target_sexuality_6',\n",
       "       'target_sexuality_3', 'target_sexuality_5',\n",
       "       'target_sexuality_5_text', 'target_age_1', 'target_age_2',\n",
       "       'target_age_3', 'target_age_4', 'target_age_5', 'target_age_6',\n",
       "       'target_age_6_text', 'target_disability_1', 'target_disability_2',\n",
       "       'target_disability_3', 'target_disability_4',\n",
       "       'target_disability_5', 'target_disability_9',\n",
       "       'target_disability_6', 'target_disability_6_text',\n",
       "       'target_political_1', 'target_political_2', 'target_political_3',\n",
       "       'target_political_4', 'target_political_5', 'target_political_6',\n",
       "       'target_political_7', 'target_political_8', 'target_political_9',\n",
       "       'target_political_10', 'target_political_11',\n",
       "       'target_political_11_text', 'demo_gender', 'demo_gender_4_text',\n",
       "       'demo_trans', 'demo_educ', 'demo_race_ethnicitie_1',\n",
       "       'demo_race_ethnicitie_2', 'demo_race_ethnicitie_3',\n",
       "       'demo_race_ethnicitie_4', 'demo_race_ethnicitie_5',\n",
       "       'demo_race_ethnicitie_8', 'demo_race_ethnicitie_6',\n",
       "       'demo_race_ethnicitie_7', 'demo_race_ethnicitie_7_text',\n",
       "       'demo_age', 'demo_income', 'demo_religion_1', 'demo_religion_2',\n",
       "       'demo_religion_11', 'demo_religion_4', 'demo_religion_5',\n",
       "       'demo_religion_7', 'demo_religion_8', 'demo_religion_9',\n",
       "       'demo_religion_10', 'demo_religion_10_text', 'demo_sexual_orien_1',\n",
       "       'demo_sexual_orien_2', 'demo_sexual_orien_3',\n",
       "       'demo_sexual_orien_4', 'demo_sexual_orien_5',\n",
       "       'demo_sexual_orien_4_text', 'demo_ideology', 'locationlatitude',\n",
       "       'locationlongitude', 'identity', 'hypothesis'], dtype=object)"
      ]
     },
     "execution_count": 275,
     "metadata": {},
     "output_type": "execute_result"
    }
   ],
   "source": [
    "data_multi.columns.values\n",
    "\n",
    "#add severity differences \n",
    "#gender bc good reason to inclde in model \n",
    "#variance that can be attributed to the comments (sentimemnt)\n",
    "#multi level model - bayesian model tht accounts for clusters\n",
    "#coefs structured \n",
    "#cluster is a comment \n",
    "#similar to IRT\n",
    "\n",
    "\n",
    "#for next hate speech meeting: \n",
    "#L2 regression --> generalization ** \n",
    "#logisticregressionCV (cross validation)\n",
    "#look through NLTK for other ways of measuring\n",
    "#Lasso for logit \n",
    "\n",
    "#l2 penalize\n",
    "#l1 penalize - problems in inducing bias in fitted paramters (more problematic for intp)\n",
    "#add comment id or word embedding\n",
    "#restriction: reference set comments --> abudance of annotators \n",
    "\n",
    "\n",
    "\n",
    "#after hate speech meeting\n",
    "#randomforest --> feature importance, shackeley values ...fitted parameters\n",
    "#github repo w/ shack values \n",
    "#feature importance unidirectional \n",
    "#gradient boosted trees\n",
    "\n"
   ]
  },
  {
   "cell_type": "code",
   "execution_count": 266,
   "id": "75ecb546-f790-4879-b619-9ef7895562fa",
   "metadata": {},
   "outputs": [],
   "source": [
    "#feature importance\n",
    "\n",
    "logit_data = pd.concat([pd.DataFrame(X_2.columns), \n",
    "                             pd.DataFrame(np.transpose(log_reg.coef_))], axis = 1)\n",
    "logit_data.columns = ['Feature', 'Coefficient']\n",
    "logit_data['abs_coef'] = abs(logit_data['Coefficient'])\n",
    "\n"
   ]
  },
  {
   "cell_type": "code",
   "execution_count": null,
   "id": "baebe184-c514-42d7-baa0-7b3b7ca12dab",
   "metadata": {},
   "outputs": [],
   "source": []
  },
  {
   "cell_type": "code",
   "execution_count": 269,
   "id": "304b781e-0d1e-49f8-9d6e-83a1e74a0a95",
   "metadata": {},
   "outputs": [
    {
     "data": {
      "text/plain": [
       "Text(0.5, 1.0, 'Top Logit Coefficients')"
      ]
     },
     "execution_count": 269,
     "metadata": {},
     "output_type": "execute_result"
    },
    {
     "data": {
      "image/png": "[encoded data removed]",
      "text/plain": [
       "<Figure size 432x288 with 1 Axes>"
      ]
     },
     "metadata": {},
     "output_type": "display_data"
    }
   ],
   "source": [
    "sns.barplot(x = 'Coefficient', y = 'Feature', data= logit_data.nlargest(11, 'abs_coef')).set_title('Top Logit Coefficients')\n"
   ]
  },
  {
   "cell_type": "code",
   "execution_count": 267,
   "id": "4e1b387e-be90-4d88-adc8-fe39b903823d",
   "metadata": {},
   "outputs": [
    {
     "data": {
      "text/html": [
       "<div>\n",
       "<style scoped>\n",
       "    .dataframe tbody tr th:only-of-type {\n",
       "        vertical-align: middle;\n",
       "    }\n",
       "\n",
       "    .dataframe tbody tr th {\n",
       "        vertical-align: top;\n",
       "    }\n",
       "\n",
       "    .dataframe thead th {\n",
       "        text-align: right;\n",
       "    }\n",
       "</style>\n",
       "<table border=\"1\" class=\"dataframe\">\n",
       "  <thead>\n",
       "    <tr style=\"text-align: right;\">\n",
       "      <th></th>\n",
       "      <th>Feature</th>\n",
       "      <th>Coefficient</th>\n",
       "      <th>abs_coef</th>\n",
       "    </tr>\n",
       "  </thead>\n",
       "  <tbody>\n",
       "    <tr>\n",
       "      <th>0</th>\n",
       "      <td>target_race_1</td>\n",
       "      <td>0.374481</td>\n",
       "      <td>0.374481</td>\n",
       "    </tr>\n",
       "    <tr>\n",
       "      <th>1</th>\n",
       "      <td>target_race_2</td>\n",
       "      <td>0.715222</td>\n",
       "      <td>0.715222</td>\n",
       "    </tr>\n",
       "    <tr>\n",
       "      <th>2</th>\n",
       "      <td>target_race_3</td>\n",
       "      <td>0.547657</td>\n",
       "      <td>0.547657</td>\n",
       "    </tr>\n",
       "    <tr>\n",
       "      <th>3</th>\n",
       "      <td>target_race_4</td>\n",
       "      <td>-1.126196</td>\n",
       "      <td>1.126196</td>\n",
       "    </tr>\n",
       "    <tr>\n",
       "      <th>4</th>\n",
       "      <td>target_race_5</td>\n",
       "      <td>-0.755188</td>\n",
       "      <td>0.755188</td>\n",
       "    </tr>\n",
       "    <tr>\n",
       "      <th>5</th>\n",
       "      <td>target_race_6</td>\n",
       "      <td>-0.498007</td>\n",
       "      <td>0.498007</td>\n",
       "    </tr>\n",
       "    <tr>\n",
       "      <th>6</th>\n",
       "      <td>demo_race_ethnicitie_1</td>\n",
       "      <td>-0.138301</td>\n",
       "      <td>0.138301</td>\n",
       "    </tr>\n",
       "    <tr>\n",
       "      <th>7</th>\n",
       "      <td>demo_race_ethnicitie_2</td>\n",
       "      <td>-0.087226</td>\n",
       "      <td>0.087226</td>\n",
       "    </tr>\n",
       "    <tr>\n",
       "      <th>8</th>\n",
       "      <td>demo_race_ethnicitie_3</td>\n",
       "      <td>-0.084379</td>\n",
       "      <td>0.084379</td>\n",
       "    </tr>\n",
       "    <tr>\n",
       "      <th>9</th>\n",
       "      <td>demo_race_ethnicitie_4</td>\n",
       "      <td>-0.032738</td>\n",
       "      <td>0.032738</td>\n",
       "    </tr>\n",
       "    <tr>\n",
       "      <th>10</th>\n",
       "      <td>demo_race_ethnicitie_5</td>\n",
       "      <td>-0.333600</td>\n",
       "      <td>0.333600</td>\n",
       "    </tr>\n",
       "    <tr>\n",
       "      <th>11</th>\n",
       "      <td>demo_race_ethnicitie_6</td>\n",
       "      <td>-0.039847</td>\n",
       "      <td>0.039847</td>\n",
       "    </tr>\n",
       "    <tr>\n",
       "      <th>12</th>\n",
       "      <td>black_labeler_black_target</td>\n",
       "      <td>0.107743</td>\n",
       "      <td>0.107743</td>\n",
       "    </tr>\n",
       "    <tr>\n",
       "      <th>13</th>\n",
       "      <td>white_labeler_black_target</td>\n",
       "      <td>-0.072820</td>\n",
       "      <td>0.072820</td>\n",
       "    </tr>\n",
       "    <tr>\n",
       "      <th>14</th>\n",
       "      <td>labels_polarity</td>\n",
       "      <td>-1.353320</td>\n",
       "      <td>1.353320</td>\n",
       "    </tr>\n",
       "  </tbody>\n",
       "</table>\n",
       "</div>"
      ],
      "text/plain": [
       "                       Feature  Coefficient  abs_coef\n",
       "0                target_race_1     0.374481  0.374481\n",
       "1                target_race_2     0.715222  0.715222\n",
       "2                target_race_3     0.547657  0.547657\n",
       "3                target_race_4    -1.126196  1.126196\n",
       "4                target_race_5    -0.755188  0.755188\n",
       "5                target_race_6    -0.498007  0.498007\n",
       "6       demo_race_ethnicitie_1    -0.138301  0.138301\n",
       "7       demo_race_ethnicitie_2    -0.087226  0.087226\n",
       "8       demo_race_ethnicitie_3    -0.084379  0.084379\n",
       "9       demo_race_ethnicitie_4    -0.032738  0.032738\n",
       "10      demo_race_ethnicitie_5    -0.333600  0.333600\n",
       "11      demo_race_ethnicitie_6    -0.039847  0.039847\n",
       "12  black_labeler_black_target     0.107743  0.107743\n",
       "13  white_labeler_black_target    -0.072820  0.072820\n",
       "14             labels_polarity    -1.353320  1.353320"
      ]
     },
     "execution_count": 267,
     "metadata": {},
     "output_type": "execute_result"
    }
   ],
   "source": [
    "logit_data"
   ]
  },
  {
   "cell_type": "code",
   "execution_count": 257,
   "id": "04321fb2-5b08-460c-9c9d-bc1d5c8aab9a",
   "metadata": {},
   "outputs": [],
   "source": [
    "#predictions on the validation set \n",
    "\n",
    "y_pred = log_reg.predict(X_2_test)"
   ]
  },
  {
   "cell_type": "code",
   "execution_count": null,
   "id": "aa926259-bd5c-4454-8cb2-ab5d0fefecf4",
   "metadata": {},
   "outputs": [],
   "source": []
  },
  {
   "cell_type": "code",
   "execution_count": 263,
   "id": "1ca87892-9a85-4d2a-ba3d-3fd1cae66a0d",
   "metadata": {},
   "outputs": [
    {
     "data": {
      "image/png": "[encoded data removed]",
      "text/plain": [
       "<Figure size 720x504 with 2 Axes>"
      ]
     },
     "metadata": {
      "needs_background": "light"
     },
     "output_type": "display_data"
    }
   ],
   "source": [
    "cf_matrix = confusion_matrix(y_test, y_pred, normalize = 'true')\n",
    "\n",
    "df_cm = pd.DataFrame(cf_matrix, range(2), range(2))\n",
    "\n",
    "df_cm = df_cm.rename(index=str, columns={0: 'not dehumanizing', 1:'dehumanizing'})\n",
    "\n",
    "df_cm.index = ['not deumanizing', 'dehumanizing']\n",
    "plt.figure(figsize = (10, 7))\n",
    "\n",
    "sns.set(font_scale = 1.4) #for label size\n",
    "\n",
    "sns.heatmap(df_cm, annot=True, annot_kws={'size': 16}, fmt= 'g')\n",
    "\n",
    "plt.title('Confusion Matrix')\n",
    "plt.xlabel('Predicted Label')\n",
    "plt.ylabel('True Label')\n",
    "plt.show()"
   ]
  },
  {
   "cell_type": "code",
   "execution_count": null,
   "id": "1b49f777-0ae6-40b4-8232-53c6936eb7ad",
   "metadata": {},
   "outputs": [],
   "source": []
  },
  {
   "cell_type": "code",
   "execution_count": 232,
   "id": "76d0a585-fc4e-41c4-8446-8b8e542b7a2f",
   "metadata": {},
   "outputs": [
    {
     "name": "stdout",
     "output_type": "stream",
     "text": [
      "Optimization terminated successfully.\n",
      "         Current function value: 0.611535\n",
      "         Iterations 5\n"
     ]
    }
   ],
   "source": [
    "results = sm.Logit(y_train, X_2_train).fit()"
   ]
  },
  {
   "cell_type": "code",
   "execution_count": 251,
   "id": "6bc802bf-fb10-4043-b35d-1a58f664b840",
   "metadata": {},
   "outputs": [
    {
     "name": "stdout",
     "output_type": "stream",
     "text": [
      "                           Logit Regression Results                           \n",
      "==============================================================================\n",
      "Dep. Variable:                      y   No. Observations:               101667\n",
      "Model:                          Logit   Df Residuals:                   101652\n",
      "Method:                           MLE   Df Model:                           14\n",
      "Date:                Tue, 21 Sep 2021   Pseudo R-squ.:                 0.07150\n",
      "Time:                        09:57:02   Log-Likelihood:                -62173.\n",
      "converged:                       True   LL-Null:                       -66961.\n",
      "Covariance Type:            nonrobust   LLR p-value:                     0.000\n",
      "==============================================================================================\n",
      "                                 coef    std err          z      P>|z|      [0.025      0.975]\n",
      "----------------------------------------------------------------------------------------------\n",
      "target_race_1                  0.2796      0.049      5.680      0.000       0.183       0.376\n",
      "target_race_2                  0.7087      0.031     23.055      0.000       0.648       0.769\n",
      "target_race_3                  0.5400      0.035     15.605      0.000       0.472       0.608\n",
      "target_race_4                 -1.1293      0.080    -14.136      0.000      -1.286      -0.973\n",
      "target_race_5                 -0.7415      0.088     -8.409      0.000      -0.914      -0.569\n",
      "target_race_6                 -0.5076      0.027    -18.459      0.000      -0.561      -0.454\n",
      "demo_race_ethnicitie_1        -0.1469      0.050     -2.941      0.003      -0.245      -0.049\n",
      "demo_race_ethnicitie_2        -0.2292      0.027     -8.486      0.000      -0.282      -0.176\n",
      "demo_race_ethnicitie_3        -0.2456      0.024    -10.088      0.000      -0.293      -0.198\n",
      "demo_race_ethnicitie_4        -0.1353      0.027     -5.075      0.000      -0.188      -0.083\n",
      "demo_race_ethnicitie_5        -0.3617      0.120     -3.021      0.003      -0.596      -0.127\n",
      "demo_race_ethnicitie_6        -0.2262      0.010    -23.782      0.000      -0.245      -0.208\n",
      "black_labeler_black_target     0.1940      0.070      2.771      0.006       0.057       0.331\n",
      "white_labeler_black_target     0.0205      0.052      0.394      0.693      -0.081       0.122\n",
      "labels_polarity               -1.3675      0.017    -81.287      0.000      -1.400      -1.335\n",
      "==============================================================================================\n"
     ]
    }
   ],
   "source": [
    "print(results.summary())\n",
    "\n",
    "#can i compare size of the coefficients here?\n",
    "#or look at size of z?"
   ]
  },
  {
   "cell_type": "code",
   "execution_count": 247,
   "id": "adcdfd0c-0f28-4ae0-8053-a9bcab3c99d5",
   "metadata": {},
   "outputs": [
    {
     "data": {
      "text/plain": [
       "3.0    44153\n",
       "2.0    39673\n",
       "0.0    33143\n",
       "1.0    18587\n",
       "Name: insult, dtype: int64"
      ]
     },
     "execution_count": 247,
     "metadata": {},
     "output_type": "execute_result"
    }
   ],
   "source": [
    "data_multi['insult'].value_counts()"
   ]
  },
  {
   "cell_type": "code",
   "execution_count": 241,
   "id": "317709b1-cc3d-4275-98fd-831f788a2cc8",
   "metadata": {},
   "outputs": [
    {
     "data": {
      "text/plain": [
       "array(['sentiment', 'respect', 'insult', 'humiliate', 'status',\n",
       "       'dehumanize', 'violence_phys', 'genocide', 'attack_defend',\n",
       "       'hatespeech', 'comment_id', 'platform', 'uid', 'predict_text',\n",
       "       'measure', 'std_err', 'num_ratings', 'weight', 'has_targets',\n",
       "       'target_identity_count', 'labeler_id', 'rater_measure',\n",
       "       'rater_infitms', 'rater_outfitms', 'infitms', 'outfitms',\n",
       "       'target_identities_1', 'target_identities_2',\n",
       "       'target_identities_3', 'target_identities_4',\n",
       "       'target_identities_5', 'target_identities_6',\n",
       "       'target_identities_7', 'target_identities_9', 'target_race_1',\n",
       "       'target_race_2', 'target_race_3', 'target_race_8', 'target_race_4',\n",
       "       'target_race_5', 'target_race_6', 'target_race_7',\n",
       "       'target_race_7_text', 'target_religion_1', 'target_religion_2',\n",
       "       'target_religion_4', 'target_religion_5', 'target_religion_8',\n",
       "       'target_religion_9', 'target_religion_10', 'target_religion_6',\n",
       "       'target_religion_6_text', 'target_citizen_5', 'target_citizen_1',\n",
       "       'target_citizen_2', 'target_citizen_3', 'target_citizen_4',\n",
       "       'target_citizen_4_text', 'target_gender_1', 'target_gender_3',\n",
       "       'target_gender_2', 'target_gender_5', 'target_gender_6',\n",
       "       'target_gender_7', 'target_gender_4', 'target_gender_4_text',\n",
       "       'target_sexuality_1', 'target_sexuality_2', 'target_sexuality_6',\n",
       "       'target_sexuality_3', 'target_sexuality_5',\n",
       "       'target_sexuality_5_text', 'target_age_1', 'target_age_2',\n",
       "       'target_age_3', 'target_age_4', 'target_age_5', 'target_age_6',\n",
       "       'target_age_6_text', 'target_disability_1', 'target_disability_2',\n",
       "       'target_disability_3', 'target_disability_4',\n",
       "       'target_disability_5', 'target_disability_9',\n",
       "       'target_disability_6', 'target_disability_6_text',\n",
       "       'target_political_1', 'target_political_2', 'target_political_3',\n",
       "       'target_political_4', 'target_political_5', 'target_political_6',\n",
       "       'target_political_7', 'target_political_8', 'target_political_9',\n",
       "       'target_political_10', 'target_political_11',\n",
       "       'target_political_11_text', 'demo_gender', 'demo_gender_4_text',\n",
       "       'demo_trans', 'demo_educ', 'demo_race_ethnicitie_1',\n",
       "       'demo_race_ethnicitie_2', 'demo_race_ethnicitie_3',\n",
       "       'demo_race_ethnicitie_4', 'demo_race_ethnicitie_5',\n",
       "       'demo_race_ethnicitie_8', 'demo_race_ethnicitie_6',\n",
       "       'demo_race_ethnicitie_7', 'demo_race_ethnicitie_7_text',\n",
       "       'demo_age', 'demo_income', 'demo_religion_1', 'demo_religion_2',\n",
       "       'demo_religion_11', 'demo_religion_4', 'demo_religion_5',\n",
       "       'demo_religion_7', 'demo_religion_8', 'demo_religion_9',\n",
       "       'demo_religion_10', 'demo_religion_10_text', 'demo_sexual_orien_1',\n",
       "       'demo_sexual_orien_2', 'demo_sexual_orien_3',\n",
       "       'demo_sexual_orien_4', 'demo_sexual_orien_5',\n",
       "       'demo_sexual_orien_4_text', 'demo_ideology', 'locationlatitude',\n",
       "       'locationlongitude', 'identity', 'hypothesis', 'polarity',\n",
       "       'polarity_binary', 'labels_polarity', 'black_labeler_black_target',\n",
       "       'white_labeler_black_target', 'black_labeler_white_target',\n",
       "       'white_labeler_white_target'], dtype=object)"
      ]
     },
     "execution_count": 241,
     "metadata": {},
     "output_type": "execute_result"
    }
   ],
   "source": [
    "data_multi.columns.values\n"
   ]
  },
  {
   "cell_type": "code",
   "execution_count": 243,
   "id": "fd9f4008-e25c-44d1-8139-3d31dd815401",
   "metadata": {},
   "outputs": [
    {
     "data": {
      "text/plain": [
       "1.0    48359\n",
       "Name: target_identities_1, dtype: int64"
      ]
     },
     "execution_count": 243,
     "metadata": {},
     "output_type": "execute_result"
    }
   ],
   "source": [
    "data_multi['target_identities_1'].value_counts()"
   ]
  },
  {
   "cell_type": "code",
   "execution_count": 234,
   "id": "c8ce2947-4663-4573-a297-ed6c79572775",
   "metadata": {},
   "outputs": [
    {
     "data": {
      "text/plain": [
       "0.0    132920\n",
       "1.0      2636\n",
       "Name: demo_race_ethnicitie_1, dtype: int64"
      ]
     },
     "execution_count": 234,
     "metadata": {},
     "output_type": "execute_result"
    }
   ],
   "source": [
    "X_2['demo_race_ethnicitie_1'].value_counts()"
   ]
  },
  {
   "cell_type": "code",
   "execution_count": 235,
   "id": "a2c0c71c-afce-4f35-8097-7d68c1871c72",
   "metadata": {},
   "outputs": [
    {
     "data": {
      "text/plain": [
       "0.0    112657\n",
       "1.0     22899\n",
       "Name: target_race_1, dtype: int64"
      ]
     },
     "execution_count": 235,
     "metadata": {},
     "output_type": "execute_result"
    }
   ],
   "source": [
    "X_2['target_race_1'].value_counts()"
   ]
  },
  {
   "cell_type": "code",
   "execution_count": 236,
   "id": "dfac1d8d-a46b-4d64-87e5-d44ecd4d4832",
   "metadata": {},
   "outputs": [
    {
     "data": {
      "text/plain": [
       "0.0    127059\n",
       "1.0      8497\n",
       "Name: target_race_2, dtype: int64"
      ]
     },
     "execution_count": 236,
     "metadata": {},
     "output_type": "execute_result"
    }
   ],
   "source": [
    "X_2['target_race_2'].value_counts()"
   ]
  },
  {
   "cell_type": "code",
   "execution_count": 237,
   "id": "5e92d8db-bd90-4ac5-983e-2749dce2d88d",
   "metadata": {},
   "outputs": [
    {
     "data": {
      "text/plain": [
       "0.0    128531\n",
       "1.0      7025\n",
       "Name: target_race_3, dtype: int64"
      ]
     },
     "execution_count": 237,
     "metadata": {},
     "output_type": "execute_result"
    }
   ],
   "source": [
    "X_2['target_race_3'].value_counts()"
   ]
  },
  {
   "cell_type": "code",
   "execution_count": 246,
   "id": "691536dd-1be7-4d39-bb3d-d411b261f1c5",
   "metadata": {},
   "outputs": [
    {
     "data": {
      "text/plain": [
       "0.0    132737\n",
       "1.0      2819\n",
       "Name: target_race_4, dtype: int64"
      ]
     },
     "execution_count": 246,
     "metadata": {},
     "output_type": "execute_result"
    }
   ],
   "source": [
    "X_2['target_race_4'].value_counts()"
   ]
  },
  {
   "cell_type": "code",
   "execution_count": 239,
   "id": "c449c884-3ec9-440d-84ea-f142c31d580c",
   "metadata": {},
   "outputs": [
    {
     "data": {
      "text/plain": [
       "0.0    133198\n",
       "1.0      2358\n",
       "Name: target_race_5, dtype: int64"
      ]
     },
     "execution_count": 239,
     "metadata": {},
     "output_type": "execute_result"
    }
   ],
   "source": [
    "X_2['target_race_5'].value_counts()"
   ]
  },
  {
   "cell_type": "code",
   "execution_count": 240,
   "id": "36ce086d-da66-42ca-97ee-ec984bf22a49",
   "metadata": {},
   "outputs": [
    {
     "data": {
      "text/plain": [
       "0.0    125759\n",
       "1.0      9797\n",
       "Name: target_race_6, dtype: int64"
      ]
     },
     "execution_count": 240,
     "metadata": {},
     "output_type": "execute_result"
    }
   ],
   "source": [
    "X_2['target_race_6'].value_counts()"
   ]
  },
  {
   "cell_type": "markdown",
   "id": "bf4b84fe-5c14-4042-8565-bc240fa0bfc7",
   "metadata": {},
   "source": [
    "### NOT FOR CAUSAL INFERENCE, JUST FOR EXPLORATION "
   ]
  },
  {
   "cell_type": "code",
   "execution_count": null,
   "id": "a4aa06f3-e745-4e0c-bb88-2f98d1f2bb65",
   "metadata": {},
   "outputs": [],
   "source": []
  },
  {
   "cell_type": "code",
   "execution_count": null,
   "id": "91868bf4-aeb1-4465-a36d-8af54b0dd578",
   "metadata": {},
   "outputs": [],
   "source": []
  },
  {
   "cell_type": "code",
   "execution_count": null,
   "id": "73a03744-bdb3-4b7e-be2d-571d4a1958fd",
   "metadata": {},
   "outputs": [],
   "source": []
  },
  {
   "cell_type": "code",
   "execution_count": null,
   "id": "1a8bf5a9-0839-47b6-93a1-557f24d0b6c9",
   "metadata": {},
   "outputs": [],
   "source": []
  },
  {
   "cell_type": "code",
   "execution_count": null,
   "id": "0fbeb7ad-e279-4081-8edb-d1855524347c",
   "metadata": {},
   "outputs": [],
   "source": []
  },
  {
   "cell_type": "code",
   "execution_count": 187,
   "id": "4b4b3201-2e41-46ce-ad7f-9274a06ec4b1",
   "metadata": {},
   "outputs": [
    {
     "data": {
      "text/html": [
       "<div>\n",
       "<style scoped>\n",
       "    .dataframe tbody tr th:only-of-type {\n",
       "        vertical-align: middle;\n",
       "    }\n",
       "\n",
       "    .dataframe tbody tr th {\n",
       "        vertical-align: top;\n",
       "    }\n",
       "\n",
       "    .dataframe thead th {\n",
       "        text-align: right;\n",
       "    }\n",
       "</style>\n",
       "<table border=\"1\" class=\"dataframe\">\n",
       "  <thead>\n",
       "    <tr style=\"text-align: right;\">\n",
       "      <th></th>\n",
       "      <th>sentiment</th>\n",
       "      <th>respect</th>\n",
       "      <th>insult</th>\n",
       "      <th>humiliate</th>\n",
       "      <th>status</th>\n",
       "      <th>dehumanize</th>\n",
       "      <th>violence_phys</th>\n",
       "      <th>genocide</th>\n",
       "      <th>attack_defend</th>\n",
       "      <th>hatespeech</th>\n",
       "      <th>...</th>\n",
       "      <th>locationlongitude</th>\n",
       "      <th>identity</th>\n",
       "      <th>hypothesis</th>\n",
       "      <th>polarity</th>\n",
       "      <th>polarity_binary</th>\n",
       "      <th>labels_polarity</th>\n",
       "      <th>black_labeler_black_target</th>\n",
       "      <th>white_labeler_black_target</th>\n",
       "      <th>black_labeler_white_target</th>\n",
       "      <th>white_labeler_white_target</th>\n",
       "    </tr>\n",
       "  </thead>\n",
       "  <tbody>\n",
       "    <tr>\n",
       "      <th>0</th>\n",
       "      <td>0.0</td>\n",
       "      <td>0.0</td>\n",
       "      <td>0.0</td>\n",
       "      <td>0.0</td>\n",
       "      <td>0.0</td>\n",
       "      <td>0.0</td>\n",
       "      <td>0.0</td>\n",
       "      <td>0.0</td>\n",
       "      <td>0.0</td>\n",
       "      <td>0.0</td>\n",
       "      <td>...</td>\n",
       "      <td>-77.39420318603515625</td>\n",
       "      <td>0.917681</td>\n",
       "      <td>-1.130178</td>\n",
       "      <td>{'neg': 0.04, 'neu': 0.772, 'pos': 0.188, 'com...</td>\n",
       "      <td>True</td>\n",
       "      <td>1</td>\n",
       "      <td>NaN</td>\n",
       "      <td>1.0</td>\n",
       "      <td>NaN</td>\n",
       "      <td>1.0</td>\n",
       "    </tr>\n",
       "    <tr>\n",
       "      <th>1</th>\n",
       "      <td>0.0</td>\n",
       "      <td>0.0</td>\n",
       "      <td>0.0</td>\n",
       "      <td>0.0</td>\n",
       "      <td>0.0</td>\n",
       "      <td>0.0</td>\n",
       "      <td>0.0</td>\n",
       "      <td>0.0</td>\n",
       "      <td>1.0</td>\n",
       "      <td>0.0</td>\n",
       "      <td>...</td>\n",
       "      <td>-96.83170318603515625</td>\n",
       "      <td>0.918119</td>\n",
       "      <td>-1.146973</td>\n",
       "      <td>{'neg': 0.0, 'neu': 0.698, 'pos': 0.302, 'comp...</td>\n",
       "      <td>True</td>\n",
       "      <td>1</td>\n",
       "      <td>NaN</td>\n",
       "      <td>NaN</td>\n",
       "      <td>NaN</td>\n",
       "      <td>NaN</td>\n",
       "    </tr>\n",
       "    <tr>\n",
       "      <th>2</th>\n",
       "      <td>4.0</td>\n",
       "      <td>4.0</td>\n",
       "      <td>3.0</td>\n",
       "      <td>2.0</td>\n",
       "      <td>1.0</td>\n",
       "      <td>1.0</td>\n",
       "      <td>0.0</td>\n",
       "      <td>0.0</td>\n",
       "      <td>3.0</td>\n",
       "      <td>1.0</td>\n",
       "      <td>...</td>\n",
       "      <td>-76.53890228271484375</td>\n",
       "      <td>0.985910</td>\n",
       "      <td>-0.207369</td>\n",
       "      <td>{'neg': 0.172, 'neu': 0.68, 'pos': 0.148, 'com...</td>\n",
       "      <td>False</td>\n",
       "      <td>0</td>\n",
       "      <td>NaN</td>\n",
       "      <td>NaN</td>\n",
       "      <td>NaN</td>\n",
       "      <td>NaN</td>\n",
       "    </tr>\n",
       "    <tr>\n",
       "      <th>3</th>\n",
       "      <td>2.0</td>\n",
       "      <td>3.0</td>\n",
       "      <td>1.0</td>\n",
       "      <td>0.0</td>\n",
       "      <td>0.0</td>\n",
       "      <td>0.0</td>\n",
       "      <td>0.0</td>\n",
       "      <td>0.0</td>\n",
       "      <td>2.0</td>\n",
       "      <td>0.0</td>\n",
       "      <td>...</td>\n",
       "      <td>-94.4727020263671875</td>\n",
       "      <td>0.969761</td>\n",
       "      <td>-0.055536</td>\n",
       "      <td>{'neg': 0.0, 'neu': 0.905, 'pos': 0.095, 'comp...</td>\n",
       "      <td>True</td>\n",
       "      <td>1</td>\n",
       "      <td>NaN</td>\n",
       "      <td>NaN</td>\n",
       "      <td>NaN</td>\n",
       "      <td>NaN</td>\n",
       "    </tr>\n",
       "    <tr>\n",
       "      <th>4</th>\n",
       "      <td>4.0</td>\n",
       "      <td>4.0</td>\n",
       "      <td>3.0</td>\n",
       "      <td>2.0</td>\n",
       "      <td>1.0</td>\n",
       "      <td>1.0</td>\n",
       "      <td>1.0</td>\n",
       "      <td>0.0</td>\n",
       "      <td>2.0</td>\n",
       "      <td>1.0</td>\n",
       "      <td>...</td>\n",
       "      <td>-79.64679718017578125</td>\n",
       "      <td>0.935462</td>\n",
       "      <td>0.104225</td>\n",
       "      <td>{'neg': 0.236, 'neu': 0.764, 'pos': 0.0, 'comp...</td>\n",
       "      <td>False</td>\n",
       "      <td>0</td>\n",
       "      <td>NaN</td>\n",
       "      <td>NaN</td>\n",
       "      <td>NaN</td>\n",
       "      <td>NaN</td>\n",
       "    </tr>\n",
       "    <tr>\n",
       "      <th>...</th>\n",
       "      <td>...</td>\n",
       "      <td>...</td>\n",
       "      <td>...</td>\n",
       "      <td>...</td>\n",
       "      <td>...</td>\n",
       "      <td>...</td>\n",
       "      <td>...</td>\n",
       "      <td>...</td>\n",
       "      <td>...</td>\n",
       "      <td>...</td>\n",
       "      <td>...</td>\n",
       "      <td>...</td>\n",
       "      <td>...</td>\n",
       "      <td>...</td>\n",
       "      <td>...</td>\n",
       "      <td>...</td>\n",
       "      <td>...</td>\n",
       "      <td>...</td>\n",
       "      <td>...</td>\n",
       "      <td>...</td>\n",
       "      <td>...</td>\n",
       "    </tr>\n",
       "    <tr>\n",
       "      <th>135551</th>\n",
       "      <td>1.0</td>\n",
       "      <td>1.0</td>\n",
       "      <td>0.0</td>\n",
       "      <td>0.0</td>\n",
       "      <td>0.0</td>\n",
       "      <td>0.0</td>\n",
       "      <td>0.0</td>\n",
       "      <td>0.0</td>\n",
       "      <td>1.0</td>\n",
       "      <td>0.0</td>\n",
       "      <td>...</td>\n",
       "      <td>-81.41970062255859375</td>\n",
       "      <td>0.929974</td>\n",
       "      <td>-0.036250</td>\n",
       "      <td>{'neg': 0.103, 'neu': 0.816, 'pos': 0.082, 'co...</td>\n",
       "      <td>True</td>\n",
       "      <td>1</td>\n",
       "      <td>NaN</td>\n",
       "      <td>NaN</td>\n",
       "      <td>NaN</td>\n",
       "      <td>NaN</td>\n",
       "    </tr>\n",
       "    <tr>\n",
       "      <th>135552</th>\n",
       "      <td>2.0</td>\n",
       "      <td>0.0</td>\n",
       "      <td>0.0</td>\n",
       "      <td>0.0</td>\n",
       "      <td>0.0</td>\n",
       "      <td>0.0</td>\n",
       "      <td>0.0</td>\n",
       "      <td>0.0</td>\n",
       "      <td>0.0</td>\n",
       "      <td>0.0</td>\n",
       "      <td>...</td>\n",
       "      <td>-85.14620208740234375</td>\n",
       "      <td>0.934007</td>\n",
       "      <td>-0.974684</td>\n",
       "      <td>{'neg': 0.0, 'neu': 1.0, 'pos': 0.0, 'compound...</td>\n",
       "      <td>False</td>\n",
       "      <td>0</td>\n",
       "      <td>NaN</td>\n",
       "      <td>NaN</td>\n",
       "      <td>NaN</td>\n",
       "      <td>NaN</td>\n",
       "    </tr>\n",
       "    <tr>\n",
       "      <th>135553</th>\n",
       "      <td>1.0</td>\n",
       "      <td>1.0</td>\n",
       "      <td>0.0</td>\n",
       "      <td>0.0</td>\n",
       "      <td>0.0</td>\n",
       "      <td>0.0</td>\n",
       "      <td>0.0</td>\n",
       "      <td>0.0</td>\n",
       "      <td>0.0</td>\n",
       "      <td>0.0</td>\n",
       "      <td>...</td>\n",
       "      <td>-84.11810302734375</td>\n",
       "      <td>0.871521</td>\n",
       "      <td>-0.491960</td>\n",
       "      <td>{'neg': 0.0, 'neu': 1.0, 'pos': 0.0, 'compound...</td>\n",
       "      <td>False</td>\n",
       "      <td>0</td>\n",
       "      <td>NaN</td>\n",
       "      <td>NaN</td>\n",
       "      <td>NaN</td>\n",
       "      <td>NaN</td>\n",
       "    </tr>\n",
       "    <tr>\n",
       "      <th>135554</th>\n",
       "      <td>2.0</td>\n",
       "      <td>0.0</td>\n",
       "      <td>0.0</td>\n",
       "      <td>0.0</td>\n",
       "      <td>0.0</td>\n",
       "      <td>0.0</td>\n",
       "      <td>0.0</td>\n",
       "      <td>0.0</td>\n",
       "      <td>1.0</td>\n",
       "      <td>0.0</td>\n",
       "      <td>...</td>\n",
       "      <td>-79.54180145263671875</td>\n",
       "      <td>0.934007</td>\n",
       "      <td>-0.974684</td>\n",
       "      <td>{'neg': 0.0, 'neu': 1.0, 'pos': 0.0, 'compound...</td>\n",
       "      <td>False</td>\n",
       "      <td>0</td>\n",
       "      <td>NaN</td>\n",
       "      <td>NaN</td>\n",
       "      <td>NaN</td>\n",
       "      <td>NaN</td>\n",
       "    </tr>\n",
       "    <tr>\n",
       "      <th>135555</th>\n",
       "      <td>4.0</td>\n",
       "      <td>4.0</td>\n",
       "      <td>3.0</td>\n",
       "      <td>0.0</td>\n",
       "      <td>0.0</td>\n",
       "      <td>0.0</td>\n",
       "      <td>1.0</td>\n",
       "      <td>0.0</td>\n",
       "      <td>2.0</td>\n",
       "      <td>1.0</td>\n",
       "      <td>...</td>\n",
       "      <td>-95.70040130615234375</td>\n",
       "      <td>0.931011</td>\n",
       "      <td>-0.265011</td>\n",
       "      <td>{'neg': 0.301, 'neu': 0.637, 'pos': 0.062, 'co...</td>\n",
       "      <td>False</td>\n",
       "      <td>0</td>\n",
       "      <td>NaN</td>\n",
       "      <td>NaN</td>\n",
       "      <td>NaN</td>\n",
       "      <td>NaN</td>\n",
       "    </tr>\n",
       "  </tbody>\n",
       "</table>\n",
       "<p>135556 rows × 142 columns</p>\n",
       "</div>"
      ],
      "text/plain": [
       "        sentiment  respect  insult  humiliate  status  dehumanize  \\\n",
       "0             0.0      0.0     0.0        0.0     0.0         0.0   \n",
       "1             0.0      0.0     0.0        0.0     0.0         0.0   \n",
       "2             4.0      4.0     3.0        2.0     1.0         1.0   \n",
       "3             2.0      3.0     1.0        0.0     0.0         0.0   \n",
       "4             4.0      4.0     3.0        2.0     1.0         1.0   \n",
       "...           ...      ...     ...        ...     ...         ...   \n",
       "135551        1.0      1.0     0.0        0.0     0.0         0.0   \n",
       "135552        2.0      0.0     0.0        0.0     0.0         0.0   \n",
       "135553        1.0      1.0     0.0        0.0     0.0         0.0   \n",
       "135554        2.0      0.0     0.0        0.0     0.0         0.0   \n",
       "135555        4.0      4.0     3.0        0.0     0.0         0.0   \n",
       "\n",
       "        violence_phys  genocide  attack_defend  hatespeech  ...  \\\n",
       "0                 0.0       0.0            0.0         0.0  ...   \n",
       "1                 0.0       0.0            1.0         0.0  ...   \n",
       "2                 0.0       0.0            3.0         1.0  ...   \n",
       "3                 0.0       0.0            2.0         0.0  ...   \n",
       "4                 1.0       0.0            2.0         1.0  ...   \n",
       "...               ...       ...            ...         ...  ...   \n",
       "135551            0.0       0.0            1.0         0.0  ...   \n",
       "135552            0.0       0.0            0.0         0.0  ...   \n",
       "135553            0.0       0.0            0.0         0.0  ...   \n",
       "135554            0.0       0.0            1.0         0.0  ...   \n",
       "135555            1.0       0.0            2.0         1.0  ...   \n",
       "\n",
       "            locationlongitude  identity hypothesis  \\\n",
       "0       -77.39420318603515625  0.917681  -1.130178   \n",
       "1       -96.83170318603515625  0.918119  -1.146973   \n",
       "2       -76.53890228271484375  0.985910  -0.207369   \n",
       "3        -94.4727020263671875  0.969761  -0.055536   \n",
       "4       -79.64679718017578125  0.935462   0.104225   \n",
       "...                       ...       ...        ...   \n",
       "135551  -81.41970062255859375  0.929974  -0.036250   \n",
       "135552  -85.14620208740234375  0.934007  -0.974684   \n",
       "135553     -84.11810302734375  0.871521  -0.491960   \n",
       "135554  -79.54180145263671875  0.934007  -0.974684   \n",
       "135555  -95.70040130615234375  0.931011  -0.265011   \n",
       "\n",
       "                                                 polarity  polarity_binary  \\\n",
       "0       {'neg': 0.04, 'neu': 0.772, 'pos': 0.188, 'com...             True   \n",
       "1       {'neg': 0.0, 'neu': 0.698, 'pos': 0.302, 'comp...             True   \n",
       "2       {'neg': 0.172, 'neu': 0.68, 'pos': 0.148, 'com...            False   \n",
       "3       {'neg': 0.0, 'neu': 0.905, 'pos': 0.095, 'comp...             True   \n",
       "4       {'neg': 0.236, 'neu': 0.764, 'pos': 0.0, 'comp...            False   \n",
       "...                                                   ...              ...   \n",
       "135551  {'neg': 0.103, 'neu': 0.816, 'pos': 0.082, 'co...             True   \n",
       "135552  {'neg': 0.0, 'neu': 1.0, 'pos': 0.0, 'compound...            False   \n",
       "135553  {'neg': 0.0, 'neu': 1.0, 'pos': 0.0, 'compound...            False   \n",
       "135554  {'neg': 0.0, 'neu': 1.0, 'pos': 0.0, 'compound...            False   \n",
       "135555  {'neg': 0.301, 'neu': 0.637, 'pos': 0.062, 'co...            False   \n",
       "\n",
       "        labels_polarity  black_labeler_black_target  \\\n",
       "0                     1                         NaN   \n",
       "1                     1                         NaN   \n",
       "2                     0                         NaN   \n",
       "3                     1                         NaN   \n",
       "4                     0                         NaN   \n",
       "...                 ...                         ...   \n",
       "135551                1                         NaN   \n",
       "135552                0                         NaN   \n",
       "135553                0                         NaN   \n",
       "135554                0                         NaN   \n",
       "135555                0                         NaN   \n",
       "\n",
       "        white_labeler_black_target  black_labeler_white_target  \\\n",
       "0                              1.0                         NaN   \n",
       "1                              NaN                         NaN   \n",
       "2                              NaN                         NaN   \n",
       "3                              NaN                         NaN   \n",
       "4                              NaN                         NaN   \n",
       "...                            ...                         ...   \n",
       "135551                         NaN                         NaN   \n",
       "135552                         NaN                         NaN   \n",
       "135553                         NaN                         NaN   \n",
       "135554                         NaN                         NaN   \n",
       "135555                         NaN                         NaN   \n",
       "\n",
       "        white_labeler_white_target  \n",
       "0                              1.0  \n",
       "1                              NaN  \n",
       "2                              NaN  \n",
       "3                              NaN  \n",
       "4                              NaN  \n",
       "...                            ...  \n",
       "135551                         NaN  \n",
       "135552                         NaN  \n",
       "135553                         NaN  \n",
       "135554                         NaN  \n",
       "135555                         NaN  \n",
       "\n",
       "[135556 rows x 142 columns]"
      ]
     },
     "execution_count": 187,
     "metadata": {},
     "output_type": "execute_result"
    }
   ],
   "source": [
    "data_multi"
   ]
  },
  {
   "cell_type": "code",
   "execution_count": 188,
   "id": "486ce5f0-df69-4b13-afa7-0995dd2be0f8",
   "metadata": {},
   "outputs": [],
   "source": [
    "X = data_multi[features]"
   ]
  },
  {
   "cell_type": "code",
   "execution_count": 189,
   "id": "c26ada86-3846-424b-80c4-06604b82b39d",
   "metadata": {},
   "outputs": [],
   "source": [
    "#step 2: include features like DV for black, not black (later maybe smaller racial groupings)\n",
    "\n"
   ]
  },
  {
   "cell_type": "code",
   "execution_count": null,
   "id": "d5bc8745-208b-476f-81b3-718d0550fb4a",
   "metadata": {},
   "outputs": [],
   "source": []
  },
  {
   "cell_type": "code",
   "execution_count": 190,
   "id": "fb30b908-701d-4187-a626-c168157a7ee8",
   "metadata": {},
   "outputs": [],
   "source": [
    "#fit model"
   ]
  },
  {
   "cell_type": "code",
   "execution_count": null,
   "id": "1cc516ca-f7d5-4b37-8d83-c6ae5e3b9a78",
   "metadata": {},
   "outputs": [],
   "source": []
  },
  {
   "cell_type": "code",
   "execution_count": null,
   "id": "4c4d8a17-bd56-4f8d-acd0-e51391c15b97",
   "metadata": {},
   "outputs": [],
   "source": []
  },
  {
   "cell_type": "code",
   "execution_count": null,
   "id": "935f9ebc-5f13-4c36-be80-65cde5dc3c6c",
   "metadata": {},
   "outputs": [],
   "source": []
  },
  {
   "cell_type": "code",
   "execution_count": null,
   "id": "3ed0352c-8d96-47a3-9134-e707e8910ac1",
   "metadata": {},
   "outputs": [],
   "source": []
  },
  {
   "cell_type": "code",
   "execution_count": null,
   "id": "436430f6-8400-4de5-a7d3-2991b0858d75",
   "metadata": {},
   "outputs": [],
   "source": []
  },
  {
   "cell_type": "code",
   "execution_count": null,
   "id": "2e64e6b2-d3b1-4e6e-9915-31a0dfe2706a",
   "metadata": {},
   "outputs": [],
   "source": []
  },
  {
   "cell_type": "code",
   "execution_count": null,
   "id": "d1f07a7d-6495-41d1-b23b-f37694123294",
   "metadata": {},
   "outputs": [],
   "source": []
  },
  {
   "cell_type": "code",
   "execution_count": null,
   "id": "e5ef764d-55f0-40ce-a00a-9637a355017e",
   "metadata": {},
   "outputs": [],
   "source": []
  }
 ],
 "metadata": {
  "kernelspec": {
   "display_name": "Python 3",
   "language": "python",
   "name": "python3"
  },
  "language_info": {
   "codemirror_mode": {
    "name": "ipython",
    "version": 3
   },
   "file_extension": ".py",
   "mimetype": "text/x-python",
   "name": "python",
   "nbconvert_exporter": "python",
   "pygments_lexer": "ipython3",
   "version": "3.9.5"
  }
 },
 "nbformat": 4,
 "nbformat_minor": 5
}
