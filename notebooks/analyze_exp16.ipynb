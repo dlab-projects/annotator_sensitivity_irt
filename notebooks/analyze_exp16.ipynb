{
 "cells": [
  {
   "cell_type": "code",
   "execution_count": 1,
   "metadata": {},
   "outputs": [],
   "source": [
    "import numpy as np\n",
    "import os\n",
    "import matplotlib.pyplot as plt\n",
    "import mpl_lego as mplego\n",
    "import pandas as pd\n",
    "\n",
    "from hatespeech.keys import *\n",
    "from IPython.display import Markdown\n",
    "from scipy.stats import f_oneway, kruskal\n",
    "\n",
    "%matplotlib inline"
   ]
  },
  {
   "cell_type": "code",
   "execution_count": 2,
   "metadata": {},
   "outputs": [],
   "source": [
    "mplego.style.use_latex_style()"
   ]
  },
  {
   "cell_type": "code",
   "execution_count": 9,
   "metadata": {},
   "outputs": [],
   "source": [
    "exp = \"17\"\n",
    "base_path = os.path.join(os.environ['HOME'], 'projects/hatespeech-2021-fairml')\n",
    "data_path = \"~/data/hatespeech/unfiltered_ratings.feather\"\n",
    "results_path = os.path.join(base_path, f'scaling/experiments/exp{exp}')"
   ]
  },
  {
   "cell_type": "code",
   "execution_count": 10,
   "metadata": {},
   "outputs": [],
   "source": [
    "data = pd.read_feather(data_path)"
   ]
  },
  {
   "cell_type": "code",
   "execution_count": 11,
   "metadata": {},
   "outputs": [],
   "source": [
    "group1 = \"left\"\n",
    "group1_label = \"Left\"\n",
    "group2 = \"right\"\n",
    "group2_label = \"Right\""
   ]
  },
  {
   "cell_type": "code",
   "execution_count": 12,
   "metadata": {},
   "outputs": [],
   "source": [
    "group1_target_results_path = os.path.join(results_path, f\"exp{exp}_scores_{group1}.2.txt\")\n",
    "group2_target_results_path = os.path.join(results_path, f\"exp{exp}_scores_{group2}.2.txt\")"
   ]
  },
  {
   "cell_type": "code",
   "execution_count": 13,
   "metadata": {},
   "outputs": [],
   "source": [
    "# Get severities for men-targeting comments\n",
    "group1_target_results = pd.read_csv(group1_target_results_path, delimiter='\\t', skiprows=1)\n",
    "group1_target_annotators = group1_target_results['Judges']\n",
    "group1_target_severity = group1_target_results['Measure']\n",
    "# Get severities for women-targeting comments\n",
    "group2_target_results = pd.read_csv(group2_target_results_path, delimiter='\\t', skiprows=1)\n",
    "group2_target_annotators = group2_target_results['Judges']\n",
    "group2_target_severity = group2_target_results['Measure']"
   ]
  },
  {
   "cell_type": "code",
   "execution_count": 14,
   "metadata": {},
   "outputs": [
    {
     "name": "stdout",
     "output_type": "stream",
     "text": [
      "# left-targeting comments: 4273\n",
      "# right-targeting comments: 4181\n"
     ]
    }
   ],
   "source": [
    "print(f'# {group1}-targeting comments: {group1_target_severity.size}')\n",
    "print(f'# {group2}-targeting comments: {group2_target_severity.size}')"
   ]
  },
  {
   "cell_type": "code",
   "execution_count": 15,
   "metadata": {},
   "outputs": [
    {
     "name": "stdout",
     "output_type": "stream",
     "text": [
      "Common annotators: (2410,)\n"
     ]
    }
   ],
   "source": [
    "# Get annotators that looked at both men- and women- targeting comments\n",
    "common_annotators = group1_target_annotators[group1_target_annotators.isin(group2_target_annotators)].values\n",
    "group1_target_common = group1_target_results[group1_target_annotators.isin(common_annotators)]\n",
    "group2_target_common = group2_target_results[group2_target_annotators.isin(common_annotators)]\n",
    "print(f'Common annotators: {common_annotators.shape}')"
   ]
  },
  {
   "cell_type": "code",
   "execution_count": null,
   "metadata": {},
   "outputs": [],
   "source": []
  },
  {
   "cell_type": "code",
   "execution_count": 16,
   "metadata": {},
   "outputs": [],
   "source": [
    "# Sexuality\n",
    "data['annotator_sexuality_queer'] = data[['annotator_sexuality_bisexual', 'annotator_sexuality_gay', 'annotator_sexuality_other']].any(axis=1)\n",
    "group1_annotators = data[data['annotator_sexuality_queer'] & ~data['annotator_sexuality_straight']]['comment_id'].values\n",
    "group2_annotators = data[~data['annotator_sexuality_queer'] & data['annotator_sexuality_straight']]['comment_id'].values"
   ]
  },
  {
   "cell_type": "code",
   "execution_count": 49,
   "metadata": {},
   "outputs": [],
   "source": [
    "# men annotator severity difference\n",
    "group1_annotator_group1_target_sev = group1_target_common[group1_target_common['Judges'].isin(group1_annotators)]['Measure'].values\n",
    "group1_annotator_group2_target_sev = group2_target_common[group2_target_common['Judges'].isin(group1_annotators)]['Measure'].values\n",
    "group1_annotator_diffs = group1_annotator_group1_target_sev - group1_annotator_group2_target_sev\n",
    "# women annotator severity difference\n",
    "group2_annotator_group1_target_sev = group1_target_common[group1_target_common['Judges'].isin(group2_annotators)]['Measure'].values\n",
    "group2_annotator_group2_target_sev = group2_target_common[group2_target_common['Judges'].isin(group2_annotators)]['Measure'].values\n",
    "group2_annotator_diffs = group2_annotator_group1_target_sev - group2_annotator_group2_target_sev"
   ]
  },
  {
   "cell_type": "code",
   "execution_count": 59,
   "metadata": {},
   "outputs": [
    {
     "data": {
      "text/plain": [
       "(3022,)"
      ]
     },
     "execution_count": 59,
     "metadata": {},
     "output_type": "execute_result"
    }
   ],
   "source": [
    "group2_annotator_diffs.shape"
   ]
  },
  {
   "cell_type": "code",
   "execution_count": 61,
   "metadata": {},
   "outputs": [
    {
     "data": {
      "image/png": "[encoded data removed]",
      "text/plain": [
       "<Figure size 576x432 with 2 Axes>"
      ]
     },
     "metadata": {
      "needs_background": "light"
     },
     "output_type": "display_data"
    }
   ],
   "source": [
    "fig, ax = plt.subplots(1, 1, figsize=(8, 6))\n",
    "\n",
    "bins = np.linspace(-6, 6, 25)\n",
    "\n",
    "ax.hist(\n",
    "    group1_annotator_diffs,\n",
    "    bins=bins,\n",
    "    histtype='step',\n",
    "    linewidth=3,\n",
    "    density=True,\n",
    "    label=r'\\textbf{' f'{group1_label}' r' Annotators}',\n",
    "    color='C0')\n",
    "ax.hist(\n",
    "    group2_annotator_diffs,\n",
    "    bins=bins,\n",
    "    histtype='step',\n",
    "    linewidth=3,\n",
    "    density=True,\n",
    "    label=r'\\textbf{' f'{group2_label}' r' Annotators}',\n",
    "    color='C1')\n",
    "ax.set_xlim([-6, 6])\n",
    "ax.axvline(0, linestyle='--', color='grey')\n",
    "ax.tick_params(labelsize=15)\n",
    "ax.set_xlabel(r'\\textbf{Severity Difference} $(\\alpha_b - \\alpha_w)$', fontsize=20)\n",
    "ax.set_ylabel(r'\\textbf{Frequency}', fontsize=20)\n",
    "ax.legend(loc='best', prop={'size': 14})\n",
    "\n",
    "inset = fig.add_axes([0.23, 0.5, 0.15, 0.35])\n",
    "inset.boxplot(\n",
    "    x=[group1_annotator_diffs, group2_annotator_diffs],\n",
    "    showfliers=False,\n",
    "    widths=0.5,\n",
    "    medianprops={'color': 'black', 'lw': 2},\n",
    "    boxprops={'lw': 2},)\n",
    "inset.set_xticklabels([f'{group1_label}\\nAnn.', f'{group2_label}\\nAnn.'])\n",
    "inset.set_ylabel(r'$\\alpha_b - \\alpha_w$', fontsize=20)\n",
    "inset.axhline(0, linestyle='--', color='gray')\n",
    "inset.tick_params(labelsize=15)\n",
    "#plt.savefig('men_vs_women_annotators_bw03.pdf', bbox_inches='tight')"
   ]
  },
  {
   "cell_type": "markdown",
   "metadata": {},
   "source": [
    "# All Identity Groups"
   ]
  },
  {
   "cell_type": "code",
   "execution_count": 62,
   "metadata": {},
   "outputs": [],
   "source": []
  },
  {
   "cell_type": "code",
   "execution_count": 68,
   "metadata": {},
   "outputs": [],
   "source": [
    "# Race\n",
    "black_annotators = data[data['annotator_race_black']]['labeler_id'].values\n",
    "b_annotator_group1_target_sev, b_annotator_group2_target_sev, b_annotator_diffs = \\\n",
    "    calculate_sev_diffs(group1_target_common, group2_target_common, black_annotators)\n",
    "\n",
    "white_annotators = data[data['annotator_race_white']]['labeler_id'].values\n",
    "w_annotator_group2_target_sev, w_annotator_group2_target_sev, w_annotator_diffs = \\\n",
    "    calculate_sev_diffs(group1_target_common, group2_target_common, white_annotators)"
   ]
  },
  {
   "cell_type": "code",
   "execution_count": 70,
   "metadata": {},
   "outputs": [],
   "source": [
    "# Gender\n",
    "male_annotators = data[data['annotator_gender'] == 'male']['labeler_id'].values\n",
    "m_annotator_group1_target_sev, m_annotator_group2_target_sev, m_annotator_diffs = \\\n",
    "    calculate_sev_diffs(group1_target_common, group2_target_common, male_annotators)\n",
    "\n",
    "# Female annotators \n",
    "female_annotators = data[data['annotator_gender'] == 'female']['labeler_id'].values\n",
    "f_annotator_group1_target_sev, f_annotator_group2_target_sev, f_annotator_diffs = \\\n",
    "    calculate_sev_diffs(group1_target_common, group2_target_common, female_annotators)"
   ]
  },
  {
   "cell_type": "code",
   "execution_count": 83,
   "metadata": {},
   "outputs": [],
   "source": [
    "# Education\n",
    "# Some high school / High school grad\n",
    "hs_annotators = data[\n",
    "    (data['demo_educ'] == annotator_educ['some_high_school']) |\n",
    "    (data['demo_educ'] == annotator_educ['high_school_grad'])\n",
    "]['labeler_id'].values\n",
    "hs_annotator_w_target_sev, hs_annotator_m_target_sev, hs_annotator_diffs = \\\n",
    "    calculate_sev_diffs(women_target_common, men_target_common, hs_annotators)\n",
    "# Some college / College grad (AA) / College grad (BA)\n",
    "col_annotators = data[\n",
    "    (data['demo_educ'] == annotator_educ['some_college']) |\n",
    "    (data['demo_educ'] == annotator_educ['college_grad_aa']) |\n",
    "    (data['demo_educ'] == annotator_educ['college_grad_ba'])\n",
    "]['labeler_id'].values\n",
    "col_annotator_w_target_sev, col_annotator_m_target_sev, col_annotator_diffs = \\\n",
    "    calculate_sev_diffs(women_target_common, men_target_common, col_annotators)\n",
    "# Master's / Professional Degree / PhD\n",
    "grad_annotators = data[\n",
    "    (data['demo_educ'] == annotator_educ['masters']) |\n",
    "    (data['demo_educ'] == annotator_educ['professional_degree']) |\n",
    "    (data['demo_educ'] == annotator_educ['phd'])\n",
    "]['labeler_id'].values\n",
    "grad_annotator_w_target_sev, grad_annotator_m_target_sev, grad_annotator_diffs = \\\n",
    "    calculate_sev_diffs(women_target_common, men_target_common, grad_annotators)"
   ]
  },
  {
   "cell_type": "code",
   "execution_count": 84,
   "metadata": {},
   "outputs": [],
   "source": [
    "# Income\n",
    "# Low-income\n",
    "li_annotators = data[\n",
    "    (data['demo_income'] == annotator_income['<10k']) |\n",
    "    (data['demo_income'] == annotator_income['10k-50k'])\n",
    "]['labeler_id'].values\n",
    "li_annotator_w_target_sev, li_annotator_m_target_sev, li_annotator_diffs = \\\n",
    "    calculate_sev_diffs(women_target_common, men_target_common, li_annotators)\n",
    "# Middle-income\n",
    "mi_annotators = data[\n",
    "    (data['demo_income'] == annotator_income['50k-100k'])\n",
    "]['labeler_id'].values\n",
    "mi_annotator_w_target_sev, mi_annotator_m_target_sev, mi_annotator_diffs = \\\n",
    "    calculate_sev_diffs(women_target_common, men_target_common, mi_annotators)\n",
    "# High-income\n",
    "hi_annotators = data[\n",
    "    (data['demo_income'] == annotator_income['100k-200k']) |\n",
    "    (data['demo_income'] == annotator_income['>200k'])\n",
    "]['labeler_id'].values\n",
    "hi_annotator_w_target_sev, hi_annotator_m_target_sev, hi_annotator_diffs = \\\n",
    "    calculate_sev_diffs(women_target_common, men_target_common, hi_annotators)"
   ]
  },
  {
   "cell_type": "code",
   "execution_count": 85,
   "metadata": {},
   "outputs": [],
   "source": [
    "# Religion\n",
    "# Christian annotators\n",
    "christian_annotators = data[data[annotator_religion_to_col['christian']] == 1]['labeler_id'].values\n",
    "ch_annotator_w_target_sev, ch_annotator_m_target_sev, ch_annotator_diffs = \\\n",
    "    calculate_sev_diffs(women_target_common, men_target_common, christian_annotators)\n",
    "# Non-religious annotators\n",
    "non_religious_annotators = data[\n",
    "    (data[annotator_religion_to_col['atheist']] == 1) |\n",
    "    (data[annotator_religion_to_col['nothing']] == 1)\n",
    "]['labeler_id'].values\n",
    "nr_annotator_w_target_sev, nr_annotator_m_target_sev, nr_annotator_diffs = \\\n",
    "    calculate_sev_diffs(women_target_common, men_target_common, non_religious_annotators)"
   ]
  },
  {
   "cell_type": "code",
   "execution_count": 86,
   "metadata": {},
   "outputs": [],
   "source": [
    "# Sexual Orientation\n",
    "# Straight annotators\n",
    "straight_annotators = data[data[annotator_sexual_orientation_to_col['straight']] == 1]['labeler_id'].values\n",
    "st_annotator_w_target_sev, st_annotator_m_target_sev, st_annotator_diffs = \\\n",
    "    calculate_sev_diffs(women_target_common, men_target_common, straight_annotators)\n",
    "# Non-straight annotators\n",
    "q_annotators = data[\n",
    "    (data[annotator_sexual_orientation_to_col['gay']] == 1) |\n",
    "    (data[annotator_sexual_orientation_to_col['bisexual']] == 1) |\n",
    "    (data[annotator_sexual_orientation_to_col['other']] == 1)\n",
    "]['labeler_id'].values\n",
    "q_annotator_w_target_sev, q_annotator_m_target_sev, q_annotator_diffs = \\\n",
    "    calculate_sev_diffs(women_target_common, men_target_common, q_annotators)"
   ]
  },
  {
   "cell_type": "code",
   "execution_count": 87,
   "metadata": {},
   "outputs": [],
   "source": [
    "# Ideology\n",
    "# Liberal annotators\n",
    "liberal_annotators = data[\n",
    "    (data['demo_ideology'] == annotator_ideology['extremely_liberal']) |\n",
    "    (data['demo_ideology'] == annotator_ideology['liberal']) |\n",
    "    (data['demo_ideology'] == annotator_ideology['slightly_liberal'])\n",
    "]['labeler_id'].values\n",
    "lib_annotator_w_target_sev, lib_annotator_m_target_sev, lib_annotator_diffs = \\\n",
    "    calculate_sev_diffs(women_target_common, men_target_common, liberal_annotators)\n",
    "# Neutral annotators\n",
    "neutral_annotators = data[data['demo_ideology'] == annotator_ideology['neutral']]['labeler_id'].values\n",
    "neu_annotator_w_target_sev, neu_annotator_m_target_sev, neu_annotator_diffs = \\\n",
    "    calculate_sev_diffs(women_target_common, men_target_common, neutral_annotators)\n",
    "# Conservative annotators\n",
    "conservative_annotators = data[\n",
    "    (data['demo_ideology'] == annotator_ideology['extremely_conservative']) |\n",
    "    (data['demo_ideology'] == annotator_ideology['conservative']) |\n",
    "    (data['demo_ideology'] == annotator_ideology['slightly_conservative'])\n",
    "]['labeler_id'].values\n",
    "con_annotator_w_target_sev, con_annotator_m_target_sev, con_annotator_diffs = \\\n",
    "    calculate_sev_diffs(women_target_common, men_target_common, conservative_annotators)"
   ]
  },
  {
   "cell_type": "markdown",
   "metadata": {},
   "source": [
    "### Tables"
   ]
  },
  {
   "cell_type": "code",
   "execution_count": 88,
   "metadata": {},
   "outputs": [
    {
     "name": "stdout",
     "output_type": "stream",
     "text": [
      "Black / White: 0.83704\n",
      "Men / Women: 0.07501\n",
      "High School / College / Graduate: 0.49704\n",
      "Low-income / Middle-income / High-income: 0.99255\n",
      "Christian / Non-religious: 0.13250\n",
      "Straight / Non-straight: 0.07863\n",
      "Liberal / Independent / Conservative: 0.07704\n"
     ]
    }
   ],
   "source": [
    "print(f\"Black / White: {f_oneway(b_annotator_diffs, w_annotator_diffs).pvalue:0.5f}\")\n",
    "print(f\"Men / Women: {f_oneway(m_annotator_diffs, w_annotator_diffs).pvalue:0.5f}\")\n",
    "print(f\"High School / College / Graduate: {f_oneway(hs_annotator_diffs, col_annotator_diffs, grad_annotator_diffs).pvalue:0.5f}\")\n",
    "print(f\"Low-income / Middle-income / High-income: {f_oneway(li_annotator_diffs, mi_annotator_diffs, hi_annotator_diffs).pvalue:0.5f}\")\n",
    "print(f\"Christian / Non-religious: {f_oneway(ch_annotator_diffs, nr_annotator_diffs).pvalue:0.5f}\")\n",
    "print(f\"Straight / Non-straight: {f_oneway(st_annotator_diffs, q_annotator_diffs).pvalue:0.5f}\")\n",
    "print(f\"Liberal / Independent / Conservative: {f_oneway(lib_annotator_diffs, neu_annotator_diffs, con_annotator_diffs).pvalue:0.5f}\")"
   ]
  },
  {
   "cell_type": "code",
   "execution_count": 90,
   "metadata": {},
   "outputs": [
    {
     "data": {
      "text/markdown": [
       "|Demographic  | Group          | Severity Difference | Log-Odds |\n",
       "|------------- |---------------- |-----------------------|-----------\n",
       "|**Race**      | Black           | -0.020 | 1.020 |\n",
       "|              | White           | 0.005 | 0.995 |\n",
       "|**Gender**    | Men             | 0.110 | 0.896 |\n",
       "|              | Women           | -0.070 | 1.073 |\n",
       "|**Education** | High School     | -0.070| 1.073 |\n",
       "|              | College         | 0.060| 0.942 |\n",
       "|              | Graduate        | -0.090| 1.094 |\n",
       "|**Income**    | Low-income      | 0.000| 1.000 |\n",
       "|              | Middle-income   | 0.050| 0.951 |\n",
       "|              | High-income     | 0.000| 1.000 |\n",
       "|**Religion**  | Christian       | 0.060| 0.942 |\n",
       "|              | Non-Religious   | 0.010| 0.990 |\n",
       "|**Sexual Orientation** | Straight | 0.030| 0.970 |\n",
       "|                       | Not Straight | -0.100| 1.105 |\n",
       "|**Ideology**           | Liberal      | 0.020| 0.980 |\n",
       "|                       | Independent  | -0.040| 1.041 |\n",
       "|                       | Conservative | 0.050| 0.951 |\n"
      ],
      "text/plain": [
       "<IPython.core.display.Markdown object>"
      ]
     },
     "execution_count": 90,
     "metadata": {},
     "output_type": "execute_result"
    }
   ],
   "source": [
    "Markdown(\n",
    "f\"\"\"|Demographic  | Group          | Severity Difference | Log-Odds |\n",
    "|------------- |---------------- |-----------------------|-----------\n",
    "|**Race**      | Black           | {np.median(b_annotator_diffs):0.3f} | {np.exp(-np.median(b_annotator_diffs)):0.3f} |\n",
    "|              | White           | {np.median(w_annotator_diffs):0.3f} | {np.exp(-np.median(w_annotator_diffs)):0.3f} |\n",
    "|**Gender**    | Men             | {np.median(m_annotator_diffs):0.3f} | {np.exp(-np.median(m_annotator_diffs)):0.3f} |\n",
    "|              | Women           | {np.median(f_annotator_diffs):0.3f} | {np.exp(-np.median(f_annotator_diffs)):0.3f} |\n",
    "|**Education** | High School     | {np.median(hs_annotator_diffs):0.3f}| {np.exp(-np.median(hs_annotator_diffs)):0.3f} |\n",
    "|              | College         | {np.median(col_annotator_diffs):0.3f}| {np.exp(-np.median(col_annotator_diffs)):0.3f} |\n",
    "|              | Graduate        | {np.median(grad_annotator_diffs):0.3f}| {np.exp(-np.median(grad_annotator_diffs)):0.3f} |\n",
    "|**Income**    | Low-income      | {np.median(li_annotator_diffs):0.3f}| {np.exp(-np.median(li_annotator_diffs)):0.3f} |\n",
    "|              | Middle-income   | {np.median(mi_annotator_diffs):0.3f}| {np.exp(-np.median(mi_annotator_diffs)):0.3f} |\n",
    "|              | High-income     | {np.median(hi_annotator_diffs):0.3f}| {np.exp(-np.median(hi_annotator_diffs)):0.3f} |\n",
    "|**Religion**  | Christian       | {np.median(ch_annotator_diffs):0.3f}| {np.exp(-np.median(ch_annotator_diffs)):0.3f} |\n",
    "|              | Non-Religious   | {np.median(nr_annotator_diffs):0.3f}| {np.exp(-np.median(nr_annotator_diffs)):0.3f} |\n",
    "|**Sexual Orientation** | Straight | {np.median(st_annotator_diffs):0.3f}| {np.exp(-np.median(st_annotator_diffs)):0.3f} |\n",
    "|                       | Not Straight | {np.median(q_annotator_diffs):0.3f}| {np.exp(-np.median(q_annotator_diffs)):0.3f} |\n",
    "|**Ideology**           | Liberal      | {np.median(lib_annotator_diffs):0.3f}| {np.exp(-np.median(lib_annotator_diffs)):0.3f} |\n",
    "|                       | Independent  | {np.median(neu_annotator_diffs):0.3f}| {np.exp(-np.median(neu_annotator_diffs)):0.3f} |\n",
    "|                       | Conservative | {np.median(con_annotator_diffs):0.3f}| {np.exp(-np.median(con_annotator_diffs)):0.3f} |\n",
    "\"\"\")"
   ]
  },
  {
   "cell_type": "code",
   "execution_count": 66,
   "metadata": {},
   "outputs": [
    {
     "data": {
      "text/plain": [
       "Text(0.5, 0, '\\\\textbf{Annotator Identity}')"
      ]
     },
     "execution_count": 66,
     "metadata": {},
     "output_type": "execute_result"
    },
    {
     "data": {
      "image/png": "[encoded data removed]",
      "text/plain": [
       "<Figure size 864x288 with 1 Axes>"
      ]
     },
     "metadata": {
      "needs_background": "light"
     },
     "output_type": "display_data"
    }
   ],
   "source": [
    "fig, ax = plt.subplots(1, 1, figsize=(12, 4))\n",
    "\n",
    "width = 0.2\n",
    "spacing = 0.18\n",
    "\n",
    "# Race\n",
    "ax.boxplot(\n",
    "    x=[b_annotator_diffs, w_annotator_diffs],\n",
    "    positions=[-spacing, spacing],\n",
    "    showfliers=False,\n",
    "    widths=width,\n",
    "    medianprops={'color': 'black', 'lw': 1},\n",
    "    boxprops={'lw': 1})\n",
    "# Gender\n",
    "ax.boxplot(\n",
    "    x=[m_annotator_diffs, f_annotator_diffs],\n",
    "    positions=[1 - spacing, 1 + spacing],\n",
    "    showfliers=False,\n",
    "    widths=width,\n",
    "    medianprops={'color': 'black', 'lw': 1},\n",
    "    boxprops={'lw': 1},)\n",
    "mplego.labels.add_significance_label(ax, bounds=[1-spacing, 1+spacing], which='top', label='*')\n",
    "\n",
    "# Education\n",
    "ax.boxplot(\n",
    "    x=[hs_annotator_diffs, col_annotator_diffs, grad_annotator_diffs],\n",
    "    positions=[2 - 1.5 * spacing, 2, 2 + 1.5 * spacing],\n",
    "    showfliers=False,\n",
    "    widths=width,\n",
    "    medianprops={'color': 'black', 'lw': 1},\n",
    "    boxprops={'lw': 1},)\n",
    "# Income\n",
    "ax.boxplot(\n",
    "    x=[li_annotator_diffs, mi_annotator_diffs, hi_annotator_diffs],\n",
    "    positions=[3 - 1.5 * spacing, 3, 3 + 1.5 * spacing],\n",
    "    showfliers=False,\n",
    "    widths=width,\n",
    "    medianprops={'color': 'black', 'lw': 1},\n",
    "    boxprops={'lw': 1},)\n",
    "# Religion\n",
    "ax.boxplot(\n",
    "    x=[ch_annotator_diffs, nr_annotator_diffs],\n",
    "    positions=[4 - spacing, 4 + spacing],\n",
    "    showfliers=False,\n",
    "    widths=width,\n",
    "    medianprops={'color': 'black', 'lw': 1},\n",
    "    boxprops={'lw': 1},)\n",
    "mplego.labels.add_significance_label(ax, bounds=[4 - spacing, 4 + spacing], which='top', label='*')\n",
    "\n",
    "# Sexual Orientation\n",
    "ax.boxplot(\n",
    "    x=[st_annotator_diffs, q_annotator_diffs],\n",
    "    positions=[5 - spacing, 5 + spacing],\n",
    "    showfliers=False,\n",
    "    widths=width,\n",
    "    medianprops={'color': 'black', 'lw': 1},\n",
    "    boxprops={'lw': 1},)\n",
    "mplego.labels.add_significance_label(ax, bounds=[5 - spacing, 5 + spacing], which='top', label='*')\n",
    "\n",
    "# Ideology\n",
    "ax.boxplot(\n",
    "    x=[lib_annotator_diffs, neu_annotator_diffs, con_annotator_diffs],\n",
    "    positions=[6 - 1.5 * spacing, 6, 6 + 1.5 * spacing],\n",
    "    showfliers=False,\n",
    "    widths=width,\n",
    "    medianprops={'color': 'black', 'lw': 1},\n",
    "    boxprops={'lw': 1},)\n",
    "mplego.labels.add_significance_label(ax, bounds=[6 - 1.5 * spacing, 6 + 1.5 * spacing], which='top', label='*')\n",
    "\n",
    "ax.axhline(0, linestyle='-', color='gray', lw=0.5)\n",
    "\n",
    "ax.set_xticks([\n",
    "    -spacing,\n",
    "    spacing,\n",
    "    1 - spacing,\n",
    "    1 + spacing,\n",
    "    2 - 1.5 * spacing,\n",
    "    2.0001,\n",
    "    2.045+ 1.5 * spacing,\n",
    "    3 - 1.5 * spacing,\n",
    "    3.0001,\n",
    "    3 + 1.5 * spacing,\n",
    "    4 - spacing,\n",
    "    4 + spacing,\n",
    "    5 - spacing,\n",
    "    5 + spacing,\n",
    "    6 - 1.5 * spacing,\n",
    "    6.0001,\n",
    "    6 + 1.5 * spacing\n",
    "], minor=True)\n",
    "ax.set_xticklabels(['B', 'W', 'M', 'W', 'HS', 'C', 'G', 'L', 'M', 'H', 'C', 'NR', 'S', 'Q', 'L', 'I', 'C'], minor=True)\n",
    "ax.set_xticks([0, 1, 2, 3, 4, 5, 6])\n",
    "xticks = mplego.labels.bold_text(['Race', 'Gender', 'Education', 'Income', 'Religion', 'Sexual Ori.', 'Ideology'])\n",
    "xticks[-2] = r'\\textbf{Sexual}''\\n'r'\\textbf{Orientation}'\n",
    "ax.set_xticklabels(xticks)\n",
    "ax.tick_params(labelsize=13, which='major', pad=20)\n",
    "ax.tick_params(labelsize=13, which='minor')\n",
    "ax.set_xlim([-0.5, 6.4])\n",
    "ax.set_ylim([-6, 6])\n",
    "ax.set_ylabel(r'\\textbf{Severity Difference} $\\Delta \\alpha$', fontsize=15)\n",
    "ax.set_xlabel(r'\\textbf{Annotator Identity}', fontsize=20, labelpad=5)\n",
    "#plt.savefig('men_women.png', bbox_inches='tight', dpi=600)"
   ]
  },
  {
   "cell_type": "code",
   "execution_count": 45,
   "metadata": {},
   "outputs": [
    {
     "data": {
      "image/png": "[encoded data removed]",
      "text/plain": [
       "<Figure size 720x288 with 1 Axes>"
      ]
     },
     "metadata": {
      "needs_background": "light"
     },
     "output_type": "display_data"
    }
   ],
   "source": [
    "fig, ax = plt.subplots(1, 1, figsize=(10, 4))\n",
    "\n",
    "width = 0.2\n",
    "spacing = 0.18\n",
    "\n",
    "ax.bar(\n",
    "    x=[-spacing, spacing,\n",
    "       1 - spacing, 1 + spacing,\n",
    "       2 - 1.75 * spacing, 2, 2 + 1.75 * spacing,\n",
    "       3 - 1.75 * spacing, 3, 3 + 1.75 * spacing,\n",
    "       4 - spacing, 4 + spacing,\n",
    "       5 - spacing, 5 + spacing,\n",
    "       6 - 1.75 * spacing, 6, 6 + 1.75 * spacing\n",
    "      ],\n",
    "    height=[np.exp(np.median(-b_annotator_diffs)), np.exp(np.median(-w_annotator_diffs)),\n",
    "            np.exp(np.median(-m_annotator_diffs)), np.exp(np.median(-f_annotator_diffs)),\n",
    "            np.exp(np.median(-hs_annotator_diffs)), np.exp(np.median(-col_annotator_diffs)), np.exp(np.median(-grad_annotator_diffs)),\n",
    "            np.exp(np.median(-li_annotator_diffs)), np.exp(np.median(-mi_annotator_diffs)), np.exp(np.median(-hi_annotator_diffs)),\n",
    "            np.exp(np.median(-ch_annotator_diffs)), np.exp(np.median(-nr_annotator_diffs)),\n",
    "            np.exp(np.median(-st_annotator_diffs)), np.exp(np.median(-q_annotator_diffs)),\n",
    "            np.exp(np.median(-con_annotator_diffs)), np.exp(np.median(-neu_annotator_diffs)), np.exp(np.median(-lib_annotator_diffs))],\n",
    "    width=1.5 * spacing,\n",
    "    color='gray'\n",
    ")\n",
    "\n",
    "ax.set_xticks([\n",
    "    -spacing,\n",
    "    spacing,\n",
    "    1 - spacing,\n",
    "    1 + spacing,\n",
    "    2 - 1.75 * spacing,\n",
    "    2.0001,\n",
    "    2.045+ 1.75 * spacing,\n",
    "    3 - 1.5 * spacing,\n",
    "    3.0001,\n",
    "    3 + 1.5 * spacing,\n",
    "    4 - spacing,\n",
    "    4 + spacing,\n",
    "    5 - spacing,\n",
    "    5 + spacing,\n",
    "    6 - 1.75 * spacing,\n",
    "    6.0001,\n",
    "    6 + 1.75 * spacing\n",
    "], minor=True)\n",
    "ax.set_xticklabels(['B', 'W', 'M', 'W', 'HS', 'C', 'G', 'L', 'M', 'H', 'C', 'NR', 'S', 'Q', 'L', 'I', 'C'], minor=True)\n",
    "ax.set_xticks([0, 1, 2, 3, 4, 5, 6])\n",
    "xticks = mplego.labels.bold_text(['Race', 'Gender', 'Education', 'Income', 'Religion', 'Sexual Ori.', 'Ideology'])\n",
    "xticks[-2] = r'\\textbf{Sexual}''\\n'r'\\textbf{Orientation}'\n",
    "ax.set_xticklabels(xticks)\n",
    "ax.tick_params(labelsize=13, which='major', pad=20)\n",
    "ax.tick_params(labelsize=13, which='minor')\n",
    "ax.set_xlim([-0.5, 6.6])\n",
    "ax.set_ylim([0.8, 1.15])\n",
    "ax.axhline(1, color='black', linestyle='--')\n",
    "ax.set_ylabel(r'\\textbf{Change in Odds Ratio}', fontsize=15)\n",
    "ax.set_xlabel(r'\\textbf{Annotator Identity}', fontsize=18, labelpad=5)\n",
    "plt.savefig('odds_ratio.png', bbox_inches='tight')"
   ]
  },
  {
   "cell_type": "code",
   "execution_count": 36,
   "metadata": {},
   "outputs": [
    {
     "data": {
      "text/plain": [
       "1.0    140478\n",
       "2.0    119080\n",
       "3.0      1768\n",
       "5.0      1118\n",
       "4.0       208\n",
       "Name: demo_gender, dtype: int64"
      ]
     },
     "execution_count": 36,
     "metadata": {},
     "output_type": "execute_result"
    }
   ],
   "source": [
    "data[annotator_gender_col].value_counts()"
   ]
  },
  {
   "cell_type": "code",
   "execution_count": 37,
   "metadata": {},
   "outputs": [
    {
     "data": {
      "text/plain": [
       "{'female': 1.0,\n",
       " 'male': 2.0,\n",
       " 'non-binary': 3.0,\n",
       " 'self-describe': 4.0,\n",
       " 'prefer_not_to_say': 5.0}"
      ]
     },
     "execution_count": 37,
     "metadata": {},
     "output_type": "execute_result"
    }
   ],
   "source": [
    "annotator_gender"
   ]
  },
  {
   "cell_type": "code",
   "execution_count": 44,
   "metadata": {},
   "outputs": [
    {
     "data": {
      "text/plain": [
       "Text(0, 0.5, '\\\\textbf{Severity Difference}')"
      ]
     },
     "execution_count": 44,
     "metadata": {},
     "output_type": "execute_result"
    },
    {
     "data": {
      "image/png": "[encoded data removed]",
      "text/plain": [
       "<Figure size 864x288 with 1 Axes>"
      ]
     },
     "metadata": {
      "needs_background": "light"
     },
     "output_type": "display_data"
    }
   ],
   "source": [
    "fig, ax = plt.subplots(1, 1, figsize=(12, 4))\n",
    "\n",
    "width = 0.2\n",
    "spacing = 0.18\n",
    "\n",
    "# Race\n",
    "ax.boxplot(\n",
    "    x=[np.exp(b_annotator_diffs), np.exp(w_annotator_diffs)],\n",
    "    positions=[-spacing, spacing],\n",
    "    showfliers=False,\n",
    "    widths=width,\n",
    "    medianprops={'color': 'black', 'lw': 1},\n",
    "    boxprops={'lw': 1})\n",
    "mplego.labels.add_significance_label(ax, bounds=[-spacing, spacing], which='top', label='***')\n",
    "# Gender\n",
    "ax.boxplot(\n",
    "    x=[np.exp(m_annotator_diffs), np.exp(w_annotator_diffs)],\n",
    "    positions=[1 - spacing, 1 + spacing],\n",
    "    showfliers=False,\n",
    "    widths=width,\n",
    "    medianprops={'color': 'black', 'lw': 1},\n",
    "    boxprops={'lw': 1},)\n",
    "# Education\n",
    "ax.boxplot(\n",
    "    x=[np.exp(hs_annotator_diffs), np.exp(col_annotator_diffs), np.exp(grad_annotator_diffs)],\n",
    "    positions=[2 - 1.5 * spacing, 2, 2 + 1.5 * spacing],\n",
    "    showfliers=False,\n",
    "    widths=width,\n",
    "    medianprops={'color': 'black', 'lw': 1},\n",
    "    boxprops={'lw': 1},)\n",
    "# Income\n",
    "ax.boxplot(\n",
    "    x=[np.exp(li_annotator_diffs), np.exp(mi_annotator_diffs), np.exp(hi_annotator_diffs)],\n",
    "    positions=[3 - 1.5 * spacing, 3, 3 + 1.5 * spacing],\n",
    "    showfliers=False,\n",
    "    widths=width,\n",
    "    medianprops={'color': 'black', 'lw': 1},\n",
    "    boxprops={'lw': 1},)\n",
    "# Religion\n",
    "ax.boxplot(\n",
    "    x=[np.exp(ch_annotator_diffs), np.exp(nr_annotator_diffs)],\n",
    "    positions=[4 - spacing, 4 + spacing],\n",
    "    showfliers=False,\n",
    "    widths=width,\n",
    "    medianprops={'color': 'black', 'lw': 1},\n",
    "    boxprops={'lw': 1},)\n",
    "mplego.labels.add_significance_label(ax, bounds=[4 - spacing, 4 + spacing], which='top', label='***')\n",
    "\n",
    "# Sexual Orientation\n",
    "ax.boxplot(\n",
    "    x=[np.exp(st_annotator_diffs), np.exp(q_annotator_diffs)],\n",
    "    positions=[5 - spacing, 5 + spacing],\n",
    "    showfliers=False,\n",
    "    widths=width,\n",
    "    medianprops={'color': 'black', 'lw': 1},\n",
    "    boxprops={'lw': 1},)\n",
    "mplego.labels.add_significance_label(ax, bounds=[5 - spacing, 5 + spacing], which='top', label='***')\n",
    "\n",
    "# Ideology\n",
    "ax.boxplot(\n",
    "    x=[np.exp(lib_annotator_diffs), np.exp(neu_annotator_diffs), np.exp(con_annotator_diffs)],\n",
    "    positions=[6 - 1.5 * spacing, 6, 6 + 1.5 * spacing],\n",
    "    showfliers=False,\n",
    "    widths=width,\n",
    "    medianprops={'color': 'black', 'lw': 1},\n",
    "    boxprops={'lw': 1},)\n",
    "mplego.labels.add_significance_label(ax, bounds=[6 - 1.5 * spacing, 6 + 1.5 * spacing], which='top', label='***')\n",
    "\n",
    "ax.axhline(0, linestyle='-', color='gray', lw=0.5)\n",
    "\n",
    "ax.set_xticks([\n",
    "    -spacing,\n",
    "    spacing,\n",
    "    1 - spacing,\n",
    "    1 + spacing,\n",
    "    2 - 1.5 * spacing,\n",
    "    2.0001,\n",
    "    2.045+ 1.5 * spacing,\n",
    "    3 - 1.5 * spacing,\n",
    "    3.0001,\n",
    "    3 + 1.5 * spacing,\n",
    "    4 - spacing,\n",
    "    4 + spacing,\n",
    "    5 - spacing,\n",
    "    5 + spacing,\n",
    "    6 - 1.5 * spacing,\n",
    "    6.0001,\n",
    "    6 + 1.5 * spacing\n",
    "], minor=True)\n",
    "ax.set_xticklabels(['B', 'W', 'M', 'W', 'HS', 'C', 'G', 'L', 'M', 'H', 'C', 'NR', 'S', 'O', 'L', 'I', 'C'], minor=True)\n",
    "ax.set_xticks([0, 1, 2, 3, 4, 5, 6])\n",
    "ax.set_xticklabels(\n",
    "    mplego.labels.bold_text(['Race', 'Gender', 'Education', 'Income', 'Religion', 'Sex. Ori.', 'Ideology']))\n",
    "ax.tick_params(labelsize=13, which='major', pad=20)\n",
    "ax.tick_params(labelsize=13, which='minor')\n",
    "ax.set_xlim([-0.5, 6.4])\n",
    "ax.set_ylim([0.25, 5])\n",
    "ax.set_ylabel(r'\\textbf{Severity Difference}', fontsize=15)"
   ]
  },
  {
   "cell_type": "code",
   "execution_count": null,
   "metadata": {},
   "outputs": [],
   "source": []
  }
 ],
 "metadata": {
  "kernelspec": {
   "display_name": "hate",
   "language": "python",
   "name": "hate"
  },
  "language_info": {
   "codemirror_mode": {
    "name": "ipython",
    "version": 3
   },
   "file_extension": ".py",
   "mimetype": "text/x-python",
   "name": "python",
   "nbconvert_exporter": "python",
   "pygments_lexer": "ipython3",
   "version": "3.7.9"
  }
 },
 "nbformat": 4,
 "nbformat_minor": 5
}
