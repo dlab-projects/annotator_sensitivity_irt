{
 "cells": [
  {
   "cell_type": "code",
   "execution_count": 1,
   "metadata": {},
   "outputs": [],
   "source": [
    "import numpy as np\n",
    "import os\n",
    "import matplotlib.pyplot as plt\n",
    "import mpl_lego as mplego\n",
    "import pandas as pd\n",
    "\n",
    "from hatespeech import keys, utils\n",
    "from IPython.display import Markdown\n",
    "from scipy.stats import f_oneway, kruskal\n",
    "\n",
    "%matplotlib inline"
   ]
  },
  {
   "cell_type": "code",
   "execution_count": 2,
   "metadata": {},
   "outputs": [],
   "source": [
    "mplego.style.use_latex_style()"
   ]
  },
  {
   "cell_type": "code",
   "execution_count": 3,
   "metadata": {},
   "outputs": [],
   "source": [
    "exp = \"22\"\n",
    "base_path = os.path.join(os.environ['HOME'], 'projects/hatespeech-2021-fairml')\n",
    "data_path = \"~/data/hatespeech/unfiltered_ratings.feather\"\n",
    "rater_quality_path = \"~/data/hatespeech/rater_quality_check.csv\"\n",
    "results_path = os.path.join(base_path, f'scaling/experiments/exp{exp}')"
   ]
  },
  {
   "cell_type": "code",
   "execution_count": 4,
   "metadata": {},
   "outputs": [],
   "source": [
    "data = pd.read_feather(data_path).rename(columns={'violence_phys': 'violence'})\n",
    "# Remove all rows in which some item is missing\n",
    "data = utils.filter_missing_items(data)\n",
    "# Remove all rows in which the rater is not up to sufficient quality\n",
    "rater_quality = pd.read_csv(rater_quality_path)\n",
    "data = utils.filter_annotator_quality(data, rater_quality)\n",
    "# Recode item responses\n",
    "data = utils.recode_responses(\n",
    "    data,\n",
    "    insult={1: 0, 2: 1, 3: 2, 4: 3},\n",
    "    humiliate={1: 0, 2: 0, 3: 1, 4: 2},\n",
    "    status={1: 0, 2: 0, 3: 1, 4: 1},\n",
    "    dehumanize={1: 0, 2: 0, 3: 1, 4: 1},\n",
    "    violence={1: 0, 2: 0, 3: 1, 4: 1},\n",
    "    genocide={1: 0, 2: 0, 3: 1, 4: 1},\n",
    "    attack_defend={1: 0, 2: 1, 3: 2, 4: 3},\n",
    "    hatespeech={1: 0, 2: 1})\n",
    "# Only get comments targeting black / white people\n",
    "data = data[data['target_race_white'] | data['target_race_black']]\n",
    "data = data[data[keys.target_race_cols].sum(axis=1) == 1]\n",
    "data['target_race'] = np.where(data['target_race_white'], 1, 2)"
   ]
  },
  {
   "cell_type": "code",
   "execution_count": 5,
   "metadata": {},
   "outputs": [],
   "source": [
    "out_path = os.path.join(results_path, f\"exp{exp}_out.txt\")"
   ]
  },
  {
   "cell_type": "code",
   "execution_count": 6,
   "metadata": {},
   "outputs": [],
   "source": [
    "with open(out_path) as f:\n",
    "    lines = f.readlines()"
   ]
  },
  {
   "cell_type": "code",
   "execution_count": 7,
   "metadata": {},
   "outputs": [],
   "source": [
    "bias_lines = lines[17588:30364]"
   ]
  },
  {
   "cell_type": "code",
   "execution_count": 8,
   "metadata": {},
   "outputs": [],
   "source": [
    "bias_cut = bias_lines[4:-7]"
   ]
  },
  {
   "cell_type": "code",
   "execution_count": 30,
   "metadata": {},
   "outputs": [],
   "source": [
    "n_samples = len(bias_cut)\n",
    "observed = np.zeros(n_samples)\n",
    "expected = np.zeros(n_samples)\n",
    "bias_size = np.zeros(n_samples)\n",
    "t_stats = np.zeros(n_samples)\n",
    "p_vals = np.zeros(n_samples)\n",
    "labeler_id = np.zeros(n_samples)\n",
    "measure = np.zeros(n_samples)\n",
    "race = np.zeros(n_samples)\n",
    "\n",
    "for idx, line in enumerate(bias_cut):\n",
    "    processed = line.replace('|', ' ').replace('>', ' ').replace('<', ' ').split()\n",
    "    observed[idx] = float(processed[0])\n",
    "    expected[idx] = float(processed[1])\n",
    "    bias_size[idx] = float(processed[4])\n",
    "    t_stats[idx] = float(processed[6])\n",
    "    p_vals[idx] = float(processed[8])\n",
    "    labeler_id[idx] = int(processed[13])\n",
    "    measure = float(processed[14])\n",
    "    if processed[16] == 'white':\n",
    "        race[idx] = 0\n",
    "    elif processed[16] == 'black':\n",
    "        race[idx] = 1"
   ]
  },
  {
   "cell_type": "code",
   "execution_count": 31,
   "metadata": {},
   "outputs": [],
   "source": [
    "df = pd.DataFrame({\n",
    "    'observed': observed,\n",
    "    'expected': expected,\n",
    "    'bias': bias_size,\n",
    "    't_statistics': t_stats,\n",
    "    'p_values': p_vals,\n",
    "    'labeler_id': labeler_id,\n",
    "    'measure': measure,\n",
    "    'race': race}).astype({'labeler_id': int})"
   ]
  },
  {
   "cell_type": "code",
   "execution_count": 32,
   "metadata": {},
   "outputs": [],
   "source": [
    "df['annotator_race'] = 0\n",
    "subview = data[data['labeler_id'].isin(df['labeler_id'])].drop_duplicates('labeler_id')\n",
    "df.loc[df['labeler_id'].isin(subview[subview['annotator_race_black']]['labeler_id']), 'annotator_race'] = 1"
   ]
  },
  {
   "cell_type": "code",
   "execution_count": 33,
   "metadata": {},
   "outputs": [],
   "source": [
    "df['bias_corrected'] = -df['bias']\n",
    "df['bias_abs'] = df['bias'].abs()\n",
    "df['annotator_race_name'] = np.where(df['annotator_race'] == 1, 'black', 'white')\n",
    "df['target_race_name'] = np.where(df['race'] == 1, 'black', 'white')"
   ]
  },
  {
   "cell_type": "code",
   "execution_count": 17,
   "metadata": {},
   "outputs": [
    {
     "data": {
      "text/plain": [
       "<matplotlib.legend.Legend at 0x7fa1b07f5050>"
      ]
     },
     "execution_count": 17,
     "metadata": {},
     "output_type": "execute_result"
    },
    {
     "data": {
      "image/png": "[encoded data removed]",
      "text/plain": [
       "<Figure size 720x360 with 1 Axes>"
      ]
     },
     "metadata": {
      "needs_background": "light"
     },
     "output_type": "display_data"
    }
   ],
   "source": [
    "fig, ax = plt.subplots(1, 1, figsize=(10, 5))\n",
    "ax.hist(df['bias_corrected'], bins=np.linspace(-3, 3, 51), histtype='step', color='black', lw=2, density=True, label='All')\n",
    "ax.hist(df[df['p_values'] < 0.01]['bias'], color='red', histtype='step', density=True, lw=2, label=r'Significant ($\\alpha=0.01$)')\n",
    "ax.set_xlabel(r'\\textbf{Interaction Term}', fontsize=15)\n",
    "ax.set_ylabel(r'\\textbf{Density}', fontsize=15)\n",
    "ax.legend(prop={'size': 20})\n",
    "#plt.savefig('interaction_terms.png', dpi=300)"
   ]
  },
  {
   "cell_type": "code",
   "execution_count": 29,
   "metadata": {},
   "outputs": [
    {
     "data": {
      "text/plain": [
       "Series([], Name: bias, dtype: float64)"
      ]
     },
     "execution_count": 29,
     "metadata": {},
     "output_type": "execute_result"
    }
   ],
   "source": [
    "df[(df['annotator_race'] == 0) & (df['race'] == 0)]['bias']"
   ]
  },
  {
   "cell_type": "code",
   "execution_count": 64,
   "metadata": {},
   "outputs": [
    {
     "data": {
      "image/png": "[encoded data removed]",
      "text/plain": [
       "<Figure size 864x288 with 2 Axes>"
      ]
     },
     "metadata": {
      "needs_background": "light"
     },
     "output_type": "display_data"
    }
   ],
   "source": [
    "fig, axes = plt.subplots(1, 2, figsize=(12, 4), sharey=True)\n",
    "\n",
    "axes[0].hist(\n",
    "    [df[(df['annotator_race'] == 0) & (df['race'] == 0)]['bias_corrected'],\n",
    "     df[(df['annotator_race'] == 1) & (df['race'] == 0)]['bias_corrected']],\n",
    "    histtype='step',\n",
    "    density=True,\n",
    "    lw=2,\n",
    "    bins=np.linspace(-1, 1, 13),\n",
    "    label=['White Annotator', 'Black Annotator']\n",
    ")\n",
    "\n",
    "axes[1].hist(\n",
    "    [df[(df['annotator_race'] == 0) & (df['race'] == 1)]['bias_corrected'],\n",
    "     df[(df['annotator_race'] == 1) & (df['race'] == 1)]['bias_corrected']],\n",
    "    histtype='step',\n",
    "    density=True,\n",
    "    lw=2,\n",
    "    bins=np.linspace(-1, 1, 13),\n",
    "    label=['White Annotator', 'Black Annotator']\n",
    ")\n",
    "\n",
    "axes[0].set_title(r'\\textbf{White Targeting Comments}', fontsize=16)\n",
    "axes[1].set_title(r'\\textbf{Black Targeting Comments}', fontsize=16)\n",
    "\n",
    "for ax in axes:\n",
    "    ax.legend()\n",
    "    ax.set_xlim([-1, 1])\n",
    "    ax.set_xlabel(r'\\textbf{Interaction Term}', fontsize=18)\n",
    "    ax.set_ylabel(r'\\textbf{Density}', fontsize=18)\n",
    "\n",
    "#plt.savefig('interaction_terms_all_annotators.png', dpi=300)"
   ]
  },
  {
   "cell_type": "code",
   "execution_count": 27,
   "metadata": {},
   "outputs": [
    {
     "data": {
      "text/plain": [
       "0    11446\n",
       "1     1319\n",
       "Name: annotator_race, dtype: int64"
      ]
     },
     "execution_count": 27,
     "metadata": {},
     "output_type": "execute_result"
    }
   ],
   "source": [
    "df['annotator_race'].value_counts()"
   ]
  },
  {
   "cell_type": "code",
   "execution_count": 167,
   "metadata": {},
   "outputs": [
    {
     "data": {
      "text/plain": [
       "10641    0.0000\n",
       "3504     0.0001\n",
       "5433     0.0003\n",
       "3568     0.0005\n",
       "10666    0.0006\n",
       "          ...  \n",
       "9734     1.0000\n",
       "6810     1.0000\n",
       "9736     1.0000\n",
       "9726     1.0000\n",
       "6382     1.0000\n",
       "Name: p_values, Length: 12765, dtype: float64"
      ]
     },
     "execution_count": 167,
     "metadata": {},
     "output_type": "execute_result"
    }
   ],
   "source": [
    "df['p_values'].sort_values()"
   ]
  },
  {
   "cell_type": "code",
   "execution_count": null,
   "metadata": {},
   "outputs": [],
   "source": [
    "plt.hist(df['p_values'], np.lins)"
   ]
  },
  {
   "cell_type": "code",
   "execution_count": 170,
   "metadata": {},
   "outputs": [
    {
     "data": {
      "text/plain": [
       "(array([20., 21., 19., 26., 16., 23., 23., 28., 20., 25., 30., 24., 23.,\n",
       "        16., 22., 29., 33., 32., 31., 23.]),\n",
       " array([0.0001  , 0.005095, 0.01009 , 0.015085, 0.02008 , 0.025075,\n",
       "        0.03007 , 0.035065, 0.04006 , 0.045055, 0.05005 , 0.055045,\n",
       "        0.06004 , 0.065035, 0.07003 , 0.075025, 0.08002 , 0.085015,\n",
       "        0.09001 , 0.095005, 0.1     ]),\n",
       " <BarContainer object of 20 artists>)"
      ]
     },
     "execution_count": 170,
     "metadata": {},
     "output_type": "execute_result"
    },
    {
     "data": {
      "image/png": "[encoded data removed]",
      "text/plain": [
       "<Figure size 432x288 with 1 Axes>"
      ]
     },
     "metadata": {
      "needs_background": "light"
     },
     "output_type": "display_data"
    }
   ],
   "source": [
    "plt.hist(df['p_values'], bins=np.linspace(0.0001, 0.1, 21))\n",
    "#plt.xlim([0.00001, 0.1])\n",
    "#plt.xscale('log')"
   ]
  },
  {
   "cell_type": "code",
   "execution_count": 177,
   "metadata": {},
   "outputs": [
    {
     "data": {
      "text/plain": [
       "<matplotlib.lines.Line2D at 0x7fa1a1c6dc50>"
      ]
     },
     "execution_count": 177,
     "metadata": {},
     "output_type": "execute_result"
    },
    {
     "data": {
      "image/png": "[encoded data removed]",
      "text/plain": [
       "<Figure size 432x288 with 1 Axes>"
      ]
     },
     "metadata": {
      "needs_background": "light"
     },
     "output_type": "display_data"
    }
   ],
   "source": [
    "plt.hist(df['p_values'], bins=np.linspace(0, 1, 21))\n",
    "plt.axvline(0.01)\n",
    "plt.axvline(0.05)\n",
    "plt.axvline(0.1)"
   ]
  },
  {
   "cell_type": "code",
   "execution_count": 255,
   "metadata": {},
   "outputs": [
    {
     "data": {
      "image/png": "[encoded data removed]",
      "text/plain": [
       "<Figure size 1008x432 with 6 Axes>"
      ]
     },
     "metadata": {
      "needs_background": "light"
     },
     "output_type": "display_data"
    }
   ],
   "source": [
    "fig, axes = plt.subplots(2, 3, figsize=(14, 6), gridspec_kw={'width_ratios': [1, 1, 0.5]})\n",
    "plt.subplots_adjust(wspace=0.3, hspace=0.5)\n",
    "\n",
    "axes[0, 0].hist(\n",
    "    [df[(df['annotator_race'] == 0) & (df['race'] == 0) & (df['p_values'] < 0.1)]['bias_corrected'],\n",
    "     df[(df['annotator_race'] == 1) & (df['race'] == 0) & (df['p_values'] < 0.1)]['bias_corrected']],\n",
    "    histtype='step',\n",
    "    density=True,\n",
    "    bins=np.linspace(-4, 4, 21),\n",
    "    lw=2,\n",
    "    label=['White Annotator', 'Black Annotator']\n",
    ")\n",
    "\n",
    "axes[1, 0].hist(\n",
    "    [df[(df['annotator_race'] == 0) & (df['race'] == 1) & (df['p_values'] < 0.1)]['bias_corrected'],\n",
    "     df[(df['annotator_race'] == 1) & (df['race'] == 1) & (df['p_values'] < 0.1)]['bias_corrected']],\n",
    "    histtype='step',\n",
    "    density=True,\n",
    "    lw=2,\n",
    "    bins=np.linspace(-4, 4, 21),\n",
    "    label=['White Annotator', 'Black Annotator']\n",
    ")\n",
    "\n",
    "axes[0, 0].set_title(r'\\textbf{White Targeting Comments}', fontsize=16)\n",
    "axes[0, 1].set_title(r'\\textbf{White Targeting Comments}', fontsize=16)\n",
    "axes[1, 0].set_title(r'\\textbf{Black Targeting Comments}', fontsize=16)\n",
    "axes[1, 1].set_title(r'\\textbf{Black Targeting Comments}', fontsize=16)\n",
    "\n",
    "\n",
    "axes[0, 2].hist(df['p_values'], bins=np.linspace(0, 1, 16), color='gray')\n",
    "axes[0, 2].set_yscale('log')\n",
    "axes[0, 2].set_ylim([1e2, 1e4])\n",
    "axes[0, 2].set_xlabel(r'\\textbf{p-values}', fontsize=15)\n",
    "\n",
    "axes[0, 1].hist(\n",
    "    [np.exp(-df[(df['annotator_race'] == 0) & (df['race'] == 0) & (df['p_values'] < 0.1)]['bias_corrected']),\n",
    "     np.exp(-df[(df['annotator_race'] == 1) & (df['race'] == 0) & (df['p_values'] < 0.1)]['bias_corrected'])],\n",
    "    histtype='step',\n",
    "    density=True,\n",
    "    bins=np.linspace(0, 4, 14),\n",
    "    lw=2,\n",
    "    label=['White Annotator', 'Black Annotator']\n",
    ")\n",
    "\n",
    "axes[1, 1].hist(\n",
    "    [np.exp(-df[(df['annotator_race'] == 0) & (df['race'] == 1) & (df['p_values'] < 0.1)]['bias_corrected']),\n",
    "     np.exp(-df[(df['annotator_race'] == 1) & (df['race'] == 1) & (df['p_values'] < 0.1)]['bias_corrected'])],\n",
    "    histtype='step',\n",
    "    density=True,\n",
    "    lw=2,\n",
    "    bins=np.linspace(0, 4, 14),\n",
    "    label=['White Annotator', 'Black Annotator']\n",
    ")\n",
    "\n",
    "for ax in axes[:2, :2].ravel():\n",
    "    ax.legend(loc='best', prop={'size': 13})\n",
    "    ax.set_ylabel(r'\\textbf{Density}', fontsize=15)\n",
    "\n",
    "for ax in axes[:, 0]:\n",
    "    ax.set_xlabel(r'\\textbf{Interaction Term}', fontsize=15)\n",
    "for ax in axes[:, 1]:\n",
    "    ax.set_xlabel(r'\\textbf{Change in Odds Ratio}', fontsize=15)\n",
    "\n",
    "axes[1, 2].hexbin(\n",
    "    ruff['severity_diffs'],\n",
    "    ruff['interaction_diffs'],\n",
    "    cmap='Greys',\n",
    "    bins='log',\n",
    "    gridsize=40)\n",
    "axes[1, 2].set_xlim([-6, 6])\n",
    "axes[1, 2].set_ylim([-6, 6])\n",
    "axes[1, 2].set_aspect('equal')\n",
    "axes[1, 2].set_xticks([-6, -3, 0, 3, 6])\n",
    "axes[1, 2].set_yticks([-6, -3, 0, 3, 6])\n",
    "\n",
    "axes[0, 2].set_ylabel(r'\\textbf{Frequency}', fontsize=15)\n",
    "\n",
    "for ax in axes[:, 0]:\n",
    "    ax.set_ylim(top=0.90)\n",
    "\n",
    "for ax in axes.ravel():\n",
    "    ax.tick_params(labelsize=13)\n",
    "    \n",
    "axes[1, 2].set_xlabel(r'\\textbf{Annotator Lean}', fontsize=15)\n",
    "axes[1, 2].set_ylabel(r'\\textbf{Interaction}' '\\n' r'\\textbf{Difference}', fontsize=15)\n",
    "mplego.labels.apply_subplot_labels(axes, bold=True, size=22, x=-0.1, y=1.15)\n",
    "plt.savefig('figure4.pdf', bbox_inches='tight')"
   ]
  },
  {
   "cell_type": "code",
   "execution_count": 178,
   "metadata": {},
   "outputs": [
    {
     "data": {
      "image/png": "[encoded data removed]",
      "text/plain": [
       "<Figure size 864x288 with 2 Axes>"
      ]
     },
     "metadata": {
      "needs_background": "light"
     },
     "output_type": "display_data"
    }
   ],
   "source": [
    "fig, axes = plt.subplots(1, 2, figsize=(12, 4), sharey=True)\n",
    "\n",
    "axes[0].hist(\n",
    "    [df[(df['annotator_race'] == 0) & (df['race'] == 0) & (df['p_values'] < 0.1)]['bias_corrected'],\n",
    "     df[(df['annotator_race'] == 1) & (df['race'] == 0) & (df['p_values'] < 0.1)]['bias_corrected']],\n",
    "    histtype='step',\n",
    "    density=True,\n",
    "    bins=np.linspace(-4, 4, 21),\n",
    "    lw=2,\n",
    "    label=['White Annotator', 'Black Annotator']\n",
    ")\n",
    "\n",
    "axes[1].hist(\n",
    "    [df[(df['annotator_race'] == 0) & (df['race'] == 1) & (df['p_values'] < 0.1)]['bias_corrected'],\n",
    "     df[(df['annotator_race'] == 1) & (df['race'] == 1) & (df['p_values'] < 0.1)]['bias_corrected']],\n",
    "    histtype='step',\n",
    "    density=True,\n",
    "    lw=2,\n",
    "    bins=np.linspace(-4, 4, 21),\n",
    "    label=['White Annotator', 'Black Annotator']\n",
    ")\n",
    "\n",
    "axes[0].set_title(r'\\textbf{White Targeting Comments}', fontsize=16)\n",
    "axes[1].set_title(r'\\textbf{Black Targeting Comments}', fontsize=16)\n",
    "\n",
    "for ax in axes:\n",
    "    ax.legend(loc='best')\n",
    "    ax.set_xlim([-4, 4])\n",
    "    ax.set_xlabel(r'\\textbf{Interaction Term}', fontsize=18)\n",
    "    ax.set_ylabel(r'\\textbf{Density}', fontsize=18)\n",
    "    \n",
    "#plt.savefig('interaction_terms_significant_annotators.png', dpi=300)"
   ]
  },
  {
   "cell_type": "code",
   "execution_count": 50,
   "metadata": {},
   "outputs": [
    {
     "data": {
      "text/plain": [
       "<matplotlib.lines.Line2D at 0x7fa19ee819d0>"
      ]
     },
     "execution_count": 50,
     "metadata": {},
     "output_type": "execute_result"
    },
    {
     "data": {
      "image/png": "[encoded data removed]",
      "text/plain": [
       "<Figure size 216x360 with 1 Axes>"
      ]
     },
     "metadata": {
      "needs_background": "light"
     },
     "output_type": "display_data"
    }
   ],
   "source": [
    "fig, ax = plt.subplots(1, 1, figsize=(3, 5))\n",
    "\n",
    "ax.boxplot(\n",
    "    x=[df[(df['annotator_race'] == 0) & (df['race'] == 0)]['bias_corrected'],\n",
    "       df[(df['annotator_race'] == 1) & (df['race'] == 0)]['bias_corrected']],\n",
    "    showfliers=False\n",
    ")\n",
    "ax.axhline(0)"
   ]
  },
  {
   "cell_type": "code",
   "execution_count": 51,
   "metadata": {},
   "outputs": [
    {
     "data": {
      "text/plain": [
       "0.0"
      ]
     },
     "execution_count": 51,
     "metadata": {},
     "output_type": "execute_result"
    }
   ],
   "source": [
    "np.median(df[(df['annotator_race'] == 0) & (df['race'] == 0)]['bias_corrected'])"
   ]
  },
  {
   "cell_type": "code",
   "execution_count": 52,
   "metadata": {},
   "outputs": [
    {
     "data": {
      "text/plain": [
       "0.0"
      ]
     },
     "execution_count": 52,
     "metadata": {},
     "output_type": "execute_result"
    }
   ],
   "source": [
    "np.median(df[(df['annotator_race'] == 1) & (df['race'] == 0)]['bias_corrected'])"
   ]
  },
  {
   "cell_type": "code",
   "execution_count": 53,
   "metadata": {},
   "outputs": [
    {
     "data": {
      "text/plain": [
       "0       0.09\n",
       "1       0.41\n",
       "2      -0.39\n",
       "3      -0.00\n",
       "4      -0.04\n",
       "        ... \n",
       "4747    0.33\n",
       "4748   -0.00\n",
       "4749   -0.00\n",
       "4750    0.46\n",
       "4751   -0.00\n",
       "Name: bias_corrected, Length: 4251, dtype: float64"
      ]
     },
     "execution_count": 53,
     "metadata": {},
     "output_type": "execute_result"
    }
   ],
   "source": [
    "df[(df['annotator_race'] == 0) & (df['race'] == 0)]['bias_corrected']"
   ]
  },
  {
   "cell_type": "code",
   "execution_count": 71,
   "metadata": {},
   "outputs": [
    {
     "data": {
      "text/plain": [
       "(818,)"
      ]
     },
     "execution_count": 71,
     "metadata": {},
     "output_type": "execute_result"
    }
   ],
   "source": [
    "df[(df['annotator_race'] == 1) & (df['race'] == 1)]['bias_corrected'].shape"
   ]
  },
  {
   "cell_type": "code",
   "execution_count": 75,
   "metadata": {},
   "outputs": [
    {
     "data": {
      "text/plain": [
       "F_onewayResult(statistic=8.704003943516497, pvalue=0.003190624491126266)"
      ]
     },
     "execution_count": 75,
     "metadata": {},
     "output_type": "execute_result"
    }
   ],
   "source": [
    "from scipy.stats import f_oneway, kruskal\n",
    "\n",
    "f_oneway(\n",
    "    df[(df['annotator_race'] == 0) & (df['race'] == 0)]['bias_corrected'].values,\n",
    "    df[(df['annotator_race'] == 1) & (df['race'] == 0)]['bias_corrected'].values)"
   ]
  },
  {
   "cell_type": "code",
   "execution_count": 41,
   "metadata": {},
   "outputs": [
    {
     "data": {
      "text/plain": [
       "F_onewayResult(statistic=9.549641870183601, pvalue=0.0020079678537736046)"
      ]
     },
     "execution_count": 41,
     "metadata": {},
     "output_type": "execute_result"
    }
   ],
   "source": [
    "f_oneway(\n",
    "df[(df['annotator_race'] == 0) & (df['race'] == 1) & (df['p_values'] < 1)]['bias_corrected'],\n",
    "     df[(df['annotator_race'] == 1) & (df['race'] == 1) & (df['p_values'] < 1)]['bias_corrected'])"
   ]
  },
  {
   "cell_type": "code",
   "execution_count": 151,
   "metadata": {},
   "outputs": [
    {
     "data": {
      "text/plain": [
       "0.855"
      ]
     },
     "execution_count": 151,
     "metadata": {},
     "output_type": "execute_result"
    }
   ],
   "source": [
    "np.median(df[(df['annotator_race'] == 1) & (df['race'] == 0) & (df['p_values'] < 0.1)]['bias_corrected'])"
   ]
  },
  {
   "cell_type": "code",
   "execution_count": 80,
   "metadata": {},
   "outputs": [],
   "source": [
    "target_black = df[df['race'] == 1].copy()\n",
    "target_white = df[df['race'] == 0].copy()\n",
    "common_annotators = target_black[target_black['labeler_id'].isin(target_white['labeler_id'])]['labeler_id'].values"
   ]
  },
  {
   "cell_type": "code",
   "execution_count": 90,
   "metadata": {},
   "outputs": [],
   "source": [
    "diffs = (target_black[target_black['labeler_id'].isin(common_annotators)].sort_values('labeler_id')['bias_corrected'].reset_index(drop=True)\n",
    "         - target_white[target_white['labeler_id'].isin(common_annotators)].sort_values('labeler_id')['bias_corrected'].reset_index(drop=True))"
   ]
  },
  {
   "cell_type": "code",
   "execution_count": 94,
   "metadata": {},
   "outputs": [],
   "source": [
    "interaction_diffs = pd.DataFrame(data={'labeler_id': np.sort(common_annotators), 'interaction_diffs': diffs})"
   ]
  },
  {
   "cell_type": "code",
   "execution_count": 96,
   "metadata": {},
   "outputs": [],
   "source": [
    "sev_diffs = pd.read_csv('severity_diffs.csv')"
   ]
  },
  {
   "cell_type": "code",
   "execution_count": 103,
   "metadata": {},
   "outputs": [],
   "source": [
    "ruff = sev_diffs.merge(interaction_diffs, how='inner', on='labeler_id')"
   ]
  },
  {
   "cell_type": "code",
   "execution_count": 111,
   "metadata": {},
   "outputs": [
    {
     "data": {
      "text/plain": [
       "array([[1.        , 0.70916585],\n",
       "       [0.70916585, 1.        ]])"
      ]
     },
     "execution_count": 111,
     "metadata": {},
     "output_type": "execute_result"
    }
   ],
   "source": [
    "np.corrcoef(ruff['severity_diffs'], ruff['interaction_diffs'])"
   ]
  },
  {
   "cell_type": "code",
   "execution_count": 198,
   "metadata": {},
   "outputs": [
    {
     "data": {
      "image/png": "[encoded data removed]",
      "text/plain": [
       "<Figure size 864x288 with 2 Axes>"
      ]
     },
     "metadata": {
      "needs_background": "light"
     },
     "output_type": "display_data"
    }
   ],
   "source": [
    "fig, axes = plt.subplots(1, 2, figsize=(12, 4), sharey=True)\n",
    "\n",
    "axes[0].hist(\n",
    "    [np.exp(-df[(df['annotator_race'] == 0) & (df['race'] == 0) & (df['p_values'] < 0.1)]['bias_corrected']),\n",
    "     np.exp(-df[(df['annotator_race'] == 1) & (df['race'] == 0) & (df['p_values'] < 0.1)]['bias_corrected'])],\n",
    "    histtype='step',\n",
    "    density=True,\n",
    "    bins=np.linspace(0, 4, 15),\n",
    "    lw=2,\n",
    "    label=['White Annotator', 'Black Annotator']\n",
    ")\n",
    "\n",
    "axes[1].hist(\n",
    "    [np.exp(-df[(df['annotator_race'] == 0) & (df['race'] == 1) & (df['p_values'] < 0.1)]['bias_corrected']),\n",
    "     np.exp(-df[(df['annotator_race'] == 1) & (df['race'] == 1) & (df['p_values'] < 0.1)]['bias_corrected'])],\n",
    "    histtype='step',\n",
    "    density=True,\n",
    "    lw=2,\n",
    "    bins=np.linspace(0, 4, 15),\n",
    "    label=['White Annotator', 'Black Annotator']\n",
    ")\n",
    "\n",
    "axes[0].set_title(r'\\textbf{White Targeting Comments}', fontsize=16)\n",
    "axes[1].set_title(r'\\textbf{Black Targeting Comments}', fontsize=16)\n",
    "\n",
    "for ax in axes:\n",
    "    ax.legend(loc='best')\n",
    "    ax.set_xlim([0, 4])\n",
    "    ax.set_xlabel(r'\\textbf{Interaction Term}', fontsize=18)\n",
    "    ax.set_ylabel(r'\\textbf{Density}', fontsize=18)"
   ]
  },
  {
   "cell_type": "code",
   "execution_count": 124,
   "metadata": {},
   "outputs": [
    {
     "data": {
      "image/png": "[encoded data removed]",
      "text/plain": [
       "<Figure size 432x288 with 1 Axes>"
      ]
     },
     "metadata": {
      "needs_background": "light"
     },
     "output_type": "display_data"
    }
   ],
   "source": [
    "plt.hexbin(ruff['severity_diffs'], ruff['interaction_diffs'], cmap='Greys', bins='log', gridsize=40)\n",
    "plt.xlim([-6, 6])\n",
    "plt.ylim([-6, 6])\n",
    "plt.gca().set_aspect('equal')"
   ]
  },
  {
   "cell_type": "code",
   "execution_count": null,
   "metadata": {},
   "outputs": [],
   "source": [
    "# 5913\n",
    "# 8133"
   ]
  },
  {
   "cell_type": "code",
   "execution_count": 156,
   "metadata": {},
   "outputs": [
    {
     "data": {
      "text/html": [
       "<div>\n",
       "<style scoped>\n",
       "    .dataframe tbody tr th:only-of-type {\n",
       "        vertical-align: middle;\n",
       "    }\n",
       "\n",
       "    .dataframe tbody tr th {\n",
       "        vertical-align: top;\n",
       "    }\n",
       "\n",
       "    .dataframe thead th {\n",
       "        text-align: right;\n",
       "    }\n",
       "</style>\n",
       "<table border=\"1\" class=\"dataframe\">\n",
       "  <thead>\n",
       "    <tr style=\"text-align: right;\">\n",
       "      <th></th>\n",
       "      <th>observed</th>\n",
       "      <th>expected</th>\n",
       "      <th>bias</th>\n",
       "      <th>t_statistics</th>\n",
       "      <th>p_values</th>\n",
       "      <th>labeler_id</th>\n",
       "      <th>measure</th>\n",
       "      <th>race</th>\n",
       "      <th>annotator_race</th>\n",
       "      <th>bias_corrected</th>\n",
       "      <th>bias_abs</th>\n",
       "      <th>annotator_race_name</th>\n",
       "      <th>target_race_name</th>\n",
       "    </tr>\n",
       "  </thead>\n",
       "  <tbody>\n",
       "    <tr>\n",
       "      <th>10641</th>\n",
       "      <td>24.0</td>\n",
       "      <td>36.73</td>\n",
       "      <td>-1.98</td>\n",
       "      <td>-4.91</td>\n",
       "      <td>0.0000</td>\n",
       "      <td>8217</td>\n",
       "      <td>0.66</td>\n",
       "      <td>1.0</td>\n",
       "      <td>0</td>\n",
       "      <td>1.98</td>\n",
       "      <td>1.98</td>\n",
       "      <td>white</td>\n",
       "      <td>black</td>\n",
       "    </tr>\n",
       "    <tr>\n",
       "      <th>3504</th>\n",
       "      <td>45.0</td>\n",
       "      <td>32.27</td>\n",
       "      <td>1.69</td>\n",
       "      <td>4.48</td>\n",
       "      <td>0.0001</td>\n",
       "      <td>8217</td>\n",
       "      <td>0.66</td>\n",
       "      <td>0.0</td>\n",
       "      <td>0</td>\n",
       "      <td>-1.69</td>\n",
       "      <td>1.69</td>\n",
       "      <td>white</td>\n",
       "      <td>white</td>\n",
       "    </tr>\n",
       "    <tr>\n",
       "      <th>5433</th>\n",
       "      <td>15.0</td>\n",
       "      <td>20.40</td>\n",
       "      <td>-3.52</td>\n",
       "      <td>-5.69</td>\n",
       "      <td>0.0003</td>\n",
       "      <td>941</td>\n",
       "      <td>0.66</td>\n",
       "      <td>1.0</td>\n",
       "      <td>0</td>\n",
       "      <td>3.52</td>\n",
       "      <td>3.52</td>\n",
       "      <td>white</td>\n",
       "      <td>black</td>\n",
       "    </tr>\n",
       "    <tr>\n",
       "      <th>3568</th>\n",
       "      <td>8.0</td>\n",
       "      <td>1.17</td>\n",
       "      <td>3.30</td>\n",
       "      <td>5.32</td>\n",
       "      <td>0.0005</td>\n",
       "      <td>8359</td>\n",
       "      <td>0.66</td>\n",
       "      <td>0.0</td>\n",
       "      <td>0</td>\n",
       "      <td>-3.30</td>\n",
       "      <td>3.30</td>\n",
       "      <td>white</td>\n",
       "      <td>white</td>\n",
       "    </tr>\n",
       "    <tr>\n",
       "      <th>10666</th>\n",
       "      <td>55.0</td>\n",
       "      <td>46.78</td>\n",
       "      <td>2.12</td>\n",
       "      <td>3.82</td>\n",
       "      <td>0.0006</td>\n",
       "      <td>8261</td>\n",
       "      <td>0.66</td>\n",
       "      <td>1.0</td>\n",
       "      <td>0</td>\n",
       "      <td>-2.12</td>\n",
       "      <td>2.12</td>\n",
       "      <td>white</td>\n",
       "      <td>black</td>\n",
       "    </tr>\n",
       "    <tr>\n",
       "      <th>2468</th>\n",
       "      <td>25.0</td>\n",
       "      <td>16.18</td>\n",
       "      <td>1.92</td>\n",
       "      <td>3.94</td>\n",
       "      <td>0.0009</td>\n",
       "      <td>5913</td>\n",
       "      <td>0.66</td>\n",
       "      <td>0.0</td>\n",
       "      <td>0</td>\n",
       "      <td>-1.92</td>\n",
       "      <td>1.92</td>\n",
       "      <td>white</td>\n",
       "      <td>white</td>\n",
       "    </tr>\n",
       "    <tr>\n",
       "      <th>9938</th>\n",
       "      <td>40.0</td>\n",
       "      <td>47.00</td>\n",
       "      <td>-1.54</td>\n",
       "      <td>-3.59</td>\n",
       "      <td>0.0012</td>\n",
       "      <td>7276</td>\n",
       "      <td>0.66</td>\n",
       "      <td>1.0</td>\n",
       "      <td>0</td>\n",
       "      <td>1.54</td>\n",
       "      <td>1.54</td>\n",
       "      <td>white</td>\n",
       "      <td>black</td>\n",
       "    </tr>\n",
       "    <tr>\n",
       "      <th>1664</th>\n",
       "      <td>20.0</td>\n",
       "      <td>28.23</td>\n",
       "      <td>-1.63</td>\n",
       "      <td>-3.68</td>\n",
       "      <td>0.0016</td>\n",
       "      <td>3994</td>\n",
       "      <td>0.66</td>\n",
       "      <td>0.0</td>\n",
       "      <td>0</td>\n",
       "      <td>1.63</td>\n",
       "      <td>1.63</td>\n",
       "      <td>white</td>\n",
       "      <td>white</td>\n",
       "    </tr>\n",
       "    <tr>\n",
       "      <th>4720</th>\n",
       "      <td>36.0</td>\n",
       "      <td>27.73</td>\n",
       "      <td>2.04</td>\n",
       "      <td>3.62</td>\n",
       "      <td>0.0018</td>\n",
       "      <td>11058</td>\n",
       "      <td>0.66</td>\n",
       "      <td>0.0</td>\n",
       "      <td>0</td>\n",
       "      <td>-2.04</td>\n",
       "      <td>2.04</td>\n",
       "      <td>white</td>\n",
       "      <td>white</td>\n",
       "    </tr>\n",
       "    <tr>\n",
       "      <th>12708</th>\n",
       "      <td>43.0</td>\n",
       "      <td>51.28</td>\n",
       "      <td>-1.28</td>\n",
       "      <td>-3.43</td>\n",
       "      <td>0.0018</td>\n",
       "      <td>11058</td>\n",
       "      <td>0.66</td>\n",
       "      <td>1.0</td>\n",
       "      <td>0</td>\n",
       "      <td>1.28</td>\n",
       "      <td>1.28</td>\n",
       "      <td>white</td>\n",
       "      <td>black</td>\n",
       "    </tr>\n",
       "    <tr>\n",
       "      <th>2796</th>\n",
       "      <td>10.0</td>\n",
       "      <td>3.68</td>\n",
       "      <td>2.60</td>\n",
       "      <td>4.37</td>\n",
       "      <td>0.0018</td>\n",
       "      <td>6653</td>\n",
       "      <td>0.66</td>\n",
       "      <td>0.0</td>\n",
       "      <td>0</td>\n",
       "      <td>-2.60</td>\n",
       "      <td>2.60</td>\n",
       "      <td>white</td>\n",
       "      <td>white</td>\n",
       "    </tr>\n",
       "    <tr>\n",
       "      <th>10581</th>\n",
       "      <td>36.0</td>\n",
       "      <td>40.48</td>\n",
       "      <td>-1.90</td>\n",
       "      <td>-3.60</td>\n",
       "      <td>0.0019</td>\n",
       "      <td>8133</td>\n",
       "      <td>0.66</td>\n",
       "      <td>1.0</td>\n",
       "      <td>0</td>\n",
       "      <td>1.90</td>\n",
       "      <td>1.90</td>\n",
       "      <td>white</td>\n",
       "      <td>black</td>\n",
       "    </tr>\n",
       "    <tr>\n",
       "      <th>3523</th>\n",
       "      <td>4.0</td>\n",
       "      <td>12.22</td>\n",
       "      <td>-2.09</td>\n",
       "      <td>-3.55</td>\n",
       "      <td>0.0021</td>\n",
       "      <td>8261</td>\n",
       "      <td>0.66</td>\n",
       "      <td>0.0</td>\n",
       "      <td>0</td>\n",
       "      <td>2.09</td>\n",
       "      <td>2.09</td>\n",
       "      <td>white</td>\n",
       "      <td>white</td>\n",
       "    </tr>\n",
       "    <tr>\n",
       "      <th>5897</th>\n",
       "      <td>35.0</td>\n",
       "      <td>39.84</td>\n",
       "      <td>-1.77</td>\n",
       "      <td>-3.50</td>\n",
       "      <td>0.0024</td>\n",
       "      <td>1619</td>\n",
       "      <td>0.66</td>\n",
       "      <td>1.0</td>\n",
       "      <td>0</td>\n",
       "      <td>1.77</td>\n",
       "      <td>1.77</td>\n",
       "      <td>white</td>\n",
       "      <td>black</td>\n",
       "    </tr>\n",
       "    <tr>\n",
       "      <th>8789</th>\n",
       "      <td>22.0</td>\n",
       "      <td>29.07</td>\n",
       "      <td>-1.60</td>\n",
       "      <td>-3.46</td>\n",
       "      <td>0.0026</td>\n",
       "      <td>5657</td>\n",
       "      <td>0.66</td>\n",
       "      <td>1.0</td>\n",
       "      <td>0</td>\n",
       "      <td>1.60</td>\n",
       "      <td>1.60</td>\n",
       "      <td>white</td>\n",
       "      <td>black</td>\n",
       "    </tr>\n",
       "    <tr>\n",
       "      <th>3063</th>\n",
       "      <td>17.0</td>\n",
       "      <td>9.99</td>\n",
       "      <td>2.61</td>\n",
       "      <td>3.83</td>\n",
       "      <td>0.0040</td>\n",
       "      <td>7276</td>\n",
       "      <td>0.66</td>\n",
       "      <td>0.0</td>\n",
       "      <td>0</td>\n",
       "      <td>-2.61</td>\n",
       "      <td>2.61</td>\n",
       "      <td>white</td>\n",
       "      <td>white</td>\n",
       "    </tr>\n",
       "    <tr>\n",
       "      <th>2697</th>\n",
       "      <td>11.0</td>\n",
       "      <td>16.97</td>\n",
       "      <td>-2.24</td>\n",
       "      <td>-3.80</td>\n",
       "      <td>0.0042</td>\n",
       "      <td>6448</td>\n",
       "      <td>0.66</td>\n",
       "      <td>0.0</td>\n",
       "      <td>1</td>\n",
       "      <td>2.24</td>\n",
       "      <td>2.24</td>\n",
       "      <td>black</td>\n",
       "      <td>white</td>\n",
       "    </tr>\n",
       "    <tr>\n",
       "      <th>9902</th>\n",
       "      <td>2.0</td>\n",
       "      <td>0.12</td>\n",
       "      <td>2.89</td>\n",
       "      <td>3.76</td>\n",
       "      <td>0.0045</td>\n",
       "      <td>7229</td>\n",
       "      <td>0.66</td>\n",
       "      <td>1.0</td>\n",
       "      <td>0</td>\n",
       "      <td>-2.89</td>\n",
       "      <td>2.89</td>\n",
       "      <td>white</td>\n",
       "      <td>black</td>\n",
       "    </tr>\n",
       "    <tr>\n",
       "      <th>10861</th>\n",
       "      <td>30.0</td>\n",
       "      <td>35.99</td>\n",
       "      <td>-1.46</td>\n",
       "      <td>-3.19</td>\n",
       "      <td>0.0048</td>\n",
       "      <td>8528</td>\n",
       "      <td>0.66</td>\n",
       "      <td>1.0</td>\n",
       "      <td>1</td>\n",
       "      <td>1.46</td>\n",
       "      <td>1.46</td>\n",
       "      <td>black</td>\n",
       "      <td>black</td>\n",
       "    </tr>\n",
       "    <tr>\n",
       "      <th>5159</th>\n",
       "      <td>36.0</td>\n",
       "      <td>40.07</td>\n",
       "      <td>-1.75</td>\n",
       "      <td>-3.18</td>\n",
       "      <td>0.0049</td>\n",
       "      <td>580</td>\n",
       "      <td>0.66</td>\n",
       "      <td>1.0</td>\n",
       "      <td>0</td>\n",
       "      <td>1.75</td>\n",
       "      <td>1.75</td>\n",
       "      <td>white</td>\n",
       "      <td>black</td>\n",
       "    </tr>\n",
       "    <tr>\n",
       "      <th>11684</th>\n",
       "      <td>18.0</td>\n",
       "      <td>20.64</td>\n",
       "      <td>-2.75</td>\n",
       "      <td>-3.70</td>\n",
       "      <td>0.0050</td>\n",
       "      <td>9660</td>\n",
       "      <td>0.66</td>\n",
       "      <td>1.0</td>\n",
       "      <td>0</td>\n",
       "      <td>2.75</td>\n",
       "      <td>2.75</td>\n",
       "      <td>white</td>\n",
       "      <td>black</td>\n",
       "    </tr>\n",
       "    <tr>\n",
       "      <th>9498</th>\n",
       "      <td>29.0</td>\n",
       "      <td>35.32</td>\n",
       "      <td>-1.36</td>\n",
       "      <td>-3.14</td>\n",
       "      <td>0.0054</td>\n",
       "      <td>6653</td>\n",
       "      <td>0.66</td>\n",
       "      <td>1.0</td>\n",
       "      <td>0</td>\n",
       "      <td>1.36</td>\n",
       "      <td>1.36</td>\n",
       "      <td>white</td>\n",
       "      <td>black</td>\n",
       "    </tr>\n",
       "    <tr>\n",
       "      <th>10216</th>\n",
       "      <td>4.0</td>\n",
       "      <td>9.98</td>\n",
       "      <td>-2.45</td>\n",
       "      <td>-3.63</td>\n",
       "      <td>0.0055</td>\n",
       "      <td>7632</td>\n",
       "      <td>0.66</td>\n",
       "      <td>1.0</td>\n",
       "      <td>0</td>\n",
       "      <td>2.45</td>\n",
       "      <td>2.45</td>\n",
       "      <td>white</td>\n",
       "      <td>black</td>\n",
       "    </tr>\n",
       "    <tr>\n",
       "      <th>7850</th>\n",
       "      <td>59.0</td>\n",
       "      <td>53.25</td>\n",
       "      <td>2.02</td>\n",
       "      <td>3.00</td>\n",
       "      <td>0.0055</td>\n",
       "      <td>4383</td>\n",
       "      <td>0.66</td>\n",
       "      <td>1.0</td>\n",
       "      <td>0</td>\n",
       "      <td>-2.02</td>\n",
       "      <td>2.02</td>\n",
       "      <td>white</td>\n",
       "      <td>black</td>\n",
       "    </tr>\n",
       "    <tr>\n",
       "      <th>2364</th>\n",
       "      <td>24.0</td>\n",
       "      <td>16.93</td>\n",
       "      <td>1.38</td>\n",
       "      <td>3.12</td>\n",
       "      <td>0.0056</td>\n",
       "      <td>5657</td>\n",
       "      <td>0.66</td>\n",
       "      <td>0.0</td>\n",
       "      <td>0</td>\n",
       "      <td>-1.38</td>\n",
       "      <td>1.38</td>\n",
       "      <td>white</td>\n",
       "      <td>white</td>\n",
       "    </tr>\n",
       "    <tr>\n",
       "      <th>7072</th>\n",
       "      <td>28.0</td>\n",
       "      <td>34.30</td>\n",
       "      <td>-1.38</td>\n",
       "      <td>-3.12</td>\n",
       "      <td>0.0057</td>\n",
       "      <td>3245</td>\n",
       "      <td>0.66</td>\n",
       "      <td>1.0</td>\n",
       "      <td>0</td>\n",
       "      <td>1.38</td>\n",
       "      <td>1.38</td>\n",
       "      <td>white</td>\n",
       "      <td>black</td>\n",
       "    </tr>\n",
       "    <tr>\n",
       "      <th>2116</th>\n",
       "      <td>5.0</td>\n",
       "      <td>11.14</td>\n",
       "      <td>-2.40</td>\n",
       "      <td>-3.58</td>\n",
       "      <td>0.0059</td>\n",
       "      <td>5087</td>\n",
       "      <td>0.66</td>\n",
       "      <td>0.0</td>\n",
       "      <td>1</td>\n",
       "      <td>2.40</td>\n",
       "      <td>2.40</td>\n",
       "      <td>black</td>\n",
       "      <td>white</td>\n",
       "    </tr>\n",
       "    <tr>\n",
       "      <th>10167</th>\n",
       "      <td>41.0</td>\n",
       "      <td>48.42</td>\n",
       "      <td>-1.10</td>\n",
       "      <td>-2.97</td>\n",
       "      <td>0.0059</td>\n",
       "      <td>7573</td>\n",
       "      <td>0.66</td>\n",
       "      <td>1.0</td>\n",
       "      <td>0</td>\n",
       "      <td>1.10</td>\n",
       "      <td>1.10</td>\n",
       "      <td>white</td>\n",
       "      <td>black</td>\n",
       "    </tr>\n",
       "    <tr>\n",
       "      <th>3573</th>\n",
       "      <td>17.0</td>\n",
       "      <td>10.54</td>\n",
       "      <td>2.42</td>\n",
       "      <td>3.55</td>\n",
       "      <td>0.0063</td>\n",
       "      <td>8382</td>\n",
       "      <td>0.66</td>\n",
       "      <td>0.0</td>\n",
       "      <td>0</td>\n",
       "      <td>-2.42</td>\n",
       "      <td>2.42</td>\n",
       "      <td>white</td>\n",
       "      <td>white</td>\n",
       "    </tr>\n",
       "    <tr>\n",
       "      <th>3206</th>\n",
       "      <td>30.0</td>\n",
       "      <td>22.58</td>\n",
       "      <td>1.32</td>\n",
       "      <td>3.03</td>\n",
       "      <td>0.0069</td>\n",
       "      <td>7573</td>\n",
       "      <td>0.66</td>\n",
       "      <td>0.0</td>\n",
       "      <td>0</td>\n",
       "      <td>-1.32</td>\n",
       "      <td>1.32</td>\n",
       "      <td>white</td>\n",
       "      <td>white</td>\n",
       "    </tr>\n",
       "  </tbody>\n",
       "</table>\n",
       "</div>"
      ],
      "text/plain": [
       "       observed  expected  bias  t_statistics  p_values  labeler_id  measure  \\\n",
       "10641      24.0     36.73 -1.98         -4.91    0.0000        8217     0.66   \n",
       "3504       45.0     32.27  1.69          4.48    0.0001        8217     0.66   \n",
       "5433       15.0     20.40 -3.52         -5.69    0.0003         941     0.66   \n",
       "3568        8.0      1.17  3.30          5.32    0.0005        8359     0.66   \n",
       "10666      55.0     46.78  2.12          3.82    0.0006        8261     0.66   \n",
       "2468       25.0     16.18  1.92          3.94    0.0009        5913     0.66   \n",
       "9938       40.0     47.00 -1.54         -3.59    0.0012        7276     0.66   \n",
       "1664       20.0     28.23 -1.63         -3.68    0.0016        3994     0.66   \n",
       "4720       36.0     27.73  2.04          3.62    0.0018       11058     0.66   \n",
       "12708      43.0     51.28 -1.28         -3.43    0.0018       11058     0.66   \n",
       "2796       10.0      3.68  2.60          4.37    0.0018        6653     0.66   \n",
       "10581      36.0     40.48 -1.90         -3.60    0.0019        8133     0.66   \n",
       "3523        4.0     12.22 -2.09         -3.55    0.0021        8261     0.66   \n",
       "5897       35.0     39.84 -1.77         -3.50    0.0024        1619     0.66   \n",
       "8789       22.0     29.07 -1.60         -3.46    0.0026        5657     0.66   \n",
       "3063       17.0      9.99  2.61          3.83    0.0040        7276     0.66   \n",
       "2697       11.0     16.97 -2.24         -3.80    0.0042        6448     0.66   \n",
       "9902        2.0      0.12  2.89          3.76    0.0045        7229     0.66   \n",
       "10861      30.0     35.99 -1.46         -3.19    0.0048        8528     0.66   \n",
       "5159       36.0     40.07 -1.75         -3.18    0.0049         580     0.66   \n",
       "11684      18.0     20.64 -2.75         -3.70    0.0050        9660     0.66   \n",
       "9498       29.0     35.32 -1.36         -3.14    0.0054        6653     0.66   \n",
       "10216       4.0      9.98 -2.45         -3.63    0.0055        7632     0.66   \n",
       "7850       59.0     53.25  2.02          3.00    0.0055        4383     0.66   \n",
       "2364       24.0     16.93  1.38          3.12    0.0056        5657     0.66   \n",
       "7072       28.0     34.30 -1.38         -3.12    0.0057        3245     0.66   \n",
       "2116        5.0     11.14 -2.40         -3.58    0.0059        5087     0.66   \n",
       "10167      41.0     48.42 -1.10         -2.97    0.0059        7573     0.66   \n",
       "3573       17.0     10.54  2.42          3.55    0.0063        8382     0.66   \n",
       "3206       30.0     22.58  1.32          3.03    0.0069        7573     0.66   \n",
       "\n",
       "       race  annotator_race  bias_corrected  bias_abs annotator_race_name  \\\n",
       "10641   1.0               0            1.98      1.98               white   \n",
       "3504    0.0               0           -1.69      1.69               white   \n",
       "5433    1.0               0            3.52      3.52               white   \n",
       "3568    0.0               0           -3.30      3.30               white   \n",
       "10666   1.0               0           -2.12      2.12               white   \n",
       "2468    0.0               0           -1.92      1.92               white   \n",
       "9938    1.0               0            1.54      1.54               white   \n",
       "1664    0.0               0            1.63      1.63               white   \n",
       "4720    0.0               0           -2.04      2.04               white   \n",
       "12708   1.0               0            1.28      1.28               white   \n",
       "2796    0.0               0           -2.60      2.60               white   \n",
       "10581   1.0               0            1.90      1.90               white   \n",
       "3523    0.0               0            2.09      2.09               white   \n",
       "5897    1.0               0            1.77      1.77               white   \n",
       "8789    1.0               0            1.60      1.60               white   \n",
       "3063    0.0               0           -2.61      2.61               white   \n",
       "2697    0.0               1            2.24      2.24               black   \n",
       "9902    1.0               0           -2.89      2.89               white   \n",
       "10861   1.0               1            1.46      1.46               black   \n",
       "5159    1.0               0            1.75      1.75               white   \n",
       "11684   1.0               0            2.75      2.75               white   \n",
       "9498    1.0               0            1.36      1.36               white   \n",
       "10216   1.0               0            2.45      2.45               white   \n",
       "7850    1.0               0           -2.02      2.02               white   \n",
       "2364    0.0               0           -1.38      1.38               white   \n",
       "7072    1.0               0            1.38      1.38               white   \n",
       "2116    0.0               1            2.40      2.40               black   \n",
       "10167   1.0               0            1.10      1.10               white   \n",
       "3573    0.0               0           -2.42      2.42               white   \n",
       "3206    0.0               0           -1.32      1.32               white   \n",
       "\n",
       "      target_race_name  \n",
       "10641            black  \n",
       "3504             white  \n",
       "5433             black  \n",
       "3568             white  \n",
       "10666            black  \n",
       "2468             white  \n",
       "9938             black  \n",
       "1664             white  \n",
       "4720             white  \n",
       "12708            black  \n",
       "2796             white  \n",
       "10581            black  \n",
       "3523             white  \n",
       "5897             black  \n",
       "8789             black  \n",
       "3063             white  \n",
       "2697             white  \n",
       "9902             black  \n",
       "10861            black  \n",
       "5159             black  \n",
       "11684            black  \n",
       "9498             black  \n",
       "10216            black  \n",
       "7850             black  \n",
       "2364             white  \n",
       "7072             black  \n",
       "2116             white  \n",
       "10167            black  \n",
       "3573             white  \n",
       "3206             white  "
      ]
     },
     "execution_count": 156,
     "metadata": {},
     "output_type": "execute_result"
    }
   ],
   "source": [
    "df.sort_values('p_values').head(30)"
   ]
  },
  {
   "cell_type": "code",
   "execution_count": 152,
   "metadata": {},
   "outputs": [],
   "source": [
    "avg_scores = data.groupby('comment_id')[keys.items].median()"
   ]
  },
  {
   "cell_type": "code",
   "execution_count": 157,
   "metadata": {},
   "outputs": [],
   "source": [
    "annotator = 7573\n",
    "df_comment = data[data['labeler_id'] == annotator][['predict_text', 'comment_id', 'target_race_black', 'target_race_white'] + keys.items].reset_index(drop=True)\n",
    "avg_for_comments = pd.merge(\n",
    "    left=df_comment,\n",
    "    right=avg_scores,\n",
    "    how='left',\n",
    "    on='comment_id',\n",
    "    suffixes=('_left', ''))[keys.items]\n",
    "df_comment[keys.items] = df_comment[keys.items] - avg_for_comments"
   ]
  },
  {
   "cell_type": "code",
   "execution_count": 158,
   "metadata": {},
   "outputs": [],
   "source": [
    "pd.set_option('display.max_colwidth', None)"
   ]
  },
  {
   "cell_type": "code",
   "execution_count": 159,
   "metadata": {},
   "outputs": [
    {
     "data": {
      "text/html": [
       "<div>\n",
       "<style scoped>\n",
       "    .dataframe tbody tr th:only-of-type {\n",
       "        vertical-align: middle;\n",
       "    }\n",
       "\n",
       "    .dataframe tbody tr th {\n",
       "        vertical-align: top;\n",
       "    }\n",
       "\n",
       "    .dataframe thead th {\n",
       "        text-align: right;\n",
       "    }\n",
       "</style>\n",
       "<table border=\"1\" class=\"dataframe\">\n",
       "  <thead>\n",
       "    <tr style=\"text-align: right;\">\n",
       "      <th></th>\n",
       "      <th>predict_text</th>\n",
       "      <th>comment_id</th>\n",
       "      <th>target_race_black</th>\n",
       "      <th>target_race_white</th>\n",
       "      <th>sentiment</th>\n",
       "      <th>respect</th>\n",
       "      <th>insult</th>\n",
       "      <th>humiliate</th>\n",
       "      <th>status</th>\n",
       "      <th>dehumanize</th>\n",
       "      <th>violence</th>\n",
       "      <th>genocide</th>\n",
       "      <th>attack_defend</th>\n",
       "      <th>hatespeech</th>\n",
       "    </tr>\n",
       "  </thead>\n",
       "  <tbody>\n",
       "    <tr>\n",
       "      <th>0</th>\n",
       "      <td>Let the DESTRUCTION begin. @swedense You guys are freaking weak for letting That f...ing black monkey out without letting him go to prison for at least 6 years. Keep those black low lifes out our country. All those freaking blacks worthless maggots.</td>\n",
       "      <td>35998</td>\n",
       "      <td>True</td>\n",
       "      <td>False</td>\n",
       "      <td>0.0</td>\n",
       "      <td>0.0</td>\n",
       "      <td>-1.0</td>\n",
       "      <td>-1.0</td>\n",
       "      <td>0.0</td>\n",
       "      <td>0.0</td>\n",
       "      <td>0.0</td>\n",
       "      <td>0.0</td>\n",
       "      <td>0.0</td>\n",
       "      <td>-1.0</td>\n",
       "    </tr>\n",
       "    <tr>\n",
       "      <th>1</th>\n",
       "      <td>Wow, Fragile White Redditors out in force tonight.</td>\n",
       "      <td>5735</td>\n",
       "      <td>False</td>\n",
       "      <td>True</td>\n",
       "      <td>1.0</td>\n",
       "      <td>0.0</td>\n",
       "      <td>1.0</td>\n",
       "      <td>-1.0</td>\n",
       "      <td>0.0</td>\n",
       "      <td>1.0</td>\n",
       "      <td>0.0</td>\n",
       "      <td>0.0</td>\n",
       "      <td>0.0</td>\n",
       "      <td>0.0</td>\n",
       "    </tr>\n",
       "    <tr>\n",
       "      <th>2</th>\n",
       "      <td>This nigga trash throw this man into the compost</td>\n",
       "      <td>44504</td>\n",
       "      <td>True</td>\n",
       "      <td>False</td>\n",
       "      <td>0.5</td>\n",
       "      <td>0.5</td>\n",
       "      <td>0.5</td>\n",
       "      <td>0.0</td>\n",
       "      <td>0.0</td>\n",
       "      <td>-0.5</td>\n",
       "      <td>0.5</td>\n",
       "      <td>0.0</td>\n",
       "      <td>0.0</td>\n",
       "      <td>0.5</td>\n",
       "    </tr>\n",
       "    <tr>\n",
       "      <th>3</th>\n",
       "      <td>@Legionary1488 @JomavaesJos now we have a Ebloa case in Texas. If we kill all the niggers we might be safe.</td>\n",
       "      <td>20001</td>\n",
       "      <td>True</td>\n",
       "      <td>False</td>\n",
       "      <td>-1.0</td>\n",
       "      <td>0.0</td>\n",
       "      <td>-2.0</td>\n",
       "      <td>-2.0</td>\n",
       "      <td>-1.0</td>\n",
       "      <td>0.0</td>\n",
       "      <td>0.0</td>\n",
       "      <td>0.0</td>\n",
       "      <td>-1.0</td>\n",
       "      <td>0.0</td>\n",
       "    </tr>\n",
       "    <tr>\n",
       "      <th>4</th>\n",
       "      <td>DO YOU SEE HOW QUICK THE PROSECUTED THAT BLACK COP IN MPLS. MN. FOR KILLING THAT WHITE NIGGA??? GUESS BARR HAND A HAND IN THAT TO HUH. THESE NIGGA'S ARE GONNA GET THEIR DAY!!</td>\n",
       "      <td>20006</td>\n",
       "      <td>False</td>\n",
       "      <td>True</td>\n",
       "      <td>0.0</td>\n",
       "      <td>-1.0</td>\n",
       "      <td>0.0</td>\n",
       "      <td>0.0</td>\n",
       "      <td>1.0</td>\n",
       "      <td>1.0</td>\n",
       "      <td>1.0</td>\n",
       "      <td>1.0</td>\n",
       "      <td>0.0</td>\n",
       "      <td>0.0</td>\n",
       "    </tr>\n",
       "  </tbody>\n",
       "</table>\n",
       "</div>"
      ],
      "text/plain": [
       "                                                                                                                                                                                                                                                predict_text  \\\n",
       "0  Let the DESTRUCTION begin. @swedense You guys are freaking weak for letting That f...ing black monkey out without letting him go to prison for at least 6 years. Keep those black low lifes out our country. All those freaking blacks worthless maggots.   \n",
       "1                                                                                                                                                                                                         Wow, Fragile White Redditors out in force tonight.   \n",
       "2                                                                                                                                                                                                           This nigga trash throw this man into the compost   \n",
       "3                                                                                                                                                @Legionary1488 @JomavaesJos now we have a Ebloa case in Texas. If we kill all the niggers we might be safe.   \n",
       "4                                                                             DO YOU SEE HOW QUICK THE PROSECUTED THAT BLACK COP IN MPLS. MN. FOR KILLING THAT WHITE NIGGA??? GUESS BARR HAND A HAND IN THAT TO HUH. THESE NIGGA'S ARE GONNA GET THEIR DAY!!   \n",
       "\n",
       "   comment_id  target_race_black  target_race_white  sentiment  respect  \\\n",
       "0       35998               True              False        0.0      0.0   \n",
       "1        5735              False               True        1.0      0.0   \n",
       "2       44504               True              False        0.5      0.5   \n",
       "3       20001               True              False       -1.0      0.0   \n",
       "4       20006              False               True        0.0     -1.0   \n",
       "\n",
       "   insult  humiliate  status  dehumanize  violence  genocide  attack_defend  \\\n",
       "0    -1.0       -1.0     0.0         0.0       0.0       0.0            0.0   \n",
       "1     1.0       -1.0     0.0         1.0       0.0       0.0            0.0   \n",
       "2     0.5        0.0     0.0        -0.5       0.5       0.0            0.0   \n",
       "3    -2.0       -2.0    -1.0         0.0       0.0       0.0           -1.0   \n",
       "4     0.0        0.0     1.0         1.0       1.0       1.0            0.0   \n",
       "\n",
       "   hatespeech  \n",
       "0        -1.0  \n",
       "1         0.0  \n",
       "2         0.5  \n",
       "3         0.0  \n",
       "4         0.0  "
      ]
     },
     "execution_count": 159,
     "metadata": {},
     "output_type": "execute_result"
    }
   ],
   "source": [
    "df_comment"
   ]
  },
  {
   "cell_type": "code",
   "execution_count": null,
   "metadata": {},
   "outputs": [],
   "source": [
    "7573"
   ]
  },
  {
   "cell_type": "code",
   "execution_count": 142,
   "metadata": {},
   "outputs": [
    {
     "data": {
      "text/html": [
       "<div>\n",
       "<style scoped>\n",
       "    .dataframe tbody tr th:only-of-type {\n",
       "        vertical-align: middle;\n",
       "    }\n",
       "\n",
       "    .dataframe tbody tr th {\n",
       "        vertical-align: top;\n",
       "    }\n",
       "\n",
       "    .dataframe thead th {\n",
       "        text-align: right;\n",
       "    }\n",
       "</style>\n",
       "<table border=\"1\" class=\"dataframe\">\n",
       "  <thead>\n",
       "    <tr style=\"text-align: right;\">\n",
       "      <th></th>\n",
       "      <th>comment_id</th>\n",
       "      <th>labeler_id</th>\n",
       "      <th>raw_text</th>\n",
       "      <th>comment_text</th>\n",
       "      <th>annotator_text</th>\n",
       "      <th>preprocessed_text</th>\n",
       "      <th>predict_text</th>\n",
       "      <th>platform</th>\n",
       "      <th>sentiment</th>\n",
       "      <th>respect</th>\n",
       "      <th>...</th>\n",
       "      <th>annotator_religion_mormon</th>\n",
       "      <th>annotator_religion_muslim</th>\n",
       "      <th>annotator_religion_nothing</th>\n",
       "      <th>annotator_religion_other</th>\n",
       "      <th>annotator_religion_other_text</th>\n",
       "      <th>annotator_sexuality_bisexual</th>\n",
       "      <th>annotator_sexuality_gay</th>\n",
       "      <th>annotator_sexuality_straight</th>\n",
       "      <th>annotator_sexuality_other</th>\n",
       "      <th>annotator_sexuality_other_text</th>\n",
       "    </tr>\n",
       "  </thead>\n",
       "  <tbody>\n",
       "    <tr>\n",
       "      <th>81110</th>\n",
       "      <td>28964</td>\n",
       "      <td>8133</td>\n",
       "      <td>@lashynb13 @Codenamewiz @AllBadArthur The Blac...</td>\n",
       "      <td>@lashynb13 @Codenamewiz @AllBadArthur The Blac...</td>\n",
       "      <td>@lashynb13 @Codenamewiz @AllBadArthur The Blac...</td>\n",
       "      <td>@lashynb13 @codenamewiz @allbadarthur the blac...</td>\n",
       "      <td>@lashynb13 @Codenamewiz @AllBadArthur The Blac...</td>\n",
       "      <td>twitter</td>\n",
       "      <td>3</td>\n",
       "      <td>3</td>\n",
       "      <td>...</td>\n",
       "      <td>False</td>\n",
       "      <td>False</td>\n",
       "      <td>False</td>\n",
       "      <td>False</td>\n",
       "      <td></td>\n",
       "      <td>False</td>\n",
       "      <td>False</td>\n",
       "      <td>True</td>\n",
       "      <td>False</td>\n",
       "      <td></td>\n",
       "    </tr>\n",
       "    <tr>\n",
       "      <th>114530</th>\n",
       "      <td>30335</td>\n",
       "      <td>8133</td>\n",
       "      <td>Great example of a miserable hoe 🤣 it’s been m...</td>\n",
       "      <td>Great example of a miserable hoe ? it's been m...</td>\n",
       "      <td>Great example of a miserable hoe 🤣 it's been m...</td>\n",
       "      <td>great example of a miserable hoe 🤣 it's been m...</td>\n",
       "      <td>Great example of a miserable hoe 🤣 it's been m...</td>\n",
       "      <td>twitter</td>\n",
       "      <td>4</td>\n",
       "      <td>3</td>\n",
       "      <td>...</td>\n",
       "      <td>False</td>\n",
       "      <td>False</td>\n",
       "      <td>False</td>\n",
       "      <td>False</td>\n",
       "      <td></td>\n",
       "      <td>False</td>\n",
       "      <td>False</td>\n",
       "      <td>True</td>\n",
       "      <td>False</td>\n",
       "      <td></td>\n",
       "    </tr>\n",
       "    <tr>\n",
       "      <th>203656</th>\n",
       "      <td>49689</td>\n",
       "      <td>8133</td>\n",
       "      <td>Probably a white brit. Those wankers are tryin...</td>\n",
       "      <td>Probably a white brit. Those wankers are tryin...</td>\n",
       "      <td>Probably a white brit. Those wankers are tryin...</td>\n",
       "      <td>probably a white brit. those wankers are tryin...</td>\n",
       "      <td>Probably a white brit. Those wankers are tryin...</td>\n",
       "      <td>youtube</td>\n",
       "      <td>4</td>\n",
       "      <td>3</td>\n",
       "      <td>...</td>\n",
       "      <td>False</td>\n",
       "      <td>False</td>\n",
       "      <td>False</td>\n",
       "      <td>False</td>\n",
       "      <td></td>\n",
       "      <td>False</td>\n",
       "      <td>False</td>\n",
       "      <td>True</td>\n",
       "      <td>False</td>\n",
       "      <td></td>\n",
       "    </tr>\n",
       "    <tr>\n",
       "      <th>225937</th>\n",
       "      <td>20001</td>\n",
       "      <td>8133</td>\n",
       "      <td>@Legionary1488 @JomavaesJos now we have a Eblo...</td>\n",
       "      <td>@Legionary1488 @JomavaesJos now we have a Eblo...</td>\n",
       "      <td>@Legionary1488 @JomavaesJos now we have a Eblo...</td>\n",
       "      <td>@legionary1488 @jomavaesjos now we have a eblo...</td>\n",
       "      <td>@Legionary1488 @JomavaesJos now we have a Eblo...</td>\n",
       "      <td>reference</td>\n",
       "      <td>4</td>\n",
       "      <td>4</td>\n",
       "      <td>...</td>\n",
       "      <td>False</td>\n",
       "      <td>False</td>\n",
       "      <td>False</td>\n",
       "      <td>False</td>\n",
       "      <td></td>\n",
       "      <td>False</td>\n",
       "      <td>False</td>\n",
       "      <td>True</td>\n",
       "      <td>False</td>\n",
       "      <td></td>\n",
       "    </tr>\n",
       "    <tr>\n",
       "      <th>237080</th>\n",
       "      <td>20003</td>\n",
       "      <td>8133</td>\n",
       "      <td>#whitepower...I'll hang you nigger</td>\n",
       "      <td>#whitepower...I'll hang you nigger</td>\n",
       "      <td>#whitepower...I'll hang you nigger</td>\n",
       "      <td>#whitepower...i'll hang you nigger</td>\n",
       "      <td>#whitepower...I'll hang you nigger</td>\n",
       "      <td>reference</td>\n",
       "      <td>4</td>\n",
       "      <td>4</td>\n",
       "      <td>...</td>\n",
       "      <td>False</td>\n",
       "      <td>False</td>\n",
       "      <td>False</td>\n",
       "      <td>False</td>\n",
       "      <td></td>\n",
       "      <td>False</td>\n",
       "      <td>False</td>\n",
       "      <td>True</td>\n",
       "      <td>False</td>\n",
       "      <td></td>\n",
       "    </tr>\n",
       "  </tbody>\n",
       "</table>\n",
       "<p>5 rows × 150 columns</p>\n",
       "</div>"
      ],
      "text/plain": [
       "        comment_id  labeler_id  \\\n",
       "81110        28964        8133   \n",
       "114530       30335        8133   \n",
       "203656       49689        8133   \n",
       "225937       20001        8133   \n",
       "237080       20003        8133   \n",
       "\n",
       "                                                 raw_text  \\\n",
       "81110   @lashynb13 @Codenamewiz @AllBadArthur The Blac...   \n",
       "114530  Great example of a miserable hoe 🤣 it’s been m...   \n",
       "203656  Probably a white brit. Those wankers are tryin...   \n",
       "225937  @Legionary1488 @JomavaesJos now we have a Eblo...   \n",
       "237080                 #whitepower...I'll hang you nigger   \n",
       "\n",
       "                                             comment_text  \\\n",
       "81110   @lashynb13 @Codenamewiz @AllBadArthur The Blac...   \n",
       "114530  Great example of a miserable hoe ? it's been m...   \n",
       "203656  Probably a white brit. Those wankers are tryin...   \n",
       "225937  @Legionary1488 @JomavaesJos now we have a Eblo...   \n",
       "237080                 #whitepower...I'll hang you nigger   \n",
       "\n",
       "                                           annotator_text  \\\n",
       "81110   @lashynb13 @Codenamewiz @AllBadArthur The Blac...   \n",
       "114530  Great example of a miserable hoe 🤣 it's been m...   \n",
       "203656  Probably a white brit. Those wankers are tryin...   \n",
       "225937  @Legionary1488 @JomavaesJos now we have a Eblo...   \n",
       "237080                 #whitepower...I'll hang you nigger   \n",
       "\n",
       "                                        preprocessed_text  \\\n",
       "81110   @lashynb13 @codenamewiz @allbadarthur the blac...   \n",
       "114530  great example of a miserable hoe 🤣 it's been m...   \n",
       "203656  probably a white brit. those wankers are tryin...   \n",
       "225937  @legionary1488 @jomavaesjos now we have a eblo...   \n",
       "237080                 #whitepower...i'll hang you nigger   \n",
       "\n",
       "                                             predict_text   platform  \\\n",
       "81110   @lashynb13 @Codenamewiz @AllBadArthur The Blac...    twitter   \n",
       "114530  Great example of a miserable hoe 🤣 it's been m...    twitter   \n",
       "203656  Probably a white brit. Those wankers are tryin...    youtube   \n",
       "225937  @Legionary1488 @JomavaesJos now we have a Eblo...  reference   \n",
       "237080                 #whitepower...I'll hang you nigger  reference   \n",
       "\n",
       "        sentiment  respect  ...  annotator_religion_mormon  \\\n",
       "81110           3        3  ...                      False   \n",
       "114530          4        3  ...                      False   \n",
       "203656          4        3  ...                      False   \n",
       "225937          4        4  ...                      False   \n",
       "237080          4        4  ...                      False   \n",
       "\n",
       "        annotator_religion_muslim  annotator_religion_nothing  \\\n",
       "81110                       False                       False   \n",
       "114530                      False                       False   \n",
       "203656                      False                       False   \n",
       "225937                      False                       False   \n",
       "237080                      False                       False   \n",
       "\n",
       "        annotator_religion_other  annotator_religion_other_text  \\\n",
       "81110                      False                                  \n",
       "114530                     False                                  \n",
       "203656                     False                                  \n",
       "225937                     False                                  \n",
       "237080                     False                                  \n",
       "\n",
       "        annotator_sexuality_bisexual  annotator_sexuality_gay  \\\n",
       "81110                          False                    False   \n",
       "114530                         False                    False   \n",
       "203656                         False                    False   \n",
       "225937                         False                    False   \n",
       "237080                         False                    False   \n",
       "\n",
       "        annotator_sexuality_straight  annotator_sexuality_other  \\\n",
       "81110                           True                      False   \n",
       "114530                          True                      False   \n",
       "203656                          True                      False   \n",
       "225937                          True                      False   \n",
       "237080                          True                      False   \n",
       "\n",
       "        annotator_sexuality_other_text  \n",
       "81110                                   \n",
       "114530                                  \n",
       "203656                                  \n",
       "225937                                  \n",
       "237080                                  \n",
       "\n",
       "[5 rows x 150 columns]"
      ]
     },
     "execution_count": 142,
     "metadata": {},
     "output_type": "execute_result"
    }
   ],
   "source": [
    "data[data['labeler_id'] == annotator]"
   ]
  },
  {
   "cell_type": "code",
   "execution_count": null,
   "metadata": {},
   "outputs": [],
   "source": []
  }
 ],
 "metadata": {
  "kernelspec": {
   "display_name": "hate",
   "language": "python",
   "name": "hate"
  },
  "language_info": {
   "codemirror_mode": {
    "name": "ipython",
    "version": 3
   },
   "file_extension": ".py",
   "mimetype": "text/x-python",
   "name": "python",
   "nbconvert_exporter": "python",
   "pygments_lexer": "ipython3",
   "version": "3.7.9"
  }
 },
 "nbformat": 4,
 "nbformat_minor": 4
}
