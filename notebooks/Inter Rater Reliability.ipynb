{
 "cells": [
  {
   "cell_type": "code",
   "execution_count": 134,
   "id": "c764f0da-a406-49eb-b7e4-a4fdc4477c63",
   "metadata": {},
   "outputs": [],
   "source": [
    "import numpy as np\n",
    "import pandas as pd\n",
    "import seaborn as sns\n",
    "\n",
    "\n",
    "import csv\n",
    "\n",
    "import os \n",
    "import sklearn\n",
    "from sklearn.preprocessing import OneHotEncoder\n",
    "\n",
    "from sklearn.linear_model import LassoCV\n",
    "from sklearn.linear_model import LogisticRegression\n",
    "from sklearn.model_selection import train_test_split\n",
    "from sklearn.metrics import confusion_matrix\n",
    "\n",
    "import statsmodels.api as sm\n",
    "\n",
    "import matplotlib.pyplot as plt\n",
    "%matplotlib inline"
   ]
  },
  {
   "cell_type": "code",
   "execution_count": 10,
   "id": "9424c005-254c-4777-90b7-e4f64d53d43e",
   "metadata": {},
   "outputs": [
    {
     "data": {
      "text/html": [
       "<div>\n",
       "<style scoped>\n",
       "    .dataframe tbody tr th:only-of-type {\n",
       "        vertical-align: middle;\n",
       "    }\n",
       "\n",
       "    .dataframe tbody tr th {\n",
       "        vertical-align: top;\n",
       "    }\n",
       "\n",
       "    .dataframe thead th {\n",
       "        text-align: right;\n",
       "    }\n",
       "</style>\n",
       "<table border=\"1\" class=\"dataframe\">\n",
       "  <thead>\n",
       "    <tr style=\"text-align: right;\">\n",
       "      <th></th>\n",
       "      <th>sentiment</th>\n",
       "      <th>respect</th>\n",
       "      <th>insult</th>\n",
       "      <th>humiliate</th>\n",
       "      <th>status</th>\n",
       "      <th>dehumanize</th>\n",
       "      <th>violence_phys</th>\n",
       "      <th>genocide</th>\n",
       "      <th>attack_defend</th>\n",
       "      <th>hatespeech</th>\n",
       "      <th>...</th>\n",
       "      <th>demo_sexual_orien_2</th>\n",
       "      <th>demo_sexual_orien_3</th>\n",
       "      <th>demo_sexual_orien_4</th>\n",
       "      <th>demo_sexual_orien_5</th>\n",
       "      <th>demo_sexual_orien_4_text</th>\n",
       "      <th>demo_ideology</th>\n",
       "      <th>locationlatitude</th>\n",
       "      <th>locationlongitude</th>\n",
       "      <th>identity</th>\n",
       "      <th>hypothesis</th>\n",
       "    </tr>\n",
       "  </thead>\n",
       "  <tbody>\n",
       "    <tr>\n",
       "      <th>0</th>\n",
       "      <td>0.0</td>\n",
       "      <td>0.0</td>\n",
       "      <td>0.0</td>\n",
       "      <td>0.0</td>\n",
       "      <td>0.0</td>\n",
       "      <td>0.0</td>\n",
       "      <td>0.0</td>\n",
       "      <td>0.0</td>\n",
       "      <td>0.0</td>\n",
       "      <td>0.0</td>\n",
       "      <td>...</td>\n",
       "      <td>NaN</td>\n",
       "      <td>NaN</td>\n",
       "      <td>NaN</td>\n",
       "      <td>NaN</td>\n",
       "      <td></td>\n",
       "      <td>4.0</td>\n",
       "      <td>37.55029296875</td>\n",
       "      <td>-77.39420318603515625</td>\n",
       "      <td>0.917681</td>\n",
       "      <td>-1.130178</td>\n",
       "    </tr>\n",
       "    <tr>\n",
       "      <th>1</th>\n",
       "      <td>0.0</td>\n",
       "      <td>0.0</td>\n",
       "      <td>0.0</td>\n",
       "      <td>0.0</td>\n",
       "      <td>0.0</td>\n",
       "      <td>0.0</td>\n",
       "      <td>0.0</td>\n",
       "      <td>0.0</td>\n",
       "      <td>1.0</td>\n",
       "      <td>0.0</td>\n",
       "      <td>...</td>\n",
       "      <td>NaN</td>\n",
       "      <td>NaN</td>\n",
       "      <td>NaN</td>\n",
       "      <td>NaN</td>\n",
       "      <td></td>\n",
       "      <td>4.0</td>\n",
       "      <td>32.9568939208984375</td>\n",
       "      <td>-96.83170318603515625</td>\n",
       "      <td>0.918119</td>\n",
       "      <td>-1.146973</td>\n",
       "    </tr>\n",
       "    <tr>\n",
       "      <th>2</th>\n",
       "      <td>4.0</td>\n",
       "      <td>4.0</td>\n",
       "      <td>3.0</td>\n",
       "      <td>2.0</td>\n",
       "      <td>1.0</td>\n",
       "      <td>1.0</td>\n",
       "      <td>0.0</td>\n",
       "      <td>0.0</td>\n",
       "      <td>3.0</td>\n",
       "      <td>1.0</td>\n",
       "      <td>...</td>\n",
       "      <td>NaN</td>\n",
       "      <td>NaN</td>\n",
       "      <td>NaN</td>\n",
       "      <td>NaN</td>\n",
       "      <td></td>\n",
       "      <td>5.0</td>\n",
       "      <td>39.3361053466796875</td>\n",
       "      <td>-76.53890228271484375</td>\n",
       "      <td>0.985910</td>\n",
       "      <td>-0.207369</td>\n",
       "    </tr>\n",
       "    <tr>\n",
       "      <th>3</th>\n",
       "      <td>2.0</td>\n",
       "      <td>3.0</td>\n",
       "      <td>1.0</td>\n",
       "      <td>0.0</td>\n",
       "      <td>0.0</td>\n",
       "      <td>0.0</td>\n",
       "      <td>0.0</td>\n",
       "      <td>0.0</td>\n",
       "      <td>2.0</td>\n",
       "      <td>0.0</td>\n",
       "      <td>...</td>\n",
       "      <td>NaN</td>\n",
       "      <td>NaN</td>\n",
       "      <td>NaN</td>\n",
       "      <td>NaN</td>\n",
       "      <td></td>\n",
       "      <td>4.0</td>\n",
       "      <td>37.1439971923828125</td>\n",
       "      <td>-94.4727020263671875</td>\n",
       "      <td>0.969761</td>\n",
       "      <td>-0.055536</td>\n",
       "    </tr>\n",
       "    <tr>\n",
       "      <th>4</th>\n",
       "      <td>4.0</td>\n",
       "      <td>4.0</td>\n",
       "      <td>3.0</td>\n",
       "      <td>2.0</td>\n",
       "      <td>1.0</td>\n",
       "      <td>1.0</td>\n",
       "      <td>1.0</td>\n",
       "      <td>0.0</td>\n",
       "      <td>2.0</td>\n",
       "      <td>1.0</td>\n",
       "      <td>...</td>\n",
       "      <td>NaN</td>\n",
       "      <td>NaN</td>\n",
       "      <td>NaN</td>\n",
       "      <td>NaN</td>\n",
       "      <td></td>\n",
       "      <td>4.0</td>\n",
       "      <td>34.215301513671875</td>\n",
       "      <td>-79.64679718017578125</td>\n",
       "      <td>0.935462</td>\n",
       "      <td>0.104225</td>\n",
       "    </tr>\n",
       "  </tbody>\n",
       "</table>\n",
       "<p>5 rows × 135 columns</p>\n",
       "</div>"
      ],
      "text/plain": [
       "   sentiment  respect  insult  humiliate  status  dehumanize  violence_phys  \\\n",
       "0        0.0      0.0     0.0        0.0     0.0         0.0            0.0   \n",
       "1        0.0      0.0     0.0        0.0     0.0         0.0            0.0   \n",
       "2        4.0      4.0     3.0        2.0     1.0         1.0            0.0   \n",
       "3        2.0      3.0     1.0        0.0     0.0         0.0            0.0   \n",
       "4        4.0      4.0     3.0        2.0     1.0         1.0            1.0   \n",
       "\n",
       "   genocide  attack_defend  hatespeech  ...  demo_sexual_orien_2  \\\n",
       "0       0.0            0.0         0.0  ...                  NaN   \n",
       "1       0.0            1.0         0.0  ...                  NaN   \n",
       "2       0.0            3.0         1.0  ...                  NaN   \n",
       "3       0.0            2.0         0.0  ...                  NaN   \n",
       "4       0.0            2.0         1.0  ...                  NaN   \n",
       "\n",
       "  demo_sexual_orien_3 demo_sexual_orien_4 demo_sexual_orien_5  \\\n",
       "0                 NaN                 NaN                 NaN   \n",
       "1                 NaN                 NaN                 NaN   \n",
       "2                 NaN                 NaN                 NaN   \n",
       "3                 NaN                 NaN                 NaN   \n",
       "4                 NaN                 NaN                 NaN   \n",
       "\n",
       "   demo_sexual_orien_4_text  demo_ideology     locationlatitude  \\\n",
       "0                                      4.0       37.55029296875   \n",
       "1                                      4.0  32.9568939208984375   \n",
       "2                                      5.0  39.3361053466796875   \n",
       "3                                      4.0  37.1439971923828125   \n",
       "4                                      4.0   34.215301513671875   \n",
       "\n",
       "       locationlongitude  identity  hypothesis  \n",
       "0  -77.39420318603515625  0.917681   -1.130178  \n",
       "1  -96.83170318603515625  0.918119   -1.146973  \n",
       "2  -76.53890228271484375  0.985910   -0.207369  \n",
       "3   -94.4727020263671875  0.969761   -0.055536  \n",
       "4  -79.64679718017578125  0.935462    0.104225  \n",
       "\n",
       "[5 rows x 135 columns]"
      ]
     },
     "execution_count": 10,
     "metadata": {},
     "output_type": "execute_result"
    }
   ],
   "source": [
    "data_multi = pd.read_feather('/home/rbarreto/data/scaled-facets-multi-50k-v4.feather')\n",
    "data_multi.head(5)"
   ]
  },
  {
   "cell_type": "code",
   "execution_count": null,
   "id": "c5b8e7b4-b429-4a5a-b14e-3acebc48545e",
   "metadata": {},
   "outputs": [],
   "source": [
    "#for overall comments we don't see a change\n",
    "\n",
    "#but then we when we look at comments about their group\n",
    "\n",
    "#does this mean that they're more lenient / harsher for their own group?\n",
    "\n",
    "#how do we interpret this? ie what happens if we ask white pepole on white text \n",
    "\n",
    "#what does this mean in terms of recommendations of what to do next\n",
    "\n",
    "#what are applications for social media companies? "
   ]
  },
  {
   "cell_type": "code",
   "execution_count": 11,
   "id": "0f865ca6-c5b9-4ad3-854c-9d61db462585",
   "metadata": {},
   "outputs": [],
   "source": [
    "from sklearn.metrics import cohen_kappa_score\n",
    "\n",
    "from statsmodels.stats.inter_rater import fleiss_kappa\n"
   ]
  },
  {
   "cell_type": "code",
   "execution_count": 12,
   "id": "a305c79c-d31d-4e98-adfc-5c2c18c6d047",
   "metadata": {},
   "outputs": [
    {
     "data": {
      "text/plain": [
       "2292"
      ]
     },
     "execution_count": 12,
     "metadata": {},
     "output_type": "execute_result"
    }
   ],
   "source": [
    "#labeler 1, black labelers, black content on dehumanize specifically\n",
    "\n",
    "df_white_labeler_black_target = data_multi[(data_multi['demo_race_ethnicitie_3'] == 1) & (data_multi['target_race_1'] == 1)]\n",
    "\n",
    "labeler_1 = df_white_labeler_black_target['dehumanize'].values\n",
    "\n",
    "len(labeler_1)\n",
    "\n",
    "\n"
   ]
  },
  {
   "cell_type": "code",
   "execution_count": 13,
   "id": "798a3123-da68-4be3-ac65-7c51d6e9ea8a",
   "metadata": {},
   "outputs": [
    {
     "data": {
      "text/plain": [
       "18545"
      ]
     },
     "execution_count": 13,
     "metadata": {},
     "output_type": "execute_result"
    }
   ],
   "source": [
    "#labeler 2, white labelers, black content on dehumanize specifically\n",
    "df_black_labeler_target = data_multi[(data_multi['demo_race_ethnicitie_6'] == 1) & (data_multi['target_race_1'] == 1)]\n",
    "\n",
    "labeler_2 = df_black_labeler_target['dehumanize'].values\n",
    "\n",
    "len(labeler_2)"
   ]
  },
  {
   "cell_type": "code",
   "execution_count": null,
   "id": "ab6aa61c-1ce1-4d16-adae-39894f866659",
   "metadata": {},
   "outputs": [],
   "source": [
    "#how consistent are white labelers on assigning ratings to comments of a specific type?\n",
    "#and how consistent are black labelers?\n",
    "\n",
    "#find population of white labelers and some set of comments that all of those raters rated\n",
    "#for each of those comments, get the ratings\n",
    "#each column is a different item (sentiment, dehumnization etc)\n",
    "#concat diff comments together \n",
    "#comment 1, dehumanize is second column\n",
    "\n",
    "#white annotators rating comments based on white identity \n",
    "#black annotators commenting basis of black identity \n",
    "\n",
    "#each comment has 9 columns\n",
    "#total number of columns: 9 items x total number of comments \n",
    "#for that set of comments, getting same set of annotators\n",
    "\n",
    "#purposefully had some overlap but not complete overlap (detailed in the manuscript figure 2)"
   ]
  },
  {
   "cell_type": "code",
   "execution_count": null,
   "id": "38b70e42-c478-4555-bbbd-a1625adff2a1",
   "metadata": {},
   "outputs": [],
   "source": [
    "#cohen's kappa only works with two different annotators\n",
    "#here looking at all annotator scores for particular set of comments\n",
    "\n",
    "#to do: find inter annotator agreement metrics that can work for grups of annotators instead of individual ones\n",
    "# sklearn.metrics.cohen_kappa_score(labeler_1, labeler_2)"
   ]
  },
  {
   "cell_type": "code",
   "execution_count": 5,
   "id": "e6f29ca8-0f95-4ed9-af47-8817b79f1cc4",
   "metadata": {},
   "outputs": [],
   "source": [
    "features = ['sentiment', 'respect', 'insult', 'humiliate', 'status',\n",
    "       'dehumanize', 'violence_phys', 'genocide', 'attack_defend',\n",
    "       'hatespeech']"
   ]
  },
  {
   "cell_type": "code",
   "execution_count": 6,
   "id": "96260932-3a39-44ca-8759-31e129ea18ff",
   "metadata": {},
   "outputs": [],
   "source": [
    "data_items = data_multi[features]"
   ]
  },
  {
   "cell_type": "code",
   "execution_count": 7,
   "id": "6c08a1c6-b29b-434e-8704-57b6a36c4ed9",
   "metadata": {},
   "outputs": [
    {
     "data": {
      "text/html": [
       "<div>\n",
       "<style scoped>\n",
       "    .dataframe tbody tr th:only-of-type {\n",
       "        vertical-align: middle;\n",
       "    }\n",
       "\n",
       "    .dataframe tbody tr th {\n",
       "        vertical-align: top;\n",
       "    }\n",
       "\n",
       "    .dataframe thead th {\n",
       "        text-align: right;\n",
       "    }\n",
       "</style>\n",
       "<table border=\"1\" class=\"dataframe\">\n",
       "  <thead>\n",
       "    <tr style=\"text-align: right;\">\n",
       "      <th></th>\n",
       "      <th>sentiment</th>\n",
       "      <th>respect</th>\n",
       "      <th>insult</th>\n",
       "      <th>humiliate</th>\n",
       "      <th>status</th>\n",
       "      <th>dehumanize</th>\n",
       "      <th>violence_phys</th>\n",
       "      <th>genocide</th>\n",
       "      <th>attack_defend</th>\n",
       "      <th>hatespeech</th>\n",
       "    </tr>\n",
       "  </thead>\n",
       "  <tbody>\n",
       "    <tr>\n",
       "      <th>0</th>\n",
       "      <td>0.0</td>\n",
       "      <td>0.0</td>\n",
       "      <td>0.0</td>\n",
       "      <td>0.0</td>\n",
       "      <td>0.0</td>\n",
       "      <td>0.0</td>\n",
       "      <td>0.0</td>\n",
       "      <td>0.0</td>\n",
       "      <td>0.0</td>\n",
       "      <td>0.0</td>\n",
       "    </tr>\n",
       "    <tr>\n",
       "      <th>1</th>\n",
       "      <td>0.0</td>\n",
       "      <td>0.0</td>\n",
       "      <td>0.0</td>\n",
       "      <td>0.0</td>\n",
       "      <td>0.0</td>\n",
       "      <td>0.0</td>\n",
       "      <td>0.0</td>\n",
       "      <td>0.0</td>\n",
       "      <td>1.0</td>\n",
       "      <td>0.0</td>\n",
       "    </tr>\n",
       "    <tr>\n",
       "      <th>2</th>\n",
       "      <td>4.0</td>\n",
       "      <td>4.0</td>\n",
       "      <td>3.0</td>\n",
       "      <td>2.0</td>\n",
       "      <td>1.0</td>\n",
       "      <td>1.0</td>\n",
       "      <td>0.0</td>\n",
       "      <td>0.0</td>\n",
       "      <td>3.0</td>\n",
       "      <td>1.0</td>\n",
       "    </tr>\n",
       "    <tr>\n",
       "      <th>3</th>\n",
       "      <td>2.0</td>\n",
       "      <td>3.0</td>\n",
       "      <td>1.0</td>\n",
       "      <td>0.0</td>\n",
       "      <td>0.0</td>\n",
       "      <td>0.0</td>\n",
       "      <td>0.0</td>\n",
       "      <td>0.0</td>\n",
       "      <td>2.0</td>\n",
       "      <td>0.0</td>\n",
       "    </tr>\n",
       "    <tr>\n",
       "      <th>4</th>\n",
       "      <td>4.0</td>\n",
       "      <td>4.0</td>\n",
       "      <td>3.0</td>\n",
       "      <td>2.0</td>\n",
       "      <td>1.0</td>\n",
       "      <td>1.0</td>\n",
       "      <td>1.0</td>\n",
       "      <td>0.0</td>\n",
       "      <td>2.0</td>\n",
       "      <td>1.0</td>\n",
       "    </tr>\n",
       "  </tbody>\n",
       "</table>\n",
       "</div>"
      ],
      "text/plain": [
       "   sentiment  respect  insult  humiliate  status  dehumanize  violence_phys  \\\n",
       "0        0.0      0.0     0.0        0.0     0.0         0.0            0.0   \n",
       "1        0.0      0.0     0.0        0.0     0.0         0.0            0.0   \n",
       "2        4.0      4.0     3.0        2.0     1.0         1.0            0.0   \n",
       "3        2.0      3.0     1.0        0.0     0.0         0.0            0.0   \n",
       "4        4.0      4.0     3.0        2.0     1.0         1.0            1.0   \n",
       "\n",
       "   genocide  attack_defend  hatespeech  \n",
       "0       0.0            0.0         0.0  \n",
       "1       0.0            1.0         0.0  \n",
       "2       0.0            3.0         1.0  \n",
       "3       0.0            2.0         0.0  \n",
       "4       0.0            2.0         1.0  "
      ]
     },
     "execution_count": 7,
     "metadata": {},
     "output_type": "execute_result"
    }
   ],
   "source": [
    "data_items.head()"
   ]
  },
  {
   "cell_type": "code",
   "execution_count": 6,
   "id": "cc683833-9a97-48bd-bf7f-0716447f60de",
   "metadata": {},
   "outputs": [],
   "source": [
    "items = ['sentiment', 'respect', 'insult', 'humiliate', 'status',\n",
    "       'dehumanize', 'violence_phys', 'genocide', 'attack_defend',\n",
    "       'hatespeech']"
   ]
  },
  {
   "cell_type": "code",
   "execution_count": 9,
   "id": "d3206d28-20ef-434f-8548-1b35a067d848",
   "metadata": {},
   "outputs": [
    {
     "data": {
      "text/plain": [
       "range(0, 5)"
      ]
     },
     "execution_count": 9,
     "metadata": {},
     "output_type": "execute_result"
    }
   ],
   "source": [
    "range(len(data_multi['sentiment'].value_counts()))"
   ]
  },
  {
   "cell_type": "code",
   "execution_count": 10,
   "id": "d3b4e850-4bf4-4ac4-bf6c-e63dae2d06df",
   "metadata": {},
   "outputs": [
    {
     "ename": "SyntaxError",
     "evalue": "invalid syntax (<ipython-input-10-d81c2b3bf4d9>, line 4)",
     "output_type": "error",
     "traceback": [
      "\u001b[0;36m  File \u001b[0;32m\"<ipython-input-10-d81c2b3bf4d9>\"\u001b[0;36m, line \u001b[0;32m4\u001b[0m\n\u001b[0;31m    range(len(data_multi[i].value_counts()))\u001b[0m\n\u001b[0m    ^\u001b[0m\n\u001b[0;31mSyntaxError\u001b[0m\u001b[0;31m:\u001b[0m invalid syntax\n"
     ]
    }
   ],
   "source": [
    "category_combo = []\n",
    "for i in items:\n",
    "    category_combo.append(i \n",
    "    range(len(data_multi[i].value_counts()))"
   ]
  },
  {
   "cell_type": "code",
   "execution_count": 11,
   "id": "a911f1cb-9def-43ea-8963-1d3dd32e3dcd",
   "metadata": {},
   "outputs": [
    {
     "name": "stdout",
     "output_type": "stream",
     "text": [
      "0\n",
      "1\n",
      "2\n",
      "3\n",
      "4\n"
     ]
    }
   ],
   "source": [
    "for j in range(len(data_multi['sentiment'].value_counts())):\n",
    "    print(j)"
   ]
  },
  {
   "cell_type": "code",
   "execution_count": 12,
   "id": "7eb729ca-7577-4c7b-96db-9679edf411fd",
   "metadata": {},
   "outputs": [
    {
     "name": "stdout",
     "output_type": "stream",
     "text": [
      "sentiment\n",
      "respect\n",
      "insult\n",
      "humiliate\n",
      "status\n",
      "dehumanize\n",
      "violence_phys\n",
      "genocide\n",
      "attack_defend\n",
      "hatespeech\n"
     ]
    }
   ],
   "source": [
    "for i in items:\n",
    "    print(i)"
   ]
  },
  {
   "cell_type": "code",
   "execution_count": 13,
   "id": "b089c699-6e3d-4a7b-8d3b-158b4e219d94",
   "metadata": {},
   "outputs": [],
   "source": [
    "category_combo = []\n",
    "for i in items:\n",
    "    for j in range(len(data_multi[i].value_counts())):\n",
    "                   category_combo.append([i + '_' +str(j)])"
   ]
  },
  {
   "cell_type": "code",
   "execution_count": 14,
   "id": "2aeb8e05-dd98-4aec-81d6-78fb6f35ef82",
   "metadata": {},
   "outputs": [
    {
     "data": {
      "text/plain": [
       "[['sentiment_0'],\n",
       " ['sentiment_1'],\n",
       " ['sentiment_2'],\n",
       " ['sentiment_3'],\n",
       " ['sentiment_4'],\n",
       " ['respect_0'],\n",
       " ['respect_1'],\n",
       " ['respect_2'],\n",
       " ['respect_3'],\n",
       " ['respect_4'],\n",
       " ['insult_0'],\n",
       " ['insult_1'],\n",
       " ['insult_2'],\n",
       " ['insult_3'],\n",
       " ['humiliate_0'],\n",
       " ['humiliate_1'],\n",
       " ['humiliate_2'],\n",
       " ['status_0'],\n",
       " ['status_1'],\n",
       " ['dehumanize_0'],\n",
       " ['dehumanize_1'],\n",
       " ['violence_phys_0'],\n",
       " ['violence_phys_1'],\n",
       " ['genocide_0'],\n",
       " ['genocide_1'],\n",
       " ['attack_defend_0'],\n",
       " ['attack_defend_1'],\n",
       " ['attack_defend_2'],\n",
       " ['attack_defend_3'],\n",
       " ['hatespeech_0'],\n",
       " ['hatespeech_1']]"
      ]
     },
     "execution_count": 14,
     "metadata": {},
     "output_type": "execute_result"
    }
   ],
   "source": [
    "category_combo"
   ]
  },
  {
   "cell_type": "code",
   "execution_count": 15,
   "id": "1cbfbebb-84b6-4287-ae64-7ac957278847",
   "metadata": {},
   "outputs": [
    {
     "ename": "SyntaxError",
     "evalue": "invalid syntax (<ipython-input-15-9ff97e125920>, line 2)",
     "output_type": "error",
     "traceback": [
      "\u001b[0;36m  File \u001b[0;32m\"<ipython-input-15-9ff97e125920>\"\u001b[0;36m, line \u001b[0;32m2\u001b[0m\n\u001b[0;31m    data_combo[]\u001b[0m\n\u001b[0m               ^\u001b[0m\n\u001b[0;31mSyntaxError\u001b[0m\u001b[0;31m:\u001b[0m invalid syntax\n"
     ]
    }
   ],
   "source": [
    "data_combo = pd.DataFrame()\n",
    "data_combo[]"
   ]
  },
  {
   "cell_type": "code",
   "execution_count": 16,
   "id": "4b87effd-7975-41fe-bebc-3743fdf86559",
   "metadata": {},
   "outputs": [],
   "source": [
    "category = []\n",
    "for i in category_combo:\n",
    "    category.append(i[0])"
   ]
  },
  {
   "cell_type": "code",
   "execution_count": 17,
   "id": "867736f4-1f18-4870-ba6b-b19e696fdcd2",
   "metadata": {},
   "outputs": [
    {
     "data": {
      "text/plain": [
       "['sentiment_0',\n",
       " 'sentiment_1',\n",
       " 'sentiment_2',\n",
       " 'sentiment_3',\n",
       " 'sentiment_4',\n",
       " 'respect_0',\n",
       " 'respect_1',\n",
       " 'respect_2',\n",
       " 'respect_3',\n",
       " 'respect_4',\n",
       " 'insult_0',\n",
       " 'insult_1',\n",
       " 'insult_2',\n",
       " 'insult_3',\n",
       " 'humiliate_0',\n",
       " 'humiliate_1',\n",
       " 'humiliate_2',\n",
       " 'status_0',\n",
       " 'status_1',\n",
       " 'dehumanize_0',\n",
       " 'dehumanize_1',\n",
       " 'violence_phys_0',\n",
       " 'violence_phys_1',\n",
       " 'genocide_0',\n",
       " 'genocide_1',\n",
       " 'attack_defend_0',\n",
       " 'attack_defend_1',\n",
       " 'attack_defend_2',\n",
       " 'attack_defend_3',\n",
       " 'hatespeech_0',\n",
       " 'hatespeech_1']"
      ]
     },
     "execution_count": 17,
     "metadata": {},
     "output_type": "execute_result"
    }
   ],
   "source": [
    "category"
   ]
  },
  {
   "cell_type": "code",
   "execution_count": null,
   "id": "0f8ac689-bdf3-478e-a6c1-eee25e066b73",
   "metadata": {},
   "outputs": [],
   "source": []
  },
  {
   "cell_type": "code",
   "execution_count": 18,
   "id": "d50c7a33-89b0-48b4-abe1-04c03c70e0dc",
   "metadata": {},
   "outputs": [
    {
     "ename": "NameError",
     "evalue": "name 'data_combo' is not defined",
     "output_type": "error",
     "traceback": [
      "\u001b[0;31m---------------------------------------------------------------------------\u001b[0m",
      "\u001b[0;31mNameError\u001b[0m                                 Traceback (most recent call last)",
      "\u001b[0;32m<ipython-input-18-a0ee886f8a7c>\u001b[0m in \u001b[0;36m<module>\u001b[0;34m\u001b[0m\n\u001b[0;32m----> 1\u001b[0;31m \u001b[0mdata_combo\u001b[0m \u001b[0;34m=\u001b[0m \u001b[0mdata_combo\u001b[0m\u001b[0;34m.\u001b[0m\u001b[0mreindex\u001b[0m\u001b[0;34m(\u001b[0m\u001b[0mdata_combo\u001b[0m\u001b[0;34m.\u001b[0m\u001b[0mcolumns\u001b[0m\u001b[0;34m.\u001b[0m\u001b[0munion\u001b[0m\u001b[0;34m(\u001b[0m\u001b[0mcategory\u001b[0m\u001b[0;34m)\u001b[0m\u001b[0;34m,\u001b[0m \u001b[0maxis\u001b[0m\u001b[0;34m=\u001b[0m\u001b[0;36m1\u001b[0m\u001b[0;34m)\u001b[0m\u001b[0;34m\u001b[0m\u001b[0;34m\u001b[0m\u001b[0m\n\u001b[0m\u001b[1;32m      2\u001b[0m \u001b[0mdata_combo\u001b[0m\u001b[0;34m\u001b[0m\u001b[0;34m\u001b[0m\u001b[0m\n\u001b[1;32m      3\u001b[0m \u001b[0;31m#the reaosn we are doing the combinations is bc there isn't a 1:1 between category and code\u001b[0m\u001b[0;34m\u001b[0m\u001b[0;34m\u001b[0m\u001b[0;34m\u001b[0m\u001b[0m\n\u001b[1;32m      4\u001b[0m \u001b[0;31m#ie sentiment may be 0-4 but respect will be 1-3\u001b[0m\u001b[0;34m\u001b[0m\u001b[0;34m\u001b[0m\u001b[0;34m\u001b[0m\u001b[0m\n",
      "\u001b[0;31mNameError\u001b[0m: name 'data_combo' is not defined"
     ]
    }
   ],
   "source": [
    "data_combo = data_combo.reindex(data_combo.columns.union(category), axis=1)\n",
    "data_combo\n",
    "#the reaosn we are doing the combinations is bc there isn't a 1:1 between category and code\n",
    "#ie sentiment may be 0-4 but respect will be 1-3\n"
   ]
  },
  {
   "cell_type": "code",
   "execution_count": 19,
   "id": "7a21f1b4-083a-48be-8ca8-03283f5bcb8b",
   "metadata": {},
   "outputs": [],
   "source": [
    "#changing the index here so it's all the options\n",
    "index = [0, 1, 2, 3, 4]\n",
    "data_combo = pd.DataFrame(columns = category, index = index )"
   ]
  },
  {
   "cell_type": "code",
   "execution_count": 20,
   "id": "bb2f8aa3-a4be-411e-b699-7b7fc2e535d9",
   "metadata": {},
   "outputs": [
    {
     "data": {
      "text/plain": [
       "array(['sentiment_0', 'sentiment_1', 'sentiment_2', 'sentiment_3',\n",
       "       'sentiment_4', 'respect_0', 'respect_1', 'respect_2', 'respect_3',\n",
       "       'respect_4', 'insult_0', 'insult_1', 'insult_2', 'insult_3',\n",
       "       'humiliate_0', 'humiliate_1', 'humiliate_2', 'status_0',\n",
       "       'status_1', 'dehumanize_0', 'dehumanize_1', 'violence_phys_0',\n",
       "       'violence_phys_1', 'genocide_0', 'genocide_1', 'attack_defend_0',\n",
       "       'attack_defend_1', 'attack_defend_2', 'attack_defend_3',\n",
       "       'hatespeech_0', 'hatespeech_1'], dtype=object)"
      ]
     },
     "execution_count": 20,
     "metadata": {},
     "output_type": "execute_result"
    }
   ],
   "source": [
    "data_combo.columns.values"
   ]
  },
  {
   "cell_type": "code",
   "execution_count": 21,
   "id": "755b3592-5525-430e-bdf3-b970513078bd",
   "metadata": {},
   "outputs": [],
   "source": [
    "values = []\n",
    "for i in items:\n",
    "    for j in range(len(data_multi[i].value_counts())):\n",
    "        values.append(data_multi[data_multi[i] == j][i].count())"
   ]
  },
  {
   "cell_type": "code",
   "execution_count": 22,
   "id": "e4eed5c9-06e5-41bc-a86b-a7326f0f3486",
   "metadata": {},
   "outputs": [
    {
     "data": {
      "text/plain": [
       "{'sentiment_0': 9658,\n",
       " 'sentiment_1': 9435,\n",
       " 'sentiment_2': 19785,\n",
       " 'sentiment_3': 35243,\n",
       " 'sentiment_4': 61435,\n",
       " 'respect_0': 12839,\n",
       " 'respect_1': 9629,\n",
       " 'respect_2': 23895,\n",
       " 'respect_3': 30720,\n",
       " 'respect_4': 58473,\n",
       " 'insult_0': 33143,\n",
       " 'insult_1': 18587,\n",
       " 'insult_2': 39673,\n",
       " 'insult_3': 44153,\n",
       " 'humiliate_0': 65896,\n",
       " 'humiliate_1': 39382,\n",
       " 'humiliate_2': 30278,\n",
       " 'status_0': 66643,\n",
       " 'status_1': 68913,\n",
       " 'dehumanize_0': 85581,\n",
       " 'dehumanize_1': 49975,\n",
       " 'violence_phys_0': 110890,\n",
       " 'violence_phys_1': 24666,\n",
       " 'genocide_0': 121003,\n",
       " 'genocide_1': 14553,\n",
       " 'attack_defend_0': 19004,\n",
       " 'attack_defend_1': 38201,\n",
       " 'attack_defend_2': 44883,\n",
       " 'attack_defend_3': 33468,\n",
       " 'hatespeech_0': 89535,\n",
       " 'hatespeech_1': 46021}"
      ]
     },
     "execution_count": 22,
     "metadata": {},
     "output_type": "execute_result"
    }
   ],
   "source": [
    "empty_dict = {}\n",
    "for i in range(len(category)):\n",
    "    empty_dict[category[i]] = values[i]\n",
    "\n",
    "empty_dict\n"
   ]
  },
  {
   "cell_type": "code",
   "execution_count": 23,
   "id": "b665c8cd-eeda-4f1d-b7ba-0baea8be507a",
   "metadata": {},
   "outputs": [
    {
     "data": {
      "text/plain": [
       "135556"
      ]
     },
     "execution_count": 23,
     "metadata": {},
     "output_type": "execute_result"
    }
   ],
   "source": [
    "len(data_multi['labeler_id'])\n",
    "len(data_multi['comment_id'])"
   ]
  },
  {
   "cell_type": "code",
   "execution_count": 24,
   "id": "a64b80b1-5eb5-4462-83d5-27bbb7e334c1",
   "metadata": {},
   "outputs": [
    {
     "data": {
      "text/plain": [
       "39565"
      ]
     },
     "execution_count": 24,
     "metadata": {},
     "output_type": "execute_result"
    }
   ],
   "source": [
    "#number of unique comments\n",
    "len(np.unique(data_multi['comment_id'].values))"
   ]
  },
  {
   "cell_type": "code",
   "execution_count": 25,
   "id": "6e638420-04c2-4879-9a86-cbdc865d8f7d",
   "metadata": {},
   "outputs": [
    {
     "data": {
      "text/plain": [
       "7912"
      ]
     },
     "execution_count": 25,
     "metadata": {},
     "output_type": "execute_result"
    }
   ],
   "source": [
    "#the number of unique labelers that we have in the dataframe\n",
    "len(np.unique(data_multi['labeler_id'].values))\n",
    "\n",
    "#so each row needs to add up to the number of unique labelers? \n",
    "#is that assumign that the categories are mutually exclusive from one another?"
   ]
  },
  {
   "cell_type": "code",
   "execution_count": 26,
   "id": "ecf00ed7-2902-40de-ac29-f32725c94b2b",
   "metadata": {},
   "outputs": [],
   "source": [
    "# data_multi.columns.values"
   ]
  },
  {
   "cell_type": "code",
   "execution_count": 27,
   "id": "9c3aee35-571e-4229-b4b1-0b9a17659cdf",
   "metadata": {},
   "outputs": [],
   "source": [
    "fleiss_features = ['sentiment', 'respect', 'insult', 'humiliate', 'status',\n",
    "       'dehumanize', 'violence_phys', 'genocide', 'attack_defend',\n",
    "       'hatespeech']"
   ]
  },
  {
   "cell_type": "code",
   "execution_count": 28,
   "id": "d99de357-0ec2-4d1f-970e-9a154d354fe1",
   "metadata": {},
   "outputs": [],
   "source": [
    "data_fleiss = data_multi[fleiss_features]\n"
   ]
  },
  {
   "cell_type": "code",
   "execution_count": 29,
   "id": "e59621f8-7564-457a-843b-132a2c7e3e75",
   "metadata": {},
   "outputs": [],
   "source": [
    "column_values_test = sorted(data_fleiss['sentiment'].value_counts().index.to_list())\n"
   ]
  },
  {
   "cell_type": "code",
   "execution_count": 30,
   "id": "aeb9a29f-ffec-43bc-8406-5e28cee621c0",
   "metadata": {},
   "outputs": [
    {
     "name": "stdout",
     "output_type": "stream",
     "text": [
      "0.0\n",
      "1.0\n",
      "2.0\n",
      "3.0\n",
      "4.0\n"
     ]
    }
   ],
   "source": [
    "for i in column_values_test:\n",
    "    print(i)"
   ]
  },
  {
   "cell_type": "code",
   "execution_count": 31,
   "id": "d46365cd-9cde-4ff6-8ebc-898312dd3e4a",
   "metadata": {},
   "outputs": [
    {
     "name": "stdout",
     "output_type": "stream",
     "text": [
      "sentiment\n",
      "respect\n",
      "insult\n",
      "humiliate\n",
      "status\n",
      "dehumanize\n",
      "violence_phys\n",
      "genocide\n",
      "attack_defend\n",
      "hatespeech\n"
     ]
    }
   ],
   "source": [
    "for column in data_fleiss.columns:\n",
    "    print(column)"
   ]
  },
  {
   "cell_type": "code",
   "execution_count": 129,
   "id": "74f9d6d7-e2a9-4b72-a377-b8128eb1a109",
   "metadata": {},
   "outputs": [
    {
     "data": {
      "text/plain": [
       "39565"
      ]
     },
     "execution_count": 129,
     "metadata": {},
     "output_type": "execute_result"
    }
   ],
   "source": [
    "unique_comment_ids = list(data_multi['comment_id'].unique())\n",
    "len(unique_comment_ids)"
   ]
  },
  {
   "cell_type": "code",
   "execution_count": 33,
   "id": "252ddbd5-dfcf-4eb9-819b-c854ee37f343",
   "metadata": {},
   "outputs": [
    {
     "data": {
      "text/plain": [
       "[47777, 39773, 47101, 43625, 12538, 11001, 13168, 17034, 40171, 1006]"
      ]
     },
     "execution_count": 33,
     "metadata": {},
     "output_type": "execute_result"
    }
   ],
   "source": [
    "unique_comment_ids[0:10]"
   ]
  },
  {
   "cell_type": "code",
   "execution_count": 34,
   "id": "1b634efb-4956-492d-9caa-e2fa27705e3e",
   "metadata": {},
   "outputs": [
    {
     "data": {
      "text/plain": [
       "[4.0, 3.0, 2.0, 0.0, 1.0]"
      ]
     },
     "execution_count": 34,
     "metadata": {},
     "output_type": "execute_result"
    }
   ],
   "source": [
    "data_fleiss['sentiment'].value_counts().index.to_list()"
   ]
  },
  {
   "cell_type": "code",
   "execution_count": 35,
   "id": "4049c8e8-9db8-4dbe-9ef0-0d3c3a771b00",
   "metadata": {},
   "outputs": [
    {
     "name": "stdout",
     "output_type": "stream",
     "text": [
      "comment_id: 47777 column: sentiment score: 0.0 number of labelers: 1\n",
      "comment_id: 47777 column: sentiment score: 1.0 number of labelers: 4\n",
      "comment_id: 47777 column: sentiment score: 2.0 number of labelers: 0\n",
      "comment_id: 47777 column: sentiment score: 3.0 number of labelers: 0\n",
      "comment_id: 47777 column: sentiment score: 4.0 number of labelers: 0\n",
      "comment_id: 39773 column: sentiment score: 0.0 number of labelers: 3\n",
      "comment_id: 39773 column: sentiment score: 1.0 number of labelers: 0\n",
      "comment_id: 39773 column: sentiment score: 2.0 number of labelers: 0\n",
      "comment_id: 39773 column: sentiment score: 3.0 number of labelers: 0\n",
      "comment_id: 39773 column: sentiment score: 4.0 number of labelers: 0\n",
      "comment_id: 47101 column: sentiment score: 0.0 number of labelers: 0\n",
      "comment_id: 47101 column: sentiment score: 1.0 number of labelers: 0\n",
      "comment_id: 47101 column: sentiment score: 2.0 number of labelers: 0\n",
      "comment_id: 47101 column: sentiment score: 3.0 number of labelers: 2\n",
      "comment_id: 47101 column: sentiment score: 4.0 number of labelers: 2\n",
      "comment_id: 43625 column: sentiment score: 0.0 number of labelers: 0\n",
      "comment_id: 43625 column: sentiment score: 1.0 number of labelers: 0\n",
      "comment_id: 43625 column: sentiment score: 2.0 number of labelers: 1\n",
      "comment_id: 43625 column: sentiment score: 3.0 number of labelers: 2\n",
      "comment_id: 43625 column: sentiment score: 4.0 number of labelers: 1\n",
      "comment_id: 12538 column: sentiment score: 0.0 number of labelers: 0\n",
      "comment_id: 12538 column: sentiment score: 1.0 number of labelers: 0\n",
      "comment_id: 12538 column: sentiment score: 2.0 number of labelers: 0\n",
      "comment_id: 12538 column: sentiment score: 3.0 number of labelers: 0\n",
      "comment_id: 12538 column: sentiment score: 4.0 number of labelers: 2\n",
      "comment_id: 11001 column: sentiment score: 0.0 number of labelers: 1\n",
      "comment_id: 11001 column: sentiment score: 1.0 number of labelers: 2\n",
      "comment_id: 11001 column: sentiment score: 2.0 number of labelers: 0\n",
      "comment_id: 11001 column: sentiment score: 3.0 number of labelers: 0\n",
      "comment_id: 11001 column: sentiment score: 4.0 number of labelers: 0\n",
      "comment_id: 13168 column: sentiment score: 0.0 number of labelers: 0\n",
      "comment_id: 13168 column: sentiment score: 1.0 number of labelers: 0\n",
      "comment_id: 13168 column: sentiment score: 2.0 number of labelers: 0\n",
      "comment_id: 13168 column: sentiment score: 3.0 number of labelers: 1\n",
      "comment_id: 13168 column: sentiment score: 4.0 number of labelers: 2\n",
      "comment_id: 17034 column: sentiment score: 0.0 number of labelers: 0\n",
      "comment_id: 17034 column: sentiment score: 1.0 number of labelers: 0\n",
      "comment_id: 17034 column: sentiment score: 2.0 number of labelers: 0\n",
      "comment_id: 17034 column: sentiment score: 3.0 number of labelers: 0\n",
      "comment_id: 17034 column: sentiment score: 4.0 number of labelers: 4\n",
      "comment_id: 40171 column: sentiment score: 0.0 number of labelers: 0\n",
      "comment_id: 40171 column: sentiment score: 1.0 number of labelers: 0\n",
      "comment_id: 40171 column: sentiment score: 2.0 number of labelers: 0\n",
      "comment_id: 40171 column: sentiment score: 3.0 number of labelers: 2\n",
      "comment_id: 40171 column: sentiment score: 4.0 number of labelers: 1\n",
      "comment_id: 1006 column: sentiment score: 0.0 number of labelers: 0\n",
      "comment_id: 1006 column: sentiment score: 1.0 number of labelers: 0\n",
      "comment_id: 1006 column: sentiment score: 2.0 number of labelers: 0\n",
      "comment_id: 1006 column: sentiment score: 3.0 number of labelers: 1\n",
      "comment_id: 1006 column: sentiment score: 4.0 number of labelers: 2\n",
      "comment_id: 47777 column: respect score: 0.0 number of labelers: 2\n",
      "comment_id: 47777 column: respect score: 1.0 number of labelers: 2\n",
      "comment_id: 47777 column: respect score: 2.0 number of labelers: 1\n",
      "comment_id: 47777 column: respect score: 3.0 number of labelers: 0\n",
      "comment_id: 47777 column: respect score: 4.0 number of labelers: 0\n",
      "comment_id: 39773 column: respect score: 0.0 number of labelers: 3\n",
      "comment_id: 39773 column: respect score: 1.0 number of labelers: 0\n",
      "comment_id: 39773 column: respect score: 2.0 number of labelers: 0\n",
      "comment_id: 39773 column: respect score: 3.0 number of labelers: 0\n",
      "comment_id: 39773 column: respect score: 4.0 number of labelers: 0\n",
      "comment_id: 47101 column: respect score: 0.0 number of labelers: 0\n",
      "comment_id: 47101 column: respect score: 1.0 number of labelers: 0\n",
      "comment_id: 47101 column: respect score: 2.0 number of labelers: 0\n",
      "comment_id: 47101 column: respect score: 3.0 number of labelers: 2\n",
      "comment_id: 47101 column: respect score: 4.0 number of labelers: 2\n",
      "comment_id: 43625 column: respect score: 0.0 number of labelers: 0\n",
      "comment_id: 43625 column: respect score: 1.0 number of labelers: 0\n",
      "comment_id: 43625 column: respect score: 2.0 number of labelers: 0\n",
      "comment_id: 43625 column: respect score: 3.0 number of labelers: 2\n",
      "comment_id: 43625 column: respect score: 4.0 number of labelers: 2\n",
      "comment_id: 12538 column: respect score: 0.0 number of labelers: 0\n",
      "comment_id: 12538 column: respect score: 1.0 number of labelers: 0\n",
      "comment_id: 12538 column: respect score: 2.0 number of labelers: 0\n",
      "comment_id: 12538 column: respect score: 3.0 number of labelers: 0\n",
      "comment_id: 12538 column: respect score: 4.0 number of labelers: 2\n",
      "comment_id: 11001 column: respect score: 0.0 number of labelers: 1\n",
      "comment_id: 11001 column: respect score: 1.0 number of labelers: 2\n",
      "comment_id: 11001 column: respect score: 2.0 number of labelers: 0\n",
      "comment_id: 11001 column: respect score: 3.0 number of labelers: 0\n",
      "comment_id: 11001 column: respect score: 4.0 number of labelers: 0\n",
      "comment_id: 13168 column: respect score: 0.0 number of labelers: 0\n",
      "comment_id: 13168 column: respect score: 1.0 number of labelers: 0\n",
      "comment_id: 13168 column: respect score: 2.0 number of labelers: 1\n",
      "comment_id: 13168 column: respect score: 3.0 number of labelers: 1\n",
      "comment_id: 13168 column: respect score: 4.0 number of labelers: 1\n",
      "comment_id: 17034 column: respect score: 0.0 number of labelers: 0\n",
      "comment_id: 17034 column: respect score: 1.0 number of labelers: 0\n",
      "comment_id: 17034 column: respect score: 2.0 number of labelers: 0\n",
      "comment_id: 17034 column: respect score: 3.0 number of labelers: 0\n",
      "comment_id: 17034 column: respect score: 4.0 number of labelers: 4\n",
      "comment_id: 40171 column: respect score: 0.0 number of labelers: 0\n",
      "comment_id: 40171 column: respect score: 1.0 number of labelers: 0\n",
      "comment_id: 40171 column: respect score: 2.0 number of labelers: 0\n",
      "comment_id: 40171 column: respect score: 3.0 number of labelers: 1\n",
      "comment_id: 40171 column: respect score: 4.0 number of labelers: 2\n",
      "comment_id: 1006 column: respect score: 0.0 number of labelers: 0\n",
      "comment_id: 1006 column: respect score: 1.0 number of labelers: 0\n",
      "comment_id: 1006 column: respect score: 2.0 number of labelers: 1\n",
      "comment_id: 1006 column: respect score: 3.0 number of labelers: 1\n",
      "comment_id: 1006 column: respect score: 4.0 number of labelers: 1\n",
      "comment_id: 47777 column: insult score: 0.0 number of labelers: 5\n",
      "comment_id: 47777 column: insult score: 1.0 number of labelers: 0\n",
      "comment_id: 47777 column: insult score: 2.0 number of labelers: 0\n",
      "comment_id: 47777 column: insult score: 3.0 number of labelers: 0\n",
      "comment_id: 39773 column: insult score: 0.0 number of labelers: 3\n",
      "comment_id: 39773 column: insult score: 1.0 number of labelers: 0\n",
      "comment_id: 39773 column: insult score: 2.0 number of labelers: 0\n",
      "comment_id: 39773 column: insult score: 3.0 number of labelers: 0\n",
      "comment_id: 47101 column: insult score: 0.0 number of labelers: 0\n",
      "comment_id: 47101 column: insult score: 1.0 number of labelers: 0\n",
      "comment_id: 47101 column: insult score: 2.0 number of labelers: 2\n",
      "comment_id: 47101 column: insult score: 3.0 number of labelers: 2\n",
      "comment_id: 43625 column: insult score: 0.0 number of labelers: 0\n",
      "comment_id: 43625 column: insult score: 1.0 number of labelers: 1\n",
      "comment_id: 43625 column: insult score: 2.0 number of labelers: 2\n",
      "comment_id: 43625 column: insult score: 3.0 number of labelers: 1\n",
      "comment_id: 12538 column: insult score: 0.0 number of labelers: 0\n",
      "comment_id: 12538 column: insult score: 1.0 number of labelers: 0\n",
      "comment_id: 12538 column: insult score: 2.0 number of labelers: 1\n",
      "comment_id: 12538 column: insult score: 3.0 number of labelers: 1\n",
      "comment_id: 11001 column: insult score: 0.0 number of labelers: 3\n",
      "comment_id: 11001 column: insult score: 1.0 number of labelers: 0\n",
      "comment_id: 11001 column: insult score: 2.0 number of labelers: 0\n",
      "comment_id: 11001 column: insult score: 3.0 number of labelers: 0\n",
      "comment_id: 13168 column: insult score: 0.0 number of labelers: 0\n",
      "comment_id: 13168 column: insult score: 1.0 number of labelers: 1\n",
      "comment_id: 13168 column: insult score: 2.0 number of labelers: 1\n",
      "comment_id: 13168 column: insult score: 3.0 number of labelers: 1\n",
      "comment_id: 17034 column: insult score: 0.0 number of labelers: 0\n",
      "comment_id: 17034 column: insult score: 1.0 number of labelers: 0\n",
      "comment_id: 17034 column: insult score: 2.0 number of labelers: 1\n",
      "comment_id: 17034 column: insult score: 3.0 number of labelers: 3\n",
      "comment_id: 40171 column: insult score: 0.0 number of labelers: 0\n",
      "comment_id: 40171 column: insult score: 1.0 number of labelers: 0\n",
      "comment_id: 40171 column: insult score: 2.0 number of labelers: 2\n",
      "comment_id: 40171 column: insult score: 3.0 number of labelers: 1\n",
      "comment_id: 1006 column: insult score: 0.0 number of labelers: 0\n",
      "comment_id: 1006 column: insult score: 1.0 number of labelers: 2\n",
      "comment_id: 1006 column: insult score: 2.0 number of labelers: 0\n",
      "comment_id: 1006 column: insult score: 3.0 number of labelers: 1\n",
      "comment_id: 47777 column: humiliate score: 0.0 number of labelers: 4\n",
      "comment_id: 47777 column: humiliate score: 1.0 number of labelers: 1\n",
      "comment_id: 47777 column: humiliate score: 2.0 number of labelers: 0\n",
      "comment_id: 39773 column: humiliate score: 0.0 number of labelers: 3\n",
      "comment_id: 39773 column: humiliate score: 1.0 number of labelers: 0\n",
      "comment_id: 39773 column: humiliate score: 2.0 number of labelers: 0\n",
      "comment_id: 47101 column: humiliate score: 0.0 number of labelers: 2\n",
      "comment_id: 47101 column: humiliate score: 1.0 number of labelers: 0\n",
      "comment_id: 47101 column: humiliate score: 2.0 number of labelers: 2\n",
      "comment_id: 43625 column: humiliate score: 0.0 number of labelers: 1\n",
      "comment_id: 43625 column: humiliate score: 1.0 number of labelers: 3\n",
      "comment_id: 43625 column: humiliate score: 2.0 number of labelers: 0\n",
      "comment_id: 12538 column: humiliate score: 0.0 number of labelers: 0\n",
      "comment_id: 12538 column: humiliate score: 1.0 number of labelers: 1\n",
      "comment_id: 12538 column: humiliate score: 2.0 number of labelers: 1\n",
      "comment_id: 11001 column: humiliate score: 0.0 number of labelers: 3\n",
      "comment_id: 11001 column: humiliate score: 1.0 number of labelers: 0\n",
      "comment_id: 11001 column: humiliate score: 2.0 number of labelers: 0\n",
      "comment_id: 13168 column: humiliate score: 0.0 number of labelers: 1\n",
      "comment_id: 13168 column: humiliate score: 1.0 number of labelers: 1\n",
      "comment_id: 13168 column: humiliate score: 2.0 number of labelers: 1\n",
      "comment_id: 17034 column: humiliate score: 0.0 number of labelers: 0\n",
      "comment_id: 17034 column: humiliate score: 1.0 number of labelers: 1\n",
      "comment_id: 17034 column: humiliate score: 2.0 number of labelers: 3\n",
      "comment_id: 40171 column: humiliate score: 0.0 number of labelers: 0\n",
      "comment_id: 40171 column: humiliate score: 1.0 number of labelers: 3\n",
      "comment_id: 40171 column: humiliate score: 2.0 number of labelers: 0\n",
      "comment_id: 1006 column: humiliate score: 0.0 number of labelers: 2\n",
      "comment_id: 1006 column: humiliate score: 1.0 number of labelers: 0\n",
      "comment_id: 1006 column: humiliate score: 2.0 number of labelers: 1\n",
      "comment_id: 47777 column: status score: 0.0 number of labelers: 4\n",
      "comment_id: 47777 column: status score: 1.0 number of labelers: 1\n",
      "comment_id: 39773 column: status score: 0.0 number of labelers: 3\n",
      "comment_id: 39773 column: status score: 1.0 number of labelers: 0\n",
      "comment_id: 47101 column: status score: 0.0 number of labelers: 0\n",
      "comment_id: 47101 column: status score: 1.0 number of labelers: 4\n",
      "comment_id: 43625 column: status score: 0.0 number of labelers: 1\n",
      "comment_id: 43625 column: status score: 1.0 number of labelers: 3\n",
      "comment_id: 12538 column: status score: 0.0 number of labelers: 0\n",
      "comment_id: 12538 column: status score: 1.0 number of labelers: 2\n",
      "comment_id: 11001 column: status score: 0.0 number of labelers: 3\n",
      "comment_id: 11001 column: status score: 1.0 number of labelers: 0\n",
      "comment_id: 13168 column: status score: 0.0 number of labelers: 1\n",
      "comment_id: 13168 column: status score: 1.0 number of labelers: 2\n",
      "comment_id: 17034 column: status score: 0.0 number of labelers: 1\n",
      "comment_id: 17034 column: status score: 1.0 number of labelers: 3\n",
      "comment_id: 40171 column: status score: 0.0 number of labelers: 0\n",
      "comment_id: 40171 column: status score: 1.0 number of labelers: 3\n",
      "comment_id: 1006 column: status score: 0.0 number of labelers: 1\n",
      "comment_id: 1006 column: status score: 1.0 number of labelers: 2\n",
      "comment_id: 47777 column: dehumanize score: 0.0 number of labelers: 5\n",
      "comment_id: 47777 column: dehumanize score: 1.0 number of labelers: 0\n",
      "comment_id: 39773 column: dehumanize score: 0.0 number of labelers: 3\n",
      "comment_id: 39773 column: dehumanize score: 1.0 number of labelers: 0\n",
      "comment_id: 47101 column: dehumanize score: 0.0 number of labelers: 2\n",
      "comment_id: 47101 column: dehumanize score: 1.0 number of labelers: 2\n",
      "comment_id: 43625 column: dehumanize score: 0.0 number of labelers: 3\n",
      "comment_id: 43625 column: dehumanize score: 1.0 number of labelers: 1\n",
      "comment_id: 12538 column: dehumanize score: 0.0 number of labelers: 0\n",
      "comment_id: 12538 column: dehumanize score: 1.0 number of labelers: 2\n",
      "comment_id: 11001 column: dehumanize score: 0.0 number of labelers: 3\n",
      "comment_id: 11001 column: dehumanize score: 1.0 number of labelers: 0\n",
      "comment_id: 13168 column: dehumanize score: 0.0 number of labelers: 2\n",
      "comment_id: 13168 column: dehumanize score: 1.0 number of labelers: 1\n",
      "comment_id: 17034 column: dehumanize score: 0.0 number of labelers: 2\n",
      "comment_id: 17034 column: dehumanize score: 1.0 number of labelers: 2\n",
      "comment_id: 40171 column: dehumanize score: 0.0 number of labelers: 1\n",
      "comment_id: 40171 column: dehumanize score: 1.0 number of labelers: 2\n",
      "comment_id: 1006 column: dehumanize score: 0.0 number of labelers: 1\n",
      "comment_id: 1006 column: dehumanize score: 1.0 number of labelers: 2\n",
      "comment_id: 47777 column: violence_phys score: 0.0 number of labelers: 5\n",
      "comment_id: 47777 column: violence_phys score: 1.0 number of labelers: 0\n",
      "comment_id: 39773 column: violence_phys score: 0.0 number of labelers: 3\n",
      "comment_id: 39773 column: violence_phys score: 1.0 number of labelers: 0\n",
      "comment_id: 47101 column: violence_phys score: 0.0 number of labelers: 4\n",
      "comment_id: 47101 column: violence_phys score: 1.0 number of labelers: 0\n",
      "comment_id: 43625 column: violence_phys score: 0.0 number of labelers: 4\n",
      "comment_id: 43625 column: violence_phys score: 1.0 number of labelers: 0\n",
      "comment_id: 12538 column: violence_phys score: 0.0 number of labelers: 0\n",
      "comment_id: 12538 column: violence_phys score: 1.0 number of labelers: 2\n",
      "comment_id: 11001 column: violence_phys score: 0.0 number of labelers: 3\n",
      "comment_id: 11001 column: violence_phys score: 1.0 number of labelers: 0\n",
      "comment_id: 13168 column: violence_phys score: 0.0 number of labelers: 3\n",
      "comment_id: 13168 column: violence_phys score: 1.0 number of labelers: 0\n",
      "comment_id: 17034 column: violence_phys score: 0.0 number of labelers: 3\n",
      "comment_id: 17034 column: violence_phys score: 1.0 number of labelers: 1\n",
      "comment_id: 40171 column: violence_phys score: 0.0 number of labelers: 3\n",
      "comment_id: 40171 column: violence_phys score: 1.0 number of labelers: 0\n",
      "comment_id: 1006 column: violence_phys score: 0.0 number of labelers: 2\n",
      "comment_id: 1006 column: violence_phys score: 1.0 number of labelers: 1\n",
      "comment_id: 47777 column: genocide score: 0.0 number of labelers: 5\n",
      "comment_id: 47777 column: genocide score: 1.0 number of labelers: 0\n",
      "comment_id: 39773 column: genocide score: 0.0 number of labelers: 3\n",
      "comment_id: 39773 column: genocide score: 1.0 number of labelers: 0\n",
      "comment_id: 47101 column: genocide score: 0.0 number of labelers: 4\n",
      "comment_id: 47101 column: genocide score: 1.0 number of labelers: 0\n",
      "comment_id: 43625 column: genocide score: 0.0 number of labelers: 4\n",
      "comment_id: 43625 column: genocide score: 1.0 number of labelers: 0\n",
      "comment_id: 12538 column: genocide score: 0.0 number of labelers: 2\n",
      "comment_id: 12538 column: genocide score: 1.0 number of labelers: 0\n",
      "comment_id: 11001 column: genocide score: 0.0 number of labelers: 3\n",
      "comment_id: 11001 column: genocide score: 1.0 number of labelers: 0\n",
      "comment_id: 13168 column: genocide score: 0.0 number of labelers: 3\n",
      "comment_id: 13168 column: genocide score: 1.0 number of labelers: 0\n",
      "comment_id: 17034 column: genocide score: 0.0 number of labelers: 4\n",
      "comment_id: 17034 column: genocide score: 1.0 number of labelers: 0\n",
      "comment_id: 40171 column: genocide score: 0.0 number of labelers: 3\n",
      "comment_id: 40171 column: genocide score: 1.0 number of labelers: 0\n",
      "comment_id: 1006 column: genocide score: 0.0 number of labelers: 3\n",
      "comment_id: 1006 column: genocide score: 1.0 number of labelers: 0\n",
      "comment_id: 47777 column: attack_defend score: 0.0 number of labelers: 4\n",
      "comment_id: 47777 column: attack_defend score: 1.0 number of labelers: 1\n",
      "comment_id: 47777 column: attack_defend score: 2.0 number of labelers: 0\n",
      "comment_id: 47777 column: attack_defend score: 3.0 number of labelers: 0\n",
      "comment_id: 39773 column: attack_defend score: 0.0 number of labelers: 2\n",
      "comment_id: 39773 column: attack_defend score: 1.0 number of labelers: 1\n",
      "comment_id: 39773 column: attack_defend score: 2.0 number of labelers: 0\n",
      "comment_id: 39773 column: attack_defend score: 3.0 number of labelers: 0\n",
      "comment_id: 47101 column: attack_defend score: 0.0 number of labelers: 0\n",
      "comment_id: 47101 column: attack_defend score: 1.0 number of labelers: 0\n",
      "comment_id: 47101 column: attack_defend score: 2.0 number of labelers: 2\n",
      "comment_id: 47101 column: attack_defend score: 3.0 number of labelers: 2\n",
      "comment_id: 43625 column: attack_defend score: 0.0 number of labelers: 0\n",
      "comment_id: 43625 column: attack_defend score: 1.0 number of labelers: 1\n",
      "comment_id: 43625 column: attack_defend score: 2.0 number of labelers: 3\n",
      "comment_id: 43625 column: attack_defend score: 3.0 number of labelers: 0\n",
      "comment_id: 12538 column: attack_defend score: 0.0 number of labelers: 0\n",
      "comment_id: 12538 column: attack_defend score: 1.0 number of labelers: 0\n",
      "comment_id: 12538 column: attack_defend score: 2.0 number of labelers: 2\n",
      "comment_id: 12538 column: attack_defend score: 3.0 number of labelers: 0\n",
      "comment_id: 11001 column: attack_defend score: 0.0 number of labelers: 2\n",
      "comment_id: 11001 column: attack_defend score: 1.0 number of labelers: 1\n",
      "comment_id: 11001 column: attack_defend score: 2.0 number of labelers: 0\n",
      "comment_id: 11001 column: attack_defend score: 3.0 number of labelers: 0\n",
      "comment_id: 13168 column: attack_defend score: 0.0 number of labelers: 0\n",
      "comment_id: 13168 column: attack_defend score: 1.0 number of labelers: 0\n",
      "comment_id: 13168 column: attack_defend score: 2.0 number of labelers: 3\n",
      "comment_id: 13168 column: attack_defend score: 3.0 number of labelers: 0\n",
      "comment_id: 17034 column: attack_defend score: 0.0 number of labelers: 0\n",
      "comment_id: 17034 column: attack_defend score: 1.0 number of labelers: 0\n",
      "comment_id: 17034 column: attack_defend score: 2.0 number of labelers: 2\n",
      "comment_id: 17034 column: attack_defend score: 3.0 number of labelers: 2\n",
      "comment_id: 40171 column: attack_defend score: 0.0 number of labelers: 1\n",
      "comment_id: 40171 column: attack_defend score: 1.0 number of labelers: 0\n",
      "comment_id: 40171 column: attack_defend score: 2.0 number of labelers: 2\n",
      "comment_id: 40171 column: attack_defend score: 3.0 number of labelers: 0\n",
      "comment_id: 1006 column: attack_defend score: 0.0 number of labelers: 0\n",
      "comment_id: 1006 column: attack_defend score: 1.0 number of labelers: 1\n",
      "comment_id: 1006 column: attack_defend score: 2.0 number of labelers: 1\n",
      "comment_id: 1006 column: attack_defend score: 3.0 number of labelers: 1\n",
      "comment_id: 47777 column: hatespeech score: 0.0 number of labelers: 5\n",
      "comment_id: 47777 column: hatespeech score: 1.0 number of labelers: 0\n",
      "comment_id: 39773 column: hatespeech score: 0.0 number of labelers: 3\n",
      "comment_id: 39773 column: hatespeech score: 1.0 number of labelers: 0\n",
      "comment_id: 47101 column: hatespeech score: 0.0 number of labelers: 2\n",
      "comment_id: 47101 column: hatespeech score: 1.0 number of labelers: 2\n",
      "comment_id: 43625 column: hatespeech score: 0.0 number of labelers: 3\n",
      "comment_id: 43625 column: hatespeech score: 1.0 number of labelers: 1\n",
      "comment_id: 12538 column: hatespeech score: 0.0 number of labelers: 1\n",
      "comment_id: 12538 column: hatespeech score: 1.0 number of labelers: 1\n",
      "comment_id: 11001 column: hatespeech score: 0.0 number of labelers: 3\n",
      "comment_id: 11001 column: hatespeech score: 1.0 number of labelers: 0\n",
      "comment_id: 13168 column: hatespeech score: 0.0 number of labelers: 0\n",
      "comment_id: 13168 column: hatespeech score: 1.0 number of labelers: 3\n",
      "comment_id: 17034 column: hatespeech score: 0.0 number of labelers: 0\n",
      "comment_id: 17034 column: hatespeech score: 1.0 number of labelers: 4\n",
      "comment_id: 40171 column: hatespeech score: 0.0 number of labelers: 3\n",
      "comment_id: 40171 column: hatespeech score: 1.0 number of labelers: 0\n",
      "comment_id: 1006 column: hatespeech score: 0.0 number of labelers: 2\n",
      "comment_id: 1006 column: hatespeech score: 1.0 number of labelers: 1\n"
     ]
    }
   ],
   "source": [
    "for column in data_fleiss.columns:\n",
    "    column_values = sorted(data_fleiss[column].value_counts().index.to_list())\n",
    "    for comment_id in unique_comment_ids[0:10]:\n",
    "        connections = [print('comment_id:', comment_id, 'column:', column, 'score:', i, 'number of labelers:', len(np.unique(data_multi[(data_multi[column] == i) & (data_multi['comment_id'] == comment_id)]['labeler_id'].values))) for i in column_values]\n",
    "    "
   ]
  },
  {
   "cell_type": "code",
   "execution_count": 36,
   "id": "e21cd29f-ea71-4268-9efe-dc818181910b",
   "metadata": {},
   "outputs": [],
   "source": [
    "big_list = []\n",
    "\n",
    "for column in data_fleiss.columns:\n",
    "\n",
    "    column_values = sorted(data_fleiss[column].value_counts().index.to_list())\n",
    "    \n",
    "    for comment_id in unique_comment_ids[0:10]:\n",
    "        for i in column_values:\n",
    "            big_list.append([comment_id, column + str(int(i)), len(np.unique(data_multi[(data_multi[column] == i) & (data_multi['comment_id'] == comment_id)]['labeler_id'].values))])\n",
    "            #print('comment_id:', comment_id, 'column:', column, 'score:', i, 'number of labelers:', len(np.unique(data_multi[(data_multi[column] == i) & (data_multi['comment_id'] == comment_id)]['labeler_id'].values)))\n",
    "    "
   ]
  },
  {
   "cell_type": "code",
   "execution_count": 397,
   "id": "abee3b55-9815-4a98-9007-b05d8fe2fa02",
   "metadata": {},
   "outputs": [
    {
     "data": {
      "text/plain": [
       "3"
      ]
     },
     "execution_count": 397,
     "metadata": {},
     "output_type": "execute_result"
    }
   ],
   "source": [
    "len(big_list[0])"
   ]
  },
  {
   "cell_type": "code",
   "execution_count": 214,
   "id": "d3f022f5-755b-43c8-8215-62f3082fba13",
   "metadata": {},
   "outputs": [
    {
     "data": {
      "text/plain": [
       "[47777, 'sentiment0', 1]"
      ]
     },
     "execution_count": 214,
     "metadata": {},
     "output_type": "execute_result"
    }
   ],
   "source": [
    "big_list[0]"
   ]
  },
  {
   "cell_type": "code",
   "execution_count": 37,
   "id": "b128e1ed-0569-41d4-958e-f200ee6caed4",
   "metadata": {},
   "outputs": [],
   "source": [
    "comment_id_list = []\n",
    "column_score_list = []\n",
    "number_labelers_list = []\n",
    "\n",
    "\n",
    "for column in data_fleiss.columns:\n",
    "\n",
    "    column_values = sorted(data_fleiss[column].value_counts().index.to_list())\n",
    "    \n",
    "    for comment_id in unique_comment_ids:\n",
    "        for i in column_values:\n",
    "            comment_id_list.append(comment_id)\n",
    "            column_score_list.append(column + '_' + str(int(i)))\n",
    "            number_labelers_list.append(len(np.unique(data_multi[(data_multi[column] == i) & (data_multi['comment_id'] == comment_id)]['labeler_id'].values)))\n",
    "            \n",
    "            \n",
    "            \n",
    "            #big_list.append([comment_id, column + str(int(i)), len(np.unique(data_multi[(data_multi[column] == i) & (data_multi['comment_id'] == comment_id)]['labeler_id'].values))])\n",
    "            #print('comment_id:', comment_id, 'column:', column, 'score:', i, 'number of labelers:', len(np.unique(data_multi[(data_multi[column] == i) & (data_multi['comment_id'] == comment_id)]['labeler_id'].values)))"
   ]
  },
  {
   "cell_type": "code",
   "execution_count": 345,
   "id": "41e62d9a-fa72-469f-ae9c-7814a8577a68",
   "metadata": {},
   "outputs": [
    {
     "data": {
      "text/plain": [
       "310"
      ]
     },
     "execution_count": 345,
     "metadata": {},
     "output_type": "execute_result"
    }
   ],
   "source": [
    "len(number_labelers_list)"
   ]
  },
  {
   "cell_type": "code",
   "execution_count": 388,
   "id": "fd576e9c-89b3-4d33-ae52-01c8112dd4dc",
   "metadata": {},
   "outputs": [],
   "source": [
    "#comment_id_list\n",
    "list_index = list(range(310))\n",
    "# list_index\n",
    "# comment_id_list = []\n",
    "# column_score_list = []\n",
    "# number_labelers_list = []"
   ]
  },
  {
   "cell_type": "code",
   "execution_count": 38,
   "id": "90a6d234-ce82-49a7-852a-e16d5de531a5",
   "metadata": {},
   "outputs": [
    {
     "data": {
      "text/plain": [
       "['sentiment_0',\n",
       " 'sentiment_1',\n",
       " 'sentiment_2',\n",
       " 'sentiment_3',\n",
       " 'sentiment_4',\n",
       " 'sentiment_0',\n",
       " 'sentiment_1',\n",
       " 'sentiment_2',\n",
       " 'sentiment_3',\n",
       " 'sentiment_4']"
      ]
     },
     "execution_count": 38,
     "metadata": {},
     "output_type": "execute_result"
    }
   ],
   "source": [
    "column_score_list[0:10]"
   ]
  },
  {
   "cell_type": "code",
   "execution_count": 387,
   "id": "59413bad-d768-43df-9c51-135d8f7a7f45",
   "metadata": {},
   "outputs": [],
   "source": [
    "#trying to see if i can just pass a list of unique comment ids bc int not iterable below\n",
    "df = pd.DataFrame(comment_id_list, columns = ['comment_id_list'])\n",
    "df_grouped = df.groupby(comment_id_list).mean()\n",
    "\n",
    "df_grouped_list = df_grouped['comment_id_list'].to_list()\n"
   ]
  },
  {
   "cell_type": "code",
   "execution_count": 50,
   "id": "6399cf8f-80d7-4c63-b8fd-175c7dd21618",
   "metadata": {},
   "outputs": [
    {
     "name": "stdout",
     "output_type": "stream",
     "text": [
      "31\n",
      "1226515\n",
      "1226515\n",
      "1226515\n"
     ]
    }
   ],
   "source": [
    "dict_score_labelers = dict(zip(column_score_list, number_labelers_list))\n",
    "print(len(dict_score_labelers))\n",
    "print(len(column_score_list))\n",
    "print(len(number_labelers_list))\n",
    "print(len(comment_id_list))"
   ]
  },
  {
   "cell_type": "code",
   "execution_count": 60,
   "id": "8bc24b7d-339d-4d21-b64b-733b2663d814",
   "metadata": {},
   "outputs": [],
   "source": [
    "dct = dict(map(lambda x, y, z: (x, {y: z}), comment_id_list,  column_score_list, number_labelers_list))\n",
    "\n",
    "#something keeps happening where the column_score_list just ends up being hatespeech_1\n",
    "# for outerDict, innerDict in dct.items():\n",
    "#     for innerDictKeys, innerDictValues in innerDict.items():\n",
    "#         print(innerDictKeys)"
   ]
  },
  {
   "cell_type": "code",
   "execution_count": 213,
   "id": "1477dc82-c108-40f2-835f-88e751bee5de",
   "metadata": {},
   "outputs": [
    {
     "data": {
      "text/plain": [
       "[0.0, 1.0]"
      ]
     },
     "execution_count": 213,
     "metadata": {},
     "output_type": "execute_result"
    }
   ],
   "source": []
  },
  {
   "cell_type": "code",
   "execution_count": null,
   "id": "cc255a77-36a5-4d8a-8de0-77d5165a0971",
   "metadata": {},
   "outputs": [],
   "source": []
  },
  {
   "cell_type": "code",
   "execution_count": 51,
   "id": "27d3a43e-5d42-4a0e-846c-e3052a9ec56b",
   "metadata": {},
   "outputs": [],
   "source": [
    "intermediate_dict = {}\n",
    "for column_score, number_labelers in zip(column_score_list, number_labelers_list):\n",
    "    intermediate_dict[column_score] = number_labelers"
   ]
  },
  {
   "cell_type": "code",
   "execution_count": 53,
   "id": "0cdd4672-3d32-4062-a2f0-8a8c58ee2c4e",
   "metadata": {},
   "outputs": [
    {
     "data": {
      "text/plain": [
       "31"
      ]
     },
     "execution_count": 53,
     "metadata": {},
     "output_type": "execute_result"
    }
   ],
   "source": [
    "len(intermediate_dict) \n",
    "#i think this is happening bc there are repeats in the names of the keys"
   ]
  },
  {
   "cell_type": "code",
   "execution_count": 42,
   "id": "598d2c3e-d365-4c82-a717-678a607c68df",
   "metadata": {},
   "outputs": [
    {
     "data": {
      "text/plain": [
       "{47777: 'sentiment_4',\n",
       " 39773: 'respect_4',\n",
       " 47101: 'humiliate_0',\n",
       " 43625: 'dehumanize_0',\n",
       " 12538: 'genocide_1',\n",
       " 11001: 'hatespeech_0',\n",
       " 13168: 'hatespeech_1'}"
      ]
     },
     "execution_count": 42,
     "metadata": {},
     "output_type": "execute_result"
    }
   ],
   "source": [
    "dict(zip(comment_id_list, dict_score_labelers ))"
   ]
  },
  {
   "cell_type": "code",
   "execution_count": 40,
   "id": "c0851569-b3b3-4c77-86fd-cf95d3041e51",
   "metadata": {},
   "outputs": [],
   "source": [
    "# output1 = {}\n",
    "\n",
    "# for comment_id, column_score, number_labelers in zip(comment_id_list, column_score_list, number_labelers_list):\n",
    "#     output1[comment_id] = dict(zip(column_score, number_labelers))\n",
    "                        \n",
    "    "
   ]
  },
  {
   "cell_type": "code",
   "execution_count": 61,
   "id": "f3c2ebdb-3a9a-4ffc-8539-464fd8d8f2f6",
   "metadata": {},
   "outputs": [],
   "source": [
    "output = {}\n",
    "for comment_id, column_score, number_labelers in zip(comment_id_list, column_score_list, number_labelers_list):\n",
    "    output[comment_id] = {'column_score': column_score,\n",
    "                         'number_labelers': number_labelers}\n",
    "    \n",
    "    \n",
    "    #dict(zip(column_score, number_labelers))\n",
    "\n",
    "    \n",
    "#Probably a for loop where you extract the value from “column_score” \n",
    "#and save that as the key in a new dictionary, \n",
    "#then the value from “number_labelers” \n",
    "#and make that the value associated with the new key"
   ]
  },
  {
   "cell_type": "code",
   "execution_count": 74,
   "id": "46edd4d3-2e8b-40f4-a60e-20dff9230ab5",
   "metadata": {},
   "outputs": [],
   "source": [
    "new_dict = {}\n",
    "for outerKeys, innerDict in output.items():\n",
    "    for innerKeys, innerValues in innerDict.items(): \n",
    "        if innerKeys == 'column_score':\n",
    "            print(innerValues)\n",
    "            \n",
    "            "
   ]
  },
  {
   "cell_type": "code",
   "execution_count": 86,
   "id": "51114dd8-b8b9-439a-bebf-bd9d1fd27bb4",
   "metadata": {},
   "outputs": [
    {
     "name": "stdout",
     "output_type": "stream",
     "text": [
      "['sentiment_0', 'sentiment_1', 'sentiment_2', 'sentiment_3', 'sentiment_4', 'sentiment_0', 'sentiment_1', 'sentiment_2', 'sentiment_3', 'sentiment_4']\n",
      "[47777, 47777, 47777, 47777, 47777, 39773, 39773, 39773, 39773, 39773]\n",
      "[1, 4, 0, 0, 0, 3, 0, 0, 0, 0]\n"
     ]
    }
   ],
   "source": [
    "print(column_score_list[0:10])\n",
    "print(comment_id_list[0:10])\n",
    "print(number_labelers_list[0:10])"
   ]
  },
  {
   "cell_type": "code",
   "execution_count": 104,
   "id": "a3be2d39-a282-4b1e-9e50-012d82550e45",
   "metadata": {},
   "outputs": [],
   "source": [
    "res = [{comment_id: {column_score:num_labelers}} for (comment_id, column_score, num_labelers) in zip(comment_id_list, column_score_list, number_labelers_list)]\n",
    " "
   ]
  },
  {
   "cell_type": "code",
   "execution_count": 194,
   "id": "9bf48da2-7de8-4d7b-a5ab-6dc52f58b0b7",
   "metadata": {},
   "outputs": [
    {
     "data": {
      "text/plain": [
       "{47777: {'sentiment_0': 1}}"
      ]
     },
     "execution_count": 194,
     "metadata": {},
     "output_type": "execute_result"
    }
   ],
   "source": [
    "res[0]"
   ]
  },
  {
   "cell_type": "code",
   "execution_count": 172,
   "id": "dd210a83-b758-49d7-ba2f-aa0f37b1d510",
   "metadata": {},
   "outputs": [],
   "source": [
    "ultra_res = [{'comment_id': comment_id, 'column_score': column_score, 'num_labelers': num_labelers} for (comment_id, column_score, num_labelers) in zip(comment_id_list, column_score_list, number_labelers_list)]"
   ]
  },
  {
   "cell_type": "code",
   "execution_count": 195,
   "id": "dd3b1f7a-e5a3-4b38-b8b8-d5461b4f10b3",
   "metadata": {},
   "outputs": [
    {
     "data": {
      "text/plain": [
       "{'comment_id': 47777, 'column_score': 'sentiment_0', 'num_labelers': 1}"
      ]
     },
     "execution_count": 195,
     "metadata": {},
     "output_type": "execute_result"
    }
   ],
   "source": [
    "ultra_res[0]"
   ]
  },
  {
   "cell_type": "code",
   "execution_count": 197,
   "id": "8c3c3431-de4d-4580-82b0-3231ecada4a5",
   "metadata": {},
   "outputs": [],
   "source": [
    "df = pd.DataFrame(ultra_res)"
   ]
  },
  {
   "cell_type": "raw",
   "id": "da928a7e-a8cc-4081-b8f2-b345bb7dcad8",
   "metadata": {},
   "source": [
    "df.head(5)"
   ]
  },
  {
   "cell_type": "code",
   "execution_count": 210,
   "id": "6d6b6198-b86e-4cb3-8222-acb2c4b83a4c",
   "metadata": {},
   "outputs": [
    {
     "data": {
      "text/html": [
       "<div>\n",
       "<style scoped>\n",
       "    .dataframe tbody tr th:only-of-type {\n",
       "        vertical-align: middle;\n",
       "    }\n",
       "\n",
       "    .dataframe tbody tr th {\n",
       "        vertical-align: top;\n",
       "    }\n",
       "\n",
       "    .dataframe thead th {\n",
       "        text-align: right;\n",
       "    }\n",
       "</style>\n",
       "<table border=\"1\" class=\"dataframe\">\n",
       "  <thead>\n",
       "    <tr style=\"text-align: right;\">\n",
       "      <th></th>\n",
       "      <th>comment_id</th>\n",
       "      <th>column_score</th>\n",
       "      <th>num_labelers</th>\n",
       "    </tr>\n",
       "  </thead>\n",
       "  <tbody>\n",
       "    <tr>\n",
       "      <th>0</th>\n",
       "      <td>47777</td>\n",
       "      <td>sentiment_0</td>\n",
       "      <td>1</td>\n",
       "    </tr>\n",
       "    <tr>\n",
       "      <th>1</th>\n",
       "      <td>47777</td>\n",
       "      <td>sentiment_1</td>\n",
       "      <td>4</td>\n",
       "    </tr>\n",
       "    <tr>\n",
       "      <th>2</th>\n",
       "      <td>47777</td>\n",
       "      <td>sentiment_2</td>\n",
       "      <td>0</td>\n",
       "    </tr>\n",
       "    <tr>\n",
       "      <th>3</th>\n",
       "      <td>47777</td>\n",
       "      <td>sentiment_3</td>\n",
       "      <td>0</td>\n",
       "    </tr>\n",
       "    <tr>\n",
       "      <th>4</th>\n",
       "      <td>47777</td>\n",
       "      <td>sentiment_4</td>\n",
       "      <td>0</td>\n",
       "    </tr>\n",
       "    <tr>\n",
       "      <th>197825</th>\n",
       "      <td>47777</td>\n",
       "      <td>respect_0</td>\n",
       "      <td>2</td>\n",
       "    </tr>\n",
       "    <tr>\n",
       "      <th>197826</th>\n",
       "      <td>47777</td>\n",
       "      <td>respect_1</td>\n",
       "      <td>2</td>\n",
       "    </tr>\n",
       "    <tr>\n",
       "      <th>197827</th>\n",
       "      <td>47777</td>\n",
       "      <td>respect_2</td>\n",
       "      <td>1</td>\n",
       "    </tr>\n",
       "    <tr>\n",
       "      <th>197828</th>\n",
       "      <td>47777</td>\n",
       "      <td>respect_3</td>\n",
       "      <td>0</td>\n",
       "    </tr>\n",
       "    <tr>\n",
       "      <th>197829</th>\n",
       "      <td>47777</td>\n",
       "      <td>respect_4</td>\n",
       "      <td>0</td>\n",
       "    </tr>\n",
       "    <tr>\n",
       "      <th>395650</th>\n",
       "      <td>47777</td>\n",
       "      <td>insult_0</td>\n",
       "      <td>5</td>\n",
       "    </tr>\n",
       "    <tr>\n",
       "      <th>395651</th>\n",
       "      <td>47777</td>\n",
       "      <td>insult_1</td>\n",
       "      <td>0</td>\n",
       "    </tr>\n",
       "    <tr>\n",
       "      <th>395652</th>\n",
       "      <td>47777</td>\n",
       "      <td>insult_2</td>\n",
       "      <td>0</td>\n",
       "    </tr>\n",
       "    <tr>\n",
       "      <th>395653</th>\n",
       "      <td>47777</td>\n",
       "      <td>insult_3</td>\n",
       "      <td>0</td>\n",
       "    </tr>\n",
       "    <tr>\n",
       "      <th>553910</th>\n",
       "      <td>47777</td>\n",
       "      <td>humiliate_0</td>\n",
       "      <td>4</td>\n",
       "    </tr>\n",
       "    <tr>\n",
       "      <th>553911</th>\n",
       "      <td>47777</td>\n",
       "      <td>humiliate_1</td>\n",
       "      <td>1</td>\n",
       "    </tr>\n",
       "    <tr>\n",
       "      <th>553912</th>\n",
       "      <td>47777</td>\n",
       "      <td>humiliate_2</td>\n",
       "      <td>0</td>\n",
       "    </tr>\n",
       "    <tr>\n",
       "      <th>672605</th>\n",
       "      <td>47777</td>\n",
       "      <td>status_0</td>\n",
       "      <td>4</td>\n",
       "    </tr>\n",
       "    <tr>\n",
       "      <th>672606</th>\n",
       "      <td>47777</td>\n",
       "      <td>status_1</td>\n",
       "      <td>1</td>\n",
       "    </tr>\n",
       "    <tr>\n",
       "      <th>751735</th>\n",
       "      <td>47777</td>\n",
       "      <td>dehumanize_0</td>\n",
       "      <td>5</td>\n",
       "    </tr>\n",
       "    <tr>\n",
       "      <th>751736</th>\n",
       "      <td>47777</td>\n",
       "      <td>dehumanize_1</td>\n",
       "      <td>0</td>\n",
       "    </tr>\n",
       "    <tr>\n",
       "      <th>830865</th>\n",
       "      <td>47777</td>\n",
       "      <td>violence_phys_0</td>\n",
       "      <td>5</td>\n",
       "    </tr>\n",
       "    <tr>\n",
       "      <th>830866</th>\n",
       "      <td>47777</td>\n",
       "      <td>violence_phys_1</td>\n",
       "      <td>0</td>\n",
       "    </tr>\n",
       "    <tr>\n",
       "      <th>909995</th>\n",
       "      <td>47777</td>\n",
       "      <td>genocide_0</td>\n",
       "      <td>5</td>\n",
       "    </tr>\n",
       "    <tr>\n",
       "      <th>909996</th>\n",
       "      <td>47777</td>\n",
       "      <td>genocide_1</td>\n",
       "      <td>0</td>\n",
       "    </tr>\n",
       "    <tr>\n",
       "      <th>989125</th>\n",
       "      <td>47777</td>\n",
       "      <td>attack_defend_0</td>\n",
       "      <td>4</td>\n",
       "    </tr>\n",
       "    <tr>\n",
       "      <th>989126</th>\n",
       "      <td>47777</td>\n",
       "      <td>attack_defend_1</td>\n",
       "      <td>1</td>\n",
       "    </tr>\n",
       "    <tr>\n",
       "      <th>989127</th>\n",
       "      <td>47777</td>\n",
       "      <td>attack_defend_2</td>\n",
       "      <td>0</td>\n",
       "    </tr>\n",
       "    <tr>\n",
       "      <th>989128</th>\n",
       "      <td>47777</td>\n",
       "      <td>attack_defend_3</td>\n",
       "      <td>0</td>\n",
       "    </tr>\n",
       "    <tr>\n",
       "      <th>1147385</th>\n",
       "      <td>47777</td>\n",
       "      <td>hatespeech_0</td>\n",
       "      <td>5</td>\n",
       "    </tr>\n",
       "    <tr>\n",
       "      <th>1147386</th>\n",
       "      <td>47777</td>\n",
       "      <td>hatespeech_1</td>\n",
       "      <td>0</td>\n",
       "    </tr>\n",
       "  </tbody>\n",
       "</table>\n",
       "</div>"
      ],
      "text/plain": [
       "         comment_id     column_score  num_labelers\n",
       "0             47777      sentiment_0             1\n",
       "1             47777      sentiment_1             4\n",
       "2             47777      sentiment_2             0\n",
       "3             47777      sentiment_3             0\n",
       "4             47777      sentiment_4             0\n",
       "197825        47777        respect_0             2\n",
       "197826        47777        respect_1             2\n",
       "197827        47777        respect_2             1\n",
       "197828        47777        respect_3             0\n",
       "197829        47777        respect_4             0\n",
       "395650        47777         insult_0             5\n",
       "395651        47777         insult_1             0\n",
       "395652        47777         insult_2             0\n",
       "395653        47777         insult_3             0\n",
       "553910        47777      humiliate_0             4\n",
       "553911        47777      humiliate_1             1\n",
       "553912        47777      humiliate_2             0\n",
       "672605        47777         status_0             4\n",
       "672606        47777         status_1             1\n",
       "751735        47777     dehumanize_0             5\n",
       "751736        47777     dehumanize_1             0\n",
       "830865        47777  violence_phys_0             5\n",
       "830866        47777  violence_phys_1             0\n",
       "909995        47777       genocide_0             5\n",
       "909996        47777       genocide_1             0\n",
       "989125        47777  attack_defend_0             4\n",
       "989126        47777  attack_defend_1             1\n",
       "989127        47777  attack_defend_2             0\n",
       "989128        47777  attack_defend_3             0\n",
       "1147385       47777     hatespeech_0             5\n",
       "1147386       47777     hatespeech_1             0"
      ]
     },
     "execution_count": 210,
     "metadata": {},
     "output_type": "execute_result"
    }
   ],
   "source": [
    "df[df['comment_id'] == 47777]\n"
   ]
  },
  {
   "cell_type": "code",
   "execution_count": 239,
   "id": "1420468a-fd88-4247-8e3e-f96ce06b9429",
   "metadata": {},
   "outputs": [
    {
     "data": {
      "text/html": [
       "<div>\n",
       "<style scoped>\n",
       "    .dataframe tbody tr th:only-of-type {\n",
       "        vertical-align: middle;\n",
       "    }\n",
       "\n",
       "    .dataframe tbody tr th {\n",
       "        vertical-align: top;\n",
       "    }\n",
       "\n",
       "    .dataframe thead th {\n",
       "        text-align: right;\n",
       "    }\n",
       "</style>\n",
       "<table border=\"1\" class=\"dataframe\">\n",
       "  <thead>\n",
       "    <tr style=\"text-align: right;\">\n",
       "      <th></th>\n",
       "      <th>sentiment_0</th>\n",
       "      <th>sentiment_1</th>\n",
       "      <th>sentiment_2</th>\n",
       "      <th>sentiment_3</th>\n",
       "      <th>sentiment_4</th>\n",
       "    </tr>\n",
       "  </thead>\n",
       "  <tbody>\n",
       "  </tbody>\n",
       "</table>\n",
       "</div>"
      ],
      "text/plain": [
       "Empty DataFrame\n",
       "Columns: [sentiment_0, sentiment_1, sentiment_2, sentiment_3, sentiment_4]\n",
       "Index: []"
      ]
     },
     "execution_count": 239,
     "metadata": {},
     "output_type": "execute_result"
    }
   ],
   "source": [
    "df_fleiss_sentiment = pd.DataFrame(columns=sorted(column_sentiment))\n",
    "df_fleiss_sentiment\n",
    "#could also do hatespeech sum items as df_fleiss_senitment...less useful"
   ]
  },
  {
   "cell_type": "code",
   "execution_count": 247,
   "id": "e3f510cc-1940-4a03-8738-d3952e2e1b15",
   "metadata": {},
   "outputs": [
    {
     "data": {
      "text/html": [
       "<div>\n",
       "<style scoped>\n",
       "    .dataframe tbody tr th:only-of-type {\n",
       "        vertical-align: middle;\n",
       "    }\n",
       "\n",
       "    .dataframe tbody tr th {\n",
       "        vertical-align: top;\n",
       "    }\n",
       "\n",
       "    .dataframe thead th {\n",
       "        text-align: right;\n",
       "    }\n",
       "</style>\n",
       "<table border=\"1\" class=\"dataframe\">\n",
       "  <thead>\n",
       "    <tr style=\"text-align: right;\">\n",
       "      <th></th>\n",
       "      <th>column_score</th>\n",
       "      <th>num_labelers</th>\n",
       "    </tr>\n",
       "  </thead>\n",
       "  <tbody>\n",
       "    <tr>\n",
       "      <th>0</th>\n",
       "      <td>sentiment_0</td>\n",
       "      <td>1</td>\n",
       "    </tr>\n",
       "    <tr>\n",
       "      <th>1</th>\n",
       "      <td>sentiment_1</td>\n",
       "      <td>4</td>\n",
       "    </tr>\n",
       "    <tr>\n",
       "      <th>2</th>\n",
       "      <td>sentiment_2</td>\n",
       "      <td>0</td>\n",
       "    </tr>\n",
       "    <tr>\n",
       "      <th>3</th>\n",
       "      <td>sentiment_3</td>\n",
       "      <td>0</td>\n",
       "    </tr>\n",
       "    <tr>\n",
       "      <th>4</th>\n",
       "      <td>sentiment_4</td>\n",
       "      <td>0</td>\n",
       "    </tr>\n",
       "  </tbody>\n",
       "</table>\n",
       "</div>"
      ],
      "text/plain": [
       "  column_score  num_labelers\n",
       "0  sentiment_0             1\n",
       "1  sentiment_1             4\n",
       "2  sentiment_2             0\n",
       "3  sentiment_3             0\n",
       "4  sentiment_4             0"
      ]
     },
     "execution_count": 247,
     "metadata": {},
     "output_type": "execute_result"
    }
   ],
   "source": [
    "df_sentiment[df_sentiment['comment_id'] == 47777][['column_score', 'num_labelers']]"
   ]
  },
  {
   "cell_type": "code",
   "execution_count": 352,
   "id": "3b104f35-e9f4-46cb-a641-529cf5e92875",
   "metadata": {},
   "outputs": [
    {
     "data": {
      "text/html": [
       "<div>\n",
       "<style scoped>\n",
       "    .dataframe tbody tr th:only-of-type {\n",
       "        vertical-align: middle;\n",
       "    }\n",
       "\n",
       "    .dataframe tbody tr th {\n",
       "        vertical-align: top;\n",
       "    }\n",
       "\n",
       "    .dataframe thead th {\n",
       "        text-align: right;\n",
       "    }\n",
       "</style>\n",
       "<table border=\"1\" class=\"dataframe\">\n",
       "  <thead>\n",
       "    <tr style=\"text-align: right;\">\n",
       "      <th></th>\n",
       "      <th>comment_id</th>\n",
       "      <th>column_score</th>\n",
       "      <th>num_labelers</th>\n",
       "    </tr>\n",
       "  </thead>\n",
       "  <tbody>\n",
       "    <tr>\n",
       "      <th>37679</th>\n",
       "      <td>47777</td>\n",
       "      <td>[sentiment_0, sentiment_1, sentiment_2, sentim...</td>\n",
       "      <td>[1, 4, 0, 0, 0]</td>\n",
       "    </tr>\n",
       "  </tbody>\n",
       "</table>\n",
       "</div>"
      ],
      "text/plain": [
       "       comment_id                                       column_score  \\\n",
       "37679       47777  [sentiment_0, sentiment_1, sentiment_2, sentim...   \n",
       "\n",
       "          num_labelers  \n",
       "37679  [1, 4, 0, 0, 0]  "
      ]
     },
     "execution_count": 352,
     "metadata": {},
     "output_type": "execute_result"
    }
   ],
   "source": [
    "df_sentiment_agg[df_sentiment_agg['comment_id'] == 47777]"
   ]
  },
  {
   "cell_type": "code",
   "execution_count": 353,
   "id": "fff735c4-614b-4370-8e4a-db095da0e503",
   "metadata": {},
   "outputs": [],
   "source": [
    "comment_id_sentiment = df_sentiment_agg['comment_id'].to_list()"
   ]
  },
  {
   "cell_type": "code",
   "execution_count": null,
   "id": "4ee04e95-e53d-48d3-ba38-e98c33d9514a",
   "metadata": {},
   "outputs": [],
   "source": []
  },
  {
   "cell_type": "code",
   "execution_count": 253,
   "id": "d1deb53b-e1ae-4e58-b665-155b285a6ade",
   "metadata": {},
   "outputs": [],
   "source": [
    "df_sentiment_agg = df_sentiment.groupby('comment_id', as_index=False).agg(lambda x: x.tolist())\n"
   ]
  },
  {
   "cell_type": "code",
   "execution_count": 285,
   "id": "cf63a589-3443-4193-9ea6-84f23ec0e321",
   "metadata": {},
   "outputs": [],
   "source": [
    "labelers_per_comment = []\n",
    "for index, row in df_sentiment_agg.iterrows():\n",
    "    for labelers in row['num_labelers']:\n",
    "        labelers_per_comment.append(labelers)\n",
    "    #print(row['num_labelers'])\n",
    "    \n"
   ]
  },
  {
   "cell_type": "code",
   "execution_count": 288,
   "id": "947d3fec-070c-45f4-b914-ab96393bb432",
   "metadata": {},
   "outputs": [
    {
     "data": {
      "text/plain": [
       "[0, 0, 0, 1, 3]"
      ]
     },
     "execution_count": 288,
     "metadata": {},
     "output_type": "execute_result"
    }
   ],
   "source": [
    "labelers_per_comment[0:5]\n"
   ]
  },
  {
   "cell_type": "code",
   "execution_count": 290,
   "id": "10047c8f-d917-4ab8-9294-d286efb9c565",
   "metadata": {},
   "outputs": [],
   "source": [
    "labelers_per_comment = []\n",
    "for index, row in df_sentiment_agg.iterrows():\n",
    "    labelers_per_comment.append(row['num_labelers'])\n"
   ]
  },
  {
   "cell_type": "code",
   "execution_count": 292,
   "id": "9f274761-757b-4a23-aaf9-39727a75edca",
   "metadata": {},
   "outputs": [
    {
     "data": {
      "text/plain": [
       "39565"
      ]
     },
     "execution_count": 292,
     "metadata": {},
     "output_type": "execute_result"
    }
   ],
   "source": [
    "labelers_per_comment[0:5]\n",
    "len(labelers_per_comment)"
   ]
  },
  {
   "cell_type": "code",
   "execution_count": 309,
   "id": "c42915b3-6fe1-47ba-a8a3-864a2284948f",
   "metadata": {},
   "outputs": [
    {
     "data": {
      "text/plain": [
       "[0, 0, 0, 1, 3]"
      ]
     },
     "execution_count": 309,
     "metadata": {},
     "output_type": "execute_result"
    }
   ],
   "source": [
    "labelers_per_comment[0]"
   ]
  },
  {
   "cell_type": "code",
   "execution_count": 308,
   "id": "9ed8a317-a004-4757-a0c0-57a6d94dc26c",
   "metadata": {},
   "outputs": [
    {
     "data": {
      "text/plain": [
       "[0, 0, 0, 0, 3]"
      ]
     },
     "execution_count": 308,
     "metadata": {},
     "output_type": "execute_result"
    }
   ],
   "source": [
    "labelers_per_comment[39564]\n"
   ]
  },
  {
   "cell_type": "code",
   "execution_count": 295,
   "id": "6a640625-0f25-45f3-abcc-4545518d413e",
   "metadata": {},
   "outputs": [
    {
     "data": {
      "text/html": [
       "<div>\n",
       "<style scoped>\n",
       "    .dataframe tbody tr th:only-of-type {\n",
       "        vertical-align: middle;\n",
       "    }\n",
       "\n",
       "    .dataframe tbody tr th {\n",
       "        vertical-align: top;\n",
       "    }\n",
       "\n",
       "    .dataframe thead th {\n",
       "        text-align: right;\n",
       "    }\n",
       "</style>\n",
       "<table border=\"1\" class=\"dataframe\">\n",
       "  <thead>\n",
       "    <tr style=\"text-align: right;\">\n",
       "      <th></th>\n",
       "      <th>sentiment_0</th>\n",
       "      <th>sentiment_1</th>\n",
       "      <th>sentiment_2</th>\n",
       "      <th>sentiment_3</th>\n",
       "      <th>sentiment_4</th>\n",
       "    </tr>\n",
       "  </thead>\n",
       "  <tbody>\n",
       "    <tr>\n",
       "      <th>0</th>\n",
       "      <td>0</td>\n",
       "      <td>0</td>\n",
       "      <td>0</td>\n",
       "      <td>1</td>\n",
       "      <td>3</td>\n",
       "    </tr>\n",
       "  </tbody>\n",
       "</table>\n",
       "</div>"
      ],
      "text/plain": [
       "  sentiment_0 sentiment_1 sentiment_2 sentiment_3 sentiment_4\n",
       "0           0           0           0           1           3"
      ]
     },
     "execution_count": 295,
     "metadata": {},
     "output_type": "execute_result"
    }
   ],
   "source": [
    "df_fleiss_sentiment.append(pd.Series(labelers_per_comment[0], df_fleiss_sentiment.columns), ignore_index=True)"
   ]
  },
  {
   "cell_type": "code",
   "execution_count": 324,
   "id": "e84e163f-03d7-448f-9990-e84b4e8e4785",
   "metadata": {},
   "outputs": [
    {
     "data": {
      "text/plain": [
       "39565"
      ]
     },
     "execution_count": 324,
     "metadata": {},
     "output_type": "execute_result"
    }
   ],
   "source": [
    "column_sentiment\n",
    "len(labelers_per_comment)\n"
   ]
  },
  {
   "cell_type": "code",
   "execution_count": 362,
   "id": "ea9a334b-7fd8-438c-915e-ac49039e9ca6",
   "metadata": {},
   "outputs": [],
   "source": [
    "df_fleiss_sentiment = pd.DataFrame(labelers_per_comment, columns = column_sentiment)"
   ]
  },
  {
   "cell_type": "code",
   "execution_count": 354,
   "id": "878558d2-0f6f-481a-9002-88fb6504519a",
   "metadata": {},
   "outputs": [
    {
     "data": {
      "text/plain": [
       "39565"
      ]
     },
     "execution_count": 354,
     "metadata": {},
     "output_type": "execute_result"
    }
   ],
   "source": [
    "len(comment_id_sentiment)\n"
   ]
  },
  {
   "cell_type": "code",
   "execution_count": 360,
   "id": "6eaa6de8-f054-40e9-9a72-552ba98f231d",
   "metadata": {},
   "outputs": [
    {
     "data": {
      "text/html": [
       "<div>\n",
       "<style scoped>\n",
       "    .dataframe tbody tr th:only-of-type {\n",
       "        vertical-align: middle;\n",
       "    }\n",
       "\n",
       "    .dataframe tbody tr th {\n",
       "        vertical-align: top;\n",
       "    }\n",
       "\n",
       "    .dataframe thead th {\n",
       "        text-align: right;\n",
       "    }\n",
       "</style>\n",
       "<table border=\"1\" class=\"dataframe\">\n",
       "  <thead>\n",
       "    <tr style=\"text-align: right;\">\n",
       "      <th></th>\n",
       "      <th>sentiment_0</th>\n",
       "      <th>sentiment_1</th>\n",
       "      <th>sentiment_2</th>\n",
       "      <th>sentiment_3</th>\n",
       "      <th>sentiment_4</th>\n",
       "      <th>comment_id</th>\n",
       "    </tr>\n",
       "  </thead>\n",
       "  <tbody>\n",
       "    <tr>\n",
       "      <th>37679</th>\n",
       "      <td>1</td>\n",
       "      <td>4</td>\n",
       "      <td>0</td>\n",
       "      <td>0</td>\n",
       "      <td>0</td>\n",
       "      <td>47777</td>\n",
       "    </tr>\n",
       "  </tbody>\n",
       "</table>\n",
       "</div>"
      ],
      "text/plain": [
       "       sentiment_0  sentiment_1  sentiment_2  sentiment_3  sentiment_4  \\\n",
       "37679            1            4            0            0            0   \n",
       "\n",
       "       comment_id  \n",
       "37679       47777  "
      ]
     },
     "execution_count": 360,
     "metadata": {},
     "output_type": "execute_result"
    }
   ],
   "source": [
    "df_fleiss_sentiment['comment_id'] = comment_id_sentiment\n",
    "df_fleiss_sentiment[df_fleiss_sentiment['comment_id'] == 47777]"
   ]
  },
  {
   "cell_type": "code",
   "execution_count": 426,
   "id": "03421503-2db4-4131-88cf-77ae056ad93c",
   "metadata": {},
   "outputs": [
    {
     "data": {
      "text/html": [
       "<div>\n",
       "<style scoped>\n",
       "    .dataframe tbody tr th:only-of-type {\n",
       "        vertical-align: middle;\n",
       "    }\n",
       "\n",
       "    .dataframe tbody tr th {\n",
       "        vertical-align: top;\n",
       "    }\n",
       "\n",
       "    .dataframe thead th {\n",
       "        text-align: right;\n",
       "    }\n",
       "</style>\n",
       "<table border=\"1\" class=\"dataframe\">\n",
       "  <thead>\n",
       "    <tr style=\"text-align: right;\">\n",
       "      <th></th>\n",
       "      <th>sentiment_0</th>\n",
       "      <th>sentiment_1</th>\n",
       "      <th>sentiment_2</th>\n",
       "      <th>sentiment_3</th>\n",
       "      <th>sentiment_4</th>\n",
       "    </tr>\n",
       "  </thead>\n",
       "  <tbody>\n",
       "    <tr>\n",
       "      <th>0</th>\n",
       "      <td>0</td>\n",
       "      <td>0</td>\n",
       "      <td>0</td>\n",
       "      <td>1</td>\n",
       "      <td>3</td>\n",
       "    </tr>\n",
       "    <tr>\n",
       "      <th>1</th>\n",
       "      <td>0</td>\n",
       "      <td>0</td>\n",
       "      <td>0</td>\n",
       "      <td>2</td>\n",
       "      <td>1</td>\n",
       "    </tr>\n",
       "    <tr>\n",
       "      <th>2</th>\n",
       "      <td>0</td>\n",
       "      <td>0</td>\n",
       "      <td>2</td>\n",
       "      <td>1</td>\n",
       "      <td>0</td>\n",
       "    </tr>\n",
       "    <tr>\n",
       "      <th>3</th>\n",
       "      <td>0</td>\n",
       "      <td>0</td>\n",
       "      <td>0</td>\n",
       "      <td>1</td>\n",
       "      <td>1</td>\n",
       "    </tr>\n",
       "    <tr>\n",
       "      <th>4</th>\n",
       "      <td>0</td>\n",
       "      <td>0</td>\n",
       "      <td>3</td>\n",
       "      <td>0</td>\n",
       "      <td>0</td>\n",
       "    </tr>\n",
       "    <tr>\n",
       "      <th>...</th>\n",
       "      <td>...</td>\n",
       "      <td>...</td>\n",
       "      <td>...</td>\n",
       "      <td>...</td>\n",
       "      <td>...</td>\n",
       "    </tr>\n",
       "    <tr>\n",
       "      <th>39560</th>\n",
       "      <td>0</td>\n",
       "      <td>0</td>\n",
       "      <td>0</td>\n",
       "      <td>0</td>\n",
       "      <td>4</td>\n",
       "    </tr>\n",
       "    <tr>\n",
       "      <th>39561</th>\n",
       "      <td>0</td>\n",
       "      <td>0</td>\n",
       "      <td>0</td>\n",
       "      <td>0</td>\n",
       "      <td>1</td>\n",
       "    </tr>\n",
       "    <tr>\n",
       "      <th>39562</th>\n",
       "      <td>1</td>\n",
       "      <td>1</td>\n",
       "      <td>0</td>\n",
       "      <td>0</td>\n",
       "      <td>0</td>\n",
       "    </tr>\n",
       "    <tr>\n",
       "      <th>39563</th>\n",
       "      <td>0</td>\n",
       "      <td>0</td>\n",
       "      <td>0</td>\n",
       "      <td>0</td>\n",
       "      <td>1</td>\n",
       "    </tr>\n",
       "    <tr>\n",
       "      <th>39564</th>\n",
       "      <td>0</td>\n",
       "      <td>0</td>\n",
       "      <td>0</td>\n",
       "      <td>0</td>\n",
       "      <td>3</td>\n",
       "    </tr>\n",
       "  </tbody>\n",
       "</table>\n",
       "<p>39565 rows × 5 columns</p>\n",
       "</div>"
      ],
      "text/plain": [
       "       sentiment_0  sentiment_1  sentiment_2  sentiment_3  sentiment_4\n",
       "0                0            0            0            1            3\n",
       "1                0            0            0            2            1\n",
       "2                0            0            2            1            0\n",
       "3                0            0            0            1            1\n",
       "4                0            0            3            0            0\n",
       "...            ...          ...          ...          ...          ...\n",
       "39560            0            0            0            0            4\n",
       "39561            0            0            0            0            1\n",
       "39562            1            1            0            0            0\n",
       "39563            0            0            0            0            1\n",
       "39564            0            0            0            0            3\n",
       "\n",
       "[39565 rows x 5 columns]"
      ]
     },
     "execution_count": 426,
     "metadata": {},
     "output_type": "execute_result"
    }
   ],
   "source": [
    "df_fleiss_sentiment"
   ]
  },
  {
   "cell_type": "code",
   "execution_count": 363,
   "id": "d4ab1f4d-efa7-408f-8c31-9aae9a0a93ad",
   "metadata": {},
   "outputs": [],
   "source": [
    "sentiment_array = df_fleiss_sentiment.to_numpy()"
   ]
  },
  {
   "cell_type": "code",
   "execution_count": 414,
   "id": "caa24fe5-54c5-41e1-8be6-bd575090ca69",
   "metadata": {},
   "outputs": [
    {
     "name": "stdout",
     "output_type": "stream",
     "text": [
      "3.9.5\n"
     ]
    }
   ],
   "source": [
    "from platform import python_version\n",
    "\n",
    "print(python_version())"
   ]
  },
  {
   "cell_type": "code",
   "execution_count": 413,
   "id": "014c0cc4-9bad-49ad-ab92-2f6d4eea6401",
   "metadata": {},
   "outputs": [
    {
     "ename": "AssertionError",
     "evalue": "",
     "output_type": "error",
     "traceback": [
      "\u001b[0;31m---------------------------------------------------------------------------\u001b[0m",
      "\u001b[0;31mAssertionError\u001b[0m                            Traceback (most recent call last)",
      "\u001b[0;32m<ipython-input-413-3a3bd96d9a23>\u001b[0m in \u001b[0;36m<module>\u001b[0;34m\u001b[0m\n\u001b[1;32m      1\u001b[0m \u001b[0;32mfrom\u001b[0m \u001b[0mstatsmodels\u001b[0m\u001b[0;34m.\u001b[0m\u001b[0mstats\u001b[0m\u001b[0;34m.\u001b[0m\u001b[0minter_rater\u001b[0m \u001b[0;32mimport\u001b[0m \u001b[0mfleiss_kappa\u001b[0m\u001b[0;34m\u001b[0m\u001b[0;34m\u001b[0m\u001b[0m\n\u001b[0;32m----> 2\u001b[0;31m \u001b[0mfleiss_kappa\u001b[0m\u001b[0;34m(\u001b[0m\u001b[0msentiment_array\u001b[0m\u001b[0;34m,\u001b[0m \u001b[0mmethod\u001b[0m\u001b[0;34m=\u001b[0m\u001b[0;34m'fleiss'\u001b[0m\u001b[0;34m)\u001b[0m\u001b[0;34m\u001b[0m\u001b[0;34m\u001b[0m\u001b[0m\n\u001b[0m",
      "\u001b[0;32m~/miniconda3/envs/hatespeech/lib/python3.9/site-packages/statsmodels/stats/inter_rater.py\u001b[0m in \u001b[0;36mfleiss_kappa\u001b[0;34m(table, method)\u001b[0m\n\u001b[1;32m    248\u001b[0m     \u001b[0mn_rat\u001b[0m \u001b[0;34m=\u001b[0m \u001b[0mn_rater\u001b[0m\u001b[0;34m.\u001b[0m\u001b[0mmax\u001b[0m\u001b[0;34m(\u001b[0m\u001b[0;34m)\u001b[0m\u001b[0;34m\u001b[0m\u001b[0;34m\u001b[0m\u001b[0m\n\u001b[1;32m    249\u001b[0m     \u001b[0;31m#assume fully ranked\u001b[0m\u001b[0;34m\u001b[0m\u001b[0;34m\u001b[0m\u001b[0;34m\u001b[0m\u001b[0m\n\u001b[0;32m--> 250\u001b[0;31m     \u001b[0;32massert\u001b[0m \u001b[0mn_total\u001b[0m \u001b[0;34m==\u001b[0m \u001b[0mn_sub\u001b[0m \u001b[0;34m*\u001b[0m \u001b[0mn_rat\u001b[0m\u001b[0;34m\u001b[0m\u001b[0;34m\u001b[0m\u001b[0m\n\u001b[0m\u001b[1;32m    251\u001b[0m \u001b[0;34m\u001b[0m\u001b[0m\n\u001b[1;32m    252\u001b[0m     \u001b[0;31m#marginal frequency  of categories\u001b[0m\u001b[0;34m\u001b[0m\u001b[0;34m\u001b[0m\u001b[0;34m\u001b[0m\u001b[0m\n",
      "\u001b[0;31mAssertionError\u001b[0m: "
     ]
    }
   ],
   "source": [
    "from statsmodels.stats.inter_rater import fleiss_kappa\n",
    "fleiss_kappa(sentiment_array, method='fleiss')"
   ]
  },
  {
   "cell_type": "markdown",
   "id": "91a809d8-6195-434a-b348-ced6f376616f",
   "metadata": {},
   "source": [
    "#trying with disagreement library\n",
    "\n",
    "https://towardsdatascience.com/assessing-annotator-disagreements-in-python-to-build-a-robust-dataset-for-machine-learning-16c74b49f043\n",
    "\n"
   ]
  },
  {
   "cell_type": "code",
   "execution_count": 53,
   "id": "bb1a1abd-94ee-494c-84a0-f5a364f9f69f",
   "metadata": {},
   "outputs": [
    {
     "name": "stdout",
     "output_type": "stream",
     "text": [
      "Collecting disagree\n",
      "  Downloading disagree-1.2.3-py3-none-any.whl (10 kB)\n",
      "Requirement already satisfied: scipy>=1.1.0 in /home/rbarreto/miniconda3/envs/hatespeech/lib/python3.9/site-packages (from disagree) (1.6.2)\n",
      "Requirement already satisfied: pandas>=0.23.0 in /home/rbarreto/miniconda3/envs/hatespeech/lib/python3.9/site-packages (from disagree) (1.2.5)\n",
      "Requirement already satisfied: tqdm>=4.26.0 in /home/rbarreto/miniconda3/envs/hatespeech/lib/python3.9/site-packages (from disagree) (4.62.2)\n",
      "Requirement already satisfied: python-dateutil>=2.7.3 in /home/rbarreto/miniconda3/envs/hatespeech/lib/python3.9/site-packages (from pandas>=0.23.0->disagree) (2.8.1)\n",
      "Requirement already satisfied: pytz>=2017.3 in /home/rbarreto/miniconda3/envs/hatespeech/lib/python3.9/site-packages (from pandas>=0.23.0->disagree) (2021.1)\n",
      "Requirement already satisfied: numpy>=1.16.5 in /home/rbarreto/miniconda3/envs/hatespeech/lib/python3.9/site-packages (from pandas>=0.23.0->disagree) (1.20.2)\n",
      "Requirement already satisfied: six>=1.5 in /home/rbarreto/miniconda3/envs/hatespeech/lib/python3.9/site-packages (from python-dateutil>=2.7.3->pandas>=0.23.0->disagree) (1.16.0)\n",
      "Installing collected packages: disagree\n",
      "Successfully installed disagree-1.2.3\n"
     ]
    }
   ],
   "source": [
    "! pip install disagree"
   ]
  },
  {
   "cell_type": "code",
   "execution_count": 60,
   "id": "ac702130-ace0-4755-829c-75261003b5ea",
   "metadata": {},
   "outputs": [
    {
     "name": "stdout",
     "output_type": "stream",
     "text": [
      "Looking in indexes: https://pypi.org/project/\n",
      "Requirement already satisfied: disagree in /home/rbarreto/miniconda3/envs/hatespeech/lib/python3.9/site-packages (1.2.3)\n",
      "Requirement already satisfied: pandas>=0.23.0 in /home/rbarreto/miniconda3/envs/hatespeech/lib/python3.9/site-packages (from disagree) (1.2.5)\n",
      "Requirement already satisfied: tqdm>=4.26.0 in /home/rbarreto/miniconda3/envs/hatespeech/lib/python3.9/site-packages (from disagree) (4.62.2)\n",
      "Requirement already satisfied: scipy>=1.1.0 in /home/rbarreto/miniconda3/envs/hatespeech/lib/python3.9/site-packages (from disagree) (1.6.2)\n",
      "Requirement already satisfied: python-dateutil>=2.7.3 in /home/rbarreto/miniconda3/envs/hatespeech/lib/python3.9/site-packages (from pandas>=0.23.0->disagree) (2.8.1)\n",
      "Requirement already satisfied: pytz>=2017.3 in /home/rbarreto/miniconda3/envs/hatespeech/lib/python3.9/site-packages (from pandas>=0.23.0->disagree) (2021.1)\n",
      "Requirement already satisfied: numpy>=1.16.5 in /home/rbarreto/miniconda3/envs/hatespeech/lib/python3.9/site-packages (from pandas>=0.23.0->disagree) (1.20.2)\n",
      "Requirement already satisfied: six>=1.5 in /home/rbarreto/miniconda3/envs/hatespeech/lib/python3.9/site-packages (from python-dateutil>=2.7.3->pandas>=0.23.0->disagree) (1.16.0)\n"
     ]
    }
   ],
   "source": [
    "! python3 -m pip install --index-url https://pypi.org/project/ disagree"
   ]
  },
  {
   "cell_type": "code",
   "execution_count": 1,
   "id": "919e3ffd-8de7-4bbc-977c-62d417bd3b2e",
   "metadata": {},
   "outputs": [
    {
     "name": "stdout",
     "output_type": "stream",
     "text": [
      "Requirement already satisfied: disagree in /home/rbarreto/miniconda3/envs/hatespeech/lib/python3.9/site-packages (0.1.6)\n",
      "Requirement already satisfied: scipy>=1.1.0 in /home/rbarreto/miniconda3/envs/hatespeech/lib/python3.9/site-packages (from disagree) (1.6.2)\n",
      "Requirement already satisfied: pandas>=0.23.0 in /home/rbarreto/miniconda3/envs/hatespeech/lib/python3.9/site-packages (from disagree) (1.2.5)\n",
      "Requirement already satisfied: matplotlib>=2.2.3 in /home/rbarreto/miniconda3/envs/hatespeech/lib/python3.9/site-packages (from disagree) (3.3.4)\n",
      "Requirement already satisfied: tqdm>=4.26.0 in /home/rbarreto/miniconda3/envs/hatespeech/lib/python3.9/site-packages (from disagree) (4.62.2)\n",
      "Requirement already satisfied: cycler>=0.10 in /home/rbarreto/miniconda3/envs/hatespeech/lib/python3.9/site-packages (from matplotlib>=2.2.3->disagree) (0.10.0)\n",
      "Requirement already satisfied: numpy>=1.15 in /home/rbarreto/miniconda3/envs/hatespeech/lib/python3.9/site-packages (from matplotlib>=2.2.3->disagree) (1.20.2)\n",
      "Requirement already satisfied: pillow>=6.2.0 in /home/rbarreto/miniconda3/envs/hatespeech/lib/python3.9/site-packages (from matplotlib>=2.2.3->disagree) (8.2.0)\n",
      "Requirement already satisfied: python-dateutil>=2.1 in /home/rbarreto/miniconda3/envs/hatespeech/lib/python3.9/site-packages (from matplotlib>=2.2.3->disagree) (2.8.1)\n",
      "Requirement already satisfied: pyparsing!=2.0.4,!=2.1.2,!=2.1.6,>=2.0.3 in /home/rbarreto/miniconda3/envs/hatespeech/lib/python3.9/site-packages (from matplotlib>=2.2.3->disagree) (2.4.7)\n",
      "Requirement already satisfied: kiwisolver>=1.0.1 in /home/rbarreto/miniconda3/envs/hatespeech/lib/python3.9/site-packages (from matplotlib>=2.2.3->disagree) (1.3.1)\n",
      "Requirement already satisfied: six in /home/rbarreto/miniconda3/envs/hatespeech/lib/python3.9/site-packages (from cycler>=0.10->matplotlib>=2.2.3->disagree) (1.16.0)\n",
      "Requirement already satisfied: pytz>=2017.3 in /home/rbarreto/miniconda3/envs/hatespeech/lib/python3.9/site-packages (from pandas>=0.23.0->disagree) (2021.1)\n",
      "Note: you may need to restart the kernel to use updated packages.\n"
     ]
    }
   ],
   "source": [
    "pip install disagree"
   ]
  },
  {
   "cell_type": "code",
   "execution_count": 3,
   "id": "6ff3dfe4-8ff0-4bc4-8326-c561605bd27a",
   "metadata": {},
   "outputs": [
    {
     "name": "stdout",
     "output_type": "stream",
     "text": [
      "Requirement already satisfied: disagree in /home/rbarreto/miniconda3/envs/hatespeech/lib/python3.9/site-packages (1.2.3)\n",
      "Requirement already satisfied: scipy>=1.1.0 in /home/rbarreto/miniconda3/envs/hatespeech/lib/python3.9/site-packages (from disagree) (1.6.2)\n",
      "Requirement already satisfied: pandas>=0.23.0 in /home/rbarreto/miniconda3/envs/hatespeech/lib/python3.9/site-packages (from disagree) (1.2.5)\n",
      "Requirement already satisfied: tqdm>=4.26.0 in /home/rbarreto/miniconda3/envs/hatespeech/lib/python3.9/site-packages (from disagree) (4.62.2)\n",
      "Requirement already satisfied: python-dateutil>=2.7.3 in /home/rbarreto/miniconda3/envs/hatespeech/lib/python3.9/site-packages (from pandas>=0.23.0->disagree) (2.8.1)\n",
      "Requirement already satisfied: pytz>=2017.3 in /home/rbarreto/miniconda3/envs/hatespeech/lib/python3.9/site-packages (from pandas>=0.23.0->disagree) (2021.1)\n",
      "Requirement already satisfied: numpy>=1.16.5 in /home/rbarreto/miniconda3/envs/hatespeech/lib/python3.9/site-packages (from pandas>=0.23.0->disagree) (1.20.2)\n",
      "Requirement already satisfied: six>=1.5 in /home/rbarreto/miniconda3/envs/hatespeech/lib/python3.9/site-packages (from python-dateutil>=2.7.3->pandas>=0.23.0->disagree) (1.16.0)\n"
     ]
    }
   ],
   "source": [
    "! pip3 install disagree"
   ]
  },
  {
   "cell_type": "code",
   "execution_count": 6,
   "id": "cdf74648-7616-4d6f-b552-f64aa2d3ac04",
   "metadata": {},
   "outputs": [],
   "source": [
    "# from disagree import BiDisagreements\n",
    "# from disagree import Metrics, Krippendorff"
   ]
  },
  {
   "cell_type": "code",
   "execution_count": 14,
   "id": "b2324292-4ebd-40cd-8542-a6abe9e99d47",
   "metadata": {},
   "outputs": [],
   "source": [
    "\n",
    "def convert_dataframe(df):\n",
    "    \"\"\"\n",
    "    Input: df, with n(i,j)=jth annotation for ith data point\n",
    "    Output: new_data, dataframe with inputs updated to numbers indexed from zero\n",
    "            numbered_labels, list of integer labels from 0\n",
    "            data_dict, dict converting original labels to new integer labels\n",
    "    \"\"\"\n",
    "    data_dict, numbered_labels = flexible_data(df)\n",
    "\n",
    "    new_data = { }\n",
    "    for idx, col in df.iteritems():\n",
    "        new_col = []\n",
    "        isnull_col = list(pd.isnull(col))\n",
    "        for i in range(len(col)):\n",
    "            isnull = isnull_col[i]\n",
    "            if isnull:\n",
    "                new_col = new_col + [None]\n",
    "            else:\n",
    "                new_col.append(data_dict[col[i]])\n",
    "        new_data[idx] = new_col\n"
   ]
  },
  {
   "cell_type": "code",
   "execution_count": 15,
   "id": "42dd9ba4-4840-4714-8eb7-00237ebcb44e",
   "metadata": {},
   "outputs": [],
   "source": [
    "import numpy as np\n",
    "import pandas as pd\n",
    "import math\n",
    "import sys\n",
    "\n",
    "\n",
    "\n",
    "\n",
    "DATAFRAME_ERROR = \"Data input must be a pandas DataFrame\"\n",
    "\n",
    "\n",
    "def main_input_checks(df, labels):\n",
    "    if not isinstance(df, pd.DataFrame):\n",
    "        raise TypeError(DATAFRAME_ERROR)\n",
    "\n",
    "\n",
    "class BiDisagreements():\n",
    "    \"\"\"\n",
    "    Used for assessing absolute disagreements from manual annotations, with the\n",
    "    ability to visualise bidisagreements, and see values of other disagreement\n",
    "    quantities.\n",
    "    \"\"\"\n",
    "    def __init__(self, df):\n",
    "        \"\"\"\n",
    "        Parameters\n",
    "        ----------\n",
    "        annotator_labels: pandas dataframe, required\n",
    "            Columns indexed by annotator name; rows indexed by labelled instance\n",
    "        labels: list, required\n",
    "            List of all the possible labels\n",
    "            e.g. [label1, label2, label3, ... ]\n",
    "        \"\"\"\n",
    "        converted_data = convert_dataframe(df)\n",
    "        self.df = converted_data[0]\n",
    "        self.labels = converted_data[1]\n",
    "        self.data_dict = converted_data[2]\n",
    "\n",
    "        n = len(self.labels)\n",
    "        self.matrix = np.zeros((n, n))\n",
    "        self.reference_length = self.df.shape[0]\n",
    "\n",
    "        main_input_checks(self.df, self.labels)\n",
    "\n",
    "        # Initialise the empty agreements dictionary (good format for access efficiency later)\n",
    "        # Of the form { label1: {label1: num_disagreements, label2: num_disagreements, ... },\n",
    "        #               label2: {label1: num_disagreements, label2: num_disagreements, ... }, ... }\n",
    "        self.agreements_dict = {}\n",
    "        for label1 in self.labels:\n",
    "            if label1 not in self.agreements_dict and label1 != None:\n",
    "                self.agreements_dict[label1] = {}\n",
    "            else:\n",
    "                continue\n",
    "            for label2 in self.labels:\n",
    "                if label2 not in self.agreements_dict[label1] and label2 != None:\n",
    "                    self.agreements_dict[label1][label2] = 0\n",
    "\n",
    "    def agreements_summary(self):\n",
    "        \"\"\"\n",
    "        Prints out all of the return types outlined below.\n",
    "        Parameters\n",
    "        ----------\n",
    "        None\n",
    "        Returns\n",
    "        -------\n",
    "        full_agreement: int\n",
    "            Number of instances labelled with no disagreements\n",
    "        bidisagreement: int\n",
    "            Number of instances labelled with 1 disagreement\n",
    "        tridisagreement: int\n",
    "            Number of instances labelled with 2 disagreements\n",
    "        more: int\n",
    "            Number of instances labelled with 3 or more disagreements\n",
    "        \"\"\"\n",
    "        full_agreement, bidisagreement, tridisagreement, more = 0, 0, 0, 0\n",
    "        for idx, row in self.df.iterrows():\n",
    "            labels = [int(label) for label in row if not math.isnan(label)]\n",
    "            if len(labels) <= 1: # If no one labelled or if 1 person labelled\n",
    "                continue\n",
    "            num_disagreements = len(set(labels))\n",
    "            if num_disagreements == 1:\n",
    "                full_agreement += 1\n",
    "            elif num_disagreements == 2:\n",
    "                bidisagreement += 1\n",
    "            elif num_disagreements == 3:\n",
    "                tridisagreement += 1\n",
    "            else:\n",
    "                more += 1\n",
    "\n",
    "        print(\"Number of instances with:\")\n",
    "        print(\"=========================\")\n",
    "        print(\"No disagreement: \" + str(full_agreement))\n",
    "        print(\"Bidisagreement: \" + str(bidisagreement))\n",
    "        print(\"Tridisagreement: \" + str(tridisagreement))\n",
    "        print(\"More disagreements: \" + str(more))\n",
    "\n",
    "        return full_agreement, bidisagreement, tridisagreement, more\n",
    "\n",
    "    def dict2matrix(self):\n",
    "        # Used to convert agreements dictionary to agreements matrix\n",
    "        dict_ = self.agreements_dict\n",
    "        for key1 in dict_:\n",
    "            for key2 in dict_[key1]:\n",
    "                self.matrix[key1][key2] = dict_[key1][key2]\n",
    "\n",
    "    def agreements_matrix(self, normalise=False):\n",
    "        \"\"\"\n",
    "        Parameters\n",
    "        ----------\n",
    "        None\n",
    "        Returns\n",
    "        -------\n",
    "        agreements_matrix: numpy array\n",
    "            symmetric matrix of size (len(labels) x len(labels)), showing\n",
    "            label disagreements between annotators\n",
    "        \"\"\"\n",
    "        for idx, row in self.df.iterrows():\n",
    "            labels = [int(label) for label in row if not math.isnan(label)]\n",
    "            k = set(labels)\n",
    "            if len(k) == 2:\n",
    "                k = list(k)\n",
    "                label1 = k[0]\n",
    "                label2 = k[1]\n",
    "                self.agreements_dict[label1][label2] += 1\n",
    "                self.agreements_dict[label2][label1] += 1\n",
    "\n",
    "        self.dict2matrix()\n",
    "\n",
    "        if normalise:\n",
    "            num_labels = np.sum(self.matrix, axis=None) / 2\n",
    "            self.matrix = np.divide(self.matrix, num_labels)\n",
    "\n",
    "        return self.matrix"
   ]
  },
  {
   "cell_type": "code",
   "execution_count": 132,
   "id": "a368bdc4-f9ff-4f31-b2de-81d3f0dd5457",
   "metadata": {},
   "outputs": [],
   "source": [
    "import numpy as np\n",
    "import pandas as pd\n",
    "import itertools\n",
    "import math\n",
    "import sys\n",
    "\n",
    "from collections import Counter\n",
    "from tqdm import tqdm\n",
    "\n",
    "\n",
    "from scipy.stats import pearsonr, kendalltau, spearmanr\n",
    "\n",
    "\n",
    "DATAFRAME_ERROR = \"Data input must be a pandas DataFrame\"\n",
    "ANNOTATORS_ERROR = \"Invalid choice of annotators.\\n Possible options: \"\n",
    "KRIPP_DATA_TYPE_ERROR = \"\"\"Invalid 'data_type' input.\\n Possible options are\n",
    "(nominal, ordinal, interval, ratio)\"\"\"\n",
    "MATRIX_INPUT_ERROR = \"\"\"Error: The func argument must take two annotators as\n",
    "arguments. You may choose joint_probability or cohens_kappa\"\"\"\n",
    "\n",
    "\n",
    "def main_input_checks(df, labels):\n",
    "    if not isinstance(df, pd.DataFrame):\n",
    "        raise TypeError(DATAFRAME_ERROR)\n",
    "\n",
    "\n",
    "class Metrics():\n",
    "    def __init__(self, df):\n",
    "        converted_data = convert_dataframe(df)\n",
    "        self.df = converted_data[0]\n",
    "        self.labels = converted_data[1]\n",
    "        self.data_dict = converted_data[2]\n",
    "        main_input_checks(self.df, self.labels)\n",
    "\n",
    "    def joint_probability(self, ann1, ann2):\n",
    "        \"\"\"\n",
    "        The joint probability of agreement between two annotators.\n",
    "        The most basic (and least useful) statistic to measure pairwise\n",
    "        annotator agreement for non-continuous labelling.\n",
    "        Parameters\n",
    "        ----------\n",
    "        ann1: string\n",
    "            Name of one of the annotators\n",
    "        ann2: string\n",
    "            Name of another annotator\n",
    "        Returns\n",
    "        -------\n",
    "        Probability of the two annotators agreeing across all instances\n",
    "        \"\"\"\n",
    "        all_anns = self.df.columns\n",
    "        if (ann1 not in all_anns or ann2 not in all_anns):\n",
    "            raise ValueError(ANNOTATORS_ERROR + str(list(all_anns)))\n",
    "\n",
    "        df = self.df.dropna(subset=[ann1, ann2])\n",
    "        ann1_labels = df[ann1].values.tolist()\n",
    "        ann2_labels = df[ann2].values.tolist()\n",
    "        zipped = zip(ann1_labels, ann2_labels)\n",
    "        agree = [1 if label[0] == label[1] else 0 for label in zipped]\n",
    "\n",
    "        return sum(agree) / len(agree)\n",
    "\n",
    "    def cohens_kappa(self, ann1, ann2):\n",
    "        \"\"\"\n",
    "        A statistic to measure pairwise annotator agreement for non-continuous\n",
    "        labelling.\n",
    "        Parameters\n",
    "        ----------\n",
    "        ann1: string\n",
    "            Name of one of the annotators\n",
    "        ann2: string\n",
    "            Name of another annotator\n",
    "        Returns\n",
    "        -------\n",
    "        Cohen's kappa statistic between the two annotators\n",
    "        \"\"\"\n",
    "        all_anns = self.df.columns\n",
    "        if (ann1 not in all_anns or ann2 not in all_anns):\n",
    "            raise ValueError(ANNOTATORS_ERROR + str(list(all_anns)))\n",
    "\n",
    "        df = self.df.dropna(subset=[ann1, ann2])\n",
    "        ann1_labels = df[ann1].values.tolist()\n",
    "        ann2_labels = df[ann2].values.tolist()\n",
    "        num_instances = self.df.shape[0]\n",
    "        num_categories = len(self.labels)\n",
    "\n",
    "        ann1_num, ann2_num = [], []\n",
    "        for label in self.labels:\n",
    "            ann1_counter = Counter(ann1_labels)\n",
    "            ann2_counter = Counter(ann2_labels)\n",
    "            ann1_num.append(ann1_counter[label])\n",
    "            ann2_num.append(ann2_counter[label])\n",
    "\n",
    "        assert len(ann1_num) == len(self.labels)\n",
    "        assert len(ann1_num) == len(self.labels)\n",
    "\n",
    "        summation = 0\n",
    "        for i in range(len(ann1_num)):\n",
    "            summation += (ann1_num[i] * ann2_num[i])\n",
    "\n",
    "        chance_agreement_prob = (1 / num_instances ** 2) * summation\n",
    "        observed_agreement_prob = self.joint_probability(ann1, ann2)\n",
    "\n",
    "        if chance_agreement_prob == 1:\n",
    "            return 1.\n",
    "\n",
    "        numerator = observed_agreement_prob - chance_agreement_prob\n",
    "        denominator = 1. - chance_agreement_prob\n",
    "\n",
    "        return numerator / denominator\n",
    "\n",
    "    def df2table(self, df):\n",
    "        # fleiss_kappa() helper function\n",
    "        # Convert df(rows=instances, cols=annotators)\n",
    "        # to df(rows=instances, cols=labels)\n",
    "        n = len(self.labels)\n",
    "\n",
    "        df_rows = []\n",
    "        for idx, row in df.iterrows():\n",
    "            labels = [0] * n\n",
    "            for label in row:\n",
    "                if not math.isnan(label):\n",
    "                    labels[int(label)] += 1\n",
    "            df_rows.append(labels)\n",
    "\n",
    "        return pd.DataFrame(df_rows, columns=self.labels)\n",
    "\n",
    "    def proportion_label_per_category(self, df):\n",
    "        # fleiss_kappa() helper function\n",
    "        # Formula for calculating the proportion of all annotator\n",
    "        # labels to the j-th category (list of all j)\n",
    "        num_assignments = list(df.sum(axis=0))\n",
    "        normaliser = 1. / sum(num_assignments)\n",
    "\n",
    "        return [normaliser * i for i in num_assignments]\n",
    "\n",
    "    def rater_agreement_extent(self, df):\n",
    "        # fleiss_kappa() helper function\n",
    "        # Formula for calculating the extent to which annotators\n",
    "        # agree on instance j (list of all j)\n",
    "        # Returns 1 for full agreement\n",
    "        total_labels = list(df.sum(axis=1))\n",
    "        df2 = df ** 2\n",
    "        total_labels_squared = list(df2.sum(axis=1))\n",
    "        v1 = np.array(total_labels_squared)\n",
    "        v2 = np.array(total_labels)\n",
    "        summations = list(v1 - v2)\n",
    "\n",
    "        final = []\n",
    "        for i in range(len(total_labels)):\n",
    "            try:\n",
    "                normalise = 1. / (total_labels[i] * (total_labels[i] - 1.))\n",
    "            except ZeroDivisionError:\n",
    "                normalise = 0\n",
    "            final.append(normalise * summations[i])\n",
    "\n",
    "        return final\n",
    "\n",
    "    def fleiss_kappa(self):\n",
    "        \"\"\"\n",
    "        A statistic to measure agreement between any number of annotators\n",
    "        for non-continuous labelling.\n",
    "        Parameters\n",
    "        ----------\n",
    "        None\n",
    "        Returns\n",
    "        -------\n",
    "        Fleiss' kappa statistic for all the annotators\n",
    "        \"\"\"\n",
    "        labels_per_instance = []\n",
    "        for i, row in self.df.iterrows():\n",
    "            num_nans = sum(math.isnan(k) for k in row)\n",
    "            labels_per_instance.append(len(row) - num_nans)\n",
    "\n",
    "        num_instances = self.df.shape[0]\n",
    "        fleiss_df = self.df2table(self.df)\n",
    "        prop_labels_per_cat = self.proportion_label_per_category(fleiss_df)\n",
    "        rater_agreement_extent = self.rater_agreement_extent(fleiss_df)\n",
    "\n",
    "        mean_P = (1 / num_instances) * sum(rater_agreement_extent)\n",
    "        mean_p = sum([i ** 2 for i in prop_labels_per_cat])\n",
    "\n",
    "        if mean_p == 1:\n",
    "            return 1.\n",
    "\n",
    "        return (mean_P - mean_p) / (1 - mean_p)\n",
    "\n",
    "    def correlation(self, ann1, ann2, measure=\"pearson\"):\n",
    "        \"\"\"\n",
    "        Computes the correlation coefficient as a statistic for\n",
    "        the agreement between two annotators. This\n",
    "        method uses the scipy.stats module.\n",
    "        Only appropriate for datasets larger than 500 or so (see scipy\n",
    "        documentation).\n",
    "        Parameters\n",
    "        ----------\n",
    "        ann1: string\n",
    "            Name of one of the annotators\n",
    "        ann2: string\n",
    "            Name of another annotator\n",
    "        measure: string, (\"kendall\", \"pearson\", \"spearman\")\n",
    "            Pearson r, or Kendall tau, or Spearman rho statistics\n",
    "            Pearson: assumes continuously labelled data\n",
    "            Kendall/Spearman: assumes ordinal data\n",
    "        Returns\n",
    "        -------\n",
    "        Tuple, (correlation, p-value)\n",
    "        \"\"\"\n",
    "        P = \"pearson\"\n",
    "        S = \"spearman\"\n",
    "        K = \"kendall\"\n",
    "        if not (measure == P or measure == S or measure == K):\n",
    "            raise ValueError(\"Input measure '\" + str(measure) + \"' is invalid.\\n Possible options: (pearson, kendall, spearman)\")\n",
    "\n",
    "        all_anns = self.df.columns\n",
    "        if (ann1 not in all_anns or ann2 not in all_anns):\n",
    "            raise ValueError(ANNOTATORS_ERROR + str(list(all_anns)))\n",
    "\n",
    "        ann1_labels = self.df[ann1].values.tolist()\n",
    "        ann2_labels = self.df[ann2].values.tolist()\n",
    "\n",
    "        ann1_, ann2_ = [], []\n",
    "        for i, label in enumerate(ann1_labels):\n",
    "            ann2_label = ann2_labels[i]\n",
    "            if (not math.isnan(label) and not math.isnan(ann2_label)):\n",
    "                ann1_.append(label)\n",
    "                ann2_.append(ann2_label)\n",
    "\n",
    "        if (len(ann1_) == 0 and len(ann2_) == 0):\n",
    "            raise ValueError(\"Annotators \" + str(ann1) + \" and \" + str(ann2) + \" have not labelled any of the same instances.\")\n",
    "\n",
    "        if measure == \"pearson\":\n",
    "            result = pearsonr(ann1_, ann2_)\n",
    "            return (abs(result[0]), result[1])\n",
    "        elif measure == \"kendall\":\n",
    "            result = kendalltau(ann1_, ann2_)\n",
    "            return (abs(result[0]), result[1])\n",
    "        elif measure == \"spearman\":\n",
    "            result = spearmanr(ann1_, ann2_)\n",
    "            return (abs(result[0]), result[1])\n",
    "\n",
    "    def metric_matrix(self, func):\n",
    "        all_anns = [ann for ann in self.df.columns]\n",
    "        matrix = np.zeros((len(all_anns), len(all_anns)))\n",
    "\n",
    "        for i, ann1 in enumerate(all_anns):\n",
    "            for j, ann2 in enumerate(all_anns):\n",
    "                try:\n",
    "                    val = func(ann1, ann2)\n",
    "                    matrix[i][j] = float(\"{:.3f}\".format(val))\n",
    "                except TypeError:\n",
    "                    print(MATRIX_INPUT_ERROR)\n",
    "                    sys.exit(1)\n",
    "\n",
    "        return matrix\n",
    "\n",
    "    def instance_degree(self, labels):\n",
    "        # bidisagreement_degree() helper function.\n",
    "        # Computes the degree for a given instance of data, input as a list of annotations\n",
    "        all_labels = set(labels)\n",
    "\n",
    "        if len(all_labels) != 2:\n",
    "            return 0\n",
    "\n",
    "        label1 = all_labels[0]\n",
    "        label2 = all_labels[1]\n",
    "\n",
    "        if labels.count(label1) > labels.count(label2):\n",
    "            looper = label1\n",
    "        else:\n",
    "            looper = label2\n",
    "\n",
    "        new_labels = [1 if i == looper else 0 for i in labels]\n",
    "        count = sum(new_labels)\n",
    "        degree = (len(labels) - count) / count\n",
    "\n",
    "        return degree\n",
    "\n",
    "    def bidisagreement_degree(self):\n",
    "        \"\"\"\n",
    "        Computes the degree of bidisagreements throughout the dataset.\n",
    "        This is done by considering each bidisagreement, and assigning\n",
    "        a value to this based on how stong the bidisagreement is.\n",
    "        Example: For a given instance, if half of the values are different\n",
    "        then the degree is 1, and if all are the same except for one, then\n",
    "        the degree will be as close to zero as possible.\n",
    "        Parameters\n",
    "        ----------\n",
    "        None\n",
    "        Returns\n",
    "        -------\n",
    "        Float\n",
    "        \"\"\"\n",
    "        average_degree = 0\n",
    "        for instance in self.df.itertuples():\n",
    "            instance = list(instance)\n",
    "            degree = self.instance_degree(instance)\n",
    "            average_degree += degree\n",
    "\n",
    "        return average_degree / self.df.shape[0]\n",
    "\n",
    "\n",
    "def main_count_(num_instances, labels_per_instance, num_anns, df_as_matrix, i, j):\n",
    "    main_count = 0\n",
    "    for k in range(num_instances):\n",
    "        count = 0\n",
    "        m = labels_per_instance[k]\n",
    "        if (m == 0 or m == 1):\n",
    "            continue\n",
    "        for perm in itertools.permutations(range(num_anns), 2):\n",
    "            b1 = int((df_as_matrix[perm[0]][k] == i))\n",
    "            b2 = int((df_as_matrix[perm[1]][k] == j))\n",
    "            count += (b1 * b2)\n",
    "        count /= (m - 1)\n",
    "        main_count += count\n",
    "    return main_count\n",
    "\n",
    "def coincidence_mat(df_as_matrix, labels, num_anns, num_instances, labels_per_instance, use_tqdm):\n",
    "    # Helper function for metrics.Krippendorff.\n",
    "    # For technical details on the coincidence matrix, see the\n",
    "    # Krippendorff's alpha Wikipedia page.\n",
    "    coincidence_mat = np.zeros((len(labels), len(labels)))\n",
    "\n",
    "    if use_tqdm:\n",
    "        loop_object = tqdm(labels)\n",
    "    else:\n",
    "        loop_object = labels\n",
    "\n",
    "    for i, label in enumerate(loop_object):\n",
    "        for j in range(len(labels)):\n",
    "            main_count = main_count_(num_instances, labels_per_instance, num_anns, df_as_matrix, i, j)\n",
    "            coincidence_mat[i][j] = main_count\n",
    "\n",
    "    return coincidence_mat\n",
    "\n",
    "\n",
    "class Krippendorff():\n",
    "    \"\"\"\n",
    "    Class for computing Krippendorff's alpha statistic between annotations\n",
    "    agreements.\n",
    "    Parameters\n",
    "    ----------\n",
    "    df: pandas DataFrame\n",
    "        rows are data instances, columns are annotator labels\n",
    "    labels: list\n",
    "        list of possible labels from 0 up\n",
    "    Initialised\n",
    "    -----------\n",
    "    num_anns: float\n",
    "        number of annotators in the data\n",
    "    num_instances: float\n",
    "        number of instances of labelled data\n",
    "    A: numpy array\n",
    "        matrix version of the dataframe transposed\n",
    "    labels_per_instance: list\n",
    "        list of len(num_instances)\n",
    "        Each element is the number of times that instance was labelled\n",
    "    coincidence_matrix: numpy array\n",
    "        matrix computed in coincidence_mat()\n",
    "    coincidence_matrix_sum: 1D numpy array\n",
    "        sum of rows/columns in coincidence_matrix\n",
    "    \"\"\"\n",
    "    def __init__(self, df, use_tqdm=False):\n",
    "        converted_data = convert_dataframe(df)\n",
    "        self.df = converted_data[0]\n",
    "        self.labels = converted_data[1]\n",
    "        self.data_dict = converted_data[2]\n",
    "\n",
    "        #main_input_checks(df, labels)\n",
    "\n",
    "        #self.df = df\n",
    "        #self.labels = labels\n",
    "        self.num_anns = self.df.shape[1]\n",
    "        self.num_instances = self.df.shape[0]\n",
    "        self.A = self.df.values\n",
    "        self.A = self.A.transpose()\n",
    "        self.use_tqdm = use_tqdm\n",
    "\n",
    "        self.labels_per_instance = []\n",
    "        for i, row in self.df.iterrows():\n",
    "            self.labels_per_instance.append(len(row) - sum(math.isnan(k) for k in row))\n",
    "\n",
    "        self.coincidence_matrix = coincidence_mat(self.A, self.labels, self.num_anns, self.num_instances, self.labels_per_instance, self.use_tqdm)\n",
    "        self.coincidence_matrix_sum = np.sum(self.coincidence_matrix, axis=0)\n",
    "\n",
    "    def delta_nominal(self, v1, v2):\n",
    "        if v1 == v2:\n",
    "            return 0\n",
    "        else:\n",
    "            return 1\n",
    "\n",
    "    def delta_ordinal(self, v1, v2):\n",
    "        v1, v2 = int(v1), int(v2)\n",
    "\n",
    "        val = 0\n",
    "        for g in range(v1, v2 + 1):\n",
    "            element1 = self.coincidence_matrix_sum[g]\n",
    "            val += element1\n",
    "\n",
    "        element2 = (self.coincidence_matrix_sum[v1] + self.coincidence_matrix_sum[v2]) / 2.\n",
    "        val = val - element2\n",
    "\n",
    "        return val ** 2\n",
    "\n",
    "    def delta_interval(self, v1, v2):\n",
    "        v1, v2 = float(v1), float(v2)\n",
    "        return (v1 - v2) ** 2\n",
    "\n",
    "    def delta_ratio(self, v1, v2):\n",
    "        v1, v2 = float(v1), float(v2)\n",
    "        return ((v1 - v2) / (v1 + v2)) ** 2\n",
    "\n",
    "    def disagreement(self, obs_or_exp, data_type):\n",
    "        if obs_or_exp == \"expected\":\n",
    "            n = self.coincidence_matrix_sum\n",
    "            n_total = sum(n)\n",
    "            coeff = 1 / (n_total - 1)\n",
    "        else:\n",
    "            coeff = 1\n",
    "\n",
    "        result = 0\n",
    "        for v1 in range(1, len(self.labels)):\n",
    "            for v2 in range(v1):\n",
    "                if data_type == \"nominal\":\n",
    "                    delta = self.delta_nominal(str(v1), str(v2))\n",
    "                elif data_type == \"ordinal\":\n",
    "                    delta = self.delta_ordinal(str(v1), str(v2))\n",
    "                elif data_type == \"interval\":\n",
    "                    delta = self.delta_interval(str(v1), str(v2))\n",
    "                elif data_type == \"ratio\":\n",
    "                    delta = self.delta_ratio(str(v1), str(v2))\n",
    "\n",
    "                if obs_or_exp == \"observed\":\n",
    "                    result += (self.coincidence_matrix[v1][v2] * delta)\n",
    "                else:\n",
    "                    result += (n[v1] * n[v2] * delta)\n",
    "\n",
    "        return coeff * result\n",
    "\n",
    "    def alpha(self, data_type=\"nominal\"):\n",
    "        \"\"\"\n",
    "        Attribute used to produce Krippendorff's alpha\n",
    "        Parameters\n",
    "        ----------\n",
    "        data_type: str, (\"nominal\", \"ordinal\", \"interval\", \"ratio\")\n",
    "        Returns\n",
    "        -------\n",
    "        Krippendorff's alpha: float\n",
    "        \"\"\"\n",
    "        if not (data_type == \"nominal\" or data_type == \"ordinal\" or data_type == \"interval\" or data_type == \"ratio\"):\n",
    "            raise ValueError(KRIPP_DATA_TYPE_ERROR)\n",
    "\n",
    "        observed_disagreement = self.disagreement(obs_or_exp=\"observed\",\n",
    "                                                  data_type=data_type)\n",
    "        expected_disagreement = self.disagreement(obs_or_exp=\"expected\",\n",
    "                                                  data_type=data_type)\n",
    "\n",
    "        if expected_disagreement == 0:\n",
    "            return 1.\n",
    "\n",
    "        return 1 - (observed_disagreement / expected_disagreement)"
   ]
  },
  {
   "cell_type": "code",
   "execution_count": 121,
   "id": "1b9a38ec-3384-4081-a6ed-57d2fb581327",
   "metadata": {},
   "outputs": [
    {
     "data": {
      "text/html": [
       "<div>\n",
       "<style scoped>\n",
       "    .dataframe tbody tr th:only-of-type {\n",
       "        vertical-align: middle;\n",
       "    }\n",
       "\n",
       "    .dataframe tbody tr th {\n",
       "        vertical-align: top;\n",
       "    }\n",
       "\n",
       "    .dataframe thead th {\n",
       "        text-align: right;\n",
       "    }\n",
       "</style>\n",
       "<table border=\"1\" class=\"dataframe\">\n",
       "  <thead>\n",
       "    <tr style=\"text-align: right;\">\n",
       "      <th></th>\n",
       "      <th>sentiment</th>\n",
       "      <th>respect</th>\n",
       "      <th>insult</th>\n",
       "      <th>humiliate</th>\n",
       "      <th>status</th>\n",
       "      <th>dehumanize</th>\n",
       "      <th>violence_phys</th>\n",
       "      <th>genocide</th>\n",
       "      <th>attack_defend</th>\n",
       "      <th>hatespeech</th>\n",
       "      <th>...</th>\n",
       "      <th>demo_sexual_orien_2</th>\n",
       "      <th>demo_sexual_orien_3</th>\n",
       "      <th>demo_sexual_orien_4</th>\n",
       "      <th>demo_sexual_orien_5</th>\n",
       "      <th>demo_sexual_orien_4_text</th>\n",
       "      <th>demo_ideology</th>\n",
       "      <th>locationlatitude</th>\n",
       "      <th>locationlongitude</th>\n",
       "      <th>identity</th>\n",
       "      <th>hypothesis</th>\n",
       "    </tr>\n",
       "  </thead>\n",
       "  <tbody>\n",
       "    <tr>\n",
       "      <th>0</th>\n",
       "      <td>0.0</td>\n",
       "      <td>0.0</td>\n",
       "      <td>0.0</td>\n",
       "      <td>0.0</td>\n",
       "      <td>0.0</td>\n",
       "      <td>0.0</td>\n",
       "      <td>0.0</td>\n",
       "      <td>0.0</td>\n",
       "      <td>0.0</td>\n",
       "      <td>0.0</td>\n",
       "      <td>...</td>\n",
       "      <td>NaN</td>\n",
       "      <td>NaN</td>\n",
       "      <td>NaN</td>\n",
       "      <td>NaN</td>\n",
       "      <td></td>\n",
       "      <td>4.0</td>\n",
       "      <td>37.55029296875</td>\n",
       "      <td>-77.39420318603515625</td>\n",
       "      <td>0.917681</td>\n",
       "      <td>-1.130178</td>\n",
       "    </tr>\n",
       "    <tr>\n",
       "      <th>1</th>\n",
       "      <td>0.0</td>\n",
       "      <td>0.0</td>\n",
       "      <td>0.0</td>\n",
       "      <td>0.0</td>\n",
       "      <td>0.0</td>\n",
       "      <td>0.0</td>\n",
       "      <td>0.0</td>\n",
       "      <td>0.0</td>\n",
       "      <td>1.0</td>\n",
       "      <td>0.0</td>\n",
       "      <td>...</td>\n",
       "      <td>NaN</td>\n",
       "      <td>NaN</td>\n",
       "      <td>NaN</td>\n",
       "      <td>NaN</td>\n",
       "      <td></td>\n",
       "      <td>4.0</td>\n",
       "      <td>32.9568939208984375</td>\n",
       "      <td>-96.83170318603515625</td>\n",
       "      <td>0.918119</td>\n",
       "      <td>-1.146973</td>\n",
       "    </tr>\n",
       "    <tr>\n",
       "      <th>2</th>\n",
       "      <td>4.0</td>\n",
       "      <td>4.0</td>\n",
       "      <td>3.0</td>\n",
       "      <td>2.0</td>\n",
       "      <td>1.0</td>\n",
       "      <td>1.0</td>\n",
       "      <td>0.0</td>\n",
       "      <td>0.0</td>\n",
       "      <td>3.0</td>\n",
       "      <td>1.0</td>\n",
       "      <td>...</td>\n",
       "      <td>NaN</td>\n",
       "      <td>NaN</td>\n",
       "      <td>NaN</td>\n",
       "      <td>NaN</td>\n",
       "      <td></td>\n",
       "      <td>5.0</td>\n",
       "      <td>39.3361053466796875</td>\n",
       "      <td>-76.53890228271484375</td>\n",
       "      <td>0.985910</td>\n",
       "      <td>-0.207369</td>\n",
       "    </tr>\n",
       "    <tr>\n",
       "      <th>3</th>\n",
       "      <td>2.0</td>\n",
       "      <td>3.0</td>\n",
       "      <td>1.0</td>\n",
       "      <td>0.0</td>\n",
       "      <td>0.0</td>\n",
       "      <td>0.0</td>\n",
       "      <td>0.0</td>\n",
       "      <td>0.0</td>\n",
       "      <td>2.0</td>\n",
       "      <td>0.0</td>\n",
       "      <td>...</td>\n",
       "      <td>NaN</td>\n",
       "      <td>NaN</td>\n",
       "      <td>NaN</td>\n",
       "      <td>NaN</td>\n",
       "      <td></td>\n",
       "      <td>4.0</td>\n",
       "      <td>37.1439971923828125</td>\n",
       "      <td>-94.4727020263671875</td>\n",
       "      <td>0.969761</td>\n",
       "      <td>-0.055536</td>\n",
       "    </tr>\n",
       "    <tr>\n",
       "      <th>4</th>\n",
       "      <td>4.0</td>\n",
       "      <td>4.0</td>\n",
       "      <td>3.0</td>\n",
       "      <td>2.0</td>\n",
       "      <td>1.0</td>\n",
       "      <td>1.0</td>\n",
       "      <td>1.0</td>\n",
       "      <td>0.0</td>\n",
       "      <td>2.0</td>\n",
       "      <td>1.0</td>\n",
       "      <td>...</td>\n",
       "      <td>NaN</td>\n",
       "      <td>NaN</td>\n",
       "      <td>NaN</td>\n",
       "      <td>NaN</td>\n",
       "      <td></td>\n",
       "      <td>4.0</td>\n",
       "      <td>34.215301513671875</td>\n",
       "      <td>-79.64679718017578125</td>\n",
       "      <td>0.935462</td>\n",
       "      <td>0.104225</td>\n",
       "    </tr>\n",
       "  </tbody>\n",
       "</table>\n",
       "<p>5 rows × 135 columns</p>\n",
       "</div>"
      ],
      "text/plain": [
       "   sentiment  respect  insult  humiliate  status  dehumanize  violence_phys  \\\n",
       "0        0.0      0.0     0.0        0.0     0.0         0.0            0.0   \n",
       "1        0.0      0.0     0.0        0.0     0.0         0.0            0.0   \n",
       "2        4.0      4.0     3.0        2.0     1.0         1.0            0.0   \n",
       "3        2.0      3.0     1.0        0.0     0.0         0.0            0.0   \n",
       "4        4.0      4.0     3.0        2.0     1.0         1.0            1.0   \n",
       "\n",
       "   genocide  attack_defend  hatespeech  ...  demo_sexual_orien_2  \\\n",
       "0       0.0            0.0         0.0  ...                  NaN   \n",
       "1       0.0            1.0         0.0  ...                  NaN   \n",
       "2       0.0            3.0         1.0  ...                  NaN   \n",
       "3       0.0            2.0         0.0  ...                  NaN   \n",
       "4       0.0            2.0         1.0  ...                  NaN   \n",
       "\n",
       "  demo_sexual_orien_3 demo_sexual_orien_4 demo_sexual_orien_5  \\\n",
       "0                 NaN                 NaN                 NaN   \n",
       "1                 NaN                 NaN                 NaN   \n",
       "2                 NaN                 NaN                 NaN   \n",
       "3                 NaN                 NaN                 NaN   \n",
       "4                 NaN                 NaN                 NaN   \n",
       "\n",
       "   demo_sexual_orien_4_text  demo_ideology     locationlatitude  \\\n",
       "0                                      4.0       37.55029296875   \n",
       "1                                      4.0  32.9568939208984375   \n",
       "2                                      5.0  39.3361053466796875   \n",
       "3                                      4.0  37.1439971923828125   \n",
       "4                                      4.0   34.215301513671875   \n",
       "\n",
       "       locationlongitude  identity  hypothesis  \n",
       "0  -77.39420318603515625  0.917681   -1.130178  \n",
       "1  -96.83170318603515625  0.918119   -1.146973  \n",
       "2  -76.53890228271484375  0.985910   -0.207369  \n",
       "3   -94.4727020263671875  0.969761   -0.055536  \n",
       "4  -79.64679718017578125  0.935462    0.104225  \n",
       "\n",
       "[5 rows x 135 columns]"
      ]
     },
     "execution_count": 121,
     "metadata": {},
     "output_type": "execute_result"
    }
   ],
   "source": [
    "#we need to turn the dataset into a form that's compatible with the \n",
    "data_multi.head()"
   ]
  },
  {
   "cell_type": "code",
   "execution_count": 22,
   "id": "d7f52efb-cb1a-4121-8c25-fb56d94bed29",
   "metadata": {},
   "outputs": [
    {
     "data": {
      "text/plain": [
       "3887     26\n",
       "4997     26\n",
       "69       26\n",
       "6321     26\n",
       "10262    26\n",
       "         ..\n",
       "7388      6\n",
       "11135     6\n",
       "6695      6\n",
       "8562      6\n",
       "1090      6\n",
       "Name: labeler_id, Length: 7912, dtype: int64"
      ]
     },
     "execution_count": 22,
     "metadata": {},
     "output_type": "execute_result"
    }
   ],
   "source": [
    "#need to turn the annotator ID numbers into strings \n",
    "\n",
    "data_multi['labeler_id'].value_counts()"
   ]
  },
  {
   "cell_type": "code",
   "execution_count": 20,
   "id": "cc2276fc-5a34-4662-a5d3-28f91e9fb9f8",
   "metadata": {},
   "outputs": [
    {
     "data": {
      "text/plain": [
       "7912"
      ]
     },
     "execution_count": 20,
     "metadata": {},
     "output_type": "execute_result"
    }
   ],
   "source": [
    "#this is how many unique labeler ids we have in the dataset\n",
    "data_multi['labeler_id'].nunique()"
   ]
  },
  {
   "cell_type": "code",
   "execution_count": 25,
   "id": "5d7396d8-ac8d-4911-89a4-ba81dc74f635",
   "metadata": {},
   "outputs": [],
   "source": [
    "unique_labeler_ids = data_multi['labeler_id'].unique()"
   ]
  },
  {
   "cell_type": "code",
   "execution_count": 28,
   "id": "b402b3f4-bdce-4ef3-9245-78dfff9c9a16",
   "metadata": {},
   "outputs": [],
   "source": [
    "unique_labeler_ids = unique_labeler_ids.tolist()"
   ]
  },
  {
   "cell_type": "code",
   "execution_count": 32,
   "id": "e0b58b54-7ead-4b1e-8623-30adb526b3ac",
   "metadata": {},
   "outputs": [],
   "source": [
    "labeler_id_str = []\n",
    "for i in unique_labeler_ids:\n",
    "    labeler_string = str(i)\n",
    "    labeler_id_str.append(labeler_string)\n",
    "    "
   ]
  },
  {
   "cell_type": "code",
   "execution_count": 43,
   "id": "12dea924-ffcc-4f99-8a7b-9ffdc9783ad3",
   "metadata": {},
   "outputs": [
    {
     "data": {
      "text/plain": [
       "['10873',\n",
       " '2790',\n",
       " '3379',\n",
       " '7365',\n",
       " '488',\n",
       " '527',\n",
       " '3275',\n",
       " '6801',\n",
       " '10363',\n",
       " '10615']"
      ]
     },
     "execution_count": 43,
     "metadata": {},
     "output_type": "execute_result"
    }
   ],
   "source": [
    "labeler_id_str[0:10]\n"
   ]
  },
  {
   "cell_type": "code",
   "execution_count": null,
   "id": "a96ed1a8-bf05-4177-aada-a45dbbf095bb",
   "metadata": {},
   "outputs": [],
   "source": [
    "#now need to turn the list into columns in a new dataframe\n",
    "\n",
    "#steps:\n",
    "#create empty dataframe\n",
    "#add the column names from the items in the list"
   ]
  },
  {
   "cell_type": "code",
   "execution_count": 41,
   "id": "b04fbe74-ea54-4312-a068-2de6f87ae608",
   "metadata": {},
   "outputs": [],
   "source": [
    "#empty dataframe and assigning column names \n",
    "df_labeler_id = pd.DataFrame(columns = labeler_id_str)"
   ]
  },
  {
   "cell_type": "code",
   "execution_count": 42,
   "id": "68ad615f-43ed-423e-8388-359132fe5f4a",
   "metadata": {},
   "outputs": [
    {
     "data": {
      "text/html": [
       "<div>\n",
       "<style scoped>\n",
       "    .dataframe tbody tr th:only-of-type {\n",
       "        vertical-align: middle;\n",
       "    }\n",
       "\n",
       "    .dataframe tbody tr th {\n",
       "        vertical-align: top;\n",
       "    }\n",
       "\n",
       "    .dataframe thead th {\n",
       "        text-align: right;\n",
       "    }\n",
       "</style>\n",
       "<table border=\"1\" class=\"dataframe\">\n",
       "  <thead>\n",
       "    <tr style=\"text-align: right;\">\n",
       "      <th></th>\n",
       "      <th>10873</th>\n",
       "      <th>2790</th>\n",
       "      <th>3379</th>\n",
       "      <th>7365</th>\n",
       "      <th>488</th>\n",
       "      <th>527</th>\n",
       "      <th>3275</th>\n",
       "      <th>6801</th>\n",
       "      <th>10363</th>\n",
       "      <th>10615</th>\n",
       "      <th>...</th>\n",
       "      <th>3954</th>\n",
       "      <th>3186</th>\n",
       "      <th>6465</th>\n",
       "      <th>5932</th>\n",
       "      <th>5153</th>\n",
       "      <th>7388</th>\n",
       "      <th>11082</th>\n",
       "      <th>1090</th>\n",
       "      <th>8678</th>\n",
       "      <th>2616</th>\n",
       "    </tr>\n",
       "  </thead>\n",
       "  <tbody>\n",
       "  </tbody>\n",
       "</table>\n",
       "<p>0 rows × 7912 columns</p>\n",
       "</div>"
      ],
      "text/plain": [
       "Empty DataFrame\n",
       "Columns: [10873, 2790, 3379, 7365, 488, 527, 3275, 6801, 10363, 10615, 9750, 7331, 7259, 1329, 2171, 10173, 9912, 9312, 4546, 5487, 3863, 2576, 8749, 3948, 3559, 5717, 2017, 6701, 2689, 123, 44, 3540, 3610, 8856, 8325, 5754, 8072, 5860, 227, 9488, 8201, 2218, 8115, 9715, 2593, 4616, 9886, 5521, 7477, 6998, 8824, 6314, 8609, 1532, 1782, 10060, 3123, 4901, 2996, 2980, 2893, 2914, 4339, 10352, 3590, 4146, 3624, 2637, 2577, 2251, 5266, 9140, 4800, 4632, 3691, 10716, 7453, 4603, 6765, 1168, 10871, 1095, 10256, 10381, 3963, 5414, 9567, 4976, 1038, 415, 9054, 8017, 634, 3521, 1768, 10377, 3538, 7049, 5640, 9937, ...]\n",
       "Index: []\n",
       "\n",
       "[0 rows x 7912 columns]"
      ]
     },
     "execution_count": 42,
     "metadata": {},
     "output_type": "execute_result"
    }
   ],
   "source": [
    "#this is our working dataframe\n",
    "df_labeler_id"
   ]
  },
  {
   "cell_type": "code",
   "execution_count": null,
   "id": "6bcdd8cb-98a2-403d-90b9-6cd44de65d22",
   "metadata": {},
   "outputs": [],
   "source": [
    "#now we need to populate our dataframe\n",
    "\n",
    "#steps:\n",
    "#for each labeler id, get the label they gave each comment in a particular column (sentiment, hate speech etc)"
   ]
  },
  {
   "cell_type": "code",
   "execution_count": 44,
   "id": "c5924137-3369-44f9-970d-b1e773884237",
   "metadata": {},
   "outputs": [
    {
     "data": {
      "text/plain": [
       "39565"
      ]
     },
     "execution_count": 44,
     "metadata": {},
     "output_type": "execute_result"
    }
   ],
   "source": [
    "#how many unique comments we have will be how many rows the dataframe will have \n",
    "\n",
    "#number of unique comments so this should be the number of rows\n",
    "data_multi['comment_id'].nunique()"
   ]
  },
  {
   "cell_type": "code",
   "execution_count": 45,
   "id": "ab551a62-0386-4ae2-88fd-74550857276e",
   "metadata": {},
   "outputs": [],
   "source": [
    "#get the actually unique comments in the data\n",
    "\n",
    "unique_comment_ids = data_multi['comment_id'].unique().tolist()"
   ]
  },
  {
   "cell_type": "code",
   "execution_count": 46,
   "id": "633a5f83-8d3f-42e2-85df-2309a502f01f",
   "metadata": {},
   "outputs": [
    {
     "data": {
      "text/plain": [
       "[47777, 39773, 47101, 43625, 12538, 11001, 13168, 17034, 40171, 1006]"
      ]
     },
     "execution_count": 46,
     "metadata": {},
     "output_type": "execute_result"
    }
   ],
   "source": [
    "unique_comment_ids[:10]"
   ]
  },
  {
   "cell_type": "code",
   "execution_count": 47,
   "id": "d7ea5420-b974-433b-960a-87f7d5805823",
   "metadata": {},
   "outputs": [],
   "source": [
    "#turning the list into the index in the df\n",
    "df_labeler_id = pd.DataFrame(index = unique_comment_ids, columns = labeler_id_str)\n"
   ]
  },
  {
   "cell_type": "code",
   "execution_count": 50,
   "id": "cfcf6644-6606-4271-abcc-f31735637ec5",
   "metadata": {},
   "outputs": [
    {
     "data": {
      "text/html": [
       "<div>\n",
       "<style scoped>\n",
       "    .dataframe tbody tr th:only-of-type {\n",
       "        vertical-align: middle;\n",
       "    }\n",
       "\n",
       "    .dataframe tbody tr th {\n",
       "        vertical-align: top;\n",
       "    }\n",
       "\n",
       "    .dataframe thead th {\n",
       "        text-align: right;\n",
       "    }\n",
       "</style>\n",
       "<table border=\"1\" class=\"dataframe\">\n",
       "  <thead>\n",
       "    <tr style=\"text-align: right;\">\n",
       "      <th></th>\n",
       "      <th>10873</th>\n",
       "      <th>2790</th>\n",
       "      <th>3379</th>\n",
       "      <th>7365</th>\n",
       "      <th>488</th>\n",
       "      <th>527</th>\n",
       "      <th>3275</th>\n",
       "      <th>6801</th>\n",
       "      <th>10363</th>\n",
       "      <th>10615</th>\n",
       "      <th>...</th>\n",
       "      <th>3954</th>\n",
       "      <th>3186</th>\n",
       "      <th>6465</th>\n",
       "      <th>5932</th>\n",
       "      <th>5153</th>\n",
       "      <th>7388</th>\n",
       "      <th>11082</th>\n",
       "      <th>1090</th>\n",
       "      <th>8678</th>\n",
       "      <th>2616</th>\n",
       "    </tr>\n",
       "  </thead>\n",
       "  <tbody>\n",
       "    <tr>\n",
       "      <th>47777</th>\n",
       "      <td>NaN</td>\n",
       "      <td>NaN</td>\n",
       "      <td>NaN</td>\n",
       "      <td>NaN</td>\n",
       "      <td>NaN</td>\n",
       "      <td>NaN</td>\n",
       "      <td>NaN</td>\n",
       "      <td>NaN</td>\n",
       "      <td>NaN</td>\n",
       "      <td>NaN</td>\n",
       "      <td>...</td>\n",
       "      <td>NaN</td>\n",
       "      <td>NaN</td>\n",
       "      <td>NaN</td>\n",
       "      <td>NaN</td>\n",
       "      <td>NaN</td>\n",
       "      <td>NaN</td>\n",
       "      <td>NaN</td>\n",
       "      <td>NaN</td>\n",
       "      <td>NaN</td>\n",
       "      <td>NaN</td>\n",
       "    </tr>\n",
       "    <tr>\n",
       "      <th>39773</th>\n",
       "      <td>NaN</td>\n",
       "      <td>NaN</td>\n",
       "      <td>NaN</td>\n",
       "      <td>NaN</td>\n",
       "      <td>NaN</td>\n",
       "      <td>NaN</td>\n",
       "      <td>NaN</td>\n",
       "      <td>NaN</td>\n",
       "      <td>NaN</td>\n",
       "      <td>NaN</td>\n",
       "      <td>...</td>\n",
       "      <td>NaN</td>\n",
       "      <td>NaN</td>\n",
       "      <td>NaN</td>\n",
       "      <td>NaN</td>\n",
       "      <td>NaN</td>\n",
       "      <td>NaN</td>\n",
       "      <td>NaN</td>\n",
       "      <td>NaN</td>\n",
       "      <td>NaN</td>\n",
       "      <td>NaN</td>\n",
       "    </tr>\n",
       "    <tr>\n",
       "      <th>47101</th>\n",
       "      <td>NaN</td>\n",
       "      <td>NaN</td>\n",
       "      <td>NaN</td>\n",
       "      <td>NaN</td>\n",
       "      <td>NaN</td>\n",
       "      <td>NaN</td>\n",
       "      <td>NaN</td>\n",
       "      <td>NaN</td>\n",
       "      <td>NaN</td>\n",
       "      <td>NaN</td>\n",
       "      <td>...</td>\n",
       "      <td>NaN</td>\n",
       "      <td>NaN</td>\n",
       "      <td>NaN</td>\n",
       "      <td>NaN</td>\n",
       "      <td>NaN</td>\n",
       "      <td>NaN</td>\n",
       "      <td>NaN</td>\n",
       "      <td>NaN</td>\n",
       "      <td>NaN</td>\n",
       "      <td>NaN</td>\n",
       "    </tr>\n",
       "    <tr>\n",
       "      <th>43625</th>\n",
       "      <td>NaN</td>\n",
       "      <td>NaN</td>\n",
       "      <td>NaN</td>\n",
       "      <td>NaN</td>\n",
       "      <td>NaN</td>\n",
       "      <td>NaN</td>\n",
       "      <td>NaN</td>\n",
       "      <td>NaN</td>\n",
       "      <td>NaN</td>\n",
       "      <td>NaN</td>\n",
       "      <td>...</td>\n",
       "      <td>NaN</td>\n",
       "      <td>NaN</td>\n",
       "      <td>NaN</td>\n",
       "      <td>NaN</td>\n",
       "      <td>NaN</td>\n",
       "      <td>NaN</td>\n",
       "      <td>NaN</td>\n",
       "      <td>NaN</td>\n",
       "      <td>NaN</td>\n",
       "      <td>NaN</td>\n",
       "    </tr>\n",
       "    <tr>\n",
       "      <th>12538</th>\n",
       "      <td>NaN</td>\n",
       "      <td>NaN</td>\n",
       "      <td>NaN</td>\n",
       "      <td>NaN</td>\n",
       "      <td>NaN</td>\n",
       "      <td>NaN</td>\n",
       "      <td>NaN</td>\n",
       "      <td>NaN</td>\n",
       "      <td>NaN</td>\n",
       "      <td>NaN</td>\n",
       "      <td>...</td>\n",
       "      <td>NaN</td>\n",
       "      <td>NaN</td>\n",
       "      <td>NaN</td>\n",
       "      <td>NaN</td>\n",
       "      <td>NaN</td>\n",
       "      <td>NaN</td>\n",
       "      <td>NaN</td>\n",
       "      <td>NaN</td>\n",
       "      <td>NaN</td>\n",
       "      <td>NaN</td>\n",
       "    </tr>\n",
       "  </tbody>\n",
       "</table>\n",
       "<p>5 rows × 7912 columns</p>\n",
       "</div>"
      ],
      "text/plain": [
       "      10873 2790 3379 7365  488  527 3275 6801 10363 10615  ... 3954 3186  \\\n",
       "47777   NaN  NaN  NaN  NaN  NaN  NaN  NaN  NaN   NaN   NaN  ...  NaN  NaN   \n",
       "39773   NaN  NaN  NaN  NaN  NaN  NaN  NaN  NaN   NaN   NaN  ...  NaN  NaN   \n",
       "47101   NaN  NaN  NaN  NaN  NaN  NaN  NaN  NaN   NaN   NaN  ...  NaN  NaN   \n",
       "43625   NaN  NaN  NaN  NaN  NaN  NaN  NaN  NaN   NaN   NaN  ...  NaN  NaN   \n",
       "12538   NaN  NaN  NaN  NaN  NaN  NaN  NaN  NaN   NaN   NaN  ...  NaN  NaN   \n",
       "\n",
       "      6465 5932 5153 7388 11082 1090 8678 2616  \n",
       "47777  NaN  NaN  NaN  NaN   NaN  NaN  NaN  NaN  \n",
       "39773  NaN  NaN  NaN  NaN   NaN  NaN  NaN  NaN  \n",
       "47101  NaN  NaN  NaN  NaN   NaN  NaN  NaN  NaN  \n",
       "43625  NaN  NaN  NaN  NaN   NaN  NaN  NaN  NaN  \n",
       "12538  NaN  NaN  NaN  NaN   NaN  NaN  NaN  NaN  \n",
       "\n",
       "[5 rows x 7912 columns]"
      ]
     },
     "execution_count": 50,
     "metadata": {},
     "output_type": "execute_result"
    }
   ],
   "source": [
    "#looking at our df\n",
    "df_labeler_id.head()\n"
   ]
  },
  {
   "cell_type": "code",
   "execution_count": 52,
   "id": "c1cf59d7-a6fa-4fb1-9b57-5532bd1b436b",
   "metadata": {},
   "outputs": [
    {
     "data": {
      "text/plain": [
       "(39565, 7912)"
      ]
     },
     "execution_count": 52,
     "metadata": {},
     "output_type": "execute_result"
    }
   ],
   "source": [
    "#getting rows columns in df\n",
    "df_labeler_id.shape"
   ]
  },
  {
   "cell_type": "code",
   "execution_count": 55,
   "id": "2101ac7f-4ebd-4ed3-8a53-104a67e14501",
   "metadata": {},
   "outputs": [
    {
     "data": {
      "text/html": [
       "<div>\n",
       "<style scoped>\n",
       "    .dataframe tbody tr th:only-of-type {\n",
       "        vertical-align: middle;\n",
       "    }\n",
       "\n",
       "    .dataframe tbody tr th {\n",
       "        vertical-align: top;\n",
       "    }\n",
       "\n",
       "    .dataframe thead th {\n",
       "        text-align: right;\n",
       "    }\n",
       "</style>\n",
       "<table border=\"1\" class=\"dataframe\">\n",
       "  <thead>\n",
       "    <tr style=\"text-align: right;\">\n",
       "      <th></th>\n",
       "      <th>comment_id</th>\n",
       "      <th>sentiment</th>\n",
       "    </tr>\n",
       "  </thead>\n",
       "  <tbody>\n",
       "    <tr>\n",
       "      <th>0</th>\n",
       "      <td>47777</td>\n",
       "      <td>0.0</td>\n",
       "    </tr>\n",
       "    <tr>\n",
       "      <th>9197</th>\n",
       "      <td>19104</td>\n",
       "      <td>3.0</td>\n",
       "    </tr>\n",
       "    <tr>\n",
       "      <th>13852</th>\n",
       "      <td>30025</td>\n",
       "      <td>3.0</td>\n",
       "    </tr>\n",
       "    <tr>\n",
       "      <th>36939</th>\n",
       "      <td>24079</td>\n",
       "      <td>2.0</td>\n",
       "    </tr>\n",
       "    <tr>\n",
       "      <th>60022</th>\n",
       "      <td>30298</td>\n",
       "      <td>3.0</td>\n",
       "    </tr>\n",
       "    <tr>\n",
       "      <th>73892</th>\n",
       "      <td>22834</td>\n",
       "      <td>3.0</td>\n",
       "    </tr>\n",
       "    <tr>\n",
       "      <th>92317</th>\n",
       "      <td>20045</td>\n",
       "      <td>4.0</td>\n",
       "    </tr>\n",
       "    <tr>\n",
       "      <th>107441</th>\n",
       "      <td>20024</td>\n",
       "      <td>3.0</td>\n",
       "    </tr>\n",
       "    <tr>\n",
       "      <th>115037</th>\n",
       "      <td>20027</td>\n",
       "      <td>4.0</td>\n",
       "    </tr>\n",
       "    <tr>\n",
       "      <th>128460</th>\n",
       "      <td>20065</td>\n",
       "      <td>1.0</td>\n",
       "    </tr>\n",
       "  </tbody>\n",
       "</table>\n",
       "</div>"
      ],
      "text/plain": [
       "        comment_id  sentiment\n",
       "0            47777        0.0\n",
       "9197         19104        3.0\n",
       "13852        30025        3.0\n",
       "36939        24079        2.0\n",
       "60022        30298        3.0\n",
       "73892        22834        3.0\n",
       "92317        20045        4.0\n",
       "107441       20024        3.0\n",
       "115037       20027        4.0\n",
       "128460       20065        1.0"
      ]
     },
     "execution_count": 55,
     "metadata": {},
     "output_type": "execute_result"
    }
   ],
   "source": [
    "#for each labeler id, getting the value they gave for each comment in sentiment\n",
    "#the assumption i'm making here is that each labeler only labeled a unique comment at most once (even if they didn't label all comments)\n",
    "\n",
    "data_multi[data_multi['labeler_id'] == 10873][['comment_id', 'sentiment']]"
   ]
  },
  {
   "cell_type": "code",
   "execution_count": 91,
   "id": "16299363-0632-4020-90e9-6b678afe7851",
   "metadata": {},
   "outputs": [
    {
     "data": {
      "text/plain": [
       "array([0., 3., 3., 2., 3., 3., 4., 3., 4., 1.])"
      ]
     },
     "execution_count": 91,
     "metadata": {},
     "output_type": "execute_result"
    }
   ],
   "source": [
    "\n",
    "data_multi[data_multi['labeler_id'] == 10873]['sentiment'].values"
   ]
  },
  {
   "cell_type": "code",
   "execution_count": null,
   "id": "6813a99a-548c-49e5-b5ef-916c2725737d",
   "metadata": {},
   "outputs": [],
   "source": [
    "{ 10873: {47777: 0, 19104: 3}, 2790: {} }"
   ]
  },
  {
   "cell_type": "code",
   "execution_count": 97,
   "id": "0bab5c7c-32c5-4c22-933f-fc2d61f7a6a4",
   "metadata": {},
   "outputs": [
    {
     "data": {
      "text/plain": [
       "{3: 6, 5: 7, 2: 1}"
      ]
     },
     "execution_count": 97,
     "metadata": {},
     "output_type": "execute_result"
    }
   ],
   "source": [
    "a = [3,5,2]\n",
    "b = [6,7,1]\n",
    "dict(zip(a, b))#[x for x in zip(a, b)]"
   ]
  },
  {
   "cell_type": "code",
   "execution_count": 98,
   "id": "5580bcf6-33f1-4a25-86ad-b2e7c8264c51",
   "metadata": {},
   "outputs": [],
   "source": [
    "#let's use a for loop here to get the structure above replicated\n",
    "\n",
    "#assumption: order is maintained for the comment_id, sentiment and the labeler_id (i)\n",
    "\n",
    "#initializing empty list\n",
    "comment_id_list = []\n",
    "sentiment_list = []\n",
    "\n",
    "master_dict = {}\n",
    "\n",
    "for i in unique_labeler_ids: \n",
    "    comments = data_multi[data_multi['labeler_id'] == i]['comment_id'].values\n",
    "    sents = data_multi[data_multi['labeler_id'] == i]['sentiment'].values\n",
    "    inner_dict = dict(zip(comments, sents))\n",
    "    master_dict[i] = inner_dict\n",
    "    # comment_id_list.append(comments)\n",
    "    # sentiment_list.append(sents)\n",
    "    \n"
   ]
  },
  {
   "cell_type": "code",
   "execution_count": 100,
   "id": "ea34d9a5-97e1-45eb-8868-042dd3ff2548",
   "metadata": {},
   "outputs": [
    {
     "data": {
      "text/plain": [
       "7912"
      ]
     },
     "execution_count": 100,
     "metadata": {},
     "output_type": "execute_result"
    }
   ],
   "source": [
    "len(master_dict)"
   ]
  },
  {
   "cell_type": "code",
   "execution_count": 106,
   "id": "4613dbdc-0c1c-4854-8074-49e9e98d59c0",
   "metadata": {},
   "outputs": [
    {
     "data": {
      "text/plain": [
       "{39773: 0.0,\n",
       " 12509: 2.0,\n",
       " 10392: 2.0,\n",
       " 38081: 3.0,\n",
       " 2633: 4.0,\n",
       " 15895: 3.0,\n",
       " 20068: 4.0,\n",
       " 20007: 4.0,\n",
       " 20022: 4.0,\n",
       " 20033: 4.0,\n",
       " 20051: 3.0,\n",
       " 20060: 0.0}"
      ]
     },
     "execution_count": 106,
     "metadata": {},
     "output_type": "execute_result"
    }
   ],
   "source": [
    "master_dict[2790]"
   ]
  },
  {
   "cell_type": "code",
   "execution_count": 102,
   "id": "31926080-5e15-4504-990a-43632d154b03",
   "metadata": {},
   "outputs": [],
   "source": [
    "df = pd.DataFrame.from_dict(master_dict)"
   ]
  },
  {
   "cell_type": "code",
   "execution_count": 103,
   "id": "b404dec9-80a2-4999-9d5c-abf3d4871086",
   "metadata": {},
   "outputs": [
    {
     "data": {
      "text/html": [
       "<div>\n",
       "<style scoped>\n",
       "    .dataframe tbody tr th:only-of-type {\n",
       "        vertical-align: middle;\n",
       "    }\n",
       "\n",
       "    .dataframe tbody tr th {\n",
       "        vertical-align: top;\n",
       "    }\n",
       "\n",
       "    .dataframe thead th {\n",
       "        text-align: right;\n",
       "    }\n",
       "</style>\n",
       "<table border=\"1\" class=\"dataframe\">\n",
       "  <thead>\n",
       "    <tr style=\"text-align: right;\">\n",
       "      <th></th>\n",
       "      <th>10873</th>\n",
       "      <th>2790</th>\n",
       "      <th>3379</th>\n",
       "      <th>7365</th>\n",
       "      <th>488</th>\n",
       "      <th>527</th>\n",
       "      <th>3275</th>\n",
       "      <th>6801</th>\n",
       "      <th>10363</th>\n",
       "      <th>10615</th>\n",
       "      <th>...</th>\n",
       "      <th>3954</th>\n",
       "      <th>3186</th>\n",
       "      <th>6465</th>\n",
       "      <th>5932</th>\n",
       "      <th>5153</th>\n",
       "      <th>7388</th>\n",
       "      <th>11082</th>\n",
       "      <th>1090</th>\n",
       "      <th>8678</th>\n",
       "      <th>2616</th>\n",
       "    </tr>\n",
       "  </thead>\n",
       "  <tbody>\n",
       "    <tr>\n",
       "      <th>47777</th>\n",
       "      <td>0.0</td>\n",
       "      <td>NaN</td>\n",
       "      <td>NaN</td>\n",
       "      <td>NaN</td>\n",
       "      <td>NaN</td>\n",
       "      <td>NaN</td>\n",
       "      <td>NaN</td>\n",
       "      <td>NaN</td>\n",
       "      <td>NaN</td>\n",
       "      <td>NaN</td>\n",
       "      <td>...</td>\n",
       "      <td>NaN</td>\n",
       "      <td>NaN</td>\n",
       "      <td>NaN</td>\n",
       "      <td>NaN</td>\n",
       "      <td>NaN</td>\n",
       "      <td>NaN</td>\n",
       "      <td>NaN</td>\n",
       "      <td>NaN</td>\n",
       "      <td>NaN</td>\n",
       "      <td>NaN</td>\n",
       "    </tr>\n",
       "    <tr>\n",
       "      <th>19104</th>\n",
       "      <td>3.0</td>\n",
       "      <td>NaN</td>\n",
       "      <td>NaN</td>\n",
       "      <td>NaN</td>\n",
       "      <td>NaN</td>\n",
       "      <td>NaN</td>\n",
       "      <td>NaN</td>\n",
       "      <td>NaN</td>\n",
       "      <td>NaN</td>\n",
       "      <td>NaN</td>\n",
       "      <td>...</td>\n",
       "      <td>NaN</td>\n",
       "      <td>NaN</td>\n",
       "      <td>NaN</td>\n",
       "      <td>NaN</td>\n",
       "      <td>NaN</td>\n",
       "      <td>NaN</td>\n",
       "      <td>NaN</td>\n",
       "      <td>NaN</td>\n",
       "      <td>NaN</td>\n",
       "      <td>NaN</td>\n",
       "    </tr>\n",
       "    <tr>\n",
       "      <th>30025</th>\n",
       "      <td>3.0</td>\n",
       "      <td>NaN</td>\n",
       "      <td>NaN</td>\n",
       "      <td>NaN</td>\n",
       "      <td>NaN</td>\n",
       "      <td>NaN</td>\n",
       "      <td>NaN</td>\n",
       "      <td>NaN</td>\n",
       "      <td>NaN</td>\n",
       "      <td>NaN</td>\n",
       "      <td>...</td>\n",
       "      <td>NaN</td>\n",
       "      <td>NaN</td>\n",
       "      <td>NaN</td>\n",
       "      <td>NaN</td>\n",
       "      <td>NaN</td>\n",
       "      <td>NaN</td>\n",
       "      <td>NaN</td>\n",
       "      <td>NaN</td>\n",
       "      <td>NaN</td>\n",
       "      <td>NaN</td>\n",
       "    </tr>\n",
       "    <tr>\n",
       "      <th>24079</th>\n",
       "      <td>2.0</td>\n",
       "      <td>NaN</td>\n",
       "      <td>NaN</td>\n",
       "      <td>NaN</td>\n",
       "      <td>NaN</td>\n",
       "      <td>NaN</td>\n",
       "      <td>NaN</td>\n",
       "      <td>NaN</td>\n",
       "      <td>NaN</td>\n",
       "      <td>NaN</td>\n",
       "      <td>...</td>\n",
       "      <td>NaN</td>\n",
       "      <td>NaN</td>\n",
       "      <td>NaN</td>\n",
       "      <td>NaN</td>\n",
       "      <td>NaN</td>\n",
       "      <td>NaN</td>\n",
       "      <td>NaN</td>\n",
       "      <td>NaN</td>\n",
       "      <td>NaN</td>\n",
       "      <td>NaN</td>\n",
       "    </tr>\n",
       "    <tr>\n",
       "      <th>30298</th>\n",
       "      <td>3.0</td>\n",
       "      <td>NaN</td>\n",
       "      <td>NaN</td>\n",
       "      <td>NaN</td>\n",
       "      <td>NaN</td>\n",
       "      <td>NaN</td>\n",
       "      <td>NaN</td>\n",
       "      <td>NaN</td>\n",
       "      <td>NaN</td>\n",
       "      <td>NaN</td>\n",
       "      <td>...</td>\n",
       "      <td>NaN</td>\n",
       "      <td>NaN</td>\n",
       "      <td>NaN</td>\n",
       "      <td>NaN</td>\n",
       "      <td>NaN</td>\n",
       "      <td>NaN</td>\n",
       "      <td>NaN</td>\n",
       "      <td>NaN</td>\n",
       "      <td>NaN</td>\n",
       "      <td>NaN</td>\n",
       "    </tr>\n",
       "  </tbody>\n",
       "</table>\n",
       "<p>5 rows × 7912 columns</p>\n",
       "</div>"
      ],
      "text/plain": [
       "       10873  2790   3379   7365   488    527    3275   6801   10363  10615  \\\n",
       "47777    0.0    NaN    NaN    NaN    NaN    NaN    NaN    NaN    NaN    NaN   \n",
       "19104    3.0    NaN    NaN    NaN    NaN    NaN    NaN    NaN    NaN    NaN   \n",
       "30025    3.0    NaN    NaN    NaN    NaN    NaN    NaN    NaN    NaN    NaN   \n",
       "24079    2.0    NaN    NaN    NaN    NaN    NaN    NaN    NaN    NaN    NaN   \n",
       "30298    3.0    NaN    NaN    NaN    NaN    NaN    NaN    NaN    NaN    NaN   \n",
       "\n",
       "       ...  3954   3186   6465   5932   5153   7388   11082  1090   8678   \\\n",
       "47777  ...    NaN    NaN    NaN    NaN    NaN    NaN    NaN    NaN    NaN   \n",
       "19104  ...    NaN    NaN    NaN    NaN    NaN    NaN    NaN    NaN    NaN   \n",
       "30025  ...    NaN    NaN    NaN    NaN    NaN    NaN    NaN    NaN    NaN   \n",
       "24079  ...    NaN    NaN    NaN    NaN    NaN    NaN    NaN    NaN    NaN   \n",
       "30298  ...    NaN    NaN    NaN    NaN    NaN    NaN    NaN    NaN    NaN   \n",
       "\n",
       "       2616   \n",
       "47777    NaN  \n",
       "19104    NaN  \n",
       "30025    NaN  \n",
       "24079    NaN  \n",
       "30298    NaN  \n",
       "\n",
       "[5 rows x 7912 columns]"
      ]
     },
     "execution_count": 103,
     "metadata": {},
     "output_type": "execute_result"
    }
   ],
   "source": [
    "df.head()"
   ]
  },
  {
   "cell_type": "code",
   "execution_count": 110,
   "id": "f3b06266-a0b6-4b77-a8c5-c3478341748e",
   "metadata": {},
   "outputs": [],
   "source": [
    "df_column_list = df.columns.values.tolist()"
   ]
  },
  {
   "cell_type": "code",
   "execution_count": 112,
   "id": "09e83340-5b3e-407d-99cd-4371e74cfed0",
   "metadata": {},
   "outputs": [],
   "source": [
    "labeler_id_str = []\n",
    "for i in df_column_list:\n",
    "    labeler_string = str(i)\n",
    "    labeler_id_str.append(labeler_string)"
   ]
  },
  {
   "cell_type": "code",
   "execution_count": 114,
   "id": "f7f416df-f723-43a6-a6a2-efb6c7f2465d",
   "metadata": {},
   "outputs": [],
   "source": [
    "df.columns = labeler_id_str"
   ]
  },
  {
   "cell_type": "code",
   "execution_count": 115,
   "id": "31f13ae2-0723-4176-878f-de0b76bda314",
   "metadata": {},
   "outputs": [
    {
     "data": {
      "text/plain": [
       "Index(['10873', '2790', '3379', '7365', '488', '527', '3275', '6801', '10363',\n",
       "       '10615',\n",
       "       ...\n",
       "       '3954', '3186', '6465', '5932', '5153', '7388', '11082', '1090', '8678',\n",
       "       '2616'],\n",
       "      dtype='object', length=7912)"
      ]
     },
     "execution_count": 115,
     "metadata": {},
     "output_type": "execute_result"
    }
   ],
   "source": [
    "#confirming columns are strings\n",
    "df.columns"
   ]
  },
  {
   "cell_type": "code",
   "execution_count": 125,
   "id": "a3e3901a-0600-4769-8c7a-769e8a8bf203",
   "metadata": {},
   "outputs": [
    {
     "data": {
      "text/plain": [
       "3.0    5\n",
       "4.0    2\n",
       "0.0    1\n",
       "2.0    1\n",
       "1.0    1\n",
       "Name: 10873, dtype: int64"
      ]
     },
     "execution_count": 125,
     "metadata": {},
     "output_type": "execute_result"
    }
   ],
   "source": [
    "df['10873'].value_counts()"
   ]
  },
  {
   "cell_type": "code",
   "execution_count": 123,
   "id": "a1aaec12-f108-4150-8bc5-7fa89295d7ef",
   "metadata": {},
   "outputs": [],
   "source": [
    "#this is the range of options for sentiment\n",
    "labels = [0, 1, 2, 3, 4]"
   ]
  },
  {
   "cell_type": "code",
   "execution_count": 133,
   "id": "c19edc4f-10c8-46c1-b991-cb20fc45b21a",
   "metadata": {},
   "outputs": [
    {
     "ename": "NameError",
     "evalue": "name 'flexible_data' is not defined",
     "output_type": "error",
     "traceback": [
      "\u001b[0;31m---------------------------------------------------------------------------\u001b[0m",
      "\u001b[0;31mNameError\u001b[0m                                 Traceback (most recent call last)",
      "\u001b[0;32m<ipython-input-133-847013d83880>\u001b[0m in \u001b[0;36m<module>\u001b[0;34m\u001b[0m\n\u001b[0;32m----> 1\u001b[0;31m \u001b[0mmets\u001b[0m \u001b[0;34m=\u001b[0m \u001b[0mMetrics\u001b[0m\u001b[0;34m(\u001b[0m\u001b[0mdf\u001b[0m\u001b[0;34m,\u001b[0m \u001b[0mlabels\u001b[0m\u001b[0;34m)\u001b[0m\u001b[0;34m\u001b[0m\u001b[0;34m\u001b[0m\u001b[0m\n\u001b[0m",
      "\u001b[0;32m<ipython-input-132-2c80c5dcc4a9>\u001b[0m in \u001b[0;36m__init__\u001b[0;34m(self, df, labels)\u001b[0m\n\u001b[1;32m     27\u001b[0m \u001b[0;32mclass\u001b[0m \u001b[0mMetrics\u001b[0m\u001b[0;34m(\u001b[0m\u001b[0;34m)\u001b[0m\u001b[0;34m:\u001b[0m\u001b[0;34m\u001b[0m\u001b[0;34m\u001b[0m\u001b[0m\n\u001b[1;32m     28\u001b[0m     \u001b[0;32mdef\u001b[0m \u001b[0m__init__\u001b[0m\u001b[0;34m(\u001b[0m\u001b[0mself\u001b[0m\u001b[0;34m,\u001b[0m \u001b[0mdf\u001b[0m\u001b[0;34m,\u001b[0m \u001b[0mlabels\u001b[0m\u001b[0;34m)\u001b[0m\u001b[0;34m:\u001b[0m\u001b[0;34m\u001b[0m\u001b[0;34m\u001b[0m\u001b[0m\n\u001b[0;32m---> 29\u001b[0;31m         \u001b[0mconverted_data\u001b[0m \u001b[0;34m=\u001b[0m \u001b[0mconvert_dataframe\u001b[0m\u001b[0;34m(\u001b[0m\u001b[0mdf\u001b[0m\u001b[0;34m)\u001b[0m\u001b[0;34m\u001b[0m\u001b[0;34m\u001b[0m\u001b[0m\n\u001b[0m\u001b[1;32m     30\u001b[0m         \u001b[0mself\u001b[0m\u001b[0;34m.\u001b[0m\u001b[0mdf\u001b[0m \u001b[0;34m=\u001b[0m \u001b[0mconverted_data\u001b[0m\u001b[0;34m[\u001b[0m\u001b[0;36m0\u001b[0m\u001b[0;34m]\u001b[0m\u001b[0;34m\u001b[0m\u001b[0;34m\u001b[0m\u001b[0m\n\u001b[1;32m     31\u001b[0m         \u001b[0mself\u001b[0m\u001b[0;34m.\u001b[0m\u001b[0mlabels\u001b[0m \u001b[0;34m=\u001b[0m \u001b[0mlabels\u001b[0m\u001b[0;34m\u001b[0m\u001b[0;34m\u001b[0m\u001b[0m\n",
      "\u001b[0;32m<ipython-input-14-5dac5cef61ff>\u001b[0m in \u001b[0;36mconvert_dataframe\u001b[0;34m(df)\u001b[0m\n\u001b[1;32m      6\u001b[0m             \u001b[0mdata_dict\u001b[0m\u001b[0;34m,\u001b[0m \u001b[0mdict\u001b[0m \u001b[0mconverting\u001b[0m \u001b[0moriginal\u001b[0m \u001b[0mlabels\u001b[0m \u001b[0mto\u001b[0m \u001b[0mnew\u001b[0m \u001b[0minteger\u001b[0m \u001b[0mlabels\u001b[0m\u001b[0;34m\u001b[0m\u001b[0;34m\u001b[0m\u001b[0m\n\u001b[1;32m      7\u001b[0m     \"\"\"\n\u001b[0;32m----> 8\u001b[0;31m     \u001b[0mdata_dict\u001b[0m\u001b[0;34m,\u001b[0m \u001b[0mnumbered_labels\u001b[0m \u001b[0;34m=\u001b[0m \u001b[0mflexible_data\u001b[0m\u001b[0;34m(\u001b[0m\u001b[0mdf\u001b[0m\u001b[0;34m)\u001b[0m\u001b[0;34m\u001b[0m\u001b[0;34m\u001b[0m\u001b[0m\n\u001b[0m\u001b[1;32m      9\u001b[0m \u001b[0;34m\u001b[0m\u001b[0m\n\u001b[1;32m     10\u001b[0m     \u001b[0mnew_data\u001b[0m \u001b[0;34m=\u001b[0m \u001b[0;34m{\u001b[0m \u001b[0;34m}\u001b[0m\u001b[0;34m\u001b[0m\u001b[0;34m\u001b[0m\u001b[0m\n",
      "\u001b[0;31mNameError\u001b[0m: name 'flexible_data' is not defined"
     ]
    }
   ],
   "source": [
    "mets = Metrics(df, labels)"
   ]
  },
  {
   "cell_type": "code",
   "execution_count": null,
   "id": "413c3372-fda5-413c-864f-603d938f07bb",
   "metadata": {},
   "outputs": [],
   "source": []
  },
  {
   "cell_type": "code",
   "execution_count": null,
   "id": "57300bb3-6cfd-4041-8fa9-6668475d5879",
   "metadata": {},
   "outputs": [],
   "source": []
  },
  {
   "cell_type": "code",
   "execution_count": null,
   "id": "9b322bc9-e824-4e0f-9009-a974a79d92db",
   "metadata": {},
   "outputs": [],
   "source": []
  },
  {
   "cell_type": "code",
   "execution_count": null,
   "id": "112ce0c5-63ce-4fe0-b97c-23a3bcdc5728",
   "metadata": {},
   "outputs": [],
   "source": []
  },
  {
   "cell_type": "code",
   "execution_count": null,
   "id": "ee659ac6-4879-48a2-bf98-0ab249458682",
   "metadata": {},
   "outputs": [],
   "source": []
  },
  {
   "cell_type": "code",
   "execution_count": null,
   "id": "80a5f938-e39e-409f-b60d-15f4665e0253",
   "metadata": {},
   "outputs": [],
   "source": []
  },
  {
   "cell_type": "code",
   "execution_count": null,
   "id": "56cd6d1c-0059-4348-a786-973567d9dd2d",
   "metadata": {},
   "outputs": [],
   "source": []
  },
  {
   "cell_type": "code",
   "execution_count": null,
   "id": "c79c5727-ba92-4d59-ae02-93e28c2d0d68",
   "metadata": {},
   "outputs": [],
   "source": []
  },
  {
   "cell_type": "code",
   "execution_count": null,
   "id": "2db671e2-f644-462f-9e19-de384861dfc6",
   "metadata": {},
   "outputs": [],
   "source": []
  },
  {
   "cell_type": "code",
   "execution_count": null,
   "id": "baf0a66a-13dc-4fa8-b8a7-2de76a825cb9",
   "metadata": {},
   "outputs": [],
   "source": [
    "# sentiment_list[:10]"
   ]
  },
  {
   "cell_type": "code",
   "execution_count": 78,
   "id": "20242b1b-cfe7-42ae-b72f-48fb119d5908",
   "metadata": {},
   "outputs": [
    {
     "ename": "TypeError",
     "evalue": "unhashable type: 'list'",
     "output_type": "error",
     "traceback": [
      "\u001b[0;31m---------------------------------------------------------------------------\u001b[0m",
      "\u001b[0;31mTypeError\u001b[0m                                 Traceback (most recent call last)",
      "\u001b[0;32m<ipython-input-78-c7ee03bd1311>\u001b[0m in \u001b[0;36m<module>\u001b[0;34m\u001b[0m\n\u001b[1;32m     12\u001b[0m \u001b[0;32mfor\u001b[0m \u001b[0mkey\u001b[0m \u001b[0;32min\u001b[0m \u001b[0mcomment_id_list\u001b[0m\u001b[0;34m:\u001b[0m\u001b[0;34m\u001b[0m\u001b[0;34m\u001b[0m\u001b[0m\n\u001b[1;32m     13\u001b[0m     \u001b[0;32mfor\u001b[0m \u001b[0mvalue\u001b[0m \u001b[0;32min\u001b[0m \u001b[0msentiment_list\u001b[0m\u001b[0;34m:\u001b[0m\u001b[0;34m\u001b[0m\u001b[0;34m\u001b[0m\u001b[0m\n\u001b[0;32m---> 14\u001b[0;31m         \u001b[0mdict_comment_sentiment\u001b[0m\u001b[0;34m[\u001b[0m\u001b[0mkey\u001b[0m\u001b[0;34m]\u001b[0m \u001b[0;34m=\u001b[0m \u001b[0mvalue\u001b[0m\u001b[0;34m\u001b[0m\u001b[0;34m\u001b[0m\u001b[0m\n\u001b[0m\u001b[1;32m     15\u001b[0m         \u001b[0msentiment_list\u001b[0m\u001b[0;34m.\u001b[0m\u001b[0mremove\u001b[0m\u001b[0;34m(\u001b[0m\u001b[0mvalue\u001b[0m\u001b[0;34m)\u001b[0m\u001b[0;34m\u001b[0m\u001b[0;34m\u001b[0m\u001b[0m\n\u001b[1;32m     16\u001b[0m         \u001b[0;32mbreak\u001b[0m\u001b[0;34m\u001b[0m\u001b[0;34m\u001b[0m\u001b[0m\n",
      "\u001b[0;31mTypeError\u001b[0m: unhashable type: 'list'"
     ]
    }
   ],
   "source": [
    "#turning lists into dictionary\n",
    "\n",
    "#step 1: turn keys into tuples bc it's an immutable datatype and keys must be immutable and lists are mutable\n",
    "\n",
    "\n",
    "# comment_id_tuple = tuple(comment_id_list)\n",
    "# sentiment_tuple = tuple(sentiment_list)\n",
    "\n",
    "#empty dict initalization\n",
    "\n",
    "dict_comment_sentiment = {}\n",
    "for key in comment_id_list:\n",
    "    for value in sentiment_list:\n",
    "        dict_comment_sentiment[key] = value\n",
    "        sentiment_list.remove(value)\n",
    "        break\n",
    "print(dict_comment_sentiment)\n",
    "        \n"
   ]
  },
  {
   "cell_type": "code",
   "execution_count": 76,
   "id": "d55987cd-9ce5-4890-9149-c4971ce46738",
   "metadata": {},
   "outputs": [],
   "source": [
    "comment_id_tuple = convert(comment_id_list)"
   ]
  },
  {
   "cell_type": "code",
   "execution_count": 77,
   "id": "0f8530a5-a3b2-47e5-9d62-cce4859f6ff8",
   "metadata": {},
   "outputs": [
    {
     "ename": "TypeError",
     "evalue": "unhashable type: 'list'",
     "output_type": "error",
     "traceback": [
      "\u001b[0;31m---------------------------------------------------------------------------\u001b[0m",
      "\u001b[0;31mTypeError\u001b[0m                                 Traceback (most recent call last)",
      "\u001b[0;32m<ipython-input-77-59d9ccda487c>\u001b[0m in \u001b[0;36m<module>\u001b[0;34m\u001b[0m\n\u001b[0;32m----> 1\u001b[0;31m \u001b[0mdict\u001b[0m\u001b[0;34m(\u001b[0m\u001b[0mzip\u001b[0m\u001b[0;34m(\u001b[0m\u001b[0mcomment_id_tuple\u001b[0m\u001b[0;34m,\u001b[0m \u001b[0msentiment_list\u001b[0m\u001b[0;34m)\u001b[0m\u001b[0;34m)\u001b[0m\u001b[0;34m\u001b[0m\u001b[0;34m\u001b[0m\u001b[0m\n\u001b[0m",
      "\u001b[0;31mTypeError\u001b[0m: unhashable type: 'list'"
     ]
    }
   ],
   "source": [
    "dict(zip(comment_id_tuple, sentiment_list))"
   ]
  },
  {
   "cell_type": "code",
   "execution_count": 59,
   "id": "243f441d-8491-4715-870a-e3ef40515c96",
   "metadata": {},
   "outputs": [],
   "source": [
    "#groupby is not needed if the assumption that each labelelr only labels a unique comment at most once\n",
    "#data_multi[data_multi['labeler_id'] == 10873].groupby('comment_id').sum()[['sentiment']]"
   ]
  },
  {
   "cell_type": "code",
   "execution_count": null,
   "id": "be4e6a93-9635-464c-9233-592008fdb4f7",
   "metadata": {},
   "outputs": [],
   "source": []
  },
  {
   "cell_type": "code",
   "execution_count": null,
   "id": "9a98f035-68bb-4334-81c6-4f415f639bcf",
   "metadata": {},
   "outputs": [],
   "source": []
  },
  {
   "cell_type": "code",
   "execution_count": null,
   "id": "253815ee-cc65-4c50-8f6d-0959a3b02b90",
   "metadata": {},
   "outputs": [],
   "source": []
  },
  {
   "cell_type": "code",
   "execution_count": 417,
   "id": "d3d52212-181f-4823-a8b0-5f2596d3253b",
   "metadata": {},
   "outputs": [
    {
     "name": "stdout",
     "output_type": "stream",
     "text": [
      "Collecting krippendorff\n",
      "  Downloading krippendorff-0.4.0-py3-none-any.whl (17 kB)\n",
      "Requirement already satisfied: numpy in /home/rbarreto/miniconda3/envs/hatespeech/lib/python3.9/site-packages (from krippendorff) (1.20.2)\n",
      "Installing collected packages: krippendorff\n",
      "Successfully installed krippendorff-0.4.0\n",
      "Note: you may need to restart the kernel to use updated packages.\n"
     ]
    }
   ],
   "source": [
    "pip install krippendorff"
   ]
  },
  {
   "cell_type": "code",
   "execution_count": 10,
   "id": "f4fbf881-c506-4318-b60b-8a7b0240a1ea",
   "metadata": {},
   "outputs": [],
   "source": [
    "import krippendorff"
   ]
  },
  {
   "cell_type": "code",
   "execution_count": 420,
   "id": "c99ca4ef-994d-422c-9a8c-a9466fd7aaf0",
   "metadata": {},
   "outputs": [
    {
     "data": {
      "text/plain": [
       "0.0023427621439294777"
      ]
     },
     "execution_count": 420,
     "metadata": {},
     "output_type": "execute_result"
    }
   ],
   "source": [
    "res = krippendorff.alpha(sentiment_array)\n",
    "res"
   ]
  },
  {
   "cell_type": "code",
   "execution_count": 12,
   "id": "137fd30b-5799-4a5f-8ff3-c4abd4c2a2c7",
   "metadata": {},
   "outputs": [
    {
     "data": {
      "text/plain": [
       "0.0029707638944290737"
      ]
     },
     "execution_count": 12,
     "metadata": {},
     "output_type": "execute_result"
    }
   ],
   "source": [
    "#krippendorf with the regular df \n",
    "\n",
    "krippendorff.alpha(df_black_labeler_target[['sentiment', 'respect']])"
   ]
  },
  {
   "cell_type": "code",
   "execution_count": 20,
   "id": "53d8b662-853b-49bb-b9e6-8b2dcf65edbd",
   "metadata": {},
   "outputs": [
    {
     "data": {
      "text/plain": [
       "20002    652\n",
       "20001    636\n",
       "20003    623\n",
       "20012    619\n",
       "20045    562\n",
       "        ... \n",
       "12577      1\n",
       "18734      1\n",
       "41267      1\n",
       "41283      1\n",
       "28822      1\n",
       "Name: comment_id, Length: 5627, dtype: int64"
      ]
     },
     "execution_count": 20,
     "metadata": {},
     "output_type": "execute_result"
    }
   ],
   "source": [
    "df_black_labeler_target['comment_id'].value_counts()"
   ]
  },
  {
   "cell_type": "code",
   "execution_count": 29,
   "id": "dd7aceb1-0585-4cf3-a873-3a906704444d",
   "metadata": {},
   "outputs": [
    {
     "name": "stderr",
     "output_type": "stream",
     "text": [
      "/home/rbarreto/miniconda3/envs/hatespeech/lib/python3.9/site-packages/krippendorff/krippendorff.py:273: RuntimeWarning: invalid value encountered in double_scalars\n",
      "  return 1 - (o * d).sum() / (e * d).sum()\n"
     ]
    },
    {
     "data": {
      "text/plain": [
       "nan"
      ]
     },
     "execution_count": 29,
     "metadata": {},
     "output_type": "execute_result"
    }
   ],
   "source": [
    "krippendorff.alpha(df_black_labeler_target[df_black_labeler_target['comment_id'] == 20002].iloc[:5, ][['sentiment', 'respect']])"
   ]
  },
  {
   "cell_type": "code",
   "execution_count": 49,
   "id": "ee5dc1b8-a8a7-4ccd-914b-8e5abaf79d92",
   "metadata": {},
   "outputs": [
    {
     "data": {
      "text/plain": [
       "0.9211830590724578"
      ]
     },
     "execution_count": 49,
     "metadata": {},
     "output_type": "execute_result"
    }
   ],
   "source": [
    "#this depends on the number of items \n",
    "#do all 10 items and expand by comment \n",
    "krippendorff.alpha(df_black_labeler_target[df_black_labeler_target['comment_id'] == 20001].iloc[:15, :10])"
   ]
  },
  {
   "cell_type": "code",
   "execution_count": 47,
   "id": "ba723055-e635-406c-a54e-0928e26e3355",
   "metadata": {},
   "outputs": [
    {
     "data": {
      "text/plain": [
       "0.03826530612244894"
      ]
     },
     "execution_count": 47,
     "metadata": {},
     "output_type": "execute_result"
    }
   ],
   "source": [
    "krippendorff.alpha(df_black_labeler_target[df_black_labeler_target['comment_id'] == 20001].iloc[:15, ][['sentiment', 'respect']], level_of_measurement='nominal')"
   ]
  },
  {
   "cell_type": "code",
   "execution_count": 19,
   "id": "ba690dce-ad95-4e67-9bf8-4b434e1e99ab",
   "metadata": {},
   "outputs": [
    {
     "data": {
      "text/plain": [
       "0.0"
      ]
     },
     "execution_count": 19,
     "metadata": {},
     "output_type": "execute_result"
    }
   ],
   "source": [
    "\n",
    "\n",
    "krippendorff.alpha(df_black_labeler_target[df_black_labeler_target['comment_id'] == 20002]['sentiment'])"
   ]
  },
  {
   "cell_type": "code",
   "execution_count": 14,
   "id": "8f25e12e-9a74-4ba7-9191-5c892f6f5c9a",
   "metadata": {},
   "outputs": [
    {
     "data": {
      "text/html": [
       "<div>\n",
       "<style scoped>\n",
       "    .dataframe tbody tr th:only-of-type {\n",
       "        vertical-align: middle;\n",
       "    }\n",
       "\n",
       "    .dataframe tbody tr th {\n",
       "        vertical-align: top;\n",
       "    }\n",
       "\n",
       "    .dataframe thead th {\n",
       "        text-align: right;\n",
       "    }\n",
       "</style>\n",
       "<table border=\"1\" class=\"dataframe\">\n",
       "  <thead>\n",
       "    <tr style=\"text-align: right;\">\n",
       "      <th></th>\n",
       "      <th>comment_id</th>\n",
       "      <th>labeler_id</th>\n",
       "    </tr>\n",
       "  </thead>\n",
       "  <tbody>\n",
       "    <tr>\n",
       "      <th>0</th>\n",
       "      <td>47777</td>\n",
       "      <td>10873</td>\n",
       "    </tr>\n",
       "    <tr>\n",
       "      <th>5</th>\n",
       "      <td>11001</td>\n",
       "      <td>527</td>\n",
       "    </tr>\n",
       "    <tr>\n",
       "      <th>20</th>\n",
       "      <td>46526</td>\n",
       "      <td>3863</td>\n",
       "    </tr>\n",
       "    <tr>\n",
       "      <th>21</th>\n",
       "      <td>30683</td>\n",
       "      <td>2576</td>\n",
       "    </tr>\n",
       "    <tr>\n",
       "      <th>22</th>\n",
       "      <td>15758</td>\n",
       "      <td>8749</td>\n",
       "    </tr>\n",
       "    <tr>\n",
       "      <th>...</th>\n",
       "      <td>...</td>\n",
       "      <td>...</td>\n",
       "    </tr>\n",
       "    <tr>\n",
       "      <th>135280</th>\n",
       "      <td>20066</td>\n",
       "      <td>7843</td>\n",
       "    </tr>\n",
       "    <tr>\n",
       "      <th>135346</th>\n",
       "      <td>20066</td>\n",
       "      <td>346</td>\n",
       "    </tr>\n",
       "    <tr>\n",
       "      <th>135415</th>\n",
       "      <td>20066</td>\n",
       "      <td>243</td>\n",
       "    </tr>\n",
       "    <tr>\n",
       "      <th>135467</th>\n",
       "      <td>20062</td>\n",
       "      <td>8649</td>\n",
       "    </tr>\n",
       "    <tr>\n",
       "      <th>135473</th>\n",
       "      <td>20062</td>\n",
       "      <td>10234</td>\n",
       "    </tr>\n",
       "  </tbody>\n",
       "</table>\n",
       "<p>18545 rows × 2 columns</p>\n",
       "</div>"
      ],
      "text/plain": [
       "        comment_id  labeler_id\n",
       "0            47777       10873\n",
       "5            11001         527\n",
       "20           46526        3863\n",
       "21           30683        2576\n",
       "22           15758        8749\n",
       "...            ...         ...\n",
       "135280       20066        7843\n",
       "135346       20066         346\n",
       "135415       20066         243\n",
       "135467       20062        8649\n",
       "135473       20062       10234\n",
       "\n",
       "[18545 rows x 2 columns]"
      ]
     },
     "execution_count": 14,
     "metadata": {},
     "output_type": "execute_result"
    }
   ],
   "source": [
    "df_black_labeler_target[['comment_id', 'labeler_id']]\n",
    "#first dimension is labeler\n",
    "#each column is what they rated on a specific comment \n",
    "#column needs to be sentiment on comment X \n",
    "#if person didn't rate comment then keep as missing (np.nan)\n",
    "\n",
    "#labeler id as index\n",
    "#comment is column not the \n",
    "#lots of columns bc it will be for [comment1 that sentimet] as a column\n",
    "#see reliability rating here: https://github.com/pln-fing-udelar/fast-krippendorff/blob/main/krippendorff/krippendorff.py\n",
    "\n"
   ]
  },
  {
   "cell_type": "code",
   "execution_count": null,
   "id": "66d5b76e-10d4-4699-96e1-9600199048e7",
   "metadata": {},
   "outputs": [],
   "source": []
  },
  {
   "cell_type": "code",
   "execution_count": 416,
   "id": "470403b6-867b-4b38-a03e-ced7e728a92e",
   "metadata": {},
   "outputs": [],
   "source": [
    "#https://stackoverflow.com/questions/56481245/inter-rater-reliability-calculation-for-multi-raters-data\n",
    "#Note that Fleiss is not perfectly applicable to a rating situation with a relative metric: it assumes that this is a classification task, not a ranking. Fleiss is not sensitive to how far apart the ratings are; it knows only that the ratings differed: a (0,1) paring is just as damaging as a (0,3) pairing."
   ]
  },
  {
   "cell_type": "code",
   "execution_count": 366,
   "id": "8a8b1a04-2ece-4d2d-aa41-13d473d7b4cf",
   "metadata": {},
   "outputs": [],
   "source": [
    "\n",
    "def fleiss_kappa(M):\n",
    "    \"\"\"Computes Fleiss' kappa for group of annotators.\n",
    "    :param M: a matrix of shape (:attr:'N', :attr:'k') with 'N' = number of subjects and 'k' = the number of categories.\n",
    "        'M[i, j]' represent the number of raters who assigned the 'i'th subject to the 'j'th category.\n",
    "    :type: numpy matrix\n",
    "    :rtype: float\n",
    "    :return: Fleiss' kappa score\n",
    "    \"\"\"\n",
    "    N, k = M.shape  # N is # of items, k is # of categories\n",
    "    n_annotators = float(np.sum(M[0, :]))  # # of annotators\n",
    "    tot_annotations = N * n_annotators  # the total # of annotations\n",
    "    category_sum = np.sum(M, axis=0)  # the sum of each category over all items\n",
    "\n",
    "    # chance agreement\n",
    "    p = category_sum / tot_annotations  # the distribution of each category over all annotations\n",
    "    PbarE = np.sum(p * p)  # average chance agreement over all categories\n",
    "\n",
    "    # observed agreement\n",
    "    P = (np.sum(M * M, axis=1) - n_annotators) / (n_annotators * (n_annotators - 1))\n",
    "    Pbar = np.sum(P) / N  # add all observed agreement chances per item and divide by amount of items\n",
    "\n",
    "    return round((Pbar - PbarE) / (1 - PbarE), 4)"
   ]
  },
  {
   "cell_type": "code",
   "execution_count": 367,
   "id": "253e29e5-3c61-450a-9948-b3560cc080c8",
   "metadata": {},
   "outputs": [
    {
     "data": {
      "text/plain": [
       "55.0741"
      ]
     },
     "execution_count": 367,
     "metadata": {},
     "output_type": "execute_result"
    }
   ],
   "source": [
    "fleiss_kappa(sentiment_array)"
   ]
  },
  {
   "cell_type": "markdown",
   "id": "aad1d28e-1f99-4e14-8cfc-6581c50ca68e",
   "metadata": {},
   "source": [
    "# Filtering data for posts targeting black people by white and black labelers"
   ]
  },
  {
   "cell_type": "code",
   "execution_count": 498,
   "id": "5c24de06-4de2-4bad-937e-998506289d11",
   "metadata": {},
   "outputs": [],
   "source": [
    "#labeler 1, black labelers, black content on dehumanize specifically\n",
    "\n",
    "df_white_labeler_black_target = data_multi[(data_multi['demo_race_ethnicitie_3'] == 1) & (data_multi['target_race_1'] == 1)]\n",
    "\n",
    "\n",
    "\n",
    "#labeler 2, white labelers, black content on dehumanize specifically\n",
    "df_black_labeler_target = data_multi[(data_multi['demo_race_ethnicitie_6'] == 1) & (data_multi['target_race_1'] == 1)]\n",
    "\n"
   ]
  },
  {
   "cell_type": "code",
   "execution_count": 427,
   "id": "ee33f788-69b1-4797-818a-66f6b460f36e",
   "metadata": {},
   "outputs": [
    {
     "data": {
      "text/html": [
       "<div>\n",
       "<style scoped>\n",
       "    .dataframe tbody tr th:only-of-type {\n",
       "        vertical-align: middle;\n",
       "    }\n",
       "\n",
       "    .dataframe tbody tr th {\n",
       "        vertical-align: top;\n",
       "    }\n",
       "\n",
       "    .dataframe thead th {\n",
       "        text-align: right;\n",
       "    }\n",
       "</style>\n",
       "<table border=\"1\" class=\"dataframe\">\n",
       "  <thead>\n",
       "    <tr style=\"text-align: right;\">\n",
       "      <th></th>\n",
       "      <th>sentiment</th>\n",
       "      <th>respect</th>\n",
       "      <th>insult</th>\n",
       "      <th>humiliate</th>\n",
       "      <th>status</th>\n",
       "      <th>dehumanize</th>\n",
       "      <th>violence_phys</th>\n",
       "      <th>genocide</th>\n",
       "      <th>attack_defend</th>\n",
       "      <th>hatespeech</th>\n",
       "      <th>...</th>\n",
       "      <th>demo_sexual_orien_2</th>\n",
       "      <th>demo_sexual_orien_3</th>\n",
       "      <th>demo_sexual_orien_4</th>\n",
       "      <th>demo_sexual_orien_5</th>\n",
       "      <th>demo_sexual_orien_4_text</th>\n",
       "      <th>demo_ideology</th>\n",
       "      <th>locationlatitude</th>\n",
       "      <th>locationlongitude</th>\n",
       "      <th>identity</th>\n",
       "      <th>hypothesis</th>\n",
       "    </tr>\n",
       "    <tr>\n",
       "      <th>comment_id</th>\n",
       "      <th></th>\n",
       "      <th></th>\n",
       "      <th></th>\n",
       "      <th></th>\n",
       "      <th></th>\n",
       "      <th></th>\n",
       "      <th></th>\n",
       "      <th></th>\n",
       "      <th></th>\n",
       "      <th></th>\n",
       "      <th></th>\n",
       "      <th></th>\n",
       "      <th></th>\n",
       "      <th></th>\n",
       "      <th></th>\n",
       "      <th></th>\n",
       "      <th></th>\n",
       "      <th></th>\n",
       "      <th></th>\n",
       "      <th></th>\n",
       "      <th></th>\n",
       "    </tr>\n",
       "  </thead>\n",
       "  <tbody>\n",
       "    <tr>\n",
       "      <th>47777</th>\n",
       "      <td>0.0</td>\n",
       "      <td>0.0</td>\n",
       "      <td>0.0</td>\n",
       "      <td>0.0</td>\n",
       "      <td>0.0</td>\n",
       "      <td>0.0</td>\n",
       "      <td>0.0</td>\n",
       "      <td>0.0</td>\n",
       "      <td>0.0</td>\n",
       "      <td>0.0</td>\n",
       "      <td>...</td>\n",
       "      <td>NaN</td>\n",
       "      <td>NaN</td>\n",
       "      <td>NaN</td>\n",
       "      <td>NaN</td>\n",
       "      <td></td>\n",
       "      <td>4.0</td>\n",
       "      <td>37.55029296875</td>\n",
       "      <td>-77.39420318603515625</td>\n",
       "      <td>0.917681</td>\n",
       "      <td>-1.130178</td>\n",
       "    </tr>\n",
       "    <tr>\n",
       "      <th>11001</th>\n",
       "      <td>1.0</td>\n",
       "      <td>1.0</td>\n",
       "      <td>0.0</td>\n",
       "      <td>0.0</td>\n",
       "      <td>0.0</td>\n",
       "      <td>0.0</td>\n",
       "      <td>0.0</td>\n",
       "      <td>0.0</td>\n",
       "      <td>1.0</td>\n",
       "      <td>0.0</td>\n",
       "      <td>...</td>\n",
       "      <td>NaN</td>\n",
       "      <td>NaN</td>\n",
       "      <td>NaN</td>\n",
       "      <td>NaN</td>\n",
       "      <td></td>\n",
       "      <td>1.0</td>\n",
       "      <td>30.4170074462890625</td>\n",
       "      <td>-84.18499755859375</td>\n",
       "      <td>0.907838</td>\n",
       "      <td>-1.186106</td>\n",
       "    </tr>\n",
       "    <tr>\n",
       "      <th>46526</th>\n",
       "      <td>3.0</td>\n",
       "      <td>3.0</td>\n",
       "      <td>1.0</td>\n",
       "      <td>0.0</td>\n",
       "      <td>0.0</td>\n",
       "      <td>0.0</td>\n",
       "      <td>0.0</td>\n",
       "      <td>0.0</td>\n",
       "      <td>1.0</td>\n",
       "      <td>0.0</td>\n",
       "      <td>...</td>\n",
       "      <td>NaN</td>\n",
       "      <td>NaN</td>\n",
       "      <td>NaN</td>\n",
       "      <td>NaN</td>\n",
       "      <td></td>\n",
       "      <td>1.0</td>\n",
       "      <td>41.685302734375</td>\n",
       "      <td>-72.92960357666015625</td>\n",
       "      <td>0.832598</td>\n",
       "      <td>-0.565168</td>\n",
       "    </tr>\n",
       "    <tr>\n",
       "      <th>30683</th>\n",
       "      <td>3.0</td>\n",
       "      <td>2.0</td>\n",
       "      <td>2.0</td>\n",
       "      <td>1.0</td>\n",
       "      <td>1.0</td>\n",
       "      <td>0.0</td>\n",
       "      <td>0.0</td>\n",
       "      <td>0.0</td>\n",
       "      <td>1.0</td>\n",
       "      <td>0.0</td>\n",
       "      <td>...</td>\n",
       "      <td>NaN</td>\n",
       "      <td>NaN</td>\n",
       "      <td>NaN</td>\n",
       "      <td>NaN</td>\n",
       "      <td></td>\n",
       "      <td>2.0</td>\n",
       "      <td>39.787506103515625</td>\n",
       "      <td>-75.1797027587890625</td>\n",
       "      <td>0.982328</td>\n",
       "      <td>-0.288919</td>\n",
       "    </tr>\n",
       "    <tr>\n",
       "      <th>15758</th>\n",
       "      <td>2.0</td>\n",
       "      <td>2.0</td>\n",
       "      <td>1.0</td>\n",
       "      <td>0.0</td>\n",
       "      <td>0.0</td>\n",
       "      <td>0.0</td>\n",
       "      <td>0.0</td>\n",
       "      <td>0.0</td>\n",
       "      <td>1.0</td>\n",
       "      <td>0.0</td>\n",
       "      <td>...</td>\n",
       "      <td>1.0</td>\n",
       "      <td>NaN</td>\n",
       "      <td>NaN</td>\n",
       "      <td>NaN</td>\n",
       "      <td></td>\n",
       "      <td>1.0</td>\n",
       "      <td>41.854705810546875</td>\n",
       "      <td>-71.47350311279296875</td>\n",
       "      <td>0.984188</td>\n",
       "      <td>-0.262152</td>\n",
       "    </tr>\n",
       "  </tbody>\n",
       "</table>\n",
       "<p>5 rows × 134 columns</p>\n",
       "</div>"
      ],
      "text/plain": [
       "            sentiment  respect  insult  humiliate  status  dehumanize  \\\n",
       "comment_id                                                              \n",
       "47777             0.0      0.0     0.0        0.0     0.0         0.0   \n",
       "11001             1.0      1.0     0.0        0.0     0.0         0.0   \n",
       "46526             3.0      3.0     1.0        0.0     0.0         0.0   \n",
       "30683             3.0      2.0     2.0        1.0     1.0         0.0   \n",
       "15758             2.0      2.0     1.0        0.0     0.0         0.0   \n",
       "\n",
       "            violence_phys  genocide  attack_defend  hatespeech  ...  \\\n",
       "comment_id                                                      ...   \n",
       "47777                 0.0       0.0            0.0         0.0  ...   \n",
       "11001                 0.0       0.0            1.0         0.0  ...   \n",
       "46526                 0.0       0.0            1.0         0.0  ...   \n",
       "30683                 0.0       0.0            1.0         0.0  ...   \n",
       "15758                 0.0       0.0            1.0         0.0  ...   \n",
       "\n",
       "           demo_sexual_orien_2 demo_sexual_orien_3 demo_sexual_orien_4  \\\n",
       "comment_id                                                               \n",
       "47777                      NaN                 NaN                 NaN   \n",
       "11001                      NaN                 NaN                 NaN   \n",
       "46526                      NaN                 NaN                 NaN   \n",
       "30683                      NaN                 NaN                 NaN   \n",
       "15758                      1.0                 NaN                 NaN   \n",
       "\n",
       "            demo_sexual_orien_5  demo_sexual_orien_4_text  demo_ideology  \\\n",
       "comment_id                                                                 \n",
       "47777                       NaN                                      4.0   \n",
       "11001                       NaN                                      1.0   \n",
       "46526                       NaN                                      1.0   \n",
       "30683                       NaN                                      2.0   \n",
       "15758                       NaN                                      1.0   \n",
       "\n",
       "               locationlatitude      locationlongitude  identity  hypothesis  \n",
       "comment_id                                                                    \n",
       "47777            37.55029296875  -77.39420318603515625  0.917681   -1.130178  \n",
       "11001       30.4170074462890625     -84.18499755859375  0.907838   -1.186106  \n",
       "46526           41.685302734375  -72.92960357666015625  0.832598   -0.565168  \n",
       "30683        39.787506103515625   -75.1797027587890625  0.982328   -0.288919  \n",
       "15758        41.854705810546875  -71.47350311279296875  0.984188   -0.262152  \n",
       "\n",
       "[5 rows x 134 columns]"
      ]
     },
     "execution_count": 427,
     "metadata": {},
     "output_type": "execute_result"
    }
   ],
   "source": [
    "df_black_labeler_target.head(5)"
   ]
  },
  {
   "cell_type": "code",
   "execution_count": 499,
   "id": "b0e9ce41-cbfa-4f43-9722-b5a7d00b6553",
   "metadata": {},
   "outputs": [],
   "source": [
    "#turning comment_id into index\n",
    "\n",
    "df_black_labeler_target.set_index('comment_id', inplace=True)\n"
   ]
  },
  {
   "cell_type": "code",
   "execution_count": 504,
   "id": "c191cf81-57fd-44e4-95ed-c2dbdd24caf1",
   "metadata": {},
   "outputs": [
    {
     "data": {
      "text/html": [
       "<div>\n",
       "<style scoped>\n",
       "    .dataframe tbody tr th:only-of-type {\n",
       "        vertical-align: middle;\n",
       "    }\n",
       "\n",
       "    .dataframe tbody tr th {\n",
       "        vertical-align: top;\n",
       "    }\n",
       "\n",
       "    .dataframe thead th {\n",
       "        text-align: right;\n",
       "    }\n",
       "</style>\n",
       "<table border=\"1\" class=\"dataframe\">\n",
       "  <thead>\n",
       "    <tr style=\"text-align: right;\">\n",
       "      <th></th>\n",
       "      <th>sentiment</th>\n",
       "      <th>respect</th>\n",
       "      <th>insult</th>\n",
       "      <th>humiliate</th>\n",
       "      <th>status</th>\n",
       "      <th>dehumanize</th>\n",
       "      <th>violence_phys</th>\n",
       "      <th>genocide</th>\n",
       "      <th>attack_defend</th>\n",
       "      <th>hatespeech</th>\n",
       "      <th>...</th>\n",
       "      <th>demo_sexual_orien_2</th>\n",
       "      <th>demo_sexual_orien_3</th>\n",
       "      <th>demo_sexual_orien_4</th>\n",
       "      <th>demo_sexual_orien_5</th>\n",
       "      <th>demo_sexual_orien_4_text</th>\n",
       "      <th>demo_ideology</th>\n",
       "      <th>locationlatitude</th>\n",
       "      <th>locationlongitude</th>\n",
       "      <th>identity</th>\n",
       "      <th>hypothesis</th>\n",
       "    </tr>\n",
       "    <tr>\n",
       "      <th>comment_id</th>\n",
       "      <th></th>\n",
       "      <th></th>\n",
       "      <th></th>\n",
       "      <th></th>\n",
       "      <th></th>\n",
       "      <th></th>\n",
       "      <th></th>\n",
       "      <th></th>\n",
       "      <th></th>\n",
       "      <th></th>\n",
       "      <th></th>\n",
       "      <th></th>\n",
       "      <th></th>\n",
       "      <th></th>\n",
       "      <th></th>\n",
       "      <th></th>\n",
       "      <th></th>\n",
       "      <th></th>\n",
       "      <th></th>\n",
       "      <th></th>\n",
       "      <th></th>\n",
       "    </tr>\n",
       "  </thead>\n",
       "  <tbody>\n",
       "    <tr>\n",
       "      <th>47777</th>\n",
       "      <td>0.0</td>\n",
       "      <td>0.0</td>\n",
       "      <td>0.0</td>\n",
       "      <td>0.0</td>\n",
       "      <td>0.0</td>\n",
       "      <td>0.0</td>\n",
       "      <td>0.0</td>\n",
       "      <td>0.0</td>\n",
       "      <td>0.0</td>\n",
       "      <td>0.0</td>\n",
       "      <td>...</td>\n",
       "      <td>NaN</td>\n",
       "      <td>NaN</td>\n",
       "      <td>NaN</td>\n",
       "      <td>NaN</td>\n",
       "      <td></td>\n",
       "      <td>4.0</td>\n",
       "      <td>37.55029296875</td>\n",
       "      <td>-77.39420318603515625</td>\n",
       "      <td>0.917681</td>\n",
       "      <td>-1.130178</td>\n",
       "    </tr>\n",
       "    <tr>\n",
       "      <th>11001</th>\n",
       "      <td>1.0</td>\n",
       "      <td>1.0</td>\n",
       "      <td>0.0</td>\n",
       "      <td>0.0</td>\n",
       "      <td>0.0</td>\n",
       "      <td>0.0</td>\n",
       "      <td>0.0</td>\n",
       "      <td>0.0</td>\n",
       "      <td>1.0</td>\n",
       "      <td>0.0</td>\n",
       "      <td>...</td>\n",
       "      <td>NaN</td>\n",
       "      <td>NaN</td>\n",
       "      <td>NaN</td>\n",
       "      <td>NaN</td>\n",
       "      <td></td>\n",
       "      <td>1.0</td>\n",
       "      <td>30.4170074462890625</td>\n",
       "      <td>-84.18499755859375</td>\n",
       "      <td>0.907838</td>\n",
       "      <td>-1.186106</td>\n",
       "    </tr>\n",
       "    <tr>\n",
       "      <th>46526</th>\n",
       "      <td>3.0</td>\n",
       "      <td>3.0</td>\n",
       "      <td>1.0</td>\n",
       "      <td>0.0</td>\n",
       "      <td>0.0</td>\n",
       "      <td>0.0</td>\n",
       "      <td>0.0</td>\n",
       "      <td>0.0</td>\n",
       "      <td>1.0</td>\n",
       "      <td>0.0</td>\n",
       "      <td>...</td>\n",
       "      <td>NaN</td>\n",
       "      <td>NaN</td>\n",
       "      <td>NaN</td>\n",
       "      <td>NaN</td>\n",
       "      <td></td>\n",
       "      <td>1.0</td>\n",
       "      <td>41.685302734375</td>\n",
       "      <td>-72.92960357666015625</td>\n",
       "      <td>0.832598</td>\n",
       "      <td>-0.565168</td>\n",
       "    </tr>\n",
       "    <tr>\n",
       "      <th>30683</th>\n",
       "      <td>3.0</td>\n",
       "      <td>2.0</td>\n",
       "      <td>2.0</td>\n",
       "      <td>1.0</td>\n",
       "      <td>1.0</td>\n",
       "      <td>0.0</td>\n",
       "      <td>0.0</td>\n",
       "      <td>0.0</td>\n",
       "      <td>1.0</td>\n",
       "      <td>0.0</td>\n",
       "      <td>...</td>\n",
       "      <td>NaN</td>\n",
       "      <td>NaN</td>\n",
       "      <td>NaN</td>\n",
       "      <td>NaN</td>\n",
       "      <td></td>\n",
       "      <td>2.0</td>\n",
       "      <td>39.787506103515625</td>\n",
       "      <td>-75.1797027587890625</td>\n",
       "      <td>0.982328</td>\n",
       "      <td>-0.288919</td>\n",
       "    </tr>\n",
       "    <tr>\n",
       "      <th>15758</th>\n",
       "      <td>2.0</td>\n",
       "      <td>2.0</td>\n",
       "      <td>1.0</td>\n",
       "      <td>0.0</td>\n",
       "      <td>0.0</td>\n",
       "      <td>0.0</td>\n",
       "      <td>0.0</td>\n",
       "      <td>0.0</td>\n",
       "      <td>1.0</td>\n",
       "      <td>0.0</td>\n",
       "      <td>...</td>\n",
       "      <td>1.0</td>\n",
       "      <td>NaN</td>\n",
       "      <td>NaN</td>\n",
       "      <td>NaN</td>\n",
       "      <td></td>\n",
       "      <td>1.0</td>\n",
       "      <td>41.854705810546875</td>\n",
       "      <td>-71.47350311279296875</td>\n",
       "      <td>0.984188</td>\n",
       "      <td>-0.262152</td>\n",
       "    </tr>\n",
       "    <tr>\n",
       "      <th>...</th>\n",
       "      <td>...</td>\n",
       "      <td>...</td>\n",
       "      <td>...</td>\n",
       "      <td>...</td>\n",
       "      <td>...</td>\n",
       "      <td>...</td>\n",
       "      <td>...</td>\n",
       "      <td>...</td>\n",
       "      <td>...</td>\n",
       "      <td>...</td>\n",
       "      <td>...</td>\n",
       "      <td>...</td>\n",
       "      <td>...</td>\n",
       "      <td>...</td>\n",
       "      <td>...</td>\n",
       "      <td>...</td>\n",
       "      <td>...</td>\n",
       "      <td>...</td>\n",
       "      <td>...</td>\n",
       "      <td>...</td>\n",
       "      <td>...</td>\n",
       "    </tr>\n",
       "    <tr>\n",
       "      <th>20066</th>\n",
       "      <td>2.0</td>\n",
       "      <td>0.0</td>\n",
       "      <td>0.0</td>\n",
       "      <td>0.0</td>\n",
       "      <td>0.0</td>\n",
       "      <td>0.0</td>\n",
       "      <td>0.0</td>\n",
       "      <td>0.0</td>\n",
       "      <td>0.0</td>\n",
       "      <td>0.0</td>\n",
       "      <td>...</td>\n",
       "      <td>NaN</td>\n",
       "      <td>NaN</td>\n",
       "      <td>NaN</td>\n",
       "      <td>NaN</td>\n",
       "      <td></td>\n",
       "      <td>3.0</td>\n",
       "      <td>41.494598388671875</td>\n",
       "      <td>-90.56749725341796875</td>\n",
       "      <td>0.802158</td>\n",
       "      <td>0.344536</td>\n",
       "    </tr>\n",
       "    <tr>\n",
       "      <th>20066</th>\n",
       "      <td>2.0</td>\n",
       "      <td>1.0</td>\n",
       "      <td>0.0</td>\n",
       "      <td>0.0</td>\n",
       "      <td>0.0</td>\n",
       "      <td>0.0</td>\n",
       "      <td>0.0</td>\n",
       "      <td>0.0</td>\n",
       "      <td>1.0</td>\n",
       "      <td>0.0</td>\n",
       "      <td>...</td>\n",
       "      <td>NaN</td>\n",
       "      <td>NaN</td>\n",
       "      <td>NaN</td>\n",
       "      <td>NaN</td>\n",
       "      <td></td>\n",
       "      <td>3.0</td>\n",
       "      <td>34.0614013671875</td>\n",
       "      <td>-118.3072052001953125</td>\n",
       "      <td>0.802158</td>\n",
       "      <td>0.344536</td>\n",
       "    </tr>\n",
       "    <tr>\n",
       "      <th>20066</th>\n",
       "      <td>0.0</td>\n",
       "      <td>0.0</td>\n",
       "      <td>0.0</td>\n",
       "      <td>0.0</td>\n",
       "      <td>0.0</td>\n",
       "      <td>0.0</td>\n",
       "      <td>0.0</td>\n",
       "      <td>0.0</td>\n",
       "      <td>1.0</td>\n",
       "      <td>0.0</td>\n",
       "      <td>...</td>\n",
       "      <td>NaN</td>\n",
       "      <td>NaN</td>\n",
       "      <td>NaN</td>\n",
       "      <td>NaN</td>\n",
       "      <td></td>\n",
       "      <td>6.0</td>\n",
       "      <td>35.00390625</td>\n",
       "      <td>-82.4272003173828125</td>\n",
       "      <td>0.802158</td>\n",
       "      <td>0.344536</td>\n",
       "    </tr>\n",
       "    <tr>\n",
       "      <th>20062</th>\n",
       "      <td>0.0</td>\n",
       "      <td>0.0</td>\n",
       "      <td>0.0</td>\n",
       "      <td>0.0</td>\n",
       "      <td>0.0</td>\n",
       "      <td>0.0</td>\n",
       "      <td>0.0</td>\n",
       "      <td>0.0</td>\n",
       "      <td>1.0</td>\n",
       "      <td>0.0</td>\n",
       "      <td>...</td>\n",
       "      <td>NaN</td>\n",
       "      <td>NaN</td>\n",
       "      <td>NaN</td>\n",
       "      <td>NaN</td>\n",
       "      <td></td>\n",
       "      <td>2.0</td>\n",
       "      <td>38.7913055419921875</td>\n",
       "      <td>-77.28060150146484375</td>\n",
       "      <td>0.532801</td>\n",
       "      <td>0.332823</td>\n",
       "    </tr>\n",
       "    <tr>\n",
       "      <th>20062</th>\n",
       "      <td>0.0</td>\n",
       "      <td>0.0</td>\n",
       "      <td>0.0</td>\n",
       "      <td>0.0</td>\n",
       "      <td>0.0</td>\n",
       "      <td>0.0</td>\n",
       "      <td>0.0</td>\n",
       "      <td>0.0</td>\n",
       "      <td>0.0</td>\n",
       "      <td>0.0</td>\n",
       "      <td>...</td>\n",
       "      <td>NaN</td>\n",
       "      <td>NaN</td>\n",
       "      <td>NaN</td>\n",
       "      <td>NaN</td>\n",
       "      <td></td>\n",
       "      <td>3.0</td>\n",
       "      <td>42.27679443359375</td>\n",
       "      <td>-83.37580108642578125</td>\n",
       "      <td>0.532801</td>\n",
       "      <td>0.332823</td>\n",
       "    </tr>\n",
       "  </tbody>\n",
       "</table>\n",
       "<p>18545 rows × 134 columns</p>\n",
       "</div>"
      ],
      "text/plain": [
       "            sentiment  respect  insult  humiliate  status  dehumanize  \\\n",
       "comment_id                                                              \n",
       "47777             0.0      0.0     0.0        0.0     0.0         0.0   \n",
       "11001             1.0      1.0     0.0        0.0     0.0         0.0   \n",
       "46526             3.0      3.0     1.0        0.0     0.0         0.0   \n",
       "30683             3.0      2.0     2.0        1.0     1.0         0.0   \n",
       "15758             2.0      2.0     1.0        0.0     0.0         0.0   \n",
       "...               ...      ...     ...        ...     ...         ...   \n",
       "20066             2.0      0.0     0.0        0.0     0.0         0.0   \n",
       "20066             2.0      1.0     0.0        0.0     0.0         0.0   \n",
       "20066             0.0      0.0     0.0        0.0     0.0         0.0   \n",
       "20062             0.0      0.0     0.0        0.0     0.0         0.0   \n",
       "20062             0.0      0.0     0.0        0.0     0.0         0.0   \n",
       "\n",
       "            violence_phys  genocide  attack_defend  hatespeech  ...  \\\n",
       "comment_id                                                      ...   \n",
       "47777                 0.0       0.0            0.0         0.0  ...   \n",
       "11001                 0.0       0.0            1.0         0.0  ...   \n",
       "46526                 0.0       0.0            1.0         0.0  ...   \n",
       "30683                 0.0       0.0            1.0         0.0  ...   \n",
       "15758                 0.0       0.0            1.0         0.0  ...   \n",
       "...                   ...       ...            ...         ...  ...   \n",
       "20066                 0.0       0.0            0.0         0.0  ...   \n",
       "20066                 0.0       0.0            1.0         0.0  ...   \n",
       "20066                 0.0       0.0            1.0         0.0  ...   \n",
       "20062                 0.0       0.0            1.0         0.0  ...   \n",
       "20062                 0.0       0.0            0.0         0.0  ...   \n",
       "\n",
       "           demo_sexual_orien_2 demo_sexual_orien_3 demo_sexual_orien_4  \\\n",
       "comment_id                                                               \n",
       "47777                      NaN                 NaN                 NaN   \n",
       "11001                      NaN                 NaN                 NaN   \n",
       "46526                      NaN                 NaN                 NaN   \n",
       "30683                      NaN                 NaN                 NaN   \n",
       "15758                      1.0                 NaN                 NaN   \n",
       "...                        ...                 ...                 ...   \n",
       "20066                      NaN                 NaN                 NaN   \n",
       "20066                      NaN                 NaN                 NaN   \n",
       "20066                      NaN                 NaN                 NaN   \n",
       "20062                      NaN                 NaN                 NaN   \n",
       "20062                      NaN                 NaN                 NaN   \n",
       "\n",
       "            demo_sexual_orien_5  demo_sexual_orien_4_text  demo_ideology  \\\n",
       "comment_id                                                                 \n",
       "47777                       NaN                                      4.0   \n",
       "11001                       NaN                                      1.0   \n",
       "46526                       NaN                                      1.0   \n",
       "30683                       NaN                                      2.0   \n",
       "15758                       NaN                                      1.0   \n",
       "...                         ...                       ...            ...   \n",
       "20066                       NaN                                      3.0   \n",
       "20066                       NaN                                      3.0   \n",
       "20066                       NaN                                      6.0   \n",
       "20062                       NaN                                      2.0   \n",
       "20062                       NaN                                      3.0   \n",
       "\n",
       "               locationlatitude      locationlongitude  identity  hypothesis  \n",
       "comment_id                                                                    \n",
       "47777            37.55029296875  -77.39420318603515625  0.917681   -1.130178  \n",
       "11001       30.4170074462890625     -84.18499755859375  0.907838   -1.186106  \n",
       "46526           41.685302734375  -72.92960357666015625  0.832598   -0.565168  \n",
       "30683        39.787506103515625   -75.1797027587890625  0.982328   -0.288919  \n",
       "15758        41.854705810546875  -71.47350311279296875  0.984188   -0.262152  \n",
       "...                         ...                    ...       ...         ...  \n",
       "20066        41.494598388671875  -90.56749725341796875  0.802158    0.344536  \n",
       "20066          34.0614013671875  -118.3072052001953125  0.802158    0.344536  \n",
       "20066               35.00390625   -82.4272003173828125  0.802158    0.344536  \n",
       "20062       38.7913055419921875  -77.28060150146484375  0.532801    0.332823  \n",
       "20062         42.27679443359375  -83.37580108642578125  0.532801    0.332823  \n",
       "\n",
       "[18545 rows x 134 columns]"
      ]
     },
     "execution_count": 504,
     "metadata": {},
     "output_type": "execute_result"
    }
   ],
   "source": [
    "df_black_labeler_target"
   ]
  },
  {
   "cell_type": "code",
   "execution_count": 507,
   "id": "c6a00c1f-9885-4a5a-a4bb-81eb1a80ad98",
   "metadata": {},
   "outputs": [
    {
     "name": "stderr",
     "output_type": "stream",
     "text": [
      "<ipython-input-507-327e70931f02>:1: SettingWithCopyWarning: \n",
      "A value is trying to be set on a copy of a slice from a DataFrame.\n",
      "Try using .loc[row_indexer,col_indexer] = value instead\n",
      "\n",
      "See the caveats in the documentation: https://pandas.pydata.org/pandas-docs/stable/user_guide/indexing.html#returning-a-view-versus-a-copy\n",
      "  df_black_labeler_target['comment_id'] = df_black_labeler_target.index\n"
     ]
    }
   ],
   "source": [
    "df_black_labeler_target['comment_id'] = df_black_labeler_target.index"
   ]
  },
  {
   "cell_type": "code",
   "execution_count": 510,
   "id": "ce96c9d8-4d2b-4cdd-bff1-fa3160f98566",
   "metadata": {},
   "outputs": [
    {
     "data": {
      "text/html": [
       "<div>\n",
       "<style scoped>\n",
       "    .dataframe tbody tr th:only-of-type {\n",
       "        vertical-align: middle;\n",
       "    }\n",
       "\n",
       "    .dataframe tbody tr th {\n",
       "        vertical-align: top;\n",
       "    }\n",
       "\n",
       "    .dataframe thead th {\n",
       "        text-align: right;\n",
       "    }\n",
       "</style>\n",
       "<table border=\"1\" class=\"dataframe\">\n",
       "  <thead>\n",
       "    <tr style=\"text-align: right;\">\n",
       "      <th></th>\n",
       "      <th>sentiment</th>\n",
       "    </tr>\n",
       "    <tr>\n",
       "      <th>comment_id</th>\n",
       "      <th></th>\n",
       "    </tr>\n",
       "  </thead>\n",
       "  <tbody>\n",
       "    <tr>\n",
       "      <th>20066</th>\n",
       "      <td>0.0</td>\n",
       "    </tr>\n",
       "    <tr>\n",
       "      <th>20066</th>\n",
       "      <td>0.0</td>\n",
       "    </tr>\n",
       "    <tr>\n",
       "      <th>20066</th>\n",
       "      <td>0.0</td>\n",
       "    </tr>\n",
       "    <tr>\n",
       "      <th>20066</th>\n",
       "      <td>0.0</td>\n",
       "    </tr>\n",
       "    <tr>\n",
       "      <th>20066</th>\n",
       "      <td>2.0</td>\n",
       "    </tr>\n",
       "    <tr>\n",
       "      <th>20066</th>\n",
       "      <td>0.0</td>\n",
       "    </tr>\n",
       "    <tr>\n",
       "      <th>20066</th>\n",
       "      <td>0.0</td>\n",
       "    </tr>\n",
       "    <tr>\n",
       "      <th>20066</th>\n",
       "      <td>2.0</td>\n",
       "    </tr>\n",
       "    <tr>\n",
       "      <th>20066</th>\n",
       "      <td>1.0</td>\n",
       "    </tr>\n",
       "    <tr>\n",
       "      <th>20066</th>\n",
       "      <td>0.0</td>\n",
       "    </tr>\n",
       "    <tr>\n",
       "      <th>20066</th>\n",
       "      <td>0.0</td>\n",
       "    </tr>\n",
       "    <tr>\n",
       "      <th>20066</th>\n",
       "      <td>0.0</td>\n",
       "    </tr>\n",
       "    <tr>\n",
       "      <th>20066</th>\n",
       "      <td>0.0</td>\n",
       "    </tr>\n",
       "    <tr>\n",
       "      <th>20066</th>\n",
       "      <td>0.0</td>\n",
       "    </tr>\n",
       "    <tr>\n",
       "      <th>20066</th>\n",
       "      <td>2.0</td>\n",
       "    </tr>\n",
       "    <tr>\n",
       "      <th>20066</th>\n",
       "      <td>0.0</td>\n",
       "    </tr>\n",
       "    <tr>\n",
       "      <th>20066</th>\n",
       "      <td>1.0</td>\n",
       "    </tr>\n",
       "    <tr>\n",
       "      <th>20066</th>\n",
       "      <td>0.0</td>\n",
       "    </tr>\n",
       "    <tr>\n",
       "      <th>20066</th>\n",
       "      <td>0.0</td>\n",
       "    </tr>\n",
       "    <tr>\n",
       "      <th>20066</th>\n",
       "      <td>0.0</td>\n",
       "    </tr>\n",
       "    <tr>\n",
       "      <th>20066</th>\n",
       "      <td>1.0</td>\n",
       "    </tr>\n",
       "    <tr>\n",
       "      <th>20066</th>\n",
       "      <td>0.0</td>\n",
       "    </tr>\n",
       "    <tr>\n",
       "      <th>20066</th>\n",
       "      <td>0.0</td>\n",
       "    </tr>\n",
       "    <tr>\n",
       "      <th>20066</th>\n",
       "      <td>1.0</td>\n",
       "    </tr>\n",
       "    <tr>\n",
       "      <th>20066</th>\n",
       "      <td>1.0</td>\n",
       "    </tr>\n",
       "    <tr>\n",
       "      <th>20066</th>\n",
       "      <td>1.0</td>\n",
       "    </tr>\n",
       "    <tr>\n",
       "      <th>20066</th>\n",
       "      <td>1.0</td>\n",
       "    </tr>\n",
       "    <tr>\n",
       "      <th>20066</th>\n",
       "      <td>1.0</td>\n",
       "    </tr>\n",
       "    <tr>\n",
       "      <th>20066</th>\n",
       "      <td>1.0</td>\n",
       "    </tr>\n",
       "    <tr>\n",
       "      <th>20066</th>\n",
       "      <td>1.0</td>\n",
       "    </tr>\n",
       "    <tr>\n",
       "      <th>20066</th>\n",
       "      <td>1.0</td>\n",
       "    </tr>\n",
       "    <tr>\n",
       "      <th>20066</th>\n",
       "      <td>0.0</td>\n",
       "    </tr>\n",
       "    <tr>\n",
       "      <th>20066</th>\n",
       "      <td>2.0</td>\n",
       "    </tr>\n",
       "    <tr>\n",
       "      <th>20066</th>\n",
       "      <td>2.0</td>\n",
       "    </tr>\n",
       "    <tr>\n",
       "      <th>20066</th>\n",
       "      <td>0.0</td>\n",
       "    </tr>\n",
       "  </tbody>\n",
       "</table>\n",
       "</div>"
      ],
      "text/plain": [
       "            sentiment\n",
       "comment_id           \n",
       "20066             0.0\n",
       "20066             0.0\n",
       "20066             0.0\n",
       "20066             0.0\n",
       "20066             2.0\n",
       "20066             0.0\n",
       "20066             0.0\n",
       "20066             2.0\n",
       "20066             1.0\n",
       "20066             0.0\n",
       "20066             0.0\n",
       "20066             0.0\n",
       "20066             0.0\n",
       "20066             0.0\n",
       "20066             2.0\n",
       "20066             0.0\n",
       "20066             1.0\n",
       "20066             0.0\n",
       "20066             0.0\n",
       "20066             0.0\n",
       "20066             1.0\n",
       "20066             0.0\n",
       "20066             0.0\n",
       "20066             1.0\n",
       "20066             1.0\n",
       "20066             1.0\n",
       "20066             1.0\n",
       "20066             1.0\n",
       "20066             1.0\n",
       "20066             1.0\n",
       "20066             1.0\n",
       "20066             0.0\n",
       "20066             2.0\n",
       "20066             2.0\n",
       "20066             0.0"
      ]
     },
     "execution_count": 510,
     "metadata": {},
     "output_type": "execute_result"
    }
   ],
   "source": [
    "df_black_labeler_target[df_black_labeler_target['comment_id'] == 20066][['sentiment']]"
   ]
  },
  {
   "cell_type": "code",
   "execution_count": 511,
   "id": "42362b45-0e67-4fd5-8342-1e48bba3cb1b",
   "metadata": {},
   "outputs": [
    {
     "data": {
      "text/html": [
       "<div>\n",
       "<style scoped>\n",
       "    .dataframe tbody tr th:only-of-type {\n",
       "        vertical-align: middle;\n",
       "    }\n",
       "\n",
       "    .dataframe tbody tr th {\n",
       "        vertical-align: top;\n",
       "    }\n",
       "\n",
       "    .dataframe thead th {\n",
       "        text-align: right;\n",
       "    }\n",
       "</style>\n",
       "<table border=\"1\" class=\"dataframe\">\n",
       "  <thead>\n",
       "    <tr style=\"text-align: right;\">\n",
       "      <th></th>\n",
       "      <th>sentiment_0</th>\n",
       "      <th>sentiment_1</th>\n",
       "      <th>sentiment_2</th>\n",
       "      <th>sentiment_3</th>\n",
       "      <th>sentiment_4</th>\n",
       "    </tr>\n",
       "    <tr>\n",
       "      <th>comment_id</th>\n",
       "      <th></th>\n",
       "      <th></th>\n",
       "      <th></th>\n",
       "      <th></th>\n",
       "      <th></th>\n",
       "    </tr>\n",
       "  </thead>\n",
       "  <tbody>\n",
       "    <tr>\n",
       "      <th>47777</th>\n",
       "      <td>1</td>\n",
       "      <td>0</td>\n",
       "      <td>0</td>\n",
       "      <td>0</td>\n",
       "      <td>0</td>\n",
       "    </tr>\n",
       "    <tr>\n",
       "      <th>11001</th>\n",
       "      <td>0</td>\n",
       "      <td>1</td>\n",
       "      <td>0</td>\n",
       "      <td>0</td>\n",
       "      <td>0</td>\n",
       "    </tr>\n",
       "    <tr>\n",
       "      <th>46526</th>\n",
       "      <td>0</td>\n",
       "      <td>0</td>\n",
       "      <td>0</td>\n",
       "      <td>1</td>\n",
       "      <td>0</td>\n",
       "    </tr>\n",
       "    <tr>\n",
       "      <th>30683</th>\n",
       "      <td>0</td>\n",
       "      <td>0</td>\n",
       "      <td>0</td>\n",
       "      <td>1</td>\n",
       "      <td>0</td>\n",
       "    </tr>\n",
       "    <tr>\n",
       "      <th>15758</th>\n",
       "      <td>0</td>\n",
       "      <td>0</td>\n",
       "      <td>1</td>\n",
       "      <td>0</td>\n",
       "      <td>0</td>\n",
       "    </tr>\n",
       "    <tr>\n",
       "      <th>...</th>\n",
       "      <td>...</td>\n",
       "      <td>...</td>\n",
       "      <td>...</td>\n",
       "      <td>...</td>\n",
       "      <td>...</td>\n",
       "    </tr>\n",
       "    <tr>\n",
       "      <th>20066</th>\n",
       "      <td>0</td>\n",
       "      <td>0</td>\n",
       "      <td>1</td>\n",
       "      <td>0</td>\n",
       "      <td>0</td>\n",
       "    </tr>\n",
       "    <tr>\n",
       "      <th>20066</th>\n",
       "      <td>0</td>\n",
       "      <td>0</td>\n",
       "      <td>1</td>\n",
       "      <td>0</td>\n",
       "      <td>0</td>\n",
       "    </tr>\n",
       "    <tr>\n",
       "      <th>20066</th>\n",
       "      <td>1</td>\n",
       "      <td>0</td>\n",
       "      <td>0</td>\n",
       "      <td>0</td>\n",
       "      <td>0</td>\n",
       "    </tr>\n",
       "    <tr>\n",
       "      <th>20062</th>\n",
       "      <td>1</td>\n",
       "      <td>0</td>\n",
       "      <td>0</td>\n",
       "      <td>0</td>\n",
       "      <td>0</td>\n",
       "    </tr>\n",
       "    <tr>\n",
       "      <th>20062</th>\n",
       "      <td>1</td>\n",
       "      <td>0</td>\n",
       "      <td>0</td>\n",
       "      <td>0</td>\n",
       "      <td>0</td>\n",
       "    </tr>\n",
       "  </tbody>\n",
       "</table>\n",
       "<p>18545 rows × 5 columns</p>\n",
       "</div>"
      ],
      "text/plain": [
       "            sentiment_0  sentiment_1  sentiment_2  sentiment_3  sentiment_4\n",
       "comment_id                                                                 \n",
       "47777                 1            0            0            0            0\n",
       "11001                 0            1            0            0            0\n",
       "46526                 0            0            0            1            0\n",
       "30683                 0            0            0            1            0\n",
       "15758                 0            0            1            0            0\n",
       "...                 ...          ...          ...          ...          ...\n",
       "20066                 0            0            1            0            0\n",
       "20066                 0            0            1            0            0\n",
       "20066                 1            0            0            0            0\n",
       "20062                 1            0            0            0            0\n",
       "20062                 1            0            0            0            0\n",
       "\n",
       "[18545 rows x 5 columns]"
      ]
     },
     "execution_count": 511,
     "metadata": {},
     "output_type": "execute_result"
    }
   ],
   "source": [
    "#going to turn the df into dummies, but only for sentiment\n",
    "\n",
    "df_sentiment_black_labeler_target = pd.get_dummies(df_black_labeler_target['sentiment']).rename(columns={0:'sentiment_0', 1:'sentiment_1', 2:'sentiment_2', 3:'sentiment_3', 4:'sentiment_4'})\n",
    "df_sentiment_black_labeler_target"
   ]
  },
  {
   "cell_type": "code",
   "execution_count": 512,
   "id": "f9087929-62cf-4ce2-82c0-aab1186f8007",
   "metadata": {},
   "outputs": [],
   "source": [
    "#turn index into column \n",
    "df_sentiment_black_labeler_target['comment_id'] = df_sentiment_black_labeler_target.index"
   ]
  },
  {
   "cell_type": "code",
   "execution_count": 515,
   "id": "16778da3-70dd-497c-abe3-9c7e9f5f043c",
   "metadata": {},
   "outputs": [
    {
     "data": {
      "text/plain": [
       "19"
      ]
     },
     "execution_count": 515,
     "metadata": {},
     "output_type": "execute_result"
    }
   ],
   "source": [
    "df_sentiment_black_labeler_target[df_sentiment_black_labeler_target['comment_id'] == 20066]['sentiment_0'].sum()"
   ]
  },
  {
   "cell_type": "code",
   "execution_count": 533,
   "id": "19619495-b8ef-416f-8c11-3155c8f9d21c",
   "metadata": {},
   "outputs": [
    {
     "ename": "ValueError",
     "evalue": "Array conditional must be same shape as self",
     "output_type": "error",
     "traceback": [
      "\u001b[0;31m---------------------------------------------------------------------------\u001b[0m",
      "\u001b[0;31mValueError\u001b[0m                                Traceback (most recent call last)",
      "\u001b[0;32m<ipython-input-533-a5fe00629b88>\u001b[0m in \u001b[0;36m<module>\u001b[0;34m\u001b[0m\n\u001b[0;32m----> 1\u001b[0;31m \u001b[0mdf_sentiment_black_labeler_target\u001b[0m\u001b[0;34m.\u001b[0m\u001b[0mwhere\u001b[0m\u001b[0;34m(\u001b[0m\u001b[0mdf_sentiment_black_labeler_target\u001b[0m\u001b[0;34m.\u001b[0m\u001b[0mindex\u001b[0m\u001b[0;34m.\u001b[0m\u001b[0misin\u001b[0m\u001b[0;34m(\u001b[0m\u001b[0;34m[\u001b[0m\u001b[0;36m20066\u001b[0m\u001b[0;34m]\u001b[0m\u001b[0;34m)\u001b[0m\u001b[0;34m)\u001b[0m\u001b[0;34m\u001b[0m\u001b[0;34m\u001b[0m\u001b[0m\n\u001b[0m",
      "\u001b[0;32m~/miniconda3/envs/hatespeech/lib/python3.9/site-packages/pandas/core/generic.py\u001b[0m in \u001b[0;36mwhere\u001b[0;34m(self, cond, other, inplace, axis, level, errors, try_cast)\u001b[0m\n\u001b[1;32m   9284\u001b[0m         \"\"\"\n\u001b[1;32m   9285\u001b[0m         \u001b[0mother\u001b[0m \u001b[0;34m=\u001b[0m \u001b[0mcom\u001b[0m\u001b[0;34m.\u001b[0m\u001b[0mapply_if_callable\u001b[0m\u001b[0;34m(\u001b[0m\u001b[0mother\u001b[0m\u001b[0;34m,\u001b[0m \u001b[0mself\u001b[0m\u001b[0;34m)\u001b[0m\u001b[0;34m\u001b[0m\u001b[0;34m\u001b[0m\u001b[0m\n\u001b[0;32m-> 9286\u001b[0;31m         return self._where(\n\u001b[0m\u001b[1;32m   9287\u001b[0m             \u001b[0mcond\u001b[0m\u001b[0;34m,\u001b[0m \u001b[0mother\u001b[0m\u001b[0;34m,\u001b[0m \u001b[0minplace\u001b[0m\u001b[0;34m,\u001b[0m \u001b[0maxis\u001b[0m\u001b[0;34m,\u001b[0m \u001b[0mlevel\u001b[0m\u001b[0;34m,\u001b[0m \u001b[0merrors\u001b[0m\u001b[0;34m=\u001b[0m\u001b[0merrors\u001b[0m\u001b[0;34m,\u001b[0m \u001b[0mtry_cast\u001b[0m\u001b[0;34m=\u001b[0m\u001b[0mtry_cast\u001b[0m\u001b[0;34m\u001b[0m\u001b[0;34m\u001b[0m\u001b[0m\n\u001b[1;32m   9288\u001b[0m         )\n",
      "\u001b[0;32m~/miniconda3/envs/hatespeech/lib/python3.9/site-packages/pandas/core/generic.py\u001b[0m in \u001b[0;36m_where\u001b[0;34m(self, cond, other, inplace, axis, level, errors, try_cast)\u001b[0m\n\u001b[1;32m   9024\u001b[0m                 \u001b[0mcond\u001b[0m \u001b[0;34m=\u001b[0m \u001b[0mnp\u001b[0m\u001b[0;34m.\u001b[0m\u001b[0masanyarray\u001b[0m\u001b[0;34m(\u001b[0m\u001b[0mcond\u001b[0m\u001b[0;34m)\u001b[0m\u001b[0;34m\u001b[0m\u001b[0;34m\u001b[0m\u001b[0m\n\u001b[1;32m   9025\u001b[0m             \u001b[0;32mif\u001b[0m \u001b[0mcond\u001b[0m\u001b[0;34m.\u001b[0m\u001b[0mshape\u001b[0m \u001b[0;34m!=\u001b[0m \u001b[0mself\u001b[0m\u001b[0;34m.\u001b[0m\u001b[0mshape\u001b[0m\u001b[0;34m:\u001b[0m\u001b[0;34m\u001b[0m\u001b[0;34m\u001b[0m\u001b[0m\n\u001b[0;32m-> 9026\u001b[0;31m                 \u001b[0;32mraise\u001b[0m \u001b[0mValueError\u001b[0m\u001b[0;34m(\u001b[0m\u001b[0;34m\"Array conditional must be same shape as self\"\u001b[0m\u001b[0;34m)\u001b[0m\u001b[0;34m\u001b[0m\u001b[0;34m\u001b[0m\u001b[0m\n\u001b[0m\u001b[1;32m   9027\u001b[0m             \u001b[0mcond\u001b[0m \u001b[0;34m=\u001b[0m \u001b[0mself\u001b[0m\u001b[0;34m.\u001b[0m\u001b[0m_constructor\u001b[0m\u001b[0;34m(\u001b[0m\u001b[0mcond\u001b[0m\u001b[0;34m,\u001b[0m \u001b[0;34m**\u001b[0m\u001b[0mself\u001b[0m\u001b[0;34m.\u001b[0m\u001b[0m_construct_axes_dict\u001b[0m\u001b[0;34m(\u001b[0m\u001b[0;34m)\u001b[0m\u001b[0;34m)\u001b[0m\u001b[0;34m\u001b[0m\u001b[0;34m\u001b[0m\u001b[0m\n\u001b[1;32m   9028\u001b[0m \u001b[0;34m\u001b[0m\u001b[0m\n",
      "\u001b[0;31mValueError\u001b[0m: Array conditional must be same shape as self"
     ]
    }
   ],
   "source": []
  },
  {
   "cell_type": "code",
   "execution_count": 466,
   "id": "4d412aa1-099f-4edf-b687-9b0f28fe82b6",
   "metadata": {},
   "outputs": [],
   "source": [
    "#df_sentiment_black_labeler_target.index.rename('comment_id',inplace=True)"
   ]
  },
  {
   "cell_type": "code",
   "execution_count": 493,
   "id": "2bb2a60b-0d84-4d5e-863c-5236f583b9c6",
   "metadata": {},
   "outputs": [],
   "source": [
    "#is this just negative bc of the ~? \n",
    "#~df_sentiment_black_labeler_target.index.duplicated(keep =False).sum()"
   ]
  },
  {
   "cell_type": "code",
   "execution_count": null,
   "id": "7c96ce71-1ac8-4ede-9bb2-2264744fe00b",
   "metadata": {},
   "outputs": [],
   "source": [
    "#DOES GET dummeis actually work here? bc what i'm saying is grab every\n",
    "#category in sentime, turn that into a column\n",
    "#then it's 0 or 1 if that condition is met\n",
    "#so if i have "
   ]
  },
  {
   "cell_type": "code",
   "execution_count": 517,
   "id": "8b400acf-6013-4cb7-aaa0-c94334c1653a",
   "metadata": {},
   "outputs": [
    {
     "data": {
      "text/plain": [
       "Index(['sentiment_0', 'sentiment_1', 'sentiment_2', 'sentiment_3',\n",
       "       'sentiment_4', 'comment_id'],\n",
       "      dtype='object')"
      ]
     },
     "execution_count": 517,
     "metadata": {},
     "output_type": "execute_result"
    }
   ],
   "source": [
    "df_sentiment_black_labeler_target.columns"
   ]
  },
  {
   "cell_type": "code",
   "execution_count": null,
   "id": "acd83dc6-4480-4ffb-8687-a835dccdd2c0",
   "metadata": {},
   "outputs": [],
   "source": [
    "\n",
    "df_sentiment_black_labeler_target = df_sentiment_black_labeler_target.groupby(by = df_sentiment_black_labeler_target['comment_id']).sum()"
   ]
  },
  {
   "cell_type": "code",
   "execution_count": 525,
   "id": "d7e95e05-0fd6-4be4-9370-333011a51d74",
   "metadata": {},
   "outputs": [
    {
     "data": {
      "text/plain": [
       "True"
      ]
     },
     "execution_count": 525,
     "metadata": {},
     "output_type": "execute_result"
    }
   ],
   "source": [
    "#this is how many times the comment_id shows up (ie row counts)\n",
    "#df_sentiment_black_labeler_target.groupby(df_sentiment_black_labeler_target.index).sum()\n",
    "\n",
    "\n",
    "20066 in df_sentiment_black_labeler_target.index\n",
    "#20066\n",
    "#20063"
   ]
  },
  {
   "cell_type": "code",
   "execution_count": 531,
   "id": "f3545765-38bc-4525-8a33-d9c9d2d0a516",
   "metadata": {},
   "outputs": [
    {
     "data": {
      "text/plain": [
       "5627"
      ]
     },
     "execution_count": 531,
     "metadata": {},
     "output_type": "execute_result"
    }
   ],
   "source": [
    "len(df_sentiment_black_labeler_target)"
   ]
  },
  {
   "cell_type": "code",
   "execution_count": 530,
   "id": "e791dcfa-7832-44e1-ba79-487cffb9e12c",
   "metadata": {},
   "outputs": [
    {
     "name": "stdout",
     "output_type": "stream",
     "text": [
      "5627\n"
     ]
    }
   ],
   "source": [
    "for i in df_sentiment_black_labeler_target.index:\n",
    "    if i == 20066:\n",
    "        print(len(df_sentiment_black_labeler_target))"
   ]
  },
  {
   "cell_type": "code",
   "execution_count": 534,
   "id": "1a601475-954e-4d51-9a8e-c986fe47089a",
   "metadata": {},
   "outputs": [
    {
     "data": {
      "text/plain": [
       "sentiment_0    19.0\n",
       "sentiment_1    11.0\n",
       "sentiment_2     5.0\n",
       "sentiment_3     0.0\n",
       "sentiment_4     0.0\n",
       "Name: 20066, dtype: float64"
      ]
     },
     "execution_count": 534,
     "metadata": {},
     "output_type": "execute_result"
    }
   ],
   "source": [
    "#selecting by index LABEL \n",
    "df_sentiment_black_labeler_target.loc[20066, :]"
   ]
  },
  {
   "cell_type": "code",
   "execution_count": 535,
   "id": "b04d0cfb-14e3-4c7a-813d-1449c5badad5",
   "metadata": {},
   "outputs": [],
   "source": [
    "#df_sentiment_black_labeler_target[df_sentiment_black_labeler_target['comment_id'] == 20066]"
   ]
  },
  {
   "cell_type": "code",
   "execution_count": 536,
   "id": "b54f3055-60bb-4a52-a585-a58c037ccaa8",
   "metadata": {},
   "outputs": [],
   "source": [
    "# df_white_labeler_black_target['comment_id']"
   ]
  },
  {
   "cell_type": "code",
   "execution_count": 538,
   "id": "25c2936a-8ef9-45a0-b10e-26c3c9a1b5c5",
   "metadata": {},
   "outputs": [
    {
     "data": {
      "text/html": [
       "<div>\n",
       "<style scoped>\n",
       "    .dataframe tbody tr th:only-of-type {\n",
       "        vertical-align: middle;\n",
       "    }\n",
       "\n",
       "    .dataframe tbody tr th {\n",
       "        vertical-align: top;\n",
       "    }\n",
       "\n",
       "    .dataframe thead th {\n",
       "        text-align: right;\n",
       "    }\n",
       "</style>\n",
       "<table border=\"1\" class=\"dataframe\">\n",
       "  <thead>\n",
       "    <tr style=\"text-align: right;\">\n",
       "      <th></th>\n",
       "      <th>sentiment_0</th>\n",
       "      <th>sentiment_1</th>\n",
       "      <th>sentiment_2</th>\n",
       "      <th>sentiment_3</th>\n",
       "      <th>sentiment_4</th>\n",
       "    </tr>\n",
       "    <tr>\n",
       "      <th>comment_id</th>\n",
       "      <th></th>\n",
       "      <th></th>\n",
       "      <th></th>\n",
       "      <th></th>\n",
       "      <th></th>\n",
       "    </tr>\n",
       "  </thead>\n",
       "  <tbody>\n",
       "    <tr>\n",
       "      <th>3</th>\n",
       "      <td>0.0</td>\n",
       "      <td>0.0</td>\n",
       "      <td>2.0</td>\n",
       "      <td>1.0</td>\n",
       "      <td>0.0</td>\n",
       "    </tr>\n",
       "    <tr>\n",
       "      <th>5</th>\n",
       "      <td>0.0</td>\n",
       "      <td>0.0</td>\n",
       "      <td>3.0</td>\n",
       "      <td>0.0</td>\n",
       "      <td>0.0</td>\n",
       "    </tr>\n",
       "    <tr>\n",
       "      <th>12</th>\n",
       "      <td>0.0</td>\n",
       "      <td>0.0</td>\n",
       "      <td>0.0</td>\n",
       "      <td>0.0</td>\n",
       "      <td>1.0</td>\n",
       "    </tr>\n",
       "    <tr>\n",
       "      <th>23</th>\n",
       "      <td>0.0</td>\n",
       "      <td>0.0</td>\n",
       "      <td>0.0</td>\n",
       "      <td>0.0</td>\n",
       "      <td>1.0</td>\n",
       "    </tr>\n",
       "    <tr>\n",
       "      <th>35</th>\n",
       "      <td>0.0</td>\n",
       "      <td>0.0</td>\n",
       "      <td>0.0</td>\n",
       "      <td>0.0</td>\n",
       "      <td>1.0</td>\n",
       "    </tr>\n",
       "  </tbody>\n",
       "</table>\n",
       "</div>"
      ],
      "text/plain": [
       "            sentiment_0  sentiment_1  sentiment_2  sentiment_3  sentiment_4\n",
       "comment_id                                                                 \n",
       "3                   0.0          0.0          2.0          1.0          0.0\n",
       "5                   0.0          0.0          3.0          0.0          0.0\n",
       "12                  0.0          0.0          0.0          0.0          1.0\n",
       "23                  0.0          0.0          0.0          0.0          1.0\n",
       "35                  0.0          0.0          0.0          0.0          1.0"
      ]
     },
     "execution_count": 538,
     "metadata": {},
     "output_type": "execute_result"
    }
   ],
   "source": [
    "df_sentiment_black_labeler_target.head(5)\n"
   ]
  },
  {
   "cell_type": "code",
   "execution_count": 458,
   "id": "44adf9e7-3efe-439a-837b-40347c9ed9ab",
   "metadata": {},
   "outputs": [],
   "source": [
    "#turning comment_id into index\n",
    "\n",
    "df_white_labeler_black_target.set_index('comment_id', inplace=True)"
   ]
  },
  {
   "cell_type": "code",
   "execution_count": 459,
   "id": "7c93e9ff-c589-4c82-b1ae-26e989d8dc97",
   "metadata": {},
   "outputs": [],
   "source": [
    "#going to turn the df into dummies, but only for sentiment\n",
    "\n",
    "df_sentiment_white_labeler_black_target_dummies = pd.get_dummies(df_white_labeler_black_target['sentiment']).rename(columns={0:'sentiment_0', 1:'sentiment_1', 2:'sentiment_2', 3:'sentiment_3', 4:'sentiment_4'})\n",
    "\n",
    "\n"
   ]
  },
  {
   "cell_type": "code",
   "execution_count": 460,
   "id": "f5fd7a57-f96d-4fd3-82d0-137bb39bfb65",
   "metadata": {},
   "outputs": [
    {
     "data": {
      "text/html": [
       "<div>\n",
       "<style scoped>\n",
       "    .dataframe tbody tr th:only-of-type {\n",
       "        vertical-align: middle;\n",
       "    }\n",
       "\n",
       "    .dataframe tbody tr th {\n",
       "        vertical-align: top;\n",
       "    }\n",
       "\n",
       "    .dataframe thead th {\n",
       "        text-align: right;\n",
       "    }\n",
       "</style>\n",
       "<table border=\"1\" class=\"dataframe\">\n",
       "  <thead>\n",
       "    <tr style=\"text-align: right;\">\n",
       "      <th></th>\n",
       "      <th>sentiment_0</th>\n",
       "      <th>sentiment_1</th>\n",
       "      <th>sentiment_2</th>\n",
       "      <th>sentiment_3</th>\n",
       "      <th>sentiment_4</th>\n",
       "    </tr>\n",
       "    <tr>\n",
       "      <th>comment_id</th>\n",
       "      <th></th>\n",
       "      <th></th>\n",
       "      <th></th>\n",
       "      <th></th>\n",
       "      <th></th>\n",
       "    </tr>\n",
       "  </thead>\n",
       "  <tbody>\n",
       "    <tr>\n",
       "      <th>28228</th>\n",
       "      <td>0</td>\n",
       "      <td>0</td>\n",
       "      <td>1</td>\n",
       "      <td>0</td>\n",
       "      <td>0</td>\n",
       "    </tr>\n",
       "    <tr>\n",
       "      <th>24678</th>\n",
       "      <td>0</td>\n",
       "      <td>0</td>\n",
       "      <td>1</td>\n",
       "      <td>0</td>\n",
       "      <td>0</td>\n",
       "    </tr>\n",
       "    <tr>\n",
       "      <th>17084</th>\n",
       "      <td>0</td>\n",
       "      <td>1</td>\n",
       "      <td>0</td>\n",
       "      <td>0</td>\n",
       "      <td>0</td>\n",
       "    </tr>\n",
       "    <tr>\n",
       "      <th>12920</th>\n",
       "      <td>0</td>\n",
       "      <td>0</td>\n",
       "      <td>0</td>\n",
       "      <td>0</td>\n",
       "      <td>1</td>\n",
       "    </tr>\n",
       "    <tr>\n",
       "      <th>34343</th>\n",
       "      <td>0</td>\n",
       "      <td>0</td>\n",
       "      <td>0</td>\n",
       "      <td>0</td>\n",
       "      <td>1</td>\n",
       "    </tr>\n",
       "    <tr>\n",
       "      <th>...</th>\n",
       "      <td>...</td>\n",
       "      <td>...</td>\n",
       "      <td>...</td>\n",
       "      <td>...</td>\n",
       "      <td>...</td>\n",
       "    </tr>\n",
       "    <tr>\n",
       "      <th>20066</th>\n",
       "      <td>1</td>\n",
       "      <td>0</td>\n",
       "      <td>0</td>\n",
       "      <td>0</td>\n",
       "      <td>0</td>\n",
       "    </tr>\n",
       "    <tr>\n",
       "      <th>20066</th>\n",
       "      <td>0</td>\n",
       "      <td>1</td>\n",
       "      <td>0</td>\n",
       "      <td>0</td>\n",
       "      <td>0</td>\n",
       "    </tr>\n",
       "    <tr>\n",
       "      <th>20062</th>\n",
       "      <td>1</td>\n",
       "      <td>0</td>\n",
       "      <td>0</td>\n",
       "      <td>0</td>\n",
       "      <td>0</td>\n",
       "    </tr>\n",
       "    <tr>\n",
       "      <th>20066</th>\n",
       "      <td>1</td>\n",
       "      <td>0</td>\n",
       "      <td>0</td>\n",
       "      <td>0</td>\n",
       "      <td>0</td>\n",
       "    </tr>\n",
       "    <tr>\n",
       "      <th>20062</th>\n",
       "      <td>1</td>\n",
       "      <td>0</td>\n",
       "      <td>0</td>\n",
       "      <td>0</td>\n",
       "      <td>0</td>\n",
       "    </tr>\n",
       "  </tbody>\n",
       "</table>\n",
       "<p>2292 rows × 5 columns</p>\n",
       "</div>"
      ],
      "text/plain": [
       "            sentiment_0  sentiment_1  sentiment_2  sentiment_3  sentiment_4\n",
       "comment_id                                                                 \n",
       "28228                 0            0            1            0            0\n",
       "24678                 0            0            1            0            0\n",
       "17084                 0            1            0            0            0\n",
       "12920                 0            0            0            0            1\n",
       "34343                 0            0            0            0            1\n",
       "...                 ...          ...          ...          ...          ...\n",
       "20066                 1            0            0            0            0\n",
       "20066                 0            1            0            0            0\n",
       "20062                 1            0            0            0            0\n",
       "20066                 1            0            0            0            0\n",
       "20062                 1            0            0            0            0\n",
       "\n",
       "[2292 rows x 5 columns]"
      ]
     },
     "execution_count": 460,
     "metadata": {},
     "output_type": "execute_result"
    }
   ],
   "source": [
    "df_sentiment_white_labeler_black_target_dummies"
   ]
  },
  {
   "cell_type": "code",
   "execution_count": null,
   "id": "19c18c39-5aea-4e9a-b9af-06d137062902",
   "metadata": {},
   "outputs": [],
   "source": [
    "df_sentiment_white_labeler_black_target = df_sentiment_white_labeler_black_target.groupby(df_sentiment_white_labeler_black_target.index).sum()"
   ]
  },
  {
   "cell_type": "code",
   "execution_count": 454,
   "id": "5bd67e52-2844-44cc-82f3-e53ae16450a7",
   "metadata": {},
   "outputs": [
    {
     "data": {
      "text/plain": [
       "2292"
      ]
     },
     "execution_count": 454,
     "metadata": {},
     "output_type": "execute_result"
    }
   ],
   "source": [
    "len(df_sentiment_white_labeler_black_target)"
   ]
  },
  {
   "cell_type": "code",
   "execution_count": 436,
   "id": "806d469a-38a7-4df0-814d-3b0d768581b7",
   "metadata": {},
   "outputs": [
    {
     "data": {
      "text/html": [
       "<div>\n",
       "<style scoped>\n",
       "    .dataframe tbody tr th:only-of-type {\n",
       "        vertical-align: middle;\n",
       "    }\n",
       "\n",
       "    .dataframe tbody tr th {\n",
       "        vertical-align: top;\n",
       "    }\n",
       "\n",
       "    .dataframe thead th {\n",
       "        text-align: right;\n",
       "    }\n",
       "</style>\n",
       "<table border=\"1\" class=\"dataframe\">\n",
       "  <thead>\n",
       "    <tr style=\"text-align: right;\">\n",
       "      <th></th>\n",
       "      <th>sentiment_0</th>\n",
       "      <th>sentiment_1</th>\n",
       "      <th>sentiment_2</th>\n",
       "      <th>sentiment_3</th>\n",
       "      <th>sentiment_4</th>\n",
       "    </tr>\n",
       "  </thead>\n",
       "  <tbody>\n",
       "    <tr>\n",
       "      <th>210</th>\n",
       "      <td>0</td>\n",
       "      <td>0</td>\n",
       "      <td>1</td>\n",
       "      <td>0</td>\n",
       "      <td>0</td>\n",
       "    </tr>\n",
       "    <tr>\n",
       "      <th>260</th>\n",
       "      <td>0</td>\n",
       "      <td>0</td>\n",
       "      <td>1</td>\n",
       "      <td>0</td>\n",
       "      <td>0</td>\n",
       "    </tr>\n",
       "    <tr>\n",
       "      <th>799</th>\n",
       "      <td>0</td>\n",
       "      <td>1</td>\n",
       "      <td>0</td>\n",
       "      <td>0</td>\n",
       "      <td>0</td>\n",
       "    </tr>\n",
       "    <tr>\n",
       "      <th>846</th>\n",
       "      <td>0</td>\n",
       "      <td>0</td>\n",
       "      <td>0</td>\n",
       "      <td>0</td>\n",
       "      <td>1</td>\n",
       "    </tr>\n",
       "    <tr>\n",
       "      <th>1084</th>\n",
       "      <td>0</td>\n",
       "      <td>0</td>\n",
       "      <td>0</td>\n",
       "      <td>0</td>\n",
       "      <td>1</td>\n",
       "    </tr>\n",
       "    <tr>\n",
       "      <th>...</th>\n",
       "      <td>...</td>\n",
       "      <td>...</td>\n",
       "      <td>...</td>\n",
       "      <td>...</td>\n",
       "      <td>...</td>\n",
       "    </tr>\n",
       "    <tr>\n",
       "      <th>134342</th>\n",
       "      <td>1</td>\n",
       "      <td>0</td>\n",
       "      <td>0</td>\n",
       "      <td>0</td>\n",
       "      <td>0</td>\n",
       "    </tr>\n",
       "    <tr>\n",
       "      <th>134407</th>\n",
       "      <td>0</td>\n",
       "      <td>1</td>\n",
       "      <td>0</td>\n",
       "      <td>0</td>\n",
       "      <td>0</td>\n",
       "    </tr>\n",
       "    <tr>\n",
       "      <th>134481</th>\n",
       "      <td>1</td>\n",
       "      <td>0</td>\n",
       "      <td>0</td>\n",
       "      <td>0</td>\n",
       "      <td>0</td>\n",
       "    </tr>\n",
       "    <tr>\n",
       "      <th>135226</th>\n",
       "      <td>1</td>\n",
       "      <td>0</td>\n",
       "      <td>0</td>\n",
       "      <td>0</td>\n",
       "      <td>0</td>\n",
       "    </tr>\n",
       "    <tr>\n",
       "      <th>135381</th>\n",
       "      <td>1</td>\n",
       "      <td>0</td>\n",
       "      <td>0</td>\n",
       "      <td>0</td>\n",
       "      <td>0</td>\n",
       "    </tr>\n",
       "  </tbody>\n",
       "</table>\n",
       "<p>2292 rows × 5 columns</p>\n",
       "</div>"
      ],
      "text/plain": [
       "        sentiment_0  sentiment_1  sentiment_2  sentiment_3  sentiment_4\n",
       "210               0            0            1            0            0\n",
       "260               0            0            1            0            0\n",
       "799               0            1            0            0            0\n",
       "846               0            0            0            0            1\n",
       "1084              0            0            0            0            1\n",
       "...             ...          ...          ...          ...          ...\n",
       "134342            1            0            0            0            0\n",
       "134407            0            1            0            0            0\n",
       "134481            1            0            0            0            0\n",
       "135226            1            0            0            0            0\n",
       "135381            1            0            0            0            0\n",
       "\n",
       "[2292 rows x 5 columns]"
      ]
     },
     "execution_count": 436,
     "metadata": {},
     "output_type": "execute_result"
    }
   ],
   "source": [
    "df_sentiment_white_labeler_black_target\n",
    "#something's going on with the data pre-processing here "
   ]
  },
  {
   "cell_type": "code",
   "execution_count": 448,
   "id": "83acbad5-3da8-469a-bd36-441b05a5ade5",
   "metadata": {},
   "outputs": [
    {
     "data": {
      "text/plain": [
       "723"
      ]
     },
     "execution_count": 448,
     "metadata": {},
     "output_type": "execute_result"
    }
   ],
   "source": []
  },
  {
   "cell_type": "code",
   "execution_count": 453,
   "id": "c542da94-b485-4e4b-bfeb-71a6bd60f599",
   "metadata": {},
   "outputs": [
    {
     "data": {
      "text/plain": [
       "2292"
      ]
     },
     "execution_count": 453,
     "metadata": {},
     "output_type": "execute_result"
    }
   ],
   "source": [
    "\n",
    "df_sentiment_white_labeler_black_target_dummies = pd.get_dummies(df_white_labeler_black_target['sentiment']).rename(columns={0:'sentiment_0', 1:'sentiment_1', 2:'sentiment_2', 3:'sentiment_3', 4:'sentiment_4'})\n",
    "len(df_sentiment_white_labeler_black_target_dummies)"
   ]
  },
  {
   "cell_type": "code",
   "execution_count": 541,
   "id": "cd41af32-8b10-4ecc-96c3-aea588560a7c",
   "metadata": {},
   "outputs": [],
   "source": [
    "df_sentiment_wl_bt_array = df_sentiment_white_labeler_black_target.to_numpy()"
   ]
  },
  {
   "cell_type": "code",
   "execution_count": 539,
   "id": "f1828c46-c02b-4eed-a209-0843a03fa10a",
   "metadata": {},
   "outputs": [],
   "source": [
    "df_sentiment_bl_bt_array = df_sentiment_black_labeler_target.to_numpy()"
   ]
  },
  {
   "cell_type": "code",
   "execution_count": 542,
   "id": "17c5be3c-cb71-474e-b0ad-5e146de153ef",
   "metadata": {},
   "outputs": [
    {
     "data": {
      "text/plain": [
       "0.24875370714045908"
      ]
     },
     "execution_count": 542,
     "metadata": {},
     "output_type": "execute_result"
    }
   ],
   "source": [
    "krippendorff.alpha(df_sentiment_wl_bt_array)"
   ]
  },
  {
   "cell_type": "code",
   "execution_count": 440,
   "id": "bd95091d-b241-4d9b-adf1-888de99fe685",
   "metadata": {},
   "outputs": [
    {
     "data": {
      "text/plain": [
       "array([[0, 0, 1, 0, 0],\n",
       "       [0, 0, 1, 0, 0],\n",
       "       [0, 1, 0, 0, 0],\n",
       "       ...,\n",
       "       [1, 0, 0, 0, 0],\n",
       "       [1, 0, 0, 0, 0],\n",
       "       [1, 0, 0, 0, 0]], dtype=uint8)"
      ]
     },
     "execution_count": 440,
     "metadata": {},
     "output_type": "execute_result"
    }
   ],
   "source": [
    "df_sentiment_wl_bt_array"
   ]
  },
  {
   "cell_type": "code",
   "execution_count": 2,
   "id": "fa1c5f88-b597-4645-9dfd-71efdaa5ce20",
   "metadata": {},
   "outputs": [],
   "source": [
    "#fleiss_kappa(df_sentiment_wl_bt_array)"
   ]
  },
  {
   "cell_type": "code",
   "execution_count": 540,
   "id": "8cfbd0b1-6c03-48cb-a13d-702d997d0ca9",
   "metadata": {},
   "outputs": [
    {
     "data": {
      "text/plain": [
       "0.0035967523906932364"
      ]
     },
     "execution_count": 540,
     "metadata": {},
     "output_type": "execute_result"
    }
   ],
   "source": [
    "krippendorff.alpha(df_sentiment_bl_bt_array)\n",
    "#for krippendorff alpha, don't need one hot encoding\n",
    "#input is number of raters by the unit count "
   ]
  },
  {
   "cell_type": "code",
   "execution_count": 478,
   "id": "a148900d-14f3-4641-a8bd-21151bd1e5a9",
   "metadata": {},
   "outputs": [],
   "source": [
    "# fleiss_kappa(df_sentiment_bl_bt_array)"
   ]
  },
  {
   "cell_type": "code",
   "execution_count": 444,
   "id": "975201cf-3e14-4c9f-9897-68322d97e0d4",
   "metadata": {},
   "outputs": [
    {
     "data": {
      "text/plain": [
       "3.0"
      ]
     },
     "execution_count": 444,
     "metadata": {},
     "output_type": "execute_result"
    }
   ],
   "source": [
    "df_sentiment_bl_bt_array.shape\n",
    "n_annotators = float(np.sum(df_sentiment_bl_bt_array[0, :]))\n",
    "n_annotators"
   ]
  },
  {
   "cell_type": "code",
   "execution_count": null,
   "id": "6c67223f-0ee0-4ac8-88e0-9cbc15bfd39f",
   "metadata": {},
   "outputs": [],
   "source": [
    "#i think it's getting the number of annotators wrong on both accounts"
   ]
  },
  {
   "cell_type": "code",
   "execution_count": 445,
   "id": "84bc02df-b992-42a4-84e6-3101ce0815cd",
   "metadata": {},
   "outputs": [
    {
     "data": {
      "text/plain": [
       "1.0"
      ]
     },
     "execution_count": 445,
     "metadata": {},
     "output_type": "execute_result"
    }
   ],
   "source": [
    "df_sentiment_wl_bt_array.shape\n",
    "n_annotators = float(np.sum(df_sentiment_wl_bt_array[0, :]))\n",
    "n_annotators"
   ]
  },
  {
   "cell_type": "code",
   "execution_count": null,
   "id": "3b84f4d0-ba0b-4134-8a4c-70c2e82de270",
   "metadata": {},
   "outputs": [],
   "source": [
    "#if it's calculating the number of annotators, and not every annotator is required to rate every tiem, is it doing it correctly here? "
   ]
  },
  {
   "cell_type": "code",
   "execution_count": null,
   "id": "ed4ab0ea-5ca4-44d3-ae84-97e906f70b26",
   "metadata": {},
   "outputs": [],
   "source": [
    "#Tests of Significance\n",
    "#Statistical packages can calculate a standard score (Z-score) for Cohen's kappa or Fleiss's Kappa, \n",
    "#which can be converted into a P-value. \n",
    "#However, even when the P value reaches the threshold of statistical significance \n",
    "#(typically less than 0.05), it only indicates that the agreement between raters \n",
    "#is significantly better than would be expected by chance. \n",
    "#The p value does not tell you, by itself, whether the agreement is good enough \n",
    "#to have high predictive value."
   ]
  },
  {
   "cell_type": "code",
   "execution_count": null,
   "id": "03d188c1-98b6-4a56-9cb3-d225a3d2f309",
   "metadata": {},
   "outputs": [],
   "source": [
    "pip install saspy\n"
   ]
  },
  {
   "cell_type": "code",
   "execution_count": null,
   "id": "1ee5c1bb-5cd1-4ea5-9777-f11d1790b08c",
   "metadata": {},
   "outputs": [],
   "source": [
    "#reading sas code in python\n",
    "#https://communities.sas.com/t5/Developers/Getting-SAS-script-to-run-run-from-Python-using-SASPy/td-p/600076"
   ]
  },
  {
   "cell_type": "markdown",
   "id": "ef9a7bac-d04d-46e8-a236-e66f9aac947a",
   "metadata": {},
   "source": [
    "## Extra"
   ]
  },
  {
   "cell_type": "code",
   "execution_count": 356,
   "id": "815b346c-bb64-43f6-a0a3-d60edb15d00d",
   "metadata": {},
   "outputs": [],
   "source": [
    "#df_fleiss_sentiment.index = comment_id_sentiment\n"
   ]
  },
  {
   "cell_type": "code",
   "execution_count": 348,
   "id": "6c9ee1fe-efe2-47a0-9f9b-5be09365fcc8",
   "metadata": {},
   "outputs": [],
   "source": [
    "#add comment id title to index"
   ]
  },
  {
   "cell_type": "code",
   "execution_count": 322,
   "id": "ad8720f9-bbd8-454c-bd6c-601988dffb0a",
   "metadata": {},
   "outputs": [],
   "source": [
    "# for item in labelers_per_comment: \n",
    "#     df_fleiss_sentiment = df_fleiss_sentiment.append(pd.Series(item, df_fleiss_sentiment.columns), ignore_index=True)"
   ]
  },
  {
   "cell_type": "code",
   "execution_count": 304,
   "id": "12962cd9-47fe-4eb2-8427-c1259ad0929e",
   "metadata": {},
   "outputs": [
    {
     "data": {
      "text/html": [
       "<div>\n",
       "<style scoped>\n",
       "    .dataframe tbody tr th:only-of-type {\n",
       "        vertical-align: middle;\n",
       "    }\n",
       "\n",
       "    .dataframe tbody tr th {\n",
       "        vertical-align: top;\n",
       "    }\n",
       "\n",
       "    .dataframe thead th {\n",
       "        text-align: right;\n",
       "    }\n",
       "</style>\n",
       "<table border=\"1\" class=\"dataframe\">\n",
       "  <thead>\n",
       "    <tr style=\"text-align: right;\">\n",
       "      <th></th>\n",
       "      <th>sentiment_0</th>\n",
       "      <th>sentiment_1</th>\n",
       "      <th>sentiment_2</th>\n",
       "      <th>sentiment_3</th>\n",
       "      <th>sentiment_4</th>\n",
       "    </tr>\n",
       "  </thead>\n",
       "  <tbody>\n",
       "    <tr>\n",
       "      <th>0</th>\n",
       "      <td>0</td>\n",
       "      <td>0</td>\n",
       "      <td>0</td>\n",
       "      <td>0</td>\n",
       "      <td>3</td>\n",
       "    </tr>\n",
       "  </tbody>\n",
       "</table>\n",
       "</div>"
      ],
      "text/plain": [
       "  sentiment_0 sentiment_1 sentiment_2 sentiment_3 sentiment_4\n",
       "0           0           0           0           0           3"
      ]
     },
     "execution_count": 304,
     "metadata": {},
     "output_type": "execute_result"
    }
   ],
   "source": [
    "df_fleiss_sentiment"
   ]
  },
  {
   "cell_type": "code",
   "execution_count": 233,
   "id": "7cddfd26-166a-4a52-8e4a-2fd2c665897c",
   "metadata": {},
   "outputs": [
    {
     "data": {
      "text/html": [
       "<div>\n",
       "<style scoped>\n",
       "    .dataframe tbody tr th:only-of-type {\n",
       "        vertical-align: middle;\n",
       "    }\n",
       "\n",
       "    .dataframe tbody tr th {\n",
       "        vertical-align: top;\n",
       "    }\n",
       "\n",
       "    .dataframe thead th {\n",
       "        text-align: right;\n",
       "    }\n",
       "</style>\n",
       "<table border=\"1\" class=\"dataframe\">\n",
       "  <thead>\n",
       "    <tr style=\"text-align: right;\">\n",
       "      <th></th>\n",
       "      <th>comment_id</th>\n",
       "      <th>column_score</th>\n",
       "      <th>num_labelers</th>\n",
       "    </tr>\n",
       "  </thead>\n",
       "  <tbody>\n",
       "    <tr>\n",
       "      <th>0</th>\n",
       "      <td>47777</td>\n",
       "      <td>sentiment_0</td>\n",
       "      <td>1</td>\n",
       "    </tr>\n",
       "    <tr>\n",
       "      <th>1</th>\n",
       "      <td>47777</td>\n",
       "      <td>sentiment_1</td>\n",
       "      <td>4</td>\n",
       "    </tr>\n",
       "    <tr>\n",
       "      <th>2</th>\n",
       "      <td>47777</td>\n",
       "      <td>sentiment_2</td>\n",
       "      <td>0</td>\n",
       "    </tr>\n",
       "    <tr>\n",
       "      <th>3</th>\n",
       "      <td>47777</td>\n",
       "      <td>sentiment_3</td>\n",
       "      <td>0</td>\n",
       "    </tr>\n",
       "    <tr>\n",
       "      <th>4</th>\n",
       "      <td>47777</td>\n",
       "      <td>sentiment_4</td>\n",
       "      <td>0</td>\n",
       "    </tr>\n",
       "    <tr>\n",
       "      <th>...</th>\n",
       "      <td>...</td>\n",
       "      <td>...</td>\n",
       "      <td>...</td>\n",
       "    </tr>\n",
       "    <tr>\n",
       "      <th>197820</th>\n",
       "      <td>37080</td>\n",
       "      <td>sentiment_0</td>\n",
       "      <td>0</td>\n",
       "    </tr>\n",
       "    <tr>\n",
       "      <th>197821</th>\n",
       "      <td>37080</td>\n",
       "      <td>sentiment_1</td>\n",
       "      <td>1</td>\n",
       "    </tr>\n",
       "    <tr>\n",
       "      <th>197822</th>\n",
       "      <td>37080</td>\n",
       "      <td>sentiment_2</td>\n",
       "      <td>0</td>\n",
       "    </tr>\n",
       "    <tr>\n",
       "      <th>197823</th>\n",
       "      <td>37080</td>\n",
       "      <td>sentiment_3</td>\n",
       "      <td>0</td>\n",
       "    </tr>\n",
       "    <tr>\n",
       "      <th>197824</th>\n",
       "      <td>37080</td>\n",
       "      <td>sentiment_4</td>\n",
       "      <td>0</td>\n",
       "    </tr>\n",
       "  </tbody>\n",
       "</table>\n",
       "<p>197825 rows × 3 columns</p>\n",
       "</div>"
      ],
      "text/plain": [
       "        comment_id column_score  num_labelers\n",
       "0            47777  sentiment_0             1\n",
       "1            47777  sentiment_1             4\n",
       "2            47777  sentiment_2             0\n",
       "3            47777  sentiment_3             0\n",
       "4            47777  sentiment_4             0\n",
       "...            ...          ...           ...\n",
       "197820       37080  sentiment_0             0\n",
       "197821       37080  sentiment_1             1\n",
       "197822       37080  sentiment_2             0\n",
       "197823       37080  sentiment_3             0\n",
       "197824       37080  sentiment_4             0\n",
       "\n",
       "[197825 rows x 3 columns]"
      ]
     },
     "execution_count": 233,
     "metadata": {},
     "output_type": "execute_result"
    }
   ],
   "source": [
    "column_sentiment = ['sentiment_0', 'sentiment_1', 'sentiment_2', 'sentiment_3', 'sentiment_4']\n",
    "df_sentiment = df[df['column_score'].isin(column_sentiment)]\n",
    "df_sentiment"
   ]
  },
  {
   "cell_type": "code",
   "execution_count": null,
   "id": "68b3035b-10f6-4261-b597-63e7e5a052af",
   "metadata": {},
   "outputs": [],
   "source": []
  },
  {
   "cell_type": "code",
   "execution_count": 203,
   "id": "fc0d6050-d67b-4adf-90fb-3653fc5faa4c",
   "metadata": {},
   "outputs": [],
   "source": [
    "# for idx in range(len(unique_comment_ids)):\n",
    "#     df[df['comment_id'] == idx]"
   ]
  },
  {
   "cell_type": "code",
   "execution_count": 176,
   "id": "fbac3216-f12b-4da8-8377-81c14ba9a277",
   "metadata": {},
   "outputs": [],
   "source": [
    "d = sorted(ultra_res, key=operator.itemgetter('comment_id'))\n",
    "\n",
    "outputList = []\n",
    "\n",
    "for i, g in itertools.groupby(d, key=operator.itemgetter('comment_id')):\n",
    "    outputList.append(list(g))"
   ]
  },
  {
   "cell_type": "code",
   "execution_count": 196,
   "id": "edc60222-d162-4770-b5e8-41c8af5bab4c",
   "metadata": {},
   "outputs": [
    {
     "data": {
      "text/plain": [
       "[{'comment_id': 1, 'column_score': 'sentiment_0', 'num_labelers': 0},\n",
       " {'comment_id': 1, 'column_score': 'sentiment_1', 'num_labelers': 0},\n",
       " {'comment_id': 1, 'column_score': 'sentiment_2', 'num_labelers': 0},\n",
       " {'comment_id': 1, 'column_score': 'sentiment_3', 'num_labelers': 1},\n",
       " {'comment_id': 1, 'column_score': 'sentiment_4', 'num_labelers': 3},\n",
       " {'comment_id': 1, 'column_score': 'respect_0', 'num_labelers': 0},\n",
       " {'comment_id': 1, 'column_score': 'respect_1', 'num_labelers': 0},\n",
       " {'comment_id': 1, 'column_score': 'respect_2', 'num_labelers': 0},\n",
       " {'comment_id': 1, 'column_score': 'respect_3', 'num_labelers': 2},\n",
       " {'comment_id': 1, 'column_score': 'respect_4', 'num_labelers': 2},\n",
       " {'comment_id': 1, 'column_score': 'insult_0', 'num_labelers': 0},\n",
       " {'comment_id': 1, 'column_score': 'insult_1', 'num_labelers': 0},\n",
       " {'comment_id': 1, 'column_score': 'insult_2', 'num_labelers': 3},\n",
       " {'comment_id': 1, 'column_score': 'insult_3', 'num_labelers': 1},\n",
       " {'comment_id': 1, 'column_score': 'humiliate_0', 'num_labelers': 1},\n",
       " {'comment_id': 1, 'column_score': 'humiliate_1', 'num_labelers': 3},\n",
       " {'comment_id': 1, 'column_score': 'humiliate_2', 'num_labelers': 0},\n",
       " {'comment_id': 1, 'column_score': 'status_0', 'num_labelers': 0},\n",
       " {'comment_id': 1, 'column_score': 'status_1', 'num_labelers': 4},\n",
       " {'comment_id': 1, 'column_score': 'dehumanize_0', 'num_labelers': 1},\n",
       " {'comment_id': 1, 'column_score': 'dehumanize_1', 'num_labelers': 3},\n",
       " {'comment_id': 1, 'column_score': 'violence_phys_0', 'num_labelers': 4},\n",
       " {'comment_id': 1, 'column_score': 'violence_phys_1', 'num_labelers': 0},\n",
       " {'comment_id': 1, 'column_score': 'genocide_0', 'num_labelers': 4},\n",
       " {'comment_id': 1, 'column_score': 'genocide_1', 'num_labelers': 0},\n",
       " {'comment_id': 1, 'column_score': 'attack_defend_0', 'num_labelers': 0},\n",
       " {'comment_id': 1, 'column_score': 'attack_defend_1', 'num_labelers': 0},\n",
       " {'comment_id': 1, 'column_score': 'attack_defend_2', 'num_labelers': 3},\n",
       " {'comment_id': 1, 'column_score': 'attack_defend_3', 'num_labelers': 1},\n",
       " {'comment_id': 1, 'column_score': 'hatespeech_0', 'num_labelers': 4},\n",
       " {'comment_id': 1, 'column_score': 'hatespeech_1', 'num_labelers': 0}]"
      ]
     },
     "execution_count": 196,
     "metadata": {},
     "output_type": "execute_result"
    }
   ],
   "source": [
    "outputList[0]"
   ]
  },
  {
   "cell_type": "code",
   "execution_count": 185,
   "id": "460db36c-2296-49ef-bdfd-34cacda7cb24",
   "metadata": {},
   "outputs": [],
   "source": [
    "\n",
    "\n",
    "for idx in range(len(unique_comment_ids)):\n",
    "    outputList[idx]\n",
    "    \n",
    "    "
   ]
  },
  {
   "cell_type": "code",
   "execution_count": 192,
   "id": "ce28f58d-0658-402b-90da-82cd95debd27",
   "metadata": {},
   "outputs": [
    {
     "data": {
      "text/plain": [
       "{'comment_id': 47777, 'column_score': 'sentiment_0', 'num_labelers': 1}"
      ]
     },
     "execution_count": 192,
     "metadata": {},
     "output_type": "execute_result"
    }
   ],
   "source": [
    "\n",
    "keyfunc = lambda d: next(iter(d.values()))\n",
    "sorted(ultra_res, key=keyfunc)\n",
    "#{k: [x for d in g for x in d] for k, g in itertools.groupby(sorted(outputList[idx], key=keyfunc), key=keyfunc)}\n",
    "ultra_res[0]\n"
   ]
  },
  {
   "cell_type": "code",
   "execution_count": 180,
   "id": "e4e832b2-b008-4a53-81ef-a83d988e12bb",
   "metadata": {},
   "outputs": [
    {
     "data": {
      "text/plain": [
       "[{'comment_id': 1, 'column_score': 'sentiment_0', 'num_labelers': 0},\n",
       " {'comment_id': 1, 'column_score': 'sentiment_1', 'num_labelers': 0},\n",
       " {'comment_id': 1, 'column_score': 'sentiment_2', 'num_labelers': 0},\n",
       " {'comment_id': 1, 'column_score': 'sentiment_3', 'num_labelers': 1},\n",
       " {'comment_id': 1, 'column_score': 'sentiment_4', 'num_labelers': 3},\n",
       " {'comment_id': 1, 'column_score': 'respect_0', 'num_labelers': 0},\n",
       " {'comment_id': 1, 'column_score': 'respect_1', 'num_labelers': 0},\n",
       " {'comment_id': 1, 'column_score': 'respect_2', 'num_labelers': 0},\n",
       " {'comment_id': 1, 'column_score': 'respect_3', 'num_labelers': 2},\n",
       " {'comment_id': 1, 'column_score': 'respect_4', 'num_labelers': 2},\n",
       " {'comment_id': 1, 'column_score': 'insult_0', 'num_labelers': 0},\n",
       " {'comment_id': 1, 'column_score': 'insult_1', 'num_labelers': 0},\n",
       " {'comment_id': 1, 'column_score': 'insult_2', 'num_labelers': 3},\n",
       " {'comment_id': 1, 'column_score': 'insult_3', 'num_labelers': 1},\n",
       " {'comment_id': 1, 'column_score': 'humiliate_0', 'num_labelers': 1},\n",
       " {'comment_id': 1, 'column_score': 'humiliate_1', 'num_labelers': 3},\n",
       " {'comment_id': 1, 'column_score': 'humiliate_2', 'num_labelers': 0},\n",
       " {'comment_id': 1, 'column_score': 'status_0', 'num_labelers': 0},\n",
       " {'comment_id': 1, 'column_score': 'status_1', 'num_labelers': 4},\n",
       " {'comment_id': 1, 'column_score': 'dehumanize_0', 'num_labelers': 1},\n",
       " {'comment_id': 1, 'column_score': 'dehumanize_1', 'num_labelers': 3},\n",
       " {'comment_id': 1, 'column_score': 'violence_phys_0', 'num_labelers': 4},\n",
       " {'comment_id': 1, 'column_score': 'violence_phys_1', 'num_labelers': 0},\n",
       " {'comment_id': 1, 'column_score': 'genocide_0', 'num_labelers': 4},\n",
       " {'comment_id': 1, 'column_score': 'genocide_1', 'num_labelers': 0},\n",
       " {'comment_id': 1, 'column_score': 'attack_defend_0', 'num_labelers': 0},\n",
       " {'comment_id': 1, 'column_score': 'attack_defend_1', 'num_labelers': 0},\n",
       " {'comment_id': 1, 'column_score': 'attack_defend_2', 'num_labelers': 3},\n",
       " {'comment_id': 1, 'column_score': 'attack_defend_3', 'num_labelers': 1},\n",
       " {'comment_id': 1, 'column_score': 'hatespeech_0', 'num_labelers': 4},\n",
       " {'comment_id': 1, 'column_score': 'hatespeech_1', 'num_labelers': 0}]"
      ]
     },
     "execution_count": 180,
     "metadata": {},
     "output_type": "execute_result"
    }
   ],
   "source": [
    "\n",
    "outputList[0]"
   ]
  },
  {
   "cell_type": "code",
   "execution_count": null,
   "id": "e998034a-74f2-4f1a-942e-84b36904318f",
   "metadata": {},
   "outputs": [],
   "source": [
    "# import collections \n",
    "\n",
    "# for item in range(len(res)):\n",
    "#     for value in res[item]:\n",
    "#         if value == 47777:\n",
    "# #             print('yay')\n",
    "        "
   ]
  },
  {
   "cell_type": "code",
   "execution_count": null,
   "id": "e05e2ad0-8627-4903-b9cd-5e9fcb1960a5",
   "metadata": {},
   "outputs": [],
   "source": []
  },
  {
   "cell_type": "code",
   "execution_count": 128,
   "id": "061abcfd-eb00-41ea-8584-f8fabdfb845f",
   "metadata": {},
   "outputs": [
    {
     "data": {
      "text/plain": [
       "array([ 1,  2,  3,  4,  5,  6,  7,  8, 10, 11], dtype=int32)"
      ]
     },
     "execution_count": 128,
     "metadata": {},
     "output_type": "execute_result"
    }
   ],
   "source": []
  },
  {
   "cell_type": "code",
   "execution_count": 126,
   "id": "7c04d501-94da-4ce1-9e8c-4d51e32bf53d",
   "metadata": {},
   "outputs": [
    {
     "data": {
      "text/plain": [
       "{47777: {'sentiment_0': 1}}"
      ]
     },
     "execution_count": 126,
     "metadata": {},
     "output_type": "execute_result"
    }
   ],
   "source": [
    "res[0]"
   ]
  },
  {
   "cell_type": "code",
   "execution_count": 139,
   "id": "272f732d-ab33-4311-b19d-c5cada8bbf0c",
   "metadata": {},
   "outputs": [],
   "source": [
    "import operator \n",
    "import itertools\n",
    "\n",
    "from itertools import groupby\n",
    "from operator import itemgetter"
   ]
  },
  {
   "cell_type": "code",
   "execution_count": 148,
   "id": "bf59a629-f947-43e6-8d6e-8027673b43a8",
   "metadata": {},
   "outputs": [
    {
     "data": {
      "text/plain": [
       "['47777',\n",
       " '39773',\n",
       " '47101',\n",
       " '43625',\n",
       " '12538',\n",
       " '11001',\n",
       " '13168',\n",
       " '17034',\n",
       " '40171',\n",
       " '1006']"
      ]
     },
     "execution_count": 148,
     "metadata": {},
     "output_type": "execute_result"
    }
   ],
   "source": [
    "#turn comment ids into strings\n",
    "unique_ids_str = []\n",
    "for item in unique_comment_ids:\n",
    "    unique_ids_str.append(str(item))\n",
    "unique_ids_str[0:10]"
   ]
  },
  {
   "cell_type": "code",
   "execution_count": 168,
   "id": "024758f9-251f-4f97-a0c6-9fd88fa8d446",
   "metadata": {},
   "outputs": [
    {
     "ename": "KeyError",
     "evalue": "0",
     "output_type": "error",
     "traceback": [
      "\u001b[0;31m---------------------------------------------------------------------------\u001b[0m",
      "\u001b[0;31mKeyError\u001b[0m                                  Traceback (most recent call last)",
      "\u001b[0;32m<ipython-input-168-6c1a9e4699fc>\u001b[0m in \u001b[0;36m<module>\u001b[0;34m\u001b[0m\n\u001b[1;32m      1\u001b[0m \u001b[0mres\u001b[0m\u001b[0;34m[\u001b[0m\u001b[0;36m0\u001b[0m\u001b[0;34m]\u001b[0m\u001b[0;34m\u001b[0m\u001b[0;34m\u001b[0m\u001b[0m\n\u001b[0;32m----> 2\u001b[0;31m \u001b[0mnew_res\u001b[0m\u001b[0;34m[\u001b[0m\u001b[0;36m0\u001b[0m\u001b[0;34m]\u001b[0m\u001b[0;34m\u001b[0m\u001b[0;34m\u001b[0m\u001b[0m\n\u001b[0m",
      "\u001b[0;31mKeyError\u001b[0m: 0"
     ]
    }
   ],
   "source": [
    "res[0]\n"
   ]
  },
  {
   "cell_type": "code",
   "execution_count": 167,
   "id": "a9d2614d-47c0-40ed-94bc-3d923feb50f8",
   "metadata": {},
   "outputs": [],
   "source": [
    "#turn keys in res dictionary into strings\n",
    "\n",
    "    \n",
    "        \n",
    "new_res = {str(key): value for idx in range(len(res)) for key, value in res[idx].items()}    "
   ]
  },
  {
   "cell_type": "code",
   "execution_count": 170,
   "id": "0167c575-e90b-4246-b492-566b8135f538",
   "metadata": {},
   "outputs": [
    {
     "data": {
      "text/plain": [
       "39565"
      ]
     },
     "execution_count": 170,
     "metadata": {},
     "output_type": "execute_result"
    }
   ],
   "source": [
    "len(new_res)"
   ]
  },
  {
   "cell_type": "code",
   "execution_count": 158,
   "id": "b19d310f-3ee7-475d-812c-f8c15ee8e241",
   "metadata": {},
   "outputs": [
    {
     "data": {
      "text/plain": [
       "39565"
      ]
     },
     "execution_count": 158,
     "metadata": {},
     "output_type": "execute_result"
    }
   ],
   "source": [
    "len(unique_comment_ids)"
   ]
  },
  {
   "cell_type": "code",
   "execution_count": 164,
   "id": "d1ef6ab4-baa9-4aa1-a6e2-4db7ea0feb33",
   "metadata": {},
   "outputs": [
    {
     "ename": "TypeError",
     "evalue": "string indices must be integers",
     "output_type": "error",
     "traceback": [
      "\u001b[0;31m---------------------------------------------------------------------------\u001b[0m",
      "\u001b[0;31mTypeError\u001b[0m                                 Traceback (most recent call last)",
      "\u001b[0;32m<ipython-input-164-24e1efe21d48>\u001b[0m in \u001b[0;36m<module>\u001b[0;34m\u001b[0m\n\u001b[0;32m----> 1\u001b[0;31m \u001b[0mnew_res\u001b[0m \u001b[0;34m=\u001b[0m \u001b[0msorted\u001b[0m\u001b[0;34m(\u001b[0m\u001b[0mnew_res\u001b[0m\u001b[0;34m,\u001b[0m \u001b[0mkey\u001b[0m\u001b[0;34m=\u001b[0m\u001b[0moperator\u001b[0m\u001b[0;34m.\u001b[0m\u001b[0mitemgetter\u001b[0m\u001b[0;34m(\u001b[0m\u001b[0;34m'47777'\u001b[0m\u001b[0;34m)\u001b[0m\u001b[0;34m)\u001b[0m\u001b[0;34m\u001b[0m\u001b[0;34m\u001b[0m\u001b[0m\n\u001b[0m\u001b[1;32m      2\u001b[0m \u001b[0moutputList\u001b[0m \u001b[0;34m=\u001b[0m \u001b[0;34m[\u001b[0m\u001b[0;34m]\u001b[0m\u001b[0;34m\u001b[0m\u001b[0;34m\u001b[0m\u001b[0m\n\u001b[1;32m      3\u001b[0m \u001b[0;32mfor\u001b[0m \u001b[0mkey\u001b[0m\u001b[0;34m,\u001b[0m \u001b[0mvalue\u001b[0m \u001b[0;32min\u001b[0m \u001b[0mgroupby\u001b[0m\u001b[0;34m(\u001b[0m\u001b[0mnew_res\u001b[0m\u001b[0;34m,\u001b[0m \u001b[0mkey\u001b[0m \u001b[0;34m=\u001b[0m \u001b[0mitemgetter\u001b[0m\u001b[0;34m(\u001b[0m\u001b[0;34m'47777'\u001b[0m\u001b[0;34m)\u001b[0m\u001b[0;34m)\u001b[0m\u001b[0;34m:\u001b[0m\u001b[0;34m\u001b[0m\u001b[0;34m\u001b[0m\u001b[0m\n\u001b[1;32m      4\u001b[0m     \u001b[0moutputList\u001b[0m\u001b[0;34m.\u001b[0m\u001b[0mappend\u001b[0m\u001b[0;34m(\u001b[0m\u001b[0mlist\u001b[0m\u001b[0;34m(\u001b[0m\u001b[0mg\u001b[0m\u001b[0;34m)\u001b[0m\u001b[0;34m)\u001b[0m\u001b[0;34m\u001b[0m\u001b[0;34m\u001b[0m\u001b[0m\n\u001b[1;32m      5\u001b[0m \u001b[0;34m\u001b[0m\u001b[0m\n",
      "\u001b[0;31mTypeError\u001b[0m: string indices must be integers"
     ]
    }
   ],
   "source": [
    "new_res = sorted(new_res, key=operator.itemgetter('47777'))\n",
    "outputList = []\n",
    "for key, value in groupby(new_res, key = itemgetter('47777')):\n",
    "    outputList.append(list(g))\n",
    "    "
   ]
  },
  {
   "cell_type": "code",
   "execution_count": 140,
   "id": "1c79d3ab-cf36-4c2b-b5aa-1a1138dc59b6",
   "metadata": {},
   "outputs": [
    {
     "ename": "KeyError",
     "evalue": "47777",
     "output_type": "error",
     "traceback": [
      "\u001b[0;31m---------------------------------------------------------------------------\u001b[0m",
      "\u001b[0;31mKeyError\u001b[0m                                  Traceback (most recent call last)",
      "\u001b[0;32m<ipython-input-140-36af34da2dca>\u001b[0m in \u001b[0;36m<module>\u001b[0;34m\u001b[0m\n\u001b[1;32m      2\u001b[0m \u001b[0;34m\u001b[0m\u001b[0m\n\u001b[1;32m      3\u001b[0m \u001b[0;32mfor\u001b[0m \u001b[0mi\u001b[0m\u001b[0;34m,\u001b[0m \u001b[0mg\u001b[0m \u001b[0;32min\u001b[0m \u001b[0mitertools\u001b[0m\u001b[0;34m.\u001b[0m\u001b[0mgroupby\u001b[0m\u001b[0;34m(\u001b[0m\u001b[0mres\u001b[0m\u001b[0;34m,\u001b[0m \u001b[0mkey\u001b[0m\u001b[0;34m=\u001b[0m\u001b[0moperator\u001b[0m\u001b[0;34m.\u001b[0m\u001b[0mitemgetter\u001b[0m\u001b[0;34m(\u001b[0m\u001b[0;36m47777\u001b[0m\u001b[0;34m)\u001b[0m\u001b[0;34m)\u001b[0m\u001b[0;34m:\u001b[0m\u001b[0;34m\u001b[0m\u001b[0;34m\u001b[0m\u001b[0m\n\u001b[0;32m----> 4\u001b[0;31m     \u001b[0moutputList\u001b[0m\u001b[0;34m.\u001b[0m\u001b[0mappend\u001b[0m\u001b[0;34m(\u001b[0m\u001b[0mlist\u001b[0m\u001b[0;34m(\u001b[0m\u001b[0mg\u001b[0m\u001b[0;34m)\u001b[0m\u001b[0;34m)\u001b[0m\u001b[0;34m\u001b[0m\u001b[0;34m\u001b[0m\u001b[0m\n\u001b[0m",
      "\u001b[0;31mKeyError\u001b[0m: 47777"
     ]
    }
   ],
   "source": [
    "outputList = []\n",
    "\n",
    "for i, g in itertools.groupby(res, key=operator.itemgetter(47777)):\n",
    "    outputList.append(list(g))"
   ]
  },
  {
   "cell_type": "code",
   "execution_count": 100,
   "id": "0107b56f-ab72-45a6-8148-6b1956e185d6",
   "metadata": {},
   "outputs": [
    {
     "data": {
      "text/plain": [
       "1226515"
      ]
     },
     "execution_count": 100,
     "metadata": {},
     "output_type": "execute_result"
    }
   ],
   "source": [
    "len(res)"
   ]
  },
  {
   "cell_type": "code",
   "execution_count": null,
   "id": "a26fce95-f78e-4660-a815-92e932590cd5",
   "metadata": {},
   "outputs": [],
   "source": [
    "dict()"
   ]
  },
  {
   "cell_type": "code",
   "execution_count": null,
   "id": "229938d8-a430-4f63-be9f-5e80404984b7",
   "metadata": {},
   "outputs": [],
   "source": [
    "\n",
    "# for comment_id, column_score, number_labelers in zip(comment_id_list, column_score_list, number_labelers_list):\n",
    "#     print(column_score, number_labelers)"
   ]
  },
  {
   "cell_type": "code",
   "execution_count": 506,
   "id": "35d31bff-1f1a-4300-8acb-5190e211827f",
   "metadata": {},
   "outputs": [],
   "source": [
    "output2 = {}\n",
    "for comment_id, column_score, number_labelers in zip(comment_id_list, column_score_list, number_labelers_list):\n",
    "    output2[comment_id] = {column_score: number_labelers}"
   ]
  },
  {
   "cell_type": "code",
   "execution_count": 83,
   "id": "d6e5d464-274b-4cfb-812b-8f816070b0c3",
   "metadata": {},
   "outputs": [
    {
     "data": {
      "text/plain": [
       "column_score       hatespeech_1\n",
       "number_labelers               0\n",
       "Name: 47777, dtype: object"
      ]
     },
     "execution_count": 83,
     "metadata": {},
     "output_type": "execute_result"
    }
   ],
   "source": [
    "df_try = pd.DataFrame.from_dict(output).head(5)\n",
    "df_try[47777]"
   ]
  },
  {
   "cell_type": "code",
   "execution_count": 516,
   "id": "0575207d-8719-432b-a00b-c6610954aa56",
   "metadata": {},
   "outputs": [],
   "source": [
    "column_score_series = pd.Series(column_score_list)"
   ]
  },
  {
   "cell_type": "code",
   "execution_count": 520,
   "id": "96983607-8dd8-4f30-b669-44818eb38d2a",
   "metadata": {},
   "outputs": [
    {
     "data": {
      "text/html": [
       "<div>\n",
       "<style scoped>\n",
       "    .dataframe tbody tr th:only-of-type {\n",
       "        vertical-align: middle;\n",
       "    }\n",
       "\n",
       "    .dataframe tbody tr th {\n",
       "        vertical-align: top;\n",
       "    }\n",
       "\n",
       "    .dataframe thead th {\n",
       "        text-align: right;\n",
       "    }\n",
       "</style>\n",
       "<table border=\"1\" class=\"dataframe\">\n",
       "  <thead>\n",
       "    <tr style=\"text-align: right;\">\n",
       "      <th></th>\n",
       "      <th>column_score</th>\n",
       "    </tr>\n",
       "  </thead>\n",
       "  <tbody>\n",
       "    <tr>\n",
       "      <th>0</th>\n",
       "      <td>sentiment_0</td>\n",
       "    </tr>\n",
       "    <tr>\n",
       "      <th>1</th>\n",
       "      <td>sentiment_1</td>\n",
       "    </tr>\n",
       "    <tr>\n",
       "      <th>2</th>\n",
       "      <td>sentiment_2</td>\n",
       "    </tr>\n",
       "    <tr>\n",
       "      <th>3</th>\n",
       "      <td>sentiment_3</td>\n",
       "    </tr>\n",
       "    <tr>\n",
       "      <th>4</th>\n",
       "      <td>sentiment_4</td>\n",
       "    </tr>\n",
       "    <tr>\n",
       "      <th>...</th>\n",
       "      <td>...</td>\n",
       "    </tr>\n",
       "    <tr>\n",
       "      <th>1226510</th>\n",
       "      <td>hatespeech_1</td>\n",
       "    </tr>\n",
       "    <tr>\n",
       "      <th>1226511</th>\n",
       "      <td>hatespeech_0</td>\n",
       "    </tr>\n",
       "    <tr>\n",
       "      <th>1226512</th>\n",
       "      <td>hatespeech_1</td>\n",
       "    </tr>\n",
       "    <tr>\n",
       "      <th>1226513</th>\n",
       "      <td>hatespeech_0</td>\n",
       "    </tr>\n",
       "    <tr>\n",
       "      <th>1226514</th>\n",
       "      <td>hatespeech_1</td>\n",
       "    </tr>\n",
       "  </tbody>\n",
       "</table>\n",
       "<p>1226515 rows × 1 columns</p>\n",
       "</div>"
      ],
      "text/plain": [
       "         column_score\n",
       "0         sentiment_0\n",
       "1         sentiment_1\n",
       "2         sentiment_2\n",
       "3         sentiment_3\n",
       "4         sentiment_4\n",
       "...               ...\n",
       "1226510  hatespeech_1\n",
       "1226511  hatespeech_0\n",
       "1226512  hatespeech_1\n",
       "1226513  hatespeech_0\n",
       "1226514  hatespeech_1\n",
       "\n",
       "[1226515 rows x 1 columns]"
      ]
     },
     "execution_count": 520,
     "metadata": {},
     "output_type": "execute_result"
    }
   ],
   "source": [
    "column_score_df = column_score_series.to_frame(name='column_score')\n",
    "column_score_df"
   ]
  },
  {
   "cell_type": "code",
   "execution_count": 521,
   "id": "585b4564-aae5-4770-9c15-14314235903c",
   "metadata": {},
   "outputs": [
    {
     "data": {
      "text/plain": [
       "hatespeech_0       39565\n",
       "attack_defend_3    39565\n",
       "attack_defend_0    39565\n",
       "status_0           39565\n",
       "hatespeech_1       39565\n",
       "attack_defend_2    39565\n",
       "insult_3           39565\n",
       "sentiment_0        39565\n",
       "sentiment_2        39565\n",
       "genocide_1         39565\n",
       "respect_2          39565\n",
       "violence_phys_0    39565\n",
       "humiliate_2        39565\n",
       "insult_1           39565\n",
       "sentiment_3        39565\n",
       "dehumanize_1       39565\n",
       "attack_defend_1    39565\n",
       "insult_2           39565\n",
       "humiliate_1        39565\n",
       "humiliate_0        39565\n",
       "respect_4          39565\n",
       "genocide_0         39565\n",
       "insult_0           39565\n",
       "respect_1          39565\n",
       "violence_phys_1    39565\n",
       "status_1           39565\n",
       "respect_3          39565\n",
       "sentiment_1        39565\n",
       "dehumanize_0       39565\n",
       "sentiment_4        39565\n",
       "respect_0          39565\n",
       "Name: column_score, dtype: int64"
      ]
     },
     "execution_count": 521,
     "metadata": {},
     "output_type": "execute_result"
    }
   ],
   "source": [
    "column_score_df['column_score'].value_counts()"
   ]
  },
  {
   "cell_type": "code",
   "execution_count": null,
   "id": "7de1236b-11d1-4010-a41e-dca0864bded0",
   "metadata": {},
   "outputs": [],
   "source": []
  },
  {
   "cell_type": "code",
   "execution_count": null,
   "id": "74c46532-6912-4ad9-a297-8650f9255034",
   "metadata": {},
   "outputs": [],
   "source": []
  },
  {
   "cell_type": "code",
   "execution_count": 510,
   "id": "2e29b914-df1a-43cf-8225-2859117f8cec",
   "metadata": {},
   "outputs": [
    {
     "data": {
      "text/html": [
       "<div>\n",
       "<style scoped>\n",
       "    .dataframe tbody tr th:only-of-type {\n",
       "        vertical-align: middle;\n",
       "    }\n",
       "\n",
       "    .dataframe tbody tr th {\n",
       "        vertical-align: top;\n",
       "    }\n",
       "\n",
       "    .dataframe thead th {\n",
       "        text-align: right;\n",
       "    }\n",
       "</style>\n",
       "<table border=\"1\" class=\"dataframe\">\n",
       "  <thead>\n",
       "    <tr style=\"text-align: right;\">\n",
       "      <th></th>\n",
       "      <th>hatespeech_1</th>\n",
       "    </tr>\n",
       "  </thead>\n",
       "  <tbody>\n",
       "    <tr>\n",
       "      <th>1</th>\n",
       "      <td>0</td>\n",
       "    </tr>\n",
       "    <tr>\n",
       "      <th>2</th>\n",
       "      <td>2</td>\n",
       "    </tr>\n",
       "    <tr>\n",
       "      <th>3</th>\n",
       "      <td>2</td>\n",
       "    </tr>\n",
       "    <tr>\n",
       "      <th>4</th>\n",
       "      <td>1</td>\n",
       "    </tr>\n",
       "    <tr>\n",
       "      <th>5</th>\n",
       "      <td>0</td>\n",
       "    </tr>\n",
       "    <tr>\n",
       "      <th>...</th>\n",
       "      <td>...</td>\n",
       "    </tr>\n",
       "    <tr>\n",
       "      <th>50066</th>\n",
       "      <td>3</td>\n",
       "    </tr>\n",
       "    <tr>\n",
       "      <th>50067</th>\n",
       "      <td>1</td>\n",
       "    </tr>\n",
       "    <tr>\n",
       "      <th>50068</th>\n",
       "      <td>0</td>\n",
       "    </tr>\n",
       "    <tr>\n",
       "      <th>50069</th>\n",
       "      <td>0</td>\n",
       "    </tr>\n",
       "    <tr>\n",
       "      <th>50070</th>\n",
       "      <td>2</td>\n",
       "    </tr>\n",
       "  </tbody>\n",
       "</table>\n",
       "<p>39565 rows × 1 columns</p>\n",
       "</div>"
      ],
      "text/plain": [
       "       hatespeech_1\n",
       "1                 0\n",
       "2                 2\n",
       "3                 2\n",
       "4                 1\n",
       "5                 0\n",
       "...             ...\n",
       "50066             3\n",
       "50067             1\n",
       "50068             0\n",
       "50069             0\n",
       "50070             2\n",
       "\n",
       "[39565 rows x 1 columns]"
      ]
     },
     "execution_count": 510,
     "metadata": {},
     "output_type": "execute_result"
    }
   ],
   "source": [
    "pd.DataFrame.from_dict(output2, orient = 'index')"
   ]
  },
  {
   "cell_type": "code",
   "execution_count": 412,
   "id": "544ba341-dd65-47bb-b3d0-10c336bd11ad",
   "metadata": {},
   "outputs": [
    {
     "data": {
      "text/plain": [
       "['hatespeech_1',\n",
       " 'hatespeech_1',\n",
       " 'hatespeech_1',\n",
       " 'hatespeech_1',\n",
       " 'hatespeech_1',\n",
       " 'hatespeech_1',\n",
       " 'hatespeech_1',\n",
       " 'hatespeech_1',\n",
       " 'hatespeech_1',\n",
       " 'hatespeech_1']"
      ]
     },
     "execution_count": 412,
     "metadata": {},
     "output_type": "execute_result"
    }
   ],
   "source": [
    "temp = 'column_score'\n",
    "res = [val[temp] for key, val in output.items() if temp in val]\n",
    "res[0:10]"
   ]
  },
  {
   "cell_type": "code",
   "execution_count": 413,
   "id": "d50ed85a-e214-43be-a464-6513f71d807d",
   "metadata": {},
   "outputs": [
    {
     "data": {
      "text/plain": [
       "{47777: {'column_score': 'hatespeech_1', 'number_labelers': 0},\n",
       " 39773: {'column_score': 'hatespeech_1', 'number_labelers': 0}}"
      ]
     },
     "execution_count": 413,
     "metadata": {},
     "output_type": "execute_result"
    }
   ],
   "source": [
    "#how to get partial view of dictionary\n",
    "dict(list(output.items())[0:2])"
   ]
  },
  {
   "cell_type": "code",
   "execution_count": null,
   "id": "22ef201d-a6ff-419b-a475-8c0e1d506a7c",
   "metadata": {},
   "outputs": [],
   "source": [
    "for outerKey, innerDict in output.items():\n",
    "    for innerDictKey in innerDict.keys():"
   ]
  },
  {
   "cell_type": "code",
   "execution_count": 479,
   "id": "144b1c29-451e-4e21-a112-9e39ebfa9e03",
   "metadata": {},
   "outputs": [
    {
     "data": {
      "text/plain": [
       "[47777, 47777, 47777, 47777, 47777, 39773, 39773, 39773, 39773, 39773]"
      ]
     },
     "execution_count": 479,
     "metadata": {},
     "output_type": "execute_result"
    }
   ],
   "source": [
    "#checking to make sure things correspond\n",
    "\n",
    "comment_id_list[:10]"
   ]
  },
  {
   "cell_type": "code",
   "execution_count": 474,
   "id": "5a5d488d-9f32-43e9-9956-25b3ede2b321",
   "metadata": {},
   "outputs": [
    {
     "data": {
      "text/plain": [
       "[1, 4, 0, 0, 0, 3, 0, 0, 0, 0]"
      ]
     },
     "execution_count": 474,
     "metadata": {},
     "output_type": "execute_result"
    }
   ],
   "source": [
    "#checking to make sure things correspond\n",
    "number_labelers_list[0:10]"
   ]
  },
  {
   "cell_type": "code",
   "execution_count": 475,
   "id": "14a78f5b-ae51-40e8-9f06-67ab7cfbceb9",
   "metadata": {},
   "outputs": [
    {
     "data": {
      "text/plain": [
       "['sentiment_0',\n",
       " 'sentiment_1',\n",
       " 'sentiment_2',\n",
       " 'sentiment_3',\n",
       " 'sentiment_4',\n",
       " 'sentiment_0',\n",
       " 'sentiment_1',\n",
       " 'sentiment_2',\n",
       " 'sentiment_3',\n",
       " 'sentiment_4']"
      ]
     },
     "execution_count": 475,
     "metadata": {},
     "output_type": "execute_result"
    }
   ],
   "source": [
    "#checking to make sure things correspond\n",
    "column_score_list[0:10]"
   ]
  },
  {
   "cell_type": "code",
   "execution_count": null,
   "id": "052bc136-3bd0-4da4-b254-c25359c6f1a2",
   "metadata": {},
   "outputs": [],
   "source": [
    "\n",
    "    "
   ]
  },
  {
   "cell_type": "code",
   "execution_count": 483,
   "id": "a4663e38-7be7-464d-a28b-3d46d97c7aec",
   "metadata": {},
   "outputs": [
    {
     "data": {
      "text/html": [
       "<div>\n",
       "<style scoped>\n",
       "    .dataframe tbody tr th:only-of-type {\n",
       "        vertical-align: middle;\n",
       "    }\n",
       "\n",
       "    .dataframe tbody tr th {\n",
       "        vertical-align: top;\n",
       "    }\n",
       "\n",
       "    .dataframe thead th {\n",
       "        text-align: right;\n",
       "    }\n",
       "</style>\n",
       "<table border=\"1\" class=\"dataframe\">\n",
       "  <thead>\n",
       "    <tr style=\"text-align: right;\">\n",
       "      <th></th>\n",
       "      <th>sentiment</th>\n",
       "      <th>respect</th>\n",
       "      <th>insult</th>\n",
       "      <th>humiliate</th>\n",
       "      <th>status</th>\n",
       "      <th>dehumanize</th>\n",
       "      <th>violence_phys</th>\n",
       "      <th>genocide</th>\n",
       "      <th>attack_defend</th>\n",
       "      <th>hatespeech</th>\n",
       "      <th>...</th>\n",
       "      <th>demo_sexual_orien_2</th>\n",
       "      <th>demo_sexual_orien_3</th>\n",
       "      <th>demo_sexual_orien_4</th>\n",
       "      <th>demo_sexual_orien_5</th>\n",
       "      <th>demo_sexual_orien_4_text</th>\n",
       "      <th>demo_ideology</th>\n",
       "      <th>locationlatitude</th>\n",
       "      <th>locationlongitude</th>\n",
       "      <th>identity</th>\n",
       "      <th>hypothesis</th>\n",
       "    </tr>\n",
       "  </thead>\n",
       "  <tbody>\n",
       "    <tr>\n",
       "      <th>0</th>\n",
       "      <td>0.0</td>\n",
       "      <td>0.0</td>\n",
       "      <td>0.0</td>\n",
       "      <td>0.0</td>\n",
       "      <td>0.0</td>\n",
       "      <td>0.0</td>\n",
       "      <td>0.0</td>\n",
       "      <td>0.0</td>\n",
       "      <td>0.0</td>\n",
       "      <td>0.0</td>\n",
       "      <td>...</td>\n",
       "      <td>NaN</td>\n",
       "      <td>NaN</td>\n",
       "      <td>NaN</td>\n",
       "      <td>NaN</td>\n",
       "      <td></td>\n",
       "      <td>4.0</td>\n",
       "      <td>37.55029296875</td>\n",
       "      <td>-77.39420318603515625</td>\n",
       "      <td>0.917681</td>\n",
       "      <td>-1.130178</td>\n",
       "    </tr>\n",
       "    <tr>\n",
       "      <th>2440</th>\n",
       "      <td>1.0</td>\n",
       "      <td>1.0</td>\n",
       "      <td>0.0</td>\n",
       "      <td>0.0</td>\n",
       "      <td>0.0</td>\n",
       "      <td>0.0</td>\n",
       "      <td>0.0</td>\n",
       "      <td>0.0</td>\n",
       "      <td>0.0</td>\n",
       "      <td>0.0</td>\n",
       "      <td>...</td>\n",
       "      <td>NaN</td>\n",
       "      <td>NaN</td>\n",
       "      <td>NaN</td>\n",
       "      <td>NaN</td>\n",
       "      <td></td>\n",
       "      <td>1.0</td>\n",
       "      <td>39.8661041259765625</td>\n",
       "      <td>-104.91970062255859375</td>\n",
       "      <td>0.917681</td>\n",
       "      <td>-1.130178</td>\n",
       "    </tr>\n",
       "    <tr>\n",
       "      <th>26345</th>\n",
       "      <td>1.0</td>\n",
       "      <td>0.0</td>\n",
       "      <td>0.0</td>\n",
       "      <td>0.0</td>\n",
       "      <td>0.0</td>\n",
       "      <td>0.0</td>\n",
       "      <td>0.0</td>\n",
       "      <td>0.0</td>\n",
       "      <td>0.0</td>\n",
       "      <td>0.0</td>\n",
       "      <td>...</td>\n",
       "      <td>NaN</td>\n",
       "      <td>NaN</td>\n",
       "      <td>NaN</td>\n",
       "      <td>NaN</td>\n",
       "      <td></td>\n",
       "      <td>1.0</td>\n",
       "      <td>26.1168060302734375</td>\n",
       "      <td>-80.429901123046875</td>\n",
       "      <td>0.917681</td>\n",
       "      <td>-1.130178</td>\n",
       "    </tr>\n",
       "    <tr>\n",
       "      <th>48488</th>\n",
       "      <td>1.0</td>\n",
       "      <td>1.0</td>\n",
       "      <td>0.0</td>\n",
       "      <td>0.0</td>\n",
       "      <td>1.0</td>\n",
       "      <td>0.0</td>\n",
       "      <td>0.0</td>\n",
       "      <td>0.0</td>\n",
       "      <td>0.0</td>\n",
       "      <td>0.0</td>\n",
       "      <td>...</td>\n",
       "      <td>NaN</td>\n",
       "      <td>1.0</td>\n",
       "      <td>NaN</td>\n",
       "      <td>NaN</td>\n",
       "      <td></td>\n",
       "      <td>2.0</td>\n",
       "      <td>31.5402069091796875</td>\n",
       "      <td>-110.266998291015625</td>\n",
       "      <td>0.917681</td>\n",
       "      <td>-1.130178</td>\n",
       "    </tr>\n",
       "    <tr>\n",
       "      <th>70144</th>\n",
       "      <td>1.0</td>\n",
       "      <td>2.0</td>\n",
       "      <td>0.0</td>\n",
       "      <td>1.0</td>\n",
       "      <td>0.0</td>\n",
       "      <td>0.0</td>\n",
       "      <td>0.0</td>\n",
       "      <td>0.0</td>\n",
       "      <td>1.0</td>\n",
       "      <td>0.0</td>\n",
       "      <td>...</td>\n",
       "      <td>NaN</td>\n",
       "      <td>NaN</td>\n",
       "      <td>NaN</td>\n",
       "      <td>NaN</td>\n",
       "      <td></td>\n",
       "      <td>5.0</td>\n",
       "      <td>35.6576995849609375</td>\n",
       "      <td>-78.383697509765625</td>\n",
       "      <td>0.917681</td>\n",
       "      <td>-1.130178</td>\n",
       "    </tr>\n",
       "  </tbody>\n",
       "</table>\n",
       "<p>5 rows × 135 columns</p>\n",
       "</div>"
      ],
      "text/plain": [
       "       sentiment  respect  insult  humiliate  status  dehumanize  \\\n",
       "0            0.0      0.0     0.0        0.0     0.0         0.0   \n",
       "2440         1.0      1.0     0.0        0.0     0.0         0.0   \n",
       "26345        1.0      0.0     0.0        0.0     0.0         0.0   \n",
       "48488        1.0      1.0     0.0        0.0     1.0         0.0   \n",
       "70144        1.0      2.0     0.0        1.0     0.0         0.0   \n",
       "\n",
       "       violence_phys  genocide  attack_defend  hatespeech  ...  \\\n",
       "0                0.0       0.0            0.0         0.0  ...   \n",
       "2440             0.0       0.0            0.0         0.0  ...   \n",
       "26345            0.0       0.0            0.0         0.0  ...   \n",
       "48488            0.0       0.0            0.0         0.0  ...   \n",
       "70144            0.0       0.0            1.0         0.0  ...   \n",
       "\n",
       "       demo_sexual_orien_2 demo_sexual_orien_3 demo_sexual_orien_4  \\\n",
       "0                      NaN                 NaN                 NaN   \n",
       "2440                   NaN                 NaN                 NaN   \n",
       "26345                  NaN                 NaN                 NaN   \n",
       "48488                  NaN                 1.0                 NaN   \n",
       "70144                  NaN                 NaN                 NaN   \n",
       "\n",
       "      demo_sexual_orien_5  demo_sexual_orien_4_text  demo_ideology  \\\n",
       "0                     NaN                                      4.0   \n",
       "2440                  NaN                                      1.0   \n",
       "26345                 NaN                                      1.0   \n",
       "48488                 NaN                                      2.0   \n",
       "70144                 NaN                                      5.0   \n",
       "\n",
       "          locationlatitude       locationlongitude  identity  hypothesis  \n",
       "0           37.55029296875   -77.39420318603515625  0.917681   -1.130178  \n",
       "2440   39.8661041259765625  -104.91970062255859375  0.917681   -1.130178  \n",
       "26345  26.1168060302734375     -80.429901123046875  0.917681   -1.130178  \n",
       "48488  31.5402069091796875    -110.266998291015625  0.917681   -1.130178  \n",
       "70144  35.6576995849609375     -78.383697509765625  0.917681   -1.130178  \n",
       "\n",
       "[5 rows x 135 columns]"
      ]
     },
     "execution_count": 483,
     "metadata": {},
     "output_type": "execute_result"
    }
   ],
   "source": [
    "#checking to make sure things correspond\n",
    "data_multi[data_multi['comment_id'] == 47777]"
   ]
  },
  {
   "cell_type": "code",
   "execution_count": 470,
   "id": "53d07427-8eb6-401c-822d-6ace6537cd85",
   "metadata": {},
   "outputs": [],
   "source": [
    "empty_dict = {}\n",
    "build_df = pd.DataFrame(empty_dict, index = comment_id_list, columns = sorted(list_columns))\n"
   ]
  },
  {
   "cell_type": "code",
   "execution_count": null,
   "id": "3b3aa007-4b4a-4eae-8781-ef6fe9672746",
   "metadata": {},
   "outputs": [],
   "source": []
  },
  {
   "cell_type": "code",
   "execution_count": 471,
   "id": "311d24de-75cf-473a-aa20-3291b55cd9d3",
   "metadata": {},
   "outputs": [
    {
     "data": {
      "text/html": [
       "<div>\n",
       "<style scoped>\n",
       "    .dataframe tbody tr th:only-of-type {\n",
       "        vertical-align: middle;\n",
       "    }\n",
       "\n",
       "    .dataframe tbody tr th {\n",
       "        vertical-align: top;\n",
       "    }\n",
       "\n",
       "    .dataframe thead th {\n",
       "        text-align: right;\n",
       "    }\n",
       "</style>\n",
       "<table border=\"1\" class=\"dataframe\">\n",
       "  <thead>\n",
       "    <tr style=\"text-align: right;\">\n",
       "      <th></th>\n",
       "      <th>attack_defend_0</th>\n",
       "      <th>attack_defend_1</th>\n",
       "      <th>attack_defend_2</th>\n",
       "      <th>attack_defend_3</th>\n",
       "      <th>dehumanize_0</th>\n",
       "      <th>dehumanize_1</th>\n",
       "      <th>genocide_0</th>\n",
       "      <th>genocide_1</th>\n",
       "      <th>hatespeech_0</th>\n",
       "      <th>hatespeech_1</th>\n",
       "      <th>...</th>\n",
       "      <th>respect_4</th>\n",
       "      <th>sentiment_0</th>\n",
       "      <th>sentiment_1</th>\n",
       "      <th>sentiment_2</th>\n",
       "      <th>sentiment_3</th>\n",
       "      <th>sentiment_4</th>\n",
       "      <th>status_0</th>\n",
       "      <th>status_1</th>\n",
       "      <th>violence_phys_0</th>\n",
       "      <th>violence_phys_1</th>\n",
       "    </tr>\n",
       "  </thead>\n",
       "  <tbody>\n",
       "    <tr>\n",
       "      <th>47777</th>\n",
       "      <td>NaN</td>\n",
       "      <td>NaN</td>\n",
       "      <td>NaN</td>\n",
       "      <td>NaN</td>\n",
       "      <td>NaN</td>\n",
       "      <td>NaN</td>\n",
       "      <td>NaN</td>\n",
       "      <td>NaN</td>\n",
       "      <td>NaN</td>\n",
       "      <td>NaN</td>\n",
       "      <td>...</td>\n",
       "      <td>NaN</td>\n",
       "      <td>NaN</td>\n",
       "      <td>NaN</td>\n",
       "      <td>NaN</td>\n",
       "      <td>NaN</td>\n",
       "      <td>NaN</td>\n",
       "      <td>NaN</td>\n",
       "      <td>NaN</td>\n",
       "      <td>NaN</td>\n",
       "      <td>NaN</td>\n",
       "    </tr>\n",
       "    <tr>\n",
       "      <th>47777</th>\n",
       "      <td>NaN</td>\n",
       "      <td>NaN</td>\n",
       "      <td>NaN</td>\n",
       "      <td>NaN</td>\n",
       "      <td>NaN</td>\n",
       "      <td>NaN</td>\n",
       "      <td>NaN</td>\n",
       "      <td>NaN</td>\n",
       "      <td>NaN</td>\n",
       "      <td>NaN</td>\n",
       "      <td>...</td>\n",
       "      <td>NaN</td>\n",
       "      <td>NaN</td>\n",
       "      <td>NaN</td>\n",
       "      <td>NaN</td>\n",
       "      <td>NaN</td>\n",
       "      <td>NaN</td>\n",
       "      <td>NaN</td>\n",
       "      <td>NaN</td>\n",
       "      <td>NaN</td>\n",
       "      <td>NaN</td>\n",
       "    </tr>\n",
       "    <tr>\n",
       "      <th>47777</th>\n",
       "      <td>NaN</td>\n",
       "      <td>NaN</td>\n",
       "      <td>NaN</td>\n",
       "      <td>NaN</td>\n",
       "      <td>NaN</td>\n",
       "      <td>NaN</td>\n",
       "      <td>NaN</td>\n",
       "      <td>NaN</td>\n",
       "      <td>NaN</td>\n",
       "      <td>NaN</td>\n",
       "      <td>...</td>\n",
       "      <td>NaN</td>\n",
       "      <td>NaN</td>\n",
       "      <td>NaN</td>\n",
       "      <td>NaN</td>\n",
       "      <td>NaN</td>\n",
       "      <td>NaN</td>\n",
       "      <td>NaN</td>\n",
       "      <td>NaN</td>\n",
       "      <td>NaN</td>\n",
       "      <td>NaN</td>\n",
       "    </tr>\n",
       "    <tr>\n",
       "      <th>47777</th>\n",
       "      <td>NaN</td>\n",
       "      <td>NaN</td>\n",
       "      <td>NaN</td>\n",
       "      <td>NaN</td>\n",
       "      <td>NaN</td>\n",
       "      <td>NaN</td>\n",
       "      <td>NaN</td>\n",
       "      <td>NaN</td>\n",
       "      <td>NaN</td>\n",
       "      <td>NaN</td>\n",
       "      <td>...</td>\n",
       "      <td>NaN</td>\n",
       "      <td>NaN</td>\n",
       "      <td>NaN</td>\n",
       "      <td>NaN</td>\n",
       "      <td>NaN</td>\n",
       "      <td>NaN</td>\n",
       "      <td>NaN</td>\n",
       "      <td>NaN</td>\n",
       "      <td>NaN</td>\n",
       "      <td>NaN</td>\n",
       "    </tr>\n",
       "    <tr>\n",
       "      <th>47777</th>\n",
       "      <td>NaN</td>\n",
       "      <td>NaN</td>\n",
       "      <td>NaN</td>\n",
       "      <td>NaN</td>\n",
       "      <td>NaN</td>\n",
       "      <td>NaN</td>\n",
       "      <td>NaN</td>\n",
       "      <td>NaN</td>\n",
       "      <td>NaN</td>\n",
       "      <td>NaN</td>\n",
       "      <td>...</td>\n",
       "      <td>NaN</td>\n",
       "      <td>NaN</td>\n",
       "      <td>NaN</td>\n",
       "      <td>NaN</td>\n",
       "      <td>NaN</td>\n",
       "      <td>NaN</td>\n",
       "      <td>NaN</td>\n",
       "      <td>NaN</td>\n",
       "      <td>NaN</td>\n",
       "      <td>NaN</td>\n",
       "    </tr>\n",
       "  </tbody>\n",
       "</table>\n",
       "<p>5 rows × 31 columns</p>\n",
       "</div>"
      ],
      "text/plain": [
       "      attack_defend_0 attack_defend_1 attack_defend_2 attack_defend_3  \\\n",
       "47777             NaN             NaN             NaN             NaN   \n",
       "47777             NaN             NaN             NaN             NaN   \n",
       "47777             NaN             NaN             NaN             NaN   \n",
       "47777             NaN             NaN             NaN             NaN   \n",
       "47777             NaN             NaN             NaN             NaN   \n",
       "\n",
       "      dehumanize_0 dehumanize_1 genocide_0 genocide_1 hatespeech_0  \\\n",
       "47777          NaN          NaN        NaN        NaN          NaN   \n",
       "47777          NaN          NaN        NaN        NaN          NaN   \n",
       "47777          NaN          NaN        NaN        NaN          NaN   \n",
       "47777          NaN          NaN        NaN        NaN          NaN   \n",
       "47777          NaN          NaN        NaN        NaN          NaN   \n",
       "\n",
       "      hatespeech_1  ... respect_4 sentiment_0 sentiment_1 sentiment_2  \\\n",
       "47777          NaN  ...       NaN         NaN         NaN         NaN   \n",
       "47777          NaN  ...       NaN         NaN         NaN         NaN   \n",
       "47777          NaN  ...       NaN         NaN         NaN         NaN   \n",
       "47777          NaN  ...       NaN         NaN         NaN         NaN   \n",
       "47777          NaN  ...       NaN         NaN         NaN         NaN   \n",
       "\n",
       "      sentiment_3 sentiment_4 status_0 status_1 violence_phys_0  \\\n",
       "47777         NaN         NaN      NaN      NaN             NaN   \n",
       "47777         NaN         NaN      NaN      NaN             NaN   \n",
       "47777         NaN         NaN      NaN      NaN             NaN   \n",
       "47777         NaN         NaN      NaN      NaN             NaN   \n",
       "47777         NaN         NaN      NaN      NaN             NaN   \n",
       "\n",
       "      violence_phys_1  \n",
       "47777             NaN  \n",
       "47777             NaN  \n",
       "47777             NaN  \n",
       "47777             NaN  \n",
       "47777             NaN  \n",
       "\n",
       "[5 rows x 31 columns]"
      ]
     },
     "execution_count": 471,
     "metadata": {},
     "output_type": "execute_result"
    }
   ],
   "source": [
    "build_df.head(5)"
   ]
  },
  {
   "cell_type": "code",
   "execution_count": 472,
   "id": "16dcb4ab-d81c-417c-930d-5fcf12118ac8",
   "metadata": {},
   "outputs": [],
   "source": [
    "# reformed_dict = {}\n",
    "# for outerKey, innerDict in output.items():\n",
    "#     for innerKey, values in innerDict.items():\n",
    "#         reformed_dict[(outerKey, innerKey)] = values\n",
    "# reformed_dict"
   ]
  },
  {
   "cell_type": "code",
   "execution_count": null,
   "id": "c240267f-cd66-4a6b-baad-84ef08c2e848",
   "metadata": {},
   "outputs": [],
   "source": [
    "#actual\n",
    "{47777: {'column_score': 'hatespeech1', 'number_labelers': 0}}\n",
    "\n",
    "#desired\n",
    "{47777: {'hatespeech_1': 0 }"
   ]
  },
  {
   "cell_type": "code",
   "execution_count": 496,
   "id": "ae97954e-9c15-4c7b-b62f-b903a50d3083",
   "metadata": {},
   "outputs": [],
   "source": [
    "# for i in output.items():\n",
    "#     print(i)"
   ]
  },
  {
   "cell_type": "code",
   "execution_count": 501,
   "id": "8d8e30e2-1e75-47aa-8a19-dc02c1786e6e",
   "metadata": {},
   "outputs": [],
   "source": [
    "# for x,y in output.items():\n",
    "#     print(y)"
   ]
  },
  {
   "cell_type": "code",
   "execution_count": 503,
   "id": "5fda271b-33eb-456c-bcc2-1c312bbeeb59",
   "metadata": {},
   "outputs": [],
   "source": [
    "#mydict = {values:innerKeys for outerKeys, innerDict in output.items() for innerKeys, values in innerDict.items() if innerKeys == 'column_score'}"
   ]
  },
  {
   "cell_type": "code",
   "execution_count": 504,
   "id": "fefb69d3-c32b-4953-b0ec-2243aedeae51",
   "metadata": {},
   "outputs": [
    {
     "data": {
      "text/plain": [
       "{'hatespeech_1': 'column_score'}"
      ]
     },
     "execution_count": 504,
     "metadata": {},
     "output_type": "execute_result"
    }
   ],
   "source": [
    "#mydict"
   ]
  },
  {
   "cell_type": "code",
   "execution_count": 505,
   "id": "cd609f5c-5d43-4859-945b-5ce5de77f042",
   "metadata": {},
   "outputs": [],
   "source": [
    "for outerKeys, innerDict in output.items():\n",
    "    for innerKeys, values in innerDict.items():\n",
    "        if innerKeys == 'column_score':\n",
    "            values:innerKeys"
   ]
  },
  {
   "cell_type": "code",
   "execution_count": null,
   "id": "5c625b6f-6869-4e0f-b501-3a6959b8cdc9",
   "metadata": {},
   "outputs": [],
   "source": []
  },
  {
   "cell_type": "code",
   "execution_count": 497,
   "id": "3a049f49-1f4b-414b-93ed-95403ba2439e",
   "metadata": {},
   "outputs": [],
   "source": [
    "# for outerKey, innerDict in output.items():\n",
    "#     for innerKey, values in innerDict.items():\n",
    "#         if innerKey == 'column_score':\n",
    "#             reformed_dict[values] = \n",
    "      \n",
    "        \n",
    "        \n",
    "        \n",
    "#         if values == 'hatespeech_1':\n",
    "#             print(outerKey, innerKey, values)\n",
    "    \n"
   ]
  },
  {
   "cell_type": "code",
   "execution_count": 428,
   "id": "f6e9f3cb-6c2a-4ee9-8816-a1a6477d93dd",
   "metadata": {},
   "outputs": [],
   "source": []
  },
  {
   "cell_type": "code",
   "execution_count": 431,
   "id": "1735f7ce-4dd7-4d55-8cf2-66b186f353ad",
   "metadata": {},
   "outputs": [],
   "source": [
    "\n",
    "                       "
   ]
  },
  {
   "cell_type": "code",
   "execution_count": null,
   "id": "ef096911-7f7a-459d-86e2-93e309ee8ba3",
   "metadata": {},
   "outputs": [],
   "source": []
  },
  {
   "cell_type": "code",
   "execution_count": 420,
   "id": "3218a68e-8497-4947-be07-47eeb1cea3cb",
   "metadata": {},
   "outputs": [],
   "source": [
    "output_df = pd.DataFrame(output, columns = list_columns)"
   ]
  },
  {
   "cell_type": "code",
   "execution_count": 422,
   "id": "754da68e-f69f-478c-baf3-8fa6ab7fad55",
   "metadata": {},
   "outputs": [
    {
     "data": {
      "text/plain": [
       "array(['sentiment_4', 'sentiment_3', 'sentiment_2', 'sentiment_0',\n",
       "       'sentiment_1', 'respect_4', 'respect_3', 'respect_2', 'respect_0',\n",
       "       'respect_1', 'insult_3', 'insult_2', 'insult_0', 'insult_1',\n",
       "       'humiliate_0', 'humiliate_1', 'humiliate_2', 'status_1',\n",
       "       'status_0', 'dehumanize_0', 'dehumanize_1', 'violence_phys_0',\n",
       "       'violence_phys_1', 'genocide_0', 'genocide_1', 'attack_defend_2',\n",
       "       'attack_defend_1', 'attack_defend_3', 'attack_defend_0',\n",
       "       'hatespeech_0', 'hatespeech_1'], dtype=object)"
      ]
     },
     "execution_count": 422,
     "metadata": {},
     "output_type": "execute_result"
    }
   ],
   "source": [
    "output_df.columns.values"
   ]
  },
  {
   "cell_type": "code",
   "execution_count": 419,
   "id": "3dc59f10-b8b1-4dbc-9562-40536a6742b1",
   "metadata": {},
   "outputs": [
    {
     "data": {
      "text/plain": [
       "39565"
      ]
     },
     "execution_count": 419,
     "metadata": {},
     "output_type": "execute_result"
    }
   ],
   "source": [
    "len(output_df.columns.values)"
   ]
  },
  {
   "cell_type": "code",
   "execution_count": 374,
   "id": "d517ef73-8ac0-433b-b1e0-1a2f18c09893",
   "metadata": {},
   "outputs": [],
   "source": [
    "dataframe = pd.DataFrame(columns = list_columns)\n",
    "temp_series = pd.Series(number_labelers_list, index = list_index)\n",
    "dataframe = dataframe.append(temp_series, ignore_index=True)"
   ]
  },
  {
   "cell_type": "code",
   "execution_count": 354,
   "id": "73ae288c-2bfe-4173-a0ee-1ab7804db614",
   "metadata": {},
   "outputs": [
    {
     "data": {
      "text/html": [
       "<div>\n",
       "<style scoped>\n",
       "    .dataframe tbody tr th:only-of-type {\n",
       "        vertical-align: middle;\n",
       "    }\n",
       "\n",
       "    .dataframe tbody tr th {\n",
       "        vertical-align: top;\n",
       "    }\n",
       "\n",
       "    .dataframe thead th {\n",
       "        text-align: right;\n",
       "    }\n",
       "</style>\n",
       "<table border=\"1\" class=\"dataframe\">\n",
       "  <thead>\n",
       "    <tr style=\"text-align: right;\">\n",
       "      <th></th>\n",
       "      <th>sentiment_4</th>\n",
       "      <th>sentiment_3</th>\n",
       "      <th>sentiment_2</th>\n",
       "      <th>sentiment_0</th>\n",
       "      <th>sentiment_1</th>\n",
       "      <th>respect_4</th>\n",
       "      <th>respect_3</th>\n",
       "      <th>respect_2</th>\n",
       "      <th>respect_0</th>\n",
       "      <th>respect_1</th>\n",
       "      <th>...</th>\n",
       "      <th>300</th>\n",
       "      <th>301</th>\n",
       "      <th>302</th>\n",
       "      <th>303</th>\n",
       "      <th>304</th>\n",
       "      <th>305</th>\n",
       "      <th>306</th>\n",
       "      <th>307</th>\n",
       "      <th>308</th>\n",
       "      <th>309</th>\n",
       "    </tr>\n",
       "  </thead>\n",
       "  <tbody>\n",
       "    <tr>\n",
       "      <th>0</th>\n",
       "      <td>NaN</td>\n",
       "      <td>NaN</td>\n",
       "      <td>NaN</td>\n",
       "      <td>NaN</td>\n",
       "      <td>NaN</td>\n",
       "      <td>NaN</td>\n",
       "      <td>NaN</td>\n",
       "      <td>NaN</td>\n",
       "      <td>NaN</td>\n",
       "      <td>NaN</td>\n",
       "      <td>...</td>\n",
       "      <td>3.0</td>\n",
       "      <td>0.0</td>\n",
       "      <td>0.0</td>\n",
       "      <td>3.0</td>\n",
       "      <td>0.0</td>\n",
       "      <td>4.0</td>\n",
       "      <td>3.0</td>\n",
       "      <td>0.0</td>\n",
       "      <td>2.0</td>\n",
       "      <td>1.0</td>\n",
       "    </tr>\n",
       "  </tbody>\n",
       "</table>\n",
       "<p>1 rows × 341 columns</p>\n",
       "</div>"
      ],
      "text/plain": [
       "  sentiment_4 sentiment_3 sentiment_2 sentiment_0 sentiment_1 respect_4  \\\n",
       "0         NaN         NaN         NaN         NaN         NaN       NaN   \n",
       "\n",
       "  respect_3 respect_2 respect_0 respect_1  ...  300  301  302  303  304  305  \\\n",
       "0       NaN       NaN       NaN       NaN  ...  3.0  0.0  0.0  3.0  0.0  4.0   \n",
       "\n",
       "   306  307  308  309  \n",
       "0  3.0  0.0  2.0  1.0  \n",
       "\n",
       "[1 rows x 341 columns]"
      ]
     },
     "execution_count": 354,
     "metadata": {},
     "output_type": "execute_result"
    }
   ],
   "source": [
    "dataframe"
   ]
  },
  {
   "cell_type": "code",
   "execution_count": 216,
   "id": "2406cfcb-c3a0-4e3b-8d57-4f7aca5b664b",
   "metadata": {},
   "outputs": [],
   "source": [
    "list_columns = []\n",
    "for column in data_fleiss.columns:\n",
    "    number_column = data_fleiss[column].value_counts().index.to_list()\n",
    "    for score in number_column:\n",
    "        list_columns.append(column + '_' + str(int(score)))"
   ]
  },
  {
   "cell_type": "code",
   "execution_count": 217,
   "id": "2e2c4aca-c8ee-4751-ab5f-58aa851549bc",
   "metadata": {},
   "outputs": [
    {
     "data": {
      "text/plain": [
       "['attack_defend_0',\n",
       " 'attack_defend_1',\n",
       " 'attack_defend_2',\n",
       " 'attack_defend_3',\n",
       " 'dehumanize_0',\n",
       " 'dehumanize_1',\n",
       " 'genocide_0',\n",
       " 'genocide_1',\n",
       " 'hatespeech_0',\n",
       " 'hatespeech_1',\n",
       " 'humiliate_0',\n",
       " 'humiliate_1',\n",
       " 'humiliate_2',\n",
       " 'insult_0',\n",
       " 'insult_1',\n",
       " 'insult_2',\n",
       " 'insult_3',\n",
       " 'respect_0',\n",
       " 'respect_1',\n",
       " 'respect_2',\n",
       " 'respect_3',\n",
       " 'respect_4',\n",
       " 'sentiment_0',\n",
       " 'sentiment_1',\n",
       " 'sentiment_2',\n",
       " 'sentiment_3',\n",
       " 'sentiment_4',\n",
       " 'status_0',\n",
       " 'status_1',\n",
       " 'violence_phys_0',\n",
       " 'violence_phys_1']"
      ]
     },
     "execution_count": 217,
     "metadata": {},
     "output_type": "execute_result"
    }
   ],
   "source": [
    "sorted(list_columns)"
   ]
  },
  {
   "cell_type": "code",
   "execution_count": 350,
   "id": "affc6554-d0ee-4510-9eeb-55e69332fafa",
   "metadata": {},
   "outputs": [
    {
     "data": {
      "text/html": [
       "<div>\n",
       "<style scoped>\n",
       "    .dataframe tbody tr th:only-of-type {\n",
       "        vertical-align: middle;\n",
       "    }\n",
       "\n",
       "    .dataframe tbody tr th {\n",
       "        vertical-align: top;\n",
       "    }\n",
       "\n",
       "    .dataframe thead th {\n",
       "        text-align: right;\n",
       "    }\n",
       "</style>\n",
       "<table border=\"1\" class=\"dataframe\">\n",
       "  <thead>\n",
       "    <tr style=\"text-align: right;\">\n",
       "      <th></th>\n",
       "      <th>sentiment_4</th>\n",
       "      <th>sentiment_3</th>\n",
       "      <th>sentiment_2</th>\n",
       "      <th>sentiment_0</th>\n",
       "      <th>sentiment_1</th>\n",
       "      <th>respect_4</th>\n",
       "      <th>respect_3</th>\n",
       "      <th>respect_2</th>\n",
       "      <th>respect_0</th>\n",
       "      <th>respect_1</th>\n",
       "      <th>...</th>\n",
       "      <th>violence_phys_0</th>\n",
       "      <th>violence_phys_1</th>\n",
       "      <th>genocide_0</th>\n",
       "      <th>genocide_1</th>\n",
       "      <th>attack_defend_2</th>\n",
       "      <th>attack_defend_1</th>\n",
       "      <th>attack_defend_3</th>\n",
       "      <th>attack_defend_0</th>\n",
       "      <th>hatespeech_0</th>\n",
       "      <th>hatespeech_1</th>\n",
       "    </tr>\n",
       "  </thead>\n",
       "  <tbody>\n",
       "    <tr>\n",
       "      <th>0</th>\n",
       "      <td>1</td>\n",
       "      <td>4</td>\n",
       "      <td>0</td>\n",
       "      <td>0</td>\n",
       "      <td>0</td>\n",
       "      <td>2</td>\n",
       "      <td>2</td>\n",
       "      <td>1</td>\n",
       "      <td>0</td>\n",
       "      <td>0</td>\n",
       "      <td>...</td>\n",
       "      <td>5</td>\n",
       "      <td>0</td>\n",
       "      <td>5</td>\n",
       "      <td>0</td>\n",
       "      <td>4</td>\n",
       "      <td>1</td>\n",
       "      <td>0</td>\n",
       "      <td>0</td>\n",
       "      <td>5</td>\n",
       "      <td>0</td>\n",
       "    </tr>\n",
       "  </tbody>\n",
       "</table>\n",
       "<p>1 rows × 31 columns</p>\n",
       "</div>"
      ],
      "text/plain": [
       "  sentiment_4 sentiment_3 sentiment_2 sentiment_0 sentiment_1 respect_4  \\\n",
       "0           1           4           0           0           0         2   \n",
       "\n",
       "  respect_3 respect_2 respect_0 respect_1  ... violence_phys_0  \\\n",
       "0         2         1         0         0  ...               5   \n",
       "\n",
       "  violence_phys_1 genocide_0 genocide_1 attack_defend_2 attack_defend_1  \\\n",
       "0               0          5          0               4               1   \n",
       "\n",
       "  attack_defend_3 attack_defend_0 hatespeech_0 hatespeech_1  \n",
       "0               0               0            5            0  \n",
       "\n",
       "[1 rows x 31 columns]"
      ]
     },
     "execution_count": 350,
     "metadata": {},
     "output_type": "execute_result"
    }
   ],
   "source": [
    "dataframe = pd.DataFrame(columns = list_columns)\n",
    "temp_list = []\n",
    "for column in data_fleiss.columns:\n",
    "    column_values = sorted(data_fleiss[column].value_counts().index.to_list())\n",
    "    for comment_id in unique_comment_ids[0:1]:\n",
    "        for i in column_values:\n",
    "            #temp_list = []\n",
    "            temp_list.append(len(np.unique(data_multi[(data_multi[column] == i) & (data_multi['comment_id'] == comment_id)]['labeler_id'].values)))\n",
    "temp_series = pd.Series(temp_list, index = dataframe.columns)\n",
    "dataframe = dataframe.append(temp_series, ignore_index=True)\n",
    "dataframe"
   ]
  },
  {
   "cell_type": "code",
   "execution_count": null,
   "id": "dedf8a3a-2586-433d-b938-473b5dc448d3",
   "metadata": {},
   "outputs": [],
   "source": []
  },
  {
   "cell_type": "code",
   "execution_count": 331,
   "id": "5c60b627-5d0a-444b-901e-b755b11876f5",
   "metadata": {},
   "outputs": [],
   "source": [
    "comment_id_list = []\n",
    "column_score_list = []\n",
    "number_labelers_list = []\n",
    "for idx in range(len(big_list)):\n",
    "    comment_id_list.append(big_list[idx][0])\n",
    "    column_score_list.append(big_list[idx][1])\n",
    "    number_labelers_list.append(big_list[idx][2])\n"
   ]
  },
  {
   "cell_type": "code",
   "execution_count": 341,
   "id": "1eed4e70-e492-465b-b50b-b3c204f8c83a",
   "metadata": {},
   "outputs": [],
   "source": [
    "# comment_id_list\n",
    "# column_score_list\n",
    "# number_labelers_list"
   ]
  },
  {
   "cell_type": "code",
   "execution_count": 333,
   "id": "cabf173c-7d3b-4c31-85c1-d713f479f06d",
   "metadata": {},
   "outputs": [
    {
     "name": "stdout",
     "output_type": "stream",
     "text": [
      "310\n",
      "310\n",
      "310\n"
     ]
    }
   ],
   "source": [
    "print(len(comment_id_list))\n",
    "print(len(column_score_list))\n",
    "print(len(number_labelers_list))"
   ]
  },
  {
   "cell_type": "code",
   "execution_count": 296,
   "id": "e57a828a-6b9f-4756-9400-3f720764f623",
   "metadata": {},
   "outputs": [],
   "source": [
    "# for idx in big_list:\n",
    "#     print(idx)"
   ]
  },
  {
   "cell_type": "code",
   "execution_count": null,
   "id": "f035082f-459c-4deb-aef0-271729937d10",
   "metadata": {},
   "outputs": [],
   "source": []
  },
  {
   "cell_type": "code",
   "execution_count": 311,
   "id": "e0fb2bc5-3339-4153-8de3-6f4aeea07490",
   "metadata": {},
   "outputs": [],
   "source": [
    "# print('initial list', str(big_list))\n",
    "\n",
    "# res1, res2 = map(list, zip(*big_list))\n",
    "\n",
    "# print('final list', res1, \"\\n\", res2)"
   ]
  },
  {
   "cell_type": "code",
   "execution_count": 314,
   "id": "2ad13947-6b67-4cd5-a461-21953156ba7b",
   "metadata": {},
   "outputs": [],
   "source": [
    "# for idx in range(len(big_list)):\n",
    "#     print(idx)"
   ]
  },
  {
   "cell_type": "code",
   "execution_count": 194,
   "id": "ff8def17-aeec-417c-bbdb-8ce2d2094878",
   "metadata": {},
   "outputs": [
    {
     "ename": "SyntaxError",
     "evalue": "invalid syntax (<ipython-input-194-7387c66454f3>, line 12)",
     "output_type": "error",
     "traceback": [
      "\u001b[0;36m  File \u001b[0;32m\"<ipython-input-194-7387c66454f3>\"\u001b[0;36m, line \u001b[0;32m12\u001b[0m\n\u001b[0;31m    comment_dict[comment_id] = {string_column_values: number_labelers}\u001b[0m\n\u001b[0m    ^\u001b[0m\n\u001b[0;31mSyntaxError\u001b[0m\u001b[0;31m:\u001b[0m invalid syntax\n"
     ]
    }
   ],
   "source": [
    "fleiss_dictionary = {}\n",
    "\n",
    "for column in data_fleiss.columns:\n",
    "    comment_dict = {}\n",
    "    column_values = sorted(data_fleiss[column].value_counts().index.to_list())\n",
    "    \n",
    "    for comment_id in unique_comment_ids[0:10]:\n",
    "        for i in column_values:\n",
    "            #print('comment_id:', comment_id, 'column:', column, 'score:', i, 'number of labelers:', len(np.unique(data_multi[(data_multi[column] == i) & (data_multi['comment_id'] == comment_id)]['labeler_id'].values)))\n",
    "            number_labelers = len(np.unique(data_multi[(data_multi[column] == i) & (data_multi['comment_id'] == comment_id)]['labeler_id'].values))\n",
    "            string_column_values = column + '_' + str(int((i))\n",
    "            comment_dict[comment_id] = {string_column_values: number_labelers}\n",
    "        fleiss_dictionary[comment_id] = comment_dict\n",
    "            \n",
    "            "
   ]
  },
  {
   "cell_type": "code",
   "execution_count": 375,
   "id": "b9ad0b12-6760-4ffc-a9eb-69667640a843",
   "metadata": {},
   "outputs": [
    {
     "data": {
      "text/plain": [
       "[0.0, 1.0, 2.0, 3.0, 4.0]"
      ]
     },
     "execution_count": 375,
     "metadata": {},
     "output_type": "execute_result"
    }
   ],
   "source": [
    "column_values_test = sorted(data_fleiss['sentiment'].value_counts().index.to_list())\n",
    "column_values_test"
   ]
  },
  {
   "cell_type": "code",
   "execution_count": 183,
   "id": "3db6c3c5-5698-4430-b082-cc0ae4119c27",
   "metadata": {},
   "outputs": [],
   "source": [
    "fleiss_dict = {1111: {'sentiment_0': 4, 'sentiment_1': 3}, 2222: {'sentiment_0': 4, 'sentiment_1': 3}}\n",
    "\n",
    "\n",
    "\n"
   ]
  },
  {
   "cell_type": "code",
   "execution_count": 191,
   "id": "565b2483-44d7-4a47-adec-aad7c800c7f1",
   "metadata": {},
   "outputs": [
    {
     "data": {
      "text/html": [
       "<div>\n",
       "<style scoped>\n",
       "    .dataframe tbody tr th:only-of-type {\n",
       "        vertical-align: middle;\n",
       "    }\n",
       "\n",
       "    .dataframe tbody tr th {\n",
       "        vertical-align: top;\n",
       "    }\n",
       "\n",
       "    .dataframe thead th {\n",
       "        text-align: right;\n",
       "    }\n",
       "</style>\n",
       "<table border=\"1\" class=\"dataframe\">\n",
       "  <thead>\n",
       "    <tr style=\"text-align: right;\">\n",
       "      <th></th>\n",
       "      <th>sentiment_0</th>\n",
       "      <th>sentiment_1</th>\n",
       "    </tr>\n",
       "  </thead>\n",
       "  <tbody>\n",
       "    <tr>\n",
       "      <th>1111</th>\n",
       "      <td>4</td>\n",
       "      <td>3</td>\n",
       "    </tr>\n",
       "    <tr>\n",
       "      <th>2222</th>\n",
       "      <td>4</td>\n",
       "      <td>3</td>\n",
       "    </tr>\n",
       "  </tbody>\n",
       "</table>\n",
       "</div>"
      ],
      "text/plain": [
       "      sentiment_0  sentiment_1\n",
       "1111            4            3\n",
       "2222            4            3"
      ]
     },
     "execution_count": 191,
     "metadata": {},
     "output_type": "execute_result"
    }
   ],
   "source": [
    "pd.DataFrame.from_dict(fleiss_dict, orient='index')\n",
    "    \n",
    "    "
   ]
  },
  {
   "cell_type": "code",
   "execution_count": 158,
   "id": "b241e034-f555-43ef-a3e4-4507933beed1",
   "metadata": {},
   "outputs": [
    {
     "name": "stdout",
     "output_type": "stream",
     "text": [
      "sentiment 0.0 5501\n",
      "sentiment 1.0 5336\n",
      "sentiment 2.0 6899\n",
      "sentiment 3.0 7651\n",
      "sentiment 4.0 7903\n",
      "respect 0.0 6207\n",
      "respect 1.0 5140\n",
      "respect 2.0 7229\n",
      "respect 3.0 7537\n",
      "respect 4.0 7896\n",
      "insult 0.0 7698\n",
      "insult 1.0 6581\n",
      "insult 2.0 7680\n",
      "insult 3.0 7751\n",
      "humiliate 0.0 7897\n",
      "humiliate 1.0 7647\n",
      "humiliate 2.0 6937\n",
      "status 0.0 7897\n",
      "status 1.0 7835\n",
      "dehumanize 0.0 7905\n",
      "dehumanize 1.0 7750\n",
      "violence_phys 0.0 7912\n",
      "violence_phys 1.0 7723\n",
      "genocide 0.0 7912\n",
      "genocide 1.0 7254\n",
      "attack_defend 0.0 6853\n",
      "attack_defend 1.0 7687\n",
      "attack_defend 2.0 7776\n",
      "attack_defend 3.0 7597\n",
      "hatespeech 0.0 7911\n",
      "hatespeech 1.0 7860\n"
     ]
    }
   ],
   "source": [
    "#calculate the number of unique labelers for each \n",
    "\n",
    "for column in data_fleiss.columns:\n",
    "    column_values = sorted(data_fleiss[column].value_counts().index.to_list())\n",
    "    for i in column_values:\n",
    "        print(column, i, len(np.unique(data_multi[data_multi[column] == i]['labeler_id'].values)))"
   ]
  },
  {
   "cell_type": "code",
   "execution_count": 162,
   "id": "25c6aa38-b472-4f6c-8aff-74c1a5039fb7",
   "metadata": {},
   "outputs": [
    {
     "name": "stdout",
     "output_type": "stream",
     "text": [
      "sentiment 0.0 5501\n",
      "sentiment 1.0 5336\n",
      "sentiment 2.0 6899\n",
      "sentiment 3.0 7651\n",
      "sentiment 4.0 7903\n",
      "respect 0.0 6207\n",
      "respect 1.0 5140\n",
      "respect 2.0 7229\n",
      "respect 3.0 7537\n",
      "respect 4.0 7896\n",
      "insult 0.0 7698\n",
      "insult 1.0 6581\n",
      "insult 2.0 7680\n",
      "insult 3.0 7751\n",
      "humiliate 0.0 7897\n",
      "humiliate 1.0 7647\n",
      "humiliate 2.0 6937\n",
      "status 0.0 7897\n",
      "status 1.0 7835\n",
      "dehumanize 0.0 7905\n",
      "dehumanize 1.0 7750\n",
      "violence_phys 0.0 7912\n",
      "violence_phys 1.0 7723\n",
      "genocide 0.0 7912\n",
      "genocide 1.0 7254\n",
      "attack_defend 0.0 6853\n",
      "attack_defend 1.0 7687\n",
      "attack_defend 2.0 7776\n",
      "attack_defend 3.0 7597\n",
      "hatespeech 0.0 7911\n",
      "hatespeech 1.0 7860\n"
     ]
    }
   ],
   "source": [
    "#calculate the number of unique labelers for each \n",
    "\n",
    "for column in data_fleiss.columns:\n",
    "    column_values = sorted(data_fleiss[column].value_counts().index.to_list())\n",
    "    connections = [print(column, i, len(np.unique(data_multi[data_multi[column] == i]['labeler_id'].values))) for i in column_values]\n",
    "    "
   ]
  },
  {
   "cell_type": "code",
   "execution_count": null,
   "id": "09154a3a-43ab-4639-ba68-4444fbf3dc94",
   "metadata": {},
   "outputs": [],
   "source": [
    "#have labelers labeled the same comment more than once? \n",
    "data_multi"
   ]
  },
  {
   "cell_type": "code",
   "execution_count": 83,
   "id": "5d2b76c6-dad3-47dd-aa93-69e290e5b8a1",
   "metadata": {},
   "outputs": [],
   "source": [
    "# outer_values = []\n",
    "# outer_counts = []\n",
    "\n",
    "# for comment in data_multi['comment_id']:\n",
    "#     values = data_multi[data_multi['comment_id'] == comment]['sentiment'].value_counts().keys().to_list()\n",
    "#     counts = data_multi[data_multi['comment_id'] == comment]['sentiment'].value_counts().to_list()\n",
    "    "
   ]
  },
  {
   "cell_type": "code",
   "execution_count": null,
   "id": "a9c91b78-861e-48ef-846b-a06afa267f4e",
   "metadata": {},
   "outputs": [],
   "source": []
  },
  {
   "cell_type": "code",
   "execution_count": 95,
   "id": "975b8a33-ed44-4251-b1f8-ac4a2e836d52",
   "metadata": {},
   "outputs": [],
   "source": [
    "values = [data_multi[data_multi['comment_id'] == comment]['sentiment'].value_counts().keys().to_list() for comment in data_multi['comment_id']]\n",
    "\n",
    "\n"
   ]
  },
  {
   "cell_type": "code",
   "execution_count": 98,
   "id": "c4431c8a-bc93-403b-adeb-eb7a47d4596f",
   "metadata": {},
   "outputs": [
    {
     "data": {
      "text/plain": [
       "[1.0, 0.0]"
      ]
     },
     "execution_count": 98,
     "metadata": {},
     "output_type": "execute_result"
    }
   ],
   "source": [
    "values[0]"
   ]
  },
  {
   "cell_type": "code",
   "execution_count": 87,
   "id": "0556e0ad-6c0b-4677-ba9c-0c1454b2e42f",
   "metadata": {},
   "outputs": [],
   "source": [
    "counts = [data_multi[data_multi['comment_id'] == comment]['sentiment'].value_counts().to_list() for comment in data_multi['comment_id']]\n",
    "\n",
    "\n"
   ]
  },
  {
   "cell_type": "code",
   "execution_count": 99,
   "id": "48037e0c-f38f-486e-afd5-226a6ddb6903",
   "metadata": {},
   "outputs": [
    {
     "data": {
      "text/plain": [
       "[4, 1]"
      ]
     },
     "execution_count": 99,
     "metadata": {},
     "output_type": "execute_result"
    }
   ],
   "source": [
    "counts[0]"
   ]
  },
  {
   "cell_type": "code",
   "execution_count": 101,
   "id": "3bfae860-3170-42a3-bf50-26bb0407c2ea",
   "metadata": {},
   "outputs": [
    {
     "data": {
      "text/plain": [
       "{1.0: 4, 0.0: 1}"
      ]
     },
     "execution_count": 101,
     "metadata": {},
     "output_type": "execute_result"
    }
   ],
   "source": [
    "dict(zip(values[0], counts[0]))"
   ]
  },
  {
   "cell_type": "code",
   "execution_count": 78,
   "id": "6feb2c57-4b0e-4482-a915-577bfaa4a206",
   "metadata": {},
   "outputs": [
    {
     "data": {
      "text/plain": [
       "1.0    4\n",
       "0.0    1\n",
       "Name: sentiment, dtype: int64"
      ]
     },
     "execution_count": 78,
     "metadata": {},
     "output_type": "execute_result"
    }
   ],
   "source": [
    "data_multi[data_multi['comment_id'] == 47777]['sentiment'].value_counts()"
   ]
  },
  {
   "cell_type": "code",
   "execution_count": null,
   "id": "ff44d09a-4a97-41c8-a66e-db9a46290c20",
   "metadata": {},
   "outputs": [],
   "source": [
    "range(len(data_multi['sentiment'].value_counts()))"
   ]
  },
  {
   "cell_type": "code",
   "execution_count": null,
   "id": "8e4e307f-7350-41e3-805a-e68c492b8e85",
   "metadata": {},
   "outputs": [],
   "source": [
    "\n",
    "data_multi[data_multi['sentiment'] == 0]['sentiment'].count()"
   ]
  },
  {
   "cell_type": "code",
   "execution_count": null,
   "id": "cc12e509-0cb2-4035-beb6-918b39b9f84e",
   "metadata": {},
   "outputs": [],
   "source": [
    "for i in features:\n",
    "    print(i)\n",
    "    print(data_multi[i].value_counts())"
   ]
  },
  {
   "cell_type": "code",
   "execution_count": null,
   "id": "2ced5f5d-9363-42ea-a5bf-0947122ae283",
   "metadata": {},
   "outputs": [],
   "source": [
    "#i guess we could do Fleiss Kappa for each item\n",
    "#where it's dehumanize 0, dehumanize 1, dehumanize 2\n",
    "#these are mutually exclusive"
   ]
  },
  {
   "cell_type": "code",
   "execution_count": null,
   "id": "5460a387-ca2d-4b4a-9ce6-4013ef50846d",
   "metadata": {},
   "outputs": [],
   "source": [
    "#then we would have like 9 fleiss kapa (one for each item)\n",
    "#still the problem of how to divide into different subgroups?\n"
   ]
  },
  {
   "cell_type": "code",
   "execution_count": null,
   "id": "be0c93ba-b80b-4992-b96a-62231ce568c1",
   "metadata": {},
   "outputs": [],
   "source": [
    "#is there something besides fleiss' kappa that we want ot use?"
   ]
  },
  {
   "cell_type": "code",
   "execution_count": null,
   "id": "74d5a9cb-8de3-4d8e-804f-c19f8f67b212",
   "metadata": {},
   "outputs": [],
   "source": [
    "data_combo"
   ]
  },
  {
   "cell_type": "code",
   "execution_count": null,
   "id": "78d78427-35c7-4b36-b138-9395099f996a",
   "metadata": {},
   "outputs": [],
   "source": [
    "data_combo.iloc[:, 0:5]"
   ]
  },
  {
   "cell_type": "code",
   "execution_count": null,
   "id": "84eaaa90-54a7-4718-a610-90cf091bc104",
   "metadata": {},
   "outputs": [],
   "source": [
    "points = [1, 4, 2, 9, 7, 8, 9, 3, 1]\n",
    "\n",
    "x = points.count(9)\n",
    "x"
   ]
  },
  {
   "cell_type": "code",
   "execution_count": null,
   "id": "5c6f11a6-eb97-4efb-b18b-7cd32d9acf85",
   "metadata": {},
   "outputs": [],
   "source": [
    "data_multi[data_multi['sentiment'] == 0]['sentiment'].count()"
   ]
  },
  {
   "cell_type": "code",
   "execution_count": null,
   "id": "c5f68052-bcfb-414f-a7ba-f30ca52375b5",
   "metadata": {},
   "outputs": [],
   "source": [
    "# comment = []\n",
    "# for score in data_multi['sentiment']:\n",
    "#     comment.append(score)\n",
    "# comment"
   ]
  },
  {
   "cell_type": "code",
   "execution_count": null,
   "id": "82a52046-6c0c-4b9a-9bf0-943824d7ab1e",
   "metadata": {},
   "outputs": [],
   "source": [
    "data_multi['comment_id']"
   ]
  },
  {
   "cell_type": "code",
   "execution_count": 5,
   "id": "e9dee15b-c055-47a2-b798-f9d9bfb1b231",
   "metadata": {},
   "outputs": [
    {
     "data": {
      "text/plain": [
       "[1.0    4\n",
       " 0.0    1\n",
       " Name: sentiment, dtype: int64]"
      ]
     },
     "execution_count": 5,
     "metadata": {},
     "output_type": "execute_result"
    }
   ],
   "source": [
    "x = []\n",
    "x.append(data_multi[data_multi['comment_id'] == 47777]['sentiment'].value_counts())\n",
    "type(x)\n",
    "x"
   ]
  },
  {
   "cell_type": "code",
   "execution_count": 6,
   "id": "e55932ba-f328-433d-8c25-b8081dac321a",
   "metadata": {},
   "outputs": [
    {
     "data": {
      "text/plain": [
       "range(0, 5)"
      ]
     },
     "execution_count": 6,
     "metadata": {},
     "output_type": "execute_result"
    }
   ],
   "source": [
    "range(len(data_multi['sentiment'].value_counts()))"
   ]
  },
  {
   "cell_type": "code",
   "execution_count": 8,
   "id": "534b4c68-1cc5-4e17-bb66-e6e94cb01c1d",
   "metadata": {},
   "outputs": [],
   "source": [
    "# {comment_id: {0: 1, 1:3, 2:0, 4:1}}"
   ]
  },
  {
   "cell_type": "code",
   "execution_count": 9,
   "id": "d2abc251-6b97-4ac4-a4b6-dc4a602b2d2f",
   "metadata": {},
   "outputs": [
    {
     "data": {
      "text/plain": [
       "Float64Index([3.0, 2.0], dtype='float64')"
      ]
     },
     "execution_count": 9,
     "metadata": {},
     "output_type": "execute_result"
    }
   ],
   "source": [
    "data_multi[data_multi['comment_id'] == comment]['sentiment'].value_counts().index\n",
    "    "
   ]
  },
  {
   "cell_type": "code",
   "execution_count": 10,
   "id": "0e242503-ebcb-4761-a3fb-fbcf2771afb0",
   "metadata": {},
   "outputs": [
    {
     "data": {
      "text/plain": [
       "range(0, 2)"
      ]
     },
     "execution_count": 10,
     "metadata": {},
     "output_type": "execute_result"
    }
   ],
   "source": [
    "range(len(data_multi[data_multi['comment_id'] == comment]['sentiment'].value_counts()))"
   ]
  },
  {
   "cell_type": "code",
   "execution_count": 16,
   "id": "be551898-3b04-4034-8bd4-1b3f6c227526",
   "metadata": {},
   "outputs": [
    {
     "data": {
      "text/plain": [
       "<enumerate at 0x7f3f246a5d40>"
      ]
     },
     "execution_count": 16,
     "metadata": {},
     "output_type": "execute_result"
    }
   ],
   "source": [
    "enumerate(data_multi[data_multi['comment_id'] == 47777]['sentiment'].value_counts().index.tolist())"
   ]
  },
  {
   "cell_type": "code",
   "execution_count": 65,
   "id": "c84b941b-b19f-4059-bec5-17f0f338925f",
   "metadata": {},
   "outputs": [],
   "source": [
    "out_score = []\n",
    "out_counts = []\n",
    "\n",
    "for score, idx in enumerate(data_multi[data_multi['comment_id'] == 47777]['sentiment'].value_counts().index.tolist()):\n",
    "                      \n",
    "    out_score.append(score)\n",
    "    counts = data_multi[data_multi['comment_id'] == 47777]['sentiment'].value_counts()[idx]\n",
    "    out_counts.append(counts)\n",
    "    \n"
   ]
  },
  {
   "cell_type": "code",
   "execution_count": 66,
   "id": "cda9fef6-456f-4ed8-944e-49e05371f862",
   "metadata": {},
   "outputs": [
    {
     "name": "stdout",
     "output_type": "stream",
     "text": [
      "[0, 1]\n",
      "[4, 1]\n"
     ]
    }
   ],
   "source": [
    "print(out_score)\n",
    "print(out_counts)\n"
   ]
  },
  {
   "cell_type": "code",
   "execution_count": 67,
   "id": "928666ce-7c38-4ecf-a78d-8a7907ed5ba0",
   "metadata": {},
   "outputs": [
    {
     "name": "stdout",
     "output_type": "stream",
     "text": [
      "[1, 4]\n"
     ]
    }
   ],
   "source": [
    "out_counts.sort()\n",
    "print(out_counts)"
   ]
  },
  {
   "cell_type": "code",
   "execution_count": null,
   "id": "961715ce-7230-4af2-ab90-cb9ecd54d9be",
   "metadata": {},
   "outputs": [],
   "source": []
  },
  {
   "cell_type": "code",
   "execution_count": 68,
   "id": "3b47689f-84a5-40c3-af59-60f596f9faac",
   "metadata": {},
   "outputs": [
    {
     "data": {
      "text/plain": [
       "{0: 1, 1: 4}"
      ]
     },
     "execution_count": 68,
     "metadata": {},
     "output_type": "execute_result"
    }
   ],
   "source": [
    "out_dict = dict(zip(out_score, out_counts))\n",
    "out_dict"
   ]
  },
  {
   "cell_type": "code",
   "execution_count": 70,
   "id": "cb1fc293-5676-4657-a40f-9c272adf85a0",
   "metadata": {},
   "outputs": [
    {
     "data": {
      "text/plain": [
       "{47777: 0}"
      ]
     },
     "execution_count": 70,
     "metadata": {},
     "output_type": "execute_result"
    }
   ],
   "source": [
    "out_comment = [47777]\n",
    "\n",
    "dict(zip(out_comment, out_dict))"
   ]
  },
  {
   "cell_type": "code",
   "execution_count": null,
   "id": "9b8edaab-3351-4ba4-9390-094237920f13",
   "metadata": {},
   "outputs": [],
   "source": []
  },
  {
   "cell_type": "code",
   "execution_count": 3,
   "id": "adc61b9a-5d13-4193-8d61-d1879c82d5c3",
   "metadata": {},
   "outputs": [
    {
     "name": "stdout",
     "output_type": "stream",
     "text": [
      "4\n",
      "1\n"
     ]
    }
   ],
   "source": [
    "for i in range(len(data_multi[data_multi['comment_id'] == 47777]['sentiment'].value_counts())):\n",
    "    print(data_multi[data_multi['comment_id'] == 47777]['sentiment'].value_counts().to_list()[i])"
   ]
  },
  {
   "cell_type": "code",
   "execution_count": 14,
   "id": "c1b70b57-a209-403a-b2a3-4f9c82ac65c8",
   "metadata": {},
   "outputs": [
    {
     "data": {
      "text/plain": [
       "1.0    4\n",
       "0.0    1\n",
       "Name: sentiment, dtype: int64"
      ]
     },
     "execution_count": 14,
     "metadata": {},
     "output_type": "execute_result"
    }
   ],
   "source": [
    "data_multi[data_multi['comment_id'] == 47777]['sentiment'].value_counts()"
   ]
  },
  {
   "cell_type": "code",
   "execution_count": 7,
   "id": "b74724fd-891f-474a-b0b6-facd4750a6e9",
   "metadata": {},
   "outputs": [
    {
     "data": {
      "text/plain": [
       "{0: 4, 1: 1}"
      ]
     },
     "execution_count": 7,
     "metadata": {},
     "output_type": "execute_result"
    }
   ],
   "source": [
    "dictionary_valuecounts = {}\n",
    "keys = range(len(data_multi[data_multi['comment_id'] == 47777]['sentiment'].value_counts()))\n",
    "\n",
    "for i in keys:\n",
    "    values = data_multi[data_multi['comment_id'] == 47777]['sentiment'].value_counts().to_list()\n",
    "    dictionary_valuecounts[i] = values[i]\n",
    "\n",
    "dictionary_valuecounts"
   ]
  },
  {
   "cell_type": "code",
   "execution_count": 15,
   "id": "c6f47f6f-16c3-48d3-a7b3-2fc1208376c9",
   "metadata": {},
   "outputs": [],
   "source": [
    "# for comment in data_multi['comment_id']:\n",
    "#     keys = range(len(data_multi[data_multi['comment_id'] == comment]['sentiment'].value_counts()))"
   ]
  },
  {
   "cell_type": "code",
   "execution_count": 5,
   "id": "c227a77e-a02f-4cee-aff2-3ee9a175fc66",
   "metadata": {},
   "outputs": [],
   "source": [
    "#this is a list comprehension\n",
    "#[range(len(data_multi[data_multi['comment_id'] == comment]['sentiment'].value_counts())) for comment in data_multi['comment_id']]"
   ]
  },
  {
   "cell_type": "code",
   "execution_count": 4,
   "id": "0e462562-073f-4bfd-a2c4-2ff4ba43bd46",
   "metadata": {},
   "outputs": [
    {
     "ename": "KeyboardInterrupt",
     "evalue": "",
     "output_type": "error",
     "traceback": [
      "\u001b[0;31m---------------------------------------------------------------------------\u001b[0m",
      "\u001b[0;31mKeyboardInterrupt\u001b[0m                         Traceback (most recent call last)",
      "\u001b[0;32m<ipython-input-4-2bb89eb48c1b>\u001b[0m in \u001b[0;36m<module>\u001b[0;34m\u001b[0m\n\u001b[1;32m      2\u001b[0m \u001b[0mdictionary_valuecounts\u001b[0m \u001b[0;34m=\u001b[0m \u001b[0;34m{\u001b[0m\u001b[0;34m}\u001b[0m\u001b[0;34m\u001b[0m\u001b[0;34m\u001b[0m\u001b[0m\n\u001b[1;32m      3\u001b[0m \u001b[0;32mfor\u001b[0m \u001b[0mcomment\u001b[0m \u001b[0;32min\u001b[0m \u001b[0mdata_multi\u001b[0m\u001b[0;34m[\u001b[0m\u001b[0;34m'comment_id'\u001b[0m\u001b[0;34m]\u001b[0m\u001b[0;34m:\u001b[0m\u001b[0;34m\u001b[0m\u001b[0;34m\u001b[0m\u001b[0m\n\u001b[0;32m----> 4\u001b[0;31m     \u001b[0mkeys\u001b[0m \u001b[0;34m=\u001b[0m \u001b[0mrange\u001b[0m\u001b[0;34m(\u001b[0m\u001b[0mlen\u001b[0m\u001b[0;34m(\u001b[0m\u001b[0mdata_multi\u001b[0m\u001b[0;34m[\u001b[0m\u001b[0mdata_multi\u001b[0m\u001b[0;34m[\u001b[0m\u001b[0;34m'comment_id'\u001b[0m\u001b[0;34m]\u001b[0m \u001b[0;34m==\u001b[0m \u001b[0mcomment\u001b[0m\u001b[0;34m]\u001b[0m\u001b[0;34m[\u001b[0m\u001b[0;34m'sentiment'\u001b[0m\u001b[0;34m]\u001b[0m\u001b[0;34m.\u001b[0m\u001b[0mvalue_counts\u001b[0m\u001b[0;34m(\u001b[0m\u001b[0;34m)\u001b[0m\u001b[0;34m)\u001b[0m\u001b[0;34m)\u001b[0m\u001b[0;34m\u001b[0m\u001b[0;34m\u001b[0m\u001b[0m\n\u001b[0m\u001b[1;32m      5\u001b[0m \u001b[0;31m#     comment_id.append(comment)\u001b[0m\u001b[0;34m\u001b[0m\u001b[0;34m\u001b[0m\u001b[0;34m\u001b[0m\u001b[0m\n\u001b[1;32m      6\u001b[0m \u001b[0;34m\u001b[0m\u001b[0m\n",
      "\u001b[0;32m~/miniconda3/envs/hatespeech/lib/python3.9/site-packages/pandas/core/base.py\u001b[0m in \u001b[0;36mvalue_counts\u001b[0;34m(self, normalize, sort, ascending, bins, dropna)\u001b[0m\n\u001b[1;32m   1025\u001b[0m         \u001b[0mdtype\u001b[0m\u001b[0;34m:\u001b[0m \u001b[0mint64\u001b[0m\u001b[0;34m\u001b[0m\u001b[0;34m\u001b[0m\u001b[0m\n\u001b[1;32m   1026\u001b[0m         \"\"\"\n\u001b[0;32m-> 1027\u001b[0;31m         result = value_counts(\n\u001b[0m\u001b[1;32m   1028\u001b[0m             \u001b[0mself\u001b[0m\u001b[0;34m,\u001b[0m\u001b[0;34m\u001b[0m\u001b[0;34m\u001b[0m\u001b[0m\n\u001b[1;32m   1029\u001b[0m             \u001b[0msort\u001b[0m\u001b[0;34m=\u001b[0m\u001b[0msort\u001b[0m\u001b[0;34m,\u001b[0m\u001b[0;34m\u001b[0m\u001b[0;34m\u001b[0m\u001b[0m\n",
      "\u001b[0;32m~/miniconda3/envs/hatespeech/lib/python3.9/site-packages/pandas/core/algorithms.py\u001b[0m in \u001b[0;36mvalue_counts\u001b[0;34m(values, sort, ascending, normalize, bins, dropna)\u001b[0m\n\u001b[1;32m    823\u001b[0m \u001b[0;34m\u001b[0m\u001b[0m\n\u001b[1;32m    824\u001b[0m     \u001b[0;32mif\u001b[0m \u001b[0msort\u001b[0m\u001b[0;34m:\u001b[0m\u001b[0;34m\u001b[0m\u001b[0;34m\u001b[0m\u001b[0m\n\u001b[0;32m--> 825\u001b[0;31m         \u001b[0mresult\u001b[0m \u001b[0;34m=\u001b[0m \u001b[0mresult\u001b[0m\u001b[0;34m.\u001b[0m\u001b[0msort_values\u001b[0m\u001b[0;34m(\u001b[0m\u001b[0mascending\u001b[0m\u001b[0;34m=\u001b[0m\u001b[0mascending\u001b[0m\u001b[0;34m)\u001b[0m\u001b[0;34m\u001b[0m\u001b[0;34m\u001b[0m\u001b[0m\n\u001b[0m\u001b[1;32m    826\u001b[0m \u001b[0;34m\u001b[0m\u001b[0m\n\u001b[1;32m    827\u001b[0m     \u001b[0;32mif\u001b[0m \u001b[0mnormalize\u001b[0m\u001b[0;34m:\u001b[0m\u001b[0;34m\u001b[0m\u001b[0;34m\u001b[0m\u001b[0m\n",
      "\u001b[0;32m~/miniconda3/envs/hatespeech/lib/python3.9/site-packages/pandas/core/series.py\u001b[0m in \u001b[0;36msort_values\u001b[0;34m(self, axis, ascending, inplace, kind, na_position, ignore_index, key)\u001b[0m\n\u001b[1;32m   3263\u001b[0m         \u001b[0msorted_index\u001b[0m \u001b[0;34m=\u001b[0m \u001b[0mnargsort\u001b[0m\u001b[0;34m(\u001b[0m\u001b[0mvalues_to_sort\u001b[0m\u001b[0;34m,\u001b[0m \u001b[0mkind\u001b[0m\u001b[0;34m,\u001b[0m \u001b[0mbool\u001b[0m\u001b[0;34m(\u001b[0m\u001b[0mascending\u001b[0m\u001b[0;34m)\u001b[0m\u001b[0;34m,\u001b[0m \u001b[0mna_position\u001b[0m\u001b[0;34m)\u001b[0m\u001b[0;34m\u001b[0m\u001b[0;34m\u001b[0m\u001b[0m\n\u001b[1;32m   3264\u001b[0m \u001b[0;34m\u001b[0m\u001b[0m\n\u001b[0;32m-> 3265\u001b[0;31m         result = self._constructor(\n\u001b[0m\u001b[1;32m   3266\u001b[0m             \u001b[0mself\u001b[0m\u001b[0;34m.\u001b[0m\u001b[0m_values\u001b[0m\u001b[0;34m[\u001b[0m\u001b[0msorted_index\u001b[0m\u001b[0;34m]\u001b[0m\u001b[0;34m,\u001b[0m \u001b[0mindex\u001b[0m\u001b[0;34m=\u001b[0m\u001b[0mself\u001b[0m\u001b[0;34m.\u001b[0m\u001b[0mindex\u001b[0m\u001b[0;34m[\u001b[0m\u001b[0msorted_index\u001b[0m\u001b[0;34m]\u001b[0m\u001b[0;34m\u001b[0m\u001b[0;34m\u001b[0m\u001b[0m\n\u001b[1;32m   3267\u001b[0m         )\n",
      "\u001b[0;32m~/miniconda3/envs/hatespeech/lib/python3.9/site-packages/pandas/core/series.py\u001b[0m in \u001b[0;36m__init__\u001b[0;34m(self, data, index, dtype, name, copy, fastpath)\u001b[0m\n\u001b[1;32m    364\u001b[0m                 \u001b[0mdata\u001b[0m \u001b[0;34m=\u001b[0m \u001b[0msanitize_array\u001b[0m\u001b[0;34m(\u001b[0m\u001b[0mdata\u001b[0m\u001b[0;34m,\u001b[0m \u001b[0mindex\u001b[0m\u001b[0;34m,\u001b[0m \u001b[0mdtype\u001b[0m\u001b[0;34m,\u001b[0m \u001b[0mcopy\u001b[0m\u001b[0;34m,\u001b[0m \u001b[0mraise_cast_failure\u001b[0m\u001b[0;34m=\u001b[0m\u001b[0;32mTrue\u001b[0m\u001b[0;34m)\u001b[0m\u001b[0;34m\u001b[0m\u001b[0;34m\u001b[0m\u001b[0m\n\u001b[1;32m    365\u001b[0m \u001b[0;34m\u001b[0m\u001b[0m\n\u001b[0;32m--> 366\u001b[0;31m                 \u001b[0mdata\u001b[0m \u001b[0;34m=\u001b[0m \u001b[0mSingleBlockManager\u001b[0m\u001b[0;34m.\u001b[0m\u001b[0mfrom_array\u001b[0m\u001b[0;34m(\u001b[0m\u001b[0mdata\u001b[0m\u001b[0;34m,\u001b[0m \u001b[0mindex\u001b[0m\u001b[0;34m)\u001b[0m\u001b[0;34m\u001b[0m\u001b[0;34m\u001b[0m\u001b[0m\n\u001b[0m\u001b[1;32m    367\u001b[0m \u001b[0;34m\u001b[0m\u001b[0m\n\u001b[1;32m    368\u001b[0m         \u001b[0mgeneric\u001b[0m\u001b[0;34m.\u001b[0m\u001b[0mNDFrame\u001b[0m\u001b[0;34m.\u001b[0m\u001b[0m__init__\u001b[0m\u001b[0;34m(\u001b[0m\u001b[0mself\u001b[0m\u001b[0;34m,\u001b[0m \u001b[0mdata\u001b[0m\u001b[0;34m)\u001b[0m\u001b[0;34m\u001b[0m\u001b[0;34m\u001b[0m\u001b[0m\n",
      "\u001b[0;32m~/miniconda3/envs/hatespeech/lib/python3.9/site-packages/pandas/core/internals/managers.py\u001b[0m in \u001b[0;36mfrom_array\u001b[0;34m(cls, array, index)\u001b[0m\n\u001b[1;32m   1580\u001b[0m         \u001b[0mConstructor\u001b[0m \u001b[0;32mfor\u001b[0m \u001b[0;32mif\u001b[0m \u001b[0mwe\u001b[0m \u001b[0mhave\u001b[0m \u001b[0man\u001b[0m \u001b[0marray\u001b[0m \u001b[0mthat\u001b[0m \u001b[0;32mis\u001b[0m \u001b[0;32mnot\u001b[0m \u001b[0myet\u001b[0m \u001b[0ma\u001b[0m \u001b[0mBlock\u001b[0m\u001b[0;34m.\u001b[0m\u001b[0;34m\u001b[0m\u001b[0;34m\u001b[0m\u001b[0m\n\u001b[1;32m   1581\u001b[0m         \"\"\"\n\u001b[0;32m-> 1582\u001b[0;31m         \u001b[0mblock\u001b[0m \u001b[0;34m=\u001b[0m \u001b[0mmake_block\u001b[0m\u001b[0;34m(\u001b[0m\u001b[0marray\u001b[0m\u001b[0;34m,\u001b[0m \u001b[0mplacement\u001b[0m\u001b[0;34m=\u001b[0m\u001b[0mslice\u001b[0m\u001b[0;34m(\u001b[0m\u001b[0;36m0\u001b[0m\u001b[0;34m,\u001b[0m \u001b[0mlen\u001b[0m\u001b[0;34m(\u001b[0m\u001b[0mindex\u001b[0m\u001b[0;34m)\u001b[0m\u001b[0;34m)\u001b[0m\u001b[0;34m,\u001b[0m \u001b[0mndim\u001b[0m\u001b[0;34m=\u001b[0m\u001b[0;36m1\u001b[0m\u001b[0;34m)\u001b[0m\u001b[0;34m\u001b[0m\u001b[0;34m\u001b[0m\u001b[0m\n\u001b[0m\u001b[1;32m   1583\u001b[0m         \u001b[0;32mreturn\u001b[0m \u001b[0mcls\u001b[0m\u001b[0;34m(\u001b[0m\u001b[0mblock\u001b[0m\u001b[0;34m,\u001b[0m \u001b[0mindex\u001b[0m\u001b[0;34m)\u001b[0m\u001b[0;34m\u001b[0m\u001b[0;34m\u001b[0m\u001b[0m\n\u001b[1;32m   1584\u001b[0m \u001b[0;34m\u001b[0m\u001b[0m\n",
      "\u001b[0;32m~/miniconda3/envs/hatespeech/lib/python3.9/site-packages/pandas/core/internals/blocks.py\u001b[0m in \u001b[0;36mmake_block\u001b[0;34m(values, placement, klass, ndim, dtype)\u001b[0m\n\u001b[1;32m   2742\u001b[0m     \u001b[0;32mif\u001b[0m \u001b[0mklass\u001b[0m \u001b[0;32mis\u001b[0m \u001b[0;32mNone\u001b[0m\u001b[0;34m:\u001b[0m\u001b[0;34m\u001b[0m\u001b[0;34m\u001b[0m\u001b[0m\n\u001b[1;32m   2743\u001b[0m         \u001b[0mdtype\u001b[0m \u001b[0;34m=\u001b[0m \u001b[0mdtype\u001b[0m \u001b[0;32mor\u001b[0m \u001b[0mvalues\u001b[0m\u001b[0;34m.\u001b[0m\u001b[0mdtype\u001b[0m\u001b[0;34m\u001b[0m\u001b[0;34m\u001b[0m\u001b[0m\n\u001b[0;32m-> 2744\u001b[0;31m         \u001b[0mklass\u001b[0m \u001b[0;34m=\u001b[0m \u001b[0mget_block_type\u001b[0m\u001b[0;34m(\u001b[0m\u001b[0mvalues\u001b[0m\u001b[0;34m,\u001b[0m \u001b[0mdtype\u001b[0m\u001b[0;34m)\u001b[0m\u001b[0;34m\u001b[0m\u001b[0;34m\u001b[0m\u001b[0m\n\u001b[0m\u001b[1;32m   2745\u001b[0m \u001b[0;34m\u001b[0m\u001b[0m\n\u001b[1;32m   2746\u001b[0m     \u001b[0;32melif\u001b[0m \u001b[0mklass\u001b[0m \u001b[0;32mis\u001b[0m \u001b[0mDatetimeTZBlock\u001b[0m \u001b[0;32mand\u001b[0m \u001b[0;32mnot\u001b[0m \u001b[0mis_datetime64tz_dtype\u001b[0m\u001b[0;34m(\u001b[0m\u001b[0mvalues\u001b[0m\u001b[0;34m.\u001b[0m\u001b[0mdtype\u001b[0m\u001b[0;34m)\u001b[0m\u001b[0;34m:\u001b[0m\u001b[0;34m\u001b[0m\u001b[0;34m\u001b[0m\u001b[0m\n",
      "\u001b[0;32m~/miniconda3/envs/hatespeech/lib/python3.9/site-packages/pandas/core/internals/blocks.py\u001b[0m in \u001b[0;36mget_block_type\u001b[0;34m(values, dtype)\u001b[0m\n\u001b[1;32m   2707\u001b[0m     \u001b[0;32melif\u001b[0m \u001b[0mis_datetime64tz_dtype\u001b[0m\u001b[0;34m(\u001b[0m\u001b[0mvalues\u001b[0m\u001b[0;34m.\u001b[0m\u001b[0mdtype\u001b[0m\u001b[0;34m)\u001b[0m\u001b[0;34m:\u001b[0m\u001b[0;34m\u001b[0m\u001b[0;34m\u001b[0m\u001b[0m\n\u001b[1;32m   2708\u001b[0m         \u001b[0mcls\u001b[0m \u001b[0;34m=\u001b[0m \u001b[0mDatetimeTZBlock\u001b[0m\u001b[0;34m\u001b[0m\u001b[0;34m\u001b[0m\u001b[0m\n\u001b[0;32m-> 2709\u001b[0;31m     \u001b[0;32melif\u001b[0m \u001b[0mis_interval_dtype\u001b[0m\u001b[0;34m(\u001b[0m\u001b[0mdtype\u001b[0m\u001b[0;34m)\u001b[0m \u001b[0;32mor\u001b[0m \u001b[0mis_period_dtype\u001b[0m\u001b[0;34m(\u001b[0m\u001b[0mdtype\u001b[0m\u001b[0;34m)\u001b[0m\u001b[0;34m:\u001b[0m\u001b[0;34m\u001b[0m\u001b[0;34m\u001b[0m\u001b[0m\n\u001b[0m\u001b[1;32m   2710\u001b[0m         \u001b[0mcls\u001b[0m \u001b[0;34m=\u001b[0m \u001b[0mObjectValuesExtensionBlock\u001b[0m\u001b[0;34m\u001b[0m\u001b[0;34m\u001b[0m\u001b[0m\n\u001b[1;32m   2711\u001b[0m     \u001b[0;32melif\u001b[0m \u001b[0mis_extension_array_dtype\u001b[0m\u001b[0;34m(\u001b[0m\u001b[0mvalues\u001b[0m\u001b[0;34m.\u001b[0m\u001b[0mdtype\u001b[0m\u001b[0;34m)\u001b[0m\u001b[0;34m:\u001b[0m\u001b[0;34m\u001b[0m\u001b[0;34m\u001b[0m\u001b[0m\n",
      "\u001b[0;32m~/miniconda3/envs/hatespeech/lib/python3.9/site-packages/pandas/core/dtypes/common.py\u001b[0m in \u001b[0;36mis_interval_dtype\u001b[0;34m(arr_or_dtype)\u001b[0m\n\u001b[1;32m    532\u001b[0m     \u001b[0;32mif\u001b[0m \u001b[0marr_or_dtype\u001b[0m \u001b[0;32mis\u001b[0m \u001b[0;32mNone\u001b[0m\u001b[0;34m:\u001b[0m\u001b[0;34m\u001b[0m\u001b[0;34m\u001b[0m\u001b[0m\n\u001b[1;32m    533\u001b[0m         \u001b[0;32mreturn\u001b[0m \u001b[0;32mFalse\u001b[0m\u001b[0;34m\u001b[0m\u001b[0;34m\u001b[0m\u001b[0m\n\u001b[0;32m--> 534\u001b[0;31m     \u001b[0;32mreturn\u001b[0m \u001b[0mIntervalDtype\u001b[0m\u001b[0;34m.\u001b[0m\u001b[0mis_dtype\u001b[0m\u001b[0;34m(\u001b[0m\u001b[0marr_or_dtype\u001b[0m\u001b[0;34m)\u001b[0m\u001b[0;34m\u001b[0m\u001b[0;34m\u001b[0m\u001b[0m\n\u001b[0m\u001b[1;32m    535\u001b[0m \u001b[0;34m\u001b[0m\u001b[0m\n\u001b[1;32m    536\u001b[0m \u001b[0;34m\u001b[0m\u001b[0m\n",
      "\u001b[0;32m~/miniconda3/envs/hatespeech/lib/python3.9/site-packages/pandas/core/dtypes/dtypes.py\u001b[0m in \u001b[0;36mis_dtype\u001b[0;34m(cls, dtype)\u001b[0m\n\u001b[1;32m   1147\u001b[0m             \u001b[0;32melse\u001b[0m\u001b[0;34m:\u001b[0m\u001b[0;34m\u001b[0m\u001b[0;34m\u001b[0m\u001b[0m\n\u001b[1;32m   1148\u001b[0m                 \u001b[0;32mreturn\u001b[0m \u001b[0;32mFalse\u001b[0m\u001b[0;34m\u001b[0m\u001b[0;34m\u001b[0m\u001b[0m\n\u001b[0;32m-> 1149\u001b[0;31m         \u001b[0;32mreturn\u001b[0m \u001b[0msuper\u001b[0m\u001b[0;34m(\u001b[0m\u001b[0;34m)\u001b[0m\u001b[0;34m.\u001b[0m\u001b[0mis_dtype\u001b[0m\u001b[0;34m(\u001b[0m\u001b[0mdtype\u001b[0m\u001b[0;34m)\u001b[0m\u001b[0;34m\u001b[0m\u001b[0;34m\u001b[0m\u001b[0m\n\u001b[0m\u001b[1;32m   1150\u001b[0m \u001b[0;34m\u001b[0m\u001b[0m\n\u001b[1;32m   1151\u001b[0m     def __from_arrow__(\n",
      "\u001b[0;31mKeyboardInterrupt\u001b[0m: "
     ]
    }
   ],
   "source": [
    "\n",
    "comment_id = []\n",
    "dictionary_valuecounts = {}\n",
    "for comment in data_multi['comment_id']:\n",
    "    keys = range(len(data_multi[data_multi['comment_id'] == comment]['sentiment'].value_counts()))\n",
    "#     comment_id.append(comment)\n",
    "    \n",
    "    for i in keys:\n",
    "        values = data_multi[data_multi['comment_id'] == comment]['sentiment'].value_counts().to_list()\n",
    "#         dictionary_valuecounts[i] = values[i] #this is the key value pair addition\n",
    "    \n",
    "        \n",
    "    \n",
    "# print(dictionary_valuecounts)  "
   ]
  },
  {
   "cell_type": "code",
   "execution_count": null,
   "id": "de943422-a697-491d-8bcf-f218f7125eaa",
   "metadata": {},
   "outputs": [],
   "source": [
    "dictionary_fleiss = dict(zip(comment_id, dictionary_valuecounts))"
   ]
  },
  {
   "cell_type": "code",
   "execution_count": null,
   "id": "bfdfd201-1637-45ba-b7ef-6c40730095b2",
   "metadata": {},
   "outputs": [],
   "source": []
  },
  {
   "cell_type": "code",
   "execution_count": null,
   "id": "d4de20ad-47d1-4072-89c4-b67831df5c4e",
   "metadata": {},
   "outputs": [],
   "source": [
    "for i in data_multi['sentiment'].value_counts():\n",
    "    print(i)\n",
    "for j in data_multi['sentiment'].value_counts().index:\n",
    "    print(j)\n",
    "        "
   ]
  },
  {
   "cell_type": "code",
   "execution_count": null,
   "id": "601343fa-8bc5-489e-ab8f-e98f1e28daa0",
   "metadata": {},
   "outputs": [],
   "source": []
  },
  {
   "cell_type": "code",
   "execution_count": null,
   "id": "74fde53d-df95-406f-aaf7-80c7e135fd57",
   "metadata": {},
   "outputs": [],
   "source": [
    "data_multi['sentiment'].value_counts().index"
   ]
  },
  {
   "cell_type": "code",
   "execution_count": null,
   "id": "eaadc4b6-9c42-45a3-8b28-d1c61c553228",
   "metadata": {},
   "outputs": [],
   "source": []
  }
 ],
 "metadata": {
  "kernelspec": {
   "display_name": "Python 3",
   "language": "python",
   "name": "python3"
  },
  "language_info": {
   "codemirror_mode": {
    "name": "ipython",
    "version": 3
   },
   "file_extension": ".py",
   "mimetype": "text/x-python",
   "name": "python",
   "nbconvert_exporter": "python",
   "pygments_lexer": "ipython3",
   "version": "3.9.5"
  }
 },
 "nbformat": 4,
 "nbformat_minor": 5
}
