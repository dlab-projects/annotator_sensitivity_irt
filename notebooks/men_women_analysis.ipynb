{
 "cells": [
  {
   "cell_type": "code",
   "execution_count": null,
   "metadata": {},
   "outputs": [],
   "source": [
    "import matplotlib.pyplot as plt\n",
    "import mpl_lego as mplego\n",
    "import numpy as np\n",
    "import pandas as pd\n",
    "\n",
    "from scipy.stats import mannwhitneyu\n",
    "\n",
    "from hatespeech import utils\n",
    "from hatespeech.keys import (items,\n",
    "                             annotator_gender,\n",
    "                             annotator_gender_col,\n",
    "                             col_to_gender)\n",
    "from mpl_lego.colorbar import append_colorbar_to_axis\n",
    "\n",
    "%matplotlib inline"
   ]
  },
  {
   "cell_type": "code",
   "execution_count": null,
   "metadata": {},
   "outputs": [],
   "source": [
    "mplego.style.use_latex_style()"
   ]
  },
  {
   "cell_type": "code",
   "execution_count": null,
   "metadata": {},
   "outputs": [],
   "source": [
    "#data_path = '/home/psachdeva/data/scaled-facets-multi-50k-v4.feather'\n",
    "data_path = '~/data/hatespeech/scaled-facets-multi-50k-v4.feather'"
   ]
  },
  {
   "cell_type": "code",
   "execution_count": null,
   "metadata": {},
   "outputs": [],
   "source": [
    "data = pd.read_feather(data_path).rename(columns={'violence_phys': 'violence'})"
   ]
  },
  {
   "cell_type": "code",
   "execution_count": null,
   "metadata": {},
   "outputs": [],
   "source": [
    "reference_set = data[data['platform'] == 'reference'].copy()"
   ]
  },
  {
   "cell_type": "code",
   "execution_count": null,
   "metadata": {},
   "outputs": [],
   "source": [
    "print(f'Number of unique reference set comments: {reference_set[\"comment_id\"].unique().size}')\n",
    "print(f'Number of samples in reference set: {reference_set.shape[0]}')"
   ]
  },
  {
   "cell_type": "code",
   "execution_count": null,
   "metadata": {},
   "outputs": [],
   "source": [
    "reference_mw = reference_set[\n",
    "    (reference_set[annotator_gender_col] == annotator_gender['male']) | \n",
    "    (reference_set[annotator_gender_col] == annotator_gender['female'])\n",
    "]\n",
    "reference_mw = utils.filter_comments_targeting_mw(reference_mw, threshold=0.5)"
   ]
  },
  {
   "cell_type": "code",
   "execution_count": null,
   "metadata": {},
   "outputs": [],
   "source": [
    "reference_mw_targeting_w = reference_mw[reference_mw['target_women']].copy()\n",
    "reference_mw_targeting_m = reference_mw[~reference_mw['target_women']].copy()"
   ]
  },
  {
   "cell_type": "code",
   "execution_count": null,
   "metadata": {},
   "outputs": [],
   "source": [
    "print(f'Number of samples whose annotators are men or women: {reference_mw.shape[0]}')\n",
    "print(f'Number of samples targeting women whose annotators are men or women: {reference_mw_targeting_w.shape[0]}')\n",
    "print(f'Number of samples targeting men whose annotators are men or women: {reference_mw_targeting_m.shape[0]}')\n",
    "print(f'Number of unique comments targeting women: {reference_mw_targeting_w[\"comment_id\"].unique().size}')\n",
    "print(f'Number of unique comments targeting men: {reference_mw_targeting_m[\"comment_id\"].unique().size}')"
   ]
  },
  {
   "cell_type": "code",
   "execution_count": null,
   "metadata": {},
   "outputs": [],
   "source": [
    "reference_mw_targeting_w['annotator_gender'] = np.where(\n",
    "    reference_mw_targeting_w[annotator_gender_col] == annotator_gender['male'],\n",
    "    'male',\n",
    "    'female')"
   ]
  },
  {
   "cell_type": "code",
   "execution_count": null,
   "metadata": {},
   "outputs": [],
   "source": [
    "mw_targeting_w_comments = np.sort(reference_mw_targeting_w['comment_id'].unique())\n",
    "mw_targeting_w_counts = reference_mw_targeting_w.groupby(['comment_id', 'annotator_gender']).count()\n",
    "mw_targeting_w_means = reference_mw_targeting_w.groupby(['comment_id', 'annotator_gender']).mean()[items]\n",
    "mw_targeting_w_diffs = mw_targeting_w_means.diff().query(\"annotator_gender == 'male'\").droplevel('annotator_gender')"
   ]
  },
  {
   "cell_type": "code",
   "execution_count": null,
   "metadata": {},
   "outputs": [],
   "source": [
    "p_values = np.zeros((mw_targeting_w_comments.size, len(items)))\n",
    "\n",
    "for ii, comment_id in enumerate(mw_targeting_w_comments):\n",
    "    for jj, item in enumerate(items):\n",
    "        women_scores = reference_mw_targeting_w[\n",
    "            (reference_mw_targeting_w['comment_id'] == comment_id) &\n",
    "            (reference_mw_targeting_w['annotator_gender'] == 'male')\n",
    "        ][item]\n",
    "        men_scores = reference_mw_targeting_w[\n",
    "            (reference_mw_targeting_w['comment_id'] == comment_id) &\n",
    "            (reference_mw_targeting_w['annotator_gender'] == 'female')\n",
    "        ][item]\n",
    "        try:\n",
    "            p_values[ii, jj] = mannwhitneyu(women_scores, men_scores).pvalue\n",
    "        except:\n",
    "            p_values[ii, jj] = 1\n",
    "        \n",
    "p_values = pd.DataFrame(data=p_values, columns=items, index=mw_targeting_w_comments)"
   ]
  },
  {
   "cell_type": "code",
   "execution_count": null,
   "metadata": {},
   "outputs": [],
   "source": [
    "fig, ax = plt.subplots(1, 1, figsize=(8, 12))\n",
    "\n",
    "img = ax.imshow(mw_targeting_w_diffs, vmin=-0.4, vmax=0.4, cmap='RdGy')\n",
    "cb, cax = append_colorbar_to_axis(ax, img)\n",
    "cb.set_label(r'$\\Delta$item (men - women)', rotation=270, fontsize=20, labelpad=25)\n",
    "cb.ax.tick_params(labelsize=17)\n",
    "\n",
    "for ii in range(p_values.shape[0]):\n",
    "    for jj in range(p_values.shape[1]):\n",
    "        if p_values.iloc[ii, jj] < 0.05:\n",
    "            ax.scatter(jj, ii, marker='x', color='black', s=50)\n",
    "            \n",
    "ax.set_xticks(np.arange(len(items)))\n",
    "ax.set_xticklabels(mplego.labels.bold_text(mplego.labels.fix_labels_for_tex_style(items)), rotation=30, ha='right')\n",
    "ax.set_yticks(np.arange(len(mw_targeting_w_diffs)))\n",
    "ax.set_yticklabels(mw_targeting_w_diffs.index)\n",
    "ax.tick_params(labelsize=16)\n",
    "\n",
    "ax.set_ylabel(r'\\textbf{Comment ID}', fontsize=18)\n",
    "ax.set_xlabel(r'\\textbf{Item}', fontsize=18)\n",
    "ax.tick_params(labelsize=16)\n",
    "plt.savefig('men_v_women_comment_comparison.pdf', bbox_inches='tight')\n",
    "plt.show()"
   ]
  },
  {
   "cell_type": "code",
   "execution_count": null,
   "metadata": {},
   "outputs": [],
   "source": [
    "comments_w_diffs = pd.concat(\n",
    "    [reference_mw_targeting_w[reference_mw_targeting_w['comment_id'].isin(mw_targeting_w_comments)][['comment_id', 'predict_text']].sort_values('comment_id').drop_duplicates().reset_index(drop=True),\n",
    "     (p_values < 0.05).reset_index(drop=True).add_suffix('_sig'),\n",
    "     mw_targeting_w_diffs.reset_index(drop=True).add_suffix('_diff')],\n",
    "    axis=1)"
   ]
  },
  {
   "cell_type": "code",
   "execution_count": null,
   "metadata": {},
   "outputs": [],
   "source": [
    "comments_w_diffs.to_csv('men_v_women_comments.csv')"
   ]
  }
 ],
 "metadata": {
  "kernelspec": {
   "display_name": "hate",
   "language": "python",
   "name": "hate"
  },
  "language_info": {
   "codemirror_mode": {
    "name": "ipython",
    "version": 3
   },
   "file_extension": ".py",
   "mimetype": "text/x-python",
   "name": "python",
   "nbconvert_exporter": "python",
   "pygments_lexer": "ipython3",
   "version": "3.7.9"
  }
 },
 "nbformat": 4,
 "nbformat_minor": 5
}
