{
 "cells": [
  {
   "cell_type": "markdown",
   "metadata": {
    "id": "fCguVfN4CpBp"
   },
   "source": []
  },
  {
   "cell_type": "code",
   "execution_count": 16,
   "metadata": {
    "colab": {
     "base_uri": "https://localhost:8080/"
    },
    "id": "JMebA0df_oYW",
    "outputId": "81a72ef3-2f58-47d6-855a-17e169e0abdc"
   },
   "outputs": [],
   "source": [
    "import numpy as np\n",
    "import pandas as pd\n",
    "import seaborn as sns\n",
    "import csv\n",
    "import os \n",
    "\n",
    "# from google.colab import drive\n",
    "# drive.mount('/content/gdrive')\n",
    "\n",
    "import matplotlib.pyplot as plt\n",
    "%matplotlib inline"
   ]
  },
  {
   "cell_type": "code",
   "execution_count": 5,
   "metadata": {
    "colab": {
     "base_uri": "https://localhost:8080/",
     "height": 345
    },
    "id": "lIQ_L3wIVdDf",
    "outputId": "ae847735-4a70-4a33-e4f4-288633baf4bb"
   },
   "outputs": [],
   "source": [
    "#this is for the analysis on training data distribution \n",
    "#data = pd.read_feather(\"/content/gdrive/Shareddrives/D-Lab Fellows/D-Lab/Projects/Hate Speech 2017-20/Phase 2 2018-2020/Machine Learning/Deep Hate/data-raw/scaled-facets-continuous-rollout-v4.feather\") \n",
    "\n",
    "\n"
   ]
  },
  {
   "cell_type": "code",
   "execution_count": 17,
   "metadata": {
    "colab": {
     "base_uri": "https://localhost:8080/",
     "height": 362
    },
    "id": "uBIb1Y9jxVk2",
    "outputId": "ec80c9ae-c12f-4a8a-d6fb-339ed858ee85"
   },
   "outputs": [],
   "source": [
    "#this is for the analysis on demographic background of raters \n",
    "data_multi = pd.read_feather('/home/rbarreto/data/scaled-facets-multi-50k-v4.feather')\n",
    "\n",
    "#GET THE FILE PATH FROM THE DATA NAME, ADD A \"/\"\n",
    "\n",
    "#os.getcwd() #do this whenever the data doesn't load\n",
    "#os.chdir(\"../\") this is to move up a directory"
   ]
  },
  {
   "cell_type": "code",
   "execution_count": null,
   "metadata": {
    "id": "ZZUyuRXLVv-p"
   },
   "outputs": [],
   "source": [
    "#from google.colab import drive\n",
    "#drive.mount('/content/drive')"
   ]
  },
  {
   "cell_type": "code",
   "execution_count": null,
   "metadata": {
    "colab": {
     "base_uri": "https://localhost:8080/",
     "height": 626
    },
    "id": "g1tOsqSixjcK",
    "outputId": "dcc805a8-30d4-452d-8343-c692fbf07118"
   },
   "outputs": [
    {
     "data": {
      "text/html": [
       "<div>\n",
       "<style scoped>\n",
       "    .dataframe tbody tr th:only-of-type {\n",
       "        vertical-align: middle;\n",
       "    }\n",
       "\n",
       "    .dataframe tbody tr th {\n",
       "        vertical-align: top;\n",
       "    }\n",
       "\n",
       "    .dataframe thead th {\n",
       "        text-align: right;\n",
       "    }\n",
       "</style>\n",
       "<table border=\"1\" class=\"dataframe\">\n",
       "  <thead>\n",
       "    <tr style=\"text-align: right;\">\n",
       "      <th></th>\n",
       "      <th>comment_id</th>\n",
       "      <th>platform</th>\n",
       "      <th>uid</th>\n",
       "      <th>predict_text</th>\n",
       "      <th>measure</th>\n",
       "      <th>std_err</th>\n",
       "      <th>num_ratings</th>\n",
       "      <th>infitms</th>\n",
       "      <th>outfitms</th>\n",
       "      <th>identity</th>\n",
       "      <th>hypothesis</th>\n",
       "    </tr>\n",
       "  </thead>\n",
       "  <tbody>\n",
       "    <tr>\n",
       "      <th>0</th>\n",
       "      <td>21556</td>\n",
       "      <td>twitter</td>\n",
       "      <td>1134110084978675712</td>\n",
       "      <td>Damn [SLUR] bitch get a hobby kind of fuck shi...</td>\n",
       "      <td>0.05</td>\n",
       "      <td>0.60</td>\n",
       "      <td>6</td>\n",
       "      <td>0.52</td>\n",
       "      <td>0.58</td>\n",
       "      <td>0.868539</td>\n",
       "      <td>0.192592</td>\n",
       "    </tr>\n",
       "    <tr>\n",
       "      <th>1</th>\n",
       "      <td>19190</td>\n",
       "      <td>reddit</td>\n",
       "      <td>ew8eh8e</td>\n",
       "      <td>Fuck off back to your Chapo shithole</td>\n",
       "      <td>0.23</td>\n",
       "      <td>0.62</td>\n",
       "      <td>4</td>\n",
       "      <td>0.45</td>\n",
       "      <td>0.44</td>\n",
       "      <td>0.880614</td>\n",
       "      <td>0.367588</td>\n",
       "    </tr>\n",
       "    <tr>\n",
       "      <th>2</th>\n",
       "      <td>3177</td>\n",
       "      <td>reddit</td>\n",
       "      <td>eppgjvg</td>\n",
       "      <td>No, it means you're developing a black man dic...</td>\n",
       "      <td>0.37</td>\n",
       "      <td>0.42</td>\n",
       "      <td>4</td>\n",
       "      <td>1.40</td>\n",
       "      <td>1.10</td>\n",
       "      <td>0.857048</td>\n",
       "      <td>-0.536590</td>\n",
       "    </tr>\n",
       "    <tr>\n",
       "      <th>3</th>\n",
       "      <td>47777</td>\n",
       "      <td>youtube</td>\n",
       "      <td>Ugz2iZCY9nfSWtCyWE14AaABAg</td>\n",
       "      <td>Yes indeed. She sort of reminds me of the elde...</td>\n",
       "      <td>-3.90</td>\n",
       "      <td>0.34</td>\n",
       "      <td>5</td>\n",
       "      <td>0.81</td>\n",
       "      <td>1.88</td>\n",
       "      <td>0.917681</td>\n",
       "      <td>-1.130178</td>\n",
       "    </tr>\n",
       "    <tr>\n",
       "      <th>4</th>\n",
       "      <td>173</td>\n",
       "      <td>reddit</td>\n",
       "      <td>enysnba</td>\n",
       "      <td>I would love to use a double dildo with a bud,...</td>\n",
       "      <td>-2.98</td>\n",
       "      <td>0.37</td>\n",
       "      <td>5</td>\n",
       "      <td>2.35</td>\n",
       "      <td>1.09</td>\n",
       "      <td>0.919640</td>\n",
       "      <td>0.284625</td>\n",
       "    </tr>\n",
       "    <tr>\n",
       "      <th>...</th>\n",
       "      <td>...</td>\n",
       "      <td>...</td>\n",
       "      <td>...</td>\n",
       "      <td>...</td>\n",
       "      <td>...</td>\n",
       "      <td>...</td>\n",
       "      <td>...</td>\n",
       "      <td>...</td>\n",
       "      <td>...</td>\n",
       "      <td>...</td>\n",
       "      <td>...</td>\n",
       "    </tr>\n",
       "    <tr>\n",
       "      <th>41013</th>\n",
       "      <td>22986</td>\n",
       "      <td>twitter</td>\n",
       "      <td>1134939160471580672</td>\n",
       "      <td>Millions of #Yemen-is participated in mass ral...</td>\n",
       "      <td>-4.40</td>\n",
       "      <td>0.35</td>\n",
       "      <td>4</td>\n",
       "      <td>1.30</td>\n",
       "      <td>0.43</td>\n",
       "      <td>0.934007</td>\n",
       "      <td>-0.974684</td>\n",
       "    </tr>\n",
       "    <tr>\n",
       "      <th>41014</th>\n",
       "      <td>14785</td>\n",
       "      <td>reddit</td>\n",
       "      <td>evoy2wi</td>\n",
       "      <td>لا تتشمت الرجال مسكين يعاني كس امه 😂. يقول يال...</td>\n",
       "      <td>-0.20</td>\n",
       "      <td>0.41</td>\n",
       "      <td>4</td>\n",
       "      <td>1.40</td>\n",
       "      <td>1.84</td>\n",
       "      <td>0.931011</td>\n",
       "      <td>-0.265011</td>\n",
       "    </tr>\n",
       "    <tr>\n",
       "      <th>41015</th>\n",
       "      <td>34705</td>\n",
       "      <td>twitter</td>\n",
       "      <td>1156595841013964800</td>\n",
       "      <td>#DSSUpliftsTheThirdGender #EmancipationOfEunuc...</td>\n",
       "      <td>-2.89</td>\n",
       "      <td>0.46</td>\n",
       "      <td>4</td>\n",
       "      <td>0.53</td>\n",
       "      <td>0.32</td>\n",
       "      <td>0.830156</td>\n",
       "      <td>-1.087379</td>\n",
       "    </tr>\n",
       "    <tr>\n",
       "      <th>41016</th>\n",
       "      <td>30588</td>\n",
       "      <td>twitter</td>\n",
       "      <td>1152136813512802304</td>\n",
       "      <td>Umar khalid, sahela rashid, kanhiyan kumar जैस...</td>\n",
       "      <td>-1.69</td>\n",
       "      <td>0.60</td>\n",
       "      <td>5</td>\n",
       "      <td>0.21</td>\n",
       "      <td>0.16</td>\n",
       "      <td>0.898928</td>\n",
       "      <td>-0.296437</td>\n",
       "    </tr>\n",
       "    <tr>\n",
       "      <th>41017</th>\n",
       "      <td>28509</td>\n",
       "      <td>twitter</td>\n",
       "      <td>1138344499120345090</td>\n",
       "      <td>This is beyond race, religion and political in...</td>\n",
       "      <td>-4.26</td>\n",
       "      <td>0.69</td>\n",
       "      <td>6</td>\n",
       "      <td>0.67</td>\n",
       "      <td>0.26</td>\n",
       "      <td>0.949139</td>\n",
       "      <td>-0.932564</td>\n",
       "    </tr>\n",
       "  </tbody>\n",
       "</table>\n",
       "<p>41018 rows × 11 columns</p>\n",
       "</div>"
      ],
      "text/plain": [
       "       comment_id platform  ...  identity hypothesis\n",
       "0           21556  twitter  ...  0.868539   0.192592\n",
       "1           19190   reddit  ...  0.880614   0.367588\n",
       "2            3177   reddit  ...  0.857048  -0.536590\n",
       "3           47777  youtube  ...  0.917681  -1.130178\n",
       "4             173   reddit  ...  0.919640   0.284625\n",
       "...           ...      ...  ...       ...        ...\n",
       "41013       22986  twitter  ...  0.934007  -0.974684\n",
       "41014       14785   reddit  ...  0.931011  -0.265011\n",
       "41015       34705  twitter  ...  0.830156  -1.087379\n",
       "41016       30588  twitter  ...  0.898928  -0.296437\n",
       "41017       28509  twitter  ...  0.949139  -0.932564\n",
       "\n",
       "[41018 rows x 11 columns]"
      ]
     },
     "execution_count": 13,
     "metadata": {
      "tags": []
     },
     "output_type": "execute_result"
    }
   ],
   "source": [
    "#this won't work bc not loaded, but leaving it up to see what is \n",
    "data"
   ]
  },
  {
   "cell_type": "code",
   "execution_count": 6,
   "metadata": {
    "colab": {
     "base_uri": "https://localhost:8080/",
     "height": 884
    },
    "id": "_Phlpv_YaEmO",
    "outputId": "f15cc37e-5c64-45b0-c9c9-e941c4fce9a9"
   },
   "outputs": [
    {
     "data": {
      "text/html": [
       "<div>\n",
       "<style scoped>\n",
       "    .dataframe tbody tr th:only-of-type {\n",
       "        vertical-align: middle;\n",
       "    }\n",
       "\n",
       "    .dataframe tbody tr th {\n",
       "        vertical-align: top;\n",
       "    }\n",
       "\n",
       "    .dataframe thead th {\n",
       "        text-align: right;\n",
       "    }\n",
       "</style>\n",
       "<table border=\"1\" class=\"dataframe\">\n",
       "  <thead>\n",
       "    <tr style=\"text-align: right;\">\n",
       "      <th></th>\n",
       "      <th>sentiment</th>\n",
       "      <th>respect</th>\n",
       "      <th>insult</th>\n",
       "      <th>humiliate</th>\n",
       "      <th>status</th>\n",
       "      <th>dehumanize</th>\n",
       "      <th>violence_phys</th>\n",
       "      <th>genocide</th>\n",
       "      <th>attack_defend</th>\n",
       "      <th>hatespeech</th>\n",
       "      <th>...</th>\n",
       "      <th>demo_sexual_orien_2</th>\n",
       "      <th>demo_sexual_orien_3</th>\n",
       "      <th>demo_sexual_orien_4</th>\n",
       "      <th>demo_sexual_orien_5</th>\n",
       "      <th>demo_sexual_orien_4_text</th>\n",
       "      <th>demo_ideology</th>\n",
       "      <th>locationlatitude</th>\n",
       "      <th>locationlongitude</th>\n",
       "      <th>identity</th>\n",
       "      <th>hypothesis</th>\n",
       "    </tr>\n",
       "  </thead>\n",
       "  <tbody>\n",
       "    <tr>\n",
       "      <th>0</th>\n",
       "      <td>0.0</td>\n",
       "      <td>0.0</td>\n",
       "      <td>0.0</td>\n",
       "      <td>0.0</td>\n",
       "      <td>0.0</td>\n",
       "      <td>0.0</td>\n",
       "      <td>0.0</td>\n",
       "      <td>0.0</td>\n",
       "      <td>0.0</td>\n",
       "      <td>0.0</td>\n",
       "      <td>...</td>\n",
       "      <td>NaN</td>\n",
       "      <td>NaN</td>\n",
       "      <td>NaN</td>\n",
       "      <td>NaN</td>\n",
       "      <td></td>\n",
       "      <td>4.0</td>\n",
       "      <td>37.55029296875</td>\n",
       "      <td>-77.39420318603515625</td>\n",
       "      <td>0.917681</td>\n",
       "      <td>-1.130178</td>\n",
       "    </tr>\n",
       "    <tr>\n",
       "      <th>1</th>\n",
       "      <td>0.0</td>\n",
       "      <td>0.0</td>\n",
       "      <td>0.0</td>\n",
       "      <td>0.0</td>\n",
       "      <td>0.0</td>\n",
       "      <td>0.0</td>\n",
       "      <td>0.0</td>\n",
       "      <td>0.0</td>\n",
       "      <td>1.0</td>\n",
       "      <td>0.0</td>\n",
       "      <td>...</td>\n",
       "      <td>NaN</td>\n",
       "      <td>NaN</td>\n",
       "      <td>NaN</td>\n",
       "      <td>NaN</td>\n",
       "      <td></td>\n",
       "      <td>4.0</td>\n",
       "      <td>32.9568939208984375</td>\n",
       "      <td>-96.83170318603515625</td>\n",
       "      <td>0.918119</td>\n",
       "      <td>-1.146973</td>\n",
       "    </tr>\n",
       "    <tr>\n",
       "      <th>2</th>\n",
       "      <td>4.0</td>\n",
       "      <td>4.0</td>\n",
       "      <td>3.0</td>\n",
       "      <td>2.0</td>\n",
       "      <td>1.0</td>\n",
       "      <td>1.0</td>\n",
       "      <td>0.0</td>\n",
       "      <td>0.0</td>\n",
       "      <td>3.0</td>\n",
       "      <td>1.0</td>\n",
       "      <td>...</td>\n",
       "      <td>NaN</td>\n",
       "      <td>NaN</td>\n",
       "      <td>NaN</td>\n",
       "      <td>NaN</td>\n",
       "      <td></td>\n",
       "      <td>5.0</td>\n",
       "      <td>39.3361053466796875</td>\n",
       "      <td>-76.53890228271484375</td>\n",
       "      <td>0.985910</td>\n",
       "      <td>-0.207369</td>\n",
       "    </tr>\n",
       "    <tr>\n",
       "      <th>3</th>\n",
       "      <td>2.0</td>\n",
       "      <td>3.0</td>\n",
       "      <td>1.0</td>\n",
       "      <td>0.0</td>\n",
       "      <td>0.0</td>\n",
       "      <td>0.0</td>\n",
       "      <td>0.0</td>\n",
       "      <td>0.0</td>\n",
       "      <td>2.0</td>\n",
       "      <td>0.0</td>\n",
       "      <td>...</td>\n",
       "      <td>NaN</td>\n",
       "      <td>NaN</td>\n",
       "      <td>NaN</td>\n",
       "      <td>NaN</td>\n",
       "      <td></td>\n",
       "      <td>4.0</td>\n",
       "      <td>37.1439971923828125</td>\n",
       "      <td>-94.4727020263671875</td>\n",
       "      <td>0.969761</td>\n",
       "      <td>-0.055536</td>\n",
       "    </tr>\n",
       "    <tr>\n",
       "      <th>4</th>\n",
       "      <td>4.0</td>\n",
       "      <td>4.0</td>\n",
       "      <td>3.0</td>\n",
       "      <td>2.0</td>\n",
       "      <td>1.0</td>\n",
       "      <td>1.0</td>\n",
       "      <td>1.0</td>\n",
       "      <td>0.0</td>\n",
       "      <td>2.0</td>\n",
       "      <td>1.0</td>\n",
       "      <td>...</td>\n",
       "      <td>NaN</td>\n",
       "      <td>NaN</td>\n",
       "      <td>NaN</td>\n",
       "      <td>NaN</td>\n",
       "      <td></td>\n",
       "      <td>4.0</td>\n",
       "      <td>34.215301513671875</td>\n",
       "      <td>-79.64679718017578125</td>\n",
       "      <td>0.935462</td>\n",
       "      <td>0.104225</td>\n",
       "    </tr>\n",
       "    <tr>\n",
       "      <th>5</th>\n",
       "      <td>1.0</td>\n",
       "      <td>1.0</td>\n",
       "      <td>0.0</td>\n",
       "      <td>0.0</td>\n",
       "      <td>0.0</td>\n",
       "      <td>0.0</td>\n",
       "      <td>0.0</td>\n",
       "      <td>0.0</td>\n",
       "      <td>1.0</td>\n",
       "      <td>0.0</td>\n",
       "      <td>...</td>\n",
       "      <td>NaN</td>\n",
       "      <td>NaN</td>\n",
       "      <td>NaN</td>\n",
       "      <td>NaN</td>\n",
       "      <td></td>\n",
       "      <td>1.0</td>\n",
       "      <td>30.4170074462890625</td>\n",
       "      <td>-84.18499755859375</td>\n",
       "      <td>0.907838</td>\n",
       "      <td>-1.186106</td>\n",
       "    </tr>\n",
       "    <tr>\n",
       "      <th>6</th>\n",
       "      <td>4.0</td>\n",
       "      <td>4.0</td>\n",
       "      <td>3.0</td>\n",
       "      <td>2.0</td>\n",
       "      <td>1.0</td>\n",
       "      <td>1.0</td>\n",
       "      <td>0.0</td>\n",
       "      <td>0.0</td>\n",
       "      <td>2.0</td>\n",
       "      <td>1.0</td>\n",
       "      <td>...</td>\n",
       "      <td>NaN</td>\n",
       "      <td>NaN</td>\n",
       "      <td>NaN</td>\n",
       "      <td>NaN</td>\n",
       "      <td></td>\n",
       "      <td>7.0</td>\n",
       "      <td>40.6627044677734375</td>\n",
       "      <td>-73.9138031005859375</td>\n",
       "      <td>0.932548</td>\n",
       "      <td>-0.047389</td>\n",
       "    </tr>\n",
       "    <tr>\n",
       "      <th>7</th>\n",
       "      <td>4.0</td>\n",
       "      <td>4.0</td>\n",
       "      <td>3.0</td>\n",
       "      <td>2.0</td>\n",
       "      <td>1.0</td>\n",
       "      <td>0.0</td>\n",
       "      <td>0.0</td>\n",
       "      <td>0.0</td>\n",
       "      <td>2.0</td>\n",
       "      <td>1.0</td>\n",
       "      <td>...</td>\n",
       "      <td>NaN</td>\n",
       "      <td>NaN</td>\n",
       "      <td>NaN</td>\n",
       "      <td>NaN</td>\n",
       "      <td></td>\n",
       "      <td>1.0</td>\n",
       "      <td>39.443603515625</td>\n",
       "      <td>-104.85359954833984375</td>\n",
       "      <td>0.933526</td>\n",
       "      <td>0.446312</td>\n",
       "    </tr>\n",
       "    <tr>\n",
       "      <th>8</th>\n",
       "      <td>4.0</td>\n",
       "      <td>4.0</td>\n",
       "      <td>3.0</td>\n",
       "      <td>1.0</td>\n",
       "      <td>1.0</td>\n",
       "      <td>1.0</td>\n",
       "      <td>0.0</td>\n",
       "      <td>0.0</td>\n",
       "      <td>0.0</td>\n",
       "      <td>0.0</td>\n",
       "      <td>...</td>\n",
       "      <td>NaN</td>\n",
       "      <td>NaN</td>\n",
       "      <td>NaN</td>\n",
       "      <td>NaN</td>\n",
       "      <td></td>\n",
       "      <td>5.0</td>\n",
       "      <td>34.9250946044921875</td>\n",
       "      <td>-80.7277984619140625</td>\n",
       "      <td>0.891258</td>\n",
       "      <td>-0.199284</td>\n",
       "    </tr>\n",
       "    <tr>\n",
       "      <th>9</th>\n",
       "      <td>4.0</td>\n",
       "      <td>4.0</td>\n",
       "      <td>3.0</td>\n",
       "      <td>2.0</td>\n",
       "      <td>1.0</td>\n",
       "      <td>1.0</td>\n",
       "      <td>1.0</td>\n",
       "      <td>0.0</td>\n",
       "      <td>3.0</td>\n",
       "      <td>1.0</td>\n",
       "      <td>...</td>\n",
       "      <td>NaN</td>\n",
       "      <td>NaN</td>\n",
       "      <td>NaN</td>\n",
       "      <td>NaN</td>\n",
       "      <td></td>\n",
       "      <td>1.0</td>\n",
       "      <td>32.246002197265625</td>\n",
       "      <td>-110.91770172119140625</td>\n",
       "      <td>0.893880</td>\n",
       "      <td>0.452932</td>\n",
       "    </tr>\n",
       "  </tbody>\n",
       "</table>\n",
       "<p>10 rows × 135 columns</p>\n",
       "</div>"
      ],
      "text/plain": [
       "   sentiment  respect  insult  humiliate  status  dehumanize  violence_phys  \\\n",
       "0        0.0      0.0     0.0        0.0     0.0         0.0            0.0   \n",
       "1        0.0      0.0     0.0        0.0     0.0         0.0            0.0   \n",
       "2        4.0      4.0     3.0        2.0     1.0         1.0            0.0   \n",
       "3        2.0      3.0     1.0        0.0     0.0         0.0            0.0   \n",
       "4        4.0      4.0     3.0        2.0     1.0         1.0            1.0   \n",
       "5        1.0      1.0     0.0        0.0     0.0         0.0            0.0   \n",
       "6        4.0      4.0     3.0        2.0     1.0         1.0            0.0   \n",
       "7        4.0      4.0     3.0        2.0     1.0         0.0            0.0   \n",
       "8        4.0      4.0     3.0        1.0     1.0         1.0            0.0   \n",
       "9        4.0      4.0     3.0        2.0     1.0         1.0            1.0   \n",
       "\n",
       "   genocide  attack_defend  hatespeech  ...  demo_sexual_orien_2  \\\n",
       "0       0.0            0.0         0.0  ...                  NaN   \n",
       "1       0.0            1.0         0.0  ...                  NaN   \n",
       "2       0.0            3.0         1.0  ...                  NaN   \n",
       "3       0.0            2.0         0.0  ...                  NaN   \n",
       "4       0.0            2.0         1.0  ...                  NaN   \n",
       "5       0.0            1.0         0.0  ...                  NaN   \n",
       "6       0.0            2.0         1.0  ...                  NaN   \n",
       "7       0.0            2.0         1.0  ...                  NaN   \n",
       "8       0.0            0.0         0.0  ...                  NaN   \n",
       "9       0.0            3.0         1.0  ...                  NaN   \n",
       "\n",
       "  demo_sexual_orien_3 demo_sexual_orien_4 demo_sexual_orien_5  \\\n",
       "0                 NaN                 NaN                 NaN   \n",
       "1                 NaN                 NaN                 NaN   \n",
       "2                 NaN                 NaN                 NaN   \n",
       "3                 NaN                 NaN                 NaN   \n",
       "4                 NaN                 NaN                 NaN   \n",
       "5                 NaN                 NaN                 NaN   \n",
       "6                 NaN                 NaN                 NaN   \n",
       "7                 NaN                 NaN                 NaN   \n",
       "8                 NaN                 NaN                 NaN   \n",
       "9                 NaN                 NaN                 NaN   \n",
       "\n",
       "   demo_sexual_orien_4_text  demo_ideology     locationlatitude  \\\n",
       "0                                      4.0       37.55029296875   \n",
       "1                                      4.0  32.9568939208984375   \n",
       "2                                      5.0  39.3361053466796875   \n",
       "3                                      4.0  37.1439971923828125   \n",
       "4                                      4.0   34.215301513671875   \n",
       "5                                      1.0  30.4170074462890625   \n",
       "6                                      7.0  40.6627044677734375   \n",
       "7                                      1.0      39.443603515625   \n",
       "8                                      5.0  34.9250946044921875   \n",
       "9                                      1.0   32.246002197265625   \n",
       "\n",
       "        locationlongitude  identity  hypothesis  \n",
       "0   -77.39420318603515625  0.917681   -1.130178  \n",
       "1   -96.83170318603515625  0.918119   -1.146973  \n",
       "2   -76.53890228271484375  0.985910   -0.207369  \n",
       "3    -94.4727020263671875  0.969761   -0.055536  \n",
       "4   -79.64679718017578125  0.935462    0.104225  \n",
       "5      -84.18499755859375  0.907838   -1.186106  \n",
       "6    -73.9138031005859375  0.932548   -0.047389  \n",
       "7  -104.85359954833984375  0.933526    0.446312  \n",
       "8    -80.7277984619140625  0.891258   -0.199284  \n",
       "9  -110.91770172119140625  0.893880    0.452932  \n",
       "\n",
       "[10 rows x 135 columns]"
      ]
     },
     "execution_count": 6,
     "metadata": {},
     "output_type": "execute_result"
    }
   ],
   "source": [
    "data_multi.head(10)"
   ]
  },
  {
   "cell_type": "code",
   "execution_count": 18,
   "metadata": {
    "id": "8kHoWdRMF2As"
   },
   "outputs": [],
   "source": [
    "#creating new data frame for identity variables\n",
    "#renaming the columns to represent identity variables\n",
    "\n",
    "# \"target_identities_1\\\",  # Is the comment about race?\\n\",\n",
    "#  \"    \\\"target_identities_2\\\",  # Is the comment about religion?\\n\",\n",
    "#   \"    \\\"target_identities_3\\\",  # Is the comment about national origin?\\n\",\n",
    "#   \"    \\\"target_identities_4\\\",  # Is the comment about gender?\\n\",\n",
    "#   \"    \\\"target_identities_5\\\",  # Is the comment about sexual orientation?\\n\",\n",
    "#   \"    \\\"target_identities_6\\\",  # Is the comment about age?\\n\",\n",
    "#   \"    \\\"target_identities_7\\\",  # Is the comment about disability?\\n\"\n",
    "#        \\\"target_identities_9\\\",  # Unsure, perhaps None of the above?\\n\",\n",
    "\n",
    "#race \n",
    "#\"target_race_1\\\",  # Black or African American\\n\",\n",
    "#   \"    \\\"target_race_2\\\",  # Hispanic or Latino\\n\",\n",
    "#  \"    \\\"target_race_3\\\",  # Asian\\n\",\n",
    "# \"    \\\"target_race_8\\\",  # Middle Eastern\\n\",\n",
    "#    \"    \\\"target_race_4\\\",  # Native American\\n\",\n",
    "#   \"    \\\"target_race_5\\\",  # Pacific Islander\\n\",\n",
    "#  \"    \\\"target_race_6\\\",  # White\\n\",\n",
    "#   \"    \\\"target_race_7\\\",  # Other race\\n\",\n",
    "#  \"    \\\"target_race_7_text\\\",  # If other, which?\\n\",\n",
    "\n",
    "#target_religion_1\\\",  # Jews\\n\",\n",
    "# \"    \\\"target_religion_2\\\",  # Christians\\n\",\n",
    "#    \"    \\\"target_religion_4\\\",  # Buddhists\\n\",\n",
    "#    \"    \\\"target_religion_5\\\",  # Hindus\\n\",\n",
    "#    \"    \\\"target_religion_8\\\",  # Mormons\\n\",\n",
    "#    \"    \\\"target_religion_9\\\",  # Atheists\\n\",\n",
    "#    \"    \\\"target_religion_10\\\",  # Muslims\\n\",\n",
    "#    \"    \\\"target_religion_6\\\",  # Other religion\\n\",\n",
    "#    \"    \\\"target_religion_6_text\\\",  # If other, which?\\n\"\n",
    "\n",
    "#  \"    \\\"target_citizen_5\\\",  # Specific country\\n\",\n",
    "#    \"    \\\"target_citizen_1\\\",  # Immigrant\\n\",\n",
    "#    \"    \\\"target_citizen_2\\\",  # Migrant workers\\n\",\n",
    "#    \"    \\\"target_citizen_3\\\",  # Undocumented people\\n\",\n",
    "#    \"    \\\"target_citizen_4\\\",  # Other\\n\",\n",
    "#    \"    \\\"target_citizen_4_text\\\",  # If other, which?\\n\",\n",
    "#\n",
    "\n",
    "#  \\\"target_gender_1\\\",  # Men\\n\",\n",
    "#    \"    \\\"target_gender_3\\\",  # Women\\n\",\n",
    "#    \"    \\\"target_gender_2\\\",  # Non-binary\\n\",\n",
    "#    \"    \\\"target_gender_5\\\",  # Transgender women\\n\",\n",
    "#    \"    \\\"target_gender_6\\\",  # Transgender men\\n\",\n",
    "#    \"    \\\"target_gender_7\\\",  # Transgender unspecified\\n\",\n",
    "#    \"    \\\"target_gender_4\\\",  # Other\\n\",\n",
    "#    \"    \\\"target_gender_4_text\\\",  # If other, which?\\n\",\n",
    "\n",
    "#  \"    \\\"target_sexuality_1\\\",  # Bisexual\\n\",\n",
    "#    \"    \\\"target_sexuality_2\\\",  # Gay\\n\",\n",
    "#    \"    \\\"target_sexuality_6\\\",  # Lesbian\\n\",\n",
    "#    \"    \\\"target_sexuality_3\\\",  # Heterosexual\\n\",\n",
    "#    \"    \\\"target_sexuality_5\\\",  # Other\\n\",\n",
    "#    \"    \\\"target_sexuality_5_text\\\",  # If other, which?\\n\",\n",
    "\n",
    "# \"    \\\"target_age_1\\\",  # Children\\n\",\n",
    "#    \"    \\\"target_age_2\\\",  # Adolescents\\n\",\n",
    "#    \"    \\\"target_age_3\\\",  # adults\\n\",\n",
    "#    \"    \\\"target_age_4\\\",  # Middle-aged\\n\",\n",
    "#    \"    \\\"target_age_5\\\",  # Seniors\\n\",\n",
    "#    \"    \\\"target_age_6\\\",  # Other\\n\",\n",
    "#    \"    \\\"target_age_6_text\\\",  # If other, which?\\n\",\n",
    "\n",
    "# \"    \\\"target_disability_1\\\",  # People with physical disabilities\\n\",\n",
    "#    \"    \\\"target_disability_2\\\",  # People with cognitive disorders\\n\",\n",
    "#    \"    \\\"target_disability_3\\\",  # People with mental health problems\\n\",\n",
    "#    \"    \\\"target_disability_4\\\",  # Visually impaired people\\n\",\n",
    "#    \"    \\\"target_disability_5\\\",  # Hearing impaired people\\n\",\n",
    "#    \"    \\\"target_disability_9\\\",  # No specific disability\\n\",\n",
    "#    \"    \\\"target_disability_6\\\",  # Other\\n\",\n",
    "#    \"    \\\"target_disability_6_text\\\",  # If other, which?\\n\"\n",
    "\n",
    "data_identity = data.rename(columns={'target_identities_1': 'race', \n",
    "                                 'target_identities_2': 'religion',\n",
    "                                 'target_identities_3': 'national_origin',\n",
    "                                 'target_identities_4': 'gender',\n",
    "                                 'target_identities_5': 'sexual_orientation',\n",
    "                                 'target_identities_6': 'age',\n",
    "                                 'target_identities_7': 'disability',\n",
    "                                 'target_identities_9': 'unsure',\n",
    "                                 'target_race_1': 'black',\n",
    "                                 'target_race_2': 'latinx',\n",
    "                                 'target_race_3': 'asian',\n",
    "                                 'target_race_8': 'middle_eastern',\n",
    "                                 'target_race_4': 'native_american',\n",
    "                                 'target_race_5': 'pacific_islander',\n",
    "                                 'target_race_6': 'white',\n",
    "                                 'target_race_7': 'other_race',\n",
    "                                 'target_race_7_text': 'other_race_text',\n",
    "                                 'target_religion_1': 'jews',\n",
    "                                 'target_religion_2': 'christians',\n",
    "                                 'target_religion_4': 'buddhists',\n",
    "                                 'target_religion_5': 'hindus',\n",
    "                                 'target_religion_8': 'mormons',\n",
    "                                 'target_religion_9': 'atheists',\n",
    "                                 'target_religion_10': 'muslims',\n",
    "                                 'target_religion_6': 'other_religion',\n",
    "                                 'target_religion_6_text': 'other_religion_text',\n",
    "                                 'target_citizen_5': 'country',\n",
    "                                 'target_citizen_1': 'immigrant',\n",
    "                                 'target_citizen_2': 'migrant_worker',\n",
    "                                 'target_citizen_3': 'undocumented',\n",
    "                                 'target_citizen_4': 'other_nationality',\n",
    "                                 'target_citizen_4_text': 'other_nationality_text',\n",
    "                                 'target_gender_1': 'men',\n",
    "                                 'target_gender_3': 'women',\n",
    "                                 'target_gender_2': 'non-binary',\n",
    "                                 'target_gender_5': 'transgender_women',\n",
    "                                 'target_gender_6': 'transgender_men',\n",
    "                                 'target_gender_7': 'transgender_unspecified',\n",
    "                                 'target_gender_4': 'other_gender',\n",
    "                                 'target_gender_4_text': 'other_gender_text',\n",
    "                                 'target_sexuality_1': 'bisexual',\n",
    "                                 'target_sexuality_2': 'gay',\n",
    "                                 'target_sexuality_6': 'lesbian',\n",
    "                                 'target_sexuality_3': 'heterosexual',\n",
    "                                 'target_sexuality_5': 'other_sexuality',\n",
    "                                 'target_sexuality_5_text': 'other_sexuality_text',\n",
    "                                 'target_age_1': 'children',\n",
    "                                 'target_age_2': 'adolescents',\n",
    "                                 'target_age_3': 'adults',\n",
    "                                 'target_age_4': 'middle-aged',\n",
    "                                 'target_age_5': 'seniors',\n",
    "                                 'target_age_6': 'other_age',\n",
    "                                 'target_age_6_text': 'other_age_text',\n",
    "                                 'target_disability_1': 'physical_disability',\n",
    "                                 'target_disability_2': 'cognitive_disability', \n",
    "                                 'target_disability_3': 'mental_health',\n",
    "                                 'target_disability_4': 'visually_impaired',\n",
    "                                 'target_disability_5': 'hearing_impaired',\n",
    "                                 'target_disability_9': 'not_specific',\n",
    "                                 'target_disability_6': 'other_disability',\n",
    "                                 'target_disability_6_text': 'other_disability_text'})\n",
    "                                 #'demo_gender': 'gender', \n",
    "                                 #'demo_gender_text_4': 'gender text',\n",
    "                                  #'demo_trans': 'trans',\n",
    "                                  #'demo_educ': 'education', \n",
    "                                  #'demo_race_ethnicie_1': 'american indian alaska native',\n",
    "                                  #'demo_race_ethnicitie_2': 'asian',\n",
    "                                  #'demo_race_ethnicitie_3': 'alack',\n",
    "                                  #'demo_race_ethnicitie_4': 'latino',\n",
    "                                  #'demo_race_ethnicitie_5': 'native hawaiian pacific islander',\n",
    "                                  #'demo_race_ethnicitie_8': 'middle eastern',\n",
    "                                  #'demo_race_ethnicitie_6': 'white',\n",
    "                                  #'demo_race_ethnicitie_7': 'other race',\n",
    "                                  #'demo_race_ethnicitie_7_text': 'other text',\n",
    "                                  #'demo_age': 'age',\n",
    "                                  #'demo_income': 'income',\n",
    "                                  #'demo_religion_1': 'atheist',\n",
    "                                  #'demo_religion_2': 'buddhist',\n",
    "                                  #'demo_religion_11': 'chrisitan', \n",
    "                                  #'demo_religion_4': 'hindu',\n",
    "                                  #'demo_religion_5': 'jewish',\n",
    "                                  #'demo_religion_7': 'mormon',\n",
    "                                  #'demo_religion_8': 'muslim',\n",
    "                                  #'demo_religion_9': 'nothing in particular',\n",
    "                                  #'demo_religion_10': 'other religion',\n",
    "                                  #'demo_religion_10_text': 'other religion text',\n",
    "                                  #'demo_sexual_orien_1': 'straight',\n",
    "                                  #'demo_sexual_orien_2': 'gay lesbian',\n",
    "                                  #'demo_sexual_orien_3': 'bisexual', \n",
    "                                  #'demo_sexual_orien_4': 'other sexual orientation',\n",
    "                                  #'demo_sexual_orien_5': 'prefer not to say',\n",
    "                                  #'demo_sexual_orien_4_text': 'other sexual orientation text'})\n",
    "\n"
   ]
  },
  {
   "cell_type": "code",
   "execution_count": null,
   "metadata": {
    "id": "nAyrwfPbH624"
   },
   "outputs": [],
   "source": [
    "# #data_multi = data.rename(columns={'target_identities_1': 'race', \n",
    "#                                  'target_identities_2': 'religion',\n",
    "                                #  'target_identities_3': 'national_origin',\n",
    "                                #  'target_identities_4': 'gender',\n",
    "                                #  'target_identities_5': 'sexual_orientation',\n",
    "                                #  'target_identities_6': 'age',\n",
    "                                #  'target_identities_7': 'disability',\n",
    "                                #  'target_identities_9': 'unsure',\n",
    "                                #  'target_race_1': 'black',\n",
    "                                #  'target_race_2': 'latinx',\n",
    "                                #  'target_race_3': 'asian',\n",
    "                                #  'target_race_8': 'middle_eastern',\n",
    "                                #  'target_race_4': 'native_american',\n",
    "                                #  'target_race_5': 'pacific_islander',\n",
    "                                #  'target_race_6': 'white',\n",
    "                                #  'target_race_7': 'other_race',\n",
    "                                #  'target_race_7_text': 'other_race_text',\n",
    "                                #  'target_religion_1': 'jews',\n",
    "                                #  'target_religion_2': 'christians',\n",
    "                                #  'target_religion_4': 'buddhists',\n",
    "                                #  'target_religion_5': 'hindus',\n",
    "                                #  'target_religion_8': 'mormons',\n",
    "                                #  'target_religion_9': 'atheists',\n",
    "                                #  'target_religion_10': 'muslims',\n",
    "                                #  'target_religion_6': 'other_religion',\n",
    "                                #  'target_religion_6_text': 'other_religion_text',\n",
    "                                #  'target_citizen_5': 'country',\n",
    "                                #  'target_citizen_1': 'immigrant',\n",
    "                                #  'target_citizen_2': 'migrant_worker',\n",
    "                                #  'target_citizen_3': 'undocumented',\n",
    "                                #  'target_citizen_4': 'other_nationality',\n",
    "                                #  'target_citizen_4_text': 'other_nationality_text',\n",
    "                                #  'target_gender_1': 'men',\n",
    "                                #  'target_gender_3': 'women',\n",
    "                                #  'target_gender_2': 'non-binary',\n",
    "                                #  'target_gender_5': 'transgender_women',\n",
    "                                #  'target_gender_6': 'transgender_men',\n",
    "                                #  'target_gender_7': 'transgender_unspecified',\n",
    "                                #  'target_gender_4': 'other_gender',\n",
    "                                #  'target_gender_4_text': 'other_gender_text',\n",
    "                                #  'target_sexuality_1': 'bisexual',\n",
    "                                #  'target_sexuality_2': 'gay',\n",
    "                                #  'target_sexuality_6': 'lesbian',\n",
    "                                #  'target_sexuality_3': 'heterosexual',\n",
    "                                #  'target_sexuality_5': 'other_sexuality',\n",
    "                                #  'target_sexuality_5_text': 'other_sexuality_text',\n",
    "                                #  'target_age_1': 'children',\n",
    "                                #  'target_age_2': 'adolescents',\n",
    "                                #  'target_age_3': 'adults',\n",
    "                                #  'target_age_4': 'middle-aged',\n",
    "                                #  'target_age_5': 'seniors',\n",
    "                                #  'target_age_6': 'other_age',\n",
    "                                #  'target_age_6_text': 'other_age_text',\n",
    "                                #  'target_disability_1': 'physical_disability',\n",
    "                                #  'target_disability_2': 'cognitive_disability', \n",
    "                                #  'target_disability_3': 'mental_health',\n",
    "                                #  'target_disability_4': 'visually_impaired',\n",
    "                                #  'target_disability_5': 'hearing_impaired',\n",
    "                                #  'target_disability_9': 'not_specific',\n",
    "                                #  'target_disability_6': 'other_disability',\n",
    "                                #  'target_disability_6_text': 'other_disability_text',\n",
    "                                #   'demo_gender': 'gender', \n",
    "                                #   'demo_gender_text_4': 'gender text',\n",
    "                                #   'demo_trans': 'trans',\n",
    "                                #   'demo_educ': 'education', \n",
    "                                #   'demo_race_ethnicie_1': 'american indian alaska native',\n",
    "                                #   'demo_race_ethnicitie_2': 'asian',\n",
    "                                #   'demo_race_ethnicitie_3': 'alack',\n",
    "                                #   'demo_race_ethnicitie_4': 'latino',\n",
    "                                #   'demo_race_ethnicitie_5': 'native hawaiian pacific islander',\n",
    "                                #   'demo_race_ethnicitie_8': 'middle eastern',\n",
    "                                #   'demo_race_ethnicitie_6': 'white',\n",
    "                                #   'demo_race_ethnicitie_7': 'other race',\n",
    "                                #   'demo_race_ethnicitie_7_text': 'other text',\n",
    "                                #   'demo_age': 'age',\n",
    "                                #   'demo_income': 'income',\n",
    "                                #   'demo_religion_1': 'atheist',\n",
    "                                #   'demo_religion_2': 'buddhist',\n",
    "                                #   'demo_religion_11': 'chrisitan', \n",
    "                                #   'demo_religion_4': 'hindu',\n",
    "                                #   'demo_religion_5': 'jewish',\n",
    "                                #   'demo_religion_7': 'mormon',\n",
    "                                #   'demo_religion_8': 'muslim',\n",
    "                                #   'demo_religion_9': 'nothing in particular',\n",
    "                                #   'demo_religion_10': 'other religion',\n",
    "                                #   'demo_religion_10_text': 'other religion text',\n",
    "                                #   'demo_sexual_orien_1': 'straight',\n",
    "                                #   'demo_sexual_orien_2': 'gay lesbian',\n",
    "                                #   'demo_sexual_orien_3': 'bisexual', \n",
    "                                #   'demo_sexual_orien_4': 'other sexual orientation',\n",
    "                                #   'demo_sexual_orien_5': 'prefer not to say',\n",
    "                                #   'demo_sexual_orien_4_text': 'other sexual orientation text'})"
   ]
  },
  {
   "cell_type": "code",
   "execution_count": 8,
   "metadata": {
    "colab": {
     "base_uri": "https://localhost:8080/"
    },
    "id": "qN02ZwHvU0c9",
    "outputId": "9fbed8f1-55c3-430d-f523-2966ece01882"
   },
   "outputs": [
    {
     "data": {
      "text/plain": [
       "135"
      ]
     },
     "execution_count": 8,
     "metadata": {},
     "output_type": "execute_result"
    }
   ],
   "source": [
    "#number of columns\n",
    "len(data_identity.columns)"
   ]
  },
  {
   "cell_type": "code",
   "execution_count": 9,
   "metadata": {
    "colab": {
     "base_uri": "https://localhost:8080/"
    },
    "id": "wZS5cX38l9kY",
    "outputId": "528286df-09cc-4382-e5e7-90e671a2ff6c"
   },
   "outputs": [
    {
     "data": {
      "text/plain": [
       "sentiment            float64\n",
       "respect              float64\n",
       "insult               float64\n",
       "humiliate            float64\n",
       "status               float64\n",
       "                      ...   \n",
       "demo_ideology        float64\n",
       "locationlatitude      object\n",
       "locationlongitude     object\n",
       "identity             float64\n",
       "hypothesis           float64\n",
       "Length: 135, dtype: object"
      ]
     },
     "execution_count": 9,
     "metadata": {},
     "output_type": "execute_result"
    }
   ],
   "source": [
    "data_identity.dtypes"
   ]
  },
  {
   "cell_type": "markdown",
   "metadata": {
    "id": "mXDl9QKKYtvp"
   },
   "source": [
    "![alt text](https://drive.google.com/uc?export=view&id=1J8oMVbf1YFKDPo-Cy0PxXa8uINwvwDjr)\n"
   ]
  },
  {
   "cell_type": "code",
   "execution_count": 11,
   "metadata": {
    "id": "VTzPwmZQHL05"
   },
   "outputs": [],
   "source": [
    "# turn NaN values into 0\n",
    "data_identity['platform'] = data_identity.platform.astype(str)\n",
    "\n",
    "data_identity.fillna(0, inplace=True)\n"
   ]
  },
  {
   "cell_type": "code",
   "execution_count": 12,
   "metadata": {
    "colab": {
     "base_uri": "https://localhost:8080/"
    },
    "id": "LxecWlZrYSuu",
    "outputId": "b7548e04-1502-4788-df71-e840610b2259"
   },
   "outputs": [
    {
     "data": {
      "text/plain": [
       "0         youtube\n",
       "1         twitter\n",
       "2         youtube\n",
       "3         youtube\n",
       "4          reddit\n",
       "           ...   \n",
       "135551    twitter\n",
       "135552    twitter\n",
       "135553    twitter\n",
       "135554    twitter\n",
       "135555     reddit\n",
       "Name: platform, Length: 135556, dtype: object"
      ]
     },
     "execution_count": 12,
     "metadata": {},
     "output_type": "execute_result"
    }
   ],
   "source": [
    "data_identity['platform']"
   ]
  },
  {
   "cell_type": "code",
   "execution_count": 13,
   "metadata": {
    "colab": {
     "base_uri": "https://localhost:8080/",
     "height": 151
    },
    "id": "7sXuMntVMQMA",
    "outputId": "dcf48bec-aca0-45fa-85b6-3ecc73a98d94"
   },
   "outputs": [
    {
     "data": {
      "text/html": [
       "<div>\n",
       "<style scoped>\n",
       "    .dataframe tbody tr th:only-of-type {\n",
       "        vertical-align: middle;\n",
       "    }\n",
       "\n",
       "    .dataframe tbody tr th {\n",
       "        vertical-align: top;\n",
       "    }\n",
       "\n",
       "    .dataframe thead th {\n",
       "        text-align: right;\n",
       "    }\n",
       "</style>\n",
       "<table border=\"1\" class=\"dataframe\">\n",
       "  <thead>\n",
       "    <tr style=\"text-align: right;\">\n",
       "      <th></th>\n",
       "      <th>sentiment</th>\n",
       "      <th>respect</th>\n",
       "      <th>insult</th>\n",
       "      <th>humiliate</th>\n",
       "      <th>status</th>\n",
       "      <th>dehumanize</th>\n",
       "      <th>violence_phys</th>\n",
       "      <th>genocide</th>\n",
       "      <th>attack_defend</th>\n",
       "      <th>hatespeech</th>\n",
       "      <th>...</th>\n",
       "      <th>demo_sexual_orien_2</th>\n",
       "      <th>demo_sexual_orien_3</th>\n",
       "      <th>demo_sexual_orien_4</th>\n",
       "      <th>demo_sexual_orien_5</th>\n",
       "      <th>demo_sexual_orien_4_text</th>\n",
       "      <th>demo_ideology</th>\n",
       "      <th>locationlatitude</th>\n",
       "      <th>locationlongitude</th>\n",
       "      <th>identity</th>\n",
       "      <th>hypothesis</th>\n",
       "    </tr>\n",
       "  </thead>\n",
       "  <tbody>\n",
       "    <tr>\n",
       "      <th>0</th>\n",
       "      <td>0.0</td>\n",
       "      <td>0.0</td>\n",
       "      <td>0.0</td>\n",
       "      <td>0.0</td>\n",
       "      <td>0.0</td>\n",
       "      <td>0.0</td>\n",
       "      <td>0.0</td>\n",
       "      <td>0.0</td>\n",
       "      <td>0.0</td>\n",
       "      <td>0.0</td>\n",
       "      <td>...</td>\n",
       "      <td>0.0</td>\n",
       "      <td>0.0</td>\n",
       "      <td>0.0</td>\n",
       "      <td>0.0</td>\n",
       "      <td></td>\n",
       "      <td>4.0</td>\n",
       "      <td>37.55029296875</td>\n",
       "      <td>-77.39420318603515625</td>\n",
       "      <td>0.917681</td>\n",
       "      <td>-1.130178</td>\n",
       "    </tr>\n",
       "  </tbody>\n",
       "</table>\n",
       "<p>1 rows × 135 columns</p>\n",
       "</div>"
      ],
      "text/plain": [
       "   sentiment  respect  insult  humiliate  status  dehumanize  violence_phys  \\\n",
       "0        0.0      0.0     0.0        0.0     0.0         0.0            0.0   \n",
       "\n",
       "   genocide  attack_defend  hatespeech  ...  demo_sexual_orien_2  \\\n",
       "0       0.0            0.0         0.0  ...                  0.0   \n",
       "\n",
       "  demo_sexual_orien_3 demo_sexual_orien_4 demo_sexual_orien_5  \\\n",
       "0                 0.0                 0.0                 0.0   \n",
       "\n",
       "   demo_sexual_orien_4_text  demo_ideology  locationlatitude  \\\n",
       "0                                      4.0    37.55029296875   \n",
       "\n",
       "       locationlongitude  identity  hypothesis  \n",
       "0  -77.39420318603515625  0.917681   -1.130178  \n",
       "\n",
       "[1 rows x 135 columns]"
      ]
     },
     "execution_count": 13,
     "metadata": {},
     "output_type": "execute_result"
    }
   ],
   "source": [
    "data_identity.head(1)"
   ]
  },
  {
   "cell_type": "code",
   "execution_count": 14,
   "metadata": {
    "colab": {
     "base_uri": "https://localhost:8080/",
     "height": 596
    },
    "id": "Hpax0rBydlxf",
    "outputId": "3d4ebc03-d4e4-4e0d-ba6f-807cfbf3bc75"
   },
   "outputs": [
    {
     "data": {
      "text/plain": [
       "(array([0., 1.]), array([87197, 48359]))"
      ]
     },
     "execution_count": 14,
     "metadata": {},
     "output_type": "execute_result"
    }
   ],
   "source": [
    "#data_identity['race'] = data_identity.race.astype(str)\n",
    "#data_identity.fillna(0, inplace=True)\n",
    "\n",
    "\n",
    "#this asks - is this comment about race? in the survey\n",
    "#are the NaNs people who did not select race?\n",
    "\n",
    "\n",
    "data_identity['race'] = data_identity['race'].fillna(0)\n",
    "data_identity['race']\n",
    "\n",
    "np.unique(data_identity['race'], return_counts=True)\n"
   ]
  },
  {
   "cell_type": "code",
   "execution_count": null,
   "metadata": {
    "id": "iZshrmEFrNrM"
   },
   "outputs": [],
   "source": [
    "# Count the number of race, disability, etc in each column \n",
    "#just use .value_counts()\n",
    "\n",
    "data_identity['race'].sum() #this is when race is present in the comment, so set to 1\n",
    "#data_identity['race']\n",
    "\n",
    "#.sum() == 0 "
   ]
  },
  {
   "cell_type": "code",
   "execution_count": null,
   "metadata": {
    "id": "o3KQjlWOrrnR"
   },
   "outputs": [],
   "source": [
    "data_identity['race'].count() #this is total comments...of people who \n",
    "#both did not and did select race?"
   ]
  },
  {
   "cell_type": "code",
   "execution_count": 52,
   "metadata": {
    "id": "DQTxOElLsZ2T"
   },
   "outputs": [
    {
     "data": {
      "text/plain": [
       "26188.0"
      ]
     },
     "execution_count": 52,
     "metadata": {},
     "output_type": "execute_result"
    }
   ],
   "source": [
    "data_identity['religion'].sum() "
   ]
  },
  {
   "cell_type": "code",
   "execution_count": 66,
   "metadata": {
    "id": "ZGlbx8PzuOow"
   },
   "outputs": [
    {
     "data": {
      "text/plain": [
       "24378.0"
      ]
     },
     "execution_count": 66,
     "metadata": {},
     "output_type": "execute_result"
    }
   ],
   "source": [
    "data_identity['national_origin'].sum()"
   ]
  },
  {
   "cell_type": "code",
   "execution_count": 67,
   "metadata": {
    "id": "ES_R3ypeuyRX"
   },
   "outputs": [
    {
     "data": {
      "text/plain": [
       "40440.0"
      ]
     },
     "execution_count": 67,
     "metadata": {},
     "output_type": "execute_result"
    }
   ],
   "source": [
    "data_identity['gender'].sum()"
   ]
  },
  {
   "cell_type": "code",
   "execution_count": 68,
   "metadata": {
    "id": "LtdtPVR6u-in"
   },
   "outputs": [
    {
     "data": {
      "text/plain": [
       "22413.0"
      ]
     },
     "execution_count": 68,
     "metadata": {},
     "output_type": "execute_result"
    }
   ],
   "source": [
    "data_identity['sexual_orientation'].sum()"
   ]
  },
  {
   "cell_type": "code",
   "execution_count": 69,
   "metadata": {
    "id": "lB5eGl9Gvic7"
   },
   "outputs": [
    {
     "data": {
      "text/plain": [
       "2005.0"
      ]
     },
     "execution_count": 69,
     "metadata": {},
     "output_type": "execute_result"
    }
   ],
   "source": [
    "data_identity['age'].sum()"
   ]
  },
  {
   "cell_type": "code",
   "execution_count": 70,
   "metadata": {
    "id": "XlL4s3rzvmY4"
   },
   "outputs": [
    {
     "data": {
      "text/plain": [
       "3716.0"
      ]
     },
     "execution_count": 70,
     "metadata": {},
     "output_type": "execute_result"
    }
   ],
   "source": [
    "data_identity['disability'].sum()"
   ]
  },
  {
   "cell_type": "code",
   "execution_count": 71,
   "metadata": {
    "id": "8dhgidr03Dt-"
   },
   "outputs": [],
   "source": [
    "#created a variable with the columns of interest\n",
    "#The outer bracket means subset, the inner bracket is a list\n",
    "#So together it’s like “subset according to this list”\n",
    "selected_attributes = data_identity[['race', 'religion', 'national_origin', 'gender', 'sexual_orientation', 'age', 'disability', 'unsure']]"
   ]
  },
  {
   "cell_type": "code",
   "execution_count": 72,
   "metadata": {
    "id": "KP-fQx5zYoJ2"
   },
   "outputs": [
    {
     "data": {
      "text/plain": [
       "0.22"
      ]
     },
     "execution_count": 72,
     "metadata": {},
     "output_type": "execute_result"
    }
   ],
   "source": [
    "round(8493/37857, 2)"
   ]
  },
  {
   "cell_type": "code",
   "execution_count": 74,
   "metadata": {
    "id": "_CRw3ibS3Z4D"
   },
   "outputs": [
    {
     "name": "stdout",
     "output_type": "stream",
     "text": [
      "race 48359.0 % is 128.0\n",
      "religion 26188.0 % is 69.0\n",
      "national_origin 24378.0 % is 64.0\n",
      "gender 40440.0 % is 107.0\n",
      "sexual_orientation 22413.0 % is 59.0\n",
      "age 2005.0 % is 5.0\n",
      "disability 3716.0 % is 10.0\n",
      "unsure 6284.0 % is 17.0\n",
      "total is 173783.0\n"
     ]
    }
   ],
   "source": [
    "#loop and sum each value and total value in selected attributes\n",
    "total_identity = 0\n",
    "for col in selected_attributes:\n",
    "    print(col, selected_attributes[col].sum(), '% is', (((round(selected_attributes[col].sum()/37857, 2) * 100))))\n",
    "    total_identity += selected_attributes[col].sum()\n",
    "\n",
    "print('total is', total_identity)\n",
    "\n",
    "\n"
   ]
  },
  {
   "cell_type": "code",
   "execution_count": 75,
   "metadata": {
    "id": "g_4sLPPLwCfF"
   },
   "outputs": [
    {
     "data": {
      "image/png": "[encoded data removed]",
      "text/plain": [
       "<Figure size 432x288 with 1 Axes>"
      ]
     },
     "metadata": {
      "needs_background": "light"
     },
     "output_type": "display_data"
    }
   ],
   "source": [
    "#plot for identity types ABSOLUTE VALUES\n",
    "df = pd.DataFrame({'identity terms':['race', 'religion', 'national origin', \n",
    "                                     'gender', 'sexual orientation', \n",
    "                                     'age', 'disability', 'unsure'], 'number of comments':[8493, 4711, 4997, 9286, 5531, 877, 764, 3198]})\n",
    "ax = df.plot.bar(x='identity terms', y='number of comments', rot=70)"
   ]
  },
  {
   "cell_type": "code",
   "execution_count": null,
   "metadata": {},
   "outputs": [],
   "source": []
  },
  {
   "cell_type": "code",
   "execution_count": 89,
   "metadata": {
    "id": "8jdGH_Zwaxdh"
   },
   "outputs": [
    {
     "data": {
      "image/png": "[encoded data removed]",
      "text/plain": [
       "<Figure size 432x288 with 1 Axes>"
      ]
     },
     "metadata": {
      "needs_background": "light"
     },
     "output_type": "display_data"
    }
   ],
   "source": [
    "#PERCENTAGE VALUES FOR IDENTITY\n",
    "\n",
    "df = pd.DataFrame({'identity terms':['race', 'religion', 'national origin', \n",
    "                                     'gender', 'sexual orientation', \n",
    "                                     'age', 'disability', 'unsure'], 'percentage of comments':[22, 12, 13, 25, 15, 2, 2, 8]})\n",
    "df_sorted = df.sort_values('percentage of comments', ascending=False)\n",
    "ax = df_sorted.plot.barh(x='identity terms', y='percentage of comments')\n",
    "ax.set_xlabel('percentage of comments')\n",
    "ax.get_legend().remove();"
   ]
  },
  {
   "cell_type": "code",
   "execution_count": 97,
   "metadata": {},
   "outputs": [],
   "source": [
    "def label_race(row):\n",
    "    if (row['demo_race_ethnicitie_1'] + row['demo_race_ethnicitie_2'] + \n",
    "    row['demo_race_ethnicitie_3'] + row['demo_race_ethnicitie_4'] + \n",
    "    row['demo_race_ethnicitie_5'] + row['demo_race_ethnicitie_6'] + \n",
    "    row['demo_race_ethnicitie_7'] + row['demo_race_ethnicitie_8'] > 1):\n",
    "        return 'two or more races'\n",
    "    if row['demo_race_ethnicitie_1'] == 1:\n",
    "        return 'american indian alaska native'\n",
    "    if row['demo_race_ethnicitie_2'] == 1:\n",
    "        return 'asian'\n",
    "    if row['demo_race_ethnicitie_3'] == 1:\n",
    "        return 'black'\n",
    "    if row['demo_race_ethnicitie_4'] == 1:\n",
    "        return 'latino'\n",
    "    if row['demo_race_ethnicitie_5'] == 1:\n",
    "        return 'native hawaiian pacific islander'\n",
    "    if row['demo_race_ethnicitie_6'] == 1:\n",
    "        return 'white'\n",
    "    if row['demo_race_ethnicitie_7'] == 1:\n",
    "        return 'other race'\n",
    "    if row['demo_race_ethnicitie_8'] == 1:\n",
    "        return 'middle eastern'\n",
    "    return 'unknown'"
   ]
  },
  {
   "cell_type": "code",
   "execution_count": 99,
   "metadata": {
    "id": "sg6ljLxKbaOw"
   },
   "outputs": [],
   "source": [
    "data_multi['race_label'] = data_multi.replace(np.nan, 0).apply(label_race, axis=1) #axis =1 means application is done at row rather than column lelvel"
   ]
  },
  {
   "cell_type": "code",
   "execution_count": 101,
   "metadata": {},
   "outputs": [
    {
     "data": {
      "text/plain": [
       "white                               0.738108\n",
       "black                               0.079310\n",
       "two or more races                   0.077296\n",
       "asian                               0.054391\n",
       "latino                              0.038434\n",
       "other race                          0.006617\n",
       "american indian alaska native       0.002958\n",
       "middle eastern                      0.001586\n",
       "native hawaiian pacific islander    0.000878\n",
       "unknown                             0.000420\n",
       "Name: race_label, dtype: float64"
      ]
     },
     "execution_count": 101,
     "metadata": {},
     "output_type": "execute_result"
    }
   ],
   "source": [
    "data_multi['race_label'].value_counts(normalize=True)"
   ]
  },
  {
   "cell_type": "code",
   "execution_count": 109,
   "metadata": {},
   "outputs": [],
   "source": [
    "def target_race(row):\n",
    "    if (row['target_race_1'] + row['target_race_2'] + \n",
    "    row['target_race_3'] + row['target_race_4'] + \n",
    "    row['target_race_5'] + row['target_race_6'] + \n",
    "    row['target_race_7'] > 1):\n",
    "        return 'two or more races'\n",
    "    if row['target_race_1'] == 1:\n",
    "           return 'black'\n",
    "    if row['target_race_2'] == 1:\n",
    "        return 'latino'\n",
    "    if row['target_race_3'] == 1:\n",
    "        return 'asian'\n",
    "    if row['target_race_4'] == 1:\n",
    "        return 'native american'\n",
    "    if row['target_race_5'] == 1:\n",
    "        return 'pacific islander'\n",
    "    if row['target_race_6'] == 1:\n",
    "        return 'white'\n",
    "    if row['target_race_7'] == 1:\n",
    "        return 'other race'\n",
    "    return 'no race target'"
   ]
  },
  {
   "cell_type": "code",
   "execution_count": 110,
   "metadata": {},
   "outputs": [],
   "source": [
    "data_multi['target_race'] = data_multi.replace(np.nan, 0).apply(target_race, axis=1)"
   ]
  },
  {
   "cell_type": "code",
   "execution_count": 111,
   "metadata": {},
   "outputs": [
    {
     "data": {
      "text/plain": [
       "no race target       0.680036\n",
       "black                0.128323\n",
       "two or more races    0.050761\n",
       "white                0.048592\n",
       "latino               0.030002\n",
       "asian                0.029294\n",
       "other race           0.027487\n",
       "native american      0.004802\n",
       "pacific islander     0.000701\n",
       "Name: target_race, dtype: float64"
      ]
     },
     "execution_count": 111,
     "metadata": {},
     "output_type": "execute_result"
    }
   ],
   "source": [
    "data_multi['target_race'].value_counts(normalize=True)"
   ]
  },
  {
   "cell_type": "code",
   "execution_count": 112,
   "metadata": {},
   "outputs": [
    {
     "data": {
      "text/plain": [
       "<AxesSubplot:xlabel='target_race'>"
      ]
     },
     "execution_count": 112,
     "metadata": {},
     "output_type": "execute_result"
    },
    {
     "data": {
      "image/png": "[encoded data removed]",
      "text/plain": [
       "<Figure size 432x288 with 1 Axes>"
      ]
     },
     "metadata": {
      "needs_background": "light"
     },
     "output_type": "display_data"
    }
   ],
   "source": [
    "sns.barplot(y=data_multi['target_race'].value_counts(normalize=True).index, x = data_multi['target_race'].value_counts(normalize=True), orient='h')"
   ]
  },
  {
   "cell_type": "code",
   "execution_count": 93,
   "metadata": {
    "id": "nQ6bE1uK38gX"
   },
   "outputs": [],
   "source": [
    "#variable that includes columns for race \n",
    "\n",
    "race_attributes = data_identity[['black', 'latinx', 'asian', 'middle_eastern', \n",
    "                                'pacific_islander', 'white', 'other_race']]"
   ]
  },
  {
   "cell_type": "code",
   "execution_count": null,
   "metadata": {},
   "outputs": [],
   "source": []
  },
  {
   "cell_type": "code",
   "execution_count": 96,
   "metadata": {},
   "outputs": [
    {
     "data": {
      "text/plain": [
       "22899.0"
      ]
     },
     "execution_count": 96,
     "metadata": {},
     "output_type": "execute_result"
    }
   ],
   "source": [
    "data_identity['black'].sum()\n",
    "#black is target_black\n",
    "#so there are that many columns targeting black folks "
   ]
  },
  {
   "cell_type": "code",
   "execution_count": 94,
   "metadata": {
    "id": "X18WlWEu4uCo"
   },
   "outputs": [
    {
     "name": "stdout",
     "output_type": "stream",
     "text": [
      "black 22899.0 % is 204.0\n",
      "latinx 8497.0 % is 76.0\n",
      "asian 7025.0 % is 62.0\n",
      "middle_eastern 9450.0 % is 84.0\n",
      "pacific_islander 2358.0 % is 21.0\n",
      "white 9797.0 % is 87.0\n",
      "other_race 4780.0 % is 42.0\n",
      "total is 64806.0\n"
     ]
    }
   ],
   "source": [
    "#loop and sum \n",
    "total_race = 0\n",
    "\n",
    "for col in race_attributes:\n",
    "    print(col, race_attributes[col].sum(), '% is', (((round(race_attributes[col].sum()/11251, 2) *100))))\n",
    "  \n",
    "    total_race += race_attributes[col].sum()\n",
    "\n",
    "print('total is', total_race) \n"
   ]
  },
  {
   "cell_type": "code",
   "execution_count": null,
   "metadata": {
    "id": "vwOsjckjZPWj"
   },
   "outputs": [],
   "source": [
    "#plot for race ABSOLUTE\n",
    "df = pd.DataFrame({'race':['black', 'latinx', 'asian', \n",
    "                                     'middle_eastern', 'pacific_islander', \n",
    "                                     'white', 'other_race'], 'number of comments':[3672, 1281, 1075, 1621, 415, 2244, 943]})\n",
    "ax = df.plot.bar(x='race', y='number of comments', rot=70)"
   ]
  },
  {
   "cell_type": "code",
   "execution_count": 90,
   "metadata": {
    "id": "JsKmKXLFlKhh"
   },
   "outputs": [
    {
     "data": {
      "image/png": "[encoded data removed]",
      "text/plain": [
       "<Figure size 432x288 with 1 Axes>"
      ]
     },
     "metadata": {
      "needs_background": "light"
     },
     "output_type": "display_data"
    }
   ],
   "source": [
    "#plot for race PERCENTAGE\n",
    "df = pd.DataFrame({'race':['black', 'latinx', 'asian', \n",
    "                                     'middle_eastern', 'pacific_islander', \n",
    "                                     'white', 'other_race'], 'percentage of comments':[10, 3, 3, 4, 1, 6, 2]})\n",
    "ax = df.plot.bar(x='race', y='percentage of comments', rot=70)"
   ]
  },
  {
   "cell_type": "code",
   "execution_count": 91,
   "metadata": {},
   "outputs": [
    {
     "data": {
      "image/png": "[encoded data removed]",
      "text/plain": [
       "<Figure size 432x288 with 1 Axes>"
      ]
     },
     "metadata": {
      "needs_background": "light"
     },
     "output_type": "display_data"
    }
   ],
   "source": [
    "df = pd.DataFrame({'race':['black', 'latinx', 'asian', \n",
    "                                     'middle_eastern', 'pacific_islander', \n",
    "                                     'white', 'other_race'], 'percentage of comments':[10, 3, 3, 4, 1, 6, 2]})\n",
    "df_sorted = df.sort_values('percentage of comments', ascending=False)\n",
    "ax = df_sorted.plot.barh(x='race', y='percentage of comments')\n",
    "ax.set_xlabel('percentage of comments')\n",
    "ax.get_legend().remove();"
   ]
  },
  {
   "cell_type": "code",
   "execution_count": null,
   "metadata": {
    "id": "DTszaxup6Fzg"
   },
   "outputs": [],
   "source": [
    "#variable that includes columns for religion\n",
    "\n",
    "religion_attributes = data_identity[['jews', 'christians', 'buddhists', \n",
    "                                   'hindus', 'mormons', 'atheists',\n",
    "                                   'muslims', 'other_religion']]"
   ]
  },
  {
   "cell_type": "code",
   "execution_count": null,
   "metadata": {
    "id": "gtVmIkiv63mI"
   },
   "outputs": [],
   "source": [
    "#loop and sum\n",
    "total_religion = 0\n",
    "for col in religion_attributes:\n",
    "\n",
    "  print(col, religion_attributes[col].sum(), '% is', (((round(religion_attributes[col].sum()/6473, 2)*100))))\n",
    "  total_religion += religion_attributes[col].sum()\n",
    "\n",
    "print('total religion is', total_religion)"
   ]
  },
  {
   "cell_type": "code",
   "execution_count": null,
   "metadata": {
    "id": "5CwTOoJ2afUn"
   },
   "outputs": [],
   "source": [
    "df = pd.DataFrame({'religious identity':['jewish', 'christian', 'buddhist', \n",
    "                                     'hindu', 'mormon', \n",
    "                                     'atheist', 'muslim', 'other religion'], 'number of comments':[1031, 1605, 256, 436, 285, 341, 1920, 599]})\n",
    "ax = df.plot.bar(x='religious identity', y='number of comments', rot=70)"
   ]
  },
  {
   "cell_type": "code",
   "execution_count": null,
   "metadata": {
    "id": "JVXyr9GVtrIL"
   },
   "outputs": [],
   "source": [
    "df = pd.DataFrame({'religious identity':['jewish', 'christian', 'buddhist', \n",
    "                                     'hindu', 'mormon', \n",
    "                                     'atheist', 'muslim', 'other religion'], 'percentage of comments':[16, 25, 4, 7, 4, 5, 30, 9]})\n",
    "ax = df.plot.bar(x='religious identity', y='percentage of comments', rot=70)"
   ]
  },
  {
   "cell_type": "code",
   "execution_count": null,
   "metadata": {
    "id": "EhiTAqWB9Sso"
   },
   "outputs": [],
   "source": [
    "#variable that includes columns for national origin \n",
    "\n",
    "national_origin_attributes = data_identity[['country', 'immigrant', 'migrant_worker',\n",
    "                                            'undocumented', 'other_nationality']]"
   ]
  },
  {
   "cell_type": "code",
   "execution_count": null,
   "metadata": {
    "id": "GFjRvyjm_lNl"
   },
   "outputs": [],
   "source": [
    "#sum and loop\n",
    "total_national_origin = 0\n",
    "for col in national_origin_attributes:\n",
    "  print(col, national_origin_attributes[col].sum(), '% is', (((round(national_origin_attributes[col].sum()/6693, 2)*100))))\n",
    "  total_national_origin += national_origin_attributes[col].sum()\n",
    "print('total national origin', total_national_origin)"
   ]
  },
  {
   "cell_type": "code",
   "execution_count": null,
   "metadata": {
    "id": "y75XcAKjbc-c"
   },
   "outputs": [],
   "source": [
    "df = pd.DataFrame({'citizenship status':['country', 'immigrant', 'migrant worker', \n",
    "                                     'undocumented person', 'other nationality'], \n",
    "                   'number of comments':[3091, 1545, 493, 1043, 521]})\n",
    "ax = df.plot.bar(x='citizenship status', y='number of comments', rot=70)"
   ]
  },
  {
   "cell_type": "code",
   "execution_count": null,
   "metadata": {
    "id": "PknUWXxWyxkO"
   },
   "outputs": [],
   "source": [
    "df = pd.DataFrame({'citizenship status':['country', 'immigrant', 'migrant worker', \n",
    "                                     'undocumented person', 'other nationality'], \n",
    "                   'percentage of comments':[46, 23, 7, 16, 8]})\n",
    "ax = df.plot.bar(x='citizenship status', y='percentage of comments', rot=70)"
   ]
  },
  {
   "cell_type": "code",
   "execution_count": null,
   "metadata": {
    "id": "nz6TgRzU8DU2"
   },
   "outputs": [],
   "source": [
    "#variable that includes columns for gender \n",
    "\n",
    "gender_attributes = data_identity[['men', 'women', 'non-binary', \n",
    "                                   'transgender_women', 'transgender_men', \n",
    "                                   'transgender_unspecified', 'other_gender']]\n"
   ]
  },
  {
   "cell_type": "code",
   "execution_count": null,
   "metadata": {
    "id": "SxmPhvfa-lOP"
   },
   "outputs": [],
   "source": [
    "#loop and sum\n",
    "total_gender = 0\n",
    "\n",
    "for col in gender_attributes:\n",
    "  print(col, gender_attributes[col].sum(), '% is', (((round(gender_attributes[col].sum()/12041, 2)*100))))\n",
    "  total_gender += gender_attributes[col].sum()\n",
    "print('total gender', total_gender)"
   ]
  },
  {
   "cell_type": "code",
   "execution_count": null,
   "metadata": {
    "id": "_Ue76O92cQx_"
   },
   "outputs": [],
   "source": [
    "df = pd.DataFrame({'gender':['men', 'women', 'non-binary', \n",
    "                                     'transgender women', 'transgender men', \n",
    "                                     'transgender', 'other'], 'number of comments':[2820, 6592, 479, 596, 744, 660, 150]})\n",
    "ax = df.plot.bar(x='gender', y='number of comments', rot=70)"
   ]
  },
  {
   "cell_type": "code",
   "execution_count": null,
   "metadata": {
    "id": "U9PlGeP_b95i"
   },
   "outputs": [],
   "source": [
    "df = pd.DataFrame({'gender':['men', 'women', 'non-binary', \n",
    "                                     'transgender women', 'transgender men', \n",
    "                                     'transgender', 'other'], 'percentage of comments':[23, 55, 4, 5, 6, 5, 1]})\n",
    "ax = df.plot.bar(x='gender', y='percentage of comments', rot=70)"
   ]
  },
  {
   "cell_type": "code",
   "execution_count": null,
   "metadata": {
    "id": "y5y3TrMcAwMh"
   },
   "outputs": [],
   "source": [
    "print(data_identity.columns.values)\n"
   ]
  },
  {
   "cell_type": "code",
   "execution_count": null,
   "metadata": {
    "id": "Kz7RsBMK_3Nd"
   },
   "outputs": [],
   "source": [
    "#variable that includes columns for sexual orientation \n",
    "\n",
    "sexual_orientation_attributes = data_identity[['bisexual', 'gay', 'lesbian',\n",
    "                                               'heterosexual', 'other_sexuality']]"
   ]
  },
  {
   "cell_type": "code",
   "execution_count": null,
   "metadata": {
    "id": "AtzBNJXYF2bZ"
   },
   "outputs": [],
   "source": [
    "#loop and sum \n",
    "\n",
    "total_sexual_orientation = 0\n",
    "\n",
    "for col in sexual_orientation_attributes:\n",
    "  \n",
    "  print(col, sexual_orientation_attributes[col].sum(), '% is', (((round(sexual_orientation_attributes[col].sum()/8998, 2)*100))))\n",
    "  total_sexual_orientation += sexual_orientation_attributes[col].sum()\n",
    "\n",
    "print('total sexual orientation', total_sexual_orientation)\n",
    "\n",
    "\n",
    "\n",
    "# total_gender = 0\n",
    "\n",
    "# for col in gender_attributes:\n",
    "#   print(col, gender_attributes[col].sum(), '% is', (((round(gender_attributes[col].sum()/12041, 2)*100))))\n",
    "#   total_gender += gender_attributes[col].sum()\n",
    "# print('total gender', total_gender)"
   ]
  },
  {
   "cell_type": "code",
   "execution_count": null,
   "metadata": {
    "id": "fkvPF4UHdDMk"
   },
   "outputs": [],
   "source": [
    "df = pd.DataFrame({'sexual orientation':['bisexual', 'gay', 'lesbian', \n",
    "                                     'heterosexual', 'other sexuality'], \n",
    "                   'percentage of comments':[18, 41, 15, 19, 6]})\n",
    "ax = df.plot.bar(x='sexual orientation', y='percentage of comments', rot=70)"
   ]
  },
  {
   "cell_type": "code",
   "execution_count": null,
   "metadata": {
    "id": "1_s-h06CdDeh"
   },
   "outputs": [],
   "source": [
    "df = pd.DataFrame({'sexual orientation':['bisexual', 'gay', 'lesbian', \n",
    "                                     'heterosexual', 'other sexuality'], \n",
    "                   'percentage of comments':[1650, 3690, 1378, 1745, 535]})\n",
    "ax = df.plot.bar(x='sexual orientation', y='number of comments', rot=70)"
   ]
  },
  {
   "cell_type": "code",
   "execution_count": null,
   "metadata": {
    "id": "8KZxTlk8HBmn"
   },
   "outputs": [],
   "source": [
    "#variable that includes columns for age\n",
    "\n",
    "age_attributes = data_identity[['children', 'adolescents', 'adults', \n",
    "                                'middle-aged', 'seniors', 'other_age']]"
   ]
  },
  {
   "cell_type": "code",
   "execution_count": null,
   "metadata": {
    "id": "wySDwX4zI6Lo"
   },
   "outputs": [],
   "source": [
    "#loop and sum \n",
    "total_age = 0 \n",
    "for col in age_attributes:\n",
    "  print(col, age_attributes[col].sum(), '% is', (((round(age_attributes[col].sum()/1495, 2)*100))))\n",
    "  total_age += age_attributes[col].sum()\n",
    "print('total age is', total_age)"
   ]
  },
  {
   "cell_type": "code",
   "execution_count": null,
   "metadata": {
    "id": "BzT-gs4tlhFo"
   },
   "outputs": [],
   "source": [
    "df = pd.DataFrame({'age': ['children', 'adolescents', 'adults', \n",
    "                                     'middle aged', 'seniors', 'other age'], \n",
    "                   'percentage of comments':[15, 19, 32, 18, 13, 2]})\n",
    "\n",
    "ax = df.plot.bar(x='age', y='percentage of comments', rot=70)"
   ]
  },
  {
   "cell_type": "code",
   "execution_count": null,
   "metadata": {
    "id": "a52L1-x4lhSP"
   },
   "outputs": [],
   "source": [
    "df = pd.DataFrame({'age': ['children', 'adolescents', 'adults', \n",
    "                                     'middle aged', 'seniors', 'other age'], \n",
    "                   'number of comments':[227, 280, 485, 272, 196, 35]})\n",
    "\n",
    "ax = df.plot.bar(x='age', y='number of comments', rot=70)"
   ]
  },
  {
   "cell_type": "code",
   "execution_count": null,
   "metadata": {
    "id": "6WPyLRDGJwVk"
   },
   "outputs": [],
   "source": [
    "#variable that includes columns for disability \n",
    "\n",
    "disability_attributes = data_identity[['physical_disability', 'cognitive_disability', 'mental_health',\n",
    "                          'visually_impaired', 'hearing_impaired', 'not_specific', \n",
    "                          'other_disability']]"
   ]
  },
  {
   "cell_type": "code",
   "execution_count": null,
   "metadata": {
    "id": "1KqtI27QKQ5J"
   },
   "outputs": [],
   "source": [
    "#loop and sum\n",
    "total_disability = 0\n",
    "for col in disability_attributes:\n",
    "\n",
    "  total_disability += disability_attributes[col].sum()\n",
    "  print(col, disability_attributes[col].sum(), '% is', (((round(disability_attributes[col].sum()/1079, 2)*100))))\n",
    "\n",
    "print('total disability', total_disability)"
   ]
  },
  {
   "cell_type": "code",
   "execution_count": null,
   "metadata": {
    "id": "sjZnm_ivlwcA"
   },
   "outputs": [],
   "source": [
    "df = pd.DataFrame({'disability':['physical disability', 'cognitive disability', 'mental health', \n",
    "                                     'visually impaired', 'hearing impaired', \n",
    "                                     'not specific disability', 'other disability'], \n",
    "                   'percentage of comments':[10, 37, 18, 7, 7, 16, 5]})\n",
    "ax = df.plot.bar(x='disability', y='percentage of comments', rot=70)"
   ]
  },
  {
   "cell_type": "code",
   "execution_count": null,
   "metadata": {
    "id": "6EHpy-PQmIo2"
   },
   "outputs": [],
   "source": [
    "df = pd.DataFrame({'disability':['physical disability', 'cognitive disability', 'mental health', \n",
    "                                     'visually impaired', 'hearing impaired', \n",
    "                                     'not specific disability', 'other disability'], \n",
    "                   'number of comments':[112, 399, 194, 74, 73, 176, 51]})\n",
    "ax = df.plot.bar(x='disability', y='number of comments', rot=70)"
   ]
  },
  {
   "cell_type": "code",
   "execution_count": null,
   "metadata": {
    "id": "kFJYwOaTosEH"
   },
   "outputs": [],
   "source": [
    "#attack_type_attribute = data_identity[['respect', 'insult', 'humiliate', \n",
    "                          #'status', 'dehumanize', 'violence_phys',\n",
    "                          #'genocide', 'attack_defend', 'hatespeech']]"
   ]
  },
  {
   "cell_type": "code",
   "execution_count": null,
   "metadata": {
    "id": "K0imK4r8aFlg"
   },
   "outputs": [],
   "source": [
    "#cut identity columns by platform\n",
    "#ie perhaps there's certain type of HS on these platforms that are different\n"
   ]
  },
  {
   "cell_type": "code",
   "execution_count": null,
   "metadata": {
    "id": "AaLxJK1OPARv"
   },
   "outputs": [],
   "source": [
    "## Ask Geoff - what does the unsure q_39 mean?\n",
    "## Ask Geoff - what does demo_race_ethnicitie_1-7 mean? likewise with religion etc"
   ]
  },
  {
   "cell_type": "code",
   "execution_count": null,
   "metadata": {
    "id": "Y3KcHlIkPChg"
   },
   "outputs": [],
   "source": [
    "#these are absolute values, do percentages instead [done]\n",
    "\n",
    "#stacked barplot by each different label (hate speech, dehumanizing, etc)\n",
    "#filter by comments that are actuall hate speech \n",
    "#there are 4 reviewers per comment, figureo ut how to visualize that\n",
    "\n",
    "#look into the other column - disability specifically seems to have something related to \n",
    "#fat people + HIV-positive people "
   ]
  },
  {
   "cell_type": "markdown",
   "metadata": {
    "id": "TwR7rIZVwypj"
   },
   "source": [
    "# **Filtering the Data by Comment Category: Hate Speech, Dehumanizing Speeech, etc**"
   ]
  },
  {
   "cell_type": "markdown",
   "metadata": {
    "id": "jOw6loVaxP3b"
   },
   "source": [
    "***Appendix A\n",
    "A.1 Scale items from labeling instrument***\n",
    "\n",
    "***Table A1. Scale items from labeling instrument. These items operationalize our hate speech construct and are aggregated\n",
    "into a continuous score via Rasch measurement theory.***\n",
    "\n",
    "\n",
    "Item name / Prompt/ Response options\n",
    "\n",
    "***Identities*** a \n",
    "Is the comment above directed at or about any individual or\n",
    "groups based on: (multiple selections allowed)\n",
    "\n",
    "Race or ethnicity, religion, national ori-\n",
    "gin or citizenship status, gender, sex-\n",
    "ual orientation, age, disability status, or\n",
    "none of the above\n",
    "\n",
    "1. ***Sentiment*** How would you describe the sentiment of this comment? Strongly negative, somewhat negative,\n",
    "neutral, somewhat positive, strongly\n",
    "positive\n",
    "2. ***Respect*** Is this comment respectful towards the group(s) you previously\n",
    "identified?\n",
    "Strongly disrespectful, disrespectful,\n",
    "neutral, respectful, strongly respectful\n",
    "3. ***Insult*** Do you agree or disagree with the following statement: This com-\n",
    "ment is insulting towards the group(s) you previously identified.\n",
    "Strongly disagree, disagree, neither dis-\n",
    "agree nor agree, agree, strongly agree\n",
    "4. ***Humiliate*** Do you agree or disagree with the following statement: This com-\n",
    "ment is humiliating towards the group(s) you previously identified.\n",
    "Strongly disagree, disagree, neither dis-\n",
    "agree nor agree, agree, strongly agree\n",
    "5. ***Status*** This comment states that the group(s) you previously identified\n",
    "is:\n",
    "Strongly inferior, inferior, neither supe-\n",
    "rior nor inferior, superior, strongly su-\n",
    "perior\n",
    "6. ***Dehumanize*** Do you agree or disagree with the following statement: This com-\n",
    "ment dehumanizes the group(s) you previously identified (e.g., by\n",
    "comparing them to an animal).\n",
    "Strongly disagree, disagree, neither dis-\n",
    "agree nor agree, agree, strongly agree\n",
    "7. ***Violence*** Do you agree or disagree with the following statement: This com-\n",
    "ment calls for using violence against the group(s) you previously\n",
    "identified.\n",
    "Strongly disagree, disagree, neither dis-\n",
    "agree nor agree, agree, strongly agree\n",
    "8. ***Genocide*** Do you agree or disagree with the following statement: This com-\n",
    "ment calls for the deliberate killing of a large group of people from\n",
    "the group(s) you previously identified.\n",
    "Strongly disagree, disagree, neither dis-\n",
    "agree nor agree, agree, strongly agree\n",
    "9. ***Attack-Defend*** Is the comment attacking or defending the group(s) you previously\n",
    "identified?\n",
    "Strongly defending, defending, nei-\n",
    "ther defending nor attacking, attacking,\n",
    "strongly attacking\n",
    "10. ***Hate speech***\n",
    "(binary)\n",
    "Does this comment contain hate speech, defined as “bias-motivated,\n",
    "hostile and malicious language targeted at a person/group because of\n",
    "their actual or perceived innate characteristics, especially when the\n",
    "group is unnecessarily labeled (e.g., ”jew bankers”, ’n hooligans’).” The\n",
    "comment contains hate speech if slurs or derogatory language are used\n",
    "toward any person or group regardless of whether or not the target is\n",
    "a member of the slur-target group. (e.g. a comment calling Trump a\n",
    "faggot or a n***** still contains hate speech).\n",
    "Yes, no, unclear\n",
    "aThis item is converted to a binary value of 0 if no identities are present and 1 if any identities are present. It is not directly used in the scale but if\n",
    "a comment is not flagged as having at least one identity group target then the remaining scale items are skipped in our labeling instrument.\n",
    "\n",
    "\n",
    "\n",
    "\n"
   ]
  },
  {
   "cell_type": "code",
   "execution_count": null,
   "metadata": {
    "id": "nI3wZkTdw5cR"
   },
   "outputs": [],
   "source": [
    "#one of the things that sticks out to me is that we're saying we're predicting hate speech\n",
    "#but at the same time hate speech is a variable in there, at the same level as dehumanization for example\n"
   ]
  },
  {
   "cell_type": "code",
   "execution_count": null,
   "metadata": {
    "id": "zxLGH1TQw51I"
   },
   "outputs": [],
   "source": [
    "data_multi.head(5)"
   ]
  },
  {
   "cell_type": "code",
   "execution_count": null,
   "metadata": {
    "id": "oQQLWGmyHU8k"
   },
   "outputs": [],
   "source": [
    "sort_by_sentiment = data_multi.sort_values('sentiment', ascending =False)"
   ]
  },
  {
   "cell_type": "code",
   "execution_count": null,
   "metadata": {
    "id": "XI6uo4bZqETy"
   },
   "outputs": [],
   "source": [
    "#sort_by_sentiment.head(10)"
   ]
  },
  {
   "cell_type": "code",
   "execution_count": null,
   "metadata": {
    "id": "pHamPspMqTWb"
   },
   "outputs": [],
   "source": [
    "#sort_by_sentiment.tail(10)"
   ]
  },
  {
   "cell_type": "markdown",
   "metadata": {
    "id": "PuKxQvHgw2EG"
   },
   "source": [
    "so chris said that looking at the raw scale items wouldn't be as useful bc we have a threshold that we set through the reference commments in order to adequately interpret those absolute numbers\n",
    "\n",
    "scores are 0-4 (not very x, not x, neutral, x, very x)\n"
   ]
  },
  {
   "cell_type": "code",
   "execution_count": null,
   "metadata": {
    "id": "7GZKpkZzw_Tc"
   },
   "outputs": [],
   "source": [
    "sort_by_respect = data_multi.sort_values('respect', ascending=False)"
   ]
  },
  {
   "cell_type": "code",
   "execution_count": null,
   "metadata": {
    "id": "eO40ujmK0eGL"
   },
   "outputs": [],
   "source": [
    "sort_by_respect.head(10)"
   ]
  },
  {
   "cell_type": "code",
   "execution_count": null,
   "metadata": {
    "id": "HRMbHoBpNsat"
   },
   "outputs": [],
   "source": [
    "#what do i want to look at here? the distribution of scores across comments, in other\n",
    "#words how many of these comments are labeled as 4 or 3 or 2 etc?"
   ]
  },
  {
   "cell_type": "code",
   "execution_count": null,
   "metadata": {
    "id": "yw3YsRuESAJL"
   },
   "outputs": [],
   "source": [
    "#comment_data = data_multi['sentiment', 'respect', 'insult', 'humiliate', 'status', 'dehumanize', 'violence_phys', 'genocide', 'attack_defend', 'hatespeech', 'comment_id']\n",
    "comment_data = data_multi.iloc[:, 0:10]\n",
    "#comment_data.to_csv('comment_data.csv')\n",
    "\n"
   ]
  },
  {
   "cell_type": "code",
   "execution_count": null,
   "metadata": {
    "id": "bQICus05Uj34"
   },
   "outputs": [],
   "source": [
    "comment_data['sentiment'].value_counts()"
   ]
  },
  {
   "cell_type": "code",
   "execution_count": null,
   "metadata": {
    "id": "QvWwLqkoZyKB"
   },
   "outputs": [],
   "source": [
    "sentiment = comment_data['sentiment']"
   ]
  },
  {
   "cell_type": "code",
   "execution_count": null,
   "metadata": {
    "id": "NujlhxATUkwp"
   },
   "outputs": [],
   "source": [
    "import seaborn as sns\n",
    "sns.set(style='whitegrid')\n",
    "ax = sns.countplot(x='sentiment', data=comment_data)\n",
    "labels = ['strongly positive', 'somewhat positive', 'neutral', 'somewhat negative', 'strongly negative']\n",
    "          \n",
    "ax.set_xticklabels(labels)\n",
    "ax.set_ylabel('Number of Raters')\n",
    "ax.set_xlabel('Sentiment')\n",
    "\n",
    "\n",
    "for name in ax.get_xticklabels(): #notsure what the get_xticklabels does, is it like getcolumnames \n",
    "  name.set_rotation(75) \n",
    "\n",
    "\n",
    "#plt.xticks(sentiment, ('strongly positive', 'somewhat positive', 'neutral', \n",
    "           #'somewhat negative', 'strongly negative'))"
   ]
  },
  {
   "cell_type": "code",
   "execution_count": null,
   "metadata": {
    "id": "e7XG-TEmgxV4"
   },
   "outputs": [],
   "source": [
    "genocide = comment_data['genocide'] #you don't have to do this step, you can just do step 2 \n",
    "comment_data['genocide'].value_counts()\n",
    "#genocide.value_counts()"
   ]
  },
  {
   "cell_type": "code",
   "execution_count": null,
   "metadata": {
    "id": "NKCy3kmhgT9Y"
   },
   "outputs": [],
   "source": [
    "\n",
    "sns.set(style='whitegrid')\n",
    "ax = sns.countplot(x='genocide', data=comment_data)\n",
    "\n",
    "labels = ['disagree', 'agree']\n",
    "          \n",
    "ax.set_xticklabels(labels)\n",
    "ax.set_ylabel('Number of Raters')\n",
    "ax.set_xlabel('Genocide')\n",
    "\n",
    "\n",
    "for name in ax.get_xticklabels(): #notsure what the get_xticklabels does, is it like getcolumnames \n",
    "  name.set_rotation(0) \n"
   ]
  },
  {
   "cell_type": "code",
   "execution_count": null,
   "metadata": {
    "id": "78l5mVWCajDz"
   },
   "outputs": [],
   "source": [
    "#forloop\n",
    "#hue in seaborn for cluster barplots"
   ]
  },
  {
   "cell_type": "markdown",
   "metadata": {
    "id": "eFGokeKxMFO_"
   },
   "source": [
    "how many comments were labeled as [insert term here] ? \n",
    "out of those comments labeled, how many of them had to do with [insert identity here]\n",
    "\n",
    "so above is a question of quantity, next we want to look at a question of degree \n",
    "(in which you'll have to look at degree)\n",
    "also it's 4 raters per comment right, so where can we see that? this dataset just shows us one raters decision\n",
    "you also have to rename the target identities 1-7 etc to correspond to race, gender, etc for this dataset"
   ]
  },
  {
   "cell_type": "code",
   "execution_count": null,
   "metadata": {
    "id": "1bbyqNXYKnlg"
   },
   "outputs": [],
   "source": [
    "data_multi.head(5)\n"
   ]
  },
  {
   "cell_type": "code",
   "execution_count": null,
   "metadata": {
    "id": "yAMVeYJlxKmN"
   },
   "outputs": [],
   "source": [
    "data_multi.sort_values('comment_id', ascending=False)"
   ]
  },
  {
   "cell_type": "code",
   "execution_count": null,
   "metadata": {
    "id": "q3WnwkBiaIkN"
   },
   "outputs": [],
   "source": [
    "#let's do a group by here\n",
    " #df.groupby(\"state\")[\"last_name\"].count()\n",
    "\n",
    "group_by_comment_id = data_multi.groupby(\"comment_id\").count().reset_index()\n",
    "group_by_comment_id.sort_values('comment_id', ascending=False)\n",
    "\n",
    "#group_by_comment_id.head(5)\n",
    "\n",
    "#we think that what we're looking at in the columns is actually just the number of raters\n",
    "#so it's not necessarily 4 raters per comment\n",
    "#one question to ask here then would be how many raters were assigned to each comment?\n",
    "\n"
   ]
  },
  {
   "cell_type": "code",
   "execution_count": null,
   "metadata": {
    "id": "Q9KQNbtcKpGw"
   },
   "outputs": [],
   "source": [
    "comment_data['respect'].value_counts()"
   ]
  },
  {
   "cell_type": "code",
   "execution_count": null,
   "metadata": {
    "id": "_HMsO4Q2OPri"
   },
   "outputs": [],
   "source": [
    "sns.set(style='whitegrid')\n",
    "ax = sns.countplot(x='respect', data=comment_data)\n",
    "\n",
    "labels = ['Very respectful', 'somewhat respectful', 'neither disrespectful nor respectful', 'somewhat disrespectful', 'very disrespectful']\n",
    "          \n",
    "ax.set_xticklabels(labels)\n",
    "ax.set_ylabel('Number of Raters')\n",
    "ax.set_xlabel('Respect')\n",
    "\n",
    "\n",
    "for name in ax.get_xticklabels(): #notsure what the get_xticklabels does, is it like getcolumnames \n",
    "  name.set_rotation(75) \n"
   ]
  },
  {
   "cell_type": "code",
   "execution_count": null,
   "metadata": {
    "id": "ztnUOxNGOckq"
   },
   "outputs": [],
   "source": [
    "comment_data['insult'].value_counts()"
   ]
  },
  {
   "cell_type": "code",
   "execution_count": null,
   "metadata": {
    "id": "KEDB_aoxOl3l"
   },
   "outputs": [],
   "source": [
    "sns.set(style='whitegrid')\n",
    "ax = sns.countplot(x='insult', data=comment_data)\n",
    "\n",
    "labels = ['somewhat disagree', 'disagree', 'neither agree nor disagree', 'agree']\n",
    "          \n",
    "ax.set_xticklabels(labels)\n",
    "ax.set_ylabel('Number of Raters')\n",
    "ax.set_xlabel('Insult')\n",
    "\n",
    "\n",
    "for name in ax.get_xticklabels(): #notsure what the get_xticklabels does, is it like getcolumnames \n",
    "  name.set_rotation(75) \n",
    "\n",
    "\n"
   ]
  },
  {
   "cell_type": "code",
   "execution_count": null,
   "metadata": {
    "id": "2kNWrafYOoau"
   },
   "outputs": [],
   "source": [
    "comment_data['humiliate'].value_counts()"
   ]
  },
  {
   "cell_type": "code",
   "execution_count": null,
   "metadata": {
    "id": "wQf4ammlOzlV"
   },
   "outputs": [],
   "source": [
    "sns.set(style='whitegrid')\n",
    "ax = sns.countplot(x='humiliate', data=comment_data)\n",
    "\n",
    "labels = ['somewhat disagree', 'neither agree nor disagree', 'agree']\n",
    "          \n",
    "ax.set_xticklabels(labels)\n",
    "ax.set_ylabel('Number of Raters')\n",
    "ax.set_xlabel('Humiliate')\n",
    "\n",
    "\n",
    "for name in ax.get_xticklabels(): #notsure what the get_xticklabels does, is it like getcolumnames \n",
    "  name.set_rotation(75) \n",
    "\n"
   ]
  },
  {
   "cell_type": "code",
   "execution_count": null,
   "metadata": {
    "id": "WQCAG-cDO2Mg"
   },
   "outputs": [],
   "source": [
    "comment_data['status'].value_counts()"
   ]
  },
  {
   "cell_type": "code",
   "execution_count": null,
   "metadata": {
    "id": "JsDaATwdO6Ev"
   },
   "outputs": [],
   "source": [
    "sns.set(style='whitegrid')\n",
    "ax = sns.countplot(x='status', data=comment_data)\n",
    "\n",
    "labels = ['Inferior', 'Superior']\n",
    "          \n",
    "ax.set_xticklabels(labels)\n",
    "ax.set_ylabel('Number of Raters')\n",
    "ax.set_xlabel('Status')\n",
    "\n",
    "\n",
    "for name in ax.get_xticklabels(): #notsure what the get_xticklabels does, is it like getcolumnames \n",
    "  name.set_rotation(0) \n"
   ]
  },
  {
   "cell_type": "code",
   "execution_count": null,
   "metadata": {
    "id": "-MAtZ40xPzzd"
   },
   "outputs": [],
   "source": [
    "comment_data['dehumanize'].value_counts()"
   ]
  },
  {
   "cell_type": "code",
   "execution_count": null,
   "metadata": {
    "id": "b9jdquV6P7lT"
   },
   "outputs": [],
   "source": [
    "sns.set(style='whitegrid')\n",
    "ax = sns.countplot(x='dehumanize', data=comment_data)\n",
    "\n",
    "labels = ['Disagree', 'Agree']\n",
    "          \n",
    "ax.set_xticklabels(labels)\n",
    "ax.set_ylabel('Number of Raters')\n",
    "ax.set_xlabel('Dehumanization')\n",
    "\n",
    "\n",
    "for name in ax.get_xticklabels(): #notsure what the get_xticklabels does, is it like getcolumnames \n",
    "  name.set_rotation(0) \n"
   ]
  },
  {
   "cell_type": "code",
   "execution_count": null,
   "metadata": {
    "id": "4y0QFtLUP_iB"
   },
   "outputs": [],
   "source": [
    "comment_data['violence_phys'].value_counts()"
   ]
  },
  {
   "cell_type": "code",
   "execution_count": null,
   "metadata": {
    "id": "2m-DKT2lQJoW"
   },
   "outputs": [],
   "source": [
    "sns.set(style='whitegrid')\n",
    "ax = sns.countplot(x='violence_phys', data=comment_data)\n",
    "\n",
    "labels = ['Disagree', 'Agree']\n",
    "          \n",
    "ax.set_xticklabels(labels)\n",
    "ax.set_ylabel('Number of Raters')\n",
    "ax.set_xlabel('Physical Violence')\n",
    "\n",
    "\n",
    "for name in ax.get_xticklabels(): #notsure what the get_xticklabels does, is it like getcolumnames \n",
    "  name.set_rotation(0) \n"
   ]
  },
  {
   "cell_type": "code",
   "execution_count": null,
   "metadata": {
    "id": "LJNG2QVESqSd"
   },
   "outputs": [],
   "source": [
    "comment_data['attack_defend'].value_counts()"
   ]
  },
  {
   "cell_type": "code",
   "execution_count": null,
   "metadata": {
    "id": "geWUTU2fSvPQ"
   },
   "outputs": [],
   "source": [
    "sns.set(style='whitegrid')\n",
    "ax = sns.countplot(x='attack_defend', data=comment_data)\n",
    "\n",
    "labels = ['strongly defending', 'defending', 'neither defending nor attacking', 'attacking']\n",
    "          \n",
    "ax.set_xticklabels(labels)\n",
    "ax.set_ylabel('Number of Raters')\n",
    "ax.set_xlabel('Attack or Defend')\n",
    "\n",
    "\n",
    "for name in ax.get_xticklabels(): #notsure what the get_xticklabels does, is it like getcolumnames \n",
    "  name.set_rotation(75) \n"
   ]
  },
  {
   "cell_type": "code",
   "execution_count": null,
   "metadata": {
    "id": "hDLJKvEDS0iJ"
   },
   "outputs": [],
   "source": [
    "comment_data['hatespeech'].value_counts()"
   ]
  },
  {
   "cell_type": "code",
   "execution_count": null,
   "metadata": {
    "id": "XntKKwWBUYRs"
   },
   "outputs": [],
   "source": [
    "sns.set(style='whitegrid')\n",
    "ax = sns.countplot(x='hatespeech', data=comment_data)\n",
    "\n",
    "\n",
    "labels = ['no', 'yes']\n",
    "          \n",
    "ax.set_xticklabels(labels)\n",
    "ax.set_ylabel('Number of Raters')\n",
    "ax.set_xlabel('Hate Speech')\n",
    "\n",
    "\n",
    "for name in ax.get_xticklabels(): #notsure what the get_xticklabels does, is it like getcolumnames \n",
    "  name.set_rotation(75) \n"
   ]
  },
  {
   "cell_type": "markdown",
   "metadata": {
    "id": "oEjsz2GdUu-4"
   },
   "source": [
    "so what we have above is the distribution of degrees for the different dimensions, ie humiliate, sentiment, status, etc - some of them are binary (0,1) by definition the others are categorical (0-4) \n",
    "\n",
    "the other questions i'll want to ask here relate to the demographic background of the raters themselves - and how that may correlate with particular interpretations of the text (does this count as racism? and if so, how severe it is, for example)"
   ]
  },
  {
   "cell_type": "markdown",
   "metadata": {
    "id": "p1GZrLvM3UZl"
   },
   "source": [
    "# **NEW SECTION: RATERS DEMOGRAPHIC BACKGROUND**"
   ]
  },
  {
   "cell_type": "code",
   "execution_count": null,
   "metadata": {
    "id": "wNm-ZQOyX9qc"
   },
   "outputs": [],
   "source": [
    "#cluster the demographic groups, so if race = black, race = white, race = latinx (on the x axis) how much content did they identify\n",
    "#as problematic towards black people? or POC generally?\n",
    "\n",
    "#this might be hard to quantify bc you have random chance intervening, how many labelers were given content relating to \n",
    "#types of hate speech against POC, etc? and since they're creating ground truth, you couldn't do a ratio of \n",
    "#number of identified as hate speech against POC [yes / no] / actually hate speech against POC confirmed\n",
    "\n",
    "#could we do some analysis to determine if the differences are statistically significant intstead of just plotting the data viz?\n",
    "#like maybe some t-tests or something like that\n",
    "\n",
    "#another way to get to this, would be to look at the 3-4 reviewers per post and see variation in the lablers for those posts,\n",
    "#so it's kinda like holding constant for being assigned to a particular post that may or may not have hate speech against a \n",
    "#given group \n"
   ]
  },
  {
   "cell_type": "markdown",
   "metadata": {
    "id": "poOiWNXJ0LrQ"
   },
   "source": [
    " \"demo_gender\",  # Annotator's gender\n",
    "    \"demo_gender_4_text\",\n",
    "    \"demo_trans\",  # Does the annotator identity as transgender?\n",
    "    \"demo_educ\",  # Annotator's education\n",
    "    \"demo_race_ethnicitie_1\",  # Annotator's ethnicity\n",
    "    \"demo_race_ethnicitie_2\",\n",
    "    \"demo_race_ethnicitie_3\",\n",
    "    \"demo_race_ethnicitie_4\",\n",
    "    \"demo_race_ethnicitie_5\",\n",
    "    \"demo_race_ethnicitie_8\",\n",
    "    \"demo_race_ethnicitie_6\",\n",
    "    \"demo_race_ethnicitie_7\",\n",
    "    \"demo_race_ethnicitie_7_text\",\n",
    "    \"demo_age\",  # Annotator's age\n",
    "    \"demo_income\",  # Annotator's income\n",
    "    \"demo_religion_1\",  # Annotator's religion\n",
    "    \"demo_religion_2\",\n",
    "    \"demo_religion_11\",\n",
    "    \"demo_religion_4\",\n",
    "    \"demo_religion_5\",\n",
    "    \"demo_religion_7\",\n",
    "    \"demo_religion_8\",\n",
    "    \"demo_religion_9\",\n",
    "    \"demo_religion_10\",\n",
    "    \"demo_religion_10_text\",\n",
    "    \"demo_sexual_orien_1\",  # Annotator's sexual orientation\n",
    "    \"demo_sexual_orien_2\",\n",
    "    \"demo_sexual_orien_3\",\n",
    "    \"demo_sexual_orien_4\",\n",
    "    \"demo_sexual_orien_5\",\n",
    "    \"demo_sexual_orien_4_text\",\n",
    "    \"demo_ideology\",  # Annotator's ideology"
   ]
  },
  {
   "cell_type": "code",
   "execution_count": null,
   "metadata": {
    "id": "aViSdcQFAzBR"
   },
   "outputs": [],
   "source": [
    " #renaming the variables so they make sense \n",
    " #data_demo = datamulti(columns={'demo_gender': 'race', "
   ]
  },
  {
   "cell_type": "code",
   "execution_count": null,
   "metadata": {
    "id": "zvOGYN9BWkAB"
   },
   "outputs": [],
   "source": [
    "data_multi[['labeler_id','demo_gender']]"
   ]
  },
  {
   "cell_type": "code",
   "execution_count": null,
   "metadata": {
    "id": "EI4dIVTcB5KR"
   },
   "outputs": [],
   "source": [
    " data_multi.drop_duplicates(['labeler_id', 'demo_gender'])['demo_gender'].value_counts()\n",
    " #['demo_gender']\n",
    " #.reset_index()"
   ]
  },
  {
   "cell_type": "code",
   "execution_count": null,
   "metadata": {
    "id": "WmF_GbxYTFpE"
   },
   "outputs": [],
   "source": [
    "#data_multi['demo_gender']\n",
    "#print(data_multi)\n",
    "\n",
    "#Female(1), Male(2), Nonbinary or third gender (3), Prefer not to say (5), \n",
    "#refer to self describe (4)\n",
    "#np.unique(data_multi['demo_gender'], return_counts=True)\n",
    "data_multi['demo_gender'].value_counts()\n",
    "\n",
    "\n",
    "#data_multi['demo_gender'].isnull().sum() \n",
    "#answer = 0\n",
    "#this makes sense bc people who opt-ed out of this question chose number 4\n",
    "\n",
    "#check for NaN values here to see if they need to be filled\n",
    "#df['your column name'].isnull().sum()\n",
    " \n",
    "\n",
    "\n",
    "#how to fill nan values with 0s or wahtever is appropriate \n",
    "\n",
    "#df['DataFrame Column'] = df['DataFrame Column'].fillna(0)\n",
    "#df.fillna(0)"
   ]
  },
  {
   "cell_type": "code",
   "execution_count": null,
   "metadata": {
    "id": "Fxbtf6VFufZ6"
   },
   "outputs": [],
   "source": [
    "df_gender = pd.DataFrame({'gender':['female', 'male', 'non-binary', \n",
    "                                     'declined', 'self desc'], \n",
    "                   'number of raters':[4426, 3392, 59, 28, 6]})"
   ]
  },
  {
   "cell_type": "code",
   "execution_count": null,
   "metadata": {
    "id": "097hzKBZ1YUy"
   },
   "outputs": [],
   "source": [
    "sns.set(style='whitegrid')\n",
    "ax = sns.barplot(x='gender', y ='number of raters', data=df_gender)\n",
    "#we can't see 3,4, 5 in this graph even though we know they're significant\n",
    "#rename x axis and y axis"
   ]
  },
  {
   "cell_type": "code",
   "execution_count": null,
   "metadata": {
    "id": "Tvcvo9GBw8zJ"
   },
   "outputs": [],
   "source": [
    " data_multi.drop_duplicates(['labeler_id', 'demo_gender_4_text'])['demo_gender_4_text'].value_counts()"
   ]
  },
  {
   "cell_type": "code",
   "execution_count": null,
   "metadata": {
    "id": "4O9GxTQx6Cfu"
   },
   "outputs": [],
   "source": [
    "#data_multi['demo_gender_4_text']\n",
    "np.unique(data_multi['demo_gender_4_text'], return_counts=True)\n",
    "data_multi['demo_gender_4_text'].value_counts() \n",
    "#133437 are all unique responses\n",
    "\n",
    "#np.unique gives me the unique instances \n",
    "#return_counts=True gives me the number each instance shows up; default false"
   ]
  },
  {
   "cell_type": "code",
   "execution_count": null,
   "metadata": {
    "id": "JjYX18-u2t49"
   },
   "outputs": [],
   "source": [
    "np.unique(data_multi['demo_gender_4_text'])"
   ]
  },
  {
   "cell_type": "code",
   "execution_count": null,
   "metadata": {
    "id": "PPejYwjW3d96"
   },
   "outputs": [],
   "source": [
    "data_multi['demo_gender_4_text']"
   ]
  },
  {
   "cell_type": "code",
   "execution_count": null,
   "metadata": {
    "id": "PSHfSKER5Hv6"
   },
   "outputs": [],
   "source": [
    "\n",
    "#np.unique(data_multi['demo_trans'], return_counts=True)\n",
    "\n",
    "#data_multi['demo_trans'].isnull().sum() \n",
    "#the answer to this is 0 here as well\n",
    "\n",
    "data_multi['demo_trans'].value_counts()\n",
    "\n",
    "#need to get rid of the nans by basically just turning them into 0s\n",
    "#so they can be aggregated out np.unique(data_multi['demo_trans'], return_counts=True)\n",
    "\n",
    "#trans (1), not trans (2), prefer not to say (4)"
   ]
  },
  {
   "cell_type": "code",
   "execution_count": null,
   "metadata": {
    "id": "zUANPD5wxQ9d"
   },
   "outputs": [],
   "source": [
    " data_multi.drop_duplicates(['labeler_id', 'demo_trans'])['demo_trans'].value_counts()"
   ]
  },
  {
   "cell_type": "code",
   "execution_count": null,
   "metadata": {
    "id": "3UH9cRy8xUwd"
   },
   "outputs": [],
   "source": [
    "df_trans = pd.DataFrame({'trans':['yes', 'no', 'declined'], \n",
    "                   'number of raters':[67, 7806, 39]})"
   ]
  },
  {
   "cell_type": "code",
   "execution_count": null,
   "metadata": {
    "id": "BNOFCeXt5dUG"
   },
   "outputs": [],
   "source": [
    "sns.set(style='whitegrid')\n",
    "ax = sns.barplot(x='trans', y='number of raters', data=df_trans)\n",
    "#maybe use a stacked bar chart here?"
   ]
  },
  {
   "cell_type": "code",
   "execution_count": null,
   "metadata": {
    "id": "WOx-VGPay6J6"
   },
   "outputs": [],
   "source": [
    "data_multi.drop_duplicates(['labeler_id', 'demo_educ'])['demo_educ'].value_counts()"
   ]
  },
  {
   "cell_type": "code",
   "execution_count": null,
   "metadata": {
    "id": "kFyzznzUTUyx"
   },
   "outputs": [],
   "source": [
    "#np.unique(data_multi['demo_educ'], return_counts=True)\n",
    "data_multi['demo_educ'].value_counts()\n",
    "#some high school (1)\n",
    "#high school graduate (2)\n",
    "#some college (3)\n",
    "#college graduate (AA /AS ) (5)\n",
    "#college graduate (BA / BS) (6)\n",
    "#masteers degree (MA / MS) (7)\n",
    "#professional degree (JD / MBA) (8)\n",
    "#doctoral degree (PhD)"
   ]
  },
  {
   "cell_type": "code",
   "execution_count": null,
   "metadata": {
    "id": "tlXSYgj-zJ-U"
   },
   "outputs": [],
   "source": [
    "df_educ = pd.DataFrame({'edu level':['high school', 'high school grad', 'college', \n",
    "                                     'AA grad', 'BA grad', 'masters', 'professional', 'doctoral'], \n",
    "                   'number of raters':[49, 859, 2064, 1041, 2913, 729, 176, 89]})"
   ]
  },
  {
   "cell_type": "code",
   "execution_count": null,
   "metadata": {
    "id": "yCHhcws3_KUE"
   },
   "outputs": [],
   "source": [
    "sns.set(style='whitegrid')\n",
    "ax = sns.barplot(x='edu level', y='number of raters', data=df_educ)\n",
    "\n",
    "for name in ax.get_xticklabels(): #notsure what the get_xticklabels does, is it like getcolumnames \n",
    "  name.set_rotation(75) "
   ]
  },
  {
   "cell_type": "code",
   "execution_count": null,
   "metadata": {
    "id": "hZytGRLroUPj"
   },
   "outputs": [],
   "source": [
    "#np.unique(data_multi['demo_race_ethnicitie_1'], return_counts=True)\n",
    "#see if there are any NaNs here\n",
    "\n",
    "#data_multi['demo_race_ethnicitie_1'].isnull().sum()\n",
    "data_multi['demo_race_ethnicitie_1'].value_counts()\n",
    "#american indian or alaska native"
   ]
  },
  {
   "cell_type": "code",
   "execution_count": null,
   "metadata": {
    "id": "oe0twh-D1pl6"
   },
   "outputs": [],
   "source": [
    "data_multi.drop_duplicates(['labeler_id', 'demo_race_ethnicitie_1'])['demo_race_ethnicitie_1'].value_counts()"
   ]
  },
  {
   "cell_type": "code",
   "execution_count": null,
   "metadata": {
    "id": "JcRLYLbvoWTl"
   },
   "outputs": [],
   "source": [
    "#np.unique(data_multi['demo_race_ethnicitie_2'], return_counts=True)\n",
    "data_multi['demo_race_ethnicitie_2'].value_counts()\n",
    "#asian"
   ]
  },
  {
   "cell_type": "code",
   "execution_count": null,
   "metadata": {
    "id": "ygw4PjmD1xKr"
   },
   "outputs": [],
   "source": [
    "data_multi.drop_duplicates(['labeler_id', 'demo_race_ethnicitie_2'])['demo_race_ethnicitie_2'].value_counts()"
   ]
  },
  {
   "cell_type": "code",
   "execution_count": null,
   "metadata": {
    "id": "bsgQB_U7oXZN"
   },
   "outputs": [],
   "source": [
    "#np.unique(data_multi['demo_race_ethnicitie_3'], return_counts=True)\n",
    "data_multi['demo_race_ethnicitie_3'].value_counts()\n",
    "#black or african american"
   ]
  },
  {
   "cell_type": "code",
   "execution_count": null,
   "metadata": {
    "id": "U9LgX_6112Aa"
   },
   "outputs": [],
   "source": [
    "data_multi.drop_duplicates(['labeler_id', 'demo_race_ethnicitie_3'])['demo_race_ethnicitie_3'].value_counts()"
   ]
  },
  {
   "cell_type": "code",
   "execution_count": null,
   "metadata": {
    "id": "HDfI31afoYH_"
   },
   "outputs": [],
   "source": [
    "#np.unique(data_multi['demo_race_ethnicitie_4'], return_counts=True)\n",
    "data_multi['demo_race_ethnicitie_4'].value_counts()\n",
    "#hispanic or latino"
   ]
  },
  {
   "cell_type": "code",
   "execution_count": null,
   "metadata": {
    "id": "6NSXcgLG15WM"
   },
   "outputs": [],
   "source": [
    "data_multi.drop_duplicates(['labeler_id', 'demo_race_ethnicitie_4'])['demo_race_ethnicitie_4'].value_counts()"
   ]
  },
  {
   "cell_type": "code",
   "execution_count": null,
   "metadata": {
    "id": "tLKXcdXYoYw1"
   },
   "outputs": [],
   "source": [
    "#np.unique(data_multi['demo_race_ethnicitie_5'], return_counts=True)\n",
    "\n",
    "data_multi['demo_race_ethnicitie_5'].value_counts()\n",
    "#native hawaiian / pacific islander"
   ]
  },
  {
   "cell_type": "code",
   "execution_count": null,
   "metadata": {
    "id": "Bhr2X7Tz18zf"
   },
   "outputs": [],
   "source": [
    "data_multi.drop_duplicates(['labeler_id', 'demo_race_ethnicitie_5'])['demo_race_ethnicitie_5'].value_counts()"
   ]
  },
  {
   "cell_type": "code",
   "execution_count": null,
   "metadata": {
    "id": "GK_JeVEhoZmO"
   },
   "outputs": [],
   "source": [
    "#np.unique(data_multi['demo_race_ethnicitie_6'], return_counts=True)\n",
    "data_multi['demo_race_ethnicitie_6'].value_counts()\n",
    "#white"
   ]
  },
  {
   "cell_type": "code",
   "execution_count": null,
   "metadata": {
    "id": "sjCr_krV2AOu"
   },
   "outputs": [],
   "source": [
    "data_multi.drop_duplicates(['labeler_id', 'demo_race_ethnicitie_6'])['demo_race_ethnicitie_6'].value_counts()"
   ]
  },
  {
   "cell_type": "code",
   "execution_count": null,
   "metadata": {
    "id": "uO8VmdxrgzQv"
   },
   "outputs": [],
   "source": [
    "#np.unique(data_multi['demo_race_ethnicitie_7'], return_counts=True)\n",
    "#these are just the number of people that wrote 'other' \n",
    "#these are the number of people who identified with other\n",
    "\n",
    "data_multi['demo_race_ethnicitie_7'].value_counts()"
   ]
  },
  {
   "cell_type": "code",
   "execution_count": null,
   "metadata": {
    "id": "pqDELM6m2DAo"
   },
   "outputs": [],
   "source": [
    "data_multi.drop_duplicates(['labeler_id', 'demo_race_ethnicitie_7'])['demo_race_ethnicitie_7'].value_counts()"
   ]
  },
  {
   "cell_type": "code",
   "execution_count": null,
   "metadata": {
    "id": "6Pnr9k5zsLxC"
   },
   "outputs": [],
   "source": [
    "np.unique(data_multi['demo_race_ethnicitie_7_text'], return_counts=False)\n",
    "#these are the number of people that responded with 'other' \n",
    "#and what they wrote in the fill in the blank \n",
    "#the majority were empty ''"
   ]
  },
  {
   "cell_type": "code",
   "execution_count": null,
   "metadata": {
    "id": "iTrmBB5u2LPt"
   },
   "outputs": [],
   "source": [
    "data_multi.drop_duplicates(['labeler_id', 'demo_race_ethnicitie_7_text'])['demo_race_ethnicitie_7_text'].value_counts()"
   ]
  },
  {
   "cell_type": "code",
   "execution_count": null,
   "metadata": {
    "id": "uRD7OOKYuPWh"
   },
   "outputs": [],
   "source": [
    "#np.unique(data_multi['demo_race_ethnicitie_8'], return_counts=True)\n",
    "data_multi['demo_race_ethnicitie_8'].value_counts()\n",
    "#middle eastern"
   ]
  },
  {
   "cell_type": "code",
   "execution_count": null,
   "metadata": {
    "id": "A5q1C_gP2R-q"
   },
   "outputs": [],
   "source": [
    "data_multi.drop_duplicates(['labeler_id', 'demo_race_ethnicitie_8'])['demo_race_ethnicitie_8'].value_counts()"
   ]
  },
  {
   "cell_type": "code",
   "execution_count": 51,
   "metadata": {
    "id": "kOD5VKqpEzVC"
   },
   "outputs": [
    {
     "data": {
      "image/png": "[encoded data removed]",
      "text/plain": [
       "<Figure size 432x288 with 1 Axes>"
      ]
     },
     "metadata": {
      "needs_background": "light"
     },
     "output_type": "display_data"
    }
   ],
   "source": [
    "#race_ethnicities = []\n",
    "#sns.barplot()\n",
    "\n",
    "df = pd.DataFrame({'race':['american indian / alaska native', 'asian', 'black / african american', \n",
    "                                       'hispanic / latino', 'native hawaiian / pacific islander', 'white', \n",
    "                                     'other', 'middle eastern'], \n",
    "                   'number of raters':[154, 552, 791, 560, 28, 6373, 80, 51]})\n",
    "\n",
    "\n",
    "ax = df.plot(x='race', y='number of raters', kind='barh')"
   ]
  },
  {
   "cell_type": "code",
   "execution_count": null,
   "metadata": {
    "id": "RLrtwMASTkk7"
   },
   "outputs": [],
   "source": [
    "#np.unique(data_multi['demo_age'], return_counts=True)\n",
    "\n",
    "data_multi['demo_age'].value_counts()\n",
    "\n",
    "\n",
    "#year of birth \n",
    "#2002(1)....1919(185)"
   ]
  },
  {
   "cell_type": "code",
   "execution_count": null,
   "metadata": {
    "id": "Z04iO4mz31w8"
   },
   "outputs": [],
   "source": [
    " df_age = data_multi.drop_duplicates(['labeler_id', 'demo_age'])['demo_age'].value_counts().reset_index()\n",
    " df_age"
   ]
  },
  {
   "cell_type": "code",
   "execution_count": null,
   "metadata": {
    "id": "PRTtD6esEz-x"
   },
   "outputs": [],
   "source": [
    "#maybe do list iteration here / for loop to get 0 = certain age, 1 = certain age\n",
    "#the nchange the ticks so they're smaller?"
   ]
  },
  {
   "cell_type": "code",
   "execution_count": null,
   "metadata": {
    "id": "2KQ1anY5YYyf"
   },
   "outputs": [],
   "source": [
    "sns.set(style='whitegrid')\n",
    "ax = sns.barplot(x='demo_age', y='index', data=df_age)\n",
    "#need to clean up xlabels\n",
    "#need to assign numbers 1-185 to years "
   ]
  },
  {
   "cell_type": "code",
   "execution_count": null,
   "metadata": {
    "id": "EgAoAR5Qvkb7"
   },
   "outputs": [],
   "source": [
    "#income = np.unique(data_multi['demo_income'], return_counts=True)\n",
    "\n",
    "data_multi['demo_income'].value_counts()\n",
    "#household income, before taxes\n",
    "#10,000 or less (1)\n",
    "#10,001 - 50,000 (2)\n",
    "#50,001 - 100,000 (3)\n",
    "#100,001 - 200,004 (4)\n",
    "#more than 200,000 (5)"
   ]
  },
  {
   "cell_type": "code",
   "execution_count": null,
   "metadata": {
    "id": "2BSsqfb_CpVg"
   },
   "outputs": [],
   "source": [
    " data_multi.drop_duplicates(['labeler_id', 'demo_income'])['demo_income'].value_counts()"
   ]
  },
  {
   "cell_type": "code",
   "execution_count": null,
   "metadata": {
    "id": "ieWpAzS3Iudu"
   },
   "outputs": [],
   "source": [
    "df_income = pd.DataFrame({'income':['10k or less', '10k - 50k', '50k - 100k', '100k - 200k', '>200k'], \n",
    "                   'number of raters':[375, 3321, 3079, 1009, 122]})"
   ]
  },
  {
   "cell_type": "code",
   "execution_count": null,
   "metadata": {
    "id": "mSi8cVkeY6In"
   },
   "outputs": [],
   "source": [
    "sns.set(style='whitegrid')\n",
    "ax = sns.barplot(x='income', y='number of raters', data=df_income)"
   ]
  },
  {
   "cell_type": "code",
   "execution_count": null,
   "metadata": {
    "id": "yPAHKLBKv2ow"
   },
   "outputs": [],
   "source": [
    "#np.unique(data_multi['demo_religion_1'], return_counts=True)\n",
    "#atheist (1)\n",
    "\n",
    "data_multi['demo_religion_1'].value_counts()\n",
    "\n"
   ]
  },
  {
   "cell_type": "code",
   "execution_count": null,
   "metadata": {
    "id": "uyVRihovMhyX"
   },
   "outputs": [],
   "source": [
    " data_multi.drop_duplicates(['labeler_id', 'demo_religion_1'])['demo_religion_1'].value_counts()"
   ]
  },
  {
   "cell_type": "code",
   "execution_count": null,
   "metadata": {
    "id": "pXc1oqyVwgFt"
   },
   "outputs": [],
   "source": [
    "np.unique(data_multi['demo_religion_2'], return_counts=True)\n",
    "#buddhist (2)\n",
    "\n",
    "data_multi['demo_religion_2'].value_counts()\n"
   ]
  },
  {
   "cell_type": "code",
   "execution_count": null,
   "metadata": {
    "id": "Sg6hudfqMnzH"
   },
   "outputs": [],
   "source": [
    "data_multi.drop_duplicates(['labeler_id', 'demo_religion_2'])['demo_religion_2'].value_counts()"
   ]
  },
  {
   "cell_type": "code",
   "execution_count": null,
   "metadata": {
    "id": "clRPGC4EwkZz"
   },
   "outputs": [],
   "source": [
    "np.unique(data_multi['demo_religion_11'], return_counts=True)\n",
    "#christian (11)\n",
    "\n",
    "data_multi['demo_religion_11'].value_counts()"
   ]
  },
  {
   "cell_type": "code",
   "execution_count": null,
   "metadata": {
    "id": "UFJ3MiTRM0Lk"
   },
   "outputs": [],
   "source": [
    "data_multi.drop_duplicates(['labeler_id', 'demo_religion_11'])['demo_religion_11'].value_counts()"
   ]
  },
  {
   "cell_type": "code",
   "execution_count": null,
   "metadata": {
    "id": "aOAmZffkwrl6"
   },
   "outputs": [],
   "source": [
    "np.unique(data_multi['demo_religion_4'], return_counts=True)\n",
    "#hindu (4)\n",
    "data_multi['demo_religion_4'].value_counts()\n"
   ]
  },
  {
   "cell_type": "code",
   "execution_count": null,
   "metadata": {
    "id": "zntwTLWrM10W"
   },
   "outputs": [],
   "source": [
    "data_multi.drop_duplicates(['labeler_id', 'demo_religion_4'])['demo_religion_4'].value_counts()"
   ]
  },
  {
   "cell_type": "code",
   "execution_count": null,
   "metadata": {
    "id": "z2F9ygY2wu9s"
   },
   "outputs": [],
   "source": [
    "np.unique(data_multi['demo_religion_5'], return_counts=True)\n",
    "#jewish (5)\n",
    "data_multi['demo_religion_5'].value_counts()"
   ]
  },
  {
   "cell_type": "code",
   "execution_count": null,
   "metadata": {
    "id": "2jWR76B9M4Hx"
   },
   "outputs": [],
   "source": [
    "data_multi.drop_duplicates(['labeler_id', 'demo_religion_5'])['demo_religion_5'].value_counts()"
   ]
  },
  {
   "cell_type": "code",
   "execution_count": null,
   "metadata": {
    "id": "pDUDRESiwySt"
   },
   "outputs": [],
   "source": [
    "np.unique(data_multi['demo_religion_7'], return_counts=True)\n",
    "#mormon (7)\n",
    "data_multi['demo_religion_7'].value_counts()\n"
   ]
  },
  {
   "cell_type": "code",
   "execution_count": null,
   "metadata": {
    "id": "PcNJZMdJM6uO"
   },
   "outputs": [],
   "source": [
    "data_multi.drop_duplicates(['labeler_id', 'demo_religion_7'])['demo_religion_7'].value_counts()"
   ]
  },
  {
   "cell_type": "code",
   "execution_count": null,
   "metadata": {
    "id": "zteSvJkGxGKA"
   },
   "outputs": [],
   "source": [
    "np.unique(data_multi['demo_religion_8'], return_counts=True)\n",
    "#muslim (8)\n",
    "data_multi['demo_religion_8'].value_counts()\n"
   ]
  },
  {
   "cell_type": "code",
   "execution_count": null,
   "metadata": {
    "id": "l__uyd4BM9ui"
   },
   "outputs": [],
   "source": [
    "data_multi.drop_duplicates(['labeler_id', 'demo_religion_8'])['demo_religion_8'].value_counts()"
   ]
  },
  {
   "cell_type": "code",
   "execution_count": null,
   "metadata": {
    "id": "pJMPCS88xLBq"
   },
   "outputs": [],
   "source": [
    "np.unique(data_multi['demo_religion_9'], return_counts=True)\n",
    "#nothing in particular (9)\n",
    "data_multi['demo_religion_9'].value_counts()\n"
   ]
  },
  {
   "cell_type": "code",
   "execution_count": null,
   "metadata": {
    "id": "xGXC4vIvNAO5"
   },
   "outputs": [],
   "source": [
    "data_multi.drop_duplicates(['labeler_id', 'demo_religion_9'])['demo_religion_9'].value_counts()"
   ]
  },
  {
   "cell_type": "code",
   "execution_count": null,
   "metadata": {
    "id": "I0tmV9E9xOCW"
   },
   "outputs": [],
   "source": [
    "np.unique(data_multi['demo_religion_10'], return_counts=True)\n",
    "#other (10)\n",
    "data_multi['demo_religion_10'].value_counts()"
   ]
  },
  {
   "cell_type": "code",
   "execution_count": null,
   "metadata": {
    "id": "shq-abV6NDKw"
   },
   "outputs": [],
   "source": [
    "data_multi.drop_duplicates(['labeler_id', 'demo_religion_10'])['demo_religion_10'].value_counts()"
   ]
  },
  {
   "cell_type": "code",
   "execution_count": null,
   "metadata": {
    "id": "2z7UJzYDdFpp"
   },
   "outputs": [],
   "source": [
    "df = pd.DataFrame({'religion':['atheist', 'buddhist', 'christian', 'hindu', \n",
    "                               'jewish', 'mormon', 'muslim', 'nothing in particular', 'other'], \n",
    "                   'number of raters':[1608, 126, 3350, 37, 128, 60, 56, 2191, 497]})\n",
    "\n",
    "\n",
    "ax = df.plot.bar(x='religion', y='number of raters', rot=70)"
   ]
  },
  {
   "cell_type": "code",
   "execution_count": null,
   "metadata": {
    "id": "ZVLwiDoHxbEy"
   },
   "outputs": [],
   "source": [
    "np.unique(data_multi['demo_sexual_orien_1'], return_counts=True)\n",
    "#straight / heterosexual\n",
    "data_multi['demo_sexual_orien_1'].value_counts()"
   ]
  },
  {
   "cell_type": "code",
   "execution_count": null,
   "metadata": {
    "id": "nGqBd9US_FJ9"
   },
   "outputs": [],
   "source": [
    "data_multi.drop_duplicates(['labeler_id', 'demo_sexual_orien_1'])['demo_sexual_orien_1'].value_counts()"
   ]
  },
  {
   "cell_type": "code",
   "execution_count": null,
   "metadata": {
    "id": "Q5vpXGHVxhBW"
   },
   "outputs": [],
   "source": [
    "np.unique(data_multi['demo_sexual_orien_2'], return_counts=True)\n",
    "#gay or lesbian\n",
    "data_multi['demo_sexual_orien_2'].value_counts()"
   ]
  },
  {
   "cell_type": "code",
   "execution_count": null,
   "metadata": {
    "id": "PQAc5RBn_OKC"
   },
   "outputs": [],
   "source": [
    "data_multi.drop_duplicates(['labeler_id', 'demo_sexual_orien_2'])['demo_sexual_orien_2'].value_counts()"
   ]
  },
  {
   "cell_type": "code",
   "execution_count": null,
   "metadata": {
    "id": "J3lOm_1gyDSl"
   },
   "outputs": [],
   "source": [
    "np.unique(data_multi['demo_sexual_orien_3'], return_counts=True)\n",
    "#bisexual \n",
    "data_multi['demo_sexual_orien_3'].value_counts()"
   ]
  },
  {
   "cell_type": "code",
   "execution_count": null,
   "metadata": {
    "id": "hbxGhVWA_Wjq"
   },
   "outputs": [],
   "source": [
    "data_multi.drop_duplicates(['labeler_id', 'demo_sexual_orien_3'])['demo_sexual_orien_3'].value_counts()"
   ]
  },
  {
   "cell_type": "code",
   "execution_count": null,
   "metadata": {
    "id": "ZckTtmmgyLKA"
   },
   "outputs": [],
   "source": [
    "np.unique(data_multi['demo_sexual_orien_4'], return_counts=True)\n",
    "#other\n",
    "data_multi['demo_sexual_orien_4'].value_counts()"
   ]
  },
  {
   "cell_type": "code",
   "execution_count": null,
   "metadata": {
    "id": "OfSOP3ZG_Y-w"
   },
   "outputs": [],
   "source": [
    "data_multi.drop_duplicates(['labeler_id', 'demo_sexual_orien_4'])['demo_sexual_orien_4'].value_counts()"
   ]
  },
  {
   "cell_type": "code",
   "execution_count": null,
   "metadata": {
    "id": "xb0N7ByRyRJ3"
   },
   "outputs": [],
   "source": [
    "np.unique(data_multi['demo_sexual_orien_5'], return_counts=True)\n",
    "#prefer not to say\n",
    "data_multi['demo_sexual_orien_5'].value_counts()"
   ]
  },
  {
   "cell_type": "code",
   "execution_count": null,
   "metadata": {
    "id": "y0k0f6ME_av0"
   },
   "outputs": [],
   "source": [
    "data_multi.drop_duplicates(['labeler_id', 'demo_sexual_orien_5'])['demo_sexual_orien_5'].value_counts()"
   ]
  },
  {
   "cell_type": "code",
   "execution_count": null,
   "metadata": {
    "id": "oIzC3mZleXMM"
   },
   "outputs": [],
   "source": [
    "df = pd.DataFrame({'sexual orientation':['straight / heterosexual', 'gay / lesbian', 'bisexual', \n",
    "                                       'other', 'prefer not to say'], \n",
    "                   'number of raters':[6727, 308, 727, 124, 63]})\n",
    "\n",
    "\n",
    "ax = df.plot.bar(x='sexual orientation', y='number of raters', rot=70)\n",
    "#lightning bar "
   ]
  },
  {
   "cell_type": "code",
   "execution_count": null,
   "metadata": {
    "id": "UD-gKFTZeXqr"
   },
   "outputs": [],
   "source": [
    "data_sexual_orientation = [['straight', 6727] , ['gay / lesbian', 308], ['bisexual', 727], ['other', 124], ['prefer not to say', 63]]\n",
    "sexual_orientation = pd.DataFrame(data_sexual_orientation, columns = ['Sexual Orientation', 'Number of Raters']) "
   ]
  },
  {
   "cell_type": "code",
   "execution_count": null,
   "metadata": {
    "id": "aJxbBe3hhJ71"
   },
   "outputs": [],
   "source": [
    "sexual_orientation"
   ]
  },
  {
   "cell_type": "code",
   "execution_count": null,
   "metadata": {
    "id": "Y3z4gcrY0J_j"
   },
   "outputs": [],
   "source": [
    "np.unique(data_multi['demo_ideology'], return_counts=True)\n",
    "\n",
    "data_multi['demo_ideology'].value_counts()\n",
    "#extremely liberal (1)\n",
    "#liberal (2)\n",
    "#slightly liberal (3)\n",
    "#neither libreral nor conservative (4)\n",
    "#slightly conservative (5)\n",
    "#conservative (6)\n",
    "#extremely conservative (7)\n",
    "#haven't thought much about it (8)\n",
    "\n",
    "#i think nans across all these questions are just ppl who skipped thesee "
   ]
  },
  {
   "cell_type": "code",
   "execution_count": null,
   "metadata": {
    "id": "l5siGWQjNH5a"
   },
   "outputs": [],
   "source": [
    "#turn this into a dataframe\n",
    "data_multi.drop_duplicates(['labeler_id', 'demo_ideology'])['demo_ideology'].value_counts()"
   ]
  },
  {
   "cell_type": "code",
   "execution_count": null,
   "metadata": {
    "id": "CB5xZdFYJq5I"
   },
   "outputs": [],
   "source": [
    "data_ideology = [['extremely liberal', 1065] , ['liberal', 1968], ['slightly liberal', 1242], ['neither liberal nor conservative', 1367], ['slightly conservative', 860], ['conservative', 895], ['extremely conservative', 264], ['idk', 249]]\n",
    "demo_ideology = pd.DataFrame(data_ideology, columns = ['Political Ideology', 'Number of Raters']) "
   ]
  },
  {
   "cell_type": "code",
   "execution_count": null,
   "metadata": {
    "id": "UxQ22pT8Oj8I"
   },
   "outputs": [],
   "source": [
    "demo_ideology"
   ]
  },
  {
   "cell_type": "code",
   "execution_count": null,
   "metadata": {
    "id": "iTtRRJl-bfk3"
   },
   "outputs": [],
   "source": [
    "sns.set(style='whitegrid')\n",
    "ax = sns.barplot(x='Political Ideology', y = 'Number of Raters', \n",
    "            data=demo_ideology, palette ='hls', saturation = 8)\n",
    "\n",
    "for name in ax.get_xticklabels(): #notsure what the get_xticklabels does, is it like getcolumnames \n",
    "  name.set_rotation(75) \n",
    "\n",
    "\n",
    "\n",
    "#barplot returns a matplotlib.axes object so you have to do this way\n",
    "#FacetGrid object is different --> rotate label text in seaborn factorplot"
   ]
  },
  {
   "cell_type": "markdown",
   "metadata": {
    "id": "4mj-QXIwqBmo"
   },
   "source": [
    "# **SECTION 4: DISTRIBUTION OF RATERS BASED ON DEMOGRAPHIC GROUP TO TARGETED GROUP IN POSTS**"
   ]
  },
  {
   "cell_type": "code",
   "execution_count": null,
   "metadata": {
    "id": "lqsMpcYqWM20"
   },
   "outputs": [],
   "source": [
    "display(data_multi, data)\n",
    "pd.options.display.max_rows"
   ]
  },
  {
   "cell_type": "code",
   "execution_count": null,
   "metadata": {
    "id": "lfducF3nqJok"
   },
   "outputs": [],
   "source": [
    "\n",
    "\n",
    "#this has degree of hate speech, target identity in post, and rater demographic background \n",
    "df3 = pd.merge(data_multi, data_identity)"
   ]
  },
  {
   "cell_type": "code",
   "execution_count": null,
   "metadata": {
    "id": "TYVhQpQhiFVg"
   },
   "outputs": [],
   "source": [
    "\n",
    "\n"
   ]
  },
  {
   "cell_type": "code",
   "execution_count": null,
   "metadata": {
    "id": "mMMPlS2j8y3y"
   },
   "outputs": [],
   "source": [
    "pd.set_option('display.max_rows', 500)\n",
    "df3"
   ]
  },
  {
   "cell_type": "code",
   "execution_count": null,
   "metadata": {
    "id": "RwCaIsrOGdHm"
   },
   "outputs": [],
   "source": []
  },
  {
   "cell_type": "markdown",
   "metadata": {
    "id": "VSvESFY-Gdwx"
   },
   "source": [
    "## **Correlations between annotator's race and hate speech score**"
   ]
  },
  {
   "cell_type": "code",
   "execution_count": null,
   "metadata": {
    "id": "5KvVf3nfq1eS"
   },
   "outputs": [],
   "source": [
    "#add data here again with google drive connection"
   ]
  },
  {
   "cell_type": "code",
   "execution_count": null,
   "metadata": {
    "id": "1P6K-bazGvb-"
   },
   "outputs": [],
   "source": [
    "#what do we want to be looking at here?\n",
    "\n",
    "#dataset on per sample basis - hate speech score at the comment level\n",
    "\n",
    "\n",
    "#feature at the annotator level - severity \n",
    "#1 severity per annotator and listed for every sample in the dataset\n",
    "#split up as function of annotator identity\n",
    "\n",
    "#higher severity less likely to call a comment hate speech\n",
    "#of the 10 items, let's look at humiliation \n",
    "\n",
    "#high severity -- more strict in going to extreme [confirm with Chris]\n",
    "#higher severity means you are less likely to assign \"hate speechyness\"\n",
    "\n",
    "#original or full versions? depends on dataset\n",
    "#collapsed dataset -- where we start"
   ]
  },
  {
   "cell_type": "code",
   "execution_count": null,
   "metadata": {
    "id": "FuV3wf0bGlob"
   },
   "outputs": [],
   "source": [
    "# annotator: black\n",
    "# comment: hate speech black people \n",
    "\n",
    "#what is the comparision here?\n",
    "#severity which is agnostic to comment and hate speech score itself\n",
    "\n",
    "#look at the item values themselves -- for the same comment\n",
    "#choose comment targets based on race\n",
    "#look at annotators and divide based on white and non-white annotators \n",
    "#see if there is a difference in sentiment or humiliation \n",
    "\n",
    "#look at annotators themselves -- simple & general\n",
    "#what are the average severities or distribution of severities per racial group of the annotators?\n",
    "\n",
    "#then going into comment by comment basis above\n",
    "\n",
    "#severity is continuous variable so compare histogram of the two adn statistics\n",
    "#are men more severe in their hate speech ratings than women? and similary on race basis\n",
    "#run t-test\n",
    "#mainly descriptive \n"
   ]
  },
  {
   "cell_type": "code",
   "execution_count": null,
   "metadata": {
    "id": "-WQBVfbOGoqY"
   },
   "outputs": [],
   "source": [
    "#is it typical for a comment ot be rated by particular group diverse gropu ppl?\n",
    "\n",
    "#the data might not be dense enough to look at racial groups \n",
    "#might have to do white vs non white\n",
    "#but knowing the answer: How many different racial groups are represented?\n",
    "\n",
    "#what is the distribution of annotators rating comments? so comment \n",
    "#might be rated by 3 different racial groups in terms of the comment\n",
    "#another might be just one group (all white)\n",
    "#so if the mode is 1 there's only so much we can do "
   ]
  },
  {
   "cell_type": "code",
   "execution_count": null,
   "metadata": {
    "colab": {
     "base_uri": "https://localhost:8080/",
     "height": 491
    },
    "id": "9J4jhcw2wyOv",
    "outputId": "0a4e6935-60f2-41aa-885f-3446d139499a"
   },
   "outputs": [
    {
     "data": {
      "text/html": [
       "<div>\n",
       "<style scoped>\n",
       "    .dataframe tbody tr th:only-of-type {\n",
       "        vertical-align: middle;\n",
       "    }\n",
       "\n",
       "    .dataframe tbody tr th {\n",
       "        vertical-align: top;\n",
       "    }\n",
       "\n",
       "    .dataframe thead th {\n",
       "        text-align: right;\n",
       "    }\n",
       "</style>\n",
       "<table border=\"1\" class=\"dataframe\">\n",
       "  <thead>\n",
       "    <tr style=\"text-align: right;\">\n",
       "      <th></th>\n",
       "      <th>sentiment</th>\n",
       "      <th>respect</th>\n",
       "      <th>insult</th>\n",
       "      <th>humiliate</th>\n",
       "      <th>status</th>\n",
       "      <th>dehumanize</th>\n",
       "      <th>violence_phys</th>\n",
       "      <th>genocide</th>\n",
       "      <th>attack_defend</th>\n",
       "      <th>hatespeech</th>\n",
       "      <th>comment_id</th>\n",
       "      <th>platform</th>\n",
       "      <th>uid</th>\n",
       "      <th>predict_text</th>\n",
       "      <th>measure</th>\n",
       "      <th>std_err</th>\n",
       "      <th>num_ratings</th>\n",
       "      <th>weight</th>\n",
       "      <th>has_targets</th>\n",
       "      <th>target_identity_count</th>\n",
       "      <th>labeler_id</th>\n",
       "      <th>rater_measure</th>\n",
       "      <th>rater_infitms</th>\n",
       "      <th>rater_outfitms</th>\n",
       "      <th>infitms</th>\n",
       "      <th>outfitms</th>\n",
       "      <th>target_identities_1</th>\n",
       "      <th>target_identities_2</th>\n",
       "      <th>target_identities_3</th>\n",
       "      <th>target_identities_4</th>\n",
       "      <th>target_identities_5</th>\n",
       "      <th>target_identities_6</th>\n",
       "      <th>target_identities_7</th>\n",
       "      <th>target_identities_9</th>\n",
       "      <th>target_race_1</th>\n",
       "      <th>target_race_2</th>\n",
       "      <th>target_race_3</th>\n",
       "      <th>target_race_8</th>\n",
       "      <th>target_race_4</th>\n",
       "      <th>target_race_5</th>\n",
       "      <th>...</th>\n",
       "      <th>target_political_9</th>\n",
       "      <th>target_political_10</th>\n",
       "      <th>target_political_11</th>\n",
       "      <th>target_political_11_text</th>\n",
       "      <th>demo_gender</th>\n",
       "      <th>demo_gender_4_text</th>\n",
       "      <th>demo_trans</th>\n",
       "      <th>demo_educ</th>\n",
       "      <th>demo_race_ethnicitie_1</th>\n",
       "      <th>demo_race_ethnicitie_2</th>\n",
       "      <th>demo_race_ethnicitie_3</th>\n",
       "      <th>demo_race_ethnicitie_4</th>\n",
       "      <th>demo_race_ethnicitie_5</th>\n",
       "      <th>demo_race_ethnicitie_8</th>\n",
       "      <th>demo_race_ethnicitie_6</th>\n",
       "      <th>demo_race_ethnicitie_7</th>\n",
       "      <th>demo_race_ethnicitie_7_text</th>\n",
       "      <th>demo_age</th>\n",
       "      <th>demo_income</th>\n",
       "      <th>demo_religion_1</th>\n",
       "      <th>demo_religion_2</th>\n",
       "      <th>demo_religion_11</th>\n",
       "      <th>demo_religion_4</th>\n",
       "      <th>demo_religion_5</th>\n",
       "      <th>demo_religion_7</th>\n",
       "      <th>demo_religion_8</th>\n",
       "      <th>demo_religion_9</th>\n",
       "      <th>demo_religion_10</th>\n",
       "      <th>demo_religion_10_text</th>\n",
       "      <th>demo_sexual_orien_1</th>\n",
       "      <th>demo_sexual_orien_2</th>\n",
       "      <th>demo_sexual_orien_3</th>\n",
       "      <th>demo_sexual_orien_4</th>\n",
       "      <th>demo_sexual_orien_5</th>\n",
       "      <th>demo_sexual_orien_4_text</th>\n",
       "      <th>demo_ideology</th>\n",
       "      <th>locationlatitude</th>\n",
       "      <th>locationlongitude</th>\n",
       "      <th>identity</th>\n",
       "      <th>hypothesis</th>\n",
       "    </tr>\n",
       "  </thead>\n",
       "  <tbody>\n",
       "    <tr>\n",
       "      <th>0</th>\n",
       "      <td>0.0</td>\n",
       "      <td>0.0</td>\n",
       "      <td>0.0</td>\n",
       "      <td>0.0</td>\n",
       "      <td>0.0</td>\n",
       "      <td>0.0</td>\n",
       "      <td>0.0</td>\n",
       "      <td>0.0</td>\n",
       "      <td>0.0</td>\n",
       "      <td>0.0</td>\n",
       "      <td>47777</td>\n",
       "      <td>youtube</td>\n",
       "      <td>Ugz2iZCY9nfSWtCyWE14AaABAg</td>\n",
       "      <td>Yes indeed. She sort of reminds me of the elde...</td>\n",
       "      <td>-3.90</td>\n",
       "      <td>0.34</td>\n",
       "      <td>5</td>\n",
       "      <td>0.200000</td>\n",
       "      <td>1</td>\n",
       "      <td>1.0</td>\n",
       "      <td>10873</td>\n",
       "      <td>0.36</td>\n",
       "      <td>1.35</td>\n",
       "      <td>1.23</td>\n",
       "      <td>0.81</td>\n",
       "      <td>1.88</td>\n",
       "      <td>1.0</td>\n",
       "      <td>NaN</td>\n",
       "      <td>NaN</td>\n",
       "      <td>NaN</td>\n",
       "      <td>NaN</td>\n",
       "      <td>NaN</td>\n",
       "      <td>NaN</td>\n",
       "      <td>NaN</td>\n",
       "      <td>1.0</td>\n",
       "      <td>1.0</td>\n",
       "      <td>1.0</td>\n",
       "      <td>1.0</td>\n",
       "      <td>1.0</td>\n",
       "      <td>1.0</td>\n",
       "      <td>...</td>\n",
       "      <td>NaN</td>\n",
       "      <td>NaN</td>\n",
       "      <td>NaN</td>\n",
       "      <td></td>\n",
       "      <td>2.0</td>\n",
       "      <td></td>\n",
       "      <td>2.0</td>\n",
       "      <td>6.0</td>\n",
       "      <td>NaN</td>\n",
       "      <td>NaN</td>\n",
       "      <td>NaN</td>\n",
       "      <td>NaN</td>\n",
       "      <td>NaN</td>\n",
       "      <td>NaN</td>\n",
       "      <td>1.0</td>\n",
       "      <td>NaN</td>\n",
       "      <td></td>\n",
       "      <td>110.0</td>\n",
       "      <td>1.0</td>\n",
       "      <td>NaN</td>\n",
       "      <td>NaN</td>\n",
       "      <td>1.0</td>\n",
       "      <td>NaN</td>\n",
       "      <td>NaN</td>\n",
       "      <td>NaN</td>\n",
       "      <td>NaN</td>\n",
       "      <td>NaN</td>\n",
       "      <td>NaN</td>\n",
       "      <td></td>\n",
       "      <td>1.0</td>\n",
       "      <td>NaN</td>\n",
       "      <td>NaN</td>\n",
       "      <td>NaN</td>\n",
       "      <td>NaN</td>\n",
       "      <td></td>\n",
       "      <td>4.0</td>\n",
       "      <td>37.55029296875</td>\n",
       "      <td>-77.39420318603515625</td>\n",
       "      <td>0.917681</td>\n",
       "      <td>-1.130178</td>\n",
       "    </tr>\n",
       "    <tr>\n",
       "      <th>1</th>\n",
       "      <td>0.0</td>\n",
       "      <td>0.0</td>\n",
       "      <td>0.0</td>\n",
       "      <td>0.0</td>\n",
       "      <td>0.0</td>\n",
       "      <td>0.0</td>\n",
       "      <td>0.0</td>\n",
       "      <td>0.0</td>\n",
       "      <td>1.0</td>\n",
       "      <td>0.0</td>\n",
       "      <td>39773</td>\n",
       "      <td>twitter</td>\n",
       "      <td>1159364387838341120</td>\n",
       "      <td>The trans women reading this tweet right now i...</td>\n",
       "      <td>-6.52</td>\n",
       "      <td>1.00</td>\n",
       "      <td>3</td>\n",
       "      <td>0.333333</td>\n",
       "      <td>1</td>\n",
       "      <td>1.0</td>\n",
       "      <td>2790</td>\n",
       "      <td>-0.35</td>\n",
       "      <td>0.57</td>\n",
       "      <td>0.42</td>\n",
       "      <td>0.96</td>\n",
       "      <td>0.43</td>\n",
       "      <td>NaN</td>\n",
       "      <td>NaN</td>\n",
       "      <td>NaN</td>\n",
       "      <td>1.0</td>\n",
       "      <td>NaN</td>\n",
       "      <td>NaN</td>\n",
       "      <td>NaN</td>\n",
       "      <td>NaN</td>\n",
       "      <td>NaN</td>\n",
       "      <td>NaN</td>\n",
       "      <td>NaN</td>\n",
       "      <td>NaN</td>\n",
       "      <td>NaN</td>\n",
       "      <td>NaN</td>\n",
       "      <td>...</td>\n",
       "      <td>NaN</td>\n",
       "      <td>NaN</td>\n",
       "      <td>NaN</td>\n",
       "      <td></td>\n",
       "      <td>1.0</td>\n",
       "      <td></td>\n",
       "      <td>2.0</td>\n",
       "      <td>3.0</td>\n",
       "      <td>NaN</td>\n",
       "      <td>NaN</td>\n",
       "      <td>NaN</td>\n",
       "      <td>NaN</td>\n",
       "      <td>NaN</td>\n",
       "      <td>NaN</td>\n",
       "      <td>1.0</td>\n",
       "      <td>NaN</td>\n",
       "      <td></td>\n",
       "      <td>115.0</td>\n",
       "      <td>1.0</td>\n",
       "      <td>NaN</td>\n",
       "      <td>NaN</td>\n",
       "      <td>1.0</td>\n",
       "      <td>NaN</td>\n",
       "      <td>NaN</td>\n",
       "      <td>NaN</td>\n",
       "      <td>NaN</td>\n",
       "      <td>NaN</td>\n",
       "      <td>NaN</td>\n",
       "      <td></td>\n",
       "      <td>1.0</td>\n",
       "      <td>NaN</td>\n",
       "      <td>NaN</td>\n",
       "      <td>NaN</td>\n",
       "      <td>NaN</td>\n",
       "      <td></td>\n",
       "      <td>4.0</td>\n",
       "      <td>32.9568939208984375</td>\n",
       "      <td>-96.83170318603515625</td>\n",
       "      <td>0.918119</td>\n",
       "      <td>-1.146973</td>\n",
       "    </tr>\n",
       "    <tr>\n",
       "      <th>2</th>\n",
       "      <td>4.0</td>\n",
       "      <td>4.0</td>\n",
       "      <td>3.0</td>\n",
       "      <td>2.0</td>\n",
       "      <td>1.0</td>\n",
       "      <td>1.0</td>\n",
       "      <td>0.0</td>\n",
       "      <td>0.0</td>\n",
       "      <td>3.0</td>\n",
       "      <td>1.0</td>\n",
       "      <td>47101</td>\n",
       "      <td>youtube</td>\n",
       "      <td>UgytWyMwDquehpAEspl4AaABAg</td>\n",
       "      <td>Question: These 4 broads who criticize America...</td>\n",
       "      <td>0.36</td>\n",
       "      <td>0.31</td>\n",
       "      <td>4</td>\n",
       "      <td>0.250000</td>\n",
       "      <td>1</td>\n",
       "      <td>1.0</td>\n",
       "      <td>3379</td>\n",
       "      <td>-0.48</td>\n",
       "      <td>1.16</td>\n",
       "      <td>0.67</td>\n",
       "      <td>0.90</td>\n",
       "      <td>0.74</td>\n",
       "      <td>NaN</td>\n",
       "      <td>NaN</td>\n",
       "      <td>1.0</td>\n",
       "      <td>NaN</td>\n",
       "      <td>NaN</td>\n",
       "      <td>NaN</td>\n",
       "      <td>NaN</td>\n",
       "      <td>NaN</td>\n",
       "      <td>NaN</td>\n",
       "      <td>NaN</td>\n",
       "      <td>NaN</td>\n",
       "      <td>NaN</td>\n",
       "      <td>NaN</td>\n",
       "      <td>NaN</td>\n",
       "      <td>...</td>\n",
       "      <td>NaN</td>\n",
       "      <td>NaN</td>\n",
       "      <td>NaN</td>\n",
       "      <td></td>\n",
       "      <td>2.0</td>\n",
       "      <td></td>\n",
       "      <td>2.0</td>\n",
       "      <td>3.0</td>\n",
       "      <td>NaN</td>\n",
       "      <td>NaN</td>\n",
       "      <td>NaN</td>\n",
       "      <td>NaN</td>\n",
       "      <td>NaN</td>\n",
       "      <td>NaN</td>\n",
       "      <td>1.0</td>\n",
       "      <td>NaN</td>\n",
       "      <td></td>\n",
       "      <td>126.0</td>\n",
       "      <td>4.0</td>\n",
       "      <td>NaN</td>\n",
       "      <td>NaN</td>\n",
       "      <td>NaN</td>\n",
       "      <td>NaN</td>\n",
       "      <td>NaN</td>\n",
       "      <td>NaN</td>\n",
       "      <td>NaN</td>\n",
       "      <td>1.0</td>\n",
       "      <td>NaN</td>\n",
       "      <td></td>\n",
       "      <td>1.0</td>\n",
       "      <td>NaN</td>\n",
       "      <td>NaN</td>\n",
       "      <td>NaN</td>\n",
       "      <td>NaN</td>\n",
       "      <td></td>\n",
       "      <td>5.0</td>\n",
       "      <td>39.3361053466796875</td>\n",
       "      <td>-76.53890228271484375</td>\n",
       "      <td>0.985910</td>\n",
       "      <td>-0.207369</td>\n",
       "    </tr>\n",
       "    <tr>\n",
       "      <th>3</th>\n",
       "      <td>2.0</td>\n",
       "      <td>3.0</td>\n",
       "      <td>1.0</td>\n",
       "      <td>0.0</td>\n",
       "      <td>0.0</td>\n",
       "      <td>0.0</td>\n",
       "      <td>0.0</td>\n",
       "      <td>0.0</td>\n",
       "      <td>2.0</td>\n",
       "      <td>0.0</td>\n",
       "      <td>43625</td>\n",
       "      <td>youtube</td>\n",
       "      <td>Ugxgvb5k_yZm2w5V-v94AaABAg</td>\n",
       "      <td>It is about time for all illegals to go back t...</td>\n",
       "      <td>0.26</td>\n",
       "      <td>0.29</td>\n",
       "      <td>4</td>\n",
       "      <td>0.250000</td>\n",
       "      <td>1</td>\n",
       "      <td>1.0</td>\n",
       "      <td>7365</td>\n",
       "      <td>0.86</td>\n",
       "      <td>1.18</td>\n",
       "      <td>0.87</td>\n",
       "      <td>0.81</td>\n",
       "      <td>0.68</td>\n",
       "      <td>NaN</td>\n",
       "      <td>NaN</td>\n",
       "      <td>1.0</td>\n",
       "      <td>NaN</td>\n",
       "      <td>NaN</td>\n",
       "      <td>NaN</td>\n",
       "      <td>NaN</td>\n",
       "      <td>NaN</td>\n",
       "      <td>NaN</td>\n",
       "      <td>NaN</td>\n",
       "      <td>NaN</td>\n",
       "      <td>NaN</td>\n",
       "      <td>NaN</td>\n",
       "      <td>NaN</td>\n",
       "      <td>...</td>\n",
       "      <td>NaN</td>\n",
       "      <td>NaN</td>\n",
       "      <td>NaN</td>\n",
       "      <td></td>\n",
       "      <td>2.0</td>\n",
       "      <td></td>\n",
       "      <td>2.0</td>\n",
       "      <td>2.0</td>\n",
       "      <td>NaN</td>\n",
       "      <td>NaN</td>\n",
       "      <td>NaN</td>\n",
       "      <td>NaN</td>\n",
       "      <td>NaN</td>\n",
       "      <td>NaN</td>\n",
       "      <td>1.0</td>\n",
       "      <td>NaN</td>\n",
       "      <td></td>\n",
       "      <td>127.0</td>\n",
       "      <td>2.0</td>\n",
       "      <td>1.0</td>\n",
       "      <td>NaN</td>\n",
       "      <td>NaN</td>\n",
       "      <td>NaN</td>\n",
       "      <td>NaN</td>\n",
       "      <td>NaN</td>\n",
       "      <td>NaN</td>\n",
       "      <td>NaN</td>\n",
       "      <td>NaN</td>\n",
       "      <td></td>\n",
       "      <td>1.0</td>\n",
       "      <td>NaN</td>\n",
       "      <td>NaN</td>\n",
       "      <td>NaN</td>\n",
       "      <td>NaN</td>\n",
       "      <td></td>\n",
       "      <td>4.0</td>\n",
       "      <td>37.1439971923828125</td>\n",
       "      <td>-94.4727020263671875</td>\n",
       "      <td>0.969761</td>\n",
       "      <td>-0.055536</td>\n",
       "    </tr>\n",
       "    <tr>\n",
       "      <th>4</th>\n",
       "      <td>4.0</td>\n",
       "      <td>4.0</td>\n",
       "      <td>3.0</td>\n",
       "      <td>2.0</td>\n",
       "      <td>1.0</td>\n",
       "      <td>1.0</td>\n",
       "      <td>1.0</td>\n",
       "      <td>0.0</td>\n",
       "      <td>2.0</td>\n",
       "      <td>1.0</td>\n",
       "      <td>12538</td>\n",
       "      <td>reddit</td>\n",
       "      <td>euol97y</td>\n",
       "      <td>For starters bend over the one in pink and kic...</td>\n",
       "      <td>1.54</td>\n",
       "      <td>0.51</td>\n",
       "      <td>2</td>\n",
       "      <td>0.500000</td>\n",
       "      <td>1</td>\n",
       "      <td>1.0</td>\n",
       "      <td>488</td>\n",
       "      <td>-0.54</td>\n",
       "      <td>0.95</td>\n",
       "      <td>1.00</td>\n",
       "      <td>0.76</td>\n",
       "      <td>0.63</td>\n",
       "      <td>NaN</td>\n",
       "      <td>NaN</td>\n",
       "      <td>NaN</td>\n",
       "      <td>1.0</td>\n",
       "      <td>NaN</td>\n",
       "      <td>NaN</td>\n",
       "      <td>NaN</td>\n",
       "      <td>NaN</td>\n",
       "      <td>NaN</td>\n",
       "      <td>NaN</td>\n",
       "      <td>NaN</td>\n",
       "      <td>NaN</td>\n",
       "      <td>NaN</td>\n",
       "      <td>NaN</td>\n",
       "      <td>...</td>\n",
       "      <td>NaN</td>\n",
       "      <td>NaN</td>\n",
       "      <td>NaN</td>\n",
       "      <td></td>\n",
       "      <td>1.0</td>\n",
       "      <td></td>\n",
       "      <td>2.0</td>\n",
       "      <td>7.0</td>\n",
       "      <td>NaN</td>\n",
       "      <td>NaN</td>\n",
       "      <td>NaN</td>\n",
       "      <td>NaN</td>\n",
       "      <td>NaN</td>\n",
       "      <td>NaN</td>\n",
       "      <td>1.0</td>\n",
       "      <td>NaN</td>\n",
       "      <td></td>\n",
       "      <td>112.0</td>\n",
       "      <td>2.0</td>\n",
       "      <td>NaN</td>\n",
       "      <td>NaN</td>\n",
       "      <td>1.0</td>\n",
       "      <td>NaN</td>\n",
       "      <td>NaN</td>\n",
       "      <td>NaN</td>\n",
       "      <td>NaN</td>\n",
       "      <td>NaN</td>\n",
       "      <td>NaN</td>\n",
       "      <td></td>\n",
       "      <td>1.0</td>\n",
       "      <td>NaN</td>\n",
       "      <td>NaN</td>\n",
       "      <td>NaN</td>\n",
       "      <td>NaN</td>\n",
       "      <td></td>\n",
       "      <td>4.0</td>\n",
       "      <td>34.215301513671875</td>\n",
       "      <td>-79.64679718017578125</td>\n",
       "      <td>0.935462</td>\n",
       "      <td>0.104225</td>\n",
       "    </tr>\n",
       "  </tbody>\n",
       "</table>\n",
       "<p>5 rows × 135 columns</p>\n",
       "</div>"
      ],
      "text/plain": [
       "   sentiment  respect  insult  ...      locationlongitude  identity  hypothesis\n",
       "0        0.0      0.0     0.0  ...  -77.39420318603515625  0.917681   -1.130178\n",
       "1        0.0      0.0     0.0  ...  -96.83170318603515625  0.918119   -1.146973\n",
       "2        4.0      4.0     3.0  ...  -76.53890228271484375  0.985910   -0.207369\n",
       "3        2.0      3.0     1.0  ...   -94.4727020263671875  0.969761   -0.055536\n",
       "4        4.0      4.0     3.0  ...  -79.64679718017578125  0.935462    0.104225\n",
       "\n",
       "[5 rows x 135 columns]"
      ]
     },
     "execution_count": 13,
     "metadata": {
      "tags": []
     },
     "output_type": "execute_result"
    }
   ],
   "source": [
    "data_multi.head(5)\n",
    "\n",
    "#data_multi.shape"
   ]
  },
  {
   "cell_type": "code",
   "execution_count": null,
   "metadata": {
    "colab": {
     "base_uri": "https://localhost:8080/",
     "height": 282
    },
    "id": "R1xBE3M7GotW",
    "outputId": "43bf6f24-f467-41ad-fd95-f060e70741ec"
   },
   "outputs": [
    {
     "data": {
      "text/plain": [
       "<matplotlib.axes._subplots.AxesSubplot at 0x7f0790bbf5d0>"
      ]
     },
     "execution_count": 14,
     "metadata": {
      "tags": []
     },
     "output_type": "execute_result"
    },
    {
     "data": {
      "image/png": "[encoded data removed]",
      "text/plain": [
       "<Figure size 432x288 with 1 Axes>"
      ]
     },
     "metadata": {
      "needs_background": "light",
      "tags": []
     },
     "output_type": "display_data"
    }
   ],
   "source": [
    "#this is severity item for raters\n",
    "data_multi['rater_measure'].hist()"
   ]
  },
  {
   "cell_type": "code",
   "execution_count": null,
   "metadata": {
    "colab": {
     "base_uri": "https://localhost:8080/"
    },
    "id": "8TzBYZ7RxWDh",
    "outputId": "0fe1c0de-702c-467a-a60f-8e53baf65bba"
   },
   "outputs": [
    {
     "data": {
      "text/plain": [
       "1.0    109090\n",
       "NaN     26466\n",
       "Name: demo_race_ethnicitie_6, dtype: int64"
      ]
     },
     "execution_count": 15,
     "metadata": {
      "tags": []
     },
     "output_type": "execute_result"
    }
   ],
   "source": [
    " #alaskan native: 1\n",
    "\n",
    " data_multi['demo_race_ethnicitie_6'].value_counts(dropna=False)\n",
    "\n",
    "#distribution of severities for white raters vs non white raters"
   ]
  },
  {
   "cell_type": "code",
   "execution_count": null,
   "metadata": {
    "colab": {
     "base_uri": "https://localhost:8080/"
    },
    "id": "wg2Z15P7yhrt",
    "outputId": "38ea4cd1-361f-41b1-d995-887059f0b516"
   },
   "outputs": [
    {
     "data": {
      "text/plain": [
       "1410    26\n",
       "4997    26\n",
       "3887    26\n",
       "4521    26\n",
       "8565    26\n",
       "        ..\n",
       "8466     6\n",
       "8564     6\n",
       "8003     6\n",
       "7558     6\n",
       "6695     6\n",
       "Name: labeler_id, Length: 7912, dtype: int64"
      ]
     },
     "execution_count": 16,
     "metadata": {
      "tags": []
     },
     "output_type": "execute_result"
    }
   ],
   "source": [
    "#number of unique labeler ids\n",
    "#get only the unique annotators bc their severity will be repeated\n",
    "\n",
    "data_multi['labeler_id'].value_counts(dropna=False)"
   ]
  },
  {
   "cell_type": "code",
   "execution_count": null,
   "metadata": {
    "colab": {
     "base_uri": "https://localhost:8080/"
    },
    "id": "k6jrG457y_Aj",
    "outputId": "a6ef26a3-f5ea-4c84-e8c7-df55c0657c4d"
   },
   "outputs": [
    {
     "data": {
      "text/plain": [
       "683       0.35\n",
       "5242      0.35\n",
       "9875      0.35\n",
       "14518     0.35\n",
       "19139     0.35\n",
       "23781     0.35\n",
       "28387     0.35\n",
       "33017     0.35\n",
       "37592     0.35\n",
       "42228     0.35\n",
       "46809     0.35\n",
       "51484     0.35\n",
       "56089     0.35\n",
       "60682     0.35\n",
       "65309     0.35\n",
       "69939     0.35\n",
       "74521     0.35\n",
       "79120     0.35\n",
       "83745     0.35\n",
       "88390     0.35\n",
       "93397     0.35\n",
       "101017    0.35\n",
       "108542    0.35\n",
       "116112    0.35\n",
       "123312    0.35\n",
       "129486    0.35\n",
       "Name: rater_measure, dtype: float64"
      ]
     },
     "execution_count": 17,
     "metadata": {
      "tags": []
     },
     "output_type": "execute_result"
    }
   ],
   "source": [
    "data_multi[data_multi['labeler_id'] == 1410]['rater_measure'] \n",
    "#propensity of annotator to be severe\n",
    "#rater measure is a paramater in the IRT model that max log likelihood\n",
    "#outputted by facets when fit IRT model to data\n",
    "\n",
    "#another proxy could be sum of the items as a proxy\n",
    "#hate speech score could just be describing the comments\n",
    "#metric that the labeler gave but describes comment itself \n",
    "#function as a measure to disambiguate between black and white raters for different types of comments\n",
    "#and that sum should correlate with the hate speech score - proxy in IRT lit"
   ]
  },
  {
   "cell_type": "code",
   "execution_count": null,
   "metadata": {
    "id": "o4WYAxSv0P2w"
   },
   "outputs": [],
   "source": [
    "#drop duplicates in pandas\n",
    "\n",
    "#number of unique labeler_ids: 7,912\n",
    "data_multi_unique = data_multi.drop_duplicates('labeler_id')\n",
    "\n"
   ]
  },
  {
   "cell_type": "code",
   "execution_count": null,
   "metadata": {
    "id": "GelnCxZIyIhR"
   },
   "outputs": [],
   "source": [
    "#subset datframe so we only get the rows = 1 \n",
    "\n",
    "#store this as a white rater df\n",
    "data_white = data_multi_unique[data_multi_unique['demo_race_ethnicitie_6'] == 1]"
   ]
  },
  {
   "cell_type": "code",
   "execution_count": null,
   "metadata": {
    "id": "CAuqdae71PP8"
   },
   "outputs": [],
   "source": [
    "#POC rater df\n",
    "data_POC = data_multi_unique[data_multi_unique['demo_race_ethnicitie_6'] != 1]"
   ]
  },
  {
   "cell_type": "code",
   "execution_count": null,
   "metadata": {
    "colab": {
     "base_uri": "https://localhost:8080/"
    },
    "id": "3XzKyD8u1TqF",
    "outputId": "75bcb648-3443-4435-cb6b-40f22fed7c28"
   },
   "outputs": [
    {
     "name": "stdout",
     "output_type": "stream",
     "text": [
      "(6373, 135)\n"
     ]
    },
    {
     "data": {
      "text/plain": [
       "(1539, 135)"
      ]
     },
     "execution_count": 21,
     "metadata": {
      "tags": []
     },
     "output_type": "execute_result"
    }
   ],
   "source": [
    "#sanity check\n",
    "\n",
    "print(data_white.shape)\n",
    "data_POC.shape"
   ]
  },
  {
   "cell_type": "code",
   "execution_count": null,
   "metadata": {
    "colab": {
     "base_uri": "https://localhost:8080/",
     "height": 265
    },
    "id": "QX3dXVZF1dXT",
    "outputId": "7da0bc5d-3e29-4393-93ce-45d87b67ea0f"
   },
   "outputs": [
    {
     "data": {
      "image/png": "[encoded data removed]",
      "text/plain": [
       "<Figure size 432x288 with 1 Axes>"
      ]
     },
     "metadata": {
      "needs_background": "light",
      "tags": []
     },
     "output_type": "display_data"
    }
   ],
   "source": [
    "#plot hist data white rater measure and data poc rater meausure\n",
    "\n",
    "data_white['rater_measure'].hist(density=True, bins=np.linspace(-1.5, 1.5, 30), histtype='step');\n",
    "data_POC['rater_measure'].hist(density=True, bins=np.linspace(-1.5, 1.5, 30), histtype='step'); #orange is POC histogram\n",
    "\n",
    "\n",
    "#this is just raw counts so need to normalize (density=True)\n",
    "#choose bins for comparison purposes -- linspace\n",
    "#step gives boundary so not on stop of each other\n",
    "\n",
    "#rater measure similar\n"
   ]
  },
  {
   "cell_type": "code",
   "execution_count": null,
   "metadata": {
    "id": "atvYFmo-v3VK"
   },
   "outputs": [],
   "source": []
  },
  {
   "cell_type": "code",
   "execution_count": null,
   "metadata": {
    "colab": {
     "base_uri": "https://localhost:8080/",
     "height": 265
    },
    "id": "X5hZ6BluNwjS",
    "outputId": "299487bd-b5a2-4ba5-8bc4-29ca3f86a230"
   },
   "outputs": [
    {
     "data": {
      "image/png": "[encoded data removed]",
      "text/plain": [
       "<Figure size 432x288 with 1 Axes>"
      ]
     },
     "metadata": {
      "needs_background": "light",
      "tags": []
     },
     "output_type": "display_data"
    }
   ],
   "source": [
    "data_POC['rater_measure'].hist();\n",
    "\n",
    "#there seems to be more spread in the POC hist for rater measure than for white hist\n",
    "#why is that?\n",
    "#is that bc there is less data for POC?"
   ]
  },
  {
   "cell_type": "code",
   "execution_count": null,
   "metadata": {
    "colab": {
     "base_uri": "https://localhost:8080/",
     "height": 491
    },
    "id": "moxKRPUjOkyO",
    "outputId": "090d528d-a907-458e-bccb-0eed157f0770"
   },
   "outputs": [
    {
     "data": {
      "text/html": [
       "<div>\n",
       "<style scoped>\n",
       "    .dataframe tbody tr th:only-of-type {\n",
       "        vertical-align: middle;\n",
       "    }\n",
       "\n",
       "    .dataframe tbody tr th {\n",
       "        vertical-align: top;\n",
       "    }\n",
       "\n",
       "    .dataframe thead th {\n",
       "        text-align: right;\n",
       "    }\n",
       "</style>\n",
       "<table border=\"1\" class=\"dataframe\">\n",
       "  <thead>\n",
       "    <tr style=\"text-align: right;\">\n",
       "      <th></th>\n",
       "      <th>sentiment</th>\n",
       "      <th>respect</th>\n",
       "      <th>insult</th>\n",
       "      <th>humiliate</th>\n",
       "      <th>status</th>\n",
       "      <th>dehumanize</th>\n",
       "      <th>violence_phys</th>\n",
       "      <th>genocide</th>\n",
       "      <th>attack_defend</th>\n",
       "      <th>hatespeech</th>\n",
       "      <th>comment_id</th>\n",
       "      <th>platform</th>\n",
       "      <th>uid</th>\n",
       "      <th>predict_text</th>\n",
       "      <th>measure</th>\n",
       "      <th>std_err</th>\n",
       "      <th>num_ratings</th>\n",
       "      <th>weight</th>\n",
       "      <th>has_targets</th>\n",
       "      <th>target_identity_count</th>\n",
       "      <th>labeler_id</th>\n",
       "      <th>rater_measure</th>\n",
       "      <th>rater_infitms</th>\n",
       "      <th>rater_outfitms</th>\n",
       "      <th>infitms</th>\n",
       "      <th>outfitms</th>\n",
       "      <th>target_identities_1</th>\n",
       "      <th>target_identities_2</th>\n",
       "      <th>target_identities_3</th>\n",
       "      <th>target_identities_4</th>\n",
       "      <th>target_identities_5</th>\n",
       "      <th>target_identities_6</th>\n",
       "      <th>target_identities_7</th>\n",
       "      <th>target_identities_9</th>\n",
       "      <th>target_race_1</th>\n",
       "      <th>target_race_2</th>\n",
       "      <th>target_race_3</th>\n",
       "      <th>target_race_8</th>\n",
       "      <th>target_race_4</th>\n",
       "      <th>target_race_5</th>\n",
       "      <th>...</th>\n",
       "      <th>target_political_9</th>\n",
       "      <th>target_political_10</th>\n",
       "      <th>target_political_11</th>\n",
       "      <th>target_political_11_text</th>\n",
       "      <th>demo_gender</th>\n",
       "      <th>demo_gender_4_text</th>\n",
       "      <th>demo_trans</th>\n",
       "      <th>demo_educ</th>\n",
       "      <th>demo_race_ethnicitie_1</th>\n",
       "      <th>demo_race_ethnicitie_2</th>\n",
       "      <th>demo_race_ethnicitie_3</th>\n",
       "      <th>demo_race_ethnicitie_4</th>\n",
       "      <th>demo_race_ethnicitie_5</th>\n",
       "      <th>demo_race_ethnicitie_8</th>\n",
       "      <th>demo_race_ethnicitie_6</th>\n",
       "      <th>demo_race_ethnicitie_7</th>\n",
       "      <th>demo_race_ethnicitie_7_text</th>\n",
       "      <th>demo_age</th>\n",
       "      <th>demo_income</th>\n",
       "      <th>demo_religion_1</th>\n",
       "      <th>demo_religion_2</th>\n",
       "      <th>demo_religion_11</th>\n",
       "      <th>demo_religion_4</th>\n",
       "      <th>demo_religion_5</th>\n",
       "      <th>demo_religion_7</th>\n",
       "      <th>demo_religion_8</th>\n",
       "      <th>demo_religion_9</th>\n",
       "      <th>demo_religion_10</th>\n",
       "      <th>demo_religion_10_text</th>\n",
       "      <th>demo_sexual_orien_1</th>\n",
       "      <th>demo_sexual_orien_2</th>\n",
       "      <th>demo_sexual_orien_3</th>\n",
       "      <th>demo_sexual_orien_4</th>\n",
       "      <th>demo_sexual_orien_5</th>\n",
       "      <th>demo_sexual_orien_4_text</th>\n",
       "      <th>demo_ideology</th>\n",
       "      <th>locationlatitude</th>\n",
       "      <th>locationlongitude</th>\n",
       "      <th>identity</th>\n",
       "      <th>hypothesis</th>\n",
       "    </tr>\n",
       "  </thead>\n",
       "  <tbody>\n",
       "    <tr>\n",
       "      <th>0</th>\n",
       "      <td>0.0</td>\n",
       "      <td>0.0</td>\n",
       "      <td>0.0</td>\n",
       "      <td>0.0</td>\n",
       "      <td>0.0</td>\n",
       "      <td>0.0</td>\n",
       "      <td>0.0</td>\n",
       "      <td>0.0</td>\n",
       "      <td>0.0</td>\n",
       "      <td>0.0</td>\n",
       "      <td>47777</td>\n",
       "      <td>youtube</td>\n",
       "      <td>Ugz2iZCY9nfSWtCyWE14AaABAg</td>\n",
       "      <td>Yes indeed. She sort of reminds me of the elde...</td>\n",
       "      <td>-3.90</td>\n",
       "      <td>0.34</td>\n",
       "      <td>5</td>\n",
       "      <td>0.200000</td>\n",
       "      <td>1</td>\n",
       "      <td>1.0</td>\n",
       "      <td>10873</td>\n",
       "      <td>0.36</td>\n",
       "      <td>1.35</td>\n",
       "      <td>1.23</td>\n",
       "      <td>0.81</td>\n",
       "      <td>1.88</td>\n",
       "      <td>1.0</td>\n",
       "      <td>NaN</td>\n",
       "      <td>NaN</td>\n",
       "      <td>NaN</td>\n",
       "      <td>NaN</td>\n",
       "      <td>NaN</td>\n",
       "      <td>NaN</td>\n",
       "      <td>NaN</td>\n",
       "      <td>1.0</td>\n",
       "      <td>1.0</td>\n",
       "      <td>1.0</td>\n",
       "      <td>1.0</td>\n",
       "      <td>1.0</td>\n",
       "      <td>1.0</td>\n",
       "      <td>...</td>\n",
       "      <td>NaN</td>\n",
       "      <td>NaN</td>\n",
       "      <td>NaN</td>\n",
       "      <td></td>\n",
       "      <td>2.0</td>\n",
       "      <td></td>\n",
       "      <td>2.0</td>\n",
       "      <td>6.0</td>\n",
       "      <td>NaN</td>\n",
       "      <td>NaN</td>\n",
       "      <td>NaN</td>\n",
       "      <td>NaN</td>\n",
       "      <td>NaN</td>\n",
       "      <td>NaN</td>\n",
       "      <td>1.0</td>\n",
       "      <td>NaN</td>\n",
       "      <td></td>\n",
       "      <td>110.0</td>\n",
       "      <td>1.0</td>\n",
       "      <td>NaN</td>\n",
       "      <td>NaN</td>\n",
       "      <td>1.0</td>\n",
       "      <td>NaN</td>\n",
       "      <td>NaN</td>\n",
       "      <td>NaN</td>\n",
       "      <td>NaN</td>\n",
       "      <td>NaN</td>\n",
       "      <td>NaN</td>\n",
       "      <td></td>\n",
       "      <td>1.0</td>\n",
       "      <td>NaN</td>\n",
       "      <td>NaN</td>\n",
       "      <td>NaN</td>\n",
       "      <td>NaN</td>\n",
       "      <td></td>\n",
       "      <td>4.0</td>\n",
       "      <td>37.55029296875</td>\n",
       "      <td>-77.39420318603515625</td>\n",
       "      <td>0.917681</td>\n",
       "      <td>-1.130178</td>\n",
       "    </tr>\n",
       "    <tr>\n",
       "      <th>1</th>\n",
       "      <td>0.0</td>\n",
       "      <td>0.0</td>\n",
       "      <td>0.0</td>\n",
       "      <td>0.0</td>\n",
       "      <td>0.0</td>\n",
       "      <td>0.0</td>\n",
       "      <td>0.0</td>\n",
       "      <td>0.0</td>\n",
       "      <td>1.0</td>\n",
       "      <td>0.0</td>\n",
       "      <td>39773</td>\n",
       "      <td>twitter</td>\n",
       "      <td>1159364387838341120</td>\n",
       "      <td>The trans women reading this tweet right now i...</td>\n",
       "      <td>-6.52</td>\n",
       "      <td>1.00</td>\n",
       "      <td>3</td>\n",
       "      <td>0.333333</td>\n",
       "      <td>1</td>\n",
       "      <td>1.0</td>\n",
       "      <td>2790</td>\n",
       "      <td>-0.35</td>\n",
       "      <td>0.57</td>\n",
       "      <td>0.42</td>\n",
       "      <td>0.96</td>\n",
       "      <td>0.43</td>\n",
       "      <td>NaN</td>\n",
       "      <td>NaN</td>\n",
       "      <td>NaN</td>\n",
       "      <td>1.0</td>\n",
       "      <td>NaN</td>\n",
       "      <td>NaN</td>\n",
       "      <td>NaN</td>\n",
       "      <td>NaN</td>\n",
       "      <td>NaN</td>\n",
       "      <td>NaN</td>\n",
       "      <td>NaN</td>\n",
       "      <td>NaN</td>\n",
       "      <td>NaN</td>\n",
       "      <td>NaN</td>\n",
       "      <td>...</td>\n",
       "      <td>NaN</td>\n",
       "      <td>NaN</td>\n",
       "      <td>NaN</td>\n",
       "      <td></td>\n",
       "      <td>1.0</td>\n",
       "      <td></td>\n",
       "      <td>2.0</td>\n",
       "      <td>3.0</td>\n",
       "      <td>NaN</td>\n",
       "      <td>NaN</td>\n",
       "      <td>NaN</td>\n",
       "      <td>NaN</td>\n",
       "      <td>NaN</td>\n",
       "      <td>NaN</td>\n",
       "      <td>1.0</td>\n",
       "      <td>NaN</td>\n",
       "      <td></td>\n",
       "      <td>115.0</td>\n",
       "      <td>1.0</td>\n",
       "      <td>NaN</td>\n",
       "      <td>NaN</td>\n",
       "      <td>1.0</td>\n",
       "      <td>NaN</td>\n",
       "      <td>NaN</td>\n",
       "      <td>NaN</td>\n",
       "      <td>NaN</td>\n",
       "      <td>NaN</td>\n",
       "      <td>NaN</td>\n",
       "      <td></td>\n",
       "      <td>1.0</td>\n",
       "      <td>NaN</td>\n",
       "      <td>NaN</td>\n",
       "      <td>NaN</td>\n",
       "      <td>NaN</td>\n",
       "      <td></td>\n",
       "      <td>4.0</td>\n",
       "      <td>32.9568939208984375</td>\n",
       "      <td>-96.83170318603515625</td>\n",
       "      <td>0.918119</td>\n",
       "      <td>-1.146973</td>\n",
       "    </tr>\n",
       "    <tr>\n",
       "      <th>2</th>\n",
       "      <td>4.0</td>\n",
       "      <td>4.0</td>\n",
       "      <td>3.0</td>\n",
       "      <td>2.0</td>\n",
       "      <td>1.0</td>\n",
       "      <td>1.0</td>\n",
       "      <td>0.0</td>\n",
       "      <td>0.0</td>\n",
       "      <td>3.0</td>\n",
       "      <td>1.0</td>\n",
       "      <td>47101</td>\n",
       "      <td>youtube</td>\n",
       "      <td>UgytWyMwDquehpAEspl4AaABAg</td>\n",
       "      <td>Question: These 4 broads who criticize America...</td>\n",
       "      <td>0.36</td>\n",
       "      <td>0.31</td>\n",
       "      <td>4</td>\n",
       "      <td>0.250000</td>\n",
       "      <td>1</td>\n",
       "      <td>1.0</td>\n",
       "      <td>3379</td>\n",
       "      <td>-0.48</td>\n",
       "      <td>1.16</td>\n",
       "      <td>0.67</td>\n",
       "      <td>0.90</td>\n",
       "      <td>0.74</td>\n",
       "      <td>NaN</td>\n",
       "      <td>NaN</td>\n",
       "      <td>1.0</td>\n",
       "      <td>NaN</td>\n",
       "      <td>NaN</td>\n",
       "      <td>NaN</td>\n",
       "      <td>NaN</td>\n",
       "      <td>NaN</td>\n",
       "      <td>NaN</td>\n",
       "      <td>NaN</td>\n",
       "      <td>NaN</td>\n",
       "      <td>NaN</td>\n",
       "      <td>NaN</td>\n",
       "      <td>NaN</td>\n",
       "      <td>...</td>\n",
       "      <td>NaN</td>\n",
       "      <td>NaN</td>\n",
       "      <td>NaN</td>\n",
       "      <td></td>\n",
       "      <td>2.0</td>\n",
       "      <td></td>\n",
       "      <td>2.0</td>\n",
       "      <td>3.0</td>\n",
       "      <td>NaN</td>\n",
       "      <td>NaN</td>\n",
       "      <td>NaN</td>\n",
       "      <td>NaN</td>\n",
       "      <td>NaN</td>\n",
       "      <td>NaN</td>\n",
       "      <td>1.0</td>\n",
       "      <td>NaN</td>\n",
       "      <td></td>\n",
       "      <td>126.0</td>\n",
       "      <td>4.0</td>\n",
       "      <td>NaN</td>\n",
       "      <td>NaN</td>\n",
       "      <td>NaN</td>\n",
       "      <td>NaN</td>\n",
       "      <td>NaN</td>\n",
       "      <td>NaN</td>\n",
       "      <td>NaN</td>\n",
       "      <td>1.0</td>\n",
       "      <td>NaN</td>\n",
       "      <td></td>\n",
       "      <td>1.0</td>\n",
       "      <td>NaN</td>\n",
       "      <td>NaN</td>\n",
       "      <td>NaN</td>\n",
       "      <td>NaN</td>\n",
       "      <td></td>\n",
       "      <td>5.0</td>\n",
       "      <td>39.3361053466796875</td>\n",
       "      <td>-76.53890228271484375</td>\n",
       "      <td>0.985910</td>\n",
       "      <td>-0.207369</td>\n",
       "    </tr>\n",
       "    <tr>\n",
       "      <th>3</th>\n",
       "      <td>2.0</td>\n",
       "      <td>3.0</td>\n",
       "      <td>1.0</td>\n",
       "      <td>0.0</td>\n",
       "      <td>0.0</td>\n",
       "      <td>0.0</td>\n",
       "      <td>0.0</td>\n",
       "      <td>0.0</td>\n",
       "      <td>2.0</td>\n",
       "      <td>0.0</td>\n",
       "      <td>43625</td>\n",
       "      <td>youtube</td>\n",
       "      <td>Ugxgvb5k_yZm2w5V-v94AaABAg</td>\n",
       "      <td>It is about time for all illegals to go back t...</td>\n",
       "      <td>0.26</td>\n",
       "      <td>0.29</td>\n",
       "      <td>4</td>\n",
       "      <td>0.250000</td>\n",
       "      <td>1</td>\n",
       "      <td>1.0</td>\n",
       "      <td>7365</td>\n",
       "      <td>0.86</td>\n",
       "      <td>1.18</td>\n",
       "      <td>0.87</td>\n",
       "      <td>0.81</td>\n",
       "      <td>0.68</td>\n",
       "      <td>NaN</td>\n",
       "      <td>NaN</td>\n",
       "      <td>1.0</td>\n",
       "      <td>NaN</td>\n",
       "      <td>NaN</td>\n",
       "      <td>NaN</td>\n",
       "      <td>NaN</td>\n",
       "      <td>NaN</td>\n",
       "      <td>NaN</td>\n",
       "      <td>NaN</td>\n",
       "      <td>NaN</td>\n",
       "      <td>NaN</td>\n",
       "      <td>NaN</td>\n",
       "      <td>NaN</td>\n",
       "      <td>...</td>\n",
       "      <td>NaN</td>\n",
       "      <td>NaN</td>\n",
       "      <td>NaN</td>\n",
       "      <td></td>\n",
       "      <td>2.0</td>\n",
       "      <td></td>\n",
       "      <td>2.0</td>\n",
       "      <td>2.0</td>\n",
       "      <td>NaN</td>\n",
       "      <td>NaN</td>\n",
       "      <td>NaN</td>\n",
       "      <td>NaN</td>\n",
       "      <td>NaN</td>\n",
       "      <td>NaN</td>\n",
       "      <td>1.0</td>\n",
       "      <td>NaN</td>\n",
       "      <td></td>\n",
       "      <td>127.0</td>\n",
       "      <td>2.0</td>\n",
       "      <td>1.0</td>\n",
       "      <td>NaN</td>\n",
       "      <td>NaN</td>\n",
       "      <td>NaN</td>\n",
       "      <td>NaN</td>\n",
       "      <td>NaN</td>\n",
       "      <td>NaN</td>\n",
       "      <td>NaN</td>\n",
       "      <td>NaN</td>\n",
       "      <td></td>\n",
       "      <td>1.0</td>\n",
       "      <td>NaN</td>\n",
       "      <td>NaN</td>\n",
       "      <td>NaN</td>\n",
       "      <td>NaN</td>\n",
       "      <td></td>\n",
       "      <td>4.0</td>\n",
       "      <td>37.1439971923828125</td>\n",
       "      <td>-94.4727020263671875</td>\n",
       "      <td>0.969761</td>\n",
       "      <td>-0.055536</td>\n",
       "    </tr>\n",
       "    <tr>\n",
       "      <th>4</th>\n",
       "      <td>4.0</td>\n",
       "      <td>4.0</td>\n",
       "      <td>3.0</td>\n",
       "      <td>2.0</td>\n",
       "      <td>1.0</td>\n",
       "      <td>1.0</td>\n",
       "      <td>1.0</td>\n",
       "      <td>0.0</td>\n",
       "      <td>2.0</td>\n",
       "      <td>1.0</td>\n",
       "      <td>12538</td>\n",
       "      <td>reddit</td>\n",
       "      <td>euol97y</td>\n",
       "      <td>For starters bend over the one in pink and kic...</td>\n",
       "      <td>1.54</td>\n",
       "      <td>0.51</td>\n",
       "      <td>2</td>\n",
       "      <td>0.500000</td>\n",
       "      <td>1</td>\n",
       "      <td>1.0</td>\n",
       "      <td>488</td>\n",
       "      <td>-0.54</td>\n",
       "      <td>0.95</td>\n",
       "      <td>1.00</td>\n",
       "      <td>0.76</td>\n",
       "      <td>0.63</td>\n",
       "      <td>NaN</td>\n",
       "      <td>NaN</td>\n",
       "      <td>NaN</td>\n",
       "      <td>1.0</td>\n",
       "      <td>NaN</td>\n",
       "      <td>NaN</td>\n",
       "      <td>NaN</td>\n",
       "      <td>NaN</td>\n",
       "      <td>NaN</td>\n",
       "      <td>NaN</td>\n",
       "      <td>NaN</td>\n",
       "      <td>NaN</td>\n",
       "      <td>NaN</td>\n",
       "      <td>NaN</td>\n",
       "      <td>...</td>\n",
       "      <td>NaN</td>\n",
       "      <td>NaN</td>\n",
       "      <td>NaN</td>\n",
       "      <td></td>\n",
       "      <td>1.0</td>\n",
       "      <td></td>\n",
       "      <td>2.0</td>\n",
       "      <td>7.0</td>\n",
       "      <td>NaN</td>\n",
       "      <td>NaN</td>\n",
       "      <td>NaN</td>\n",
       "      <td>NaN</td>\n",
       "      <td>NaN</td>\n",
       "      <td>NaN</td>\n",
       "      <td>1.0</td>\n",
       "      <td>NaN</td>\n",
       "      <td></td>\n",
       "      <td>112.0</td>\n",
       "      <td>2.0</td>\n",
       "      <td>NaN</td>\n",
       "      <td>NaN</td>\n",
       "      <td>1.0</td>\n",
       "      <td>NaN</td>\n",
       "      <td>NaN</td>\n",
       "      <td>NaN</td>\n",
       "      <td>NaN</td>\n",
       "      <td>NaN</td>\n",
       "      <td>NaN</td>\n",
       "      <td></td>\n",
       "      <td>1.0</td>\n",
       "      <td>NaN</td>\n",
       "      <td>NaN</td>\n",
       "      <td>NaN</td>\n",
       "      <td>NaN</td>\n",
       "      <td></td>\n",
       "      <td>4.0</td>\n",
       "      <td>34.215301513671875</td>\n",
       "      <td>-79.64679718017578125</td>\n",
       "      <td>0.935462</td>\n",
       "      <td>0.104225</td>\n",
       "    </tr>\n",
       "  </tbody>\n",
       "</table>\n",
       "<p>5 rows × 135 columns</p>\n",
       "</div>"
      ],
      "text/plain": [
       "   sentiment  respect  insult  ...      locationlongitude  identity  hypothesis\n",
       "0        0.0      0.0     0.0  ...  -77.39420318603515625  0.917681   -1.130178\n",
       "1        0.0      0.0     0.0  ...  -96.83170318603515625  0.918119   -1.146973\n",
       "2        4.0      4.0     3.0  ...  -76.53890228271484375  0.985910   -0.207369\n",
       "3        2.0      3.0     1.0  ...   -94.4727020263671875  0.969761   -0.055536\n",
       "4        4.0      4.0     3.0  ...  -79.64679718017578125  0.935462    0.104225\n",
       "\n",
       "[5 rows x 135 columns]"
      ]
     },
     "execution_count": 24,
     "metadata": {
      "tags": []
     },
     "output_type": "execute_result"
    }
   ],
   "source": [
    "#look at the item values themselves -- for the same comment\n",
    "#choose comment targets based on race\n",
    "#look at annotators and divide based on white and non-white annotators \n",
    "#see if there is a difference in sentiment or humiliation \n",
    "\n",
    "\n",
    "data_multi.head(5)\n",
    "\n",
    "#percentage of comments that \n",
    "#helper function takes as input df and comment ID\n",
    "#3 tuple with races of 3 labelers\n",
    "#cycle through comment id in loop and inside loop hve function \n"
   ]
  },
  {
   "cell_type": "code",
   "execution_count": null,
   "metadata": {
    "colab": {
     "base_uri": "https://localhost:8080/"
    },
    "id": "E2z2xWMwKYv1",
    "outputId": "3455b611-2f23-43a7-a37e-1abc3d97a5bf"
   },
   "outputs": [
    {
     "data": {
      "text/plain": [
       "20011    815\n",
       "20002    801\n",
       "20001    799\n",
       "20007    796\n",
       "20014    793\n",
       "        ... \n",
       "32639      1\n",
       "23062      1\n",
       "45993      1\n",
       "10714      1\n",
       "37304      1\n",
       "Name: comment_id, Length: 39565, dtype: int64"
      ]
     },
     "execution_count": 25,
     "metadata": {
      "tags": []
     },
     "output_type": "execute_result"
    }
   ],
   "source": [
    "data_multi['comment_id'].value_counts()\n",
    "\n",
    "#comment 20011 shows up 815 times?\n",
    "\n"
   ]
  },
  {
   "cell_type": "code",
   "execution_count": null,
   "metadata": {
    "id": "6yLuwnvmUqL6"
   },
   "outputs": [],
   "source": [
    "#do any of the labelers show up more than once in the comments that repeat?\n",
    "#for every comment ID that shows up >1, what labeler IDs show up more than 1?\n",
    "\n",
    "\n",
    "# for column in data_multi[['comment_id', 'labeler_id']]:\n",
    "#   columnSeriesObj = data_multi[column]\n",
    "#   if data_multi[column] > 1:\n",
    "\n",
    "\n",
    "\n",
    "#one solution -- collapse those \n",
    "#have they given self contradictory reviews to the comments?\n",
    "\n",
    "\n",
    "\n",
    "\n"
   ]
  },
  {
   "cell_type": "code",
   "execution_count": 20,
   "metadata": {
    "colab": {
     "base_uri": "https://localhost:8080/"
    },
    "id": "Ofkn7NMlaZoo",
    "outputId": "383fcceb-4672-4205-d9fe-8702a4d59d5d"
   },
   "outputs": [
    {
     "name": "stdout",
     "output_type": "stream",
     "text": [
      "125479\n"
     ]
    }
   ],
   "source": [
    "v = data_multi.comment_id.value_counts()\n",
    "\n",
    "#this is the length of the df where comment_id shows up more than once\n",
    "print(len(data_multi[data_multi.comment_id.isin(v.index[v.gt(1)])]))\n",
    "\n"
   ]
  },
  {
   "cell_type": "code",
   "execution_count": null,
   "metadata": {
    "colab": {
     "base_uri": "https://localhost:8080/"
    },
    "id": "xBkdugdzhlix",
    "outputId": "0f7d7ed9-80d2-4310-84f7-69b0e396fa53"
   },
   "outputs": [
    {
     "data": {
      "text/plain": [
       "101207"
      ]
     },
     "execution_count": 28,
     "metadata": {
      "tags": []
     },
     "output_type": "execute_result"
    }
   ],
   "source": [
    "#turning comment id more than once into a new df \n",
    "\n",
    "data_multi_comment2 = data_multi[data_multi.comment_id.isin(v.index[v.gt(2)])]\n",
    "\n",
    "len(data_multi_comment2)"
   ]
  },
  {
   "cell_type": "code",
   "execution_count": 21,
   "metadata": {
    "colab": {
     "base_uri": "https://localhost:8080/"
    },
    "id": "7C9Ay3NxhaD1",
    "outputId": "ef900bde-f31b-4fb9-9c39-b5ee8e80ce58"
   },
   "outputs": [
    {
     "data": {
      "text/plain": [
       "43227"
      ]
     },
     "execution_count": 21,
     "metadata": {},
     "output_type": "execute_result"
    }
   ],
   "source": [
    "#but a distribution should really be plotted for > 30\n",
    "\n",
    "data_multi_comment30 = data_multi[data_multi.comment_id.isin(v.index[v.gt(30)])]\n",
    "len(data_multi_comment30)"
   ]
  },
  {
   "cell_type": "code",
   "execution_count": null,
   "metadata": {
    "colab": {
     "base_uri": "https://localhost:8080/",
     "height": 265
    },
    "id": "WHWu4DWAifdP",
    "outputId": "f9d143ad-324c-4b15-8122-4f6f34d81d75"
   },
   "outputs": [
    {
     "data": {
      "image/png": "[encoded data removed]",
      "text/plain": [
       "<Figure size 432x288 with 1 Axes>"
      ]
     },
     "metadata": {
      "needs_background": "light",
      "tags": []
     },
     "output_type": "display_data"
    }
   ],
   "source": [
    "#so now in this df of comment IDs that repeat at least 30 times\n",
    "#what is the distribution of labeler IDs?\n",
    "\n",
    "\n",
    "\n",
    "data_multi_comment30['labeler_id'].hist();"
   ]
  },
  {
   "cell_type": "code",
   "execution_count": null,
   "metadata": {
    "colab": {
     "base_uri": "https://localhost:8080/"
    },
    "id": "-DliOMJ5jJdU",
    "outputId": "b3e27da7-a37f-46ec-c5c0-ac22ad80dc8e"
   },
   "outputs": [
    {
     "data": {
      "text/plain": [
       "6259     6\n",
       "1489     6\n",
       "3472     6\n",
       "1425     6\n",
       "7570     6\n",
       "        ..\n",
       "10027    1\n",
       "8252     1\n",
       "9272     1\n",
       "8562     1\n",
       "9624     1\n",
       "Name: labeler_id, Length: 7912, dtype: int64"
      ]
     },
     "execution_count": 31,
     "metadata": {
      "tags": []
     },
     "output_type": "execute_result"
    }
   ],
   "source": [
    "#for comment IDs that repeat >= 30 what is the value counts of labeler ids\n",
    "data_multi_comment30['labeler_id'].value_counts()"
   ]
  },
  {
   "cell_type": "code",
   "execution_count": 22,
   "metadata": {
    "colab": {
     "base_uri": "https://localhost:8080/",
     "height": 470
    },
    "id": "3rV7oMyfjUT7",
    "outputId": "8683fdaf-1f73-4a65-8002-039ff0277feb"
   },
   "outputs": [
    {
     "data": {
      "text/html": [
       "<div>\n",
       "<style scoped>\n",
       "    .dataframe tbody tr th:only-of-type {\n",
       "        vertical-align: middle;\n",
       "    }\n",
       "\n",
       "    .dataframe tbody tr th {\n",
       "        vertical-align: top;\n",
       "    }\n",
       "\n",
       "    .dataframe thead th {\n",
       "        text-align: right;\n",
       "    }\n",
       "</style>\n",
       "<table border=\"1\" class=\"dataframe\">\n",
       "  <thead>\n",
       "    <tr style=\"text-align: right;\">\n",
       "      <th></th>\n",
       "      <th></th>\n",
       "      <th>sentiment</th>\n",
       "      <th>respect</th>\n",
       "      <th>insult</th>\n",
       "      <th>humiliate</th>\n",
       "      <th>status</th>\n",
       "      <th>dehumanize</th>\n",
       "      <th>violence_phys</th>\n",
       "      <th>genocide</th>\n",
       "      <th>attack_defend</th>\n",
       "      <th>hatespeech</th>\n",
       "      <th>...</th>\n",
       "      <th>demo_sexual_orien_2</th>\n",
       "      <th>demo_sexual_orien_3</th>\n",
       "      <th>demo_sexual_orien_4</th>\n",
       "      <th>demo_sexual_orien_5</th>\n",
       "      <th>demo_sexual_orien_4_text</th>\n",
       "      <th>demo_ideology</th>\n",
       "      <th>locationlatitude</th>\n",
       "      <th>locationlongitude</th>\n",
       "      <th>identity</th>\n",
       "      <th>hypothesis</th>\n",
       "    </tr>\n",
       "    <tr>\n",
       "      <th>comment_id</th>\n",
       "      <th>labeler_id</th>\n",
       "      <th></th>\n",
       "      <th></th>\n",
       "      <th></th>\n",
       "      <th></th>\n",
       "      <th></th>\n",
       "      <th></th>\n",
       "      <th></th>\n",
       "      <th></th>\n",
       "      <th></th>\n",
       "      <th></th>\n",
       "      <th></th>\n",
       "      <th></th>\n",
       "      <th></th>\n",
       "      <th></th>\n",
       "      <th></th>\n",
       "      <th></th>\n",
       "      <th></th>\n",
       "      <th></th>\n",
       "      <th></th>\n",
       "      <th></th>\n",
       "      <th></th>\n",
       "    </tr>\n",
       "  </thead>\n",
       "  <tbody>\n",
       "    <tr>\n",
       "      <th rowspan=\"5\" valign=\"top\">20001</th>\n",
       "      <th>76</th>\n",
       "      <td>1</td>\n",
       "      <td>1</td>\n",
       "      <td>1</td>\n",
       "      <td>1</td>\n",
       "      <td>1</td>\n",
       "      <td>1</td>\n",
       "      <td>1</td>\n",
       "      <td>1</td>\n",
       "      <td>1</td>\n",
       "      <td>1</td>\n",
       "      <td>...</td>\n",
       "      <td>0</td>\n",
       "      <td>0</td>\n",
       "      <td>0</td>\n",
       "      <td>0</td>\n",
       "      <td>1</td>\n",
       "      <td>1</td>\n",
       "      <td>1</td>\n",
       "      <td>1</td>\n",
       "      <td>1</td>\n",
       "      <td>1</td>\n",
       "    </tr>\n",
       "    <tr>\n",
       "      <th>85</th>\n",
       "      <td>1</td>\n",
       "      <td>1</td>\n",
       "      <td>1</td>\n",
       "      <td>1</td>\n",
       "      <td>1</td>\n",
       "      <td>1</td>\n",
       "      <td>1</td>\n",
       "      <td>1</td>\n",
       "      <td>1</td>\n",
       "      <td>1</td>\n",
       "      <td>...</td>\n",
       "      <td>0</td>\n",
       "      <td>0</td>\n",
       "      <td>0</td>\n",
       "      <td>0</td>\n",
       "      <td>1</td>\n",
       "      <td>1</td>\n",
       "      <td>1</td>\n",
       "      <td>1</td>\n",
       "      <td>1</td>\n",
       "      <td>1</td>\n",
       "    </tr>\n",
       "    <tr>\n",
       "      <th>86</th>\n",
       "      <td>1</td>\n",
       "      <td>1</td>\n",
       "      <td>1</td>\n",
       "      <td>1</td>\n",
       "      <td>1</td>\n",
       "      <td>1</td>\n",
       "      <td>1</td>\n",
       "      <td>1</td>\n",
       "      <td>1</td>\n",
       "      <td>1</td>\n",
       "      <td>...</td>\n",
       "      <td>0</td>\n",
       "      <td>0</td>\n",
       "      <td>0</td>\n",
       "      <td>0</td>\n",
       "      <td>1</td>\n",
       "      <td>1</td>\n",
       "      <td>1</td>\n",
       "      <td>1</td>\n",
       "      <td>1</td>\n",
       "      <td>1</td>\n",
       "    </tr>\n",
       "    <tr>\n",
       "      <th>145</th>\n",
       "      <td>1</td>\n",
       "      <td>1</td>\n",
       "      <td>1</td>\n",
       "      <td>1</td>\n",
       "      <td>1</td>\n",
       "      <td>1</td>\n",
       "      <td>1</td>\n",
       "      <td>1</td>\n",
       "      <td>1</td>\n",
       "      <td>1</td>\n",
       "      <td>...</td>\n",
       "      <td>0</td>\n",
       "      <td>0</td>\n",
       "      <td>0</td>\n",
       "      <td>0</td>\n",
       "      <td>1</td>\n",
       "      <td>1</td>\n",
       "      <td>1</td>\n",
       "      <td>1</td>\n",
       "      <td>1</td>\n",
       "      <td>1</td>\n",
       "    </tr>\n",
       "    <tr>\n",
       "      <th>221</th>\n",
       "      <td>1</td>\n",
       "      <td>1</td>\n",
       "      <td>1</td>\n",
       "      <td>1</td>\n",
       "      <td>1</td>\n",
       "      <td>1</td>\n",
       "      <td>1</td>\n",
       "      <td>1</td>\n",
       "      <td>1</td>\n",
       "      <td>1</td>\n",
       "      <td>...</td>\n",
       "      <td>0</td>\n",
       "      <td>0</td>\n",
       "      <td>0</td>\n",
       "      <td>0</td>\n",
       "      <td>1</td>\n",
       "      <td>1</td>\n",
       "      <td>1</td>\n",
       "      <td>1</td>\n",
       "      <td>1</td>\n",
       "      <td>1</td>\n",
       "    </tr>\n",
       "    <tr>\n",
       "      <th>...</th>\n",
       "      <th>...</th>\n",
       "      <td>...</td>\n",
       "      <td>...</td>\n",
       "      <td>...</td>\n",
       "      <td>...</td>\n",
       "      <td>...</td>\n",
       "      <td>...</td>\n",
       "      <td>...</td>\n",
       "      <td>...</td>\n",
       "      <td>...</td>\n",
       "      <td>...</td>\n",
       "      <td>...</td>\n",
       "      <td>...</td>\n",
       "      <td>...</td>\n",
       "      <td>...</td>\n",
       "      <td>...</td>\n",
       "      <td>...</td>\n",
       "      <td>...</td>\n",
       "      <td>...</td>\n",
       "      <td>...</td>\n",
       "      <td>...</td>\n",
       "      <td>...</td>\n",
       "    </tr>\n",
       "    <tr>\n",
       "      <th rowspan=\"5\" valign=\"top\">20070</th>\n",
       "      <th>10887</th>\n",
       "      <td>1</td>\n",
       "      <td>1</td>\n",
       "      <td>1</td>\n",
       "      <td>1</td>\n",
       "      <td>1</td>\n",
       "      <td>1</td>\n",
       "      <td>1</td>\n",
       "      <td>1</td>\n",
       "      <td>1</td>\n",
       "      <td>1</td>\n",
       "      <td>...</td>\n",
       "      <td>0</td>\n",
       "      <td>1</td>\n",
       "      <td>0</td>\n",
       "      <td>0</td>\n",
       "      <td>1</td>\n",
       "      <td>1</td>\n",
       "      <td>1</td>\n",
       "      <td>1</td>\n",
       "      <td>1</td>\n",
       "      <td>1</td>\n",
       "    </tr>\n",
       "    <tr>\n",
       "      <th>10906</th>\n",
       "      <td>1</td>\n",
       "      <td>1</td>\n",
       "      <td>1</td>\n",
       "      <td>1</td>\n",
       "      <td>1</td>\n",
       "      <td>1</td>\n",
       "      <td>1</td>\n",
       "      <td>1</td>\n",
       "      <td>1</td>\n",
       "      <td>1</td>\n",
       "      <td>...</td>\n",
       "      <td>0</td>\n",
       "      <td>0</td>\n",
       "      <td>0</td>\n",
       "      <td>0</td>\n",
       "      <td>1</td>\n",
       "      <td>1</td>\n",
       "      <td>1</td>\n",
       "      <td>1</td>\n",
       "      <td>1</td>\n",
       "      <td>1</td>\n",
       "    </tr>\n",
       "    <tr>\n",
       "      <th>10924</th>\n",
       "      <td>1</td>\n",
       "      <td>1</td>\n",
       "      <td>1</td>\n",
       "      <td>1</td>\n",
       "      <td>1</td>\n",
       "      <td>1</td>\n",
       "      <td>1</td>\n",
       "      <td>1</td>\n",
       "      <td>1</td>\n",
       "      <td>1</td>\n",
       "      <td>...</td>\n",
       "      <td>0</td>\n",
       "      <td>0</td>\n",
       "      <td>0</td>\n",
       "      <td>0</td>\n",
       "      <td>1</td>\n",
       "      <td>1</td>\n",
       "      <td>1</td>\n",
       "      <td>1</td>\n",
       "      <td>1</td>\n",
       "      <td>1</td>\n",
       "    </tr>\n",
       "    <tr>\n",
       "      <th>10942</th>\n",
       "      <td>1</td>\n",
       "      <td>1</td>\n",
       "      <td>1</td>\n",
       "      <td>1</td>\n",
       "      <td>1</td>\n",
       "      <td>1</td>\n",
       "      <td>1</td>\n",
       "      <td>1</td>\n",
       "      <td>1</td>\n",
       "      <td>1</td>\n",
       "      <td>...</td>\n",
       "      <td>0</td>\n",
       "      <td>0</td>\n",
       "      <td>0</td>\n",
       "      <td>0</td>\n",
       "      <td>1</td>\n",
       "      <td>1</td>\n",
       "      <td>1</td>\n",
       "      <td>1</td>\n",
       "      <td>1</td>\n",
       "      <td>1</td>\n",
       "    </tr>\n",
       "    <tr>\n",
       "      <th>11009</th>\n",
       "      <td>1</td>\n",
       "      <td>1</td>\n",
       "      <td>1</td>\n",
       "      <td>1</td>\n",
       "      <td>1</td>\n",
       "      <td>1</td>\n",
       "      <td>1</td>\n",
       "      <td>1</td>\n",
       "      <td>1</td>\n",
       "      <td>1</td>\n",
       "      <td>...</td>\n",
       "      <td>0</td>\n",
       "      <td>0</td>\n",
       "      <td>0</td>\n",
       "      <td>0</td>\n",
       "      <td>1</td>\n",
       "      <td>1</td>\n",
       "      <td>1</td>\n",
       "      <td>1</td>\n",
       "      <td>1</td>\n",
       "      <td>1</td>\n",
       "    </tr>\n",
       "  </tbody>\n",
       "</table>\n",
       "<p>15487 rows × 133 columns</p>\n",
       "</div>"
      ],
      "text/plain": [
       "                       sentiment  respect  insult  humiliate  status  \\\n",
       "comment_id labeler_id                                                  \n",
       "20001      76                  1        1       1          1       1   \n",
       "           85                  1        1       1          1       1   \n",
       "           86                  1        1       1          1       1   \n",
       "           145                 1        1       1          1       1   \n",
       "           221                 1        1       1          1       1   \n",
       "...                          ...      ...     ...        ...     ...   \n",
       "20070      10887               1        1       1          1       1   \n",
       "           10906               1        1       1          1       1   \n",
       "           10924               1        1       1          1       1   \n",
       "           10942               1        1       1          1       1   \n",
       "           11009               1        1       1          1       1   \n",
       "\n",
       "                       dehumanize  violence_phys  genocide  attack_defend  \\\n",
       "comment_id labeler_id                                                       \n",
       "20001      76                   1              1         1              1   \n",
       "           85                   1              1         1              1   \n",
       "           86                   1              1         1              1   \n",
       "           145                  1              1         1              1   \n",
       "           221                  1              1         1              1   \n",
       "...                           ...            ...       ...            ...   \n",
       "20070      10887                1              1         1              1   \n",
       "           10906                1              1         1              1   \n",
       "           10924                1              1         1              1   \n",
       "           10942                1              1         1              1   \n",
       "           11009                1              1         1              1   \n",
       "\n",
       "                       hatespeech  ...  demo_sexual_orien_2  \\\n",
       "comment_id labeler_id              ...                        \n",
       "20001      76                   1  ...                    0   \n",
       "           85                   1  ...                    0   \n",
       "           86                   1  ...                    0   \n",
       "           145                  1  ...                    0   \n",
       "           221                  1  ...                    0   \n",
       "...                           ...  ...                  ...   \n",
       "20070      10887                1  ...                    0   \n",
       "           10906                1  ...                    0   \n",
       "           10924                1  ...                    0   \n",
       "           10942                1  ...                    0   \n",
       "           11009                1  ...                    0   \n",
       "\n",
       "                       demo_sexual_orien_3  demo_sexual_orien_4  \\\n",
       "comment_id labeler_id                                             \n",
       "20001      76                            0                    0   \n",
       "           85                            0                    0   \n",
       "           86                            0                    0   \n",
       "           145                           0                    0   \n",
       "           221                           0                    0   \n",
       "...                                    ...                  ...   \n",
       "20070      10887                         1                    0   \n",
       "           10906                         0                    0   \n",
       "           10924                         0                    0   \n",
       "           10942                         0                    0   \n",
       "           11009                         0                    0   \n",
       "\n",
       "                       demo_sexual_orien_5  demo_sexual_orien_4_text  \\\n",
       "comment_id labeler_id                                                  \n",
       "20001      76                            0                         1   \n",
       "           85                            0                         1   \n",
       "           86                            0                         1   \n",
       "           145                           0                         1   \n",
       "           221                           0                         1   \n",
       "...                                    ...                       ...   \n",
       "20070      10887                         0                         1   \n",
       "           10906                         0                         1   \n",
       "           10924                         0                         1   \n",
       "           10942                         0                         1   \n",
       "           11009                         0                         1   \n",
       "\n",
       "                       demo_ideology  locationlatitude  locationlongitude  \\\n",
       "comment_id labeler_id                                                       \n",
       "20001      76                      1                 1                  1   \n",
       "           85                      1                 1                  1   \n",
       "           86                      1                 1                  1   \n",
       "           145                     1                 1                  1   \n",
       "           221                     1                 1                  1   \n",
       "...                              ...               ...                ...   \n",
       "20070      10887                   1                 1                  1   \n",
       "           10906                   1                 1                  1   \n",
       "           10924                   1                 1                  1   \n",
       "           10942                   1                 1                  1   \n",
       "           11009                   1                 1                  1   \n",
       "\n",
       "                       identity  hypothesis  \n",
       "comment_id labeler_id                        \n",
       "20001      76                 1           1  \n",
       "           85                 1           1  \n",
       "           86                 1           1  \n",
       "           145                1           1  \n",
       "           221                1           1  \n",
       "...                         ...         ...  \n",
       "20070      10887              1           1  \n",
       "           10906              1           1  \n",
       "           10924              1           1  \n",
       "           10942              1           1  \n",
       "           11009              1           1  \n",
       "\n",
       "[15487 rows x 133 columns]"
      ]
     },
     "execution_count": 22,
     "metadata": {},
     "output_type": "execute_result"
    }
   ],
   "source": [
    "#for those labeler IDs that repeat, do they repeat for the same comment?\n",
    "data_multi_labeler2 = data_multi_comment30[data_multi_comment30.labeler_id.isin(v.index[v.gt(2)])]\n",
    "\n",
    "data_multi_labeler2[['comment_id', 'labeler_id']]\n",
    "\n",
    "#for each unique comment, the number of labeler_ids\n",
    "#group by?\n",
    "#df.groupby(by=[\"b\"]).sum()\n",
    "\n",
    "data_multi_labeler2.groupby(by=['comment_id', 'labeler_id']).count()\n"
   ]
  },
  {
   "cell_type": "code",
   "execution_count": null,
   "metadata": {
    "colab": {
     "base_uri": "https://localhost:8080/",
     "height": 470
    },
    "id": "GVtlIYVPe_89",
    "outputId": "33dee828-71bb-4d12-b4a1-6e6ff321eb1b"
   },
   "outputs": [
    {
     "data": {
      "text/html": [
       "<div>\n",
       "<style scoped>\n",
       "    .dataframe tbody tr th:only-of-type {\n",
       "        vertical-align: middle;\n",
       "    }\n",
       "\n",
       "    .dataframe tbody tr th {\n",
       "        vertical-align: top;\n",
       "    }\n",
       "\n",
       "    .dataframe thead th {\n",
       "        text-align: right;\n",
       "    }\n",
       "</style>\n",
       "<table border=\"1\" class=\"dataframe\">\n",
       "  <thead>\n",
       "    <tr style=\"text-align: right;\">\n",
       "      <th></th>\n",
       "      <th></th>\n",
       "      <th>sentiment</th>\n",
       "      <th>respect</th>\n",
       "      <th>insult</th>\n",
       "      <th>humiliate</th>\n",
       "      <th>status</th>\n",
       "      <th>dehumanize</th>\n",
       "      <th>violence_phys</th>\n",
       "      <th>genocide</th>\n",
       "      <th>attack_defend</th>\n",
       "      <th>hatespeech</th>\n",
       "      <th>platform</th>\n",
       "      <th>uid</th>\n",
       "      <th>predict_text</th>\n",
       "      <th>measure</th>\n",
       "      <th>std_err</th>\n",
       "      <th>num_ratings</th>\n",
       "      <th>weight</th>\n",
       "      <th>has_targets</th>\n",
       "      <th>target_identity_count</th>\n",
       "      <th>rater_measure</th>\n",
       "      <th>rater_infitms</th>\n",
       "      <th>rater_outfitms</th>\n",
       "      <th>infitms</th>\n",
       "      <th>outfitms</th>\n",
       "      <th>target_identities_1</th>\n",
       "      <th>target_identities_2</th>\n",
       "      <th>target_identities_3</th>\n",
       "      <th>target_identities_4</th>\n",
       "      <th>target_identities_5</th>\n",
       "      <th>target_identities_6</th>\n",
       "      <th>target_identities_7</th>\n",
       "      <th>target_identities_9</th>\n",
       "      <th>target_race_1</th>\n",
       "      <th>target_race_2</th>\n",
       "      <th>target_race_3</th>\n",
       "      <th>target_race_8</th>\n",
       "      <th>target_race_4</th>\n",
       "      <th>target_race_5</th>\n",
       "      <th>target_race_6</th>\n",
       "      <th>target_race_7</th>\n",
       "      <th>...</th>\n",
       "      <th>target_political_9</th>\n",
       "      <th>target_political_10</th>\n",
       "      <th>target_political_11</th>\n",
       "      <th>target_political_11_text</th>\n",
       "      <th>demo_gender</th>\n",
       "      <th>demo_gender_4_text</th>\n",
       "      <th>demo_trans</th>\n",
       "      <th>demo_educ</th>\n",
       "      <th>demo_race_ethnicitie_1</th>\n",
       "      <th>demo_race_ethnicitie_2</th>\n",
       "      <th>demo_race_ethnicitie_3</th>\n",
       "      <th>demo_race_ethnicitie_4</th>\n",
       "      <th>demo_race_ethnicitie_5</th>\n",
       "      <th>demo_race_ethnicitie_8</th>\n",
       "      <th>demo_race_ethnicitie_6</th>\n",
       "      <th>demo_race_ethnicitie_7</th>\n",
       "      <th>demo_race_ethnicitie_7_text</th>\n",
       "      <th>demo_age</th>\n",
       "      <th>demo_income</th>\n",
       "      <th>demo_religion_1</th>\n",
       "      <th>demo_religion_2</th>\n",
       "      <th>demo_religion_11</th>\n",
       "      <th>demo_religion_4</th>\n",
       "      <th>demo_religion_5</th>\n",
       "      <th>demo_religion_7</th>\n",
       "      <th>demo_religion_8</th>\n",
       "      <th>demo_religion_9</th>\n",
       "      <th>demo_religion_10</th>\n",
       "      <th>demo_religion_10_text</th>\n",
       "      <th>demo_sexual_orien_1</th>\n",
       "      <th>demo_sexual_orien_2</th>\n",
       "      <th>demo_sexual_orien_3</th>\n",
       "      <th>demo_sexual_orien_4</th>\n",
       "      <th>demo_sexual_orien_5</th>\n",
       "      <th>demo_sexual_orien_4_text</th>\n",
       "      <th>demo_ideology</th>\n",
       "      <th>locationlatitude</th>\n",
       "      <th>locationlongitude</th>\n",
       "      <th>identity</th>\n",
       "      <th>hypothesis</th>\n",
       "    </tr>\n",
       "    <tr>\n",
       "      <th>labeler_id</th>\n",
       "      <th>comment_id</th>\n",
       "      <th></th>\n",
       "      <th></th>\n",
       "      <th></th>\n",
       "      <th></th>\n",
       "      <th></th>\n",
       "      <th></th>\n",
       "      <th></th>\n",
       "      <th></th>\n",
       "      <th></th>\n",
       "      <th></th>\n",
       "      <th></th>\n",
       "      <th></th>\n",
       "      <th></th>\n",
       "      <th></th>\n",
       "      <th></th>\n",
       "      <th></th>\n",
       "      <th></th>\n",
       "      <th></th>\n",
       "      <th></th>\n",
       "      <th></th>\n",
       "      <th></th>\n",
       "      <th></th>\n",
       "      <th></th>\n",
       "      <th></th>\n",
       "      <th></th>\n",
       "      <th></th>\n",
       "      <th></th>\n",
       "      <th></th>\n",
       "      <th></th>\n",
       "      <th></th>\n",
       "      <th></th>\n",
       "      <th></th>\n",
       "      <th></th>\n",
       "      <th></th>\n",
       "      <th></th>\n",
       "      <th></th>\n",
       "      <th></th>\n",
       "      <th></th>\n",
       "      <th></th>\n",
       "      <th></th>\n",
       "      <th></th>\n",
       "      <th></th>\n",
       "      <th></th>\n",
       "      <th></th>\n",
       "      <th></th>\n",
       "      <th></th>\n",
       "      <th></th>\n",
       "      <th></th>\n",
       "      <th></th>\n",
       "      <th></th>\n",
       "      <th></th>\n",
       "      <th></th>\n",
       "      <th></th>\n",
       "      <th></th>\n",
       "      <th></th>\n",
       "      <th></th>\n",
       "      <th></th>\n",
       "      <th></th>\n",
       "      <th></th>\n",
       "      <th></th>\n",
       "      <th></th>\n",
       "      <th></th>\n",
       "      <th></th>\n",
       "      <th></th>\n",
       "      <th></th>\n",
       "      <th></th>\n",
       "      <th></th>\n",
       "      <th></th>\n",
       "      <th></th>\n",
       "      <th></th>\n",
       "      <th></th>\n",
       "      <th></th>\n",
       "      <th></th>\n",
       "      <th></th>\n",
       "      <th></th>\n",
       "      <th></th>\n",
       "      <th></th>\n",
       "      <th></th>\n",
       "      <th></th>\n",
       "      <th></th>\n",
       "      <th></th>\n",
       "    </tr>\n",
       "  </thead>\n",
       "  <tbody>\n",
       "    <tr>\n",
       "      <th rowspan=\"5\" valign=\"top\">1</th>\n",
       "      <th>20007</th>\n",
       "      <td>1</td>\n",
       "      <td>1</td>\n",
       "      <td>1</td>\n",
       "      <td>1</td>\n",
       "      <td>1</td>\n",
       "      <td>1</td>\n",
       "      <td>1</td>\n",
       "      <td>1</td>\n",
       "      <td>1</td>\n",
       "      <td>1</td>\n",
       "      <td>1</td>\n",
       "      <td>1</td>\n",
       "      <td>1</td>\n",
       "      <td>1</td>\n",
       "      <td>1</td>\n",
       "      <td>1</td>\n",
       "      <td>1</td>\n",
       "      <td>1</td>\n",
       "      <td>1</td>\n",
       "      <td>1</td>\n",
       "      <td>1</td>\n",
       "      <td>1</td>\n",
       "      <td>1</td>\n",
       "      <td>1</td>\n",
       "      <td>0</td>\n",
       "      <td>0</td>\n",
       "      <td>1</td>\n",
       "      <td>0</td>\n",
       "      <td>0</td>\n",
       "      <td>0</td>\n",
       "      <td>0</td>\n",
       "      <td>0</td>\n",
       "      <td>0</td>\n",
       "      <td>0</td>\n",
       "      <td>0</td>\n",
       "      <td>0</td>\n",
       "      <td>0</td>\n",
       "      <td>0</td>\n",
       "      <td>0</td>\n",
       "      <td>0</td>\n",
       "      <td>...</td>\n",
       "      <td>0</td>\n",
       "      <td>0</td>\n",
       "      <td>0</td>\n",
       "      <td>1</td>\n",
       "      <td>1</td>\n",
       "      <td>1</td>\n",
       "      <td>1</td>\n",
       "      <td>1</td>\n",
       "      <td>0</td>\n",
       "      <td>0</td>\n",
       "      <td>0</td>\n",
       "      <td>0</td>\n",
       "      <td>0</td>\n",
       "      <td>0</td>\n",
       "      <td>1</td>\n",
       "      <td>0</td>\n",
       "      <td>1</td>\n",
       "      <td>1</td>\n",
       "      <td>1</td>\n",
       "      <td>0</td>\n",
       "      <td>0</td>\n",
       "      <td>1</td>\n",
       "      <td>0</td>\n",
       "      <td>0</td>\n",
       "      <td>0</td>\n",
       "      <td>0</td>\n",
       "      <td>0</td>\n",
       "      <td>0</td>\n",
       "      <td>1</td>\n",
       "      <td>0</td>\n",
       "      <td>1</td>\n",
       "      <td>0</td>\n",
       "      <td>0</td>\n",
       "      <td>0</td>\n",
       "      <td>1</td>\n",
       "      <td>1</td>\n",
       "      <td>1</td>\n",
       "      <td>1</td>\n",
       "      <td>1</td>\n",
       "      <td>1</td>\n",
       "    </tr>\n",
       "    <tr>\n",
       "      <th>20019</th>\n",
       "      <td>1</td>\n",
       "      <td>1</td>\n",
       "      <td>1</td>\n",
       "      <td>1</td>\n",
       "      <td>1</td>\n",
       "      <td>1</td>\n",
       "      <td>1</td>\n",
       "      <td>1</td>\n",
       "      <td>1</td>\n",
       "      <td>1</td>\n",
       "      <td>1</td>\n",
       "      <td>1</td>\n",
       "      <td>1</td>\n",
       "      <td>1</td>\n",
       "      <td>1</td>\n",
       "      <td>1</td>\n",
       "      <td>1</td>\n",
       "      <td>1</td>\n",
       "      <td>1</td>\n",
       "      <td>1</td>\n",
       "      <td>1</td>\n",
       "      <td>1</td>\n",
       "      <td>1</td>\n",
       "      <td>1</td>\n",
       "      <td>1</td>\n",
       "      <td>1</td>\n",
       "      <td>0</td>\n",
       "      <td>0</td>\n",
       "      <td>0</td>\n",
       "      <td>0</td>\n",
       "      <td>0</td>\n",
       "      <td>0</td>\n",
       "      <td>0</td>\n",
       "      <td>0</td>\n",
       "      <td>0</td>\n",
       "      <td>1</td>\n",
       "      <td>0</td>\n",
       "      <td>0</td>\n",
       "      <td>0</td>\n",
       "      <td>0</td>\n",
       "      <td>...</td>\n",
       "      <td>0</td>\n",
       "      <td>0</td>\n",
       "      <td>0</td>\n",
       "      <td>1</td>\n",
       "      <td>1</td>\n",
       "      <td>1</td>\n",
       "      <td>1</td>\n",
       "      <td>1</td>\n",
       "      <td>0</td>\n",
       "      <td>0</td>\n",
       "      <td>0</td>\n",
       "      <td>0</td>\n",
       "      <td>0</td>\n",
       "      <td>0</td>\n",
       "      <td>1</td>\n",
       "      <td>0</td>\n",
       "      <td>1</td>\n",
       "      <td>1</td>\n",
       "      <td>1</td>\n",
       "      <td>0</td>\n",
       "      <td>0</td>\n",
       "      <td>1</td>\n",
       "      <td>0</td>\n",
       "      <td>0</td>\n",
       "      <td>0</td>\n",
       "      <td>0</td>\n",
       "      <td>0</td>\n",
       "      <td>0</td>\n",
       "      <td>1</td>\n",
       "      <td>0</td>\n",
       "      <td>1</td>\n",
       "      <td>0</td>\n",
       "      <td>0</td>\n",
       "      <td>0</td>\n",
       "      <td>1</td>\n",
       "      <td>1</td>\n",
       "      <td>1</td>\n",
       "      <td>1</td>\n",
       "      <td>1</td>\n",
       "      <td>1</td>\n",
       "    </tr>\n",
       "    <tr>\n",
       "      <th>20029</th>\n",
       "      <td>1</td>\n",
       "      <td>1</td>\n",
       "      <td>1</td>\n",
       "      <td>1</td>\n",
       "      <td>1</td>\n",
       "      <td>1</td>\n",
       "      <td>1</td>\n",
       "      <td>1</td>\n",
       "      <td>1</td>\n",
       "      <td>1</td>\n",
       "      <td>1</td>\n",
       "      <td>1</td>\n",
       "      <td>1</td>\n",
       "      <td>1</td>\n",
       "      <td>1</td>\n",
       "      <td>1</td>\n",
       "      <td>1</td>\n",
       "      <td>1</td>\n",
       "      <td>1</td>\n",
       "      <td>1</td>\n",
       "      <td>1</td>\n",
       "      <td>1</td>\n",
       "      <td>1</td>\n",
       "      <td>1</td>\n",
       "      <td>0</td>\n",
       "      <td>0</td>\n",
       "      <td>1</td>\n",
       "      <td>0</td>\n",
       "      <td>0</td>\n",
       "      <td>0</td>\n",
       "      <td>0</td>\n",
       "      <td>0</td>\n",
       "      <td>0</td>\n",
       "      <td>0</td>\n",
       "      <td>0</td>\n",
       "      <td>0</td>\n",
       "      <td>0</td>\n",
       "      <td>0</td>\n",
       "      <td>0</td>\n",
       "      <td>0</td>\n",
       "      <td>...</td>\n",
       "      <td>0</td>\n",
       "      <td>0</td>\n",
       "      <td>0</td>\n",
       "      <td>1</td>\n",
       "      <td>1</td>\n",
       "      <td>1</td>\n",
       "      <td>1</td>\n",
       "      <td>1</td>\n",
       "      <td>0</td>\n",
       "      <td>0</td>\n",
       "      <td>0</td>\n",
       "      <td>0</td>\n",
       "      <td>0</td>\n",
       "      <td>0</td>\n",
       "      <td>1</td>\n",
       "      <td>0</td>\n",
       "      <td>1</td>\n",
       "      <td>1</td>\n",
       "      <td>1</td>\n",
       "      <td>0</td>\n",
       "      <td>0</td>\n",
       "      <td>1</td>\n",
       "      <td>0</td>\n",
       "      <td>0</td>\n",
       "      <td>0</td>\n",
       "      <td>0</td>\n",
       "      <td>0</td>\n",
       "      <td>0</td>\n",
       "      <td>1</td>\n",
       "      <td>0</td>\n",
       "      <td>1</td>\n",
       "      <td>0</td>\n",
       "      <td>0</td>\n",
       "      <td>0</td>\n",
       "      <td>1</td>\n",
       "      <td>1</td>\n",
       "      <td>1</td>\n",
       "      <td>1</td>\n",
       "      <td>1</td>\n",
       "      <td>1</td>\n",
       "    </tr>\n",
       "    <tr>\n",
       "      <th>20034</th>\n",
       "      <td>1</td>\n",
       "      <td>1</td>\n",
       "      <td>1</td>\n",
       "      <td>1</td>\n",
       "      <td>1</td>\n",
       "      <td>1</td>\n",
       "      <td>1</td>\n",
       "      <td>1</td>\n",
       "      <td>1</td>\n",
       "      <td>1</td>\n",
       "      <td>1</td>\n",
       "      <td>1</td>\n",
       "      <td>1</td>\n",
       "      <td>1</td>\n",
       "      <td>1</td>\n",
       "      <td>1</td>\n",
       "      <td>1</td>\n",
       "      <td>1</td>\n",
       "      <td>1</td>\n",
       "      <td>1</td>\n",
       "      <td>1</td>\n",
       "      <td>1</td>\n",
       "      <td>1</td>\n",
       "      <td>1</td>\n",
       "      <td>0</td>\n",
       "      <td>0</td>\n",
       "      <td>0</td>\n",
       "      <td>0</td>\n",
       "      <td>1</td>\n",
       "      <td>0</td>\n",
       "      <td>0</td>\n",
       "      <td>0</td>\n",
       "      <td>0</td>\n",
       "      <td>0</td>\n",
       "      <td>0</td>\n",
       "      <td>0</td>\n",
       "      <td>0</td>\n",
       "      <td>0</td>\n",
       "      <td>0</td>\n",
       "      <td>0</td>\n",
       "      <td>...</td>\n",
       "      <td>0</td>\n",
       "      <td>0</td>\n",
       "      <td>0</td>\n",
       "      <td>1</td>\n",
       "      <td>1</td>\n",
       "      <td>1</td>\n",
       "      <td>1</td>\n",
       "      <td>1</td>\n",
       "      <td>0</td>\n",
       "      <td>0</td>\n",
       "      <td>0</td>\n",
       "      <td>0</td>\n",
       "      <td>0</td>\n",
       "      <td>0</td>\n",
       "      <td>1</td>\n",
       "      <td>0</td>\n",
       "      <td>1</td>\n",
       "      <td>1</td>\n",
       "      <td>1</td>\n",
       "      <td>0</td>\n",
       "      <td>0</td>\n",
       "      <td>1</td>\n",
       "      <td>0</td>\n",
       "      <td>0</td>\n",
       "      <td>0</td>\n",
       "      <td>0</td>\n",
       "      <td>0</td>\n",
       "      <td>0</td>\n",
       "      <td>1</td>\n",
       "      <td>0</td>\n",
       "      <td>1</td>\n",
       "      <td>0</td>\n",
       "      <td>0</td>\n",
       "      <td>0</td>\n",
       "      <td>1</td>\n",
       "      <td>1</td>\n",
       "      <td>1</td>\n",
       "      <td>1</td>\n",
       "      <td>1</td>\n",
       "      <td>1</td>\n",
       "    </tr>\n",
       "    <tr>\n",
       "      <th>20055</th>\n",
       "      <td>1</td>\n",
       "      <td>1</td>\n",
       "      <td>1</td>\n",
       "      <td>1</td>\n",
       "      <td>1</td>\n",
       "      <td>1</td>\n",
       "      <td>1</td>\n",
       "      <td>1</td>\n",
       "      <td>1</td>\n",
       "      <td>1</td>\n",
       "      <td>1</td>\n",
       "      <td>1</td>\n",
       "      <td>1</td>\n",
       "      <td>1</td>\n",
       "      <td>1</td>\n",
       "      <td>1</td>\n",
       "      <td>1</td>\n",
       "      <td>1</td>\n",
       "      <td>1</td>\n",
       "      <td>1</td>\n",
       "      <td>1</td>\n",
       "      <td>1</td>\n",
       "      <td>1</td>\n",
       "      <td>1</td>\n",
       "      <td>1</td>\n",
       "      <td>0</td>\n",
       "      <td>0</td>\n",
       "      <td>1</td>\n",
       "      <td>0</td>\n",
       "      <td>0</td>\n",
       "      <td>0</td>\n",
       "      <td>0</td>\n",
       "      <td>1</td>\n",
       "      <td>0</td>\n",
       "      <td>0</td>\n",
       "      <td>0</td>\n",
       "      <td>0</td>\n",
       "      <td>0</td>\n",
       "      <td>0</td>\n",
       "      <td>0</td>\n",
       "      <td>...</td>\n",
       "      <td>0</td>\n",
       "      <td>0</td>\n",
       "      <td>0</td>\n",
       "      <td>1</td>\n",
       "      <td>1</td>\n",
       "      <td>1</td>\n",
       "      <td>1</td>\n",
       "      <td>1</td>\n",
       "      <td>0</td>\n",
       "      <td>0</td>\n",
       "      <td>0</td>\n",
       "      <td>0</td>\n",
       "      <td>0</td>\n",
       "      <td>0</td>\n",
       "      <td>1</td>\n",
       "      <td>0</td>\n",
       "      <td>1</td>\n",
       "      <td>1</td>\n",
       "      <td>1</td>\n",
       "      <td>0</td>\n",
       "      <td>0</td>\n",
       "      <td>1</td>\n",
       "      <td>0</td>\n",
       "      <td>0</td>\n",
       "      <td>0</td>\n",
       "      <td>0</td>\n",
       "      <td>0</td>\n",
       "      <td>0</td>\n",
       "      <td>1</td>\n",
       "      <td>0</td>\n",
       "      <td>1</td>\n",
       "      <td>0</td>\n",
       "      <td>0</td>\n",
       "      <td>0</td>\n",
       "      <td>1</td>\n",
       "      <td>1</td>\n",
       "      <td>1</td>\n",
       "      <td>1</td>\n",
       "      <td>1</td>\n",
       "      <td>1</td>\n",
       "    </tr>\n",
       "    <tr>\n",
       "      <th>...</th>\n",
       "      <th>...</th>\n",
       "      <td>...</td>\n",
       "      <td>...</td>\n",
       "      <td>...</td>\n",
       "      <td>...</td>\n",
       "      <td>...</td>\n",
       "      <td>...</td>\n",
       "      <td>...</td>\n",
       "      <td>...</td>\n",
       "      <td>...</td>\n",
       "      <td>...</td>\n",
       "      <td>...</td>\n",
       "      <td>...</td>\n",
       "      <td>...</td>\n",
       "      <td>...</td>\n",
       "      <td>...</td>\n",
       "      <td>...</td>\n",
       "      <td>...</td>\n",
       "      <td>...</td>\n",
       "      <td>...</td>\n",
       "      <td>...</td>\n",
       "      <td>...</td>\n",
       "      <td>...</td>\n",
       "      <td>...</td>\n",
       "      <td>...</td>\n",
       "      <td>...</td>\n",
       "      <td>...</td>\n",
       "      <td>...</td>\n",
       "      <td>...</td>\n",
       "      <td>...</td>\n",
       "      <td>...</td>\n",
       "      <td>...</td>\n",
       "      <td>...</td>\n",
       "      <td>...</td>\n",
       "      <td>...</td>\n",
       "      <td>...</td>\n",
       "      <td>...</td>\n",
       "      <td>...</td>\n",
       "      <td>...</td>\n",
       "      <td>...</td>\n",
       "      <td>...</td>\n",
       "      <td>...</td>\n",
       "      <td>...</td>\n",
       "      <td>...</td>\n",
       "      <td>...</td>\n",
       "      <td>...</td>\n",
       "      <td>...</td>\n",
       "      <td>...</td>\n",
       "      <td>...</td>\n",
       "      <td>...</td>\n",
       "      <td>...</td>\n",
       "      <td>...</td>\n",
       "      <td>...</td>\n",
       "      <td>...</td>\n",
       "      <td>...</td>\n",
       "      <td>...</td>\n",
       "      <td>...</td>\n",
       "      <td>...</td>\n",
       "      <td>...</td>\n",
       "      <td>...</td>\n",
       "      <td>...</td>\n",
       "      <td>...</td>\n",
       "      <td>...</td>\n",
       "      <td>...</td>\n",
       "      <td>...</td>\n",
       "      <td>...</td>\n",
       "      <td>...</td>\n",
       "      <td>...</td>\n",
       "      <td>...</td>\n",
       "      <td>...</td>\n",
       "      <td>...</td>\n",
       "      <td>...</td>\n",
       "      <td>...</td>\n",
       "      <td>...</td>\n",
       "      <td>...</td>\n",
       "      <td>...</td>\n",
       "      <td>...</td>\n",
       "      <td>...</td>\n",
       "      <td>...</td>\n",
       "      <td>...</td>\n",
       "      <td>...</td>\n",
       "      <td>...</td>\n",
       "    </tr>\n",
       "    <tr>\n",
       "      <th rowspan=\"5\" valign=\"top\">11141</th>\n",
       "      <th>20018</th>\n",
       "      <td>1</td>\n",
       "      <td>1</td>\n",
       "      <td>1</td>\n",
       "      <td>1</td>\n",
       "      <td>1</td>\n",
       "      <td>1</td>\n",
       "      <td>1</td>\n",
       "      <td>1</td>\n",
       "      <td>1</td>\n",
       "      <td>1</td>\n",
       "      <td>1</td>\n",
       "      <td>1</td>\n",
       "      <td>1</td>\n",
       "      <td>1</td>\n",
       "      <td>1</td>\n",
       "      <td>1</td>\n",
       "      <td>1</td>\n",
       "      <td>1</td>\n",
       "      <td>1</td>\n",
       "      <td>1</td>\n",
       "      <td>1</td>\n",
       "      <td>1</td>\n",
       "      <td>1</td>\n",
       "      <td>1</td>\n",
       "      <td>0</td>\n",
       "      <td>1</td>\n",
       "      <td>0</td>\n",
       "      <td>0</td>\n",
       "      <td>0</td>\n",
       "      <td>0</td>\n",
       "      <td>0</td>\n",
       "      <td>0</td>\n",
       "      <td>0</td>\n",
       "      <td>0</td>\n",
       "      <td>0</td>\n",
       "      <td>0</td>\n",
       "      <td>0</td>\n",
       "      <td>0</td>\n",
       "      <td>0</td>\n",
       "      <td>0</td>\n",
       "      <td>...</td>\n",
       "      <td>0</td>\n",
       "      <td>0</td>\n",
       "      <td>0</td>\n",
       "      <td>1</td>\n",
       "      <td>1</td>\n",
       "      <td>1</td>\n",
       "      <td>1</td>\n",
       "      <td>1</td>\n",
       "      <td>0</td>\n",
       "      <td>0</td>\n",
       "      <td>0</td>\n",
       "      <td>0</td>\n",
       "      <td>0</td>\n",
       "      <td>0</td>\n",
       "      <td>1</td>\n",
       "      <td>0</td>\n",
       "      <td>1</td>\n",
       "      <td>1</td>\n",
       "      <td>1</td>\n",
       "      <td>0</td>\n",
       "      <td>0</td>\n",
       "      <td>0</td>\n",
       "      <td>0</td>\n",
       "      <td>0</td>\n",
       "      <td>0</td>\n",
       "      <td>0</td>\n",
       "      <td>0</td>\n",
       "      <td>1</td>\n",
       "      <td>1</td>\n",
       "      <td>1</td>\n",
       "      <td>0</td>\n",
       "      <td>0</td>\n",
       "      <td>0</td>\n",
       "      <td>0</td>\n",
       "      <td>1</td>\n",
       "      <td>1</td>\n",
       "      <td>1</td>\n",
       "      <td>1</td>\n",
       "      <td>1</td>\n",
       "      <td>1</td>\n",
       "    </tr>\n",
       "    <tr>\n",
       "      <th>20032</th>\n",
       "      <td>1</td>\n",
       "      <td>1</td>\n",
       "      <td>1</td>\n",
       "      <td>1</td>\n",
       "      <td>1</td>\n",
       "      <td>1</td>\n",
       "      <td>1</td>\n",
       "      <td>1</td>\n",
       "      <td>1</td>\n",
       "      <td>1</td>\n",
       "      <td>1</td>\n",
       "      <td>1</td>\n",
       "      <td>1</td>\n",
       "      <td>1</td>\n",
       "      <td>1</td>\n",
       "      <td>1</td>\n",
       "      <td>1</td>\n",
       "      <td>1</td>\n",
       "      <td>1</td>\n",
       "      <td>1</td>\n",
       "      <td>1</td>\n",
       "      <td>1</td>\n",
       "      <td>1</td>\n",
       "      <td>1</td>\n",
       "      <td>1</td>\n",
       "      <td>0</td>\n",
       "      <td>0</td>\n",
       "      <td>1</td>\n",
       "      <td>0</td>\n",
       "      <td>0</td>\n",
       "      <td>0</td>\n",
       "      <td>0</td>\n",
       "      <td>1</td>\n",
       "      <td>0</td>\n",
       "      <td>0</td>\n",
       "      <td>0</td>\n",
       "      <td>0</td>\n",
       "      <td>0</td>\n",
       "      <td>0</td>\n",
       "      <td>0</td>\n",
       "      <td>...</td>\n",
       "      <td>0</td>\n",
       "      <td>0</td>\n",
       "      <td>0</td>\n",
       "      <td>1</td>\n",
       "      <td>1</td>\n",
       "      <td>1</td>\n",
       "      <td>1</td>\n",
       "      <td>1</td>\n",
       "      <td>0</td>\n",
       "      <td>0</td>\n",
       "      <td>0</td>\n",
       "      <td>0</td>\n",
       "      <td>0</td>\n",
       "      <td>0</td>\n",
       "      <td>1</td>\n",
       "      <td>0</td>\n",
       "      <td>1</td>\n",
       "      <td>1</td>\n",
       "      <td>1</td>\n",
       "      <td>0</td>\n",
       "      <td>0</td>\n",
       "      <td>0</td>\n",
       "      <td>0</td>\n",
       "      <td>0</td>\n",
       "      <td>0</td>\n",
       "      <td>0</td>\n",
       "      <td>0</td>\n",
       "      <td>1</td>\n",
       "      <td>1</td>\n",
       "      <td>1</td>\n",
       "      <td>0</td>\n",
       "      <td>0</td>\n",
       "      <td>0</td>\n",
       "      <td>0</td>\n",
       "      <td>1</td>\n",
       "      <td>1</td>\n",
       "      <td>1</td>\n",
       "      <td>1</td>\n",
       "      <td>1</td>\n",
       "      <td>1</td>\n",
       "    </tr>\n",
       "    <tr>\n",
       "      <th>20053</th>\n",
       "      <td>1</td>\n",
       "      <td>1</td>\n",
       "      <td>1</td>\n",
       "      <td>1</td>\n",
       "      <td>1</td>\n",
       "      <td>1</td>\n",
       "      <td>1</td>\n",
       "      <td>1</td>\n",
       "      <td>1</td>\n",
       "      <td>1</td>\n",
       "      <td>1</td>\n",
       "      <td>1</td>\n",
       "      <td>1</td>\n",
       "      <td>1</td>\n",
       "      <td>1</td>\n",
       "      <td>1</td>\n",
       "      <td>1</td>\n",
       "      <td>1</td>\n",
       "      <td>1</td>\n",
       "      <td>1</td>\n",
       "      <td>1</td>\n",
       "      <td>1</td>\n",
       "      <td>1</td>\n",
       "      <td>1</td>\n",
       "      <td>0</td>\n",
       "      <td>1</td>\n",
       "      <td>0</td>\n",
       "      <td>0</td>\n",
       "      <td>0</td>\n",
       "      <td>0</td>\n",
       "      <td>0</td>\n",
       "      <td>0</td>\n",
       "      <td>0</td>\n",
       "      <td>0</td>\n",
       "      <td>0</td>\n",
       "      <td>0</td>\n",
       "      <td>0</td>\n",
       "      <td>0</td>\n",
       "      <td>0</td>\n",
       "      <td>0</td>\n",
       "      <td>...</td>\n",
       "      <td>0</td>\n",
       "      <td>0</td>\n",
       "      <td>0</td>\n",
       "      <td>1</td>\n",
       "      <td>1</td>\n",
       "      <td>1</td>\n",
       "      <td>1</td>\n",
       "      <td>1</td>\n",
       "      <td>0</td>\n",
       "      <td>0</td>\n",
       "      <td>0</td>\n",
       "      <td>0</td>\n",
       "      <td>0</td>\n",
       "      <td>0</td>\n",
       "      <td>1</td>\n",
       "      <td>0</td>\n",
       "      <td>1</td>\n",
       "      <td>1</td>\n",
       "      <td>1</td>\n",
       "      <td>0</td>\n",
       "      <td>0</td>\n",
       "      <td>0</td>\n",
       "      <td>0</td>\n",
       "      <td>0</td>\n",
       "      <td>0</td>\n",
       "      <td>0</td>\n",
       "      <td>0</td>\n",
       "      <td>1</td>\n",
       "      <td>1</td>\n",
       "      <td>1</td>\n",
       "      <td>0</td>\n",
       "      <td>0</td>\n",
       "      <td>0</td>\n",
       "      <td>0</td>\n",
       "      <td>1</td>\n",
       "      <td>1</td>\n",
       "      <td>1</td>\n",
       "      <td>1</td>\n",
       "      <td>1</td>\n",
       "      <td>1</td>\n",
       "    </tr>\n",
       "    <tr>\n",
       "      <th>20057</th>\n",
       "      <td>1</td>\n",
       "      <td>1</td>\n",
       "      <td>1</td>\n",
       "      <td>1</td>\n",
       "      <td>1</td>\n",
       "      <td>1</td>\n",
       "      <td>1</td>\n",
       "      <td>1</td>\n",
       "      <td>1</td>\n",
       "      <td>1</td>\n",
       "      <td>1</td>\n",
       "      <td>1</td>\n",
       "      <td>1</td>\n",
       "      <td>1</td>\n",
       "      <td>1</td>\n",
       "      <td>1</td>\n",
       "      <td>1</td>\n",
       "      <td>1</td>\n",
       "      <td>1</td>\n",
       "      <td>1</td>\n",
       "      <td>1</td>\n",
       "      <td>1</td>\n",
       "      <td>1</td>\n",
       "      <td>1</td>\n",
       "      <td>1</td>\n",
       "      <td>1</td>\n",
       "      <td>1</td>\n",
       "      <td>0</td>\n",
       "      <td>1</td>\n",
       "      <td>0</td>\n",
       "      <td>0</td>\n",
       "      <td>1</td>\n",
       "      <td>1</td>\n",
       "      <td>1</td>\n",
       "      <td>0</td>\n",
       "      <td>0</td>\n",
       "      <td>0</td>\n",
       "      <td>0</td>\n",
       "      <td>0</td>\n",
       "      <td>1</td>\n",
       "      <td>...</td>\n",
       "      <td>1</td>\n",
       "      <td>0</td>\n",
       "      <td>1</td>\n",
       "      <td>1</td>\n",
       "      <td>1</td>\n",
       "      <td>1</td>\n",
       "      <td>1</td>\n",
       "      <td>1</td>\n",
       "      <td>0</td>\n",
       "      <td>0</td>\n",
       "      <td>0</td>\n",
       "      <td>0</td>\n",
       "      <td>0</td>\n",
       "      <td>0</td>\n",
       "      <td>1</td>\n",
       "      <td>0</td>\n",
       "      <td>1</td>\n",
       "      <td>1</td>\n",
       "      <td>1</td>\n",
       "      <td>0</td>\n",
       "      <td>0</td>\n",
       "      <td>0</td>\n",
       "      <td>0</td>\n",
       "      <td>0</td>\n",
       "      <td>0</td>\n",
       "      <td>0</td>\n",
       "      <td>0</td>\n",
       "      <td>1</td>\n",
       "      <td>1</td>\n",
       "      <td>1</td>\n",
       "      <td>0</td>\n",
       "      <td>0</td>\n",
       "      <td>0</td>\n",
       "      <td>0</td>\n",
       "      <td>1</td>\n",
       "      <td>1</td>\n",
       "      <td>1</td>\n",
       "      <td>1</td>\n",
       "      <td>1</td>\n",
       "      <td>1</td>\n",
       "    </tr>\n",
       "    <tr>\n",
       "      <th>20066</th>\n",
       "      <td>1</td>\n",
       "      <td>1</td>\n",
       "      <td>1</td>\n",
       "      <td>1</td>\n",
       "      <td>1</td>\n",
       "      <td>1</td>\n",
       "      <td>1</td>\n",
       "      <td>1</td>\n",
       "      <td>1</td>\n",
       "      <td>1</td>\n",
       "      <td>1</td>\n",
       "      <td>1</td>\n",
       "      <td>1</td>\n",
       "      <td>1</td>\n",
       "      <td>1</td>\n",
       "      <td>1</td>\n",
       "      <td>1</td>\n",
       "      <td>1</td>\n",
       "      <td>1</td>\n",
       "      <td>1</td>\n",
       "      <td>1</td>\n",
       "      <td>1</td>\n",
       "      <td>1</td>\n",
       "      <td>1</td>\n",
       "      <td>0</td>\n",
       "      <td>1</td>\n",
       "      <td>1</td>\n",
       "      <td>0</td>\n",
       "      <td>0</td>\n",
       "      <td>0</td>\n",
       "      <td>0</td>\n",
       "      <td>0</td>\n",
       "      <td>0</td>\n",
       "      <td>0</td>\n",
       "      <td>0</td>\n",
       "      <td>0</td>\n",
       "      <td>0</td>\n",
       "      <td>0</td>\n",
       "      <td>0</td>\n",
       "      <td>0</td>\n",
       "      <td>...</td>\n",
       "      <td>0</td>\n",
       "      <td>0</td>\n",
       "      <td>0</td>\n",
       "      <td>1</td>\n",
       "      <td>1</td>\n",
       "      <td>1</td>\n",
       "      <td>1</td>\n",
       "      <td>1</td>\n",
       "      <td>0</td>\n",
       "      <td>0</td>\n",
       "      <td>0</td>\n",
       "      <td>0</td>\n",
       "      <td>0</td>\n",
       "      <td>0</td>\n",
       "      <td>1</td>\n",
       "      <td>0</td>\n",
       "      <td>1</td>\n",
       "      <td>1</td>\n",
       "      <td>1</td>\n",
       "      <td>0</td>\n",
       "      <td>0</td>\n",
       "      <td>0</td>\n",
       "      <td>0</td>\n",
       "      <td>0</td>\n",
       "      <td>0</td>\n",
       "      <td>0</td>\n",
       "      <td>0</td>\n",
       "      <td>1</td>\n",
       "      <td>1</td>\n",
       "      <td>1</td>\n",
       "      <td>0</td>\n",
       "      <td>0</td>\n",
       "      <td>0</td>\n",
       "      <td>0</td>\n",
       "      <td>1</td>\n",
       "      <td>1</td>\n",
       "      <td>1</td>\n",
       "      <td>1</td>\n",
       "      <td>1</td>\n",
       "      <td>1</td>\n",
       "    </tr>\n",
       "  </tbody>\n",
       "</table>\n",
       "<p>15487 rows × 133 columns</p>\n",
       "</div>"
      ],
      "text/plain": [
       "                       sentiment  respect  ...  identity  hypothesis\n",
       "labeler_id comment_id                      ...                      \n",
       "1          20007               1        1  ...         1           1\n",
       "           20019               1        1  ...         1           1\n",
       "           20029               1        1  ...         1           1\n",
       "           20034               1        1  ...         1           1\n",
       "           20055               1        1  ...         1           1\n",
       "...                          ...      ...  ...       ...         ...\n",
       "11141      20018               1        1  ...         1           1\n",
       "           20032               1        1  ...         1           1\n",
       "           20053               1        1  ...         1           1\n",
       "           20057               1        1  ...         1           1\n",
       "           20066               1        1  ...         1           1\n",
       "\n",
       "[15487 rows x 133 columns]"
      ]
     },
     "execution_count": 33,
     "metadata": {
      "tags": []
     },
     "output_type": "execute_result"
    }
   ],
   "source": [
    "data_multi_labeler2.groupby(by=['labeler_id', 'comment_id']).count()\n",
    "\n",
    "#turn these two indexes into some sort of list"
   ]
  },
  {
   "cell_type": "code",
   "execution_count": 23,
   "metadata": {
    "id": "sk3qdyRkl2u-"
   },
   "outputs": [],
   "source": [
    "df_index = data_multi_labeler2.groupby(by=['labeler_id', 'comment_id']).count()"
   ]
  },
  {
   "cell_type": "code",
   "execution_count": null,
   "metadata": {
    "colab": {
     "base_uri": "https://localhost:8080/",
     "height": 315
    },
    "id": "Mg-b7IRHm7xR",
    "outputId": "0228c3c6-e957-42a4-acc4-53a5d2f86bb3"
   },
   "outputs": [
    {
     "data": {
      "text/html": [
       "<div>\n",
       "<style scoped>\n",
       "    .dataframe tbody tr th:only-of-type {\n",
       "        vertical-align: middle;\n",
       "    }\n",
       "\n",
       "    .dataframe tbody tr th {\n",
       "        vertical-align: top;\n",
       "    }\n",
       "\n",
       "    .dataframe thead th {\n",
       "        text-align: right;\n",
       "    }\n",
       "</style>\n",
       "<table border=\"1\" class=\"dataframe\">\n",
       "  <thead>\n",
       "    <tr style=\"text-align: right;\">\n",
       "      <th></th>\n",
       "      <th>sentiment</th>\n",
       "      <th>respect</th>\n",
       "      <th>insult</th>\n",
       "      <th>humiliate</th>\n",
       "      <th>status</th>\n",
       "      <th>dehumanize</th>\n",
       "      <th>violence_phys</th>\n",
       "      <th>genocide</th>\n",
       "      <th>attack_defend</th>\n",
       "      <th>hatespeech</th>\n",
       "      <th>platform</th>\n",
       "      <th>uid</th>\n",
       "      <th>predict_text</th>\n",
       "      <th>measure</th>\n",
       "      <th>std_err</th>\n",
       "      <th>num_ratings</th>\n",
       "      <th>weight</th>\n",
       "      <th>has_targets</th>\n",
       "      <th>target_identity_count</th>\n",
       "      <th>rater_measure</th>\n",
       "      <th>rater_infitms</th>\n",
       "      <th>rater_outfitms</th>\n",
       "      <th>infitms</th>\n",
       "      <th>outfitms</th>\n",
       "      <th>target_identities_1</th>\n",
       "      <th>target_identities_2</th>\n",
       "      <th>target_identities_3</th>\n",
       "      <th>target_identities_4</th>\n",
       "      <th>target_identities_5</th>\n",
       "      <th>target_identities_6</th>\n",
       "      <th>target_identities_7</th>\n",
       "      <th>target_identities_9</th>\n",
       "      <th>target_race_1</th>\n",
       "      <th>target_race_2</th>\n",
       "      <th>target_race_3</th>\n",
       "      <th>target_race_8</th>\n",
       "      <th>target_race_4</th>\n",
       "      <th>target_race_5</th>\n",
       "      <th>target_race_6</th>\n",
       "      <th>target_race_7</th>\n",
       "      <th>...</th>\n",
       "      <th>target_political_9</th>\n",
       "      <th>target_political_10</th>\n",
       "      <th>target_political_11</th>\n",
       "      <th>target_political_11_text</th>\n",
       "      <th>demo_gender</th>\n",
       "      <th>demo_gender_4_text</th>\n",
       "      <th>demo_trans</th>\n",
       "      <th>demo_educ</th>\n",
       "      <th>demo_race_ethnicitie_1</th>\n",
       "      <th>demo_race_ethnicitie_2</th>\n",
       "      <th>demo_race_ethnicitie_3</th>\n",
       "      <th>demo_race_ethnicitie_4</th>\n",
       "      <th>demo_race_ethnicitie_5</th>\n",
       "      <th>demo_race_ethnicitie_8</th>\n",
       "      <th>demo_race_ethnicitie_6</th>\n",
       "      <th>demo_race_ethnicitie_7</th>\n",
       "      <th>demo_race_ethnicitie_7_text</th>\n",
       "      <th>demo_age</th>\n",
       "      <th>demo_income</th>\n",
       "      <th>demo_religion_1</th>\n",
       "      <th>demo_religion_2</th>\n",
       "      <th>demo_religion_11</th>\n",
       "      <th>demo_religion_4</th>\n",
       "      <th>demo_religion_5</th>\n",
       "      <th>demo_religion_7</th>\n",
       "      <th>demo_religion_8</th>\n",
       "      <th>demo_religion_9</th>\n",
       "      <th>demo_religion_10</th>\n",
       "      <th>demo_religion_10_text</th>\n",
       "      <th>demo_sexual_orien_1</th>\n",
       "      <th>demo_sexual_orien_2</th>\n",
       "      <th>demo_sexual_orien_3</th>\n",
       "      <th>demo_sexual_orien_4</th>\n",
       "      <th>demo_sexual_orien_5</th>\n",
       "      <th>demo_sexual_orien_4_text</th>\n",
       "      <th>demo_ideology</th>\n",
       "      <th>locationlatitude</th>\n",
       "      <th>locationlongitude</th>\n",
       "      <th>identity</th>\n",
       "      <th>hypothesis</th>\n",
       "    </tr>\n",
       "    <tr>\n",
       "      <th>comment_id</th>\n",
       "      <th></th>\n",
       "      <th></th>\n",
       "      <th></th>\n",
       "      <th></th>\n",
       "      <th></th>\n",
       "      <th></th>\n",
       "      <th></th>\n",
       "      <th></th>\n",
       "      <th></th>\n",
       "      <th></th>\n",
       "      <th></th>\n",
       "      <th></th>\n",
       "      <th></th>\n",
       "      <th></th>\n",
       "      <th></th>\n",
       "      <th></th>\n",
       "      <th></th>\n",
       "      <th></th>\n",
       "      <th></th>\n",
       "      <th></th>\n",
       "      <th></th>\n",
       "      <th></th>\n",
       "      <th></th>\n",
       "      <th></th>\n",
       "      <th></th>\n",
       "      <th></th>\n",
       "      <th></th>\n",
       "      <th></th>\n",
       "      <th></th>\n",
       "      <th></th>\n",
       "      <th></th>\n",
       "      <th></th>\n",
       "      <th></th>\n",
       "      <th></th>\n",
       "      <th></th>\n",
       "      <th></th>\n",
       "      <th></th>\n",
       "      <th></th>\n",
       "      <th></th>\n",
       "      <th></th>\n",
       "      <th></th>\n",
       "      <th></th>\n",
       "      <th></th>\n",
       "      <th></th>\n",
       "      <th></th>\n",
       "      <th></th>\n",
       "      <th></th>\n",
       "      <th></th>\n",
       "      <th></th>\n",
       "      <th></th>\n",
       "      <th></th>\n",
       "      <th></th>\n",
       "      <th></th>\n",
       "      <th></th>\n",
       "      <th></th>\n",
       "      <th></th>\n",
       "      <th></th>\n",
       "      <th></th>\n",
       "      <th></th>\n",
       "      <th></th>\n",
       "      <th></th>\n",
       "      <th></th>\n",
       "      <th></th>\n",
       "      <th></th>\n",
       "      <th></th>\n",
       "      <th></th>\n",
       "      <th></th>\n",
       "      <th></th>\n",
       "      <th></th>\n",
       "      <th></th>\n",
       "      <th></th>\n",
       "      <th></th>\n",
       "      <th></th>\n",
       "      <th></th>\n",
       "      <th></th>\n",
       "      <th></th>\n",
       "      <th></th>\n",
       "      <th></th>\n",
       "      <th></th>\n",
       "      <th></th>\n",
       "      <th></th>\n",
       "    </tr>\n",
       "  </thead>\n",
       "  <tbody>\n",
       "    <tr>\n",
       "      <th>20007</th>\n",
       "      <td>1</td>\n",
       "      <td>1</td>\n",
       "      <td>1</td>\n",
       "      <td>1</td>\n",
       "      <td>1</td>\n",
       "      <td>1</td>\n",
       "      <td>1</td>\n",
       "      <td>1</td>\n",
       "      <td>1</td>\n",
       "      <td>1</td>\n",
       "      <td>1</td>\n",
       "      <td>1</td>\n",
       "      <td>1</td>\n",
       "      <td>1</td>\n",
       "      <td>1</td>\n",
       "      <td>1</td>\n",
       "      <td>1</td>\n",
       "      <td>1</td>\n",
       "      <td>1</td>\n",
       "      <td>1</td>\n",
       "      <td>1</td>\n",
       "      <td>1</td>\n",
       "      <td>1</td>\n",
       "      <td>1</td>\n",
       "      <td>0</td>\n",
       "      <td>0</td>\n",
       "      <td>1</td>\n",
       "      <td>0</td>\n",
       "      <td>0</td>\n",
       "      <td>0</td>\n",
       "      <td>0</td>\n",
       "      <td>0</td>\n",
       "      <td>0</td>\n",
       "      <td>0</td>\n",
       "      <td>0</td>\n",
       "      <td>0</td>\n",
       "      <td>0</td>\n",
       "      <td>0</td>\n",
       "      <td>0</td>\n",
       "      <td>0</td>\n",
       "      <td>...</td>\n",
       "      <td>0</td>\n",
       "      <td>0</td>\n",
       "      <td>0</td>\n",
       "      <td>1</td>\n",
       "      <td>1</td>\n",
       "      <td>1</td>\n",
       "      <td>1</td>\n",
       "      <td>1</td>\n",
       "      <td>0</td>\n",
       "      <td>0</td>\n",
       "      <td>0</td>\n",
       "      <td>0</td>\n",
       "      <td>0</td>\n",
       "      <td>0</td>\n",
       "      <td>1</td>\n",
       "      <td>0</td>\n",
       "      <td>1</td>\n",
       "      <td>1</td>\n",
       "      <td>1</td>\n",
       "      <td>0</td>\n",
       "      <td>0</td>\n",
       "      <td>1</td>\n",
       "      <td>0</td>\n",
       "      <td>0</td>\n",
       "      <td>0</td>\n",
       "      <td>0</td>\n",
       "      <td>0</td>\n",
       "      <td>0</td>\n",
       "      <td>1</td>\n",
       "      <td>0</td>\n",
       "      <td>1</td>\n",
       "      <td>0</td>\n",
       "      <td>0</td>\n",
       "      <td>0</td>\n",
       "      <td>1</td>\n",
       "      <td>1</td>\n",
       "      <td>1</td>\n",
       "      <td>1</td>\n",
       "      <td>1</td>\n",
       "      <td>1</td>\n",
       "    </tr>\n",
       "    <tr>\n",
       "      <th>20019</th>\n",
       "      <td>1</td>\n",
       "      <td>1</td>\n",
       "      <td>1</td>\n",
       "      <td>1</td>\n",
       "      <td>1</td>\n",
       "      <td>1</td>\n",
       "      <td>1</td>\n",
       "      <td>1</td>\n",
       "      <td>1</td>\n",
       "      <td>1</td>\n",
       "      <td>1</td>\n",
       "      <td>1</td>\n",
       "      <td>1</td>\n",
       "      <td>1</td>\n",
       "      <td>1</td>\n",
       "      <td>1</td>\n",
       "      <td>1</td>\n",
       "      <td>1</td>\n",
       "      <td>1</td>\n",
       "      <td>1</td>\n",
       "      <td>1</td>\n",
       "      <td>1</td>\n",
       "      <td>1</td>\n",
       "      <td>1</td>\n",
       "      <td>1</td>\n",
       "      <td>1</td>\n",
       "      <td>0</td>\n",
       "      <td>0</td>\n",
       "      <td>0</td>\n",
       "      <td>0</td>\n",
       "      <td>0</td>\n",
       "      <td>0</td>\n",
       "      <td>0</td>\n",
       "      <td>0</td>\n",
       "      <td>0</td>\n",
       "      <td>1</td>\n",
       "      <td>0</td>\n",
       "      <td>0</td>\n",
       "      <td>0</td>\n",
       "      <td>0</td>\n",
       "      <td>...</td>\n",
       "      <td>0</td>\n",
       "      <td>0</td>\n",
       "      <td>0</td>\n",
       "      <td>1</td>\n",
       "      <td>1</td>\n",
       "      <td>1</td>\n",
       "      <td>1</td>\n",
       "      <td>1</td>\n",
       "      <td>0</td>\n",
       "      <td>0</td>\n",
       "      <td>0</td>\n",
       "      <td>0</td>\n",
       "      <td>0</td>\n",
       "      <td>0</td>\n",
       "      <td>1</td>\n",
       "      <td>0</td>\n",
       "      <td>1</td>\n",
       "      <td>1</td>\n",
       "      <td>1</td>\n",
       "      <td>0</td>\n",
       "      <td>0</td>\n",
       "      <td>1</td>\n",
       "      <td>0</td>\n",
       "      <td>0</td>\n",
       "      <td>0</td>\n",
       "      <td>0</td>\n",
       "      <td>0</td>\n",
       "      <td>0</td>\n",
       "      <td>1</td>\n",
       "      <td>0</td>\n",
       "      <td>1</td>\n",
       "      <td>0</td>\n",
       "      <td>0</td>\n",
       "      <td>0</td>\n",
       "      <td>1</td>\n",
       "      <td>1</td>\n",
       "      <td>1</td>\n",
       "      <td>1</td>\n",
       "      <td>1</td>\n",
       "      <td>1</td>\n",
       "    </tr>\n",
       "    <tr>\n",
       "      <th>20029</th>\n",
       "      <td>1</td>\n",
       "      <td>1</td>\n",
       "      <td>1</td>\n",
       "      <td>1</td>\n",
       "      <td>1</td>\n",
       "      <td>1</td>\n",
       "      <td>1</td>\n",
       "      <td>1</td>\n",
       "      <td>1</td>\n",
       "      <td>1</td>\n",
       "      <td>1</td>\n",
       "      <td>1</td>\n",
       "      <td>1</td>\n",
       "      <td>1</td>\n",
       "      <td>1</td>\n",
       "      <td>1</td>\n",
       "      <td>1</td>\n",
       "      <td>1</td>\n",
       "      <td>1</td>\n",
       "      <td>1</td>\n",
       "      <td>1</td>\n",
       "      <td>1</td>\n",
       "      <td>1</td>\n",
       "      <td>1</td>\n",
       "      <td>0</td>\n",
       "      <td>0</td>\n",
       "      <td>1</td>\n",
       "      <td>0</td>\n",
       "      <td>0</td>\n",
       "      <td>0</td>\n",
       "      <td>0</td>\n",
       "      <td>0</td>\n",
       "      <td>0</td>\n",
       "      <td>0</td>\n",
       "      <td>0</td>\n",
       "      <td>0</td>\n",
       "      <td>0</td>\n",
       "      <td>0</td>\n",
       "      <td>0</td>\n",
       "      <td>0</td>\n",
       "      <td>...</td>\n",
       "      <td>0</td>\n",
       "      <td>0</td>\n",
       "      <td>0</td>\n",
       "      <td>1</td>\n",
       "      <td>1</td>\n",
       "      <td>1</td>\n",
       "      <td>1</td>\n",
       "      <td>1</td>\n",
       "      <td>0</td>\n",
       "      <td>0</td>\n",
       "      <td>0</td>\n",
       "      <td>0</td>\n",
       "      <td>0</td>\n",
       "      <td>0</td>\n",
       "      <td>1</td>\n",
       "      <td>0</td>\n",
       "      <td>1</td>\n",
       "      <td>1</td>\n",
       "      <td>1</td>\n",
       "      <td>0</td>\n",
       "      <td>0</td>\n",
       "      <td>1</td>\n",
       "      <td>0</td>\n",
       "      <td>0</td>\n",
       "      <td>0</td>\n",
       "      <td>0</td>\n",
       "      <td>0</td>\n",
       "      <td>0</td>\n",
       "      <td>1</td>\n",
       "      <td>0</td>\n",
       "      <td>1</td>\n",
       "      <td>0</td>\n",
       "      <td>0</td>\n",
       "      <td>0</td>\n",
       "      <td>1</td>\n",
       "      <td>1</td>\n",
       "      <td>1</td>\n",
       "      <td>1</td>\n",
       "      <td>1</td>\n",
       "      <td>1</td>\n",
       "    </tr>\n",
       "    <tr>\n",
       "      <th>20034</th>\n",
       "      <td>1</td>\n",
       "      <td>1</td>\n",
       "      <td>1</td>\n",
       "      <td>1</td>\n",
       "      <td>1</td>\n",
       "      <td>1</td>\n",
       "      <td>1</td>\n",
       "      <td>1</td>\n",
       "      <td>1</td>\n",
       "      <td>1</td>\n",
       "      <td>1</td>\n",
       "      <td>1</td>\n",
       "      <td>1</td>\n",
       "      <td>1</td>\n",
       "      <td>1</td>\n",
       "      <td>1</td>\n",
       "      <td>1</td>\n",
       "      <td>1</td>\n",
       "      <td>1</td>\n",
       "      <td>1</td>\n",
       "      <td>1</td>\n",
       "      <td>1</td>\n",
       "      <td>1</td>\n",
       "      <td>1</td>\n",
       "      <td>0</td>\n",
       "      <td>0</td>\n",
       "      <td>0</td>\n",
       "      <td>0</td>\n",
       "      <td>1</td>\n",
       "      <td>0</td>\n",
       "      <td>0</td>\n",
       "      <td>0</td>\n",
       "      <td>0</td>\n",
       "      <td>0</td>\n",
       "      <td>0</td>\n",
       "      <td>0</td>\n",
       "      <td>0</td>\n",
       "      <td>0</td>\n",
       "      <td>0</td>\n",
       "      <td>0</td>\n",
       "      <td>...</td>\n",
       "      <td>0</td>\n",
       "      <td>0</td>\n",
       "      <td>0</td>\n",
       "      <td>1</td>\n",
       "      <td>1</td>\n",
       "      <td>1</td>\n",
       "      <td>1</td>\n",
       "      <td>1</td>\n",
       "      <td>0</td>\n",
       "      <td>0</td>\n",
       "      <td>0</td>\n",
       "      <td>0</td>\n",
       "      <td>0</td>\n",
       "      <td>0</td>\n",
       "      <td>1</td>\n",
       "      <td>0</td>\n",
       "      <td>1</td>\n",
       "      <td>1</td>\n",
       "      <td>1</td>\n",
       "      <td>0</td>\n",
       "      <td>0</td>\n",
       "      <td>1</td>\n",
       "      <td>0</td>\n",
       "      <td>0</td>\n",
       "      <td>0</td>\n",
       "      <td>0</td>\n",
       "      <td>0</td>\n",
       "      <td>0</td>\n",
       "      <td>1</td>\n",
       "      <td>0</td>\n",
       "      <td>1</td>\n",
       "      <td>0</td>\n",
       "      <td>0</td>\n",
       "      <td>0</td>\n",
       "      <td>1</td>\n",
       "      <td>1</td>\n",
       "      <td>1</td>\n",
       "      <td>1</td>\n",
       "      <td>1</td>\n",
       "      <td>1</td>\n",
       "    </tr>\n",
       "    <tr>\n",
       "      <th>20055</th>\n",
       "      <td>1</td>\n",
       "      <td>1</td>\n",
       "      <td>1</td>\n",
       "      <td>1</td>\n",
       "      <td>1</td>\n",
       "      <td>1</td>\n",
       "      <td>1</td>\n",
       "      <td>1</td>\n",
       "      <td>1</td>\n",
       "      <td>1</td>\n",
       "      <td>1</td>\n",
       "      <td>1</td>\n",
       "      <td>1</td>\n",
       "      <td>1</td>\n",
       "      <td>1</td>\n",
       "      <td>1</td>\n",
       "      <td>1</td>\n",
       "      <td>1</td>\n",
       "      <td>1</td>\n",
       "      <td>1</td>\n",
       "      <td>1</td>\n",
       "      <td>1</td>\n",
       "      <td>1</td>\n",
       "      <td>1</td>\n",
       "      <td>1</td>\n",
       "      <td>0</td>\n",
       "      <td>0</td>\n",
       "      <td>1</td>\n",
       "      <td>0</td>\n",
       "      <td>0</td>\n",
       "      <td>0</td>\n",
       "      <td>0</td>\n",
       "      <td>1</td>\n",
       "      <td>0</td>\n",
       "      <td>0</td>\n",
       "      <td>0</td>\n",
       "      <td>0</td>\n",
       "      <td>0</td>\n",
       "      <td>0</td>\n",
       "      <td>0</td>\n",
       "      <td>...</td>\n",
       "      <td>0</td>\n",
       "      <td>0</td>\n",
       "      <td>0</td>\n",
       "      <td>1</td>\n",
       "      <td>1</td>\n",
       "      <td>1</td>\n",
       "      <td>1</td>\n",
       "      <td>1</td>\n",
       "      <td>0</td>\n",
       "      <td>0</td>\n",
       "      <td>0</td>\n",
       "      <td>0</td>\n",
       "      <td>0</td>\n",
       "      <td>0</td>\n",
       "      <td>1</td>\n",
       "      <td>0</td>\n",
       "      <td>1</td>\n",
       "      <td>1</td>\n",
       "      <td>1</td>\n",
       "      <td>0</td>\n",
       "      <td>0</td>\n",
       "      <td>1</td>\n",
       "      <td>0</td>\n",
       "      <td>0</td>\n",
       "      <td>0</td>\n",
       "      <td>0</td>\n",
       "      <td>0</td>\n",
       "      <td>0</td>\n",
       "      <td>1</td>\n",
       "      <td>0</td>\n",
       "      <td>1</td>\n",
       "      <td>0</td>\n",
       "      <td>0</td>\n",
       "      <td>0</td>\n",
       "      <td>1</td>\n",
       "      <td>1</td>\n",
       "      <td>1</td>\n",
       "      <td>1</td>\n",
       "      <td>1</td>\n",
       "      <td>1</td>\n",
       "    </tr>\n",
       "    <tr>\n",
       "      <th>20059</th>\n",
       "      <td>1</td>\n",
       "      <td>1</td>\n",
       "      <td>1</td>\n",
       "      <td>1</td>\n",
       "      <td>1</td>\n",
       "      <td>1</td>\n",
       "      <td>1</td>\n",
       "      <td>1</td>\n",
       "      <td>1</td>\n",
       "      <td>1</td>\n",
       "      <td>1</td>\n",
       "      <td>1</td>\n",
       "      <td>1</td>\n",
       "      <td>1</td>\n",
       "      <td>1</td>\n",
       "      <td>1</td>\n",
       "      <td>1</td>\n",
       "      <td>1</td>\n",
       "      <td>1</td>\n",
       "      <td>1</td>\n",
       "      <td>1</td>\n",
       "      <td>1</td>\n",
       "      <td>1</td>\n",
       "      <td>1</td>\n",
       "      <td>0</td>\n",
       "      <td>0</td>\n",
       "      <td>0</td>\n",
       "      <td>0</td>\n",
       "      <td>1</td>\n",
       "      <td>0</td>\n",
       "      <td>0</td>\n",
       "      <td>0</td>\n",
       "      <td>0</td>\n",
       "      <td>0</td>\n",
       "      <td>0</td>\n",
       "      <td>0</td>\n",
       "      <td>0</td>\n",
       "      <td>0</td>\n",
       "      <td>0</td>\n",
       "      <td>0</td>\n",
       "      <td>...</td>\n",
       "      <td>0</td>\n",
       "      <td>0</td>\n",
       "      <td>0</td>\n",
       "      <td>1</td>\n",
       "      <td>1</td>\n",
       "      <td>1</td>\n",
       "      <td>1</td>\n",
       "      <td>1</td>\n",
       "      <td>0</td>\n",
       "      <td>0</td>\n",
       "      <td>0</td>\n",
       "      <td>0</td>\n",
       "      <td>0</td>\n",
       "      <td>0</td>\n",
       "      <td>1</td>\n",
       "      <td>0</td>\n",
       "      <td>1</td>\n",
       "      <td>1</td>\n",
       "      <td>1</td>\n",
       "      <td>0</td>\n",
       "      <td>0</td>\n",
       "      <td>1</td>\n",
       "      <td>0</td>\n",
       "      <td>0</td>\n",
       "      <td>0</td>\n",
       "      <td>0</td>\n",
       "      <td>0</td>\n",
       "      <td>0</td>\n",
       "      <td>1</td>\n",
       "      <td>0</td>\n",
       "      <td>1</td>\n",
       "      <td>0</td>\n",
       "      <td>0</td>\n",
       "      <td>0</td>\n",
       "      <td>1</td>\n",
       "      <td>1</td>\n",
       "      <td>1</td>\n",
       "      <td>1</td>\n",
       "      <td>1</td>\n",
       "      <td>1</td>\n",
       "    </tr>\n",
       "  </tbody>\n",
       "</table>\n",
       "<p>6 rows × 133 columns</p>\n",
       "</div>"
      ],
      "text/plain": [
       "            sentiment  respect  insult  ...  locationlongitude  identity  hypothesis\n",
       "comment_id                              ...                                         \n",
       "20007               1        1       1  ...                  1         1           1\n",
       "20019               1        1       1  ...                  1         1           1\n",
       "20029               1        1       1  ...                  1         1           1\n",
       "20034               1        1       1  ...                  1         1           1\n",
       "20055               1        1       1  ...                  1         1           1\n",
       "20059               1        1       1  ...                  1         1           1\n",
       "\n",
       "[6 rows x 133 columns]"
      ]
     },
     "execution_count": 35,
     "metadata": {
      "tags": []
     },
     "output_type": "execute_result"
    }
   ],
   "source": [
    "df_index.loc[1]"
   ]
  },
  {
   "cell_type": "code",
   "execution_count": 49,
   "metadata": {
    "colab": {
     "base_uri": "https://localhost:8080/"
    },
    "id": "6pCMnu7sl6Nz",
    "outputId": "1f854bd9-aed6-45b4-9a9c-37aa612ca70c"
   },
   "outputs": [],
   "source": [
    "# #empty list\n",
    "# label_comment_id_list = []\n",
    "\n",
    "# #looping through the index and appending to list\n",
    "# for i in df_index.index:\n",
    "#   #print(i) #they are in tuple pairs: labeler_id, comment_id\n",
    "#   label_comment_id_list.append(i) #this is now a list of tuples\n",
    "\n",
    "# print(label_comment_id_list)\n",
    "#   #print(df_index.loc[i])"
   ]
  },
  {
   "cell_type": "code",
   "execution_count": null,
   "metadata": {
    "id": "iMRBSf8Kt5dQ"
   },
   "outputs": [],
   "source": [
    "#so in the prevoius one we have a dictionary for only one key and one value\n",
    "\n",
    "# we want one key value pair with a list of values"
   ]
  },
  {
   "cell_type": "code",
   "execution_count": 48,
   "metadata": {
    "colab": {
     "base_uri": "https://localhost:8080/"
    },
    "id": "eWQ486s3uvnb",
    "outputId": "7910e116-cc01-442c-c982-cbc33bf35745"
   },
   "outputs": [],
   "source": [
    "# from collections import defaultdict\n",
    "# dictionary_tuples = defaultdict(list)\n",
    "\n",
    "\n",
    "# for i, j in label_comment_id_list:\n",
    "#   dictionary_tuples[i].append(j)\n",
    "\n",
    "# print(dictionary_tuples)"
   ]
  },
  {
   "cell_type": "code",
   "execution_count": null,
   "metadata": {
    "id": "OgYXE1nIv9o8"
   },
   "outputs": [],
   "source": [
    "#now i have to see if there are any labelers who are assigned to the same comment more than once\n",
    "\n",
    "#for any key-values in the dictionary are there repeats of the values\n",
    "\n",
    "#this approach takes forever\n",
    "\n",
    "# desired_keys = []\n",
    "\n",
    "# vals = list(dictionary_tuples.values())\n",
    "\n",
    "# for key, value in dictionary_tuples.items():\n",
    "#   for grouping in vals:\n",
    "#     if vals.count(value) > 1:\n",
    "#       desired_keys.append(key)\n",
    "\n",
    "# print(desired_keys)"
   ]
  },
  {
   "cell_type": "code",
   "execution_count": 47,
   "metadata": {
    "colab": {
     "base_uri": "https://localhost:8080/"
    },
    "id": "pb_GLbm84Zg6",
    "outputId": "96cba4c8-393a-4cf3-8209-8988cb514c99"
   },
   "outputs": [],
   "source": [
    "\n",
    "# vals = list(dictionary_tuples.values())\n",
    "# print(vals)"
   ]
  },
  {
   "cell_type": "code",
   "execution_count": null,
   "metadata": {
    "id": "X8GsBP5aykkn"
   },
   "outputs": [],
   "source": [
    "#trying list comprehension to see if this makes it faster -- it does not\n",
    "\n",
    "# [[key for grouping in vals if vals.count(value) > 1] for key, value in dictionary_tuples.items()]"
   ]
  },
  {
   "cell_type": "code",
   "execution_count": null,
   "metadata": {
    "id": "7kNMR0Irz92r"
   },
   "outputs": [],
   "source": [
    "# flipped = {}\n",
    "\n",
    "# for key, value in dictionary_tuples.items():\n",
    "#   if value not in flipped:\n",
    "#     flipped[value] = [key]\n",
    "#   else:\n",
    "#     flipped[value].append[key]"
   ]
  },
  {
   "cell_type": "code",
   "execution_count": 46,
   "metadata": {
    "colab": {
     "base_uri": "https://localhost:8080/"
    },
    "id": "gKSJ1yTj3zTU",
    "outputId": "3ab39500-31b1-4182-f6c8-db7f7f636a97"
   },
   "outputs": [],
   "source": [
    "# dictionary_tuples.items()"
   ]
  },
  {
   "cell_type": "code",
   "execution_count": null,
   "metadata": {
    "id": "LnvzzR412C1P"
   },
   "outputs": [],
   "source": [
    "values_list = []\n",
    "for key, value in dictionary_tuples.items():\n",
    "  values_list.append(value)\n",
    "#print(values_list)"
   ]
  },
  {
   "cell_type": "code",
   "execution_count": null,
   "metadata": {
    "id": "E-9kkux05rIY"
   },
   "outputs": [],
   "source": [
    "#print(values_list)"
   ]
  },
  {
   "cell_type": "code",
   "execution_count": null,
   "metadata": {
    "id": "re2I9zja3VA0"
   },
   "outputs": [],
   "source": [
    "values_list\n",
    "\n",
    "for mini_list in values_list:\n",
    "  for item in mini_list:\n",
    "    if mini_list.count(item) > 1:\n",
    "       print(item)\n",
    "    # else:\n",
    "    #   print('no duplicates')\n",
    "\n",
    "#this means that there are no labelers who saw the same comment"
   ]
  },
  {
   "cell_type": "code",
   "execution_count": null,
   "metadata": {
    "id": "Nwe2i9rX6WxZ"
   },
   "outputs": [],
   "source": [
    "#now thatw we know that there are no duplicates, we can visualize the barplot of races for comments\n",
    "\n",
    "\n",
    "#we don't want to plot the distribution of races for *all* comments that showed up more than 30 times\n",
    "#so let's just look at the top 5 to start with \n",
    "\n",
    "# Comment number of labelers\n",
    "# 20011    815\n",
    "# 20002    801\n",
    "# 20001    799\n",
    "# 20007    796\n",
    "# 20014    793"
   ]
  },
  {
   "cell_type": "markdown",
   "metadata": {
    "id": "xTt4PegW8G3P"
   },
   "source": [
    " **data_multi_comment30**: this is a dataframe that includes comment ids whose value counts are greater than 30\n",
    "\n",
    "**data_multi_labeler2**: this is a dataframe for comment ids whose values counts are greater than 30 AND whose labeler ID value counts are greater than 2\n",
    "\n",
    "\n"
   ]
  },
  {
   "cell_type": "code",
   "execution_count": null,
   "metadata": {
    "colab": {
     "base_uri": "https://localhost:8080/"
    },
    "id": "iJz8b8XK88v2",
    "outputId": "74d5a635-f2f6-458d-8544-9bb4cf1eba86"
   },
   "outputs": [
    {
     "data": {
      "text/plain": [
       "array(['sentiment', 'respect', 'insult', 'humiliate', 'status',\n",
       "       'dehumanize', 'violence_phys', 'genocide', 'attack_defend',\n",
       "       'hatespeech', 'comment_id', 'platform', 'uid', 'predict_text',\n",
       "       'measure', 'std_err', 'num_ratings', 'weight', 'has_targets',\n",
       "       'target_identity_count', 'labeler_id', 'rater_measure',\n",
       "       'rater_infitms', 'rater_outfitms', 'infitms', 'outfitms',\n",
       "       'target_identities_1', 'target_identities_2',\n",
       "       'target_identities_3', 'target_identities_4',\n",
       "       'target_identities_5', 'target_identities_6',\n",
       "       'target_identities_7', 'target_identities_9', 'target_race_1',\n",
       "       'target_race_2', 'target_race_3', 'target_race_8', 'target_race_4',\n",
       "       'target_race_5', 'target_race_6', 'target_race_7',\n",
       "       'target_race_7_text', 'target_religion_1', 'target_religion_2',\n",
       "       'target_religion_4', 'target_religion_5', 'target_religion_8',\n",
       "       'target_religion_9', 'target_religion_10', 'target_religion_6',\n",
       "       'target_religion_6_text', 'target_citizen_5', 'target_citizen_1',\n",
       "       'target_citizen_2', 'target_citizen_3', 'target_citizen_4',\n",
       "       'target_citizen_4_text', 'target_gender_1', 'target_gender_3',\n",
       "       'target_gender_2', 'target_gender_5', 'target_gender_6',\n",
       "       'target_gender_7', 'target_gender_4', 'target_gender_4_text',\n",
       "       'target_sexuality_1', 'target_sexuality_2', 'target_sexuality_6',\n",
       "       'target_sexuality_3', 'target_sexuality_5',\n",
       "       'target_sexuality_5_text', 'target_age_1', 'target_age_2',\n",
       "       'target_age_3', 'target_age_4', 'target_age_5', 'target_age_6',\n",
       "       'target_age_6_text', 'target_disability_1', 'target_disability_2',\n",
       "       'target_disability_3', 'target_disability_4',\n",
       "       'target_disability_5', 'target_disability_9',\n",
       "       'target_disability_6', 'target_disability_6_text',\n",
       "       'target_political_1', 'target_political_2', 'target_political_3',\n",
       "       'target_political_4', 'target_political_5', 'target_political_6',\n",
       "       'target_political_7', 'target_political_8', 'target_political_9',\n",
       "       'target_political_10', 'target_political_11',\n",
       "       'target_political_11_text', 'demo_gender', 'demo_gender_4_text',\n",
       "       'demo_trans', 'demo_educ', 'demo_race_ethnicitie_1',\n",
       "       'demo_race_ethnicitie_2', 'demo_race_ethnicitie_3',\n",
       "       'demo_race_ethnicitie_4', 'demo_race_ethnicitie_5',\n",
       "       'demo_race_ethnicitie_8', 'demo_race_ethnicitie_6',\n",
       "       'demo_race_ethnicitie_7', 'demo_race_ethnicitie_7_text',\n",
       "       'demo_age', 'demo_income', 'demo_religion_1', 'demo_religion_2',\n",
       "       'demo_religion_11', 'demo_religion_4', 'demo_religion_5',\n",
       "       'demo_religion_7', 'demo_religion_8', 'demo_religion_9',\n",
       "       'demo_religion_10', 'demo_religion_10_text', 'demo_sexual_orien_1',\n",
       "       'demo_sexual_orien_2', 'demo_sexual_orien_3',\n",
       "       'demo_sexual_orien_4', 'demo_sexual_orien_5',\n",
       "       'demo_sexual_orien_4_text', 'demo_ideology', 'locationlatitude',\n",
       "       'locationlongitude', 'identity', 'hypothesis'], dtype=object)"
      ]
     },
     "execution_count": 48,
     "metadata": {
      "tags": []
     },
     "output_type": "execute_result"
    }
   ],
   "source": [
    "data_multi_labeler2.columns.values"
   ]
  },
  {
   "cell_type": "code",
   "execution_count": null,
   "metadata": {
    "colab": {
     "base_uri": "https://localhost:8080/"
    },
    "id": "9SJrxq-NFxLV",
    "outputId": "c40f5d6d-508c-49ec-f40d-9e65109913a2"
   },
   "outputs": [
    {
     "data": {
      "text/plain": [
       "20007    297\n",
       "20034    297\n",
       "20021    293\n",
       "20012    291\n",
       "20020    288\n",
       "        ... \n",
       "20050    122\n",
       "20032    121\n",
       "20026    121\n",
       "20042    104\n",
       "20036    103\n",
       "Name: comment_id, Length: 70, dtype: int64"
      ]
     },
     "execution_count": 49,
     "metadata": {
      "tags": []
     },
     "output_type": "execute_result"
    }
   ],
   "source": [
    "data_multi_labeler2['comment_id'].value_counts()"
   ]
  },
  {
   "cell_type": "code",
   "execution_count": 24,
   "metadata": {
    "id": "M2DlJeqO6Ywf"
   },
   "outputs": [],
   "source": [
    "df_race_distribution = data_multi_labeler2[['comment_id', 'labeler_id', 'demo_race_ethnicitie_1',\n",
    "       'demo_race_ethnicitie_2', 'demo_race_ethnicitie_3',\n",
    "       'demo_race_ethnicitie_4', 'demo_race_ethnicitie_5',\n",
    "       'demo_race_ethnicitie_8', 'demo_race_ethnicitie_6', 'demo_race_ethnicitie_7', 'demo_race_ethnicitie_7_text',\n",
    "       'target_race_1',\n",
    "       'target_race_2', 'target_race_3', 'target_race_8', 'target_race_4',\n",
    "       'target_race_5', 'target_race_6', 'target_race_7', 'target_race_7_text']]\n",
    "\n",
    "      "
   ]
  },
  {
   "cell_type": "code",
   "execution_count": null,
   "metadata": {
    "colab": {
     "base_uri": "https://localhost:8080/",
     "height": 224
    },
    "id": "BULaBPVa6YzF",
    "outputId": "8292498a-6903-4abb-ed6e-bb5d8d6d6d95"
   },
   "outputs": [
    {
     "data": {
      "text/html": [
       "<div>\n",
       "<style scoped>\n",
       "    .dataframe tbody tr th:only-of-type {\n",
       "        vertical-align: middle;\n",
       "    }\n",
       "\n",
       "    .dataframe tbody tr th {\n",
       "        vertical-align: top;\n",
       "    }\n",
       "\n",
       "    .dataframe thead th {\n",
       "        text-align: right;\n",
       "    }\n",
       "</style>\n",
       "<table border=\"1\" class=\"dataframe\">\n",
       "  <thead>\n",
       "    <tr style=\"text-align: right;\">\n",
       "      <th></th>\n",
       "      <th>comment_id</th>\n",
       "      <th>labeler_id</th>\n",
       "      <th>demo_race_ethnicitie_1</th>\n",
       "      <th>demo_race_ethnicitie_2</th>\n",
       "      <th>demo_race_ethnicitie_3</th>\n",
       "      <th>demo_race_ethnicitie_4</th>\n",
       "      <th>demo_race_ethnicitie_5</th>\n",
       "      <th>demo_race_ethnicitie_8</th>\n",
       "      <th>demo_race_ethnicitie_6</th>\n",
       "      <th>demo_race_ethnicitie_7</th>\n",
       "      <th>demo_race_ethnicitie_7_text</th>\n",
       "      <th>target_race_1</th>\n",
       "      <th>target_race_2</th>\n",
       "      <th>target_race_3</th>\n",
       "      <th>target_race_8</th>\n",
       "      <th>target_race_4</th>\n",
       "      <th>target_race_5</th>\n",
       "      <th>target_race_6</th>\n",
       "      <th>target_race_7</th>\n",
       "      <th>target_race_7_text</th>\n",
       "    </tr>\n",
       "  </thead>\n",
       "  <tbody>\n",
       "    <tr>\n",
       "      <th>92316</th>\n",
       "      <td>20047</td>\n",
       "      <td>4727</td>\n",
       "      <td>NaN</td>\n",
       "      <td>NaN</td>\n",
       "      <td>NaN</td>\n",
       "      <td>NaN</td>\n",
       "      <td>NaN</td>\n",
       "      <td>NaN</td>\n",
       "      <td>1.0</td>\n",
       "      <td>NaN</td>\n",
       "      <td></td>\n",
       "      <td>NaN</td>\n",
       "      <td>NaN</td>\n",
       "      <td>NaN</td>\n",
       "      <td>NaN</td>\n",
       "      <td>NaN</td>\n",
       "      <td>NaN</td>\n",
       "      <td>NaN</td>\n",
       "      <td>1.0</td>\n",
       "      <td>Ethnic Jew</td>\n",
       "    </tr>\n",
       "    <tr>\n",
       "      <th>92317</th>\n",
       "      <td>20045</td>\n",
       "      <td>10873</td>\n",
       "      <td>NaN</td>\n",
       "      <td>NaN</td>\n",
       "      <td>NaN</td>\n",
       "      <td>NaN</td>\n",
       "      <td>NaN</td>\n",
       "      <td>NaN</td>\n",
       "      <td>1.0</td>\n",
       "      <td>NaN</td>\n",
       "      <td></td>\n",
       "      <td>1.0</td>\n",
       "      <td>NaN</td>\n",
       "      <td>NaN</td>\n",
       "      <td>NaN</td>\n",
       "      <td>NaN</td>\n",
       "      <td>NaN</td>\n",
       "      <td>NaN</td>\n",
       "      <td>1.0</td>\n",
       "      <td>Israel</td>\n",
       "    </tr>\n",
       "    <tr>\n",
       "      <th>92319</th>\n",
       "      <td>20068</td>\n",
       "      <td>2790</td>\n",
       "      <td>NaN</td>\n",
       "      <td>NaN</td>\n",
       "      <td>NaN</td>\n",
       "      <td>NaN</td>\n",
       "      <td>NaN</td>\n",
       "      <td>NaN</td>\n",
       "      <td>1.0</td>\n",
       "      <td>NaN</td>\n",
       "      <td></td>\n",
       "      <td>NaN</td>\n",
       "      <td>NaN</td>\n",
       "      <td>NaN</td>\n",
       "      <td>1.0</td>\n",
       "      <td>NaN</td>\n",
       "      <td>NaN</td>\n",
       "      <td>NaN</td>\n",
       "      <td>NaN</td>\n",
       "      <td></td>\n",
       "    </tr>\n",
       "    <tr>\n",
       "      <th>92320</th>\n",
       "      <td>20002</td>\n",
       "      <td>3379</td>\n",
       "      <td>NaN</td>\n",
       "      <td>NaN</td>\n",
       "      <td>NaN</td>\n",
       "      <td>NaN</td>\n",
       "      <td>NaN</td>\n",
       "      <td>NaN</td>\n",
       "      <td>1.0</td>\n",
       "      <td>NaN</td>\n",
       "      <td></td>\n",
       "      <td>1.0</td>\n",
       "      <td>NaN</td>\n",
       "      <td>NaN</td>\n",
       "      <td>NaN</td>\n",
       "      <td>NaN</td>\n",
       "      <td>NaN</td>\n",
       "      <td>NaN</td>\n",
       "      <td>NaN</td>\n",
       "      <td></td>\n",
       "    </tr>\n",
       "    <tr>\n",
       "      <th>92321</th>\n",
       "      <td>20023</td>\n",
       "      <td>1834</td>\n",
       "      <td>NaN</td>\n",
       "      <td>1.0</td>\n",
       "      <td>NaN</td>\n",
       "      <td>NaN</td>\n",
       "      <td>NaN</td>\n",
       "      <td>NaN</td>\n",
       "      <td>NaN</td>\n",
       "      <td>NaN</td>\n",
       "      <td></td>\n",
       "      <td>NaN</td>\n",
       "      <td>NaN</td>\n",
       "      <td>1.0</td>\n",
       "      <td>NaN</td>\n",
       "      <td>NaN</td>\n",
       "      <td>NaN</td>\n",
       "      <td>NaN</td>\n",
       "      <td>NaN</td>\n",
       "      <td></td>\n",
       "    </tr>\n",
       "  </tbody>\n",
       "</table>\n",
       "</div>"
      ],
      "text/plain": [
       "       comment_id  labeler_id  ...  target_race_7  target_race_7_text\n",
       "92316       20047        4727  ...            1.0          Ethnic Jew\n",
       "92317       20045       10873  ...            1.0              Israel\n",
       "92319       20068        2790  ...            NaN                    \n",
       "92320       20002        3379  ...            NaN                    \n",
       "92321       20023        1834  ...            NaN                    \n",
       "\n",
       "[5 rows x 20 columns]"
      ]
     },
     "execution_count": 51,
     "metadata": {
      "tags": []
     },
     "output_type": "execute_result"
    }
   ],
   "source": [
    "df_race_distribution.head(5)"
   ]
  },
  {
   "cell_type": "code",
   "execution_count": null,
   "metadata": {
    "colab": {
     "base_uri": "https://localhost:8080/"
    },
    "id": "Rq2j3XSVDk2I",
    "outputId": "db0e9ff7-2664-41b8-e0d7-987c840f3866"
   },
   "outputs": [
    {
     "data": {
      "text/plain": [
       "{'comment_id': 0,\n",
       " 'demo_race_ethnicitie_1': 2,\n",
       " 'demo_race_ethnicitie_2': 3,\n",
       " 'demo_race_ethnicitie_3': 4,\n",
       " 'demo_race_ethnicitie_4': 5,\n",
       " 'demo_race_ethnicitie_5': 6,\n",
       " 'demo_race_ethnicitie_6': 8,\n",
       " 'demo_race_ethnicitie_7': 9,\n",
       " 'demo_race_ethnicitie_7_text': 10,\n",
       " 'demo_race_ethnicitie_8': 7,\n",
       " 'labeler_id': 1,\n",
       " 'target_race_1': 11,\n",
       " 'target_race_2': 12,\n",
       " 'target_race_3': 13,\n",
       " 'target_race_4': 15,\n",
       " 'target_race_5': 16,\n",
       " 'target_race_6': 17,\n",
       " 'target_race_7': 18,\n",
       " 'target_race_7_text': 19,\n",
       " 'target_race_8': 14}"
      ]
     },
     "execution_count": 52,
     "metadata": {
      "tags": []
     },
     "output_type": "execute_result"
    }
   ],
   "source": [
    "#this is dictionary comprehension with the column names as keys and the index as values\n",
    "{c: i for i, c in enumerate(df_race_distribution.columns)}"
   ]
  },
  {
   "cell_type": "code",
   "execution_count": null,
   "metadata": {
    "colab": {
     "base_uri": "https://localhost:8080/"
    },
    "id": "BoxeVXOq-W2B",
    "outputId": "99ab06b6-5ebb-427e-dbe0-894f936020ae"
   },
   "outputs": [
    {
     "name": "stdout",
     "output_type": "stream",
     "text": [
      "comment_id 0\n",
      "labeler_id 0\n",
      "demo_race_ethnicitie_1 15187\n",
      "demo_race_ethnicitie_2 14535\n",
      "demo_race_ethnicitie_3 13850\n",
      "demo_race_ethnicitie_4 14494\n",
      "demo_race_ethnicitie_5 15424\n",
      "demo_race_ethnicitie_8 15411\n",
      "demo_race_ethnicitie_6 3010\n",
      "demo_race_ethnicitie_7 15364\n",
      "demo_race_ethnicitie_7_text 0\n",
      "target_race_1 11614\n",
      "target_race_2 13942\n",
      "target_race_3 14180\n",
      "target_race_8 14023\n",
      "target_race_4 15026\n",
      "target_race_5 15092\n",
      "target_race_6 14607\n",
      "target_race_7 14880\n",
      "target_race_7_text 0\n"
     ]
    }
   ],
   "source": [
    "#this gives the column name and the number of NANs in that column\n",
    "for column in df_race_distribution:\n",
    "  value = df_race_distribution[column].isna().sum()\n",
    "  print(column, value)\n",
    "\n",
    "\n",
    "\n",
    "\n"
   ]
  },
  {
   "cell_type": "code",
   "execution_count": null,
   "metadata": {
    "id": "lis97Ipfu-2G"
   },
   "outputs": [],
   "source": [
    "#for all of the labelers how many opted out?\n",
    "\n",
    "#of the rows how many have NA for all of these ethnicities \n",
    "\n",
    "#losing ~600 raters may be a lot "
   ]
  },
  {
   "cell_type": "code",
   "execution_count": null,
   "metadata": {
    "colab": {
     "base_uri": "https://localhost:8080/"
    },
    "id": "Q7cqoHK4EeAT",
    "outputId": "8eab060c-11e4-4586-c692-bf25e9269722"
   },
   "outputs": [
    {
     "data": {
      "text/plain": [
       "NaN    15187\n",
       "1.0      300\n",
       "Name: demo_race_ethnicitie_1, dtype: int64"
      ]
     },
     "execution_count": 55,
     "metadata": {
      "tags": []
     },
     "output_type": "execute_result"
    }
   ],
   "source": [
    "#sanity check using value counts - yes it works\n",
    "\n",
    "df_race_distribution['demo_race_ethnicitie_1'].value_counts(dropna=False)"
   ]
  },
  {
   "cell_type": "code",
   "execution_count": null,
   "metadata": {
    "colab": {
     "base_uri": "https://localhost:8080/"
    },
    "id": "QkziB2gD_BgX",
    "outputId": "bf498a0d-802d-4e95-b601-746b500252ad"
   },
   "outputs": [
    {
     "data": {
      "text/plain": [
       "220639"
      ]
     },
     "execution_count": 56,
     "metadata": {
      "tags": []
     },
     "output_type": "execute_result"
    }
   ],
   "source": [
    "df_race_distribution.isna().sum().sum()"
   ]
  },
  {
   "cell_type": "code",
   "execution_count": 25,
   "metadata": {
    "colab": {
     "base_uri": "https://localhost:8080/"
    },
    "id": "ti_ubNzt-7hm",
    "outputId": "345e3a8b-22bf-4eb5-dd39-93f63cc9d3a8"
   },
   "outputs": [
    {
     "name": "stderr",
     "output_type": "stream",
     "text": [
      "/home/rbarreto/miniconda3/envs/hatespeech/lib/python3.9/site-packages/pandas/core/frame.py:4462: SettingWithCopyWarning: \n",
      "A value is trying to be set on a copy of a slice from a DataFrame\n",
      "\n",
      "See the caveats in the documentation: https://pandas.pydata.org/pandas-docs/stable/user_guide/indexing.html#returning-a-view-versus-a-copy\n",
      "  return super().fillna(\n"
     ]
    }
   ],
   "source": [
    "#need to drop the NANs for all df\n",
    "\n",
    "df_race_distribution.fillna('NA', inplace=True)\n"
   ]
  },
  {
   "cell_type": "code",
   "execution_count": 26,
   "metadata": {
    "colab": {
     "base_uri": "https://localhost:8080/",
     "height": 224
    },
    "id": "Mw_SJwr86Y_8",
    "outputId": "f35c2244-7834-498c-be47-a3754a1e9bc9"
   },
   "outputs": [
    {
     "data": {
      "text/html": [
       "<div>\n",
       "<style scoped>\n",
       "    .dataframe tbody tr th:only-of-type {\n",
       "        vertical-align: middle;\n",
       "    }\n",
       "\n",
       "    .dataframe tbody tr th {\n",
       "        vertical-align: top;\n",
       "    }\n",
       "\n",
       "    .dataframe thead th {\n",
       "        text-align: right;\n",
       "    }\n",
       "</style>\n",
       "<table border=\"1\" class=\"dataframe\">\n",
       "  <thead>\n",
       "    <tr style=\"text-align: right;\">\n",
       "      <th></th>\n",
       "      <th>comment_id</th>\n",
       "      <th>labeler_id</th>\n",
       "      <th>demo_race_ethnicitie_1</th>\n",
       "      <th>demo_race_ethnicitie_2</th>\n",
       "      <th>demo_race_ethnicitie_3</th>\n",
       "      <th>demo_race_ethnicitie_4</th>\n",
       "      <th>demo_race_ethnicitie_5</th>\n",
       "      <th>demo_race_ethnicitie_8</th>\n",
       "      <th>demo_race_ethnicitie_6</th>\n",
       "      <th>demo_race_ethnicitie_7</th>\n",
       "      <th>demo_race_ethnicitie_7_text</th>\n",
       "      <th>target_race_1</th>\n",
       "      <th>target_race_2</th>\n",
       "      <th>target_race_3</th>\n",
       "      <th>target_race_8</th>\n",
       "      <th>target_race_4</th>\n",
       "      <th>target_race_5</th>\n",
       "      <th>target_race_6</th>\n",
       "      <th>target_race_7</th>\n",
       "      <th>target_race_7_text</th>\n",
       "    </tr>\n",
       "  </thead>\n",
       "  <tbody>\n",
       "    <tr>\n",
       "      <th>92316</th>\n",
       "      <td>20047</td>\n",
       "      <td>4727</td>\n",
       "      <td>NA</td>\n",
       "      <td>NA</td>\n",
       "      <td>NA</td>\n",
       "      <td>NA</td>\n",
       "      <td>NA</td>\n",
       "      <td>NA</td>\n",
       "      <td>1.0</td>\n",
       "      <td>NA</td>\n",
       "      <td></td>\n",
       "      <td>NA</td>\n",
       "      <td>NA</td>\n",
       "      <td>NA</td>\n",
       "      <td>NA</td>\n",
       "      <td>NA</td>\n",
       "      <td>NA</td>\n",
       "      <td>NA</td>\n",
       "      <td>1.0</td>\n",
       "      <td>Ethnic Jew</td>\n",
       "    </tr>\n",
       "    <tr>\n",
       "      <th>92317</th>\n",
       "      <td>20045</td>\n",
       "      <td>10873</td>\n",
       "      <td>NA</td>\n",
       "      <td>NA</td>\n",
       "      <td>NA</td>\n",
       "      <td>NA</td>\n",
       "      <td>NA</td>\n",
       "      <td>NA</td>\n",
       "      <td>1.0</td>\n",
       "      <td>NA</td>\n",
       "      <td></td>\n",
       "      <td>1.0</td>\n",
       "      <td>NA</td>\n",
       "      <td>NA</td>\n",
       "      <td>NA</td>\n",
       "      <td>NA</td>\n",
       "      <td>NA</td>\n",
       "      <td>NA</td>\n",
       "      <td>1.0</td>\n",
       "      <td>Israel</td>\n",
       "    </tr>\n",
       "    <tr>\n",
       "      <th>92319</th>\n",
       "      <td>20068</td>\n",
       "      <td>2790</td>\n",
       "      <td>NA</td>\n",
       "      <td>NA</td>\n",
       "      <td>NA</td>\n",
       "      <td>NA</td>\n",
       "      <td>NA</td>\n",
       "      <td>NA</td>\n",
       "      <td>1.0</td>\n",
       "      <td>NA</td>\n",
       "      <td></td>\n",
       "      <td>NA</td>\n",
       "      <td>NA</td>\n",
       "      <td>NA</td>\n",
       "      <td>1.0</td>\n",
       "      <td>NA</td>\n",
       "      <td>NA</td>\n",
       "      <td>NA</td>\n",
       "      <td>NA</td>\n",
       "      <td></td>\n",
       "    </tr>\n",
       "    <tr>\n",
       "      <th>92320</th>\n",
       "      <td>20002</td>\n",
       "      <td>3379</td>\n",
       "      <td>NA</td>\n",
       "      <td>NA</td>\n",
       "      <td>NA</td>\n",
       "      <td>NA</td>\n",
       "      <td>NA</td>\n",
       "      <td>NA</td>\n",
       "      <td>1.0</td>\n",
       "      <td>NA</td>\n",
       "      <td></td>\n",
       "      <td>1.0</td>\n",
       "      <td>NA</td>\n",
       "      <td>NA</td>\n",
       "      <td>NA</td>\n",
       "      <td>NA</td>\n",
       "      <td>NA</td>\n",
       "      <td>NA</td>\n",
       "      <td>NA</td>\n",
       "      <td></td>\n",
       "    </tr>\n",
       "    <tr>\n",
       "      <th>92321</th>\n",
       "      <td>20023</td>\n",
       "      <td>1834</td>\n",
       "      <td>NA</td>\n",
       "      <td>1.0</td>\n",
       "      <td>NA</td>\n",
       "      <td>NA</td>\n",
       "      <td>NA</td>\n",
       "      <td>NA</td>\n",
       "      <td>NA</td>\n",
       "      <td>NA</td>\n",
       "      <td></td>\n",
       "      <td>NA</td>\n",
       "      <td>NA</td>\n",
       "      <td>1.0</td>\n",
       "      <td>NA</td>\n",
       "      <td>NA</td>\n",
       "      <td>NA</td>\n",
       "      <td>NA</td>\n",
       "      <td>NA</td>\n",
       "      <td></td>\n",
       "    </tr>\n",
       "  </tbody>\n",
       "</table>\n",
       "</div>"
      ],
      "text/plain": [
       "       comment_id  labeler_id demo_race_ethnicitie_1 demo_race_ethnicitie_2  \\\n",
       "92316       20047        4727                     NA                     NA   \n",
       "92317       20045       10873                     NA                     NA   \n",
       "92319       20068        2790                     NA                     NA   \n",
       "92320       20002        3379                     NA                     NA   \n",
       "92321       20023        1834                     NA                    1.0   \n",
       "\n",
       "      demo_race_ethnicitie_3 demo_race_ethnicitie_4 demo_race_ethnicitie_5  \\\n",
       "92316                     NA                     NA                     NA   \n",
       "92317                     NA                     NA                     NA   \n",
       "92319                     NA                     NA                     NA   \n",
       "92320                     NA                     NA                     NA   \n",
       "92321                     NA                     NA                     NA   \n",
       "\n",
       "      demo_race_ethnicitie_8 demo_race_ethnicitie_6 demo_race_ethnicitie_7  \\\n",
       "92316                     NA                    1.0                     NA   \n",
       "92317                     NA                    1.0                     NA   \n",
       "92319                     NA                    1.0                     NA   \n",
       "92320                     NA                    1.0                     NA   \n",
       "92321                     NA                     NA                     NA   \n",
       "\n",
       "      demo_race_ethnicitie_7_text target_race_1 target_race_2 target_race_3  \\\n",
       "92316                                        NA            NA            NA   \n",
       "92317                                       1.0            NA            NA   \n",
       "92319                                        NA            NA            NA   \n",
       "92320                                       1.0            NA            NA   \n",
       "92321                                        NA            NA           1.0   \n",
       "\n",
       "      target_race_8 target_race_4 target_race_5 target_race_6 target_race_7  \\\n",
       "92316            NA            NA            NA            NA           1.0   \n",
       "92317            NA            NA            NA            NA           1.0   \n",
       "92319           1.0            NA            NA            NA            NA   \n",
       "92320            NA            NA            NA            NA            NA   \n",
       "92321            NA            NA            NA            NA            NA   \n",
       "\n",
       "      target_race_7_text  \n",
       "92316         Ethnic Jew  \n",
       "92317             Israel  \n",
       "92319                     \n",
       "92320                     \n",
       "92321                     "
      ]
     },
     "execution_count": 26,
     "metadata": {},
     "output_type": "execute_result"
    }
   ],
   "source": [
    "#sanity check to see if the NANs were replaced with declined\n",
    "df_race_distribution.head(5)"
   ]
  },
  {
   "cell_type": "code",
   "execution_count": null,
   "metadata": {
    "colab": {
     "base_uri": "https://localhost:8080/"
    },
    "id": "Us2RpXB16ZRX",
    "outputId": "5bc6b20f-389a-4ff2-d9be-5081f4d585a2"
   },
   "outputs": [
    {
     "data": {
      "text/plain": [
       "20007    297\n",
       "20034    297\n",
       "20021    293\n",
       "20012    291\n",
       "20020    288\n",
       "        ... \n",
       "20050    122\n",
       "20032    121\n",
       "20026    121\n",
       "20042    104\n",
       "20036    103\n",
       "Name: comment_id, Length: 70, dtype: int64"
      ]
     },
     "execution_count": 59,
     "metadata": {
      "tags": []
     },
     "output_type": "execute_result"
    }
   ],
   "source": [
    "#these were the top 6 comments with labelers for the dataframe that had valuecounts for comments >30\n",
    "\n",
    "# Comment number of labelers\n",
    "# 20011    815\n",
    "# 20002    801\n",
    "# 20001    799\n",
    "# 20007    796\n",
    "# 20014    793\n",
    "\n",
    "#BUT for the dataframe that has valuecounts for commetns >30 and labelers >2, these are the top comments\n",
    "\n",
    "# Comment number of labelers\n",
    "# 20007    297\n",
    "# 20034    297\n",
    "# 20021    293\n",
    "# 20012    291\n",
    "# 20020    288\n",
    "\n",
    "#now let's double check to see how many comments have many labelers\n",
    "\n",
    "df_race_distribution['comment_id'].value_counts() #we can work with this"
   ]
  },
  {
   "cell_type": "code",
   "execution_count": 27,
   "metadata": {
    "colab": {
     "base_uri": "https://localhost:8080/"
    },
    "id": "iMNvNQ5hNKWn",
    "outputId": "d71e2860-00f2-4acd-ca77-e6f4b47451da"
   },
   "outputs": [
    {
     "name": "stderr",
     "output_type": "stream",
     "text": [
      "/home/rbarreto/miniconda3/envs/hatespeech/lib/python3.9/site-packages/pandas/core/frame.py:4441: SettingWithCopyWarning: \n",
      "A value is trying to be set on a copy of a slice from a DataFrame\n",
      "\n",
      "See the caveats in the documentation: https://pandas.pydata.org/pandas-docs/stable/user_guide/indexing.html#returning-a-view-versus-a-copy\n",
      "  return super().rename(\n"
     ]
    }
   ],
   "source": [
    "#rename the columns\n",
    "df_race_distribution.rename(columns={'demo_race_ethnicitie_1': 'demo_american_indian_alaska_native',\n",
    "                                       'demo_race_ethnicitie_2': 'demo_asian',\n",
    "                                       'demo_race_ethnicitie_3': 'demo_black',\n",
    "                                       'demo_race_ethnicitie_4': 'demo_latino',\n",
    "                                       'demo_race_ethnicitie_5': 'demo_native_hawaiian_pacific_islander',\n",
    "                                       'demo_race_ethnicitie_6': 'demo_white',\n",
    "                                       'demo_race_ethnicitie_7': 'demo_other_race',\n",
    "                                       'demo_race_ethnicitie_7_text': 'demo_other_race_text',\n",
    "                                       'demo_race_ethnicitie_8': 'demo_middle_eastern',\n",
    "                                       'target_race_1': 'target_black',\n",
    "                                       'target_race_2': 'target_latino',\n",
    "                                       'target_race_3': 'target_asian',\n",
    "                                       'target_race_4': 'target_native american',\n",
    "                                       'target_race_5': 'target_pacific islander',\n",
    "                                       'target_race_6': 'target_white',\n",
    "                                       'target_race_7': 'target_other_race',\n",
    "                                       'target_race_7_text': 'target_other_race_text'}, inplace=True)\n",
    "           \n",
    "\n",
    "    #      'target_race_1': 'black',\n",
    "                                #  'target_race_2': 'latinx',\n",
    "                                #  'target_race_3': 'asian',\n",
    "                                #  'target_race_8': 'middle_eastern',\n",
    "                                #  'target_race_4': 'native_american',\n",
    "                                #  'target_race_5': 'pacific_islander',\n",
    "                                #  'target_race_6': 'white',\n",
    "                                #  'target_race_7': 'other_race',\n",
    "                                #  'target_race_7_text': 'other_race_text',\n",
    "\n",
    "\n",
    "       #'demo_race_ethnicie_1': 'american indian alaska native',\n",
    "                                  #'demo_race_ethnicitie_2': 'asian',\n",
    "                                  #'demo_race_ethnicitie_3': 'alack',\n",
    "                                  #'demo_race_ethnicitie_4': 'latino',\n",
    "                                  #'demo_race_ethnicitie_5': 'native hawaiian pacific islander',\n",
    "                                  #'demo_race_ethnicitie_8': 'middle eastern',\n",
    "                                  #'demo_race_ethnicitie_6': 'white',\n",
    "                                  #'demo_race_ethnicitie_7': 'other race',\n",
    "\n",
    "\n",
    "                            "
   ]
  },
  {
   "cell_type": "code",
   "execution_count": null,
   "metadata": {
    "id": "acBPWjFsdt_L"
   },
   "outputs": [],
   "source": []
  },
  {
   "cell_type": "code",
   "execution_count": null,
   "metadata": {
    "id": "pJNbp5j1gxS_"
   },
   "outputs": [],
   "source": [
    "#np.nam.sum"
   ]
  },
  {
   "cell_type": "code",
   "execution_count": 28,
   "metadata": {
    "id": "6PwTvCjqXOcw"
   },
   "outputs": [],
   "source": [
    "#then create a new column that's just an aggregate of the other column\n",
    "\n",
    "def label_race(row):\n",
    "    if row['demo_american_indian_alaska_native'] == 1:\n",
    "        return 'american indian alaska native'\n",
    "\n",
    "    if row['demo_american_indian_alaska_native'] + row['demo_asian'] + row['demo_black'] + row['demo_latino'] + row['demo_native_hawaiian_pacific_islander'] + row['demo_white'] + row['demo_other_race'] + row['demo_middle_eastern'] > 1:\n",
    "        return 'two or more races'\n",
    "\n",
    "    if row['demo_asian'] == 1:\n",
    "        return 'asian'\n",
    "    if row['demo_black'] == 1:\n",
    "        return 'black'\n",
    "    if row['demo_latino'] == 1:\n",
    "        return 'latino'\n",
    "    if row['demo_native_hawaiian_pacific_islander'] == 1:\n",
    "        return 'native hawaiian pacific islander'\n",
    "    if row['demo_white'] == 1:\n",
    "        return 'white'\n",
    "    if row['demo_other_race'] == 1:\n",
    "        return 'other race'\n",
    "    if row['demo_middle_eastern'] == 1:\n",
    "        return 'middle eastern'\n",
    "    return 'unknown'\n",
    "\n",
    "#what's going to happen to the cases that are more than one bc they're not mutually exclusive (races)?\n",
    "#tried to solve this through two or more races option\n"
   ]
  },
  {
   "cell_type": "code",
   "execution_count": 29,
   "metadata": {
    "colab": {
     "base_uri": "https://localhost:8080/"
    },
    "id": "H7IRwNIQbtKi",
    "outputId": "91075241-1602-4130-fa53-123a7ea7770a"
   },
   "outputs": [
    {
     "data": {
      "text/plain": [
       "92316                             white\n",
       "92317                             white\n",
       "92319                             white\n",
       "92320                             white\n",
       "92321                             asian\n",
       "                      ...              \n",
       "135529                            black\n",
       "135531                            white\n",
       "135535                            white\n",
       "135539    american indian alaska native\n",
       "135540                           latino\n",
       "Length: 15487, dtype: object"
      ]
     },
     "execution_count": 29,
     "metadata": {},
     "output_type": "execute_result"
    }
   ],
   "source": [
    "#applying function to df\n",
    "#making the NAs into 0 for the function above to work\n",
    "\n",
    "df_race_distribution.replace('NA', 0).apply(label_race, axis=1) #axis =1 means application is done at row rather than column lelvel\n"
   ]
  },
  {
   "cell_type": "code",
   "execution_count": null,
   "metadata": {
    "id": "3w3ux45ngNFO"
   },
   "outputs": [],
   "source": [
    "# '2'+3.0\n",
    "# this type of error was being given befor ei replaced the NA with 0\n",
    "#TypeError: can only concatenate str (not \"float\") to str"
   ]
  },
  {
   "cell_type": "code",
   "execution_count": 30,
   "metadata": {
    "colab": {
     "base_uri": "https://localhost:8080/"
    },
    "id": "jjhlmPEGb7FC",
    "outputId": "bcd00988-aa68-436e-a6ba-96ac05cabc85"
   },
   "outputs": [
    {
     "name": "stderr",
     "output_type": "stream",
     "text": [
      "<ipython-input-30-f0e3cf8e39bd>:3: SettingWithCopyWarning: \n",
      "A value is trying to be set on a copy of a slice from a DataFrame.\n",
      "Try using .loc[row_indexer,col_indexer] = value instead\n",
      "\n",
      "See the caveats in the documentation: https://pandas.pydata.org/pandas-docs/stable/user_guide/indexing.html#returning-a-view-versus-a-copy\n",
      "  df_race_distribution['race_label'] = df_race_distribution.replace('NA', 0).apply(label_race, axis=1)\n"
     ]
    }
   ],
   "source": [
    "#saving results in new column in orginal df\n",
    "\n",
    "df_race_distribution['race_label'] = df_race_distribution.replace('NA', 0).apply(label_race, axis=1)"
   ]
  },
  {
   "cell_type": "code",
   "execution_count": 31,
   "metadata": {
    "colab": {
     "base_uri": "https://localhost:8080/"
    },
    "id": "zEbKpdeyhwIz",
    "outputId": "b06353b2-f4bd-4fa2-d712-c8ec2f4a34e0"
   },
   "outputs": [
    {
     "data": {
      "text/plain": [
       "white                               11579\n",
       "black                                1341\n",
       "two or more races                     783\n",
       "asian                                 749\n",
       "latino                                613\n",
       "american indian alaska native         300\n",
       "other race                             85\n",
       "native hawaiian pacific islander       17\n",
       "middle eastern                         16\n",
       "unknown                                 4\n",
       "Name: race_label, dtype: int64"
      ]
     },
     "execution_count": 31,
     "metadata": {},
     "output_type": "execute_result"
    }
   ],
   "source": [
    "df_race_distribution['race_label'].value_counts()\n",
    "\n",
    "#need to investigate who are these 4 unknowns?\n",
    "#i made unknown the return if none of the conditions in the function applied so i could've missed something"
   ]
  },
  {
   "cell_type": "code",
   "execution_count": null,
   "metadata": {
    "colab": {
     "base_uri": "https://localhost:8080/"
    },
    "id": "__6ShVvcvosj",
    "outputId": "5df7b230-d477-43bb-a983-610ee0a8abd9"
   },
   "outputs": [
    {
     "data": {
      "text/plain": [
       "(15487, 21)"
      ]
     },
     "execution_count": 67,
     "metadata": {
      "tags": []
     },
     "output_type": "execute_result"
    }
   ],
   "source": [
    "df_race_distribution.shape"
   ]
  },
  {
   "cell_type": "code",
   "execution_count": null,
   "metadata": {
    "colab": {
     "base_uri": "https://localhost:8080/"
    },
    "id": "cepG2ueHv-fV",
    "outputId": "79c319e7-a31f-4980-d95f-653e7ce52578"
   },
   "outputs": [
    {
     "data": {
      "text/plain": [
       "(135556, 135)"
      ]
     },
     "execution_count": 68,
     "metadata": {
      "tags": []
     },
     "output_type": "execute_result"
    }
   ],
   "source": [
    "data_multi.shape"
   ]
  },
  {
   "cell_type": "code",
   "execution_count": 32,
   "metadata": {
    "id": "TeQr-JIV6ZT1"
   },
   "outputs": [],
   "source": [
    "#df of the column 20007\n",
    "df_comment_20007 = df_race_distribution[df_race_distribution['comment_id'] == 20007]"
   ]
  },
  {
   "cell_type": "code",
   "execution_count": null,
   "metadata": {
    "colab": {
     "base_uri": "https://localhost:8080/"
    },
    "id": "kwzwockvQJeY",
    "outputId": "2307b3f6-7b64-44f3-bae2-dc678abcae10"
   },
   "outputs": [
    {
     "data": {
      "text/plain": [
       "NA     291\n",
       "1.0      6\n",
       "Name: demo_american_indian_alaska_native, dtype: int64"
      ]
     },
     "execution_count": 70,
     "metadata": {
      "tags": []
     },
     "output_type": "execute_result"
    }
   ],
   "source": [
    "df_comment_20007['demo_american_indian_alaska_native'].value_counts(dropna=False)"
   ]
  },
  {
   "cell_type": "code",
   "execution_count": null,
   "metadata": {
    "colab": {
     "base_uri": "https://localhost:8080/"
    },
    "id": "rBNzmzl2wRgJ",
    "outputId": "87994719-573e-473c-991e-756fc684fbd7"
   },
   "outputs": [
    {
     "data": {
      "text/plain": [
       "20007    297\n",
       "Name: comment_id, dtype: int64"
      ]
     },
     "execution_count": 71,
     "metadata": {
      "tags": []
     },
     "output_type": "execute_result"
    }
   ],
   "source": [
    "df_comment_20007['comment_id'].value_counts()"
   ]
  },
  {
   "cell_type": "code",
   "execution_count": 36,
   "metadata": {},
   "outputs": [
    {
     "data": {
      "text/plain": [
       "white                               219\n",
       "black                                27\n",
       "latino                               15\n",
       "asian                                15\n",
       "two or more races                    12\n",
       "american indian alaska native         6\n",
       "unknown                               1\n",
       "native hawaiian pacific islander      1\n",
       "other race                            1\n",
       "Name: race_label, dtype: int64"
      ]
     },
     "execution_count": 36,
     "metadata": {},
     "output_type": "execute_result"
    }
   ],
   "source": [
    "df_comment_20007['race_label'].value_counts()"
   ]
  },
  {
   "cell_type": "code",
   "execution_count": 45,
   "metadata": {},
   "outputs": [
    {
     "data": {
      "text/plain": [
       "99928     Every slant in #LosAngeles should be deported....\n",
       "99936     Every slant in #LosAngeles should be deported....\n",
       "99941     Every slant in #LosAngeles should be deported....\n",
       "99947     Every slant in #LosAngeles should be deported....\n",
       "99955     Every slant in #LosAngeles should be deported....\n",
       "                                ...                        \n",
       "107390    Every slant in #LosAngeles should be deported....\n",
       "107408    Every slant in #LosAngeles should be deported....\n",
       "107415    Every slant in #LosAngeles should be deported....\n",
       "107416    Every slant in #LosAngeles should be deported....\n",
       "107433    Every slant in #LosAngeles should be deported....\n",
       "Name: predict_text, Length: 796, dtype: object"
      ]
     },
     "execution_count": 45,
     "metadata": {},
     "output_type": "execute_result"
    }
   ],
   "source": [
    "data_multi[data_multi['comment_id'] == 20007]['predict_text']"
   ]
  },
  {
   "cell_type": "code",
   "execution_count": 42,
   "metadata": {
    "colab": {
     "base_uri": "https://localhost:8080/",
     "height": 425
    },
    "id": "r7EBufimGI7O",
    "outputId": "b210b2bc-5cdf-4c4c-c9d7-3274f28f994c"
   },
   "outputs": [
    {
     "data": {
      "image/png": "[encoded data removed]",
      "text/plain": [
       "<Figure size 432x288 with 1 Axes>"
      ]
     },
     "metadata": {
      "needs_background": "light"
     },
     "output_type": "display_data"
    }
   ],
   "source": [
    "#then plot the distribution of races (barplot) for a particular comment\n",
    "\n",
    "ax = sns.countplot(x='race_label', data=df_comment_20007)\n",
    "\n",
    "labels = ['white', 'asian', 'black', 'latino', 'two or more races', 'american indian alaska native', 'other race', 'native hawaiian pacific islander', 'middle eastern', 'unknown']\n",
    "          \n",
    "#x.set_xticklabels(labels)\n",
    "# ax.set_ylabel('Number of Raters')\n",
    "# ax.set_xlabel('Race')\n",
    "\n",
    "\n",
    "for name in ax.get_xticklabels(): #notsure what the get_xticklabels does, is it like getcolumnames \n",
    "    name.set_rotation(75) https://www.theguardian.com/books/booksblog/2007/apr/04/dontdiagnosefictionalcharac#:~:text=Darcy's%20%22unaccountable%20rudeness%22%2C%20she,reference%20to%20the%20autistic%20spectrum.\n",
    "\n"
   ]
  },
  {
   "cell_type": "code",
   "execution_count": null,
   "metadata": {
    "id": "LoTUoQ9GUopl"
   },
   "outputs": [],
   "source": [
    "# 20034    297\n",
    "\n",
    "df_comment_20034 = df_race_distribution[df_race_distribution['comment_id'] == 20034]"
   ]
  },
  {
   "cell_type": "code",
   "execution_count": null,
   "metadata": {
    "colab": {
     "base_uri": "https://localhost:8080/",
     "height": 425
    },
    "id": "gDKhRyOwkUw4",
    "outputId": "657e68b7-12e1-44b6-8a00-dbee93e70358"
   },
   "outputs": [
    {
     "data": {
      "image/png": "[encoded data removed]",
      "text/plain": [
       "<Figure size 432x288 with 1 Axes>"
      ]
     },
     "metadata": {
      "needs_background": "light",
      "tags": []
     },
     "output_type": "display_data"
    }
   ],
   "source": [
    "ax = sns.countplot(x='race_label', data=df_comment_20034)\n",
    "\n",
    "labels = ['white', 'asian', 'black', 'latino', 'two or more races', 'american indian alaska native', 'other race', 'native hawaiian pacific islander', 'middle eastern', 'unknown']\n",
    "          \n",
    "ax.set_xticklabels(labels)\n",
    "ax.set_ylabel('Number of Raters')\n",
    "ax.set_xlabel('Race')\n",
    "\n",
    "\n",
    "for name in ax.get_xticklabels(): #notsure what the get_xticklabels does, is it like getcolumnames \n",
    "  name.set_rotation(75) "
   ]
  },
  {
   "cell_type": "code",
   "execution_count": null,
   "metadata": {
    "id": "JOEt99ktGI-B"
   },
   "outputs": [],
   "source": [
    "# 20021    293\n",
    "df_comment_20021 = df_race_distribution[df_race_distribution['comment_id'] == 20021]"
   ]
  },
  {
   "cell_type": "code",
   "execution_count": null,
   "metadata": {
    "colab": {
     "base_uri": "https://localhost:8080/",
     "height": 425
    },
    "id": "-V9T3wQRkXh2",
    "outputId": "cd6ebac5-3617-4205-e665-1b4ff573ef00"
   },
   "outputs": [
    {
     "data": {
      "image/png": "[encoded data removed]",
      "text/plain": [
       "<Figure size 432x288 with 1 Axes>"
      ]
     },
     "metadata": {
      "needs_background": "light",
      "tags": []
     },
     "output_type": "display_data"
    }
   ],
   "source": [
    "ax = sns.countplot(x='race_label', data=df_comment_20021)\n",
    "\n",
    "labels = ['white', 'asian', 'black', 'latino', 'two or more races', 'american indian alaska native', 'other race', 'native hawaiian pacific islander', 'middle eastern', 'unknown']\n",
    "          \n",
    "ax.set_xticklabels(labels)\n",
    "ax.set_ylabel('Number of Raters')\n",
    "ax.set_xlabel('Race')\n",
    "\n",
    "\n",
    "for name in ax.get_xticklabels(): #notsure what the get_xticklabels does, is it like getcolumnames \n",
    "  name.set_rotation(75) "
   ]
  },
  {
   "cell_type": "code",
   "execution_count": null,
   "metadata": {
    "id": "RmDqskAYK4Vf"
   },
   "outputs": [],
   "source": [
    "# 20012    291\n",
    "df_comment_20012 = df_race_distribution[df_race_distribution['comment_id'] == 20012]"
   ]
  },
  {
   "cell_type": "code",
   "execution_count": null,
   "metadata": {
    "colab": {
     "base_uri": "https://localhost:8080/",
     "height": 425
    },
    "id": "9jOBG0tQkZNf",
    "outputId": "ee3b0453-af6e-49d5-f0e0-991143585469"
   },
   "outputs": [
    {
     "data": {
      "image/png": "[encoded data removed]",
      "text/plain": [
       "<Figure size 432x288 with 1 Axes>"
      ]
     },
     "metadata": {
      "needs_background": "light",
      "tags": []
     },
     "output_type": "display_data"
    }
   ],
   "source": [
    "ax = sns.countplot(x='race_label', data=df_comment_20012)\n",
    "\n",
    "labels = ['white', 'asian', 'black', 'latino', 'two or more races', 'american indian alaska native', 'other race', 'native hawaiian pacific islander', 'middle eastern', 'unknown']\n",
    "          \n",
    "ax.set_xticklabels(labels)\n",
    "ax.set_ylabel('Number of Raters')\n",
    "ax.set_xlabel('Race')\n",
    "\n",
    "\n",
    "for name in ax.get_xticklabels(): #notsure what the get_xticklabels does, is it like getcolumnames \n",
    "  name.set_rotation(75) "
   ]
  },
  {
   "cell_type": "code",
   "execution_count": null,
   "metadata": {
    "id": "RVFEPVHFK4Yy"
   },
   "outputs": [],
   "source": [
    "# 20020    288\n",
    "\n",
    "df_comment_20020 = df_race_distribution[df_race_distribution['comment_id'] == 20020]"
   ]
  },
  {
   "cell_type": "code",
   "execution_count": null,
   "metadata": {
    "colab": {
     "base_uri": "https://localhost:8080/",
     "height": 417
    },
    "id": "RzPMsaMOK4cH",
    "outputId": "c775c11c-fe36-4bb9-b9b4-0594722a1cd5"
   },
   "outputs": [
    {
     "data": {
      "image/png": "[encoded data removed]",
      "text/plain": [
       "<Figure size 432x288 with 1 Axes>"
      ]
     },
     "metadata": {
      "needs_background": "light",
      "tags": []
     },
     "output_type": "display_data"
    }
   ],
   "source": [
    "ax = sns.countplot(x='race_label', data=df_comment_20020)\n",
    "\n",
    "labels = ['white', 'asian', 'black', 'latino', 'two or more races', 'american indian alaska native', 'other race', 'native hawaiian pacific islander', 'middle eastern', 'unknown']\n",
    "          \n",
    "ax.set_xticklabels(labels)\n",
    "ax.set_ylabel('Number of Raters')\n",
    "ax.set_xlabel('Race')\n",
    "\n",
    "\n",
    "for name in ax.get_xticklabels(): #notsure what the get_xticklabels does, is it like getcolumnames \n",
    "  name.set_rotation(75) "
   ]
  },
  {
   "cell_type": "code",
   "execution_count": null,
   "metadata": {
    "colab": {
     "base_uri": "https://localhost:8080/",
     "height": 491
    },
    "id": "tqpJJiIKK4hJ",
    "outputId": "59359073-8049-4a20-9b13-0d818bc58f86"
   },
   "outputs": [
    {
     "data": {
      "text/html": [
       "<div>\n",
       "<style scoped>\n",
       "    .dataframe tbody tr th:only-of-type {\n",
       "        vertical-align: middle;\n",
       "    }\n",
       "\n",
       "    .dataframe tbody tr th {\n",
       "        vertical-align: top;\n",
       "    }\n",
       "\n",
       "    .dataframe thead th {\n",
       "        text-align: right;\n",
       "    }\n",
       "</style>\n",
       "<table border=\"1\" class=\"dataframe\">\n",
       "  <thead>\n",
       "    <tr style=\"text-align: right;\">\n",
       "      <th></th>\n",
       "      <th>sentiment</th>\n",
       "      <th>respect</th>\n",
       "      <th>insult</th>\n",
       "      <th>humiliate</th>\n",
       "      <th>status</th>\n",
       "      <th>dehumanize</th>\n",
       "      <th>violence_phys</th>\n",
       "      <th>genocide</th>\n",
       "      <th>attack_defend</th>\n",
       "      <th>hatespeech</th>\n",
       "      <th>comment_id</th>\n",
       "      <th>platform</th>\n",
       "      <th>uid</th>\n",
       "      <th>predict_text</th>\n",
       "      <th>measure</th>\n",
       "      <th>std_err</th>\n",
       "      <th>num_ratings</th>\n",
       "      <th>weight</th>\n",
       "      <th>has_targets</th>\n",
       "      <th>target_identity_count</th>\n",
       "      <th>labeler_id</th>\n",
       "      <th>rater_measure</th>\n",
       "      <th>rater_infitms</th>\n",
       "      <th>rater_outfitms</th>\n",
       "      <th>infitms</th>\n",
       "      <th>outfitms</th>\n",
       "      <th>target_identities_1</th>\n",
       "      <th>target_identities_2</th>\n",
       "      <th>target_identities_3</th>\n",
       "      <th>target_identities_4</th>\n",
       "      <th>target_identities_5</th>\n",
       "      <th>target_identities_6</th>\n",
       "      <th>target_identities_7</th>\n",
       "      <th>target_identities_9</th>\n",
       "      <th>target_race_1</th>\n",
       "      <th>target_race_2</th>\n",
       "      <th>target_race_3</th>\n",
       "      <th>target_race_8</th>\n",
       "      <th>target_race_4</th>\n",
       "      <th>target_race_5</th>\n",
       "      <th>...</th>\n",
       "      <th>target_political_9</th>\n",
       "      <th>target_political_10</th>\n",
       "      <th>target_political_11</th>\n",
       "      <th>target_political_11_text</th>\n",
       "      <th>demo_gender</th>\n",
       "      <th>demo_gender_4_text</th>\n",
       "      <th>demo_trans</th>\n",
       "      <th>demo_educ</th>\n",
       "      <th>demo_race_ethnicitie_1</th>\n",
       "      <th>demo_race_ethnicitie_2</th>\n",
       "      <th>demo_race_ethnicitie_3</th>\n",
       "      <th>demo_race_ethnicitie_4</th>\n",
       "      <th>demo_race_ethnicitie_5</th>\n",
       "      <th>demo_race_ethnicitie_8</th>\n",
       "      <th>demo_race_ethnicitie_6</th>\n",
       "      <th>demo_race_ethnicitie_7</th>\n",
       "      <th>demo_race_ethnicitie_7_text</th>\n",
       "      <th>demo_age</th>\n",
       "      <th>demo_income</th>\n",
       "      <th>demo_religion_1</th>\n",
       "      <th>demo_religion_2</th>\n",
       "      <th>demo_religion_11</th>\n",
       "      <th>demo_religion_4</th>\n",
       "      <th>demo_religion_5</th>\n",
       "      <th>demo_religion_7</th>\n",
       "      <th>demo_religion_8</th>\n",
       "      <th>demo_religion_9</th>\n",
       "      <th>demo_religion_10</th>\n",
       "      <th>demo_religion_10_text</th>\n",
       "      <th>demo_sexual_orien_1</th>\n",
       "      <th>demo_sexual_orien_2</th>\n",
       "      <th>demo_sexual_orien_3</th>\n",
       "      <th>demo_sexual_orien_4</th>\n",
       "      <th>demo_sexual_orien_5</th>\n",
       "      <th>demo_sexual_orien_4_text</th>\n",
       "      <th>demo_ideology</th>\n",
       "      <th>locationlatitude</th>\n",
       "      <th>locationlongitude</th>\n",
       "      <th>identity</th>\n",
       "      <th>hypothesis</th>\n",
       "    </tr>\n",
       "  </thead>\n",
       "  <tbody>\n",
       "    <tr>\n",
       "      <th>0</th>\n",
       "      <td>0.0</td>\n",
       "      <td>0.0</td>\n",
       "      <td>0.0</td>\n",
       "      <td>0.0</td>\n",
       "      <td>0.0</td>\n",
       "      <td>0.0</td>\n",
       "      <td>0.0</td>\n",
       "      <td>0.0</td>\n",
       "      <td>0.0</td>\n",
       "      <td>0.0</td>\n",
       "      <td>47777</td>\n",
       "      <td>youtube</td>\n",
       "      <td>Ugz2iZCY9nfSWtCyWE14AaABAg</td>\n",
       "      <td>Yes indeed. She sort of reminds me of the elde...</td>\n",
       "      <td>-3.90</td>\n",
       "      <td>0.34</td>\n",
       "      <td>5</td>\n",
       "      <td>0.200000</td>\n",
       "      <td>1</td>\n",
       "      <td>1.0</td>\n",
       "      <td>10873</td>\n",
       "      <td>0.36</td>\n",
       "      <td>1.35</td>\n",
       "      <td>1.23</td>\n",
       "      <td>0.81</td>\n",
       "      <td>1.88</td>\n",
       "      <td>1.0</td>\n",
       "      <td>NaN</td>\n",
       "      <td>NaN</td>\n",
       "      <td>NaN</td>\n",
       "      <td>NaN</td>\n",
       "      <td>NaN</td>\n",
       "      <td>NaN</td>\n",
       "      <td>NaN</td>\n",
       "      <td>1.0</td>\n",
       "      <td>1.0</td>\n",
       "      <td>1.0</td>\n",
       "      <td>1.0</td>\n",
       "      <td>1.0</td>\n",
       "      <td>1.0</td>\n",
       "      <td>...</td>\n",
       "      <td>NaN</td>\n",
       "      <td>NaN</td>\n",
       "      <td>NaN</td>\n",
       "      <td></td>\n",
       "      <td>2.0</td>\n",
       "      <td></td>\n",
       "      <td>2.0</td>\n",
       "      <td>6.0</td>\n",
       "      <td>NaN</td>\n",
       "      <td>NaN</td>\n",
       "      <td>NaN</td>\n",
       "      <td>NaN</td>\n",
       "      <td>NaN</td>\n",
       "      <td>NaN</td>\n",
       "      <td>1.0</td>\n",
       "      <td>NaN</td>\n",
       "      <td></td>\n",
       "      <td>110.0</td>\n",
       "      <td>1.0</td>\n",
       "      <td>NaN</td>\n",
       "      <td>NaN</td>\n",
       "      <td>1.0</td>\n",
       "      <td>NaN</td>\n",
       "      <td>NaN</td>\n",
       "      <td>NaN</td>\n",
       "      <td>NaN</td>\n",
       "      <td>NaN</td>\n",
       "      <td>NaN</td>\n",
       "      <td></td>\n",
       "      <td>1.0</td>\n",
       "      <td>NaN</td>\n",
       "      <td>NaN</td>\n",
       "      <td>NaN</td>\n",
       "      <td>NaN</td>\n",
       "      <td></td>\n",
       "      <td>4.0</td>\n",
       "      <td>37.55029296875</td>\n",
       "      <td>-77.39420318603515625</td>\n",
       "      <td>0.917681</td>\n",
       "      <td>-1.130178</td>\n",
       "    </tr>\n",
       "    <tr>\n",
       "      <th>1</th>\n",
       "      <td>0.0</td>\n",
       "      <td>0.0</td>\n",
       "      <td>0.0</td>\n",
       "      <td>0.0</td>\n",
       "      <td>0.0</td>\n",
       "      <td>0.0</td>\n",
       "      <td>0.0</td>\n",
       "      <td>0.0</td>\n",
       "      <td>1.0</td>\n",
       "      <td>0.0</td>\n",
       "      <td>39773</td>\n",
       "      <td>twitter</td>\n",
       "      <td>1159364387838341120</td>\n",
       "      <td>The trans women reading this tweet right now i...</td>\n",
       "      <td>-6.52</td>\n",
       "      <td>1.00</td>\n",
       "      <td>3</td>\n",
       "      <td>0.333333</td>\n",
       "      <td>1</td>\n",
       "      <td>1.0</td>\n",
       "      <td>2790</td>\n",
       "      <td>-0.35</td>\n",
       "      <td>0.57</td>\n",
       "      <td>0.42</td>\n",
       "      <td>0.96</td>\n",
       "      <td>0.43</td>\n",
       "      <td>NaN</td>\n",
       "      <td>NaN</td>\n",
       "      <td>NaN</td>\n",
       "      <td>1.0</td>\n",
       "      <td>NaN</td>\n",
       "      <td>NaN</td>\n",
       "      <td>NaN</td>\n",
       "      <td>NaN</td>\n",
       "      <td>NaN</td>\n",
       "      <td>NaN</td>\n",
       "      <td>NaN</td>\n",
       "      <td>NaN</td>\n",
       "      <td>NaN</td>\n",
       "      <td>NaN</td>\n",
       "      <td>...</td>\n",
       "      <td>NaN</td>\n",
       "      <td>NaN</td>\n",
       "      <td>NaN</td>\n",
       "      <td></td>\n",
       "      <td>1.0</td>\n",
       "      <td></td>\n",
       "      <td>2.0</td>\n",
       "      <td>3.0</td>\n",
       "      <td>NaN</td>\n",
       "      <td>NaN</td>\n",
       "      <td>NaN</td>\n",
       "      <td>NaN</td>\n",
       "      <td>NaN</td>\n",
       "      <td>NaN</td>\n",
       "      <td>1.0</td>\n",
       "      <td>NaN</td>\n",
       "      <td></td>\n",
       "      <td>115.0</td>\n",
       "      <td>1.0</td>\n",
       "      <td>NaN</td>\n",
       "      <td>NaN</td>\n",
       "      <td>1.0</td>\n",
       "      <td>NaN</td>\n",
       "      <td>NaN</td>\n",
       "      <td>NaN</td>\n",
       "      <td>NaN</td>\n",
       "      <td>NaN</td>\n",
       "      <td>NaN</td>\n",
       "      <td></td>\n",
       "      <td>1.0</td>\n",
       "      <td>NaN</td>\n",
       "      <td>NaN</td>\n",
       "      <td>NaN</td>\n",
       "      <td>NaN</td>\n",
       "      <td></td>\n",
       "      <td>4.0</td>\n",
       "      <td>32.9568939208984375</td>\n",
       "      <td>-96.83170318603515625</td>\n",
       "      <td>0.918119</td>\n",
       "      <td>-1.146973</td>\n",
       "    </tr>\n",
       "    <tr>\n",
       "      <th>2</th>\n",
       "      <td>4.0</td>\n",
       "      <td>4.0</td>\n",
       "      <td>3.0</td>\n",
       "      <td>2.0</td>\n",
       "      <td>1.0</td>\n",
       "      <td>1.0</td>\n",
       "      <td>0.0</td>\n",
       "      <td>0.0</td>\n",
       "      <td>3.0</td>\n",
       "      <td>1.0</td>\n",
       "      <td>47101</td>\n",
       "      <td>youtube</td>\n",
       "      <td>UgytWyMwDquehpAEspl4AaABAg</td>\n",
       "      <td>Question: These 4 broads who criticize America...</td>\n",
       "      <td>0.36</td>\n",
       "      <td>0.31</td>\n",
       "      <td>4</td>\n",
       "      <td>0.250000</td>\n",
       "      <td>1</td>\n",
       "      <td>1.0</td>\n",
       "      <td>3379</td>\n",
       "      <td>-0.48</td>\n",
       "      <td>1.16</td>\n",
       "      <td>0.67</td>\n",
       "      <td>0.90</td>\n",
       "      <td>0.74</td>\n",
       "      <td>NaN</td>\n",
       "      <td>NaN</td>\n",
       "      <td>1.0</td>\n",
       "      <td>NaN</td>\n",
       "      <td>NaN</td>\n",
       "      <td>NaN</td>\n",
       "      <td>NaN</td>\n",
       "      <td>NaN</td>\n",
       "      <td>NaN</td>\n",
       "      <td>NaN</td>\n",
       "      <td>NaN</td>\n",
       "      <td>NaN</td>\n",
       "      <td>NaN</td>\n",
       "      <td>NaN</td>\n",
       "      <td>...</td>\n",
       "      <td>NaN</td>\n",
       "      <td>NaN</td>\n",
       "      <td>NaN</td>\n",
       "      <td></td>\n",
       "      <td>2.0</td>\n",
       "      <td></td>\n",
       "      <td>2.0</td>\n",
       "      <td>3.0</td>\n",
       "      <td>NaN</td>\n",
       "      <td>NaN</td>\n",
       "      <td>NaN</td>\n",
       "      <td>NaN</td>\n",
       "      <td>NaN</td>\n",
       "      <td>NaN</td>\n",
       "      <td>1.0</td>\n",
       "      <td>NaN</td>\n",
       "      <td></td>\n",
       "      <td>126.0</td>\n",
       "      <td>4.0</td>\n",
       "      <td>NaN</td>\n",
       "      <td>NaN</td>\n",
       "      <td>NaN</td>\n",
       "      <td>NaN</td>\n",
       "      <td>NaN</td>\n",
       "      <td>NaN</td>\n",
       "      <td>NaN</td>\n",
       "      <td>1.0</td>\n",
       "      <td>NaN</td>\n",
       "      <td></td>\n",
       "      <td>1.0</td>\n",
       "      <td>NaN</td>\n",
       "      <td>NaN</td>\n",
       "      <td>NaN</td>\n",
       "      <td>NaN</td>\n",
       "      <td></td>\n",
       "      <td>5.0</td>\n",
       "      <td>39.3361053466796875</td>\n",
       "      <td>-76.53890228271484375</td>\n",
       "      <td>0.985910</td>\n",
       "      <td>-0.207369</td>\n",
       "    </tr>\n",
       "    <tr>\n",
       "      <th>3</th>\n",
       "      <td>2.0</td>\n",
       "      <td>3.0</td>\n",
       "      <td>1.0</td>\n",
       "      <td>0.0</td>\n",
       "      <td>0.0</td>\n",
       "      <td>0.0</td>\n",
       "      <td>0.0</td>\n",
       "      <td>0.0</td>\n",
       "      <td>2.0</td>\n",
       "      <td>0.0</td>\n",
       "      <td>43625</td>\n",
       "      <td>youtube</td>\n",
       "      <td>Ugxgvb5k_yZm2w5V-v94AaABAg</td>\n",
       "      <td>It is about time for all illegals to go back t...</td>\n",
       "      <td>0.26</td>\n",
       "      <td>0.29</td>\n",
       "      <td>4</td>\n",
       "      <td>0.250000</td>\n",
       "      <td>1</td>\n",
       "      <td>1.0</td>\n",
       "      <td>7365</td>\n",
       "      <td>0.86</td>\n",
       "      <td>1.18</td>\n",
       "      <td>0.87</td>\n",
       "      <td>0.81</td>\n",
       "      <td>0.68</td>\n",
       "      <td>NaN</td>\n",
       "      <td>NaN</td>\n",
       "      <td>1.0</td>\n",
       "      <td>NaN</td>\n",
       "      <td>NaN</td>\n",
       "      <td>NaN</td>\n",
       "      <td>NaN</td>\n",
       "      <td>NaN</td>\n",
       "      <td>NaN</td>\n",
       "      <td>NaN</td>\n",
       "      <td>NaN</td>\n",
       "      <td>NaN</td>\n",
       "      <td>NaN</td>\n",
       "      <td>NaN</td>\n",
       "      <td>...</td>\n",
       "      <td>NaN</td>\n",
       "      <td>NaN</td>\n",
       "      <td>NaN</td>\n",
       "      <td></td>\n",
       "      <td>2.0</td>\n",
       "      <td></td>\n",
       "      <td>2.0</td>\n",
       "      <td>2.0</td>\n",
       "      <td>NaN</td>\n",
       "      <td>NaN</td>\n",
       "      <td>NaN</td>\n",
       "      <td>NaN</td>\n",
       "      <td>NaN</td>\n",
       "      <td>NaN</td>\n",
       "      <td>1.0</td>\n",
       "      <td>NaN</td>\n",
       "      <td></td>\n",
       "      <td>127.0</td>\n",
       "      <td>2.0</td>\n",
       "      <td>1.0</td>\n",
       "      <td>NaN</td>\n",
       "      <td>NaN</td>\n",
       "      <td>NaN</td>\n",
       "      <td>NaN</td>\n",
       "      <td>NaN</td>\n",
       "      <td>NaN</td>\n",
       "      <td>NaN</td>\n",
       "      <td>NaN</td>\n",
       "      <td></td>\n",
       "      <td>1.0</td>\n",
       "      <td>NaN</td>\n",
       "      <td>NaN</td>\n",
       "      <td>NaN</td>\n",
       "      <td>NaN</td>\n",
       "      <td></td>\n",
       "      <td>4.0</td>\n",
       "      <td>37.1439971923828125</td>\n",
       "      <td>-94.4727020263671875</td>\n",
       "      <td>0.969761</td>\n",
       "      <td>-0.055536</td>\n",
       "    </tr>\n",
       "    <tr>\n",
       "      <th>4</th>\n",
       "      <td>4.0</td>\n",
       "      <td>4.0</td>\n",
       "      <td>3.0</td>\n",
       "      <td>2.0</td>\n",
       "      <td>1.0</td>\n",
       "      <td>1.0</td>\n",
       "      <td>1.0</td>\n",
       "      <td>0.0</td>\n",
       "      <td>2.0</td>\n",
       "      <td>1.0</td>\n",
       "      <td>12538</td>\n",
       "      <td>reddit</td>\n",
       "      <td>euol97y</td>\n",
       "      <td>For starters bend over the one in pink and kic...</td>\n",
       "      <td>1.54</td>\n",
       "      <td>0.51</td>\n",
       "      <td>2</td>\n",
       "      <td>0.500000</td>\n",
       "      <td>1</td>\n",
       "      <td>1.0</td>\n",
       "      <td>488</td>\n",
       "      <td>-0.54</td>\n",
       "      <td>0.95</td>\n",
       "      <td>1.00</td>\n",
       "      <td>0.76</td>\n",
       "      <td>0.63</td>\n",
       "      <td>NaN</td>\n",
       "      <td>NaN</td>\n",
       "      <td>NaN</td>\n",
       "      <td>1.0</td>\n",
       "      <td>NaN</td>\n",
       "      <td>NaN</td>\n",
       "      <td>NaN</td>\n",
       "      <td>NaN</td>\n",
       "      <td>NaN</td>\n",
       "      <td>NaN</td>\n",
       "      <td>NaN</td>\n",
       "      <td>NaN</td>\n",
       "      <td>NaN</td>\n",
       "      <td>NaN</td>\n",
       "      <td>...</td>\n",
       "      <td>NaN</td>\n",
       "      <td>NaN</td>\n",
       "      <td>NaN</td>\n",
       "      <td></td>\n",
       "      <td>1.0</td>\n",
       "      <td></td>\n",
       "      <td>2.0</td>\n",
       "      <td>7.0</td>\n",
       "      <td>NaN</td>\n",
       "      <td>NaN</td>\n",
       "      <td>NaN</td>\n",
       "      <td>NaN</td>\n",
       "      <td>NaN</td>\n",
       "      <td>NaN</td>\n",
       "      <td>1.0</td>\n",
       "      <td>NaN</td>\n",
       "      <td></td>\n",
       "      <td>112.0</td>\n",
       "      <td>2.0</td>\n",
       "      <td>NaN</td>\n",
       "      <td>NaN</td>\n",
       "      <td>1.0</td>\n",
       "      <td>NaN</td>\n",
       "      <td>NaN</td>\n",
       "      <td>NaN</td>\n",
       "      <td>NaN</td>\n",
       "      <td>NaN</td>\n",
       "      <td>NaN</td>\n",
       "      <td></td>\n",
       "      <td>1.0</td>\n",
       "      <td>NaN</td>\n",
       "      <td>NaN</td>\n",
       "      <td>NaN</td>\n",
       "      <td>NaN</td>\n",
       "      <td></td>\n",
       "      <td>4.0</td>\n",
       "      <td>34.215301513671875</td>\n",
       "      <td>-79.64679718017578125</td>\n",
       "      <td>0.935462</td>\n",
       "      <td>0.104225</td>\n",
       "    </tr>\n",
       "  </tbody>\n",
       "</table>\n",
       "<p>5 rows × 135 columns</p>\n",
       "</div>"
      ],
      "text/plain": [
       "   sentiment  respect  insult  ...      locationlongitude  identity  hypothesis\n",
       "0        0.0      0.0     0.0  ...  -77.39420318603515625  0.917681   -1.130178\n",
       "1        0.0      0.0     0.0  ...  -96.83170318603515625  0.918119   -1.146973\n",
       "2        4.0      4.0     3.0  ...  -76.53890228271484375  0.985910   -0.207369\n",
       "3        2.0      3.0     1.0  ...   -94.4727020263671875  0.969761   -0.055536\n",
       "4        4.0      4.0     3.0  ...  -79.64679718017578125  0.935462    0.104225\n",
       "\n",
       "[5 rows x 135 columns]"
      ]
     },
     "execution_count": 81,
     "metadata": {
      "tags": []
     },
     "output_type": "execute_result"
    }
   ],
   "source": [
    "#distinction between white labelers and non white labelers in distribution of sum of instrument scores\n",
    "\n",
    "\n",
    "\n",
    "df_race_distribution.head(5)\n",
    "\n",
    "data_multi.head(5)"
   ]
  },
  {
   "cell_type": "code",
   "execution_count": null,
   "metadata": {
    "id": "9DTDsHdgxzNu"
   },
   "outputs": [],
   "source": [
    "items_labelers = ['sentiment', 'respect', 'insult', 'humiliate', 'status', 'dehumanize', 'violence_phys', 'genocide', 'attack_defend', 'hatespeech']"
   ]
  },
  {
   "cell_type": "code",
   "execution_count": null,
   "metadata": {
    "id": "y8uHfqQaxark"
   },
   "outputs": [],
   "source": [
    "data_multi['hate_speech_sum'] = data_multi[items_labelers].sum(axis=1)"
   ]
  },
  {
   "cell_type": "code",
   "execution_count": null,
   "metadata": {
    "colab": {
     "base_uri": "https://localhost:8080/"
    },
    "id": "LSZuZQ7Dzm8e",
    "outputId": "22d3e0b7-eb05-49ac-ee37-8f92cb95cbed"
   },
   "outputs": [
    {
     "data": {
      "text/plain": [
       "NaN    132920\n",
       "1.0      2636\n",
       "Name: demo_race_ethnicitie_1, dtype: int64"
      ]
     },
     "execution_count": 84,
     "metadata": {
      "tags": []
     },
     "output_type": "execute_result"
    }
   ],
   "source": [
    "data_multi['demo_race_ethnicitie_1'].value_counts(dropna=False)"
   ]
  },
  {
   "cell_type": "code",
   "execution_count": null,
   "metadata": {
    "id": "zJJRgfl00d65"
   },
   "outputs": [],
   "source": [
    "data_multi.rename(columns={'demo_race_ethnicitie_1': 'demo_american_indian_alaska_native',\n",
    "                                       'demo_race_ethnicitie_2': 'demo_asian',\n",
    "                                       'demo_race_ethnicitie_3': 'demo_black',\n",
    "                                       'demo_race_ethnicitie_4': 'demo_latino',\n",
    "                                       'demo_race_ethnicitie_5': 'demo_native_hawaiian_pacific_islander',\n",
    "                                       'demo_race_ethnicitie_6': 'demo_white',\n",
    "                                       'demo_race_ethnicitie_7': 'demo_other_race',\n",
    "                                       'demo_race_ethnicitie_7_text': 'demo_other_race_text',\n",
    "                                       'demo_race_ethnicitie_8': 'demo_middle_eastern',\n",
    "                                       'target_race_1': 'target_black',\n",
    "                                       'target_race_2': 'target_latino',\n",
    "                                       'target_race_3': 'target_asian',\n",
    "                                       'target_race_4': 'target_native american',\n",
    "                                       'target_race_5': 'target_pacific islander',\n",
    "                                       'target_race_6': 'target_white',\n",
    "                                       'target_race_7': 'target_other_race',\n",
    "                                       'target_race_7_text': 'target_other_race_text'}, inplace=True)"
   ]
  },
  {
   "cell_type": "code",
   "execution_count": null,
   "metadata": {
    "id": "GfdDadYGzVKI"
   },
   "outputs": [],
   "source": [
    "data_multi['label_race'] = data_multi.apply(label_race, axis=1)"
   ]
  },
  {
   "cell_type": "code",
   "execution_count": null,
   "metadata": {
    "colab": {
     "base_uri": "https://localhost:8080/"
    },
    "id": "Y4Cts769kXpf",
    "outputId": "e5b6a74d-a6c5-4210-c225-d2cd6571a45e"
   },
   "outputs": [
    {
     "data": {
      "text/plain": [
       "comment_id  label_race\n",
       "1           latino        13.000000\n",
       "            white         14.666667\n",
       "2           asian          9.000000\n",
       "            white         14.500000\n",
       "3           white         10.666667\n",
       "                            ...    \n",
       "50066       white         19.333333\n",
       "50067       white         15.000000\n",
       "50068       white          2.000000\n",
       "50069       white         15.000000\n",
       "50070       white         18.333333\n",
       "Name: hate_speech_sum, Length: 58644, dtype: float64"
      ]
     },
     "execution_count": 87,
     "metadata": {
      "tags": []
     },
     "output_type": "execute_result"
    }
   ],
   "source": [
    "data_multi.groupby(['comment_id', 'label_race'])['hate_speech_sum'].mean()"
   ]
  },
  {
   "cell_type": "code",
   "execution_count": null,
   "metadata": {
    "colab": {
     "base_uri": "https://localhost:8080/"
    },
    "id": "ZhlijdOrxt05",
    "outputId": "c2b16728-abb7-4319-f709-8119d20173d8"
   },
   "outputs": [
    {
     "data": {
      "text/plain": [
       "array([13168,  4373,  1323, ..., 20069, 20065, 20067], dtype=int32)"
      ]
     },
     "execution_count": 150,
     "metadata": {
      "tags": []
     },
     "output_type": "execute_result"
    }
   ],
   "source": [
    "#getting comment_ids\n",
    "data_multi[data_multi['label_race'] == 'black']['comment_id'].values"
   ]
  },
  {
   "cell_type": "code",
   "execution_count": null,
   "metadata": {
    "id": "uPo3c7kLuIkO"
   },
   "outputs": [],
   "source": [
    "#comment ids for blakc\n",
    "array_black = data_multi[data_multi['label_race'] == 'black']['comment_id'].values\n",
    "\n",
    "list_black = array_black.tolist()\n",
    "\n",
    "# list_black"
   ]
  },
  {
   "cell_type": "code",
   "execution_count": null,
   "metadata": {
    "id": "Nthh9P-FuSDR"
   },
   "outputs": [],
   "source": [
    "#comment_ids for white\n",
    "array_white = data_multi[data_multi['label_race'] == 'white']['comment_id'].values\n",
    "\n",
    "list_white = array_white.tolist()\n",
    "\n",
    "# list_white"
   ]
  },
  {
   "cell_type": "code",
   "execution_count": null,
   "metadata": {
    "id": "EFSMgiStux7X"
   },
   "outputs": [],
   "source": [
    "#find set of commonalities between list_black and list_white\n",
    "\n",
    "list_black_as_set = set(list_black)\n",
    "\n",
    "intersection_set = list_black_as_set.intersection(list_white)\n",
    "\n",
    "intersection_as_list = list(intersection_set)"
   ]
  },
  {
   "cell_type": "code",
   "execution_count": null,
   "metadata": {
    "id": "CjoFwDfyxG6p"
   },
   "outputs": [],
   "source": [
    "# sanity check\n",
    "# intersection_as_list"
   ]
  },
  {
   "cell_type": "code",
   "execution_count": null,
   "metadata": {
    "colab": {
     "base_uri": "https://localhost:8080/"
    },
    "id": "jXURLhCqtNt0",
    "outputId": "65fde8c4-8ee6-4105-b1c8-f94bf1e1e449"
   },
   "outputs": [
    {
     "data": {
      "text/plain": [
       "comment_id  label_race\n",
       "1           white         14.666667\n",
       "2           white         14.500000\n",
       "3           white         10.666667\n",
       "4           white         10.000000\n",
       "5           white          5.666667\n",
       "                            ...    \n",
       "50066       white         19.333333\n",
       "50067       white         15.000000\n",
       "50068       white          2.000000\n",
       "50069       white         15.000000\n",
       "50070       white         18.333333\n",
       "Name: hate_speech_sum, Length: 35855, dtype: float64"
      ]
     },
     "execution_count": 111,
     "metadata": {
      "tags": []
     },
     "output_type": "execute_result"
    }
   ],
   "source": [
    "#try to get only white and black labelers here\n",
    "\n",
    "data_multi[data_multi['label_race'] == 'white'].groupby(['comment_id', 'label_race'])['hate_speech_sum'].mean()\n",
    "\n"
   ]
  },
  {
   "cell_type": "code",
   "execution_count": null,
   "metadata": {
    "colab": {
     "base_uri": "https://localhost:8080/"
    },
    "id": "e6od-ns8tmMk",
    "outputId": "17f05111-7afc-4d60-db0f-3a9b285e4de3"
   },
   "outputs": [
    {
     "data": {
      "text/plain": [
       "comment_id  label_race\n",
       "17          black         16.0\n",
       "23          black         20.0\n",
       "25          black          1.0\n",
       "26          black          5.0\n",
       "29          black         13.0\n",
       "                          ... \n",
       "50051       black          6.0\n",
       "50060       black          6.0\n",
       "50061       black         15.5\n",
       "50062       black          7.5\n",
       "50066       black         12.0\n",
       "Name: hate_speech_sum, Length: 8096, dtype: float64"
      ]
     },
     "execution_count": 117,
     "metadata": {
      "tags": []
     },
     "output_type": "execute_result"
    }
   ],
   "source": [
    "data_multi[data_multi['label_race'] == 'black'].groupby(['comment_id', 'label_race'])['hate_speech_sum'].mean()\n",
    "\n"
   ]
  },
  {
   "cell_type": "code",
   "execution_count": null,
   "metadata": {
    "colab": {
     "base_uri": "https://localhost:8080/"
    },
    "id": "Mao9QavFtu2m",
    "outputId": "8c0cfcdc-4ad7-49e3-afc5-27e028c8a393"
   },
   "outputs": [
    {
     "data": {
      "text/plain": [
       "white                               43127\n",
       "black                               10855\n",
       "asian                                3548\n",
       "latino                               3398\n",
       "american indian alaska native        1066\n",
       "other race                            308\n",
       "native hawaiian pacific islander      113\n",
       "middle eastern                         92\n",
       "unknown                                24\n",
       "Name: label_race, dtype: int64"
      ]
     },
     "execution_count": 160,
     "metadata": {
      "tags": []
     },
     "output_type": "execute_result"
    }
   ],
   "source": [
    "#for comments where there are BOTH black and white labelers\n",
    "#includes black and white but not only so need to sift out other races\n",
    "\n",
    "data_multi[data_multi['comment_id'].isin(intersection_as_list)]['label_race'].value_counts()"
   ]
  },
  {
   "cell_type": "code",
   "execution_count": null,
   "metadata": {
    "id": "qBXr65K2zgQF"
   },
   "outputs": [],
   "source": [
    "filter_races = ['asian', 'latino', 'american indian alaska native', 'other race', 'native hawaiian pacific islander', 'middle eastern', 'unknown']"
   ]
  },
  {
   "cell_type": "code",
   "execution_count": null,
   "metadata": {
    "id": "4O7aNyqzyzyG"
   },
   "outputs": [],
   "source": [
    "#df of only black and white labelers\n",
    "df_black_white = data_multi[data_multi['comment_id'].isin(intersection_as_list)]\n",
    "\n",
    "\n",
    "df_black_white = df_black_white[~df_black_white.label_race.isin(filter_races)] "
   ]
  },
  {
   "cell_type": "code",
   "execution_count": null,
   "metadata": {
    "colab": {
     "base_uri": "https://localhost:8080/"
    },
    "id": "_6LS4pAOz7ic",
    "outputId": "7344bbe4-eba2-440b-8c82-076a8445c958"
   },
   "outputs": [
    {
     "data": {
      "text/plain": [
       "white    43127\n",
       "black    10855\n",
       "Name: label_race, dtype: int64"
      ]
     },
     "execution_count": 169,
     "metadata": {
      "tags": []
     },
     "output_type": "execute_result"
    }
   ],
   "source": [
    "#sanity check\n",
    "\n",
    "df_black_white['label_race'].value_counts()"
   ]
  },
  {
   "cell_type": "code",
   "execution_count": null,
   "metadata": {
    "id": "Uf805qOxrj0Q"
   },
   "outputs": [],
   "source": [
    "#average hate speech sum that black and white labelers gave\n",
    "df_black_white.groupby(['comment_id', 'label_race'])['hate_speech_sum'].mean()"
   ]
  },
  {
   "cell_type": "code",
   "execution_count": null,
   "metadata": {
    "colab": {
     "base_uri": "https://localhost:8080/",
     "height": 435
    },
    "id": "N__Nw_vhn7dE",
    "outputId": "0877d849-fb63-47f4-e611-d6d4b8d9175d"
   },
   "outputs": [
    {
     "data": {
      "text/html": [
       "<div>\n",
       "<style scoped>\n",
       "    .dataframe tbody tr th:only-of-type {\n",
       "        vertical-align: middle;\n",
       "    }\n",
       "\n",
       "    .dataframe tbody tr th {\n",
       "        vertical-align: top;\n",
       "    }\n",
       "\n",
       "    .dataframe thead th {\n",
       "        text-align: right;\n",
       "    }\n",
       "</style>\n",
       "<table border=\"1\" class=\"dataframe\">\n",
       "  <thead>\n",
       "    <tr style=\"text-align: right;\">\n",
       "      <th></th>\n",
       "      <th>sentiment</th>\n",
       "      <th>respect</th>\n",
       "      <th>insult</th>\n",
       "      <th>humiliate</th>\n",
       "      <th>status</th>\n",
       "      <th>dehumanize</th>\n",
       "      <th>violence_phys</th>\n",
       "      <th>genocide</th>\n",
       "      <th>attack_defend</th>\n",
       "      <th>hatespeech</th>\n",
       "      <th>comment_id</th>\n",
       "      <th>platform</th>\n",
       "      <th>uid</th>\n",
       "      <th>predict_text</th>\n",
       "      <th>measure</th>\n",
       "      <th>std_err</th>\n",
       "      <th>num_ratings</th>\n",
       "      <th>weight</th>\n",
       "      <th>has_targets</th>\n",
       "      <th>target_identity_count</th>\n",
       "      <th>labeler_id</th>\n",
       "      <th>rater_measure</th>\n",
       "      <th>rater_infitms</th>\n",
       "      <th>rater_outfitms</th>\n",
       "      <th>infitms</th>\n",
       "      <th>outfitms</th>\n",
       "      <th>target_identities_1</th>\n",
       "      <th>target_identities_2</th>\n",
       "      <th>target_identities_3</th>\n",
       "      <th>target_identities_4</th>\n",
       "      <th>target_identities_5</th>\n",
       "      <th>target_identities_6</th>\n",
       "      <th>target_identities_7</th>\n",
       "      <th>target_identities_9</th>\n",
       "      <th>target_black</th>\n",
       "      <th>target_latino</th>\n",
       "      <th>target_asian</th>\n",
       "      <th>target_race_8</th>\n",
       "      <th>target_native american</th>\n",
       "      <th>target_pacific islander</th>\n",
       "      <th>...</th>\n",
       "      <th>target_political_11</th>\n",
       "      <th>target_political_11_text</th>\n",
       "      <th>demo_gender</th>\n",
       "      <th>demo_gender_4_text</th>\n",
       "      <th>demo_trans</th>\n",
       "      <th>demo_educ</th>\n",
       "      <th>demo_american_indian_alaska_native</th>\n",
       "      <th>demo_asian</th>\n",
       "      <th>demo_black</th>\n",
       "      <th>demo_latino</th>\n",
       "      <th>demo_native_hawaiian_pacific_islander</th>\n",
       "      <th>demo_middle_eastern</th>\n",
       "      <th>demo_white</th>\n",
       "      <th>demo_other_race</th>\n",
       "      <th>demo_other_race_text</th>\n",
       "      <th>demo_age</th>\n",
       "      <th>demo_income</th>\n",
       "      <th>demo_religion_1</th>\n",
       "      <th>demo_religion_2</th>\n",
       "      <th>demo_religion_11</th>\n",
       "      <th>demo_religion_4</th>\n",
       "      <th>demo_religion_5</th>\n",
       "      <th>demo_religion_7</th>\n",
       "      <th>demo_religion_8</th>\n",
       "      <th>demo_religion_9</th>\n",
       "      <th>demo_religion_10</th>\n",
       "      <th>demo_religion_10_text</th>\n",
       "      <th>demo_sexual_orien_1</th>\n",
       "      <th>demo_sexual_orien_2</th>\n",
       "      <th>demo_sexual_orien_3</th>\n",
       "      <th>demo_sexual_orien_4</th>\n",
       "      <th>demo_sexual_orien_5</th>\n",
       "      <th>demo_sexual_orien_4_text</th>\n",
       "      <th>demo_ideology</th>\n",
       "      <th>locationlatitude</th>\n",
       "      <th>locationlongitude</th>\n",
       "      <th>identity</th>\n",
       "      <th>hypothesis</th>\n",
       "      <th>hate_speech_sum</th>\n",
       "      <th>label_race</th>\n",
       "    </tr>\n",
       "  </thead>\n",
       "  <tbody>\n",
       "    <tr>\n",
       "      <th>0</th>\n",
       "      <td>0.0</td>\n",
       "      <td>0.0</td>\n",
       "      <td>0.0</td>\n",
       "      <td>0.0</td>\n",
       "      <td>0.0</td>\n",
       "      <td>0.0</td>\n",
       "      <td>0.0</td>\n",
       "      <td>0.0</td>\n",
       "      <td>0.0</td>\n",
       "      <td>0.0</td>\n",
       "      <td>47777</td>\n",
       "      <td>youtube</td>\n",
       "      <td>Ugz2iZCY9nfSWtCyWE14AaABAg</td>\n",
       "      <td>Yes indeed. She sort of reminds me of the elder lady that played the part in the movie \"Titanic\" who was telling her story!!! And I wouldn't have wanted to cover who I really am!! I would be proud!!!! WE should be proud of our race no matter what it is!!</td>\n",
       "      <td>-3.9</td>\n",
       "      <td>0.34</td>\n",
       "      <td>5</td>\n",
       "      <td>0.2</td>\n",
       "      <td>1</td>\n",
       "      <td>1.0</td>\n",
       "      <td>10873</td>\n",
       "      <td>0.36</td>\n",
       "      <td>1.35</td>\n",
       "      <td>1.23</td>\n",
       "      <td>0.81</td>\n",
       "      <td>1.88</td>\n",
       "      <td>1.0</td>\n",
       "      <td>NaN</td>\n",
       "      <td>NaN</td>\n",
       "      <td>NaN</td>\n",
       "      <td>NaN</td>\n",
       "      <td>NaN</td>\n",
       "      <td>NaN</td>\n",
       "      <td>NaN</td>\n",
       "      <td>1.0</td>\n",
       "      <td>1.0</td>\n",
       "      <td>1.0</td>\n",
       "      <td>1.0</td>\n",
       "      <td>1.0</td>\n",
       "      <td>1.0</td>\n",
       "      <td>...</td>\n",
       "      <td>NaN</td>\n",
       "      <td></td>\n",
       "      <td>2.0</td>\n",
       "      <td></td>\n",
       "      <td>2.0</td>\n",
       "      <td>6.0</td>\n",
       "      <td>NaN</td>\n",
       "      <td>NaN</td>\n",
       "      <td>NaN</td>\n",
       "      <td>NaN</td>\n",
       "      <td>NaN</td>\n",
       "      <td>NaN</td>\n",
       "      <td>1.0</td>\n",
       "      <td>NaN</td>\n",
       "      <td></td>\n",
       "      <td>110.0</td>\n",
       "      <td>1.0</td>\n",
       "      <td>NaN</td>\n",
       "      <td>NaN</td>\n",
       "      <td>1.0</td>\n",
       "      <td>NaN</td>\n",
       "      <td>NaN</td>\n",
       "      <td>NaN</td>\n",
       "      <td>NaN</td>\n",
       "      <td>NaN</td>\n",
       "      <td>NaN</td>\n",
       "      <td></td>\n",
       "      <td>1.0</td>\n",
       "      <td>NaN</td>\n",
       "      <td>NaN</td>\n",
       "      <td>NaN</td>\n",
       "      <td>NaN</td>\n",
       "      <td></td>\n",
       "      <td>4.0</td>\n",
       "      <td>37.55029296875</td>\n",
       "      <td>-77.39420318603515625</td>\n",
       "      <td>0.917681</td>\n",
       "      <td>-1.130178</td>\n",
       "      <td>0.0</td>\n",
       "      <td>white</td>\n",
       "    </tr>\n",
       "  </tbody>\n",
       "</table>\n",
       "<p>1 rows × 137 columns</p>\n",
       "</div>"
      ],
      "text/plain": [
       "   sentiment  respect  insult  ...  hypothesis  hate_speech_sum  label_race\n",
       "0        0.0      0.0     0.0  ...   -1.130178              0.0       white\n",
       "\n",
       "[1 rows x 137 columns]"
      ]
     },
     "execution_count": 355,
     "metadata": {
      "tags": []
     },
     "output_type": "execute_result"
    }
   ],
   "source": [
    "df_black_white.head(1)"
   ]
  },
  {
   "cell_type": "code",
   "execution_count": null,
   "metadata": {
    "colab": {
     "base_uri": "https://localhost:8080/"
    },
    "id": "gjIdLGfunpC6",
    "outputId": "fa9fe0ab-5615-40af-98a5-5b6e7e00d1df"
   },
   "outputs": [
    {
     "name": "stdout",
     "output_type": "stream",
     "text": [
      "black hate speech sum spread 40.88295462483207\n",
      "white hate speech sum spread 45.17162833259767\n",
      "black hate speech sum std dev 6.393977996899275\n",
      "white hate speech sum std dev 6.720984178868275\n"
     ]
    }
   ],
   "source": [
    "#spread\n",
    "\n",
    "import statistics\n",
    "\n",
    "black_hate_speech_sum = list(df_black_white[df_black_white['label_race'] == 'black']['hate_speech_sum'])\n",
    "white_hate_speech_sum = list(df_black_white[df_black_white['label_race'] == 'white']['hate_speech_sum'])\n",
    "\n",
    "print('black hate speech sum spread', statistics.variance(black_hate_speech_sum))\n",
    "print('white hate speech sum spread', statistics.variance(white_hate_speech_sum))\n",
    "\n",
    "print('black hate speech sum std dev', statistics.stdev(black_hate_speech_sum))\n",
    "print('white hate speech sum std dev', statistics.stdev(white_hate_speech_sum))\n",
    "\n"
   ]
  },
  {
   "cell_type": "code",
   "execution_count": null,
   "metadata": {},
   "outputs": [],
   "source": [
    "#rather than just doing it on hate speech sum, for every item in the construct write a for loop that calculates the statistical signifiance of the differences you see\n",
    "\n",
    "\n"
   ]
  },
  {
   "cell_type": "code",
   "execution_count": null,
   "metadata": {
    "id": "oqz2KnuZ5NhL"
   },
   "outputs": [],
   "source": [
    "#turning the value counts into a df\n",
    "df_black_white_mean = pd.DataFrame(df_black_white.groupby(['comment_id', 'label_race'])['hate_speech_sum'].mean())"
   ]
  },
  {
   "cell_type": "code",
   "execution_count": null,
   "metadata": {
    "colab": {
     "base_uri": "https://localhost:8080/",
     "height": 419
    },
    "id": "e1RHtbrD6J95",
    "outputId": "f02c1f90-a5e1-4b21-a182-6edb83b9dae9"
   },
   "outputs": [
    {
     "data": {
      "text/html": [
       "<div>\n",
       "<style scoped>\n",
       "    .dataframe tbody tr th:only-of-type {\n",
       "        vertical-align: middle;\n",
       "    }\n",
       "\n",
       "    .dataframe tbody tr th {\n",
       "        vertical-align: top;\n",
       "    }\n",
       "\n",
       "    .dataframe thead th {\n",
       "        text-align: right;\n",
       "    }\n",
       "</style>\n",
       "<table border=\"1\" class=\"dataframe\">\n",
       "  <thead>\n",
       "    <tr style=\"text-align: right;\">\n",
       "      <th></th>\n",
       "      <th>comment_id</th>\n",
       "      <th>label_race</th>\n",
       "      <th>mean_hate_speech_sum</th>\n",
       "    </tr>\n",
       "  </thead>\n",
       "  <tbody>\n",
       "    <tr>\n",
       "      <th>0</th>\n",
       "      <td>23</td>\n",
       "      <td>black</td>\n",
       "      <td>20.000000</td>\n",
       "    </tr>\n",
       "    <tr>\n",
       "      <th>1</th>\n",
       "      <td>23</td>\n",
       "      <td>white</td>\n",
       "      <td>19.000000</td>\n",
       "    </tr>\n",
       "    <tr>\n",
       "      <th>2</th>\n",
       "      <td>26</td>\n",
       "      <td>black</td>\n",
       "      <td>5.000000</td>\n",
       "    </tr>\n",
       "    <tr>\n",
       "      <th>3</th>\n",
       "      <td>26</td>\n",
       "      <td>white</td>\n",
       "      <td>17.000000</td>\n",
       "    </tr>\n",
       "    <tr>\n",
       "      <th>4</th>\n",
       "      <td>29</td>\n",
       "      <td>black</td>\n",
       "      <td>13.000000</td>\n",
       "    </tr>\n",
       "    <tr>\n",
       "      <th>...</th>\n",
       "      <td>...</td>\n",
       "      <td>...</td>\n",
       "      <td>...</td>\n",
       "    </tr>\n",
       "    <tr>\n",
       "      <th>12871</th>\n",
       "      <td>50061</td>\n",
       "      <td>white</td>\n",
       "      <td>13.000000</td>\n",
       "    </tr>\n",
       "    <tr>\n",
       "      <th>12872</th>\n",
       "      <td>50062</td>\n",
       "      <td>black</td>\n",
       "      <td>7.500000</td>\n",
       "    </tr>\n",
       "    <tr>\n",
       "      <th>12873</th>\n",
       "      <td>50062</td>\n",
       "      <td>white</td>\n",
       "      <td>6.000000</td>\n",
       "    </tr>\n",
       "    <tr>\n",
       "      <th>12874</th>\n",
       "      <td>50066</td>\n",
       "      <td>black</td>\n",
       "      <td>12.000000</td>\n",
       "    </tr>\n",
       "    <tr>\n",
       "      <th>12875</th>\n",
       "      <td>50066</td>\n",
       "      <td>white</td>\n",
       "      <td>19.333333</td>\n",
       "    </tr>\n",
       "  </tbody>\n",
       "</table>\n",
       "<p>12876 rows × 3 columns</p>\n",
       "</div>"
      ],
      "text/plain": [
       "       comment_id label_race  mean_hate_speech_sum\n",
       "0              23      black             20.000000\n",
       "1              23      white             19.000000\n",
       "2              26      black              5.000000\n",
       "3              26      white             17.000000\n",
       "4              29      black             13.000000\n",
       "...           ...        ...                   ...\n",
       "12871       50061      white             13.000000\n",
       "12872       50062      black              7.500000\n",
       "12873       50062      white              6.000000\n",
       "12874       50066      black             12.000000\n",
       "12875       50066      white             19.333333\n",
       "\n",
       "[12876 rows x 3 columns]"
      ]
     },
     "execution_count": 215,
     "metadata": {
      "tags": []
     },
     "output_type": "execute_result"
    }
   ],
   "source": [
    "#turning value counts into df\n",
    "\n",
    "df_black_white_mean = df_black_white.groupby(['comment_id', 'label_race'])['hate_speech_sum'].mean().to_frame('mean_hate_speech_sum').reset_index()\n",
    "\n",
    "df_black_white_mean"
   ]
  },
  {
   "cell_type": "code",
   "execution_count": null,
   "metadata": {
    "id": "7P5V0RXyrbz7"
   },
   "outputs": [],
   "source": [
    "from scipy import stats\n",
    "\n",
    "\n",
    "#turning mean values to array for black\n",
    "\n",
    "mean_hate_sum_col_black = df_black_white_mean[df_black_white_mean['label_race'] == 'black']\n",
    "array_black = mean_hate_sum_col.values\n",
    "\n",
    "#turning mean values to array for white\n",
    "mean_hate_sum_col_black = df_black_white_mean[df_black_white_mean['label_race'] == 'white']\n",
    "array_white = mean_hate_sum_col.values\n",
    "\n"
   ]
  },
  {
   "cell_type": "code",
   "execution_count": null,
   "metadata": {
    "colab": {
     "base_uri": "https://localhost:8080/"
    },
    "id": "mV56UcxJwHe_",
    "outputId": "27a4f39d-8ebe-47c4-ac71-2ce02946ecba"
   },
   "outputs": [
    {
     "data": {
      "text/plain": [
       "Ttest_indResult(statistic=0.0, pvalue=1.0)"
      ]
     },
     "execution_count": 369,
     "metadata": {
      "tags": []
     },
     "output_type": "execute_result"
    }
   ],
   "source": [
    "#using t test here\n",
    "\n",
    "from scipy import stats\n",
    "\n",
    "stats.ttest_ind(array_black, array_white)"
   ]
  },
  {
   "cell_type": "code",
   "execution_count": null,
   "metadata": {
    "colab": {
     "base_uri": "https://localhost:8080/"
    },
    "id": "atvVzGmDw4uA",
    "outputId": "37a6e0de-a579-448d-a133-a535239a85ed"
   },
   "outputs": [
    {
     "data": {
      "text/plain": [
       "Ttest_indResult(statistic=-11.139073428082693, pvalue=1.1385110450783224e-28)"
      ]
     },
     "execution_count": 372,
     "metadata": {
      "tags": []
     },
     "output_type": "execute_result"
    }
   ],
   "source": [
    "#try t-test on df where target is black and labelers are black and white\n",
    "\n",
    "df_black_target_labelers_both = df_black_white[df_black_white['target_black'] == 1]\n",
    "\n",
    "#t-test here\n",
    "black_labelers_black_target = df_black_target_labelers_both[df_black_target_labelers_both['label_race'] == 'black']['hate_speech_sum']\n",
    "\n",
    "white_labelers_black_target = df_black_target_labelers_both[df_black_target_labelers_both['label_race'] == 'white']['hate_speech_sum']\n",
    "\n",
    "stats.ttest_ind(black_labelers_black_target, white_labelers_black_target)"
   ]
  },
  {
   "cell_type": "code",
   "execution_count": null,
   "metadata": {
    "id": "viJAeKhQ9NTn"
   },
   "outputs": [],
   "source": [
    "#fiding differences between white and black labelers in hate speech sum \n",
    "diff_values = {}\n",
    "for cid in np.unique(df_black_white_mean['comment_id']): #i think npunique means we only do it once\n",
    "  this_df = df_black_white_mean[df_black_white_mean['comment_id'] == cid]\n",
    "  this_black_val = int(this_df[this_df['label_race'] == 'black']['mean_hate_speech_sum'])\n",
    "  this_white_val = int(this_df[this_df['label_race'] == 'white']['mean_hate_speech_sum'])\n",
    "  this_diff = this_black_val - this_white_val\n",
    "  diff_values[cid] = this_diff\n",
    "  # print(cid, this_diff)\n",
    "\n"
   ]
  },
  {
   "cell_type": "code",
   "execution_count": null,
   "metadata": {
    "id": "zGsARAQ0Aqjy"
   },
   "outputs": [],
   "source": [
    "df_diff_values = pd.DataFrame.from_dict(diff_values, orient='index')"
   ]
  },
  {
   "cell_type": "code",
   "execution_count": null,
   "metadata": {
    "id": "iWiR57a1BGPP"
   },
   "outputs": [],
   "source": [
    "df_diff_values.rename(columns={0: 'difference_black_white'}, inplace=True)"
   ]
  },
  {
   "cell_type": "code",
   "execution_count": null,
   "metadata": {
    "id": "UH_MG6j7CV5B"
   },
   "outputs": [],
   "source": [
    "df_diff_values.reset_index(inplace=True)"
   ]
  },
  {
   "cell_type": "code",
   "execution_count": null,
   "metadata": {
    "id": "csVp-o9iCurz"
   },
   "outputs": [],
   "source": [
    "df_diff_values.rename(columns={'index': 'comment_id'}, inplace=True)"
   ]
  },
  {
   "cell_type": "code",
   "execution_count": null,
   "metadata": {
    "colab": {
     "base_uri": "https://localhost:8080/",
     "height": 419
    },
    "id": "ahpL5G_5BQpB",
    "outputId": "c5b599a0-3b2c-4afc-dd7c-59e45e499b6f"
   },
   "outputs": [
    {
     "data": {
      "text/html": [
       "<div>\n",
       "<style scoped>\n",
       "    .dataframe tbody tr th:only-of-type {\n",
       "        vertical-align: middle;\n",
       "    }\n",
       "\n",
       "    .dataframe tbody tr th {\n",
       "        vertical-align: top;\n",
       "    }\n",
       "\n",
       "    .dataframe thead th {\n",
       "        text-align: right;\n",
       "    }\n",
       "</style>\n",
       "<table border=\"1\" class=\"dataframe\">\n",
       "  <thead>\n",
       "    <tr style=\"text-align: right;\">\n",
       "      <th></th>\n",
       "      <th>comment_id</th>\n",
       "      <th>difference_black_white</th>\n",
       "    </tr>\n",
       "  </thead>\n",
       "  <tbody>\n",
       "    <tr>\n",
       "      <th>2136</th>\n",
       "      <td>16566</td>\n",
       "      <td>-16</td>\n",
       "    </tr>\n",
       "    <tr>\n",
       "      <th>5747</th>\n",
       "      <td>45062</td>\n",
       "      <td>-15</td>\n",
       "    </tr>\n",
       "    <tr>\n",
       "      <th>5327</th>\n",
       "      <td>42166</td>\n",
       "      <td>-14</td>\n",
       "    </tr>\n",
       "    <tr>\n",
       "      <th>4019</th>\n",
       "      <td>31339</td>\n",
       "      <td>-14</td>\n",
       "    </tr>\n",
       "    <tr>\n",
       "      <th>3656</th>\n",
       "      <td>28247</td>\n",
       "      <td>-14</td>\n",
       "    </tr>\n",
       "    <tr>\n",
       "      <th>...</th>\n",
       "      <td>...</td>\n",
       "      <td>...</td>\n",
       "    </tr>\n",
       "    <tr>\n",
       "      <th>6225</th>\n",
       "      <td>48509</td>\n",
       "      <td>14</td>\n",
       "    </tr>\n",
       "    <tr>\n",
       "      <th>5915</th>\n",
       "      <td>46335</td>\n",
       "      <td>15</td>\n",
       "    </tr>\n",
       "    <tr>\n",
       "      <th>3556</th>\n",
       "      <td>27429</td>\n",
       "      <td>15</td>\n",
       "    </tr>\n",
       "    <tr>\n",
       "      <th>5899</th>\n",
       "      <td>46188</td>\n",
       "      <td>16</td>\n",
       "    </tr>\n",
       "    <tr>\n",
       "      <th>918</th>\n",
       "      <td>6768</td>\n",
       "      <td>17</td>\n",
       "    </tr>\n",
       "  </tbody>\n",
       "</table>\n",
       "<p>6438 rows × 2 columns</p>\n",
       "</div>"
      ],
      "text/plain": [
       "      comment_id  difference_black_white\n",
       "2136       16566                     -16\n",
       "5747       45062                     -15\n",
       "5327       42166                     -14\n",
       "4019       31339                     -14\n",
       "3656       28247                     -14\n",
       "...          ...                     ...\n",
       "6225       48509                      14\n",
       "5915       46335                      15\n",
       "3556       27429                      15\n",
       "5899       46188                      16\n",
       "918         6768                      17\n",
       "\n",
       "[6438 rows x 2 columns]"
      ]
     },
     "execution_count": 245,
     "metadata": {
      "tags": []
     },
     "output_type": "execute_result"
    }
   ],
   "source": [
    "df_diff_values.sort_values(by=['difference_black_white'])\n",
    "\n",
    "#when it's negative it means that black raters gave a lower value than white labelers on average\n",
    "#when it's positive it means black raters gave a higher value than white labelers on average"
   ]
  },
  {
   "cell_type": "code",
   "execution_count": null,
   "metadata": {
    "id": "pqvcZOPvEco0"
   },
   "outputs": [],
   "source": [
    "df_black_higher = df_diff_values[df_diff_values['difference_black_white'] >=1]\n",
    "\n",
    "black_higher_list = df_black_higher['comment_id'].tolist()\n",
    "\n",
    "# black_higher_list"
   ]
  },
  {
   "cell_type": "code",
   "execution_count": null,
   "metadata": {
    "colab": {
     "base_uri": "https://localhost:8080/",
     "height": 259
    },
    "id": "gOAnbl_MCJGO",
    "outputId": "0ee4b195-0d13-4726-c0aa-f4c9c5967e22"
   },
   "outputs": [
    {
     "data": {
      "text/html": [
       "<div>\n",
       "<style scoped>\n",
       "    .dataframe tbody tr th:only-of-type {\n",
       "        vertical-align: middle;\n",
       "    }\n",
       "\n",
       "    .dataframe tbody tr th {\n",
       "        vertical-align: top;\n",
       "    }\n",
       "\n",
       "    .dataframe thead th {\n",
       "        text-align: right;\n",
       "    }\n",
       "</style>\n",
       "<table border=\"1\" class=\"dataframe\">\n",
       "  <thead>\n",
       "    <tr style=\"text-align: right;\">\n",
       "      <th></th>\n",
       "      <th>sentiment</th>\n",
       "      <th>respect</th>\n",
       "      <th>insult</th>\n",
       "      <th>humiliate</th>\n",
       "      <th>status</th>\n",
       "      <th>dehumanize</th>\n",
       "      <th>violence_phys</th>\n",
       "      <th>genocide</th>\n",
       "      <th>attack_defend</th>\n",
       "      <th>hatespeech</th>\n",
       "      <th>comment_id</th>\n",
       "      <th>platform</th>\n",
       "      <th>uid</th>\n",
       "      <th>predict_text</th>\n",
       "      <th>measure</th>\n",
       "      <th>std_err</th>\n",
       "      <th>num_ratings</th>\n",
       "      <th>weight</th>\n",
       "      <th>has_targets</th>\n",
       "      <th>target_identity_count</th>\n",
       "      <th>labeler_id</th>\n",
       "      <th>rater_measure</th>\n",
       "      <th>rater_infitms</th>\n",
       "      <th>rater_outfitms</th>\n",
       "      <th>infitms</th>\n",
       "      <th>outfitms</th>\n",
       "      <th>target_identities_1</th>\n",
       "      <th>target_identities_2</th>\n",
       "      <th>target_identities_3</th>\n",
       "      <th>target_identities_4</th>\n",
       "      <th>target_identities_5</th>\n",
       "      <th>target_identities_6</th>\n",
       "      <th>target_identities_7</th>\n",
       "      <th>target_identities_9</th>\n",
       "      <th>target_black</th>\n",
       "      <th>target_latino</th>\n",
       "      <th>target_asian</th>\n",
       "      <th>target_race_8</th>\n",
       "      <th>target_native american</th>\n",
       "      <th>target_pacific islander</th>\n",
       "      <th>...</th>\n",
       "      <th>target_political_11</th>\n",
       "      <th>target_political_11_text</th>\n",
       "      <th>demo_gender</th>\n",
       "      <th>demo_gender_4_text</th>\n",
       "      <th>demo_trans</th>\n",
       "      <th>demo_educ</th>\n",
       "      <th>demo_american_indian_alaska_native</th>\n",
       "      <th>demo_asian</th>\n",
       "      <th>demo_black</th>\n",
       "      <th>demo_latino</th>\n",
       "      <th>demo_native_hawaiian_pacific_islander</th>\n",
       "      <th>demo_middle_eastern</th>\n",
       "      <th>demo_white</th>\n",
       "      <th>demo_other_race</th>\n",
       "      <th>demo_other_race_text</th>\n",
       "      <th>demo_age</th>\n",
       "      <th>demo_income</th>\n",
       "      <th>demo_religion_1</th>\n",
       "      <th>demo_religion_2</th>\n",
       "      <th>demo_religion_11</th>\n",
       "      <th>demo_religion_4</th>\n",
       "      <th>demo_religion_5</th>\n",
       "      <th>demo_religion_7</th>\n",
       "      <th>demo_religion_8</th>\n",
       "      <th>demo_religion_9</th>\n",
       "      <th>demo_religion_10</th>\n",
       "      <th>demo_religion_10_text</th>\n",
       "      <th>demo_sexual_orien_1</th>\n",
       "      <th>demo_sexual_orien_2</th>\n",
       "      <th>demo_sexual_orien_3</th>\n",
       "      <th>demo_sexual_orien_4</th>\n",
       "      <th>demo_sexual_orien_5</th>\n",
       "      <th>demo_sexual_orien_4_text</th>\n",
       "      <th>demo_ideology</th>\n",
       "      <th>locationlatitude</th>\n",
       "      <th>locationlongitude</th>\n",
       "      <th>identity</th>\n",
       "      <th>hypothesis</th>\n",
       "      <th>hate_speech_sum</th>\n",
       "      <th>label_race</th>\n",
       "    </tr>\n",
       "  </thead>\n",
       "  <tbody>\n",
       "    <tr>\n",
       "      <th>11881</th>\n",
       "      <td>2.0</td>\n",
       "      <td>2.0</td>\n",
       "      <td>1.0</td>\n",
       "      <td>0.0</td>\n",
       "      <td>0.0</td>\n",
       "      <td>0.0</td>\n",
       "      <td>0.0</td>\n",
       "      <td>0.0</td>\n",
       "      <td>1.0</td>\n",
       "      <td>0.0</td>\n",
       "      <td>6788</td>\n",
       "      <td>reddit</td>\n",
       "      <td>eq6tth9</td>\n",
       "      <td>That's mentally ill.</td>\n",
       "      <td>-0.49</td>\n",
       "      <td>0.34</td>\n",
       "      <td>3</td>\n",
       "      <td>0.333333</td>\n",
       "      <td>1</td>\n",
       "      <td>1.0</td>\n",
       "      <td>3671</td>\n",
       "      <td>0.51</td>\n",
       "      <td>1.23</td>\n",
       "      <td>2.18</td>\n",
       "      <td>0.83</td>\n",
       "      <td>0.69</td>\n",
       "      <td>NaN</td>\n",
       "      <td>NaN</td>\n",
       "      <td>NaN</td>\n",
       "      <td>NaN</td>\n",
       "      <td>NaN</td>\n",
       "      <td>NaN</td>\n",
       "      <td>1.0</td>\n",
       "      <td>NaN</td>\n",
       "      <td>NaN</td>\n",
       "      <td>NaN</td>\n",
       "      <td>NaN</td>\n",
       "      <td>NaN</td>\n",
       "      <td>NaN</td>\n",
       "      <td>NaN</td>\n",
       "      <td>...</td>\n",
       "      <td>NaN</td>\n",
       "      <td></td>\n",
       "      <td>2.0</td>\n",
       "      <td></td>\n",
       "      <td>2.0</td>\n",
       "      <td>6.0</td>\n",
       "      <td>NaN</td>\n",
       "      <td>NaN</td>\n",
       "      <td>NaN</td>\n",
       "      <td>NaN</td>\n",
       "      <td>NaN</td>\n",
       "      <td>NaN</td>\n",
       "      <td>1.0</td>\n",
       "      <td>NaN</td>\n",
       "      <td></td>\n",
       "      <td>123.0</td>\n",
       "      <td>3.0</td>\n",
       "      <td>NaN</td>\n",
       "      <td>NaN</td>\n",
       "      <td>1.0</td>\n",
       "      <td>NaN</td>\n",
       "      <td>NaN</td>\n",
       "      <td>NaN</td>\n",
       "      <td>NaN</td>\n",
       "      <td>NaN</td>\n",
       "      <td>NaN</td>\n",
       "      <td></td>\n",
       "      <td>1.0</td>\n",
       "      <td>NaN</td>\n",
       "      <td>NaN</td>\n",
       "      <td>NaN</td>\n",
       "      <td>NaN</td>\n",
       "      <td></td>\n",
       "      <td>4.0</td>\n",
       "      <td>28.999298095703125</td>\n",
       "      <td>-81.50299835205078125</td>\n",
       "      <td>0.889122</td>\n",
       "      <td>-0.188702</td>\n",
       "      <td>6.0</td>\n",
       "      <td>white</td>\n",
       "    </tr>\n",
       "    <tr>\n",
       "      <th>32381</th>\n",
       "      <td>4.0</td>\n",
       "      <td>4.0</td>\n",
       "      <td>2.0</td>\n",
       "      <td>2.0</td>\n",
       "      <td>1.0</td>\n",
       "      <td>1.0</td>\n",
       "      <td>0.0</td>\n",
       "      <td>0.0</td>\n",
       "      <td>2.0</td>\n",
       "      <td>0.0</td>\n",
       "      <td>6788</td>\n",
       "      <td>reddit</td>\n",
       "      <td>eq6tth9</td>\n",
       "      <td>That's mentally ill.</td>\n",
       "      <td>-0.49</td>\n",
       "      <td>0.34</td>\n",
       "      <td>3</td>\n",
       "      <td>0.333333</td>\n",
       "      <td>1</td>\n",
       "      <td>1.0</td>\n",
       "      <td>2251</td>\n",
       "      <td>-0.42</td>\n",
       "      <td>1.16</td>\n",
       "      <td>1.48</td>\n",
       "      <td>0.83</td>\n",
       "      <td>0.69</td>\n",
       "      <td>NaN</td>\n",
       "      <td>NaN</td>\n",
       "      <td>NaN</td>\n",
       "      <td>NaN</td>\n",
       "      <td>NaN</td>\n",
       "      <td>NaN</td>\n",
       "      <td>1.0</td>\n",
       "      <td>NaN</td>\n",
       "      <td>NaN</td>\n",
       "      <td>NaN</td>\n",
       "      <td>NaN</td>\n",
       "      <td>NaN</td>\n",
       "      <td>NaN</td>\n",
       "      <td>NaN</td>\n",
       "      <td>...</td>\n",
       "      <td>NaN</td>\n",
       "      <td></td>\n",
       "      <td>2.0</td>\n",
       "      <td></td>\n",
       "      <td>2.0</td>\n",
       "      <td>6.0</td>\n",
       "      <td>NaN</td>\n",
       "      <td>1.0</td>\n",
       "      <td>NaN</td>\n",
       "      <td>NaN</td>\n",
       "      <td>NaN</td>\n",
       "      <td>NaN</td>\n",
       "      <td>1.0</td>\n",
       "      <td>NaN</td>\n",
       "      <td></td>\n",
       "      <td>107.0</td>\n",
       "      <td>4.0</td>\n",
       "      <td>NaN</td>\n",
       "      <td>NaN</td>\n",
       "      <td>1.0</td>\n",
       "      <td>NaN</td>\n",
       "      <td>NaN</td>\n",
       "      <td>NaN</td>\n",
       "      <td>NaN</td>\n",
       "      <td>NaN</td>\n",
       "      <td>NaN</td>\n",
       "      <td></td>\n",
       "      <td>1.0</td>\n",
       "      <td>NaN</td>\n",
       "      <td>NaN</td>\n",
       "      <td>NaN</td>\n",
       "      <td>NaN</td>\n",
       "      <td></td>\n",
       "      <td>4.0</td>\n",
       "      <td>32.7787017822265625</td>\n",
       "      <td>-96.8217010498046875</td>\n",
       "      <td>0.889122</td>\n",
       "      <td>-0.188702</td>\n",
       "      <td>16.0</td>\n",
       "      <td>asian</td>\n",
       "    </tr>\n",
       "    <tr>\n",
       "      <th>82527</th>\n",
       "      <td>3.0</td>\n",
       "      <td>3.0</td>\n",
       "      <td>2.0</td>\n",
       "      <td>1.0</td>\n",
       "      <td>1.0</td>\n",
       "      <td>1.0</td>\n",
       "      <td>0.0</td>\n",
       "      <td>0.0</td>\n",
       "      <td>2.0</td>\n",
       "      <td>0.0</td>\n",
       "      <td>6788</td>\n",
       "      <td>reddit</td>\n",
       "      <td>eq6tth9</td>\n",
       "      <td>That's mentally ill.</td>\n",
       "      <td>-0.49</td>\n",
       "      <td>0.34</td>\n",
       "      <td>3</td>\n",
       "      <td>0.333333</td>\n",
       "      <td>1</td>\n",
       "      <td>1.0</td>\n",
       "      <td>7989</td>\n",
       "      <td>-0.08</td>\n",
       "      <td>0.93</td>\n",
       "      <td>0.70</td>\n",
       "      <td>0.83</td>\n",
       "      <td>0.69</td>\n",
       "      <td>NaN</td>\n",
       "      <td>NaN</td>\n",
       "      <td>NaN</td>\n",
       "      <td>NaN</td>\n",
       "      <td>NaN</td>\n",
       "      <td>NaN</td>\n",
       "      <td>1.0</td>\n",
       "      <td>NaN</td>\n",
       "      <td>NaN</td>\n",
       "      <td>NaN</td>\n",
       "      <td>NaN</td>\n",
       "      <td>NaN</td>\n",
       "      <td>NaN</td>\n",
       "      <td>NaN</td>\n",
       "      <td>...</td>\n",
       "      <td>NaN</td>\n",
       "      <td></td>\n",
       "      <td>2.0</td>\n",
       "      <td></td>\n",
       "      <td>2.0</td>\n",
       "      <td>6.0</td>\n",
       "      <td>NaN</td>\n",
       "      <td>NaN</td>\n",
       "      <td>NaN</td>\n",
       "      <td>NaN</td>\n",
       "      <td>NaN</td>\n",
       "      <td>NaN</td>\n",
       "      <td>1.0</td>\n",
       "      <td>NaN</td>\n",
       "      <td></td>\n",
       "      <td>113.0</td>\n",
       "      <td>3.0</td>\n",
       "      <td>NaN</td>\n",
       "      <td>NaN</td>\n",
       "      <td>NaN</td>\n",
       "      <td>NaN</td>\n",
       "      <td>NaN</td>\n",
       "      <td>NaN</td>\n",
       "      <td>NaN</td>\n",
       "      <td>1.0</td>\n",
       "      <td>NaN</td>\n",
       "      <td></td>\n",
       "      <td>NaN</td>\n",
       "      <td>1.0</td>\n",
       "      <td>NaN</td>\n",
       "      <td>NaN</td>\n",
       "      <td>NaN</td>\n",
       "      <td></td>\n",
       "      <td>1.0</td>\n",
       "      <td>42.32470703125</td>\n",
       "      <td>-87.8563995361328125</td>\n",
       "      <td>0.889122</td>\n",
       "      <td>-0.188702</td>\n",
       "      <td>13.0</td>\n",
       "      <td>white</td>\n",
       "    </tr>\n",
       "  </tbody>\n",
       "</table>\n",
       "<p>3 rows × 137 columns</p>\n",
       "</div>"
      ],
      "text/plain": [
       "       sentiment  respect  insult  ...  hypothesis  hate_speech_sum  label_race\n",
       "11881        2.0      2.0     1.0  ...   -0.188702              6.0       white\n",
       "32381        4.0      4.0     2.0  ...   -0.188702             16.0       asian\n",
       "82527        3.0      3.0     2.0  ...   -0.188702             13.0       white\n",
       "\n",
       "[3 rows x 137 columns]"
      ]
     },
     "execution_count": 247,
     "metadata": {
      "tags": []
     },
     "output_type": "execute_result"
    }
   ],
   "source": [
    "data_multi[data_multi['comment_id'] == 6788]"
   ]
  },
  {
   "cell_type": "code",
   "execution_count": null,
   "metadata": {
    "id": "8MZ95GBQDkrB"
   },
   "outputs": [],
   "source": [
    "#sort data multi by these comment_ids that are positive\n",
    "\n",
    "df_black_higher_full = data_multi[data_multi['comment_id'].isin(black_higher_list)]\n",
    "\n"
   ]
  },
  {
   "cell_type": "code",
   "execution_count": null,
   "metadata": {
    "colab": {
     "base_uri": "https://localhost:8080/"
    },
    "id": "vsJo7vSxGE9N",
    "outputId": "f43e3702-9f0b-4b11-b4a3-f426a5534295"
   },
   "outputs": [
    {
     "data": {
      "text/plain": [
       "array(['sentiment', 'respect', 'insult', 'humiliate', 'status',\n",
       "       'dehumanize', 'violence_phys', 'genocide', 'attack_defend',\n",
       "       'hatespeech', 'comment_id', 'platform', 'uid', 'predict_text',\n",
       "       'measure', 'std_err', 'num_ratings', 'weight', 'has_targets',\n",
       "       'target_identity_count', 'labeler_id', 'rater_measure',\n",
       "       'rater_infitms', 'rater_outfitms', 'infitms', 'outfitms',\n",
       "       'target_identities_1', 'target_identities_2',\n",
       "       'target_identities_3', 'target_identities_4',\n",
       "       'target_identities_5', 'target_identities_6',\n",
       "       'target_identities_7', 'target_identities_9', 'target_black',\n",
       "       'target_latino', 'target_asian', 'target_race_8',\n",
       "       'target_native american', 'target_pacific islander',\n",
       "       'target_white', 'target_other_race', 'target_other_race_text',\n",
       "       'target_religion_1', 'target_religion_2', 'target_religion_4',\n",
       "       'target_religion_5', 'target_religion_8', 'target_religion_9',\n",
       "       'target_religion_10', 'target_religion_6',\n",
       "       'target_religion_6_text', 'target_citizen_5', 'target_citizen_1',\n",
       "       'target_citizen_2', 'target_citizen_3', 'target_citizen_4',\n",
       "       'target_citizen_4_text', 'target_gender_1', 'target_gender_3',\n",
       "       'target_gender_2', 'target_gender_5', 'target_gender_6',\n",
       "       'target_gender_7', 'target_gender_4', 'target_gender_4_text',\n",
       "       'target_sexuality_1', 'target_sexuality_2', 'target_sexuality_6',\n",
       "       'target_sexuality_3', 'target_sexuality_5',\n",
       "       'target_sexuality_5_text', 'target_age_1', 'target_age_2',\n",
       "       'target_age_3', 'target_age_4', 'target_age_5', 'target_age_6',\n",
       "       'target_age_6_text', 'target_disability_1', 'target_disability_2',\n",
       "       'target_disability_3', 'target_disability_4',\n",
       "       'target_disability_5', 'target_disability_9',\n",
       "       'target_disability_6', 'target_disability_6_text',\n",
       "       'target_political_1', 'target_political_2', 'target_political_3',\n",
       "       'target_political_4', 'target_political_5', 'target_political_6',\n",
       "       'target_political_7', 'target_political_8', 'target_political_9',\n",
       "       'target_political_10', 'target_political_11',\n",
       "       'target_political_11_text', 'demo_gender', 'demo_gender_4_text',\n",
       "       'demo_trans', 'demo_educ', 'demo_american_indian_alaska_native',\n",
       "       'demo_asian', 'demo_black', 'demo_latino',\n",
       "       'demo_native_hawaiian_pacific_islander', 'demo_middle_eastern',\n",
       "       'demo_white', 'demo_other_race', 'demo_other_race_text',\n",
       "       'demo_age', 'demo_income', 'demo_religion_1', 'demo_religion_2',\n",
       "       'demo_religion_11', 'demo_religion_4', 'demo_religion_5',\n",
       "       'demo_religion_7', 'demo_religion_8', 'demo_religion_9',\n",
       "       'demo_religion_10', 'demo_religion_10_text', 'demo_sexual_orien_1',\n",
       "       'demo_sexual_orien_2', 'demo_sexual_orien_3',\n",
       "       'demo_sexual_orien_4', 'demo_sexual_orien_5',\n",
       "       'demo_sexual_orien_4_text', 'demo_ideology', 'locationlatitude',\n",
       "       'locationlongitude', 'identity', 'hypothesis', 'hate_speech_sum',\n",
       "       'label_race'], dtype=object)"
      ]
     },
     "execution_count": 268,
     "metadata": {
      "tags": []
     },
     "output_type": "execute_result"
    }
   ],
   "source": [
    "df_black_higher_full.columns.values"
   ]
  },
  {
   "cell_type": "code",
   "execution_count": null,
   "metadata": {
    "colab": {
     "base_uri": "https://localhost:8080/",
     "height": 111
    },
    "id": "6fDfViq2HcYO",
    "outputId": "175f4819-9c20-48d8-99cc-96b06d865a67"
   },
   "outputs": [
    {
     "data": {
      "text/html": [
       "<div>\n",
       "<style scoped>\n",
       "    .dataframe tbody tr th:only-of-type {\n",
       "        vertical-align: middle;\n",
       "    }\n",
       "\n",
       "    .dataframe tbody tr th {\n",
       "        vertical-align: top;\n",
       "    }\n",
       "\n",
       "    .dataframe thead th {\n",
       "        text-align: right;\n",
       "    }\n",
       "</style>\n",
       "<table border=\"1\" class=\"dataframe\">\n",
       "  <thead>\n",
       "    <tr style=\"text-align: right;\">\n",
       "      <th></th>\n",
       "      <th>predict_text</th>\n",
       "      <th>hate_speech_sum</th>\n",
       "      <th>label_race</th>\n",
       "    </tr>\n",
       "  </thead>\n",
       "  <tbody>\n",
       "    <tr>\n",
       "      <th>12970</th>\n",
       "      <td>Women, I f with this. Mah asian brethren standup and vibe with the waves</td>\n",
       "      <td>19.0</td>\n",
       "      <td>black</td>\n",
       "    </tr>\n",
       "    <tr>\n",
       "      <th>58168</th>\n",
       "      <td>Women, I f with this. Mah asian brethren standup and vibe with the waves</td>\n",
       "      <td>5.0</td>\n",
       "      <td>white</td>\n",
       "    </tr>\n",
       "  </tbody>\n",
       "</table>\n",
       "</div>"
      ],
      "text/plain": [
       "                                                                   predict_text  ...  label_race\n",
       "12970  Women, I f with this. Mah asian brethren standup and vibe with the waves  ...       black\n",
       "58168  Women, I f with this. Mah asian brethren standup and vibe with the waves  ...       white\n",
       "\n",
       "[2 rows x 3 columns]"
      ]
     },
     "execution_count": 293,
     "metadata": {
      "tags": []
     },
     "output_type": "execute_result"
    }
   ],
   "source": [
    "pd.set_option('display.max_colwidth', None)\n",
    "#top five differences in these comment ids\n",
    "# 48509\t14\n",
    "# 46335\t15\n",
    "# 27429\t15\n",
    "# 46188\t16\n",
    "# 6768 17\n",
    "\n",
    "df_black_higher_full[df_black_higher_full['comment_id'] == 48509][['predict_text', 'hate_speech_sum', 'label_race']]"
   ]
  },
  {
   "cell_type": "code",
   "execution_count": null,
   "metadata": {
    "colab": {
     "base_uri": "https://localhost:8080/",
     "height": 193
    },
    "id": "9Bq-u12CMBs1",
    "outputId": "f47e8229-f5f5-4fee-feec-3b42abab4f48"
   },
   "outputs": [
    {
     "data": {
      "text/html": [
       "<div>\n",
       "<style scoped>\n",
       "    .dataframe tbody tr th:only-of-type {\n",
       "        vertical-align: middle;\n",
       "    }\n",
       "\n",
       "    .dataframe tbody tr th {\n",
       "        vertical-align: top;\n",
       "    }\n",
       "\n",
       "    .dataframe thead th {\n",
       "        text-align: right;\n",
       "    }\n",
       "</style>\n",
       "<table border=\"1\" class=\"dataframe\">\n",
       "  <thead>\n",
       "    <tr style=\"text-align: right;\">\n",
       "      <th></th>\n",
       "      <th>predict_text</th>\n",
       "      <th>hate_speech_sum</th>\n",
       "      <th>label_race</th>\n",
       "    </tr>\n",
       "  </thead>\n",
       "  <tbody>\n",
       "    <tr>\n",
       "      <th>10460</th>\n",
       "      <td>As a fellow big-tiddied woman, and as a bisexual, I can assure you. It's fucking great.</td>\n",
       "      <td>1.0</td>\n",
       "      <td>white</td>\n",
       "    </tr>\n",
       "    <tr>\n",
       "      <th>58429</th>\n",
       "      <td>As a fellow big-tiddied woman, and as a bisexual, I can assure you. It's fucking great.</td>\n",
       "      <td>2.0</td>\n",
       "      <td>white</td>\n",
       "    </tr>\n",
       "    <tr>\n",
       "      <th>82037</th>\n",
       "      <td>As a fellow big-tiddied woman, and as a bisexual, I can assure you. It's fucking great.</td>\n",
       "      <td>18.0</td>\n",
       "      <td>black</td>\n",
       "    </tr>\n",
       "  </tbody>\n",
       "</table>\n",
       "</div>"
      ],
      "text/plain": [
       "                                                                                  predict_text  ...  label_race\n",
       "10460  As a fellow big-tiddied woman, and as a bisexual, I can assure you. It's fucking great.  ...       white\n",
       "58429  As a fellow big-tiddied woman, and as a bisexual, I can assure you. It's fucking great.  ...       white\n",
       "82037  As a fellow big-tiddied woman, and as a bisexual, I can assure you. It's fucking great.  ...       black\n",
       "\n",
       "[3 rows x 3 columns]"
      ]
     },
     "execution_count": 294,
     "metadata": {
      "tags": []
     },
     "output_type": "execute_result"
    }
   ],
   "source": [
    "\n",
    "df_black_higher_full[df_black_higher_full['comment_id'] == 6768][['predict_text', 'hate_speech_sum', 'label_race']]"
   ]
  },
  {
   "cell_type": "code",
   "execution_count": null,
   "metadata": {
    "colab": {
     "base_uri": "https://localhost:8080/",
     "height": 193
    },
    "id": "4r5fvcY9MNW3",
    "outputId": "a98a3f20-87b7-4327-fc20-af23c8bb8016"
   },
   "outputs": [
    {
     "data": {
      "text/html": [
       "<div>\n",
       "<style scoped>\n",
       "    .dataframe tbody tr th:only-of-type {\n",
       "        vertical-align: middle;\n",
       "    }\n",
       "\n",
       "    .dataframe tbody tr th {\n",
       "        vertical-align: top;\n",
       "    }\n",
       "\n",
       "    .dataframe thead th {\n",
       "        text-align: right;\n",
       "    }\n",
       "</style>\n",
       "<table border=\"1\" class=\"dataframe\">\n",
       "  <thead>\n",
       "    <tr style=\"text-align: right;\">\n",
       "      <th></th>\n",
       "      <th>predict_text</th>\n",
       "      <th>hate_speech_sum</th>\n",
       "      <th>label_race</th>\n",
       "    </tr>\n",
       "  </thead>\n",
       "  <tbody>\n",
       "    <tr>\n",
       "      <th>17005</th>\n",
       "      <td>I side with our awesome president Donald Trump, if you don't like it here, go back where you came from.</td>\n",
       "      <td>19.0</td>\n",
       "      <td>black</td>\n",
       "    </tr>\n",
       "    <tr>\n",
       "      <th>62583</th>\n",
       "      <td>I side with our awesome president Donald Trump, if you don't like it here, go back where you came from.</td>\n",
       "      <td>8.0</td>\n",
       "      <td>american indian alaska native</td>\n",
       "    </tr>\n",
       "    <tr>\n",
       "      <th>85722</th>\n",
       "      <td>I side with our awesome president Donald Trump, if you don't like it here, go back where you came from.</td>\n",
       "      <td>3.0</td>\n",
       "      <td>white</td>\n",
       "    </tr>\n",
       "  </tbody>\n",
       "</table>\n",
       "</div>"
      ],
      "text/plain": [
       "                                                                                                  predict_text  ...                     label_race\n",
       "17005  I side with our awesome president Donald Trump, if you don't like it here, go back where you came from.  ...                          black\n",
       "62583  I side with our awesome president Donald Trump, if you don't like it here, go back where you came from.  ...  american indian alaska native\n",
       "85722  I side with our awesome president Donald Trump, if you don't like it here, go back where you came from.  ...                          white\n",
       "\n",
       "[3 rows x 3 columns]"
      ]
     },
     "execution_count": 295,
     "metadata": {
      "tags": []
     },
     "output_type": "execute_result"
    }
   ],
   "source": [
    "\n",
    "df_black_higher_full[df_black_higher_full['comment_id'] == 46188][['predict_text', 'hate_speech_sum', 'label_race']]"
   ]
  },
  {
   "cell_type": "code",
   "execution_count": null,
   "metadata": {
    "colab": {
     "base_uri": "https://localhost:8080/",
     "height": 145
    },
    "id": "SBKAgFIzMRoH",
    "outputId": "097ba2d2-b267-4b58-a65a-cc18b8120ba4"
   },
   "outputs": [
    {
     "data": {
      "text/html": [
       "<div>\n",
       "<style scoped>\n",
       "    .dataframe tbody tr th:only-of-type {\n",
       "        vertical-align: middle;\n",
       "    }\n",
       "\n",
       "    .dataframe tbody tr th {\n",
       "        vertical-align: top;\n",
       "    }\n",
       "\n",
       "    .dataframe thead th {\n",
       "        text-align: right;\n",
       "    }\n",
       "</style>\n",
       "<table border=\"1\" class=\"dataframe\">\n",
       "  <thead>\n",
       "    <tr style=\"text-align: right;\">\n",
       "      <th></th>\n",
       "      <th>predict_text</th>\n",
       "      <th>hate_speech_sum</th>\n",
       "      <th>label_race</th>\n",
       "    </tr>\n",
       "  </thead>\n",
       "  <tbody>\n",
       "    <tr>\n",
       "      <th>62239</th>\n",
       "      <td>Now The Muslims Have Been Awaken Now No Blasphemer Will Be Remain Alive In This World ✌🏻 #قادیانیت_کو_لگام_دو URL</td>\n",
       "      <td>20.0</td>\n",
       "      <td>black</td>\n",
       "    </tr>\n",
       "    <tr>\n",
       "      <th>86300</th>\n",
       "      <td>Now The Muslims Have Been Awaken Now No Blasphemer Will Be Remain Alive In This World ✌🏻 #قادیانیت_کو_لگام_دو URL</td>\n",
       "      <td>5.0</td>\n",
       "      <td>white</td>\n",
       "    </tr>\n",
       "  </tbody>\n",
       "</table>\n",
       "</div>"
      ],
      "text/plain": [
       "                                                                                                            predict_text  ...  label_race\n",
       "62239  Now The Muslims Have Been Awaken Now No Blasphemer Will Be Remain Alive In This World ✌🏻 #قادیانیت_کو_لگام_دو URL  ...       black\n",
       "86300  Now The Muslims Have Been Awaken Now No Blasphemer Will Be Remain Alive In This World ✌🏻 #قادیانیت_کو_لگام_دو URL  ...       white\n",
       "\n",
       "[2 rows x 3 columns]"
      ]
     },
     "execution_count": 296,
     "metadata": {
      "tags": []
     },
     "output_type": "execute_result"
    }
   ],
   "source": [
    "\n",
    "df_black_higher_full[df_black_higher_full['comment_id'] == 27429][['predict_text', 'hate_speech_sum', 'label_race']]"
   ]
  },
  {
   "cell_type": "code",
   "execution_count": null,
   "metadata": {
    "colab": {
     "base_uri": "https://localhost:8080/",
     "height": 142
    },
    "id": "N5U-1d_JMX7b",
    "outputId": "670e76f8-2b13-4191-df93-4258a681722a"
   },
   "outputs": [
    {
     "data": {
      "text/html": [
       "<div>\n",
       "<style scoped>\n",
       "    .dataframe tbody tr th:only-of-type {\n",
       "        vertical-align: middle;\n",
       "    }\n",
       "\n",
       "    .dataframe tbody tr th {\n",
       "        vertical-align: top;\n",
       "    }\n",
       "\n",
       "    .dataframe thead th {\n",
       "        text-align: right;\n",
       "    }\n",
       "</style>\n",
       "<table border=\"1\" class=\"dataframe\">\n",
       "  <thead>\n",
       "    <tr style=\"text-align: right;\">\n",
       "      <th></th>\n",
       "      <th>predict_text</th>\n",
       "      <th>hate_speech_sum</th>\n",
       "      <th>label_race</th>\n",
       "    </tr>\n",
       "  </thead>\n",
       "  <tbody>\n",
       "    <tr>\n",
       "      <th>19239</th>\n",
       "      <td>Turbans that look like pampers aren't a race.</td>\n",
       "      <td>3.0</td>\n",
       "      <td>white</td>\n",
       "    </tr>\n",
       "    <tr>\n",
       "      <th>45015</th>\n",
       "      <td>Turbans that look like pampers aren't a race.</td>\n",
       "      <td>18.0</td>\n",
       "      <td>black</td>\n",
       "    </tr>\n",
       "    <tr>\n",
       "      <th>67455</th>\n",
       "      <td>Turbans that look like pampers aren't a race.</td>\n",
       "      <td>19.0</td>\n",
       "      <td>other race</td>\n",
       "    </tr>\n",
       "  </tbody>\n",
       "</table>\n",
       "</div>"
      ],
      "text/plain": [
       "                                        predict_text  ...  label_race\n",
       "19239  Turbans that look like pampers aren't a race.  ...       white\n",
       "45015  Turbans that look like pampers aren't a race.  ...       black\n",
       "67455  Turbans that look like pampers aren't a race.  ...  other race\n",
       "\n",
       "[3 rows x 3 columns]"
      ]
     },
     "execution_count": 297,
     "metadata": {
      "tags": []
     },
     "output_type": "execute_result"
    }
   ],
   "source": [
    "\n",
    "df_black_higher_full[df_black_higher_full['comment_id'] == 46335][['predict_text', 'hate_speech_sum', 'label_race']]"
   ]
  },
  {
   "cell_type": "code",
   "execution_count": null,
   "metadata": {
    "id": "YYoLk4SmD1ON"
   },
   "outputs": [],
   "source": [
    "#then find only data_multi that has comments that are about black people\n",
    "pd.set_option('display.max_colwidth', None) #['comment_id', 'hate_speech_sum', 'predict_text', 'label_race']]\n",
    "\n",
    "df_target_black_higher = df_black_higher_full[df_black_higher_full['target_black'] == 1]\n",
    "#so this df is target is black, AND\n",
    "#comment has higher hate_speech_sum difference \n",
    "#from black raters relative to white raters\n",
    "#by at least 1 point\n"
   ]
  },
  {
   "cell_type": "code",
   "execution_count": null,
   "metadata": {
    "id": "izz9PxQ-PluW"
   },
   "outputs": [],
   "source": [
    "df_target_black_higher[df_target_black_higher['label_race'].isin(list_race)][['comment_id', 'hate_speech_sum', 'predict_text', 'label_race']].sort_values('comment_id').head(50)"
   ]
  },
  {
   "cell_type": "code",
   "execution_count": null,
   "metadata": {
    "id": "sKe5E1Kw_fh8"
   },
   "outputs": [],
   "source": [
    "list_race = ['black', 'white']\n",
    "df_black_white_higher = df_target_black_higher[df_target_black_higher['label_race'].isin(list_race)][['comment_id', 'hate_speech_sum', 'predict_text', 'label_race']]"
   ]
  },
  {
   "cell_type": "code",
   "execution_count": null,
   "metadata": {
    "id": "avbMU4nAPeYy"
   },
   "outputs": [],
   "source": [
    "# for race in df_black_white_higher['label_race']:\n",
    "#   if race == 'black' or race == 'white':\n",
    "#     print('black', 'white')"
   ]
  },
  {
   "cell_type": "code",
   "execution_count": null,
   "metadata": {
    "id": "8A8wvywvT0ob"
   },
   "outputs": [],
   "source": []
  },
  {
   "cell_type": "code",
   "execution_count": null,
   "metadata": {
    "colab": {
     "base_uri": "https://localhost:8080/",
     "height": 793
    },
    "id": "eCBRgPmDRVbJ",
    "outputId": "e4f0c335-e0da-4a60-d691-192cac6d3425"
   },
   "outputs": [
    {
     "data": {
      "text/html": [
       "<div>\n",
       "<style scoped>\n",
       "    .dataframe tbody tr th:only-of-type {\n",
       "        vertical-align: middle;\n",
       "    }\n",
       "\n",
       "    .dataframe tbody tr th {\n",
       "        vertical-align: top;\n",
       "    }\n",
       "\n",
       "    .dataframe thead th {\n",
       "        text-align: right;\n",
       "    }\n",
       "</style>\n",
       "<table border=\"1\" class=\"dataframe\">\n",
       "  <thead>\n",
       "    <tr style=\"text-align: right;\">\n",
       "      <th></th>\n",
       "      <th>comment_id</th>\n",
       "      <th>hate_speech_sum</th>\n",
       "      <th>predict_text</th>\n",
       "      <th>label_race</th>\n",
       "    </tr>\n",
       "  </thead>\n",
       "  <tbody>\n",
       "    <tr>\n",
       "      <th>0</th>\n",
       "      <td>47777</td>\n",
       "      <td>0.0</td>\n",
       "      <td>Yes indeed. She sort of reminds me of the elder lady that played the part in the movie \"Titanic\" who was telling her story!!! And I wouldn't have wanted to cover who I really am!! I would be proud!!!! WE should be proud of our race no matter what it is!!</td>\n",
       "      <td>white</td>\n",
       "    </tr>\n",
       "    <tr>\n",
       "      <th>132</th>\n",
       "      <td>46846</td>\n",
       "      <td>4.0</td>\n",
       "      <td>I can't believe that this would be problematic for anyone. Of all the things there is to worry about, finding out you grandfather was black in my opinion, is not one of them. She had her mother at the age of 48, I would give anything to have my mother with me.  That said, I completely understand why her mother did what she did...the USA is not an easy country for black people. Additionally, I'd be over the moon if I had black, Asian, Jewish or actually anything other than 100% Caucasian, more interesting as far as I'm concerned.</td>\n",
       "      <td>white</td>\n",
       "    </tr>\n",
       "    <tr>\n",
       "      <th>234</th>\n",
       "      <td>7856</td>\n",
       "      <td>19.0</td>\n",
       "      <td>Black People are not human. Remember we considered them 3/5th human. They have one of the lowest IQ's out of any race collectivity. They're disgusting physically and extremely violate.</td>\n",
       "      <td>white</td>\n",
       "    </tr>\n",
       "    <tr>\n",
       "      <th>274</th>\n",
       "      <td>17467</td>\n",
       "      <td>12.0</td>\n",
       "      <td>Keep blowing brown people cummie</td>\n",
       "      <td>white</td>\n",
       "    </tr>\n",
       "    <tr>\n",
       "      <th>290</th>\n",
       "      <td>1543</td>\n",
       "      <td>17.0</td>\n",
       "      <td>God you're so dumb. Everyone knows there was a voodoo spell that kept Black people trapped in Africa while white people travelled around the world. That's why they had slaves, they actually SAVED Black people from the voodoo spell that kept them trapped. Slavers were *heroes*! Read a book!</td>\n",
       "      <td>white</td>\n",
       "    </tr>\n",
       "    <tr>\n",
       "      <th>...</th>\n",
       "      <td>...</td>\n",
       "      <td>...</td>\n",
       "      <td>...</td>\n",
       "      <td>...</td>\n",
       "    </tr>\n",
       "    <tr>\n",
       "      <th>122416</th>\n",
       "      <td>20043</td>\n",
       "      <td>13.0</td>\n",
       "      <td>im ,i hate black people and minorities</td>\n",
       "      <td>white</td>\n",
       "    </tr>\n",
       "    <tr>\n",
       "      <th>122420</th>\n",
       "      <td>20037</td>\n",
       "      <td>16.0</td>\n",
       "      <td>A black person Acting scared of harmless Animals Just because..... What's new Dramatics are their specialty</td>\n",
       "      <td>white</td>\n",
       "    </tr>\n",
       "    <tr>\n",
       "      <th>122423</th>\n",
       "      <td>20032</td>\n",
       "      <td>19.0</td>\n",
       "      <td>shut the fuck up you dumb black [SLUR] bitch</td>\n",
       "      <td>white</td>\n",
       "    </tr>\n",
       "    <tr>\n",
       "      <th>122424</th>\n",
       "      <td>20037</td>\n",
       "      <td>17.0</td>\n",
       "      <td>A black person Acting scared of harmless Animals Just because..... What's new Dramatics are their specialty</td>\n",
       "      <td>white</td>\n",
       "    </tr>\n",
       "    <tr>\n",
       "      <th>122435</th>\n",
       "      <td>20037</td>\n",
       "      <td>18.0</td>\n",
       "      <td>A black person Acting scared of harmless Animals Just because..... What's new Dramatics are their specialty</td>\n",
       "      <td>white</td>\n",
       "    </tr>\n",
       "  </tbody>\n",
       "</table>\n",
       "<p>2923 rows × 4 columns</p>\n",
       "</div>"
      ],
      "text/plain": [
       "        comment_id  ...  label_race\n",
       "0            47777  ...       white\n",
       "132          46846  ...       white\n",
       "234           7856  ...       white\n",
       "274          17467  ...       white\n",
       "290           1543  ...       white\n",
       "...            ...  ...         ...\n",
       "122416       20043  ...       white\n",
       "122420       20037  ...       white\n",
       "122423       20032  ...       white\n",
       "122424       20037  ...       white\n",
       "122435       20037  ...       white\n",
       "\n",
       "[2923 rows x 4 columns]"
      ]
     },
     "execution_count": 316,
     "metadata": {
      "tags": []
     },
     "output_type": "execute_result"
    }
   ],
   "source": [
    "#i want comment_id count to be greater 1\n",
    "\n",
    "#this is my pseudocode\n",
    "\n",
    "# for every comment in df_black_white_higher['comment_id']:\n",
    "#   if comment.count() shows up > 2\n",
    "#   and if label_race includes white and black\n",
    "#   print dataframe"
   ]
  },
  {
   "cell_type": "code",
   "execution_count": null,
   "metadata": {
    "colab": {
     "base_uri": "https://localhost:8080/"
    },
    "id": "SJF9w3eQWDyy",
    "outputId": "afc4473d-1095-48db-f180-3a527fbe9f5e"
   },
   "outputs": [
    {
     "data": {
      "text/plain": [
       "white    2334\n",
       "black     589\n",
       "Name: label_race, dtype: int64"
      ]
     },
     "execution_count": 321,
     "metadata": {
      "tags": []
     },
     "output_type": "execute_result"
    }
   ],
   "source": [
    "df_black_white_higher['comment_id'].value_counts()\n",
    "\n",
    "df_black_white_higher['label_race'].value_counts()"
   ]
  },
  {
   "cell_type": "code",
   "execution_count": null,
   "metadata": {
    "colab": {
     "base_uri": "https://localhost:8080/",
     "height": 538
    },
    "id": "TPy-ltdlaHJ_",
    "outputId": "97d7311e-b965-4aa5-ec39-16ddde4c0494"
   },
   "outputs": [
    {
     "data": {
      "text/html": [
       "<div>\n",
       "<style scoped>\n",
       "    .dataframe tbody tr th:only-of-type {\n",
       "        vertical-align: middle;\n",
       "    }\n",
       "\n",
       "    .dataframe tbody tr th {\n",
       "        vertical-align: top;\n",
       "    }\n",
       "\n",
       "    .dataframe thead th {\n",
       "        text-align: right;\n",
       "    }\n",
       "</style>\n",
       "<table border=\"1\" class=\"dataframe\">\n",
       "  <thead>\n",
       "    <tr style=\"text-align: right;\">\n",
       "      <th></th>\n",
       "      <th>comment_id</th>\n",
       "      <th>hate_speech_sum</th>\n",
       "      <th>predict_text</th>\n",
       "      <th>label_race</th>\n",
       "    </tr>\n",
       "  </thead>\n",
       "  <tbody>\n",
       "    <tr>\n",
       "      <th>26251</th>\n",
       "      <td>305</td>\n",
       "      <td>15.0</td>\n",
       "      <td>But how can you kill black teenagers without guns?</td>\n",
       "      <td>white</td>\n",
       "    </tr>\n",
       "    <tr>\n",
       "      <th>331</th>\n",
       "      <td>305</td>\n",
       "      <td>4.0</td>\n",
       "      <td>But how can you kill black teenagers without guns?</td>\n",
       "      <td>white</td>\n",
       "    </tr>\n",
       "    <tr>\n",
       "      <th>49705</th>\n",
       "      <td>305</td>\n",
       "      <td>19.0</td>\n",
       "      <td>But how can you kill black teenagers without guns?</td>\n",
       "      <td>white</td>\n",
       "    </tr>\n",
       "    <tr>\n",
       "      <th>71692</th>\n",
       "      <td>305</td>\n",
       "      <td>20.0</td>\n",
       "      <td>But how can you kill black teenagers without guns?</td>\n",
       "      <td>black</td>\n",
       "    </tr>\n",
       "    <tr>\n",
       "      <th>75278</th>\n",
       "      <td>500</td>\n",
       "      <td>11.0</td>\n",
       "      <td>lol, it's a shit culture  If every song sings about \"yea I fucked your [SLUR] bitch, she on my dick\"  Then you see that blacks have a 79% single parent rate.... YIKES</td>\n",
       "      <td>white</td>\n",
       "    </tr>\n",
       "    <tr>\n",
       "      <th>...</th>\n",
       "      <td>...</td>\n",
       "      <td>...</td>\n",
       "      <td>...</td>\n",
       "      <td>...</td>\n",
       "    </tr>\n",
       "    <tr>\n",
       "      <th>7935</th>\n",
       "      <td>49654</td>\n",
       "      <td>7.0</td>\n",
       "      <td>This nigga always mopping the floors, always bussin shit down. Like the fuck else ya do home boy booface</td>\n",
       "      <td>white</td>\n",
       "    </tr>\n",
       "    <tr>\n",
       "      <th>54529</th>\n",
       "      <td>49654</td>\n",
       "      <td>18.0</td>\n",
       "      <td>This nigga always mopping the floors, always bussin shit down. Like the fuck else ya do home boy booface</td>\n",
       "      <td>black</td>\n",
       "    </tr>\n",
       "    <tr>\n",
       "      <th>88218</th>\n",
       "      <td>49742</td>\n",
       "      <td>19.0</td>\n",
       "      <td>I don't hate blacks, I love them. As a matter of fact, I think every white person should own at least one.</td>\n",
       "      <td>white</td>\n",
       "    </tr>\n",
       "    <tr>\n",
       "      <th>43163</th>\n",
       "      <td>49742</td>\n",
       "      <td>18.0</td>\n",
       "      <td>I don't hate blacks, I love them. As a matter of fact, I think every white person should own at least one.</td>\n",
       "      <td>black</td>\n",
       "    </tr>\n",
       "    <tr>\n",
       "      <th>66908</th>\n",
       "      <td>49742</td>\n",
       "      <td>15.0</td>\n",
       "      <td>I don't hate blacks, I love them. As a matter of fact, I think every white person should own at least one.</td>\n",
       "      <td>white</td>\n",
       "    </tr>\n",
       "  </tbody>\n",
       "</table>\n",
       "<p>2793 rows × 4 columns</p>\n",
       "</div>"
      ],
      "text/plain": [
       "       comment_id  ...  label_race\n",
       "26251         305  ...       white\n",
       "331           305  ...       white\n",
       "49705         305  ...       white\n",
       "71692         305  ...       black\n",
       "75278         500  ...       white\n",
       "...           ...  ...         ...\n",
       "7935        49654  ...       white\n",
       "54529       49654  ...       black\n",
       "88218       49742  ...       white\n",
       "43163       49742  ...       black\n",
       "66908       49742  ...       white\n",
       "\n",
       "[2793 rows x 4 columns]"
      ]
     },
     "execution_count": 328,
     "metadata": {
      "tags": []
     },
     "output_type": "execute_result"
    }
   ],
   "source": [
    "#so i need a df of 589 x 2 rows = 1178\n",
    "\n",
    "list_black_comments = df_black_white_higher[df_black_white_higher['label_race'] == 'black']['comment_id'].tolist()\n",
    "\n",
    "df_black_white_higher[df_black_white_higher['comment_id'].isin(list_black_comments)].sort_values('comment_id')"
   ]
  },
  {
   "cell_type": "code",
   "execution_count": null,
   "metadata": {
    "id": "WZR2otD3cPx5"
   },
   "outputs": [],
   "source": [
    "df_at_least_black_white_higher = df_black_white_higher[df_black_white_higher['comment_id'].isin(list_black_comments)]"
   ]
  },
  {
   "cell_type": "code",
   "execution_count": null,
   "metadata": {
    "colab": {
     "base_uri": "https://localhost:8080/"
    },
    "id": "LGhKibY6crYD",
    "outputId": "4ff82109-dee0-43fa-ea64-425284d443f5"
   },
   "outputs": [
    {
     "data": {
      "text/plain": [
       "20015    63\n",
       "20043    37\n",
       "20037    34\n",
       "20030    32\n",
       "20032    30\n",
       "         ..\n",
       "37547     1\n",
       "685       1\n",
       "7856      1\n",
       "42673     1\n",
       "1903      1\n",
       "Name: comment_id, Length: 377, dtype: int64"
      ]
     },
     "execution_count": 334,
     "metadata": {
      "tags": []
     },
     "output_type": "execute_result"
    }
   ],
   "source": [
    "df_at_least_black_white_higher[df_at_least_black_white_higher['label_race'] == 'black']['comment_id'].value_counts()"
   ]
  },
  {
   "cell_type": "code",
   "execution_count": null,
   "metadata": {
    "colab": {
     "base_uri": "https://localhost:8080/",
     "height": 269
    },
    "id": "ROQpNZPveQeR",
    "outputId": "7bf5d4db-3b1d-4374-dd93-8ebdd7043317"
   },
   "outputs": [
    {
     "data": {
      "image/png": "[encoded data removed]",
      "text/plain": [
       "<Figure size 432x288 with 1 Axes>"
      ]
     },
     "metadata": {
      "needs_background": "light",
      "tags": []
     },
     "output_type": "display_data"
    }
   ],
   "source": [
    "#histograms\n",
    "\n",
    "df_at_least_black_white_higher[df_at_least_black_white_higher['label_race'] == 'black']['hate_speech_sum'].hist(density=True, histtype='step', color='blue', lw=2)\n",
    "\n",
    "\n",
    "\n",
    "\n",
    "df_at_least_black_white_higher[df_at_least_black_white_higher['label_race'] == 'white']['hate_speech_sum'].hist(density=True, histtype='step', color='orange', lw=2);\n"
   ]
  },
  {
   "cell_type": "code",
   "execution_count": null,
   "metadata": {
    "id": "Ji_2QqomeMdD"
   },
   "outputs": [],
   "source": [
    "#compare min white hate speech sum to max black hate speech sum...is this the best comparison?\n",
    "#let's look at spread here"
   ]
  },
  {
   "cell_type": "code",
   "execution_count": null,
   "metadata": {
    "colab": {
     "base_uri": "https://localhost:8080/",
     "height": 450
    },
    "id": "UUUyykIueGFJ",
    "outputId": "b895182a-da38-468a-811e-e3223fe710f9"
   },
   "outputs": [
    {
     "data": {
      "text/html": [
       "<div>\n",
       "<style scoped>\n",
       "    .dataframe tbody tr th:only-of-type {\n",
       "        vertical-align: middle;\n",
       "    }\n",
       "\n",
       "    .dataframe tbody tr th {\n",
       "        vertical-align: top;\n",
       "    }\n",
       "\n",
       "    .dataframe thead th {\n",
       "        text-align: right;\n",
       "    }\n",
       "</style>\n",
       "<table border=\"1\" class=\"dataframe\">\n",
       "  <thead>\n",
       "    <tr style=\"text-align: right;\">\n",
       "      <th></th>\n",
       "      <th>hate_speech_sum</th>\n",
       "    </tr>\n",
       "    <tr>\n",
       "      <th>comment_id</th>\n",
       "      <th></th>\n",
       "    </tr>\n",
       "  </thead>\n",
       "  <tbody>\n",
       "    <tr>\n",
       "      <th>305</th>\n",
       "      <td>20.0</td>\n",
       "    </tr>\n",
       "    <tr>\n",
       "      <th>500</th>\n",
       "      <td>15.0</td>\n",
       "    </tr>\n",
       "    <tr>\n",
       "      <th>562</th>\n",
       "      <td>19.0</td>\n",
       "    </tr>\n",
       "    <tr>\n",
       "      <th>685</th>\n",
       "      <td>16.0</td>\n",
       "    </tr>\n",
       "    <tr>\n",
       "      <th>958</th>\n",
       "      <td>17.0</td>\n",
       "    </tr>\n",
       "    <tr>\n",
       "      <th>...</th>\n",
       "      <td>...</td>\n",
       "    </tr>\n",
       "    <tr>\n",
       "      <th>49542</th>\n",
       "      <td>11.0</td>\n",
       "    </tr>\n",
       "    <tr>\n",
       "      <th>49545</th>\n",
       "      <td>15.0</td>\n",
       "    </tr>\n",
       "    <tr>\n",
       "      <th>49599</th>\n",
       "      <td>19.0</td>\n",
       "    </tr>\n",
       "    <tr>\n",
       "      <th>49654</th>\n",
       "      <td>18.0</td>\n",
       "    </tr>\n",
       "    <tr>\n",
       "      <th>49742</th>\n",
       "      <td>18.0</td>\n",
       "    </tr>\n",
       "  </tbody>\n",
       "</table>\n",
       "<p>377 rows × 1 columns</p>\n",
       "</div>"
      ],
      "text/plain": [
       "            hate_speech_sum\n",
       "comment_id                 \n",
       "305                    20.0\n",
       "500                    15.0\n",
       "562                    19.0\n",
       "685                    16.0\n",
       "958                    17.0\n",
       "...                     ...\n",
       "49542                  11.0\n",
       "49545                  15.0\n",
       "49599                  19.0\n",
       "49654                  18.0\n",
       "49742                  18.0\n",
       "\n",
       "[377 rows x 1 columns]"
      ]
     },
     "execution_count": 354,
     "metadata": {
      "tags": []
     },
     "output_type": "execute_result"
    }
   ],
   "source": [
    "#for race is black, max/min/mean hate speech sum\n",
    "df_at_least_black_white_higher[df_at_least_black_white_higher['label_race'] == 'black'].groupby('comment_id').min()\n",
    "df_at_least_black_white_higher[df_at_least_black_white_higher['label_race'] == 'black'].groupby('comment_id').max()\n",
    "df_at_least_black_white_higher[df_at_least_black_white_higher['label_race'] == 'black'].groupby('comment_id').mean()"
   ]
  },
  {
   "cell_type": "code",
   "execution_count": null,
   "metadata": {
    "colab": {
     "base_uri": "https://localhost:8080/",
     "height": 450
    },
    "id": "tAPZ3E1kdVWW",
    "outputId": "4e00bb85-b265-49e7-ce72-442f50ee3d1d"
   },
   "outputs": [
    {
     "data": {
      "text/html": [
       "<div>\n",
       "<style scoped>\n",
       "    .dataframe tbody tr th:only-of-type {\n",
       "        vertical-align: middle;\n",
       "    }\n",
       "\n",
       "    .dataframe tbody tr th {\n",
       "        vertical-align: top;\n",
       "    }\n",
       "\n",
       "    .dataframe thead th {\n",
       "        text-align: right;\n",
       "    }\n",
       "</style>\n",
       "<table border=\"1\" class=\"dataframe\">\n",
       "  <thead>\n",
       "    <tr style=\"text-align: right;\">\n",
       "      <th></th>\n",
       "      <th>hate_speech_sum</th>\n",
       "    </tr>\n",
       "    <tr>\n",
       "      <th>comment_id</th>\n",
       "      <th></th>\n",
       "    </tr>\n",
       "  </thead>\n",
       "  <tbody>\n",
       "    <tr>\n",
       "      <th>305</th>\n",
       "      <td>12.666667</td>\n",
       "    </tr>\n",
       "    <tr>\n",
       "      <th>500</th>\n",
       "      <td>12.333333</td>\n",
       "    </tr>\n",
       "    <tr>\n",
       "      <th>685</th>\n",
       "      <td>11.000000</td>\n",
       "    </tr>\n",
       "    <tr>\n",
       "      <th>958</th>\n",
       "      <td>7.000000</td>\n",
       "    </tr>\n",
       "    <tr>\n",
       "      <th>1118</th>\n",
       "      <td>15.000000</td>\n",
       "    </tr>\n",
       "    <tr>\n",
       "      <th>...</th>\n",
       "      <td>...</td>\n",
       "    </tr>\n",
       "    <tr>\n",
       "      <th>49466</th>\n",
       "      <td>16.000000</td>\n",
       "    </tr>\n",
       "    <tr>\n",
       "      <th>49542</th>\n",
       "      <td>5.333333</td>\n",
       "    </tr>\n",
       "    <tr>\n",
       "      <th>49545</th>\n",
       "      <td>12.000000</td>\n",
       "    </tr>\n",
       "    <tr>\n",
       "      <th>49654</th>\n",
       "      <td>12.000000</td>\n",
       "    </tr>\n",
       "    <tr>\n",
       "      <th>49742</th>\n",
       "      <td>17.000000</td>\n",
       "    </tr>\n",
       "  </tbody>\n",
       "</table>\n",
       "<p>291 rows × 1 columns</p>\n",
       "</div>"
      ],
      "text/plain": [
       "            hate_speech_sum\n",
       "comment_id                 \n",
       "305               12.666667\n",
       "500               12.333333\n",
       "685               11.000000\n",
       "958                7.000000\n",
       "1118              15.000000\n",
       "...                     ...\n",
       "49466             16.000000\n",
       "49542              5.333333\n",
       "49545             12.000000\n",
       "49654             12.000000\n",
       "49742             17.000000\n",
       "\n",
       "[291 rows x 1 columns]"
      ]
     },
     "execution_count": 352,
     "metadata": {
      "tags": []
     },
     "output_type": "execute_result"
    }
   ],
   "source": [
    "#for race is white, max/min/mean hate speech sum\n",
    "\n",
    "df_at_least_black_white_higher[df_at_least_black_white_higher['label_race'] == 'white'].groupby('comment_id').min()\n",
    "df_at_least_black_white_higher[df_at_least_black_white_higher['label_race'] == 'white'].groupby('comment_id').max()\n",
    "df_at_least_black_white_higher[df_at_least_black_white_higher['label_race'] == 'white'].groupby('comment_id').mean()"
   ]
  },
  {
   "cell_type": "code",
   "execution_count": null,
   "metadata": {
    "id": "-eLuTfiBlDJm"
   },
   "outputs": [],
   "source": [
    "#looking at spread, first by putting both into same df for t-testmaybe?\n",
    "\n",
    "#hate speech sum mean for white labelers looking at black data where black labelers gave bigger difference..so maybe do this for the whoel thing\n",
    "\n"
   ]
  },
  {
   "cell_type": "code",
   "execution_count": null,
   "metadata": {
    "colab": {
     "base_uri": "https://localhost:8080/",
     "height": 657
    },
    "id": "CR7AulJga0o0",
    "outputId": "f1f369fb-a934-4199-9c83-ce49ceafd024"
   },
   "outputs": [
    {
     "data": {
      "text/html": [
       "<div>\n",
       "<style scoped>\n",
       "    .dataframe tbody tr th:only-of-type {\n",
       "        vertical-align: middle;\n",
       "    }\n",
       "\n",
       "    .dataframe tbody tr th {\n",
       "        vertical-align: top;\n",
       "    }\n",
       "\n",
       "    .dataframe thead th {\n",
       "        text-align: right;\n",
       "    }\n",
       "</style>\n",
       "<table border=\"1\" class=\"dataframe\">\n",
       "  <thead>\n",
       "    <tr style=\"text-align: right;\">\n",
       "      <th></th>\n",
       "      <th>comment_id</th>\n",
       "      <th>hate_speech_sum</th>\n",
       "      <th>predict_text</th>\n",
       "      <th>label_race</th>\n",
       "    </tr>\n",
       "  </thead>\n",
       "  <tbody>\n",
       "    <tr>\n",
       "      <th>0</th>\n",
       "      <td>47777</td>\n",
       "      <td>0.0</td>\n",
       "      <td>Yes indeed. She sort of reminds me of the elder lady that played the part in the movie \"Titanic\" who was telling her story!!! And I wouldn't have wanted to cover who I really am!! I would be proud!!!! WE should be proud of our race no matter what it is!!</td>\n",
       "      <td>white</td>\n",
       "    </tr>\n",
       "    <tr>\n",
       "      <th>234</th>\n",
       "      <td>7856</td>\n",
       "      <td>19.0</td>\n",
       "      <td>Black People are not human. Remember we considered them 3/5th human. They have one of the lowest IQ's out of any race collectivity. They're disgusting physically and extremely violate.</td>\n",
       "      <td>white</td>\n",
       "    </tr>\n",
       "    <tr>\n",
       "      <th>274</th>\n",
       "      <td>17467</td>\n",
       "      <td>12.0</td>\n",
       "      <td>Keep blowing brown people cummie</td>\n",
       "      <td>white</td>\n",
       "    </tr>\n",
       "    <tr>\n",
       "      <th>290</th>\n",
       "      <td>1543</td>\n",
       "      <td>17.0</td>\n",
       "      <td>God you're so dumb. Everyone knows there was a voodoo spell that kept Black people trapped in Africa while white people travelled around the world. That's why they had slaves, they actually SAVED Black people from the voodoo spell that kept them trapped. Slavers were *heroes*! Read a book!</td>\n",
       "      <td>white</td>\n",
       "    </tr>\n",
       "    <tr>\n",
       "      <th>331</th>\n",
       "      <td>305</td>\n",
       "      <td>4.0</td>\n",
       "      <td>But how can you kill black teenagers without guns?</td>\n",
       "      <td>white</td>\n",
       "    </tr>\n",
       "    <tr>\n",
       "      <th>...</th>\n",
       "      <td>...</td>\n",
       "      <td>...</td>\n",
       "      <td>...</td>\n",
       "      <td>...</td>\n",
       "    </tr>\n",
       "    <tr>\n",
       "      <th>122416</th>\n",
       "      <td>20043</td>\n",
       "      <td>13.0</td>\n",
       "      <td>im ,i hate black people and minorities</td>\n",
       "      <td>white</td>\n",
       "    </tr>\n",
       "    <tr>\n",
       "      <th>122420</th>\n",
       "      <td>20037</td>\n",
       "      <td>16.0</td>\n",
       "      <td>A black person Acting scared of harmless Animals Just because..... What's new Dramatics are their specialty</td>\n",
       "      <td>white</td>\n",
       "    </tr>\n",
       "    <tr>\n",
       "      <th>122423</th>\n",
       "      <td>20032</td>\n",
       "      <td>19.0</td>\n",
       "      <td>shut the fuck up you dumb black [SLUR] bitch</td>\n",
       "      <td>white</td>\n",
       "    </tr>\n",
       "    <tr>\n",
       "      <th>122424</th>\n",
       "      <td>20037</td>\n",
       "      <td>17.0</td>\n",
       "      <td>A black person Acting scared of harmless Animals Just because..... What's new Dramatics are their specialty</td>\n",
       "      <td>white</td>\n",
       "    </tr>\n",
       "    <tr>\n",
       "      <th>122435</th>\n",
       "      <td>20037</td>\n",
       "      <td>18.0</td>\n",
       "      <td>A black person Acting scared of harmless Animals Just because..... What's new Dramatics are their specialty</td>\n",
       "      <td>white</td>\n",
       "    </tr>\n",
       "  </tbody>\n",
       "</table>\n",
       "<p>2793 rows × 4 columns</p>\n",
       "</div>"
      ],
      "text/plain": [
       "        comment_id  ...  label_race\n",
       "0            47777  ...       white\n",
       "234           7856  ...       white\n",
       "274          17467  ...       white\n",
       "290           1543  ...       white\n",
       "331            305  ...       white\n",
       "...            ...  ...         ...\n",
       "122416       20043  ...       white\n",
       "122420       20037  ...       white\n",
       "122423       20032  ...       white\n",
       "122424       20037  ...       white\n",
       "122435       20037  ...       white\n",
       "\n",
       "[2793 rows x 4 columns]"
      ]
     },
     "execution_count": 330,
     "metadata": {
      "tags": []
     },
     "output_type": "execute_result"
    }
   ],
   "source": [
    "#this is a df that filters to make sure black labelers are assigned to each comment at least 1 - maybe should go before the work above\n",
    "df_black_white_higher[df_black_white_higher['comment_id'].isin(list_black_comments)]"
   ]
  },
  {
   "cell_type": "code",
   "execution_count": null,
   "metadata": {
    "id": "liiEW9BXQOu-"
   },
   "outputs": [],
   "source": [
    "# for comment in df_black_white_higher['comment_id']:\n",
    "\n"
   ]
  },
  {
   "cell_type": "code",
   "execution_count": null,
   "metadata": {
    "id": "YP9NT52683FR"
   },
   "outputs": [],
   "source": [
    "#filter the df so it has to have BOTH white and black labelers\n",
    "\n",
    "\n",
    "\n",
    "#find the dataframe with the biggest difference in the hate speech sum here"
   ]
  },
  {
   "cell_type": "code",
   "execution_count": null,
   "metadata": {
    "id": "C3ikiDIC0_1v"
   },
   "outputs": [],
   "source": [
    "\n",
    "\n"
   ]
  },
  {
   "cell_type": "code",
   "execution_count": null,
   "metadata": {
    "id": "A874GGnj0MSt"
   },
   "outputs": [],
   "source": []
  },
  {
   "cell_type": "code",
   "execution_count": null,
   "metadata": {
    "id": "GIsN0IRs09h6"
   },
   "outputs": [],
   "source": [
    "#biggest difference between comments where comment is about black people"
   ]
  },
  {
   "cell_type": "code",
   "execution_count": null,
   "metadata": {
    "colab": {
     "base_uri": "https://localhost:8080/"
    },
    "id": "HyYQ8A9v0Gjy",
    "outputId": "1b686dfe-4fce-435d-f0c7-d83db1f045be"
   },
   "outputs": [
    {
     "data": {
      "text/plain": [
       "comment_id  label_race\n",
       "23          black         20.0\n",
       "            white         38.0\n",
       "26          black          5.0\n",
       "            white         17.0\n",
       "29          black         13.0\n",
       "                          ... \n",
       "50061       white         13.0\n",
       "50062       black         15.0\n",
       "            white          6.0\n",
       "50066       black         12.0\n",
       "            white         58.0\n",
       "Name: hate_speech_sum, Length: 12876, dtype: float64"
      ]
     },
     "execution_count": 171,
     "metadata": {
      "tags": []
     },
     "output_type": "execute_result"
    }
   ],
   "source": [
    "#sum of hate speech sum that black and white labelers gave\n",
    "df_black_white.groupby(['comment_id', 'label_race'])['hate_speech_sum'].sum()"
   ]
  },
  {
   "cell_type": "code",
   "execution_count": null,
   "metadata": {
    "colab": {
     "base_uri": "https://localhost:8080/",
     "height": 487
    },
    "id": "WhIxACWLk_uC",
    "outputId": "c6c589b9-6836-414d-fffb-11fbab5b1be4"
   },
   "outputs": [
    {
     "data": {
      "text/html": [
       "<div>\n",
       "<style scoped>\n",
       "    .dataframe tbody tr th:only-of-type {\n",
       "        vertical-align: middle;\n",
       "    }\n",
       "\n",
       "    .dataframe tbody tr th {\n",
       "        vertical-align: top;\n",
       "    }\n",
       "\n",
       "    .dataframe thead th {\n",
       "        text-align: right;\n",
       "    }\n",
       "</style>\n",
       "<table border=\"1\" class=\"dataframe\">\n",
       "  <thead>\n",
       "    <tr style=\"text-align: right;\">\n",
       "      <th></th>\n",
       "      <th></th>\n",
       "      <th>sentiment</th>\n",
       "      <th>respect</th>\n",
       "      <th>insult</th>\n",
       "      <th>humiliate</th>\n",
       "      <th>status</th>\n",
       "      <th>dehumanize</th>\n",
       "      <th>violence_phys</th>\n",
       "      <th>genocide</th>\n",
       "      <th>attack_defend</th>\n",
       "      <th>hatespeech</th>\n",
       "      <th>measure</th>\n",
       "      <th>std_err</th>\n",
       "      <th>num_ratings</th>\n",
       "      <th>weight</th>\n",
       "      <th>has_targets</th>\n",
       "      <th>target_identity_count</th>\n",
       "      <th>labeler_id</th>\n",
       "      <th>rater_measure</th>\n",
       "      <th>rater_infitms</th>\n",
       "      <th>rater_outfitms</th>\n",
       "      <th>infitms</th>\n",
       "      <th>outfitms</th>\n",
       "      <th>target_identities_1</th>\n",
       "      <th>target_identities_2</th>\n",
       "      <th>target_identities_3</th>\n",
       "      <th>target_identities_4</th>\n",
       "      <th>target_identities_5</th>\n",
       "      <th>target_identities_6</th>\n",
       "      <th>target_identities_7</th>\n",
       "      <th>target_identities_9</th>\n",
       "      <th>target_black</th>\n",
       "      <th>target_latino</th>\n",
       "      <th>target_asian</th>\n",
       "      <th>target_race_8</th>\n",
       "      <th>target_native american</th>\n",
       "      <th>target_pacific islander</th>\n",
       "      <th>target_white</th>\n",
       "      <th>target_other_race</th>\n",
       "      <th>target_religion_1</th>\n",
       "      <th>target_religion_2</th>\n",
       "      <th>...</th>\n",
       "      <th>target_political_3</th>\n",
       "      <th>target_political_4</th>\n",
       "      <th>target_political_5</th>\n",
       "      <th>target_political_6</th>\n",
       "      <th>target_political_7</th>\n",
       "      <th>target_political_8</th>\n",
       "      <th>target_political_9</th>\n",
       "      <th>target_political_10</th>\n",
       "      <th>target_political_11</th>\n",
       "      <th>demo_gender</th>\n",
       "      <th>demo_trans</th>\n",
       "      <th>demo_educ</th>\n",
       "      <th>demo_american_indian_alaska_native</th>\n",
       "      <th>demo_asian</th>\n",
       "      <th>demo_black</th>\n",
       "      <th>demo_latino</th>\n",
       "      <th>demo_native_hawaiian_pacific_islander</th>\n",
       "      <th>demo_middle_eastern</th>\n",
       "      <th>demo_white</th>\n",
       "      <th>demo_other_race</th>\n",
       "      <th>demo_age</th>\n",
       "      <th>demo_income</th>\n",
       "      <th>demo_religion_1</th>\n",
       "      <th>demo_religion_2</th>\n",
       "      <th>demo_religion_11</th>\n",
       "      <th>demo_religion_4</th>\n",
       "      <th>demo_religion_5</th>\n",
       "      <th>demo_religion_7</th>\n",
       "      <th>demo_religion_8</th>\n",
       "      <th>demo_religion_9</th>\n",
       "      <th>demo_religion_10</th>\n",
       "      <th>demo_sexual_orien_1</th>\n",
       "      <th>demo_sexual_orien_2</th>\n",
       "      <th>demo_sexual_orien_3</th>\n",
       "      <th>demo_sexual_orien_4</th>\n",
       "      <th>demo_sexual_orien_5</th>\n",
       "      <th>demo_ideology</th>\n",
       "      <th>identity</th>\n",
       "      <th>hypothesis</th>\n",
       "      <th>hate_speech_sum</th>\n",
       "    </tr>\n",
       "    <tr>\n",
       "      <th>comment_id</th>\n",
       "      <th>label_race</th>\n",
       "      <th></th>\n",
       "      <th></th>\n",
       "      <th></th>\n",
       "      <th></th>\n",
       "      <th></th>\n",
       "      <th></th>\n",
       "      <th></th>\n",
       "      <th></th>\n",
       "      <th></th>\n",
       "      <th></th>\n",
       "      <th></th>\n",
       "      <th></th>\n",
       "      <th></th>\n",
       "      <th></th>\n",
       "      <th></th>\n",
       "      <th></th>\n",
       "      <th></th>\n",
       "      <th></th>\n",
       "      <th></th>\n",
       "      <th></th>\n",
       "      <th></th>\n",
       "      <th></th>\n",
       "      <th></th>\n",
       "      <th></th>\n",
       "      <th></th>\n",
       "      <th></th>\n",
       "      <th></th>\n",
       "      <th></th>\n",
       "      <th></th>\n",
       "      <th></th>\n",
       "      <th></th>\n",
       "      <th></th>\n",
       "      <th></th>\n",
       "      <th></th>\n",
       "      <th></th>\n",
       "      <th></th>\n",
       "      <th></th>\n",
       "      <th></th>\n",
       "      <th></th>\n",
       "      <th></th>\n",
       "      <th></th>\n",
       "      <th></th>\n",
       "      <th></th>\n",
       "      <th></th>\n",
       "      <th></th>\n",
       "      <th></th>\n",
       "      <th></th>\n",
       "      <th></th>\n",
       "      <th></th>\n",
       "      <th></th>\n",
       "      <th></th>\n",
       "      <th></th>\n",
       "      <th></th>\n",
       "      <th></th>\n",
       "      <th></th>\n",
       "      <th></th>\n",
       "      <th></th>\n",
       "      <th></th>\n",
       "      <th></th>\n",
       "      <th></th>\n",
       "      <th></th>\n",
       "      <th></th>\n",
       "      <th></th>\n",
       "      <th></th>\n",
       "      <th></th>\n",
       "      <th></th>\n",
       "      <th></th>\n",
       "      <th></th>\n",
       "      <th></th>\n",
       "      <th></th>\n",
       "      <th></th>\n",
       "      <th></th>\n",
       "      <th></th>\n",
       "      <th></th>\n",
       "      <th></th>\n",
       "      <th></th>\n",
       "      <th></th>\n",
       "      <th></th>\n",
       "      <th></th>\n",
       "      <th></th>\n",
       "      <th></th>\n",
       "    </tr>\n",
       "  </thead>\n",
       "  <tbody>\n",
       "    <tr>\n",
       "      <th rowspan=\"2\" valign=\"top\">1</th>\n",
       "      <th>latino</th>\n",
       "      <td>3.0</td>\n",
       "      <td>3.0</td>\n",
       "      <td>2.0</td>\n",
       "      <td>1.0</td>\n",
       "      <td>1.0</td>\n",
       "      <td>1.0</td>\n",
       "      <td>0.0</td>\n",
       "      <td>0.0</td>\n",
       "      <td>2.0</td>\n",
       "      <td>0.0</td>\n",
       "      <td>0.46</td>\n",
       "      <td>0.30</td>\n",
       "      <td>4</td>\n",
       "      <td>0.250000</td>\n",
       "      <td>1</td>\n",
       "      <td>1.0</td>\n",
       "      <td>8185</td>\n",
       "      <td>-0.61</td>\n",
       "      <td>0.78</td>\n",
       "      <td>0.53</td>\n",
       "      <td>0.73</td>\n",
       "      <td>0.68</td>\n",
       "      <td>1.0</td>\n",
       "      <td>0.0</td>\n",
       "      <td>0.0</td>\n",
       "      <td>0.0</td>\n",
       "      <td>0.0</td>\n",
       "      <td>0.0</td>\n",
       "      <td>0.0</td>\n",
       "      <td>0.0</td>\n",
       "      <td>0.0</td>\n",
       "      <td>0.0</td>\n",
       "      <td>0.0</td>\n",
       "      <td>0.0</td>\n",
       "      <td>0.0</td>\n",
       "      <td>0.0</td>\n",
       "      <td>1.0</td>\n",
       "      <td>0.0</td>\n",
       "      <td>0.0</td>\n",
       "      <td>0.0</td>\n",
       "      <td>...</td>\n",
       "      <td>0.0</td>\n",
       "      <td>0.0</td>\n",
       "      <td>0.0</td>\n",
       "      <td>0.0</td>\n",
       "      <td>0.0</td>\n",
       "      <td>0.0</td>\n",
       "      <td>0.0</td>\n",
       "      <td>0.0</td>\n",
       "      <td>0.0</td>\n",
       "      <td>1.0</td>\n",
       "      <td>2.0</td>\n",
       "      <td>3.0</td>\n",
       "      <td>0.0</td>\n",
       "      <td>0.0</td>\n",
       "      <td>0.0</td>\n",
       "      <td>1.0</td>\n",
       "      <td>0.0</td>\n",
       "      <td>0.0</td>\n",
       "      <td>0.0</td>\n",
       "      <td>0.0</td>\n",
       "      <td>108.0</td>\n",
       "      <td>3.0</td>\n",
       "      <td>0.0</td>\n",
       "      <td>0.0</td>\n",
       "      <td>1.0</td>\n",
       "      <td>0.0</td>\n",
       "      <td>0.0</td>\n",
       "      <td>0.0</td>\n",
       "      <td>0.0</td>\n",
       "      <td>0.0</td>\n",
       "      <td>0.0</td>\n",
       "      <td>0.0</td>\n",
       "      <td>1.0</td>\n",
       "      <td>0.0</td>\n",
       "      <td>0.0</td>\n",
       "      <td>0.0</td>\n",
       "      <td>1.0</td>\n",
       "      <td>0.986871</td>\n",
       "      <td>0.033300</td>\n",
       "      <td>13.0</td>\n",
       "    </tr>\n",
       "    <tr>\n",
       "      <th>white</th>\n",
       "      <td>12.0</td>\n",
       "      <td>11.0</td>\n",
       "      <td>7.0</td>\n",
       "      <td>2.0</td>\n",
       "      <td>3.0</td>\n",
       "      <td>2.0</td>\n",
       "      <td>0.0</td>\n",
       "      <td>0.0</td>\n",
       "      <td>7.0</td>\n",
       "      <td>0.0</td>\n",
       "      <td>1.38</td>\n",
       "      <td>0.90</td>\n",
       "      <td>12</td>\n",
       "      <td>0.750000</td>\n",
       "      <td>3</td>\n",
       "      <td>3.0</td>\n",
       "      <td>5004</td>\n",
       "      <td>0.72</td>\n",
       "      <td>2.81</td>\n",
       "      <td>2.06</td>\n",
       "      <td>2.19</td>\n",
       "      <td>2.04</td>\n",
       "      <td>3.0</td>\n",
       "      <td>0.0</td>\n",
       "      <td>0.0</td>\n",
       "      <td>0.0</td>\n",
       "      <td>0.0</td>\n",
       "      <td>0.0</td>\n",
       "      <td>0.0</td>\n",
       "      <td>0.0</td>\n",
       "      <td>0.0</td>\n",
       "      <td>0.0</td>\n",
       "      <td>0.0</td>\n",
       "      <td>0.0</td>\n",
       "      <td>0.0</td>\n",
       "      <td>0.0</td>\n",
       "      <td>3.0</td>\n",
       "      <td>0.0</td>\n",
       "      <td>0.0</td>\n",
       "      <td>0.0</td>\n",
       "      <td>...</td>\n",
       "      <td>0.0</td>\n",
       "      <td>0.0</td>\n",
       "      <td>0.0</td>\n",
       "      <td>0.0</td>\n",
       "      <td>0.0</td>\n",
       "      <td>0.0</td>\n",
       "      <td>0.0</td>\n",
       "      <td>0.0</td>\n",
       "      <td>0.0</td>\n",
       "      <td>5.0</td>\n",
       "      <td>6.0</td>\n",
       "      <td>16.0</td>\n",
       "      <td>0.0</td>\n",
       "      <td>0.0</td>\n",
       "      <td>0.0</td>\n",
       "      <td>0.0</td>\n",
       "      <td>0.0</td>\n",
       "      <td>0.0</td>\n",
       "      <td>3.0</td>\n",
       "      <td>0.0</td>\n",
       "      <td>364.0</td>\n",
       "      <td>9.0</td>\n",
       "      <td>0.0</td>\n",
       "      <td>0.0</td>\n",
       "      <td>1.0</td>\n",
       "      <td>0.0</td>\n",
       "      <td>0.0</td>\n",
       "      <td>0.0</td>\n",
       "      <td>0.0</td>\n",
       "      <td>2.0</td>\n",
       "      <td>0.0</td>\n",
       "      <td>3.0</td>\n",
       "      <td>0.0</td>\n",
       "      <td>0.0</td>\n",
       "      <td>0.0</td>\n",
       "      <td>0.0</td>\n",
       "      <td>8.0</td>\n",
       "      <td>2.960612</td>\n",
       "      <td>0.099899</td>\n",
       "      <td>44.0</td>\n",
       "    </tr>\n",
       "    <tr>\n",
       "      <th rowspan=\"2\" valign=\"top\">2</th>\n",
       "      <th>asian</th>\n",
       "      <td>3.0</td>\n",
       "      <td>3.0</td>\n",
       "      <td>2.0</td>\n",
       "      <td>0.0</td>\n",
       "      <td>0.0</td>\n",
       "      <td>0.0</td>\n",
       "      <td>0.0</td>\n",
       "      <td>0.0</td>\n",
       "      <td>1.0</td>\n",
       "      <td>0.0</td>\n",
       "      <td>0.03</td>\n",
       "      <td>0.34</td>\n",
       "      <td>3</td>\n",
       "      <td>0.333333</td>\n",
       "      <td>1</td>\n",
       "      <td>1.0</td>\n",
       "      <td>5156</td>\n",
       "      <td>0.86</td>\n",
       "      <td>0.77</td>\n",
       "      <td>0.63</td>\n",
       "      <td>0.55</td>\n",
       "      <td>0.53</td>\n",
       "      <td>0.0</td>\n",
       "      <td>0.0</td>\n",
       "      <td>0.0</td>\n",
       "      <td>0.0</td>\n",
       "      <td>1.0</td>\n",
       "      <td>0.0</td>\n",
       "      <td>0.0</td>\n",
       "      <td>0.0</td>\n",
       "      <td>0.0</td>\n",
       "      <td>0.0</td>\n",
       "      <td>0.0</td>\n",
       "      <td>0.0</td>\n",
       "      <td>0.0</td>\n",
       "      <td>0.0</td>\n",
       "      <td>0.0</td>\n",
       "      <td>0.0</td>\n",
       "      <td>0.0</td>\n",
       "      <td>0.0</td>\n",
       "      <td>...</td>\n",
       "      <td>0.0</td>\n",
       "      <td>0.0</td>\n",
       "      <td>0.0</td>\n",
       "      <td>0.0</td>\n",
       "      <td>0.0</td>\n",
       "      <td>0.0</td>\n",
       "      <td>0.0</td>\n",
       "      <td>0.0</td>\n",
       "      <td>0.0</td>\n",
       "      <td>2.0</td>\n",
       "      <td>2.0</td>\n",
       "      <td>6.0</td>\n",
       "      <td>0.0</td>\n",
       "      <td>1.0</td>\n",
       "      <td>0.0</td>\n",
       "      <td>0.0</td>\n",
       "      <td>0.0</td>\n",
       "      <td>0.0</td>\n",
       "      <td>0.0</td>\n",
       "      <td>0.0</td>\n",
       "      <td>111.0</td>\n",
       "      <td>2.0</td>\n",
       "      <td>0.0</td>\n",
       "      <td>0.0</td>\n",
       "      <td>0.0</td>\n",
       "      <td>0.0</td>\n",
       "      <td>0.0</td>\n",
       "      <td>0.0</td>\n",
       "      <td>0.0</td>\n",
       "      <td>1.0</td>\n",
       "      <td>0.0</td>\n",
       "      <td>0.0</td>\n",
       "      <td>1.0</td>\n",
       "      <td>0.0</td>\n",
       "      <td>0.0</td>\n",
       "      <td>0.0</td>\n",
       "      <td>2.0</td>\n",
       "      <td>0.891790</td>\n",
       "      <td>-0.199000</td>\n",
       "      <td>9.0</td>\n",
       "    </tr>\n",
       "    <tr>\n",
       "      <th>white</th>\n",
       "      <td>7.0</td>\n",
       "      <td>7.0</td>\n",
       "      <td>5.0</td>\n",
       "      <td>2.0</td>\n",
       "      <td>2.0</td>\n",
       "      <td>0.0</td>\n",
       "      <td>0.0</td>\n",
       "      <td>0.0</td>\n",
       "      <td>4.0</td>\n",
       "      <td>2.0</td>\n",
       "      <td>0.06</td>\n",
       "      <td>0.68</td>\n",
       "      <td>6</td>\n",
       "      <td>0.666667</td>\n",
       "      <td>2</td>\n",
       "      <td>2.0</td>\n",
       "      <td>12343</td>\n",
       "      <td>-0.36</td>\n",
       "      <td>1.50</td>\n",
       "      <td>1.46</td>\n",
       "      <td>1.10</td>\n",
       "      <td>1.06</td>\n",
       "      <td>0.0</td>\n",
       "      <td>0.0</td>\n",
       "      <td>0.0</td>\n",
       "      <td>0.0</td>\n",
       "      <td>2.0</td>\n",
       "      <td>0.0</td>\n",
       "      <td>0.0</td>\n",
       "      <td>0.0</td>\n",
       "      <td>0.0</td>\n",
       "      <td>0.0</td>\n",
       "      <td>0.0</td>\n",
       "      <td>0.0</td>\n",
       "      <td>0.0</td>\n",
       "      <td>0.0</td>\n",
       "      <td>0.0</td>\n",
       "      <td>0.0</td>\n",
       "      <td>0.0</td>\n",
       "      <td>0.0</td>\n",
       "      <td>...</td>\n",
       "      <td>0.0</td>\n",
       "      <td>0.0</td>\n",
       "      <td>0.0</td>\n",
       "      <td>0.0</td>\n",
       "      <td>0.0</td>\n",
       "      <td>0.0</td>\n",
       "      <td>0.0</td>\n",
       "      <td>0.0</td>\n",
       "      <td>0.0</td>\n",
       "      <td>3.0</td>\n",
       "      <td>4.0</td>\n",
       "      <td>12.0</td>\n",
       "      <td>0.0</td>\n",
       "      <td>0.0</td>\n",
       "      <td>0.0</td>\n",
       "      <td>0.0</td>\n",
       "      <td>0.0</td>\n",
       "      <td>0.0</td>\n",
       "      <td>2.0</td>\n",
       "      <td>0.0</td>\n",
       "      <td>226.0</td>\n",
       "      <td>6.0</td>\n",
       "      <td>0.0</td>\n",
       "      <td>0.0</td>\n",
       "      <td>2.0</td>\n",
       "      <td>0.0</td>\n",
       "      <td>0.0</td>\n",
       "      <td>0.0</td>\n",
       "      <td>0.0</td>\n",
       "      <td>0.0</td>\n",
       "      <td>0.0</td>\n",
       "      <td>2.0</td>\n",
       "      <td>0.0</td>\n",
       "      <td>0.0</td>\n",
       "      <td>0.0</td>\n",
       "      <td>0.0</td>\n",
       "      <td>9.0</td>\n",
       "      <td>1.783580</td>\n",
       "      <td>-0.397999</td>\n",
       "      <td>29.0</td>\n",
       "    </tr>\n",
       "    <tr>\n",
       "      <th>3</th>\n",
       "      <th>white</th>\n",
       "      <td>7.0</td>\n",
       "      <td>9.0</td>\n",
       "      <td>6.0</td>\n",
       "      <td>2.0</td>\n",
       "      <td>1.0</td>\n",
       "      <td>1.0</td>\n",
       "      <td>0.0</td>\n",
       "      <td>0.0</td>\n",
       "      <td>4.0</td>\n",
       "      <td>2.0</td>\n",
       "      <td>-3.87</td>\n",
       "      <td>1.02</td>\n",
       "      <td>9</td>\n",
       "      <td>1.000000</td>\n",
       "      <td>3</td>\n",
       "      <td>3.0</td>\n",
       "      <td>13130</td>\n",
       "      <td>-1.38</td>\n",
       "      <td>3.03</td>\n",
       "      <td>2.77</td>\n",
       "      <td>2.82</td>\n",
       "      <td>3.57</td>\n",
       "      <td>3.0</td>\n",
       "      <td>0.0</td>\n",
       "      <td>0.0</td>\n",
       "      <td>0.0</td>\n",
       "      <td>0.0</td>\n",
       "      <td>0.0</td>\n",
       "      <td>0.0</td>\n",
       "      <td>0.0</td>\n",
       "      <td>3.0</td>\n",
       "      <td>0.0</td>\n",
       "      <td>0.0</td>\n",
       "      <td>0.0</td>\n",
       "      <td>0.0</td>\n",
       "      <td>0.0</td>\n",
       "      <td>0.0</td>\n",
       "      <td>0.0</td>\n",
       "      <td>0.0</td>\n",
       "      <td>0.0</td>\n",
       "      <td>...</td>\n",
       "      <td>0.0</td>\n",
       "      <td>0.0</td>\n",
       "      <td>0.0</td>\n",
       "      <td>0.0</td>\n",
       "      <td>0.0</td>\n",
       "      <td>0.0</td>\n",
       "      <td>0.0</td>\n",
       "      <td>0.0</td>\n",
       "      <td>0.0</td>\n",
       "      <td>6.0</td>\n",
       "      <td>6.0</td>\n",
       "      <td>19.0</td>\n",
       "      <td>0.0</td>\n",
       "      <td>0.0</td>\n",
       "      <td>0.0</td>\n",
       "      <td>0.0</td>\n",
       "      <td>0.0</td>\n",
       "      <td>0.0</td>\n",
       "      <td>3.0</td>\n",
       "      <td>0.0</td>\n",
       "      <td>369.0</td>\n",
       "      <td>7.0</td>\n",
       "      <td>1.0</td>\n",
       "      <td>0.0</td>\n",
       "      <td>1.0</td>\n",
       "      <td>0.0</td>\n",
       "      <td>0.0</td>\n",
       "      <td>0.0</td>\n",
       "      <td>0.0</td>\n",
       "      <td>1.0</td>\n",
       "      <td>0.0</td>\n",
       "      <td>2.0</td>\n",
       "      <td>0.0</td>\n",
       "      <td>1.0</td>\n",
       "      <td>0.0</td>\n",
       "      <td>0.0</td>\n",
       "      <td>10.0</td>\n",
       "      <td>2.725462</td>\n",
       "      <td>-2.419528</td>\n",
       "      <td>32.0</td>\n",
       "    </tr>\n",
       "    <tr>\n",
       "      <th>...</th>\n",
       "      <th>...</th>\n",
       "      <td>...</td>\n",
       "      <td>...</td>\n",
       "      <td>...</td>\n",
       "      <td>...</td>\n",
       "      <td>...</td>\n",
       "      <td>...</td>\n",
       "      <td>...</td>\n",
       "      <td>...</td>\n",
       "      <td>...</td>\n",
       "      <td>...</td>\n",
       "      <td>...</td>\n",
       "      <td>...</td>\n",
       "      <td>...</td>\n",
       "      <td>...</td>\n",
       "      <td>...</td>\n",
       "      <td>...</td>\n",
       "      <td>...</td>\n",
       "      <td>...</td>\n",
       "      <td>...</td>\n",
       "      <td>...</td>\n",
       "      <td>...</td>\n",
       "      <td>...</td>\n",
       "      <td>...</td>\n",
       "      <td>...</td>\n",
       "      <td>...</td>\n",
       "      <td>...</td>\n",
       "      <td>...</td>\n",
       "      <td>...</td>\n",
       "      <td>...</td>\n",
       "      <td>...</td>\n",
       "      <td>...</td>\n",
       "      <td>...</td>\n",
       "      <td>...</td>\n",
       "      <td>...</td>\n",
       "      <td>...</td>\n",
       "      <td>...</td>\n",
       "      <td>...</td>\n",
       "      <td>...</td>\n",
       "      <td>...</td>\n",
       "      <td>...</td>\n",
       "      <td>...</td>\n",
       "      <td>...</td>\n",
       "      <td>...</td>\n",
       "      <td>...</td>\n",
       "      <td>...</td>\n",
       "      <td>...</td>\n",
       "      <td>...</td>\n",
       "      <td>...</td>\n",
       "      <td>...</td>\n",
       "      <td>...</td>\n",
       "      <td>...</td>\n",
       "      <td>...</td>\n",
       "      <td>...</td>\n",
       "      <td>...</td>\n",
       "      <td>...</td>\n",
       "      <td>...</td>\n",
       "      <td>...</td>\n",
       "      <td>...</td>\n",
       "      <td>...</td>\n",
       "      <td>...</td>\n",
       "      <td>...</td>\n",
       "      <td>...</td>\n",
       "      <td>...</td>\n",
       "      <td>...</td>\n",
       "      <td>...</td>\n",
       "      <td>...</td>\n",
       "      <td>...</td>\n",
       "      <td>...</td>\n",
       "      <td>...</td>\n",
       "      <td>...</td>\n",
       "      <td>...</td>\n",
       "      <td>...</td>\n",
       "      <td>...</td>\n",
       "      <td>...</td>\n",
       "      <td>...</td>\n",
       "      <td>...</td>\n",
       "      <td>...</td>\n",
       "      <td>...</td>\n",
       "      <td>...</td>\n",
       "      <td>...</td>\n",
       "      <td>...</td>\n",
       "    </tr>\n",
       "    <tr>\n",
       "      <th>50066</th>\n",
       "      <th>white</th>\n",
       "      <td>12.0</td>\n",
       "      <td>12.0</td>\n",
       "      <td>8.0</td>\n",
       "      <td>5.0</td>\n",
       "      <td>3.0</td>\n",
       "      <td>3.0</td>\n",
       "      <td>3.0</td>\n",
       "      <td>3.0</td>\n",
       "      <td>7.0</td>\n",
       "      <td>2.0</td>\n",
       "      <td>6.15</td>\n",
       "      <td>1.08</td>\n",
       "      <td>12</td>\n",
       "      <td>0.750000</td>\n",
       "      <td>3</td>\n",
       "      <td>3.0</td>\n",
       "      <td>25502</td>\n",
       "      <td>0.26</td>\n",
       "      <td>3.41</td>\n",
       "      <td>3.05</td>\n",
       "      <td>3.99</td>\n",
       "      <td>3.63</td>\n",
       "      <td>1.0</td>\n",
       "      <td>0.0</td>\n",
       "      <td>2.0</td>\n",
       "      <td>0.0</td>\n",
       "      <td>0.0</td>\n",
       "      <td>0.0</td>\n",
       "      <td>0.0</td>\n",
       "      <td>0.0</td>\n",
       "      <td>0.0</td>\n",
       "      <td>0.0</td>\n",
       "      <td>0.0</td>\n",
       "      <td>0.0</td>\n",
       "      <td>1.0</td>\n",
       "      <td>0.0</td>\n",
       "      <td>0.0</td>\n",
       "      <td>0.0</td>\n",
       "      <td>0.0</td>\n",
       "      <td>0.0</td>\n",
       "      <td>...</td>\n",
       "      <td>0.0</td>\n",
       "      <td>0.0</td>\n",
       "      <td>0.0</td>\n",
       "      <td>0.0</td>\n",
       "      <td>0.0</td>\n",
       "      <td>0.0</td>\n",
       "      <td>0.0</td>\n",
       "      <td>0.0</td>\n",
       "      <td>0.0</td>\n",
       "      <td>5.0</td>\n",
       "      <td>6.0</td>\n",
       "      <td>17.0</td>\n",
       "      <td>0.0</td>\n",
       "      <td>0.0</td>\n",
       "      <td>0.0</td>\n",
       "      <td>0.0</td>\n",
       "      <td>0.0</td>\n",
       "      <td>0.0</td>\n",
       "      <td>3.0</td>\n",
       "      <td>0.0</td>\n",
       "      <td>360.0</td>\n",
       "      <td>9.0</td>\n",
       "      <td>0.0</td>\n",
       "      <td>0.0</td>\n",
       "      <td>3.0</td>\n",
       "      <td>0.0</td>\n",
       "      <td>0.0</td>\n",
       "      <td>0.0</td>\n",
       "      <td>0.0</td>\n",
       "      <td>0.0</td>\n",
       "      <td>0.0</td>\n",
       "      <td>3.0</td>\n",
       "      <td>0.0</td>\n",
       "      <td>0.0</td>\n",
       "      <td>0.0</td>\n",
       "      <td>0.0</td>\n",
       "      <td>10.0</td>\n",
       "      <td>2.778848</td>\n",
       "      <td>0.652432</td>\n",
       "      <td>58.0</td>\n",
       "    </tr>\n",
       "    <tr>\n",
       "      <th>50067</th>\n",
       "      <th>white</th>\n",
       "      <td>4.0</td>\n",
       "      <td>3.0</td>\n",
       "      <td>2.0</td>\n",
       "      <td>1.0</td>\n",
       "      <td>1.0</td>\n",
       "      <td>0.0</td>\n",
       "      <td>1.0</td>\n",
       "      <td>0.0</td>\n",
       "      <td>2.0</td>\n",
       "      <td>1.0</td>\n",
       "      <td>0.74</td>\n",
       "      <td>0.62</td>\n",
       "      <td>1</td>\n",
       "      <td>1.000000</td>\n",
       "      <td>1</td>\n",
       "      <td>1.0</td>\n",
       "      <td>5699</td>\n",
       "      <td>0.04</td>\n",
       "      <td>1.06</td>\n",
       "      <td>0.88</td>\n",
       "      <td>0.77</td>\n",
       "      <td>0.96</td>\n",
       "      <td>0.0</td>\n",
       "      <td>0.0</td>\n",
       "      <td>1.0</td>\n",
       "      <td>0.0</td>\n",
       "      <td>0.0</td>\n",
       "      <td>0.0</td>\n",
       "      <td>0.0</td>\n",
       "      <td>0.0</td>\n",
       "      <td>0.0</td>\n",
       "      <td>0.0</td>\n",
       "      <td>0.0</td>\n",
       "      <td>0.0</td>\n",
       "      <td>0.0</td>\n",
       "      <td>0.0</td>\n",
       "      <td>0.0</td>\n",
       "      <td>0.0</td>\n",
       "      <td>0.0</td>\n",
       "      <td>0.0</td>\n",
       "      <td>...</td>\n",
       "      <td>0.0</td>\n",
       "      <td>0.0</td>\n",
       "      <td>0.0</td>\n",
       "      <td>0.0</td>\n",
       "      <td>0.0</td>\n",
       "      <td>0.0</td>\n",
       "      <td>0.0</td>\n",
       "      <td>0.0</td>\n",
       "      <td>0.0</td>\n",
       "      <td>1.0</td>\n",
       "      <td>2.0</td>\n",
       "      <td>3.0</td>\n",
       "      <td>0.0</td>\n",
       "      <td>0.0</td>\n",
       "      <td>0.0</td>\n",
       "      <td>0.0</td>\n",
       "      <td>0.0</td>\n",
       "      <td>0.0</td>\n",
       "      <td>1.0</td>\n",
       "      <td>0.0</td>\n",
       "      <td>113.0</td>\n",
       "      <td>1.0</td>\n",
       "      <td>0.0</td>\n",
       "      <td>0.0</td>\n",
       "      <td>1.0</td>\n",
       "      <td>0.0</td>\n",
       "      <td>0.0</td>\n",
       "      <td>0.0</td>\n",
       "      <td>0.0</td>\n",
       "      <td>0.0</td>\n",
       "      <td>0.0</td>\n",
       "      <td>1.0</td>\n",
       "      <td>0.0</td>\n",
       "      <td>0.0</td>\n",
       "      <td>0.0</td>\n",
       "      <td>0.0</td>\n",
       "      <td>6.0</td>\n",
       "      <td>0.880854</td>\n",
       "      <td>-0.021373</td>\n",
       "      <td>15.0</td>\n",
       "    </tr>\n",
       "    <tr>\n",
       "      <th>50068</th>\n",
       "      <th>white</th>\n",
       "      <td>1.0</td>\n",
       "      <td>1.0</td>\n",
       "      <td>0.0</td>\n",
       "      <td>0.0</td>\n",
       "      <td>0.0</td>\n",
       "      <td>0.0</td>\n",
       "      <td>0.0</td>\n",
       "      <td>0.0</td>\n",
       "      <td>2.0</td>\n",
       "      <td>0.0</td>\n",
       "      <td>-8.56</td>\n",
       "      <td>1.14</td>\n",
       "      <td>4</td>\n",
       "      <td>1.000000</td>\n",
       "      <td>2</td>\n",
       "      <td>2.0</td>\n",
       "      <td>11338</td>\n",
       "      <td>0.30</td>\n",
       "      <td>1.85</td>\n",
       "      <td>1.28</td>\n",
       "      <td>2.66</td>\n",
       "      <td>1.00</td>\n",
       "      <td>0.0</td>\n",
       "      <td>0.0</td>\n",
       "      <td>1.0</td>\n",
       "      <td>1.0</td>\n",
       "      <td>0.0</td>\n",
       "      <td>0.0</td>\n",
       "      <td>0.0</td>\n",
       "      <td>0.0</td>\n",
       "      <td>0.0</td>\n",
       "      <td>0.0</td>\n",
       "      <td>0.0</td>\n",
       "      <td>0.0</td>\n",
       "      <td>0.0</td>\n",
       "      <td>0.0</td>\n",
       "      <td>0.0</td>\n",
       "      <td>0.0</td>\n",
       "      <td>0.0</td>\n",
       "      <td>0.0</td>\n",
       "      <td>...</td>\n",
       "      <td>0.0</td>\n",
       "      <td>0.0</td>\n",
       "      <td>0.0</td>\n",
       "      <td>0.0</td>\n",
       "      <td>0.0</td>\n",
       "      <td>0.0</td>\n",
       "      <td>0.0</td>\n",
       "      <td>0.0</td>\n",
       "      <td>0.0</td>\n",
       "      <td>3.0</td>\n",
       "      <td>4.0</td>\n",
       "      <td>7.0</td>\n",
       "      <td>0.0</td>\n",
       "      <td>0.0</td>\n",
       "      <td>0.0</td>\n",
       "      <td>0.0</td>\n",
       "      <td>0.0</td>\n",
       "      <td>0.0</td>\n",
       "      <td>2.0</td>\n",
       "      <td>0.0</td>\n",
       "      <td>229.0</td>\n",
       "      <td>4.0</td>\n",
       "      <td>2.0</td>\n",
       "      <td>0.0</td>\n",
       "      <td>0.0</td>\n",
       "      <td>0.0</td>\n",
       "      <td>0.0</td>\n",
       "      <td>0.0</td>\n",
       "      <td>0.0</td>\n",
       "      <td>0.0</td>\n",
       "      <td>0.0</td>\n",
       "      <td>2.0</td>\n",
       "      <td>0.0</td>\n",
       "      <td>0.0</td>\n",
       "      <td>0.0</td>\n",
       "      <td>0.0</td>\n",
       "      <td>8.0</td>\n",
       "      <td>1.756256</td>\n",
       "      <td>-2.461033</td>\n",
       "      <td>4.0</td>\n",
       "    </tr>\n",
       "    <tr>\n",
       "      <th>50069</th>\n",
       "      <th>white</th>\n",
       "      <td>4.0</td>\n",
       "      <td>4.0</td>\n",
       "      <td>2.0</td>\n",
       "      <td>1.0</td>\n",
       "      <td>1.0</td>\n",
       "      <td>1.0</td>\n",
       "      <td>0.0</td>\n",
       "      <td>0.0</td>\n",
       "      <td>2.0</td>\n",
       "      <td>0.0</td>\n",
       "      <td>0.81</td>\n",
       "      <td>0.36</td>\n",
       "      <td>1</td>\n",
       "      <td>1.000000</td>\n",
       "      <td>1</td>\n",
       "      <td>1.0</td>\n",
       "      <td>9083</td>\n",
       "      <td>0.42</td>\n",
       "      <td>0.92</td>\n",
       "      <td>1.08</td>\n",
       "      <td>0.47</td>\n",
       "      <td>0.48</td>\n",
       "      <td>0.0</td>\n",
       "      <td>0.0</td>\n",
       "      <td>0.0</td>\n",
       "      <td>1.0</td>\n",
       "      <td>0.0</td>\n",
       "      <td>0.0</td>\n",
       "      <td>0.0</td>\n",
       "      <td>0.0</td>\n",
       "      <td>0.0</td>\n",
       "      <td>0.0</td>\n",
       "      <td>0.0</td>\n",
       "      <td>0.0</td>\n",
       "      <td>0.0</td>\n",
       "      <td>0.0</td>\n",
       "      <td>0.0</td>\n",
       "      <td>0.0</td>\n",
       "      <td>0.0</td>\n",
       "      <td>0.0</td>\n",
       "      <td>...</td>\n",
       "      <td>0.0</td>\n",
       "      <td>0.0</td>\n",
       "      <td>0.0</td>\n",
       "      <td>0.0</td>\n",
       "      <td>0.0</td>\n",
       "      <td>0.0</td>\n",
       "      <td>0.0</td>\n",
       "      <td>0.0</td>\n",
       "      <td>0.0</td>\n",
       "      <td>1.0</td>\n",
       "      <td>2.0</td>\n",
       "      <td>3.0</td>\n",
       "      <td>0.0</td>\n",
       "      <td>0.0</td>\n",
       "      <td>0.0</td>\n",
       "      <td>0.0</td>\n",
       "      <td>0.0</td>\n",
       "      <td>0.0</td>\n",
       "      <td>1.0</td>\n",
       "      <td>0.0</td>\n",
       "      <td>137.0</td>\n",
       "      <td>2.0</td>\n",
       "      <td>0.0</td>\n",
       "      <td>0.0</td>\n",
       "      <td>0.0</td>\n",
       "      <td>0.0</td>\n",
       "      <td>0.0</td>\n",
       "      <td>0.0</td>\n",
       "      <td>0.0</td>\n",
       "      <td>0.0</td>\n",
       "      <td>1.0</td>\n",
       "      <td>0.0</td>\n",
       "      <td>0.0</td>\n",
       "      <td>1.0</td>\n",
       "      <td>0.0</td>\n",
       "      <td>0.0</td>\n",
       "      <td>4.0</td>\n",
       "      <td>0.055487</td>\n",
       "      <td>-0.136107</td>\n",
       "      <td>15.0</td>\n",
       "    </tr>\n",
       "    <tr>\n",
       "      <th>50070</th>\n",
       "      <th>white</th>\n",
       "      <td>12.0</td>\n",
       "      <td>12.0</td>\n",
       "      <td>9.0</td>\n",
       "      <td>5.0</td>\n",
       "      <td>2.0</td>\n",
       "      <td>1.0</td>\n",
       "      <td>2.0</td>\n",
       "      <td>1.0</td>\n",
       "      <td>9.0</td>\n",
       "      <td>2.0</td>\n",
       "      <td>7.29</td>\n",
       "      <td>1.35</td>\n",
       "      <td>9</td>\n",
       "      <td>1.000000</td>\n",
       "      <td>3</td>\n",
       "      <td>3.0</td>\n",
       "      <td>19616</td>\n",
       "      <td>0.49</td>\n",
       "      <td>2.93</td>\n",
       "      <td>2.82</td>\n",
       "      <td>3.69</td>\n",
       "      <td>5.37</td>\n",
       "      <td>0.0</td>\n",
       "      <td>0.0</td>\n",
       "      <td>0.0</td>\n",
       "      <td>3.0</td>\n",
       "      <td>0.0</td>\n",
       "      <td>0.0</td>\n",
       "      <td>0.0</td>\n",
       "      <td>0.0</td>\n",
       "      <td>0.0</td>\n",
       "      <td>0.0</td>\n",
       "      <td>0.0</td>\n",
       "      <td>0.0</td>\n",
       "      <td>0.0</td>\n",
       "      <td>0.0</td>\n",
       "      <td>0.0</td>\n",
       "      <td>0.0</td>\n",
       "      <td>0.0</td>\n",
       "      <td>0.0</td>\n",
       "      <td>...</td>\n",
       "      <td>0.0</td>\n",
       "      <td>0.0</td>\n",
       "      <td>0.0</td>\n",
       "      <td>0.0</td>\n",
       "      <td>0.0</td>\n",
       "      <td>0.0</td>\n",
       "      <td>0.0</td>\n",
       "      <td>0.0</td>\n",
       "      <td>0.0</td>\n",
       "      <td>3.0</td>\n",
       "      <td>6.0</td>\n",
       "      <td>11.0</td>\n",
       "      <td>0.0</td>\n",
       "      <td>0.0</td>\n",
       "      <td>0.0</td>\n",
       "      <td>0.0</td>\n",
       "      <td>0.0</td>\n",
       "      <td>0.0</td>\n",
       "      <td>3.0</td>\n",
       "      <td>0.0</td>\n",
       "      <td>409.0</td>\n",
       "      <td>10.0</td>\n",
       "      <td>0.0</td>\n",
       "      <td>0.0</td>\n",
       "      <td>2.0</td>\n",
       "      <td>0.0</td>\n",
       "      <td>0.0</td>\n",
       "      <td>0.0</td>\n",
       "      <td>0.0</td>\n",
       "      <td>1.0</td>\n",
       "      <td>0.0</td>\n",
       "      <td>3.0</td>\n",
       "      <td>0.0</td>\n",
       "      <td>0.0</td>\n",
       "      <td>0.0</td>\n",
       "      <td>0.0</td>\n",
       "      <td>12.0</td>\n",
       "      <td>2.913399</td>\n",
       "      <td>1.660528</td>\n",
       "      <td>55.0</td>\n",
       "    </tr>\n",
       "  </tbody>\n",
       "</table>\n",
       "<p>58644 rows × 118 columns</p>\n",
       "</div>"
      ],
      "text/plain": [
       "                       sentiment  respect  ...  hypothesis  hate_speech_sum\n",
       "comment_id label_race                      ...                             \n",
       "1          latino            3.0      3.0  ...    0.033300             13.0\n",
       "           white            12.0     11.0  ...    0.099899             44.0\n",
       "2          asian             3.0      3.0  ...   -0.199000              9.0\n",
       "           white             7.0      7.0  ...   -0.397999             29.0\n",
       "3          white             7.0      9.0  ...   -2.419528             32.0\n",
       "...                          ...      ...  ...         ...              ...\n",
       "50066      white            12.0     12.0  ...    0.652432             58.0\n",
       "50067      white             4.0      3.0  ...   -0.021373             15.0\n",
       "50068      white             1.0      1.0  ...   -2.461033              4.0\n",
       "50069      white             4.0      4.0  ...   -0.136107             15.0\n",
       "50070      white            12.0     12.0  ...    1.660528             55.0\n",
       "\n",
       "[58644 rows x 118 columns]"
      ]
     },
     "execution_count": 88,
     "metadata": {
      "tags": []
     },
     "output_type": "execute_result"
    }
   ],
   "source": [
    "data_multi.groupby(['comment_id', 'label_race']).sum()"
   ]
  },
  {
   "cell_type": "code",
   "execution_count": null,
   "metadata": {
    "colab": {
     "base_uri": "https://localhost:8080/"
    },
    "id": "6iRPRzs8xypm",
    "outputId": "8f790249-9c9f-4810-f62d-ac7669272313"
   },
   "outputs": [
    {
     "data": {
      "text/plain": [
       "label_race\n",
       "american indian alaska native       18.700000\n",
       "asian                               18.714286\n",
       "black                               18.569231\n",
       "latino                              18.727273\n",
       "middle eastern                      20.000000\n",
       "native hawaiian pacific islander    19.333333\n",
       "other race                          19.000000\n",
       "unknown                             16.000000\n",
       "white                               18.500852\n",
       "Name: hate_speech_sum, dtype: float64"
      ]
     },
     "execution_count": 89,
     "metadata": {
      "tags": []
     },
     "output_type": "execute_result"
    }
   ],
   "source": [
    "data_multi[data_multi['comment_id'] == 20007].groupby('label_race')['hate_speech_sum'].mean()\n",
    "\n",
    "#looking at the comments and finding the biggest discrepancies between white raters and black raters\n",
    "#get hate speech sum grouped by label race adn comment id and finding where is the biggest difference happenign\n",
    "#when is the biggest difference between white raters and black labelers?\n",
    "\n",
    "#for which comments\n",
    "#hate speech sum for race -- do it by comment by comment basis \n",
    "#maybe on another comment the difference between black and white the mean diff is higher "
   ]
  },
  {
   "cell_type": "code",
   "execution_count": null,
   "metadata": {
    "colab": {
     "base_uri": "https://localhost:8080/"
    },
    "id": "7NI8puU-xNhq",
    "outputId": "40bec6d8-f462-48af-8290-e76e04979981"
   },
   "outputs": [
    {
     "data": {
      "text/plain": [
       "label_race\n",
       "american indian alaska native       11.354704\n",
       "asian                               11.315358\n",
       "black                               11.278422\n",
       "latino                              11.334396\n",
       "middle eastern                      11.800000\n",
       "native hawaiian pacific islander    11.003472\n",
       "other race                          11.305463\n",
       "unknown                             11.824561\n",
       "white                               11.445089\n",
       "Name: hate_speech_sum, dtype: float64"
      ]
     },
     "execution_count": 90,
     "metadata": {
      "tags": []
     },
     "output_type": "execute_result"
    }
   ],
   "source": [
    "data_multi.groupby('label_race')['hate_speech_sum'].mean()\n",
    "#this is just an average across all of the comments"
   ]
  },
  {
   "cell_type": "code",
   "execution_count": null,
   "metadata": {
    "id": "FETBzW76xNlh"
   },
   "outputs": [],
   "source": [
    "#find comments who are targeting based off of race and racial group\n",
    "#split white vs non white\n",
    "#raters who are black and white and compare across all of them \n",
    "\n",
    "#it may be worthwhile to look at the text of the individual comments themselves"
   ]
  },
  {
   "cell_type": "code",
   "execution_count": null,
   "metadata": {
    "colab": {
     "base_uri": "https://localhost:8080/"
    },
    "id": "ah_yiRk6xNpj",
    "outputId": "c8b181d2-2179-4446-86a6-aeaeeae46cbf"
   },
   "outputs": [
    {
     "data": {
      "text/plain": [
       "NaN    112657\n",
       "1.0     22899\n",
       "Name: target_black, dtype: int64"
      ]
     },
     "execution_count": 92,
     "metadata": {
      "tags": []
     },
     "output_type": "execute_result"
    }
   ],
   "source": [
    "#all comments targeting black folks\n",
    "\n",
    "data_multi['target_black'].value_counts(dropna=False)\n",
    "\n",
    "\n",
    "#\"target_race_1\\\",  # Black or African American\\n\",\n",
    "#   \"    \\\"target_race_2\\\",  # Hispanic or Latino\\n\",\n",
    "#  \"    \\\"target_race_3\\\",  # Asian\\n\",\n",
    "# \"    \\\"target_race_8\\\",  # Middle Eastern\\n\",\n",
    "#    \"    \\\"target_race_4\\\",  # Native American\\n\",\n",
    "#   \"    \\\"target_race_5\\\",  # Pacific Islander\\n\",\n",
    "#  \"    \\\"target_race_6\\\",  # White\\n\",\n",
    "#   \"    \\\"target_race_7\\\",  # Other race\\n\",\n",
    "#  \"    \\\"target_race_7_text\\\",  # If other, which?\\n\","
   ]
  },
  {
   "cell_type": "code",
   "execution_count": null,
   "metadata": {
    "colab": {
     "base_uri": "https://localhost:8080/"
    },
    "id": "_BNDAyedxNwM",
    "outputId": "d58a0188-d210-4e28-ce42-630f3125ce68"
   },
   "outputs": [
    {
     "data": {
      "text/plain": [
       "(2292, 137)"
      ]
     },
     "execution_count": 93,
     "metadata": {
      "tags": []
     },
     "output_type": "execute_result"
    }
   ],
   "source": [
    "data_multi[(data_multi['target_black'] ==1) & (data_multi['demo_black'] == 1)].shape"
   ]
  },
  {
   "cell_type": "code",
   "execution_count": null,
   "metadata": {
    "colab": {
     "base_uri": "https://localhost:8080/"
    },
    "id": "Dz0PsGvI1w7-",
    "outputId": "5c43254a-9c60-4db6-a9c2-06268c66e550"
   },
   "outputs": [
    {
     "data": {
      "text/plain": [
       "(18545, 137)"
      ]
     },
     "execution_count": 94,
     "metadata": {
      "tags": []
     },
     "output_type": "execute_result"
    }
   ],
   "source": [
    "data_multi[(data_multi['target_black'] ==1) & (data_multi['demo_white'] == 1)].shape"
   ]
  },
  {
   "cell_type": "code",
   "execution_count": null,
   "metadata": {
    "colab": {
     "base_uri": "https://localhost:8080/",
     "height": 282
    },
    "id": "SnqnMr071xA5",
    "outputId": "29ca4d60-68d3-4f98-dc44-f170caf897ce"
   },
   "outputs": [
    {
     "data": {
      "text/plain": [
       "<matplotlib.axes._subplots.AxesSubplot at 0x7f0779193950>"
      ]
     },
     "execution_count": 95,
     "metadata": {
      "tags": []
     },
     "output_type": "execute_result"
    },
    {
     "data": {
      "image/png": "[encoded data removed]",
      "text/plain": [
       "<Figure size 432x288 with 1 Axes>"
      ]
     },
     "metadata": {
      "needs_background": "light",
      "tags": []
     },
     "output_type": "display_data"
    }
   ],
   "source": [
    "#get hate speech score column for each one\n",
    "\n",
    "data_multi[(data_multi['target_black'] ==1) & (data_multi['demo_white'] == 1)]['hate_speech_sum'].hist()"
   ]
  },
  {
   "cell_type": "code",
   "execution_count": null,
   "metadata": {
    "colab": {
     "base_uri": "https://localhost:8080/",
     "height": 282
    },
    "id": "eCz2TENz1xFs",
    "outputId": "43715351-216f-4eb4-db6d-26c16580ef7e"
   },
   "outputs": [
    {
     "data": {
      "text/plain": [
       "<matplotlib.axes._subplots.AxesSubplot at 0x7f0779023150>"
      ]
     },
     "execution_count": 96,
     "metadata": {
      "tags": []
     },
     "output_type": "execute_result"
    },
    {
     "data": {
      "image/png": "[encoded data removed]",
      "text/plain": [
       "<Figure size 432x288 with 1 Axes>"
      ]
     },
     "metadata": {
      "needs_background": "light",
      "tags": []
     },
     "output_type": "display_data"
    }
   ],
   "source": [
    "data_multi[(data_multi['target_black'] ==1) & (data_multi['demo_black'] == 1)]['hate_speech_sum'].hist()"
   ]
  },
  {
   "cell_type": "code",
   "execution_count": null,
   "metadata": {
    "colab": {
     "base_uri": "https://localhost:8080/",
     "height": 282
    },
    "id": "ohpgHR__1xJz",
    "outputId": "03b66c58-845d-4d20-b43a-1b8ce5ace312"
   },
   "outputs": [
    {
     "data": {
      "text/plain": [
       "<matplotlib.axes._subplots.AxesSubplot at 0x7f078f2942d0>"
      ]
     },
     "execution_count": 97,
     "metadata": {
      "tags": []
     },
     "output_type": "execute_result"
    },
    {
     "data": {
      "image/png": "[encoded data removed]",
      "text/plain": [
       "<Figure size 432x288 with 1 Axes>"
      ]
     },
     "metadata": {
      "needs_background": "light",
      "tags": []
     },
     "output_type": "display_data"
    }
   ],
   "source": [
    "data_multi[(data_multi['target_black'] ==1) & (data_multi['demo_black'] == 1)]['hate_speech_sum'].hist(density=True, histtype='step', color='blue', lw=2)\n",
    "data_multi[(data_multi['target_black'] ==1) & (data_multi['demo_white'] == 1)]['hate_speech_sum'].hist(density=True, histtype='step', color='orange', lw=2)\n",
    "\n",
    "#in the middle region there's less higher scores for the orange one \n",
    "\n",
    "#closer to 20 the blue one (black) has higher density and that mass is coming from the middle region where there's higher for white\n",
    "#white histogram has more density in the middle than on the extremes\n",
    "\n",
    "#look at the text for the scores in the extremes\n",
    "#good examples that are representative for each of these regions"
   ]
  },
  {
   "cell_type": "code",
   "execution_count": null,
   "metadata": {
    "id": "dmaRsAYcK4km"
   },
   "outputs": [],
   "source": []
  },
  {
   "cell_type": "code",
   "execution_count": null,
   "metadata": {
    "id": "P5Tz-aFhl5ya"
   },
   "outputs": [],
   "source": [
    "#dictionary of lists where dictionary lists are labeler ids \n",
    "\n",
    "#i think i'm going to have to do a for loop here\n",
    "#where i get the labeler id as key\n",
    "#and the comment_id as value (in list format bc there are multiple)\n",
    "\n",
    "#example of what i'm looking for: \n",
    "# {1: {'comment_id': [20007, 20019, 20029, 20034, 20055]}}\n",
    "# {1141: {'comment_id': [20018, 20032, 20053, 20057, 20066]}}"
   ]
  },
  {
   "cell_type": "code",
   "execution_count": null,
   "metadata": {
    "id": "4ZYa8yr_ygDV"
   },
   "outputs": [],
   "source": [
    "# for i in data_multi_labeler2.index:\n",
    "#   print(i)"
   ]
  },
  {
   "cell_type": "code",
   "execution_count": null,
   "metadata": {
    "id": "XQqf_Qo-l1Fl"
   },
   "outputs": [],
   "source": [
    "# data_multi_labeler2.groupby(level=0).apply(lambda data_multi_labeler2: data_multi_labeler2.xs(data_multi_labeler2.name).to_dict()).to_dict()"
   ]
  },
  {
   "cell_type": "code",
   "execution_count": null,
   "metadata": {
    "id": "23xA0kozihx4"
   },
   "outputs": [],
   "source": [
    "data_multi_labeler2.reset_index(inplace=True)\n",
    "data_multi_labeler2 = data_multi_labeler2.rename(columns = {'labeler_id':'labeler_id', 'comment_id': 'comment_id'})"
   ]
  },
  {
   "cell_type": "code",
   "execution_count": null,
   "metadata": {
    "colab": {
     "base_uri": "https://localhost:8080/"
    },
    "id": "0RUAtlmqlqQz",
    "outputId": "6cdd770a-36c5-4fd7-de30-ef68c01500a8"
   },
   "outputs": [
    {
     "data": {
      "text/plain": [
       "comment_id\n",
       "20001    273\n",
       "20002    287\n",
       "20003    282\n",
       "20004    257\n",
       "20005    217\n",
       "        ... \n",
       "20066    267\n",
       "20067    256\n",
       "20068    279\n",
       "20069    286\n",
       "20070    206\n",
       "Name: labeler_id, Length: 70, dtype: int64"
      ]
     },
     "execution_count": 102,
     "metadata": {
      "tags": []
     },
     "output_type": "execute_result"
    }
   ],
   "source": [
    "data_multi_labeler2.groupby(by=['comment_id']).count()['labeler_id']"
   ]
  },
  {
   "cell_type": "code",
   "execution_count": null,
   "metadata": {
    "colab": {
     "base_uri": "https://localhost:8080/"
    },
    "id": "RqnTQUCObEDh",
    "outputId": "6ae2000d-3710-4bc8-d9e4-ec2fa1088399"
   },
   "outputs": [
    {
     "data": {
      "text/plain": [
       "135556"
      ]
     },
     "execution_count": 103,
     "metadata": {
      "tags": []
     },
     "output_type": "execute_result"
    }
   ],
   "source": [
    "#sanity check\n",
    "\n",
    "#this is the length of the whole df\n",
    "\n",
    "len(data_multi)"
   ]
  },
  {
   "cell_type": "code",
   "execution_count": null,
   "metadata": {
    "id": "pcKupgqmMwhc"
   },
   "outputs": [],
   "source": [
    "#turning the unique comment_ids into a list \n",
    "unique_comment_ids = list(np.unique(data_multi['comment_id']))"
   ]
  },
  {
   "cell_type": "code",
   "execution_count": null,
   "metadata": {
    "colab": {
     "base_uri": "https://localhost:8080/"
    },
    "id": "mSqVU265M9T2",
    "outputId": "df93f9f2-cf97-4661-e4a6-dfbed033ce9b"
   },
   "outputs": [
    {
     "data": {
      "text/plain": [
       "39565"
      ]
     },
     "execution_count": 105,
     "metadata": {
      "tags": []
     },
     "output_type": "execute_result"
    }
   ],
   "source": [
    "len(pd.unique(data_multi['comment_id']))\n",
    "#theres 39,565 unique comments\n",
    "#is there any reason to think that some comment ids may be different in number but not content?\n"
   ]
  },
  {
   "cell_type": "code",
   "execution_count": null,
   "metadata": {
    "colab": {
     "base_uri": "https://localhost:8080/",
     "height": 282
    },
    "id": "8NeyR2i_Kkee",
    "outputId": "1459e4b4-b744-44cc-e6d2-bb439489d9e5"
   },
   "outputs": [
    {
     "data": {
      "text/plain": [
       "<matplotlib.axes._subplots.AxesSubplot at 0x7f077991c450>"
      ]
     },
     "execution_count": 106,
     "metadata": {
      "tags": []
     },
     "output_type": "execute_result"
    },
    {
     "data": {
      "image/png": "[encoded data removed]",
      "text/plain": [
       "<Figure size 432x288 with 1 Axes>"
      ]
     },
     "metadata": {
      "needs_background": "light",
      "tags": []
     },
     "output_type": "display_data"
    }
   ],
   "source": [
    "#this is a histogram of the distribution of comment_id\n",
    "data_multi['comment_id'].hist()"
   ]
  },
  {
   "cell_type": "code",
   "execution_count": null,
   "metadata": {
    "id": "ilEEpNKcTqN4"
   },
   "outputs": [],
   "source": [
    "#calculate average label score given by labelers who are the same race as the target\n"
   ]
  },
  {
   "cell_type": "code",
   "execution_count": null,
   "metadata": {
    "id": "LEuznWsLOvJI"
   },
   "outputs": [],
   "source": [
    "#for each batch of a comment (so each row) what is the distribution of \n",
    "#rater racial background?\n",
    "\n"
   ]
  },
  {
   "cell_type": "code",
   "execution_count": null,
   "metadata": {
    "id": "BJwk6E_AKFQ1"
   },
   "outputs": [],
   "source": [
    "#in which instances does the rater identity match the target identity?\n",
    "#what is the distribution there?"
   ]
  },
  {
   "cell_type": "code",
   "execution_count": null,
   "metadata": {
    "id": "0XnXRbbpOxul"
   },
   "outputs": [],
   "source": [
    "#is it typical for a comment ot be rated by particular group diverse gropu ppl?\n",
    "\n",
    "#the data might not be dense enough to look at racial groups \n",
    "#might have to do white vs non white\n",
    "#but knowing the answer: How many different racial groups are represented?\n",
    "\n",
    "#what is the distribution of annotators rating comments? so comment \n",
    "#might be rated by 3 different racial groups in terms of the comment\n",
    "#another might be just one group (all white)\n",
    "#so if the mode is 1 there's only so much we can do "
   ]
  },
  {
   "cell_type": "code",
   "execution_count": null,
   "metadata": {
    "id": "p3HZBzzKOyM1"
   },
   "outputs": [],
   "source": []
  },
  {
   "cell_type": "markdown",
   "metadata": {
    "id": "mNM0rqJt9OKW"
   },
   "source": [
    "## **Gender**\n",
    "\n"
   ]
  },
  {
   "cell_type": "code",
   "execution_count": null,
   "metadata": {
    "colab": {
     "base_uri": "https://localhost:8080/"
    },
    "id": "vMX2O-tc9l7t",
    "outputId": "18bd8340-b58f-4b6f-e0fb-c5728eafd01c"
   },
   "outputs": [
    {
     "data": {
      "text/plain": [
       "array(['sentiment', 'respect', 'insult', 'humiliate', 'status',\n",
       "       'dehumanize', 'violence_phys', 'genocide', 'attack_defend',\n",
       "       'hatespeech', 'comment_id', 'platform', 'uid', 'predict_text',\n",
       "       'measure', 'std_err', 'num_ratings', 'weight', 'has_targets',\n",
       "       'target_identity_count', 'labeler_id', 'rater_measure',\n",
       "       'rater_infitms', 'rater_outfitms', 'infitms', 'outfitms',\n",
       "       'target_identities_1', 'target_identities_2',\n",
       "       'target_identities_3', 'target_identities_4',\n",
       "       'target_identities_5', 'target_identities_6',\n",
       "       'target_identities_7', 'target_identities_9', 'target_race_1',\n",
       "       'target_race_2', 'target_race_3', 'target_race_8', 'target_race_4',\n",
       "       'target_race_5', 'target_race_6', 'target_race_7',\n",
       "       'target_race_7_text', 'target_religion_1', 'target_religion_2',\n",
       "       'target_religion_4', 'target_religion_5', 'target_religion_8',\n",
       "       'target_religion_9', 'target_religion_10', 'target_religion_6',\n",
       "       'target_religion_6_text', 'target_citizen_5', 'target_citizen_1',\n",
       "       'target_citizen_2', 'target_citizen_3', 'target_citizen_4',\n",
       "       'target_citizen_4_text', 'target_gender_1', 'target_gender_3',\n",
       "       'target_gender_2', 'target_gender_5', 'target_gender_6',\n",
       "       'target_gender_7', 'target_gender_4', 'target_gender_4_text',\n",
       "       'target_sexuality_1', 'target_sexuality_2', 'target_sexuality_6',\n",
       "       'target_sexuality_3', 'target_sexuality_5',\n",
       "       'target_sexuality_5_text', 'target_age_1', 'target_age_2',\n",
       "       'target_age_3', 'target_age_4', 'target_age_5', 'target_age_6',\n",
       "       'target_age_6_text', 'target_disability_1', 'target_disability_2',\n",
       "       'target_disability_3', 'target_disability_4',\n",
       "       'target_disability_5', 'target_disability_9',\n",
       "       'target_disability_6', 'target_disability_6_text',\n",
       "       'target_political_1', 'target_political_2', 'target_political_3',\n",
       "       'target_political_4', 'target_political_5', 'target_political_6',\n",
       "       'target_political_7', 'target_political_8', 'target_political_9',\n",
       "       'target_political_10', 'target_political_11',\n",
       "       'target_political_11_text', 'demo_gender', 'demo_gender_4_text',\n",
       "       'demo_trans', 'demo_educ', 'demo_race_ethnicitie_1',\n",
       "       'demo_race_ethnicitie_2', 'demo_race_ethnicitie_3',\n",
       "       'demo_race_ethnicitie_4', 'demo_race_ethnicitie_5',\n",
       "       'demo_race_ethnicitie_8', 'demo_race_ethnicitie_6',\n",
       "       'demo_race_ethnicitie_7', 'demo_race_ethnicitie_7_text',\n",
       "       'demo_age', 'demo_income', 'demo_religion_1', 'demo_religion_2',\n",
       "       'demo_religion_11', 'demo_religion_4', 'demo_religion_5',\n",
       "       'demo_religion_7', 'demo_religion_8', 'demo_religion_9',\n",
       "       'demo_religion_10', 'demo_religion_10_text', 'demo_sexual_orien_1',\n",
       "       'demo_sexual_orien_2', 'demo_sexual_orien_3',\n",
       "       'demo_sexual_orien_4', 'demo_sexual_orien_5',\n",
       "       'demo_sexual_orien_4_text', 'demo_ideology', 'locationlatitude',\n",
       "       'locationlongitude', 'identity', 'hypothesis'], dtype=object)"
      ]
     },
     "execution_count": 4,
     "metadata": {
      "tags": []
     },
     "output_type": "execute_result"
    }
   ],
   "source": [
    "data_multi.columns.values"
   ]
  },
  {
   "cell_type": "code",
   "execution_count": null,
   "metadata": {
    "colab": {
     "base_uri": "https://localhost:8080/"
    },
    "id": "1MZvvrUgcvbd",
    "outputId": "324ebf4c-7f19-4282-d25b-6cffe24f9ba9"
   },
   "outputs": [
    {
     "data": {
      "text/plain": [
       "NaN    130853\n",
       "1.0      4703\n",
       "Name: target_gender_7, dtype: int64"
      ]
     },
     "execution_count": 5,
     "metadata": {
      "tags": []
     },
     "output_type": "execute_result"
    }
   ],
   "source": [
    "data_multi['target_gender_7'].value_counts(dropna=False)"
   ]
  },
  {
   "cell_type": "code",
   "execution_count": null,
   "metadata": {
    "id": "DRclhQVc__0K"
   },
   "outputs": [],
   "source": [
    "data_multi.rename(columns={'target_identities_1': 'target_race', \n",
    "                                 'target_identities_2': 'target_id_religion',\n",
    "                                 'target_identities_3': 'target_id_national_origin',\n",
    "                                 'target_identities_4': 'target_id_gender',\n",
    "                                 'target_identities_5': 'target_id_sexual_orientation',\n",
    "                                 'target_identities_6': 'target_id_age',\n",
    "                                 'target_identities_7': 'target_id_disability',\n",
    "                                 'target_identities_9': 'target_id_unsure',\n",
    "                                 'target_race_1': 'target_black',\n",
    "                                 'target_race_2': 'target_latino',\n",
    "                                 'target_race_3': 'target_asian',\n",
    "                                 'target_race_8': 'target_middle_eastern',\n",
    "                                 'target_race_4': 'target_native_american',\n",
    "                                 'target_race_5': 'target_pacific_islander',\n",
    "                                 'target_race_6': 'target_white',\n",
    "                                 'target_race_7': 'target_other_race',\n",
    "                                 'target_race_7_text': 'target_other_race_text',\n",
    "                                 'target_religion_1': 'target_jews',\n",
    "                                 'target_religion_2': 'target_christians',\n",
    "                                 'target_religion_4': 'target_buddhists',\n",
    "                                 'target_religion_5': 'target_hindus',\n",
    "                                 'target_religion_8': 'target_mormons',\n",
    "                                 'target_religion_9': 'target_atheists',\n",
    "                                 'target_religion_10': 'target_uslims',\n",
    "                                 'target_religion_6': 'target_other_religion',\n",
    "                                 'target_religion_6_text': 'target_other_religion_text',\n",
    "                                 'target_citizen_5': 'target_country',\n",
    "                                 'target_citizen_1': 'target_immigrant',\n",
    "                                 'target_citizen_2': 'target_migrant_worker',\n",
    "                                 'target_citizen_3': 'target_undocumented',\n",
    "                                 'target_citizen_4': 'target_other_nationality',\n",
    "                                 'target_citizen_4_text': 'target_other_nationality_text',\n",
    "                                 'target_gender_1': 'target_men',\n",
    "                                 'target_gender_3': 'target_women',\n",
    "                                 'target_gender_2': 'target_non-binary',\n",
    "                                 'target_gender_5': 'target_transgender_men',\n",
    "                                 'target_gender_6': 'target_transgender_women',\n",
    "                                 'target_gender_7': 'target_transgender_unspecified',\n",
    "                                 'target_gender_4': 'target_other_gender',\n",
    "                                 'target_gender_4_text': 'target_other_gender_text',\n",
    "                                 'target_sexuality_1': 'target_bisexual',\n",
    "                                 'target_sexuality_2': 'target_gay',\n",
    "                                 'target_sexuality_6': 'target_lesbian',\n",
    "                                 'target_sexuality_3': 'target_heterosexual',\n",
    "                                 'target_sexuality_5': 'target_other_sexuality',\n",
    "                                 'target_sexuality_5_text': 'target_other_sexuality_text',\n",
    "                                 'target_age_1': 'target_children',\n",
    "                                 'target_age_2': 'target_adolescents',\n",
    "                                 'target_age_3': 'target_adults',\n",
    "                                 'target_age_4': 'target_middle-aged',\n",
    "                                 'target_age_5': 'target_seniors',\n",
    "                                 'target_age_6': 'target_other_age',\n",
    "                                 'target_age_6_text': 'target_other_age_text',\n",
    "                                 'target_disability_1': 'target_physical_disability',\n",
    "                                 'target_disability_2': 'target_cognitive_disability', \n",
    "                                 'target_disability_3': 'target_mental_health',\n",
    "                                 'target_disability_4': 'target_visually_impaired',\n",
    "                                 'target_disability_5': 'target_hearing_impaired',\n",
    "                                 'target_disability_9': 'target_not_specific',\n",
    "                                 'target_disability_6': 'target_other_disability',\n",
    "                                 'target_disability_6_text': 'target_other_disability_text',\n",
    "                                  'demo_gender': 'demo_gender', \n",
    "                                  'demo_gender_text_4': 'demo_gender text',\n",
    "                                  'demo_trans': 'demo_trans',\n",
    "                                  'demo_educ': 'demo_education', \n",
    "                                  'demo_race_ethnicie_1': 'demo_american_indian_alaska native',\n",
    "                                  'demo_race_ethnicitie_2': 'demo_asian',\n",
    "                                  'demo_race_ethnicitie_3': 'demo_alack',\n",
    "                                  'demo_race_ethnicitie_4': 'demo_latino',\n",
    "                                  'demo_race_ethnicitie_5': 'demo_native_hawaiian_pacific_islander',\n",
    "                                  'demo_race_ethnicitie_8': 'demo_middle_eastern',\n",
    "                                  'demo_race_ethnicitie_6': 'demo_white',\n",
    "                                  'demo_race_ethnicitie_7': 'demo_other race',\n",
    "                                  'demo_race_ethnicitie_7_text': 'demo_other_text',\n",
    "                                  'demo_age': 'demo_age',\n",
    "                                  'demo_income': 'demo_income',\n",
    "                                  'demo_religion_1': 'demo_atheist',\n",
    "                                  'demo_religion_2': 'demo_buddhist',\n",
    "                                  'demo_religion_11': 'demo_chrisitan', \n",
    "                                  'demo_religion_4': 'demo_hindu',\n",
    "                                  'demo_religion_5': 'demo_jewish',\n",
    "                                  'demo_religion_7': 'demo_mormon',\n",
    "                                  'demo_religion_8': 'demo_muslim',\n",
    "                                  'demo_religion_9': 'demo_nothing_particular',\n",
    "                                  'demo_religion_10': 'demo_other_religion',\n",
    "                                  'demo_religion_10_text': 'demo_other_religion_text',\n",
    "                                  'demo_sexual_orien_1': 'demo_straight',\n",
    "                                  'demo_sexual_orien_2': 'demo_gay lesbian',\n",
    "                                  'demo_sexual_orien_3': 'demo_bisexual', \n",
    "                                  'demo_sexual_orien_4': 'demo_other_sexualdemo_orientation',\n",
    "                                  'demo_sexual_orien_5': 'demo_prefer_not_to_say',\n",
    "                                  'demo_sexual_orien_4_text': 'demo_other_sexual_orientation_text'}, inplace=True)"
   ]
  },
  {
   "cell_type": "code",
   "execution_count": null,
   "metadata": {
    "colab": {
     "base_uri": "https://localhost:8080/"
    },
    "id": "gjuV84sfGTZs",
    "outputId": "310407d4-e0db-495b-f612-0dafb5504a1a"
   },
   "outputs": [
    {
     "data": {
      "text/plain": [
       "1.0    76370\n",
       "2.0    57582\n",
       "3.0      985\n",
       "5.0      500\n",
       "4.0      119\n",
       "Name: demo_gender, dtype: int64"
      ]
     },
     "execution_count": 6,
     "metadata": {
      "tags": []
     },
     "output_type": "execute_result"
    }
   ],
   "source": [
    "data_multi['demo_gender'].value_counts(dropna=False)"
   ]
  },
  {
   "cell_type": "code",
   "execution_count": null,
   "metadata": {
    "colab": {
     "base_uri": "https://localhost:8080/"
    },
    "id": "xh1HbtdaGwkk",
    "outputId": "1a1daa3e-d95e-404a-dc91-f9e58254c503"
   },
   "outputs": [
    {
     "data": {
      "text/plain": [
       "2.0    133715\n",
       "1.0      1183\n",
       "4.0       658\n",
       "Name: demo_trans, dtype: int64"
      ]
     },
     "execution_count": 7,
     "metadata": {
      "tags": []
     },
     "output_type": "execute_result"
    }
   ],
   "source": [
    "data_multi['demo_trans'].value_counts(dropna=False)"
   ]
  },
  {
   "cell_type": "code",
   "execution_count": null,
   "metadata": {
    "id": "foD_XQQMDnIl"
   },
   "outputs": [],
   "source": [
    "# data_multi.columns.values\n",
    "#demo_gender = 1 = female\n",
    "#demo_gender = 2 = male\n",
    "#demo_gender = 3 = non-binary\n",
    "#demo_gender = 5 = prefer not to say\n",
    "#demo_gender = 4 = prefer to self describe (other)\n",
    "\n",
    "#demo_trans = 1 = trans\n",
    "#demo_trans = 2 = cis\n",
    "#demo_trans = 4 = prefer not to say / other\n",
    "\n",
    "# 'target_gender_1': 'target_men',\n",
    "# 'target_gender_3': 'target_women',\n",
    "# 'target_gender_2': 'target_non-binary',\n",
    "# 'target_gender_5': 'target_transgender_men',\n",
    "# 'target_gender_6': 'target_transgender_women',\n",
    "# 'target_gender_7': 'target_transgender_unspecified',\n",
    "# 'target_gender_4': 'target_other_gender',\n",
    "\n"
   ]
  },
  {
   "cell_type": "code",
   "execution_count": null,
   "metadata": {
    "colab": {
     "base_uri": "https://localhost:8080/"
    },
    "id": "3dj-SKypeE1e",
    "outputId": "bb061708-42c7-460b-d301-90c04bc0acbd"
   },
   "outputs": [
    {
     "data": {
      "text/plain": [
       "array(['sentiment', 'respect', 'insult', 'humiliate', 'status',\n",
       "       'dehumanize', 'violence_phys', 'genocide', 'attack_defend',\n",
       "       'hatespeech', 'comment_id', 'platform', 'uid', 'predict_text',\n",
       "       'measure', 'std_err', 'num_ratings', 'weight', 'has_targets',\n",
       "       'target_identity_count', 'labeler_id', 'rater_measure',\n",
       "       'rater_infitms', 'rater_outfitms', 'infitms', 'outfitms',\n",
       "       'target_race', 'target_id_religion', 'target_id_national_origin',\n",
       "       'target_id_gender', 'target_id_sexual_orientation',\n",
       "       'target_id_age', 'target_id_disability', 'target_id_unsure',\n",
       "       'target_black', 'target_latino', 'target_asian',\n",
       "       'target_middle_eastern', 'target_native_american',\n",
       "       'target_pacific_islander', 'target_white', 'target_other_race',\n",
       "       'target_other_race_text', 'target_jews', 'target_christians',\n",
       "       'target_buddhists', 'target_hindus', 'target_mormons',\n",
       "       'target_atheists', 'target_uslims', 'target_other_religion',\n",
       "       'target_other_religion_text', 'target_country', 'target_immigrant',\n",
       "       'target_migrant_worker', 'target_undocumented',\n",
       "       'target_other_nationality', 'target_other_nationality_text',\n",
       "       'target_men', 'target_women', 'target_non-binary',\n",
       "       'target_transgender_men', 'target_transgender_women',\n",
       "       'target_transgender_unspecified', 'target_other_gender',\n",
       "       'target_other_gender_text', 'target_bisexual', 'target_gay',\n",
       "       'target_lesbian', 'target_heterosexual', 'target_other_sexuality',\n",
       "       'target_other_sexuality_text', 'target_children',\n",
       "       'target_adolescents', 'target_adults', 'target_middle-aged',\n",
       "       'target_seniors', 'target_other_age', 'target_other_age_text',\n",
       "       'target_physical_disability', 'target_cognitive_disability',\n",
       "       'target_mental_health', 'target_visually_impaired',\n",
       "       'target_hearing_impaired', 'target_not_specific',\n",
       "       'target_other_disability', 'target_other_disability_text',\n",
       "       'target_political_1', 'target_political_2', 'target_political_3',\n",
       "       'target_political_4', 'target_political_5', 'target_political_6',\n",
       "       'target_political_7', 'target_political_8', 'target_political_9',\n",
       "       'target_political_10', 'target_political_11',\n",
       "       'target_political_11_text', 'demo_gender', 'demo_gender_4_text',\n",
       "       'demo_trans', 'demo_education', 'demo_race_ethnicitie_1',\n",
       "       'demo_asian', 'demo_alack', 'demo_latino',\n",
       "       'demo_native_hawaiian_pacific_islander', 'demo_middle_eastern',\n",
       "       'demo_white', 'demo_other race', 'demo_other_text', 'demo_age',\n",
       "       'demo_income', 'demo_atheist', 'demo_buddhist', 'demo_chrisitan',\n",
       "       'demo_hindu', 'demo_jewish', 'demo_mormon', 'demo_muslim',\n",
       "       'demo_nothing_particular', 'demo_other_religion',\n",
       "       'demo_other_religion_text', 'demo_straight', 'demo_gay lesbian',\n",
       "       'demo_bisexual', 'demo_other_sexualdemo_orientation',\n",
       "       'demo_prefer_not_to_say', 'demo_other_sexual_orientation_text',\n",
       "       'demo_ideology', 'locationlatitude', 'locationlongitude',\n",
       "       'identity', 'hypothesis'], dtype=object)"
      ]
     },
     "execution_count": 11,
     "metadata": {
      "tags": []
     },
     "output_type": "execute_result"
    }
   ],
   "source": [
    "data_multi.columns.values"
   ]
  },
  {
   "cell_type": "code",
   "execution_count": null,
   "metadata": {
    "id": "_K8ieX7USafD"
   },
   "outputs": [],
   "source": [
    "#apply to new column target_gender\n",
    "\n",
    "def target_gender(row):\n",
    "  if row['target_men'] == 1:\n",
    "    return 'cis man'\n",
    "  if row['target_women'] == 1:\n",
    "    return 'cis woman'\n",
    "  if row['target_non-binary'] == 1:\n",
    "    return 'non-binary'\n",
    "  if row['target_transgender_women'] == 1:\n",
    "    return 'trans woman'\n",
    "  if row['target_transgender_men'] == 1:\n",
    "    return 'trans man'\n",
    "  if row['target_transgender_unspecified'] == 1:\n",
    "    return 'trans unspecified'\n",
    "  if row['target_other_gender'] == 1:\n",
    "    return 'other gender'\n",
    "  \n",
    "  "
   ]
  },
  {
   "cell_type": "code",
   "execution_count": null,
   "metadata": {
    "id": "Vi0eGTnahXPQ"
   },
   "outputs": [],
   "source": [
    "# data_multi[data_multi['target_other_gender'] == 1]"
   ]
  },
  {
   "cell_type": "code",
   "execution_count": null,
   "metadata": {
    "id": "WU8XrXzJdT1R"
   },
   "outputs": [],
   "source": [
    "data_multi['target_gender']= data_multi.apply(target_gender, axis= 1)"
   ]
  },
  {
   "cell_type": "code",
   "execution_count": null,
   "metadata": {
    "id": "P2pjYEbpSUoy"
   },
   "outputs": [],
   "source": [
    "#apply to new column label_gender\n",
    "\n",
    "def demo_gender(row):\n",
    "  if row['demo_gender'] == 1:\n",
    "    return 'woman'\n",
    "  if row['demo_gender'] == 2:\n",
    "    return 'man'\n",
    "  if row['demo_gender'] == 3:\n",
    "    return 'non-binary'\n",
    "  if row['demo_gender'] == 5:\n",
    "    return 'prefer not to say'\n",
    "  if row['demo_gender'] == 4:\n",
    "    return 'other'"
   ]
  },
  {
   "cell_type": "code",
   "execution_count": null,
   "metadata": {
    "id": "nOmwLj7mihfY"
   },
   "outputs": [],
   "source": [
    "data_multi['label_gender'] = data_multi.apply(demo_gender, axis=1)"
   ]
  },
  {
   "cell_type": "code",
   "execution_count": null,
   "metadata": {
    "colab": {
     "base_uri": "https://localhost:8080/"
    },
    "id": "4Hfr9fdRkz8B",
    "outputId": "cc5c6f2d-f91b-4fdd-e9b8-ce3c164e3199"
   },
   "outputs": [
    {
     "data": {
      "text/plain": [
       "woman                76370\n",
       "man                  57582\n",
       "non-binary             985\n",
       "prefer not to say      500\n",
       "other                  119\n",
       "Name: label_gender, dtype: int64"
      ]
     },
     "execution_count": 29,
     "metadata": {
      "tags": []
     },
     "output_type": "execute_result"
    }
   ],
   "source": [
    "data_multi['label_gender'].value_counts(dropna=False)"
   ]
  },
  {
   "cell_type": "code",
   "execution_count": null,
   "metadata": {
    "id": "rcVAhYi1SWhb"
   },
   "outputs": [],
   "source": [
    " #apply to new column label_trans\n",
    "def demo_trans(row):\n",
    "  if row['demo_trans'] == 1:\n",
    "    return 'trans'\n",
    "  if row['demo_trans'] == 2:\n",
    "    return 'cis'\n",
    "  if row['demo_trans'] == 4:\n",
    "    return 'other'\n",
    "  "
   ]
  },
  {
   "cell_type": "code",
   "execution_count": null,
   "metadata": {
    "id": "dYFHqmxKk-wk"
   },
   "outputs": [],
   "source": [
    "data_multi['label_trans'] = data_multi.apply(demo_trans, axis=1)"
   ]
  },
  {
   "cell_type": "code",
   "execution_count": null,
   "metadata": {
    "id": "Cp82vsYvlHGi"
   },
   "outputs": [],
   "source": [
    "data_multi['label_trans'].value_counts(dropna=False)"
   ]
  },
  {
   "cell_type": "code",
   "execution_count": null,
   "metadata": {
    "id": "nIdXUuaVBvOF"
   },
   "outputs": [],
   "source": [
    "# def demo_full_gender(row): #apply to new column demo_full_gender\n",
    "#   if row['demo_trans'] == 1 and row['demo_gender'] == 1:\n",
    "#     return 'trans woman'\n",
    "\n",
    "#   if row['demo_trans'] == 1 and row['demo_gender'] == 2:\n",
    "#     return 'trans man'\n",
    "\n",
    "#    if row['demo_trans'] == 1 and row['demo_gender'] == 3:\n",
    "#     return 'non-binary femme'\n",
    "\n",
    "#     if row['demo_trans'] == 1 and row['demo_gender'] == 4:\n",
    "#     return 'trans other'\n",
    "\n",
    "#     if row['demo_trans'] == 1 and row['demo_gender'] == 5:\n",
    "#     return 'trans prefer not to say'\n",
    "\n",
    "#   if row['demo_trans'] == 2 and row['demo_gender'] == 1:\n",
    "#     return 'cis woman'\n",
    "  \n",
    "#   if row['demo_trans'] == 2 and row['demo_gender'] == 2:\n",
    "#     return 'cis man'\n",
    "\n",
    "#   if row['demo_trans'] == 2 and row['demo_gender'] == 3:\n",
    "#     return 'non-binary woman'\n",
    "\n",
    "#   if row['demo_trans'] == 2 and row['demo_gender'] == 4:\n",
    "#     return 'cis other'\n",
    "\n",
    "#   if row['demo_trans'] == 2 and row['demo_gender'] == 5:\n",
    "#     return 'cis prefer not to say'\n",
    "\n",
    "#   if row['demo_trans'] == 4 and row['demo_gender'] == 1:\n",
    "#     return 'woman'\n",
    "\n",
    "#   if row['demo_trans'] == 4 and row['demo_gender'] == 2:\n",
    "#     return 'man'\n",
    "\n",
    "#   if row['demo_trans'] == 4 and row['demo_gender'] == 3:\n",
    "#     'non-binary'\n",
    "\n",
    "#   if row['demo_trans'] == 4 and row['demo_gender'] == 4:\n",
    "#     return 'other'\n",
    "\n",
    "#   if row['demo_trans'] == 4 and row['demo_gender'] == 5:\n",
    "#     'other'\n",
    "  \n",
    "\n",
    "  \n",
    " \n",
    "\n",
    "\n",
    "  \n",
    "  \n"
   ]
  },
  {
   "cell_type": "code",
   "execution_count": null,
   "metadata": {
    "colab": {
     "base_uri": "https://localhost:8080/",
     "height": 422
    },
    "id": "Bqd_WH-RWbph",
    "outputId": "3156fe2a-7245-441e-ce54-b23ed62c4c5d"
   },
   "outputs": [
    {
     "data": {
      "text/html": [
       "<div>\n",
       "<style scoped>\n",
       "    .dataframe tbody tr th:only-of-type {\n",
       "        vertical-align: middle;\n",
       "    }\n",
       "\n",
       "    .dataframe tbody tr th {\n",
       "        vertical-align: top;\n",
       "    }\n",
       "\n",
       "    .dataframe thead th {\n",
       "        text-align: right;\n",
       "    }\n",
       "</style>\n",
       "<table border=\"1\" class=\"dataframe\">\n",
       "  <thead>\n",
       "    <tr style=\"text-align: right;\">\n",
       "      <th></th>\n",
       "      <th>target_gender</th>\n",
       "      <th>label_gender</th>\n",
       "      <th>label_trans</th>\n",
       "    </tr>\n",
       "  </thead>\n",
       "  <tbody>\n",
       "    <tr>\n",
       "      <th>0</th>\n",
       "      <td>None</td>\n",
       "      <td>man</td>\n",
       "      <td>cis</td>\n",
       "    </tr>\n",
       "    <tr>\n",
       "      <th>1</th>\n",
       "      <td>trans woman</td>\n",
       "      <td>woman</td>\n",
       "      <td>cis</td>\n",
       "    </tr>\n",
       "    <tr>\n",
       "      <th>2</th>\n",
       "      <td>None</td>\n",
       "      <td>man</td>\n",
       "      <td>cis</td>\n",
       "    </tr>\n",
       "    <tr>\n",
       "      <th>3</th>\n",
       "      <td>None</td>\n",
       "      <td>man</td>\n",
       "      <td>cis</td>\n",
       "    </tr>\n",
       "    <tr>\n",
       "      <th>4</th>\n",
       "      <td>cis woman</td>\n",
       "      <td>woman</td>\n",
       "      <td>cis</td>\n",
       "    </tr>\n",
       "    <tr>\n",
       "      <th>...</th>\n",
       "      <td>...</td>\n",
       "      <td>...</td>\n",
       "      <td>...</td>\n",
       "    </tr>\n",
       "    <tr>\n",
       "      <th>135551</th>\n",
       "      <td>None</td>\n",
       "      <td>woman</td>\n",
       "      <td>cis</td>\n",
       "    </tr>\n",
       "    <tr>\n",
       "      <th>135552</th>\n",
       "      <td>None</td>\n",
       "      <td>woman</td>\n",
       "      <td>cis</td>\n",
       "    </tr>\n",
       "    <tr>\n",
       "      <th>135553</th>\n",
       "      <td>None</td>\n",
       "      <td>woman</td>\n",
       "      <td>cis</td>\n",
       "    </tr>\n",
       "    <tr>\n",
       "      <th>135554</th>\n",
       "      <td>None</td>\n",
       "      <td>man</td>\n",
       "      <td>cis</td>\n",
       "    </tr>\n",
       "    <tr>\n",
       "      <th>135555</th>\n",
       "      <td>None</td>\n",
       "      <td>woman</td>\n",
       "      <td>cis</td>\n",
       "    </tr>\n",
       "  </tbody>\n",
       "</table>\n",
       "<p>135556 rows × 3 columns</p>\n",
       "</div>"
      ],
      "text/plain": [
       "       target_gender label_gender label_trans\n",
       "0               None          man         cis\n",
       "1        trans woman        woman         cis\n",
       "2               None          man         cis\n",
       "3               None          man         cis\n",
       "4          cis woman        woman         cis\n",
       "...              ...          ...         ...\n",
       "135551          None        woman         cis\n",
       "135552          None        woman         cis\n",
       "135553          None        woman         cis\n",
       "135554          None          man         cis\n",
       "135555          None        woman         cis\n",
       "\n",
       "[135556 rows x 3 columns]"
      ]
     },
     "execution_count": 35,
     "metadata": {
      "tags": []
     },
     "output_type": "execute_result"
    }
   ],
   "source": [
    "data_multi[['target_gender', 'label_gender', 'label_trans']]"
   ]
  },
  {
   "cell_type": "code",
   "execution_count": null,
   "metadata": {
    "colab": {
     "base_uri": "https://localhost:8080/"
    },
    "id": "7qmZvG-VpHCe",
    "outputId": "ac7e0edf-eaa2-41cb-f063-fa37c76a3f0a"
   },
   "outputs": [
    {
     "data": {
      "text/plain": [
       "cis woman            24725\n",
       "cis man              10029\n",
       "trans unspecified     2533\n",
       "trans woman           1417\n",
       "non-binary            1116\n",
       "other gender           353\n",
       "trans man              266\n",
       "Name: target_gender, dtype: int64"
      ]
     },
     "execution_count": 42,
     "metadata": {
      "tags": []
     },
     "output_type": "execute_result"
    }
   ],
   "source": [
    "data_multi['target_gender'].value_counts()"
   ]
  },
  {
   "cell_type": "code",
   "execution_count": null,
   "metadata": {
    "id": "sht9wcABqG7G"
   },
   "outputs": [],
   "source": []
  },
  {
   "cell_type": "code",
   "execution_count": null,
   "metadata": {
    "id": "Yt929yIzpBNc"
   },
   "outputs": [],
   "source": [
    "trans_options = ['trans unspecified', 'trans woman', 'non-binary', 'other gender']\n",
    "\n",
    "cis_options = ['cis woman', 'cis man' ]\n"
   ]
  },
  {
   "cell_type": "code",
   "execution_count": null,
   "metadata": {
    "colab": {
     "base_uri": "https://localhost:8080/"
    },
    "id": "igZNXXtWpwO7",
    "outputId": "ca847964-e331-4374-85ab-7a591c49f815"
   },
   "outputs": [
    {
     "name": "stdout",
     "output_type": "stream",
     "text": [
      "[ 5.  0.  5. 15.  4. 16.  6. 16.  8.  0. 19.  4.  4.  3.  3. 12. 11.  1.\n",
      "  1. 18. 13.  8.  0. 18.  2.  9. 13.  4.  3. 15.  5.  3.  4.  0.  2.  2.\n",
      "  6. 17.  3.  4.  5.  2.  3.  2.  6.  2.  3.  3.  6. 12.  1. 10.  1.  0.\n",
      "  0.  5.  4. 19. 18.  1.  0.  3.  0.  2.  5.  0. 17. 19.  0.  1. 17.  3.\n",
      "  2.  0.  1.  0.  0.  3.]\n"
     ]
    }
   ],
   "source": [
    "#turning mean values to array for trans\n",
    "\n",
    "mean_hate_sum_col_trans = data_multi[(data_multi['label_trans'] == 'trans') & (data_multi['target_gender'].isin(trans_options))]['hate_speech_sum']\n",
    "array_trans = mean_hate_sum_col_trans.values\n",
    "\n",
    "print(array_trans)"
   ]
  },
  {
   "cell_type": "code",
   "execution_count": null,
   "metadata": {
    "colab": {
     "base_uri": "https://localhost:8080/"
    },
    "id": "_NVePe9YWb3S",
    "outputId": "a9fdf150-4831-42eb-faaf-e9a02f06400e"
   },
   "outputs": [
    {
     "name": "stdout",
     "output_type": "stream",
     "text": [
      "[19. 14. 20. ...  0.  1.  0.]\n"
     ]
    }
   ],
   "source": [
    "#turning mean values to array for cis\n",
    "mean_hate_sum_col_cis = data_multi[(data_multi['label_trans'] == 'cis') & (data_multi['target_gender'].isin(cis_options))]['hate_speech_sum']\n",
    "array_cis = mean_hate_sum_col_cis.values\n",
    "\n",
    "\n",
    "\n",
    "print(array_cis)\n"
   ]
  },
  {
   "cell_type": "code",
   "execution_count": null,
   "metadata": {
    "colab": {
     "base_uri": "https://localhost:8080/"
    },
    "id": "XcTwZYeEpLMW",
    "outputId": "e15cc822-77a8-4af7-ea54-52d003e6df6c"
   },
   "outputs": [
    {
     "data": {
      "text/plain": [
       "Ttest_indResult(statistic=-8.724516552562084, pvalue=2.791156871619951e-18)"
      ]
     },
     "execution_count": 59,
     "metadata": {
      "tags": []
     },
     "output_type": "execute_result"
    }
   ],
   "source": [
    "#t-test gender\n",
    "from scipy import stats\n",
    "\n",
    "stats.ttest_ind(array_trans, array_cis)\n"
   ]
  },
  {
   "cell_type": "markdown",
   "metadata": {
    "id": "nQWjGdn_Go8W"
   },
   "source": [
    "## **Logistic Regression**"
   ]
  },
  {
   "cell_type": "code",
   "execution_count": null,
   "metadata": {
    "id": "AF30xf2KGwpH"
   },
   "outputs": [],
   "source": []
  },
  {
   "cell_type": "code",
   "execution_count": null,
   "metadata": {
    "id": "wpuxdJYdGwsB"
   },
   "outputs": [],
   "source": []
  }
 ],
 "metadata": {
  "colab": {
   "collapsed_sections": [],
   "name": "Data Cleaning Hate Speech Fairness",
   "provenance": []
  },
  "kernelspec": {
   "display_name": "Python 3",
   "language": "python",
   "name": "python3"
  },
  "language_info": {
   "codemirror_mode": {
    "name": "ipython",
    "version": 3
   },
   "file_extension": ".py",
   "mimetype": "text/x-python",
   "name": "python",
   "nbconvert_exporter": "python",
   "pygments_lexer": "ipython3",
   "version": "3.9.5"
  }
 },
 "nbformat": 4,
 "nbformat_minor": 4
}
