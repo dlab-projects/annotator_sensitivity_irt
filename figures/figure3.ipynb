{
 "cells": [
  {
   "cell_type": "code",
   "execution_count": 14,
   "metadata": {},
   "outputs": [],
   "source": [
    "import numpy as np\n",
    "import os\n",
    "import matplotlib.pyplot as plt\n",
    "import mpl_lego as mplego\n",
    "import pandas as pd\n",
    "\n",
    "from hatespeech import keys, utils\n",
    "from IPython.display import Markdown\n",
    "from scipy.stats import kruskal\n",
    "\n",
    "%matplotlib inline"
   ]
  },
  {
   "cell_type": "code",
   "execution_count": 15,
   "metadata": {},
   "outputs": [],
   "source": [
    "mplego.style.use_latex_style()"
   ]
  },
  {
   "cell_type": "code",
   "execution_count": 16,
   "metadata": {},
   "outputs": [],
   "source": [
    "exp = \"12\"\n",
    "base_path = os.path.join(os.environ['HOME'], 'projects/hatespeech-2021-fairml')\n",
    "data_path = \"~/data/hatespeech/unfiltered_ratings.feather\"\n",
    "results_path = os.path.join(base_path, f'scaling/experiments/exp{exp}')"
   ]
  },
  {
   "cell_type": "code",
   "execution_count": 23,
   "metadata": {},
   "outputs": [],
   "source": [
    "data = pd.read_feather(data_path)"
   ]
  },
  {
   "cell_type": "code",
   "execution_count": 17,
   "metadata": {},
   "outputs": [],
   "source": [
    "group1 = \"black\"\n",
    "group1_label = \"Black\"\n",
    "group2 = \"white\"\n",
    "group2_label = \"White\""
   ]
  },
  {
   "cell_type": "code",
   "execution_count": 18,
   "metadata": {},
   "outputs": [],
   "source": [
    "group1_target_results_path = os.path.join(results_path, f\"exp{exp}_scores_{group1}.2.txt\")\n",
    "group2_target_results_path = os.path.join(results_path, f\"exp{exp}_scores_{group2}.2.txt\")"
   ]
  },
  {
   "cell_type": "code",
   "execution_count": 20,
   "metadata": {},
   "outputs": [],
   "source": [
    "# Get severities for group1-targeting comments\n",
    "group1_target_results = pd.read_csv(group1_target_results_path, delimiter='\\t', skiprows=1)\n",
    "group1_target_annotators = group1_target_results['Judges']\n",
    "group1_target_severity = group1_target_results['Measure']\n",
    "# Get severities for group2-targeting comments\n",
    "group2_target_results = pd.read_csv(group2_target_results_path, delimiter='\\t', skiprows=1)\n",
    "group2_target_annotators = group2_target_results['Judges']\n",
    "group2_target_severity = group2_target_results['Measure']"
   ]
  },
  {
   "cell_type": "code",
   "execution_count": 21,
   "metadata": {},
   "outputs": [
    {
     "name": "stdout",
     "output_type": "stream",
     "text": [
      "Common annotators: 4276\n"
     ]
    }
   ],
   "source": [
    "# Get annotators that looked at both group-targeting comments\n",
    "common_annotators = group1_target_annotators[group1_target_annotators.isin(group2_target_annotators)].values\n",
    "group1_target_common = group1_target_results[group1_target_annotators.isin(common_annotators)]\n",
    "group2_target_common = group2_target_results[group2_target_annotators.isin(common_annotators)]\n",
    "print(f'Common annotators: {common_annotators.size}')"
   ]
  },
  {
   "cell_type": "code",
   "execution_count": 31,
   "metadata": {},
   "outputs": [],
   "source": [
    "group1_annotators = data[data[f'annotator_race_{group1}'] & ~data[f'annotator_race_{group2}']]['labeler_id'].values\n",
    "group2_annotators = data[data[f'annotator_race_{group2}'] & ~data[f'annotator_race_{group1}']]['labeler_id'].values"
   ]
  },
  {
   "cell_type": "code",
   "execution_count": 32,
   "metadata": {},
   "outputs": [],
   "source": [
    "# Group 1, targeting Group 1\n",
    "group1_annotator_group1_target_sev = group1_target_common[group1_target_common['Judges'].isin(group1_annotators)]['Measure'].values\n",
    "# Group 2, targeting Group 2\n",
    "group1_annotator_group2_target_sev = group2_target_common[group2_target_common['Judges'].isin(group1_annotators)]['Measure'].values\n",
    "group1_annotator_diffs = group1_annotator_group1_target_sev - group1_annotator_group2_target_sev\n",
    "# Group 2, targeting Group 1\n",
    "group2_annotator_group1_target_sev = group1_target_common[group1_target_common['Judges'].isin(group2_annotators)]['Measure'].values\n",
    "# Group 2, targeting Group2\n",
    "group2_annotator_group2_target_sev = group2_target_common[group2_target_common['Judges'].isin(group2_annotators)]['Measure'].values\n",
    "group2_annotator_diffs = group2_annotator_group1_target_sev - group2_annotator_group2_target_sev"
   ]
  },
  {
   "cell_type": "code",
   "execution_count": 45,
   "metadata": {},
   "outputs": [],
   "source": [
    "axis_label_size = 18\n",
    "axis_tick_label_size = 14"
   ]
  },
  {
   "cell_type": "code",
   "execution_count": 46,
   "metadata": {},
   "outputs": [
    {
     "data": {
      "text/plain": [
       "<matplotlib.legend.Legend at 0x7fd31b1c9990>"
      ]
     },
     "execution_count": 46,
     "metadata": {},
     "output_type": "execute_result"
    },
    {
     "data": {
      "image/png": "[encoded data removed]",
      "text/plain": [
       "<Figure size 576x432 with 1 Axes>"
      ]
     },
     "metadata": {
      "needs_background": "light"
     },
     "output_type": "display_data"
    }
   ],
   "source": [
    "fig, ax = plt.subplots(1, 1, figsize=(8, 6))\n",
    "\n",
    "bins = np.linspace(-5, 5, 17)\n",
    "\n",
    "ax.hist(\n",
    "    group1_annotator_diffs,\n",
    "    bins=bins,\n",
    "    histtype='step',\n",
    "    linewidth=3,\n",
    "    density=True,\n",
    "    label=r'\\textbf{' f'{group1_label}' r' Annotators}',\n",
    "    color='C0')\n",
    "ax.hist(\n",
    "    group2_annotator_diffs,\n",
    "    bins=bins,\n",
    "    histtype='step',\n",
    "    linewidth=3,\n",
    "    density=True,\n",
    "    label=r'\\textbf{' f'{group2_label}' r' Annotators}',\n",
    "    color='C1')\n",
    "ax.set_xlim([-5, 5])\n",
    "ax.axvline(0, linestyle='--', color='grey')\n",
    "ax.tick_params(labelsize=15)\n",
    "ax.set_xlabel(r'\\textbf{Annotator Leniency}', fontsize=20)\n",
    "ax.set_ylabel(r'\\textbf{Density}', fontsize=20)\n",
    "ax.legend(loc='best', prop={'size': 14})"
   ]
  },
  {
   "cell_type": "code",
   "execution_count": 27,
   "metadata": {},
   "outputs": [
    {
     "data": {
      "text/plain": [
       "array([], dtype=float64)"
      ]
     },
     "execution_count": 27,
     "metadata": {},
     "output_type": "execute_result"
    }
   ],
   "source": [
    "group1_annotator_diffs"
   ]
  },
  {
   "cell_type": "code",
   "execution_count": null,
   "metadata": {},
   "outputs": [],
   "source": []
  }
 ],
 "metadata": {
  "kernelspec": {
   "display_name": "hate",
   "language": "python",
   "name": "hate"
  },
  "language_info": {
   "codemirror_mode": {
    "name": "ipython",
    "version": 3
   },
   "file_extension": ".py",
   "mimetype": "text/x-python",
   "name": "python",
   "nbconvert_exporter": "python",
   "pygments_lexer": "ipython3",
   "version": "3.7.9"
  }
 },
 "nbformat": 4,
 "nbformat_minor": 4
}
