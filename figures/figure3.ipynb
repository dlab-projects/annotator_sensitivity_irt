{
 "cells": [
  {
   "cell_type": "code",
   "execution_count": 1,
   "metadata": {},
   "outputs": [],
   "source": [
    "import numpy as np\n",
    "import os\n",
    "import matplotlib.pyplot as plt\n",
    "import mpl_lego as mplego\n",
    "import pandas as pd\n",
    "\n",
    "from hatespeech import keys, utils\n",
    "from IPython.display import Markdown\n",
    "from scipy.stats import bootstrap, kruskal\n",
    "\n",
    "%matplotlib inline"
   ]
  },
  {
   "cell_type": "code",
   "execution_count": 2,
   "metadata": {},
   "outputs": [],
   "source": [
    "mplego.style.use_latex_style()"
   ]
  },
  {
   "cell_type": "code",
   "execution_count": 3,
   "metadata": {},
   "outputs": [],
   "source": [
    "exp = \"11\"\n",
    "base_path = os.path.join(os.environ['HOME'], 'projects/hatespeech-2021-fairml')\n",
    "data_path = \"~/data/hatespeech/unfiltered_ratings.feather\"\n",
    "results_path = os.path.join(base_path, f'scaling/experiments/exp{exp}')"
   ]
  },
  {
   "cell_type": "code",
   "execution_count": 4,
   "metadata": {},
   "outputs": [],
   "source": [
    "data = pd.read_feather(data_path)"
   ]
  },
  {
   "cell_type": "code",
   "execution_count": 5,
   "metadata": {},
   "outputs": [],
   "source": [
    "target1 = \"black\"\n",
    "target1_label = \"Black\"\n",
    "target2 = \"white\"\n",
    "target2_label = \"White\""
   ]
  },
  {
   "cell_type": "code",
   "execution_count": 6,
   "metadata": {},
   "outputs": [],
   "source": [
    "target1_results_path = os.path.join(results_path, f\"exp{exp}_scores_{target1}.2.txt\")\n",
    "target2_results_path = os.path.join(results_path, f\"exp{exp}_scores_{target2}.2.txt\")"
   ]
  },
  {
   "cell_type": "code",
   "execution_count": 7,
   "metadata": {},
   "outputs": [],
   "source": [
    "# Get severities for group1-targeting comments\n",
    "target1_results = pd.read_csv(target1_results_path, delimiter='\\t', skiprows=1)\n",
    "target1_annotators = target1_results['Judges']\n",
    "target1_severities = target1_results['Measure']\n",
    "# Get severities for group2-targeting comments\n",
    "target2_results = pd.read_csv(target2_results_path, delimiter='\\t', skiprows=1)\n",
    "target2_annotators = target2_results['Judges']\n",
    "target2_severities = target2_results['Measure']"
   ]
  },
  {
   "cell_type": "code",
   "execution_count": 8,
   "metadata": {},
   "outputs": [
    {
     "name": "stdout",
     "output_type": "stream",
     "text": [
      "Common annotators: 4276\n"
     ]
    }
   ],
   "source": [
    "# Get annotators that looked at both group-targeting comments\n",
    "common_annotators = target1_annotators[target1_annotators.isin(target2_annotators)].values\n",
    "target1_common = target1_results[target1_results['Judges'].isin(common_annotators)]\n",
    "target2_common = target2_results[target2_results['Judges'].isin(common_annotators)]\n",
    "print(f'Common annotators: {common_annotators.size}')"
   ]
  },
  {
   "cell_type": "code",
   "execution_count": 9,
   "metadata": {},
   "outputs": [],
   "source": [
    "# Race: black vs. white\n",
    "bla_diffs, whi_diffs = utils.get_annotator_diffs(\n",
    "    data,\n",
    "    target1_common,\n",
    "    target2_common,\n",
    "    ['annotator_race_black', 'annotator_race_white'])\n",
    "# Gender: women vs. men\n",
    "wom_diffs, men_diffs = utils.get_annotator_diffs(\n",
    "    data,\n",
    "    target1_common,\n",
    "    target2_common,\n",
    "    ['annotator_gender_men', 'annotator_gender_women'])\n",
    "# Education: high-school vs. college vs. graduate\n",
    "hs_diffs, col_diffs, grad_diffs = utils.get_annotator_diffs(\n",
    "    data,\n",
    "    target1_common,\n",
    "    target2_common,\n",
    "    [['annotator_education_some_high_school', 'annotator_education_high_school_grad'],\n",
    "     ['annotator_education_some_college', 'annotator_education_college_grad_aa', 'annotator_education_college_grad_ba'],\n",
    "     ['annotator_education_professional_degree', 'annotator_education_masters', 'annotator_education_phd']])\n",
    "# Income: low-, middle-, and high-income\n",
    "li_diffs, mi_diffs, hi_diffs = utils.get_annotator_diffs(\n",
    "    data,\n",
    "    target1_common,\n",
    "    target2_common,\n",
    "    [['annotator_income_<10k', 'annotator_income_10k-50k'],\n",
    "     ['annotator_income_50k-100k', 'annotator_income_100k-200k'],\n",
    "     ['annotator_income_>200k']])\n",
    "# Religion: Christian vs. atheists/non-religious\n",
    "chr_diffs, ath_diffs = utils.get_annotator_diffs(\n",
    "    data,\n",
    "    target1_common,\n",
    "    target2_common,\n",
    "    ['annotator_religion_christian',\n",
    "     ['annotator_religion_atheist', 'annotator_religion_nothing']])\n",
    "# Sexual Orientation: Straight vs. Queer\n",
    "str_diffs, que_diffs = utils.get_annotator_diffs(\n",
    "    data,\n",
    "    target1_common,\n",
    "    target2_common,\n",
    "    ['annotator_sexuality_straight',\n",
    "     ['annotator_sexuality_bisexual', 'annotator_sexuality_gay', 'annotator_sexuality_other']])\n",
    "# Political ideology: liberal vs. independent vs. conservative\n",
    "cons_diffs, ind_diffs, lib_diffs = utils.get_annotator_diffs(\n",
    "    data,\n",
    "    target1_common,\n",
    "    target2_common,\n",
    "    [['annotator_ideology_extremeley_conservative', 'annotator_ideology_conservative', 'annotator_ideology_slightly_conservative'],\n",
    "     ['annotator_ideology_neutral'],\n",
    "     ['annotator_ideology_extremeley_liberal', 'annotator_ideology_liberal', 'annotator_ideology_slightly_liberal']])"
   ]
  },
  {
   "cell_type": "code",
   "execution_count": 10,
   "metadata": {},
   "outputs": [
    {
     "name": "stdout",
     "output_type": "stream",
     "text": [
      "Black / White: 0.00004\n",
      "Men / Women: 0.00472\n",
      "High School / College / Graduate: 0.65887\n",
      "Low-income / Middle-income / High-income: 0.50677\n",
      "Christian / Non-religious: 0.00024\n",
      "Straight / Queer: 0.00592\n",
      "Liberal / Independent / Conservative: 0.00000\n"
     ]
    }
   ],
   "source": [
    "print(f\"Black / White: {kruskal(bla_diffs, whi_diffs).pvalue:0.5f}\")\n",
    "print(f\"Men / Women: {kruskal(wom_diffs, men_diffs).pvalue:0.5f}\")\n",
    "print(f\"High School / College / Graduate: {kruskal(hs_diffs, col_diffs, grad_diffs).pvalue:0.5f}\")\n",
    "print(f\"Low-income / Middle-income / High-income: {kruskal(li_diffs, mi_diffs, hi_diffs).pvalue:0.5f}\")\n",
    "print(f\"Christian / Non-religious: {kruskal(chr_diffs, ath_diffs).pvalue:0.5f}\")\n",
    "print(f\"Straight / Queer: {kruskal(str_diffs, que_diffs).pvalue:0.5f}\")\n",
    "print(f\"Liberal / Independent / Conservative: {kruskal(cons_diffs, ind_diffs, lib_diffs).pvalue:0.5f}\")"
   ]
  },
  {
   "cell_type": "code",
   "execution_count": 11,
   "metadata": {},
   "outputs": [],
   "source": [
    "diffs = [\n",
    "    np.exp(-bla_diffs), np.exp(-whi_diffs),\n",
    "    np.exp(-wom_diffs), np.exp(-men_diffs),\n",
    "    np.exp(-hs_diffs), np.exp(-col_diffs), np.exp(-grad_diffs),\n",
    "    np.exp(-li_diffs), np.exp(-mi_diffs), np.exp(-hi_diffs),\n",
    "    np.exp(-chr_diffs), np.exp(-ath_diffs),\n",
    "    np.exp(-str_diffs), np.exp(-que_diffs),\n",
    "    np.exp(-lib_diffs), np.exp(-ind_diffs), np.exp(-cons_diffs)]\n",
    "errors = [bootstrap([diff], np.median, method='basic').standard_error for diff in diffs]"
   ]
  },
  {
   "cell_type": "code",
   "execution_count": 17,
   "metadata": {},
   "outputs": [
    {
     "data": {
      "image/png": "[encoded data removed]",
      "text/plain": [
       "<Figure size 864x720 with 2 Axes>"
      ]
     },
     "metadata": {
      "needs_background": "light"
     },
     "output_type": "display_data"
    }
   ],
   "source": [
    "\"\"\"\n",
    "Figure 3\n",
    "\"\"\"\n",
    "width = 0.2\n",
    "spacing = 0.18\n",
    "axis_label_size = 18\n",
    "axis_tick_label_size = 14\n",
    "subplot_label_size = 22\n",
    "error_capsize = 3\n",
    "\n",
    "fig, axes = plt.subplots(2, 1, figsize=(12, 10))\n",
    "plt.subplots_adjust(hspace=0.25)\n",
    "\n",
    "xticks_by_group = [\n",
    "    [-spacing, spacing],\n",
    "    [1 - spacing, 1 + spacing],\n",
    "    [2 - 1.5 * spacing, 2.0001, 2. + 1.5 * spacing],\n",
    "    [3 - 1.5 * spacing, 3.0001, 3 + 1.5 * spacing],\n",
    "    [4 - spacing, 4 + spacing],\n",
    "    [5 - spacing, 5 + spacing],\n",
    "    [6 - 1.5 * spacing, 6.0001, 6 + 1.5 * spacing]\n",
    "]\n",
    "all_xticks = np.concatenate(xticks_by_group)\n",
    "\n",
    "diffs_by_group = [\n",
    "    [-bla_diffs, -whi_diffs],\n",
    "    [-wom_diffs, -men_diffs],\n",
    "    [-hs_diffs, -col_diffs, -grad_diffs],\n",
    "    [-li_diffs, -mi_diffs, -hi_diffs],\n",
    "    [-chr_diffs, -ath_diffs],\n",
    "    [-str_diffs, -que_diffs],\n",
    "    [-lib_diffs, -ind_diffs, -cons_diffs]\n",
    "]\n",
    "\n",
    "\"\"\"\n",
    "Figure 3a: Annotator Lean\n",
    "\"\"\"\n",
    "# Race\n",
    "for diff, xticks in zip(diffs_by_group, xticks_by_group):\n",
    "    axes[0].boxplot(\n",
    "        x=diff,\n",
    "        positions=xticks,\n",
    "        showfliers=False,\n",
    "        widths=width,\n",
    "        medianprops={'color': 'black', 'lw': 1},\n",
    "        boxprops={'lw': 1})\n",
    "# Race\n",
    "mplego.labels.add_significance_label(\n",
    "    ax=axes[0],\n",
    "    bounds=[-spacing, spacing],\n",
    "    which='top',\n",
    "    label='***')\n",
    "# Gender\n",
    "mplego.labels.add_significance_label(\n",
    "    ax=axes[0],\n",
    "    bounds=[1 - spacing, 1 + spacing],\n",
    "    which='top',\n",
    "    label='***')\n",
    "# Religion\n",
    "mplego.labels.add_significance_label(\n",
    "    ax=axes[0],\n",
    "    bounds=[4 - spacing, 4 + spacing],\n",
    "    which='top',\n",
    "    label='***')\n",
    "# Sexuality\n",
    "mplego.labels.add_significance_label(\n",
    "    ax=axes[0],\n",
    "    bounds=[5 - spacing, 5 + spacing],\n",
    "    which='top',\n",
    "    label='**')\n",
    "# Political ideology\n",
    "mplego.labels.add_significance_label(\n",
    "    axes[0],\n",
    "    bounds=[6 - 1.5 * spacing, 6 + 1.5 * spacing],\n",
    "    which='top',\n",
    "    label='***')\n",
    "# Origin line\n",
    "axes[0].axhline(0, linestyle='-', color='gray', lw=0.5)\n",
    "axes[0].set_ylim([-5, 5])\n",
    "axes[0].set_ylabel(r'\\textbf{Annotator Lean}', fontsize=axis_label_size)\n",
    "\n",
    "\"\"\"\n",
    "Figure 3b: Odds ratio\n",
    "\"\"\"\n",
    "axes[1].bar(\n",
    "    x=all_xticks,\n",
    "    height=[np.median(diff) for diff in diffs],\n",
    "    width=1.2 * spacing,\n",
    "    yerr=errors,\n",
    "    color='silver',\n",
    "    error_kw={'capsize': error_capsize})\n",
    "\n",
    "axes[1].axhline(1, color='black', linestyle='--')\n",
    "axes[1].set_xlabel(r'\\textbf{Annotator Identity}', fontsize=axis_label_size)\n",
    "axes[1].set_ylabel(r'\\textbf{Change in Odds Ratio}', fontsize=axis_label_size)\n",
    "axes[1].set_ylim([0.4, 1.6])\n",
    "\n",
    "xticks = mplego.labels.bold_text(['Race', 'Gender', 'Education', 'Income', 'Religion', 'Sexual Ori.', 'Ideology'])\n",
    "xticks[-2] = r'\\textbf{Sexual}''\\n'r'\\textbf{Orientation}'\n",
    "\n",
    "for ax in axes:\n",
    "    ax.set_xticks(all_xticks, minor=True)\n",
    "    ax.set_xticklabels(['B', 'W', 'M', 'W', 'HS', 'C', 'G', 'L', 'M', 'H', 'C', 'NR', 'S', 'Q', 'L', 'I', 'C'], minor=True)\n",
    "    ax.set_xticks(np.arange(7))\n",
    "    ax.set_xticklabels(xticks)\n",
    "    ax.tick_params(labelsize=axis_tick_label_size, which='major', pad=20)\n",
    "    ax.tick_params(labelsize=axis_tick_label_size, which='minor')\n",
    "    ax.tick_params(axis='y', pad=5)\n",
    "    ax.set_xlim([-0.5, 6.5])\n",
    "\n",
    "mplego.labels.apply_subplot_labels(axes, bold=True, size=subplot_label_size, x=-0.07, y=1.1)\n",
    "plt.savefig('figure3.pdf', bbox_inches='tight')"
   ]
  },
  {
   "cell_type": "code",
   "execution_count": null,
   "metadata": {},
   "outputs": [],
   "source": []
  }
 ],
 "metadata": {
  "kernelspec": {
   "display_name": "hate",
   "language": "python",
   "name": "hate"
  },
  "language_info": {
   "codemirror_mode": {
    "name": "ipython",
    "version": 3
   },
   "file_extension": ".py",
   "mimetype": "text/x-python",
   "name": "python",
   "nbconvert_exporter": "python",
   "pygments_lexer": "ipython3",
   "version": "3.7.9"
  }
 },
 "nbformat": 4,
 "nbformat_minor": 4
}
