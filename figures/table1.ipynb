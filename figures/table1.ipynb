{
 "cells": [
  {
   "cell_type": "code",
   "execution_count": 9,
   "id": "d013b6ae-0a73-4dc0-a82e-1918237a5cd9",
   "metadata": {},
   "outputs": [],
   "source": [
    "import numpy as np\n",
    "import os\n",
    "import matplotlib.pyplot as plt\n",
    "import mpl_lego as mplego\n",
    "import pandas as pd\n",
    "\n",
    "from hatespeech import keys, utils\n",
    "from simpledorff import calculate_krippendorffs_alpha_for_df\n",
    "\n",
    "%matplotlib inline"
   ]
  },
  {
   "cell_type": "code",
   "execution_count": 10,
   "id": "188fd5a2-58bb-4178-81fc-148fee5a08a2",
   "metadata": {},
   "outputs": [],
   "source": [
    "data_path = \"~/data/hatespeech/unfiltered_ratings.feather\"\n",
    "rater_quality_path = \"~/data/hatespeech/rater_quality_check.csv\""
   ]
  },
  {
   "cell_type": "code",
   "execution_count": 11,
   "id": "d495461b-9ad2-4c07-a8f5-8cab714d772d",
   "metadata": {},
   "outputs": [],
   "source": [
    "data = pd.read_feather(data_path)"
   ]
  },
  {
   "cell_type": "code",
   "execution_count": 12,
   "id": "ec6c7028-bd1d-477b-87da-560e8619464e",
   "metadata": {},
   "outputs": [],
   "source": [
    "# Read in hate speech data\n",
    "data = pd.read_feather(data_path)\n",
    "# Remove all rows in which some item is missing\n",
    "data = utils.filter_missing_items(data)\n",
    "# Remove all rows in which the rater is not up to sufficient quality\n",
    "rater_quality = pd.read_csv(rater_quality_path)\n",
    "data = utils.filter_annotator_quality(data, rater_quality)\n",
    "# Recode item responses\n",
    "data = utils.recode_responses(\n",
    "    data,\n",
    "    insult={1: 0, 2: 1, 3: 2, 4: 3},\n",
    "    humiliate={1: 0, 2: 0, 3: 1, 4: 2},\n",
    "    status={1: 0, 2: 0, 3: 1, 4: 1},\n",
    "    dehumanize={1: 0, 2: 0, 3: 1, 4: 1},\n",
    "    violence={1: 0, 2: 0, 3: 1, 4: 1},\n",
    "    genocide={1: 0, 2: 0, 3: 1, 4: 1},\n",
    "    attack_defend={1: 0, 2: 1, 3: 2, 4: 3},\n",
    "    hatespeech={1: 0, 2: 1})"
   ]
  },
  {
   "cell_type": "code",
   "execution_count": null,
   "id": "f1e5c32f-05f3-49c6-83ff-8cfcc4b49b7b",
   "metadata": {},
   "outputs": [],
   "source": [
    "df_white_target = "
   ]
  },
  {
   "cell_type": "code",
   "execution_count": null,
   "id": "60f7ba84-6670-4eb8-b154-fb728d24cf1b",
   "metadata": {},
   "outputs": [],
   "source": [
    "calculate_krippendorffs_alpha_for_df("
   ]
  },
  {
   "cell_type": "code",
   "execution_count": 3,
   "id": "42cd8856-c1dc-46ab-b986-da3772cfd31d",
   "metadata": {},
   "outputs": [],
   "source": [
    "#labeler 1, black labelers, black content on dehumanize specifically\n",
    "df_white_labeler_black_target = data_multi[(data_multi['demo_race_ethnicitie_3'] == 1) & (data_multi['target_race_1'] == 1)]\n",
    "\n"
   ]
  },
  {
   "cell_type": "code",
   "execution_count": 4,
   "id": "a00245ef-f9c4-4417-9414-56dd3a23f34f",
   "metadata": {},
   "outputs": [],
   "source": [
    "#labeler 2, white labelers, black content on dehumanize specifically\n",
    "df_black_labeler_target = data_multi[(data_multi['demo_race_ethnicitie_6'] == 1) & (data_multi['target_race_1'] == 1)]\n"
   ]
  },
  {
   "cell_type": "code",
   "execution_count": 5,
   "id": "c4c17a1c-a39f-4e6f-9821-80a011c9ec77",
   "metadata": {},
   "outputs": [],
   "source": [
    "#creating the list hatespeech items for our relevant columns\n",
    "hatespeech_items = ['sentiment', 'respect', 'insult', 'status', 'dehumanize', 'violence_phys', 'genocide', 'attack_defend', 'hatespeech']"
   ]
  },
  {
   "cell_type": "code",
   "execution_count": 6,
   "id": "c0087891-e0f5-49be-a74b-0417a5df4c4a",
   "metadata": {},
   "outputs": [
    {
     "name": "stdout",
     "output_type": "stream",
     "text": [
      "sentiment all labelers all targets: 0.3816423950004645 black labeler black target: 0.4027790509173764 white labeler black target: 0.4383146578244864\n",
      "respect all labelers all targets: 0.3776134592778624 black labeler black target: 0.42149503935213206 white labeler black target: 0.4978147623814806\n",
      "insult all labelers all targets: 0.3549061448180144 black labeler black target: 0.3640027678487828 white labeler black target: 0.39117203381215804\n",
      "status all labelers all targets: 0.4355230151156937 black labeler black target: 0.4062999227905715 white labeler black target: 0.3099420453859518\n",
      "dehumanize all labelers all targets: 0.37131262518023744 black labeler black target: 0.37216912984382367 white labeler black target: 0.3657591702376213\n",
      "violence_phys all labelers all targets: 0.6293290677552754 black labeler black target: 0.7114030631644757 white labeler black target: 0.6620388500088403\n",
      "genocide all labelers all targets: 0.6563649844411445 black labeler black target: 0.694917203405589 white labeler black target: 0.6423174137255825\n",
      "attack_defend all labelers all targets: 0.34817372033309946 black labeler black target: 0.37423755409393933 white labeler black target: 0.38063850404539534\n",
      "hatespeech all labelers all targets: 0.5367766639436167 black labeler black target: 0.6464365126256423 white labeler black target: 0.6861725673615255\n"
     ]
    }
   ],
   "source": [
    "#looping over items in for loop \n",
    "\n",
    "for i in hatespeech_items:\n",
    "    black_krippendorff = simpledorff.calculate_krippendorffs_alpha_for_df(df_black_labeler_target, \n",
    "                                                                          experiment_col = 'comment_id', annotator_col = 'labeler_id', class_col = i)\n",
    "    white_krippendorff = simpledorff.calculate_krippendorffs_alpha_for_df(df_white_labeler_black_target, \n",
    "                                                                          experiment_col = 'comment_id', annotator_col = 'labeler_id', class_col = i)\n",
    "    all_krippendorff = simpledorff.calculate_krippendorffs_alpha_for_df(data_multi, \n",
    "                                                                          experiment_col = 'comment_id', annotator_col = 'labeler_id', class_col = i)\n",
    "    print(i, 'all labelers all targets:', all_krippendorff, 'black labeler black target:', black_krippendorff, 'white labeler black target:', white_krippendorff)"
   ]
  },
  {
   "cell_type": "code",
   "execution_count": 10,
   "id": "db64513e-3eda-493e-a4c5-67cc515d912c",
   "metadata": {},
   "outputs": [
    {
     "name": "stdout",
     "output_type": "stream",
     "text": [
      "[0.4027790509173764, 0.42149503935213206, 0.3640027678487828, 0.4062999227905715, 0.37216912984382367, 0.7114030631644757, 0.694917203405589, 0.37423755409393933, 0.6464365126256423]\n",
      "[0.4383146578244864, 0.4978147623814806, 0.39117203381215804, 0.3099420453859518, 0.3657591702376213, 0.6620388500088403, 0.6423174137255825, 0.38063850404539534, 0.6861725673615255]\n",
      "[0.3816423950004645, 0.3776134592778624, 0.3549061448180144, 0.4355230151156937, 0.37131262518023744, 0.6293290677552754, 0.6563649844411445, 0.34817372033309946, 0.5367766639436167]\n"
     ]
    }
   ],
   "source": [
    "black_list = []\n",
    "white_list = []\n",
    "all_list = []\n",
    "\n",
    "\n",
    "for i in hatespeech_items:\n",
    "    black_krippendorff = simpledorff.calculate_krippendorffs_alpha_for_df(df_black_labeler_target, experiment_col = 'comment_id', annotator_col = 'labeler_id', class_col = i)\n",
    "    white_krippendorff = simpledorff.calculate_krippendorffs_alpha_for_df(df_white_labeler_black_target, experiment_col = 'comment_id', annotator_col = 'labeler_id', class_col = i)\n",
    "    all_krippendorff = simpledorff.calculate_krippendorffs_alpha_for_df(data_multi, experiment_col = 'comment_id', annotator_col = 'labeler_id', class_col = i)\n",
    "    \n",
    "    black_list.append(black_krippendorff)\n",
    "    white_list.append(white_krippendorff)\n",
    "    all_list.append(all_krippendorff)\n",
    "    \n",
    "        \n",
    "    \n",
    "print(black_list)\n",
    "print(white_list)\n",
    "print(all_list)"
   ]
  },
  {
   "cell_type": "code",
   "execution_count": 12,
   "id": "b4e73897-f920-4ae4-81fb-f3ce00d9f34a",
   "metadata": {},
   "outputs": [],
   "source": [
    "output = {}\n",
    "for item, black, white, ally  in zip(hatespeech_items, black_list, white_list, all_list):\n",
    "    output[item] = {'black_krippendorff': black,\n",
    "                   'white_krippendorff': white,\n",
    "                   'all_krippendorff': ally}"
   ]
  },
  {
   "cell_type": "code",
   "execution_count": 14,
   "id": "b81b5f43-00c7-4472-a4b4-7ae20223adc4",
   "metadata": {},
   "outputs": [],
   "source": [
    "df_krippendorff = pd.DataFrame.from_dict(output)"
   ]
  },
  {
   "cell_type": "code",
   "execution_count": 15,
   "id": "708eca88-c6fe-4b20-bed6-680e52ebf937",
   "metadata": {},
   "outputs": [
    {
     "data": {
      "text/html": [
       "<div>\n",
       "<style scoped>\n",
       "    .dataframe tbody tr th:only-of-type {\n",
       "        vertical-align: middle;\n",
       "    }\n",
       "\n",
       "    .dataframe tbody tr th {\n",
       "        vertical-align: top;\n",
       "    }\n",
       "\n",
       "    .dataframe thead th {\n",
       "        text-align: right;\n",
       "    }\n",
       "</style>\n",
       "<table border=\"1\" class=\"dataframe\">\n",
       "  <thead>\n",
       "    <tr style=\"text-align: right;\">\n",
       "      <th></th>\n",
       "      <th>sentiment</th>\n",
       "      <th>respect</th>\n",
       "      <th>insult</th>\n",
       "      <th>status</th>\n",
       "      <th>dehumanize</th>\n",
       "      <th>violence_phys</th>\n",
       "      <th>genocide</th>\n",
       "      <th>attack_defend</th>\n",
       "      <th>hatespeech</th>\n",
       "    </tr>\n",
       "  </thead>\n",
       "  <tbody>\n",
       "    <tr>\n",
       "      <th>black_krippendorff</th>\n",
       "      <td>0.402779</td>\n",
       "      <td>0.421495</td>\n",
       "      <td>0.364003</td>\n",
       "      <td>0.406300</td>\n",
       "      <td>0.372169</td>\n",
       "      <td>0.711403</td>\n",
       "      <td>0.694917</td>\n",
       "      <td>0.374238</td>\n",
       "      <td>0.646437</td>\n",
       "    </tr>\n",
       "    <tr>\n",
       "      <th>white_krippendorff</th>\n",
       "      <td>0.438315</td>\n",
       "      <td>0.497815</td>\n",
       "      <td>0.391172</td>\n",
       "      <td>0.309942</td>\n",
       "      <td>0.365759</td>\n",
       "      <td>0.662039</td>\n",
       "      <td>0.642317</td>\n",
       "      <td>0.380639</td>\n",
       "      <td>0.686173</td>\n",
       "    </tr>\n",
       "    <tr>\n",
       "      <th>all_krippendorff</th>\n",
       "      <td>0.381642</td>\n",
       "      <td>0.377613</td>\n",
       "      <td>0.354906</td>\n",
       "      <td>0.435523</td>\n",
       "      <td>0.371313</td>\n",
       "      <td>0.629329</td>\n",
       "      <td>0.656365</td>\n",
       "      <td>0.348174</td>\n",
       "      <td>0.536777</td>\n",
       "    </tr>\n",
       "  </tbody>\n",
       "</table>\n",
       "</div>"
      ],
      "text/plain": [
       "                    sentiment   respect    insult    status  dehumanize  \\\n",
       "black_krippendorff   0.402779  0.421495  0.364003  0.406300    0.372169   \n",
       "white_krippendorff   0.438315  0.497815  0.391172  0.309942    0.365759   \n",
       "all_krippendorff     0.381642  0.377613  0.354906  0.435523    0.371313   \n",
       "\n",
       "                    violence_phys  genocide  attack_defend  hatespeech  \n",
       "black_krippendorff       0.711403  0.694917       0.374238    0.646437  \n",
       "white_krippendorff       0.662039  0.642317       0.380639    0.686173  \n",
       "all_krippendorff         0.629329  0.656365       0.348174    0.536777  "
      ]
     },
     "execution_count": 15,
     "metadata": {},
     "output_type": "execute_result"
    }
   ],
   "source": [
    "df_krippendorff"
   ]
  },
  {
   "cell_type": "code",
   "execution_count": null,
   "id": "d137d89f-af8d-4f8e-ab1f-f2f5c5159733",
   "metadata": {},
   "outputs": [],
   "source": []
  }
 ],
 "metadata": {
  "kernelspec": {
   "display_name": "hate",
   "language": "python",
   "name": "hate"
  },
  "language_info": {
   "codemirror_mode": {
    "name": "ipython",
    "version": 3
   },
   "file_extension": ".py",
   "mimetype": "text/x-python",
   "name": "python",
   "nbconvert_exporter": "python",
   "pygments_lexer": "ipython3",
   "version": "3.8.12"
  }
 },
 "nbformat": 4,
 "nbformat_minor": 5
}
