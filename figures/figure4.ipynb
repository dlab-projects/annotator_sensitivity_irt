{
 "cells": [
  {
   "cell_type": "code",
   "execution_count": 1,
   "metadata": {},
   "outputs": [],
   "source": [
    "import numpy as np\n",
    "import os\n",
    "import matplotlib.pyplot as plt\n",
    "import mpl_lego as mplego\n",
    "import pandas as pd\n",
    "\n",
    "from hatespeech import keys, utils\n",
    "from IPython.display import Markdown\n",
    "from scipy.stats import f_oneway, kruskal\n",
    "\n",
    "%matplotlib inline"
   ]
  },
  {
   "cell_type": "code",
   "execution_count": 2,
   "metadata": {},
   "outputs": [],
   "source": [
    "mplego.style.use_latex_style()"
   ]
  },
  {
   "cell_type": "code",
   "execution_count": 3,
   "metadata": {},
   "outputs": [],
   "source": [
    "exp = \"22\"\n",
    "base_path = os.path.join(os.environ['HOME'], 'projects/hatespeech-2021-fairml')\n",
    "data_path = \"~/data/hatespeech/unfiltered_ratings.feather\"\n",
    "rater_quality_path = \"~/data/hatespeech/rater_quality_check.csv\"\n",
    "results_path = os.path.join(base_path, f'scaling/experiments/exp{exp}')"
   ]
  },
  {
   "cell_type": "code",
   "execution_count": 4,
   "metadata": {},
   "outputs": [],
   "source": [
    "data = pd.read_feather(data_path).rename(columns={'violence_phys': 'violence'})\n",
    "# Remove all rows in which some item is missing\n",
    "data = utils.filter_missing_items(data)\n",
    "# Remove all rows in which the rater is not up to sufficient quality\n",
    "rater_quality = pd.read_csv(rater_quality_path)\n",
    "data = utils.filter_annotator_quality(data, rater_quality)\n",
    "# Recode item responses\n",
    "data = utils.recode_responses(\n",
    "    data,\n",
    "    insult={1: 0, 2: 1, 3: 2, 4: 3},\n",
    "    humiliate={1: 0, 2: 0, 3: 1, 4: 2},\n",
    "    status={1: 0, 2: 0, 3: 1, 4: 1},\n",
    "    dehumanize={1: 0, 2: 0, 3: 1, 4: 1},\n",
    "    violence={1: 0, 2: 0, 3: 1, 4: 1},\n",
    "    genocide={1: 0, 2: 0, 3: 1, 4: 1},\n",
    "    attack_defend={1: 0, 2: 1, 3: 2, 4: 3},\n",
    "    hatespeech={1: 0, 2: 1})\n",
    "# Only get comments targeting black / white people\n",
    "data = data[data['target_race_white'] | data['target_race_black']]\n",
    "data = data[data[keys.target_race_cols].sum(axis=1) == 1]\n",
    "data['target_race'] = np.where(data['target_race_white'], 1, 2)"
   ]
  },
  {
   "cell_type": "code",
   "execution_count": 5,
   "metadata": {},
   "outputs": [],
   "source": [
    "out_path = os.path.join(results_path, f\"exp{exp}_out.txt\")"
   ]
  },
  {
   "cell_type": "code",
   "execution_count": 6,
   "metadata": {},
   "outputs": [],
   "source": [
    "with open(out_path) as f:\n",
    "    lines = f.readlines()"
   ]
  },
  {
   "cell_type": "code",
   "execution_count": 7,
   "metadata": {},
   "outputs": [],
   "source": [
    "bias_lines = lines[17588:30364]"
   ]
  },
  {
   "cell_type": "code",
   "execution_count": 8,
   "metadata": {},
   "outputs": [],
   "source": [
    "bias_cut = bias_lines[4:-7]"
   ]
  },
  {
   "cell_type": "code",
   "execution_count": 30,
   "metadata": {},
   "outputs": [],
   "source": [
    "n_samples = len(bias_cut)\n",
    "observed = np.zeros(n_samples)\n",
    "expected = np.zeros(n_samples)\n",
    "bias_size = np.zeros(n_samples)\n",
    "t_stats = np.zeros(n_samples)\n",
    "p_vals = np.zeros(n_samples)\n",
    "labeler_id = np.zeros(n_samples)\n",
    "measure = np.zeros(n_samples)\n",
    "race = np.zeros(n_samples)\n",
    "\n",
    "for idx, line in enumerate(bias_cut):\n",
    "    processed = line.replace('|', ' ').replace('>', ' ').replace('<', ' ').split()\n",
    "    observed[idx] = float(processed[0])\n",
    "    expected[idx] = float(processed[1])\n",
    "    bias_size[idx] = float(processed[4])\n",
    "    t_stats[idx] = float(processed[6])\n",
    "    p_vals[idx] = float(processed[8])\n",
    "    labeler_id[idx] = int(processed[13])\n",
    "    measure = float(processed[14])\n",
    "    if processed[16] == 'white':\n",
    "        race[idx] = 0\n",
    "    elif processed[16] == 'black':\n",
    "        race[idx] = 1"
   ]
  },
  {
   "cell_type": "code",
   "execution_count": 31,
   "metadata": {},
   "outputs": [],
   "source": [
    "df = pd.DataFrame({\n",
    "    'observed': observed,\n",
    "    'expected': expected,\n",
    "    'bias': bias_size,\n",
    "    't_statistics': t_stats,\n",
    "    'p_values': p_vals,\n",
    "    'labeler_id': labeler_id,\n",
    "    'measure': measure,\n",
    "    'race': race}).astype({'labeler_id': int})"
   ]
  },
  {
   "cell_type": "code",
   "execution_count": 32,
   "metadata": {},
   "outputs": [],
   "source": [
    "df['annotator_race'] = 0\n",
    "subview = data[data['labeler_id'].isin(df['labeler_id'])].drop_duplicates('labeler_id')\n",
    "df.loc[df['labeler_id'].isin(subview[subview['annotator_race_black']]['labeler_id']), 'annotator_race'] = 1"
   ]
  },
  {
   "cell_type": "code",
   "execution_count": 33,
   "metadata": {},
   "outputs": [],
   "source": [
    "df['bias_corrected'] = -df['bias']\n",
    "df['bias_abs'] = df['bias'].abs()\n",
    "df['annotator_race_name'] = np.where(df['annotator_race'] == 1, 'black', 'white')\n",
    "df['target_race_name'] = np.where(df['race'] == 1, 'black', 'white')"
   ]
  },
  {
   "cell_type": "code",
   "execution_count": 17,
   "metadata": {},
   "outputs": [
    {
     "data": {
      "text/plain": [
       "<matplotlib.legend.Legend at 0x7fa1b07f5050>"
      ]
     },
     "execution_count": 17,
     "metadata": {},
     "output_type": "execute_result"
    },
    {
     "data": {
      "image/png": "[encoded data removed]",
      "text/plain": [
       "<Figure size 720x360 with 1 Axes>"
      ]
     },
     "metadata": {
      "needs_background": "light"
     },
     "output_type": "display_data"
    }
   ],
   "source": [
    "fig, ax = plt.subplots(1, 1, figsize=(10, 5))\n",
    "ax.hist(df['bias_corrected'], bins=np.linspace(-3, 3, 51), histtype='step', color='black', lw=2, density=True, label='All')\n",
    "ax.hist(df[df['p_values'] < 0.01]['bias'], color='red', histtype='step', density=True, lw=2, label=r'Significant ($\\alpha=0.01$)')\n",
    "ax.set_xlabel(r'\\textbf{Interaction Term}', fontsize=15)\n",
    "ax.set_ylabel(r'\\textbf{Density}', fontsize=15)\n",
    "ax.legend(prop={'size': 20})\n",
    "#plt.savefig('interaction_terms.png', dpi=300)"
   ]
  },
  {
   "cell_type": "code",
   "execution_count": 29,
   "metadata": {},
   "outputs": [
    {
     "data": {
      "text/plain": [
       "Series([], Name: bias, dtype: float64)"
      ]
     },
     "execution_count": 29,
     "metadata": {},
     "output_type": "execute_result"
    }
   ],
   "source": [
    "df[(df['annotator_race'] == 0) & (df['race'] == 0)]['bias']"
   ]
  },
  {
   "cell_type": "code",
   "execution_count": 64,
   "metadata": {},
   "outputs": [
    {
     "data": {
      "image/png": "[encoded data removed]",
      "text/plain": [
       "<Figure size 864x288 with 2 Axes>"
      ]
     },
     "metadata": {
      "needs_background": "light"
     },
     "output_type": "display_data"
    }
   ],
   "source": [
    "fig, axes = plt.subplots(1, 2, figsize=(12, 4), sharey=True)\n",
    "\n",
    "axes[0].hist(\n",
    "    [df[(df['annotator_race'] == 0) & (df['race'] == 0)]['bias_corrected'],\n",
    "     df[(df['annotator_race'] == 1) & (df['race'] == 0)]['bias_corrected']],\n",
    "    histtype='step',\n",
    "    density=True,\n",
    "    lw=2,\n",
    "    bins=np.linspace(-1, 1, 13),\n",
    "    label=['White Annotator', 'Black Annotator']\n",
    ")\n",
    "\n",
    "axes[1].hist(\n",
    "    [df[(df['annotator_race'] == 0) & (df['race'] == 1)]['bias_corrected'],\n",
    "     df[(df['annotator_race'] == 1) & (df['race'] == 1)]['bias_corrected']],\n",
    "    histtype='step',\n",
    "    density=True,\n",
    "    lw=2,\n",
    "    bins=np.linspace(-1, 1, 13),\n",
    "    label=['White Annotator', 'Black Annotator']\n",
    ")\n",
    "\n",
    "axes[0].set_title(r'\\textbf{White Targeting Comments}', fontsize=16)\n",
    "axes[1].set_title(r'\\textbf{Black Targeting Comments}', fontsize=16)\n",
    "\n",
    "for ax in axes:\n",
    "    ax.legend()\n",
    "    ax.set_xlim([-1, 1])\n",
    "    ax.set_xlabel(r'\\textbf{Interaction Term}', fontsize=18)\n",
    "    ax.set_ylabel(r'\\textbf{Density}', fontsize=18)\n",
    "\n",
    "#plt.savefig('interaction_terms_all_annotators.png', dpi=300)"
   ]
  },
  {
   "cell_type": "code",
   "execution_count": 27,
   "metadata": {},
   "outputs": [
    {
     "data": {
      "text/plain": [
       "0    11446\n",
       "1     1319\n",
       "Name: annotator_race, dtype: int64"
      ]
     },
     "execution_count": 27,
     "metadata": {},
     "output_type": "execute_result"
    }
   ],
   "source": [
    "df['annotator_race'].value_counts()"
   ]
  },
  {
   "cell_type": "code",
   "execution_count": null,
   "metadata": {},
   "outputs": [],
   "source": []
  },
  {
   "cell_type": "code",
   "execution_count": 40,
   "metadata": {},
   "outputs": [
    {
     "data": {
      "image/png": "[encoded data removed]",
      "text/plain": [
       "<Figure size 864x288 with 2 Axes>"
      ]
     },
     "metadata": {
      "needs_background": "light"
     },
     "output_type": "display_data"
    }
   ],
   "source": [
    "fig, axes = plt.subplots(1, 2, figsize=(12, 4), sharey=True)\n",
    "\n",
    "axes[0].hist(\n",
    "    [df[(df['annotator_race'] == 0) & (df['race'] == 0) & (df['p_values'] < 0.5)]['bias_corrected'],\n",
    "     df[(df['annotator_race'] == 1) & (df['race'] == 0) & (df['p_values'] < 0.5)]['bias_corrected']],\n",
    "    histtype='step',\n",
    "    density=True,\n",
    "    bins=np.linspace(-4, 4, 21),\n",
    "    lw=2,\n",
    "    label=['White Annotator', 'Black Annotator']\n",
    ")\n",
    "\n",
    "axes[1].hist(\n",
    "    [df[(df['annotator_race'] == 0) & (df['race'] == 1) & (df['p_values'] < 0.5)]['bias_corrected'],\n",
    "     df[(df['annotator_race'] == 1) & (df['race'] == 1) & (df['p_values'] < 0.5)]['bias_corrected']],\n",
    "    histtype='step',\n",
    "    density=True,\n",
    "    lw=2,\n",
    "    bins=np.linspace(-4, 4, 21),\n",
    "    label=['White Annotator', 'Black Annotator']\n",
    ")\n",
    "\n",
    "axes[0].set_title(r'\\textbf{White Targeting Comments}', fontsize=16)\n",
    "axes[1].set_title(r'\\textbf{Black Targeting Comments}', fontsize=16)\n",
    "\n",
    "for ax in axes:\n",
    "    ax.legend(loc='best')\n",
    "    ax.set_xlim([-4, 4])\n",
    "    ax.set_xlabel(r'\\textbf{Interaction Term}', fontsize=18)\n",
    "    ax.set_ylabel(r'\\textbf{Density}', fontsize=18)\n",
    "    \n",
    "#plt.savefig('interaction_terms_significant_annotators.png', dpi=300)"
   ]
  },
  {
   "cell_type": "code",
   "execution_count": 50,
   "metadata": {},
   "outputs": [
    {
     "data": {
      "text/plain": [
       "<matplotlib.lines.Line2D at 0x7fa19ee819d0>"
      ]
     },
     "execution_count": 50,
     "metadata": {},
     "output_type": "execute_result"
    },
    {
     "data": {
      "image/png": "[encoded data removed]",
      "text/plain": [
       "<Figure size 216x360 with 1 Axes>"
      ]
     },
     "metadata": {
      "needs_background": "light"
     },
     "output_type": "display_data"
    }
   ],
   "source": [
    "fig, ax = plt.subplots(1, 1, figsize=(3, 5))\n",
    "\n",
    "ax.boxplot(\n",
    "    x=[df[(df['annotator_race'] == 0) & (df['race'] == 0)]['bias_corrected'],\n",
    "       df[(df['annotator_race'] == 1) & (df['race'] == 0)]['bias_corrected']],\n",
    "    showfliers=False\n",
    ")\n",
    "ax.axhline(0)"
   ]
  },
  {
   "cell_type": "code",
   "execution_count": 51,
   "metadata": {},
   "outputs": [
    {
     "data": {
      "text/plain": [
       "0.0"
      ]
     },
     "execution_count": 51,
     "metadata": {},
     "output_type": "execute_result"
    }
   ],
   "source": [
    "np.median(df[(df['annotator_race'] == 0) & (df['race'] == 0)]['bias_corrected'])"
   ]
  },
  {
   "cell_type": "code",
   "execution_count": 52,
   "metadata": {},
   "outputs": [
    {
     "data": {
      "text/plain": [
       "0.0"
      ]
     },
     "execution_count": 52,
     "metadata": {},
     "output_type": "execute_result"
    }
   ],
   "source": [
    "np.median(df[(df['annotator_race'] == 1) & (df['race'] == 0)]['bias_corrected'])"
   ]
  },
  {
   "cell_type": "code",
   "execution_count": 53,
   "metadata": {},
   "outputs": [
    {
     "data": {
      "text/plain": [
       "0       0.09\n",
       "1       0.41\n",
       "2      -0.39\n",
       "3      -0.00\n",
       "4      -0.04\n",
       "        ... \n",
       "4747    0.33\n",
       "4748   -0.00\n",
       "4749   -0.00\n",
       "4750    0.46\n",
       "4751   -0.00\n",
       "Name: bias_corrected, Length: 4251, dtype: float64"
      ]
     },
     "execution_count": 53,
     "metadata": {},
     "output_type": "execute_result"
    }
   ],
   "source": [
    "df[(df['annotator_race'] == 0) & (df['race'] == 0)]['bias_corrected']"
   ]
  },
  {
   "cell_type": "code",
   "execution_count": 71,
   "metadata": {},
   "outputs": [
    {
     "data": {
      "text/plain": [
       "(818,)"
      ]
     },
     "execution_count": 71,
     "metadata": {},
     "output_type": "execute_result"
    }
   ],
   "source": [
    "df[(df['annotator_race'] == 1) & (df['race'] == 1)]['bias_corrected'].shape"
   ]
  },
  {
   "cell_type": "code",
   "execution_count": 75,
   "metadata": {},
   "outputs": [
    {
     "data": {
      "text/plain": [
       "F_onewayResult(statistic=8.704003943516497, pvalue=0.003190624491126266)"
      ]
     },
     "execution_count": 75,
     "metadata": {},
     "output_type": "execute_result"
    }
   ],
   "source": [
    "from scipy.stats import f_oneway, kruskal\n",
    "\n",
    "f_oneway(\n",
    "    df[(df['annotator_race'] == 0) & (df['race'] == 0)]['bias_corrected'].values,\n",
    "    df[(df['annotator_race'] == 1) & (df['race'] == 0)]['bias_corrected'].values)"
   ]
  },
  {
   "cell_type": "code",
   "execution_count": 41,
   "metadata": {},
   "outputs": [
    {
     "data": {
      "text/plain": [
       "F_onewayResult(statistic=9.549641870183601, pvalue=0.0020079678537736046)"
      ]
     },
     "execution_count": 41,
     "metadata": {},
     "output_type": "execute_result"
    }
   ],
   "source": [
    "f_oneway(\n",
    "df[(df['annotator_race'] == 0) & (df['race'] == 1) & (df['p_values'] < 1)]['bias_corrected'],\n",
    "     df[(df['annotator_race'] == 1) & (df['race'] == 1) & (df['p_values'] < 1)]['bias_corrected'])"
   ]
  },
  {
   "cell_type": "code",
   "execution_count": 151,
   "metadata": {},
   "outputs": [
    {
     "data": {
      "text/plain": [
       "0.855"
      ]
     },
     "execution_count": 151,
     "metadata": {},
     "output_type": "execute_result"
    }
   ],
   "source": [
    "np.median(df[(df['annotator_race'] == 1) & (df['race'] == 0) & (df['p_values'] < 0.1)]['bias_corrected'])"
   ]
  },
  {
   "cell_type": "code",
   "execution_count": 80,
   "metadata": {},
   "outputs": [],
   "source": [
    "target_black = df[df['race'] == 1].copy()\n",
    "target_white = df[df['race'] == 0].copy()\n",
    "common_annotators = target_black[target_black['labeler_id'].isin(target_white['labeler_id'])]['labeler_id'].values"
   ]
  },
  {
   "cell_type": "code",
   "execution_count": 90,
   "metadata": {},
   "outputs": [],
   "source": [
    "diffs = (target_black[target_black['labeler_id'].isin(common_annotators)].sort_values('labeler_id')['bias_corrected'].reset_index(drop=True)\n",
    "         - target_white[target_white['labeler_id'].isin(common_annotators)].sort_values('labeler_id')['bias_corrected'].reset_index(drop=True))"
   ]
  },
  {
   "cell_type": "code",
   "execution_count": 94,
   "metadata": {},
   "outputs": [],
   "source": [
    "interaction_diffs = pd.DataFrame(data={'labeler_id': np.sort(common_annotators), 'interaction_diffs': diffs})"
   ]
  },
  {
   "cell_type": "code",
   "execution_count": 96,
   "metadata": {},
   "outputs": [],
   "source": [
    "sev_diffs = pd.read_csv('severity_diffs.csv')"
   ]
  },
  {
   "cell_type": "code",
   "execution_count": 103,
   "metadata": {},
   "outputs": [],
   "source": [
    "ruff = sev_diffs.merge(interaction_diffs, how='inner', on='labeler_id')"
   ]
  },
  {
   "cell_type": "code",
   "execution_count": 111,
   "metadata": {},
   "outputs": [
    {
     "data": {
      "text/plain": [
       "array([[1.        , 0.70916585],\n",
       "       [0.70916585, 1.        ]])"
      ]
     },
     "execution_count": 111,
     "metadata": {},
     "output_type": "execute_result"
    }
   ],
   "source": [
    "np.corrcoef(ruff['severity_diffs'], ruff['interaction_diffs'])"
   ]
  },
  {
   "cell_type": "code",
   "execution_count": 124,
   "metadata": {},
   "outputs": [
    {
     "data": {
      "image/png": "[encoded data removed]",
      "text/plain": [
       "<Figure size 432x288 with 1 Axes>"
      ]
     },
     "metadata": {
      "needs_background": "light"
     },
     "output_type": "display_data"
    }
   ],
   "source": [
    "plt.hexbin(ruff['severity_diffs'], ruff['interaction_diffs'], cmap='Greys', bins='log', gridsize=40)\n",
    "plt.xlim([-6, 6])\n",
    "plt.ylim([-6, 6])\n",
    "plt.gca().set_aspect('equal')"
   ]
  },
  {
   "cell_type": "code",
   "execution_count": null,
   "metadata": {},
   "outputs": [],
   "source": [
    "# 5913\n",
    "# 8133"
   ]
  },
  {
   "cell_type": "code",
   "execution_count": 30,
   "metadata": {},
   "outputs": [],
   "source": [
    "annotator = 6028\n",
    "df_comment = data[data['labeler_id'] == annotator][['predict_text', 'comment_id', race_to_col['black'], race_to_col['white']] + items].reset_index(drop=True)\n",
    "avg_for_comments = pd.merge(\n",
    "    left=df_comment,\n",
    "    right=avg_scores,\n",
    "    how='left',\n",
    "    on='comment_id',\n",
    "    suffixes=('_left', ''))[items]\n",
    "df_comment[items] = df_comment[items] - avg_for_comments"
   ]
  },
  {
   "cell_type": "code",
   "execution_count": 31,
   "metadata": {},
   "outputs": [
    {
     "data": {
      "text/html": [
       "<div>\n",
       "<style scoped>\n",
       "    .dataframe tbody tr th:only-of-type {\n",
       "        vertical-align: middle;\n",
       "    }\n",
       "\n",
       "    .dataframe tbody tr th {\n",
       "        vertical-align: top;\n",
       "    }\n",
       "\n",
       "    .dataframe thead th {\n",
       "        text-align: right;\n",
       "    }\n",
       "</style>\n",
       "<table border=\"1\" class=\"dataframe\">\n",
       "  <thead>\n",
       "    <tr style=\"text-align: right;\">\n",
       "      <th></th>\n",
       "      <th>predict_text</th>\n",
       "      <th>comment_id</th>\n",
       "      <th>target_race_1</th>\n",
       "      <th>target_race_6</th>\n",
       "      <th>sentiment</th>\n",
       "      <th>respect</th>\n",
       "      <th>insult</th>\n",
       "      <th>humiliate</th>\n",
       "      <th>status</th>\n",
       "      <th>dehumanize</th>\n",
       "      <th>violence</th>\n",
       "      <th>genocide</th>\n",
       "      <th>attack_defend</th>\n",
       "      <th>hatespeech</th>\n",
       "    </tr>\n",
       "  </thead>\n",
       "  <tbody>\n",
       "    <tr>\n",
       "      <th>0</th>\n",
       "      <td>Given time and circumstance the white supremacists would inbreed their genes. There is no such thing as racial purity. Its a long term path to extinction.</td>\n",
       "      <td>3683</td>\n",
       "      <td>NaN</td>\n",
       "      <td>1.0</td>\n",
       "      <td>0.333333</td>\n",
       "      <td>0.000000</td>\n",
       "      <td>0.666667</td>\n",
       "      <td>-0.333333</td>\n",
       "      <td>-0.333333</td>\n",
       "      <td>-0.333333</td>\n",
       "      <td>0.000000</td>\n",
       "      <td>0.000000</td>\n",
       "      <td>-0.333333</td>\n",
       "      <td>0.000000</td>\n",
       "    </tr>\n",
       "    <tr>\n",
       "      <th>1</th>\n",
       "      <td>He punched the white boy right out of him</td>\n",
       "      <td>2383</td>\n",
       "      <td>NaN</td>\n",
       "      <td>1.0</td>\n",
       "      <td>0.333333</td>\n",
       "      <td>0.000000</td>\n",
       "      <td>0.000000</td>\n",
       "      <td>0.333333</td>\n",
       "      <td>0.666667</td>\n",
       "      <td>0.000000</td>\n",
       "      <td>-0.333333</td>\n",
       "      <td>0.000000</td>\n",
       "      <td>0.000000</td>\n",
       "      <td>0.000000</td>\n",
       "    </tr>\n",
       "    <tr>\n",
       "      <th>2</th>\n",
       "      <td>I'm all for equality. So fuck black people. And fuck hispanic people. And fuck muslims too. And asians. And indians. And jews for that matter, fuck them. And fuck this fat fuck in particular.</td>\n",
       "      <td>1191</td>\n",
       "      <td>1.0</td>\n",
       "      <td>1.0</td>\n",
       "      <td>-1.500000</td>\n",
       "      <td>-1.500000</td>\n",
       "      <td>-2.250000</td>\n",
       "      <td>-1.250000</td>\n",
       "      <td>-0.250000</td>\n",
       "      <td>-0.500000</td>\n",
       "      <td>0.000000</td>\n",
       "      <td>0.000000</td>\n",
       "      <td>-1.250000</td>\n",
       "      <td>-0.500000</td>\n",
       "    </tr>\n",
       "    <tr>\n",
       "      <th>3</th>\n",
       "      <td>This is why we won, because Americans know that giving these people power for another day is unacceptable. We need to fight back against the Synagogue and their White/Mexican/Black Communist useful idiots they get to do their dirty work for them. I am armed and I am ready for these scum if they try to resist being sent back to Mexico/Guatemala all these illegal invaders that want to invade our nations and change it to suit their savage ways. Illegals must die.</td>\n",
       "      <td>20057</td>\n",
       "      <td>1.0</td>\n",
       "      <td>1.0</td>\n",
       "      <td>-0.948515</td>\n",
       "      <td>-0.928713</td>\n",
       "      <td>-0.770297</td>\n",
       "      <td>-1.384158</td>\n",
       "      <td>-0.924752</td>\n",
       "      <td>-0.835644</td>\n",
       "      <td>-0.954455</td>\n",
       "      <td>-0.914851</td>\n",
       "      <td>-0.871287</td>\n",
       "      <td>0.253465</td>\n",
       "    </tr>\n",
       "    <tr>\n",
       "      <th>4</th>\n",
       "      <td>It's just really pointless and insulting to people who actually experience racism by implying our society is in need of a reminder that being a white person is okay. Because I doubt one genuine look at history would leave anyone wondering if \"being white\" in the U.S. will be perceived as a problem.  The very concept of on a personal level being okay with the fact you were born with the skin color you were born with is of course not racist. But the statement just makes it seem like white people are at risk to become some sort of outcasts.</td>\n",
       "      <td>20052</td>\n",
       "      <td>NaN</td>\n",
       "      <td>1.0</td>\n",
       "      <td>-0.430647</td>\n",
       "      <td>-0.010568</td>\n",
       "      <td>0.206077</td>\n",
       "      <td>-0.130779</td>\n",
       "      <td>-0.120211</td>\n",
       "      <td>-0.060766</td>\n",
       "      <td>-0.003963</td>\n",
       "      <td>-0.003963</td>\n",
       "      <td>-0.051519</td>\n",
       "      <td>-0.025099</td>\n",
       "    </tr>\n",
       "  </tbody>\n",
       "</table>\n",
       "</div>"
      ],
      "text/plain": [
       "                                                                                                                                                                                                                                                                                                                                                                                                                                                                                                                                                      predict_text  \\\n",
       "0                                                                                                                                                                                                                                                                                                                                                                                                       Given time and circumstance the white supremacists would inbreed their genes. There is no such thing as racial purity. Its a long term path to extinction.   \n",
       "1                                                                                                                                                                                                                                                                                                                                                                                                                                                                                                                        He punched the white boy right out of him   \n",
       "2                                                                                                                                                                                                                                                                                                                                                                  I'm all for equality. So fuck black people. And fuck hispanic people. And fuck muslims too. And asians. And indians. And jews for that matter, fuck them. And fuck this fat fuck in particular.   \n",
       "3                                                                                 This is why we won, because Americans know that giving these people power for another day is unacceptable. We need to fight back against the Synagogue and their White/Mexican/Black Communist useful idiots they get to do their dirty work for them. I am armed and I am ready for these scum if they try to resist being sent back to Mexico/Guatemala all these illegal invaders that want to invade our nations and change it to suit their savage ways. Illegals must die.   \n",
       "4  It's just really pointless and insulting to people who actually experience racism by implying our society is in need of a reminder that being a white person is okay. Because I doubt one genuine look at history would leave anyone wondering if \"being white\" in the U.S. will be perceived as a problem.  The very concept of on a personal level being okay with the fact you were born with the skin color you were born with is of course not racist. But the statement just makes it seem like white people are at risk to become some sort of outcasts.   \n",
       "\n",
       "   comment_id  target_race_1  target_race_6  sentiment   respect    insult  \\\n",
       "0        3683            NaN            1.0   0.333333  0.000000  0.666667   \n",
       "1        2383            NaN            1.0   0.333333  0.000000  0.000000   \n",
       "2        1191            1.0            1.0  -1.500000 -1.500000 -2.250000   \n",
       "3       20057            1.0            1.0  -0.948515 -0.928713 -0.770297   \n",
       "4       20052            NaN            1.0  -0.430647 -0.010568  0.206077   \n",
       "\n",
       "   humiliate    status  dehumanize  violence  genocide  attack_defend  \\\n",
       "0  -0.333333 -0.333333   -0.333333  0.000000  0.000000      -0.333333   \n",
       "1   0.333333  0.666667    0.000000 -0.333333  0.000000       0.000000   \n",
       "2  -1.250000 -0.250000   -0.500000  0.000000  0.000000      -1.250000   \n",
       "3  -1.384158 -0.924752   -0.835644 -0.954455 -0.914851      -0.871287   \n",
       "4  -0.130779 -0.120211   -0.060766 -0.003963 -0.003963      -0.051519   \n",
       "\n",
       "   hatespeech  \n",
       "0    0.000000  \n",
       "1    0.000000  \n",
       "2   -0.500000  \n",
       "3    0.253465  \n",
       "4   -0.025099  "
      ]
     },
     "execution_count": 31,
     "metadata": {},
     "output_type": "execute_result"
    }
   ],
   "source": [
    "df_comment"
   ]
  },
  {
   "cell_type": "code",
   "execution_count": 172,
   "metadata": {},
   "outputs": [
    {
     "data": {
      "text/html": [
       "<div>\n",
       "<style scoped>\n",
       "    .dataframe tbody tr th:only-of-type {\n",
       "        vertical-align: middle;\n",
       "    }\n",
       "\n",
       "    .dataframe tbody tr th {\n",
       "        vertical-align: top;\n",
       "    }\n",
       "\n",
       "    .dataframe thead th {\n",
       "        text-align: right;\n",
       "    }\n",
       "</style>\n",
       "<table border=\"1\" class=\"dataframe\">\n",
       "  <thead>\n",
       "    <tr style=\"text-align: right;\">\n",
       "      <th></th>\n",
       "      <th>sentiment</th>\n",
       "      <th>respect</th>\n",
       "      <th>insult</th>\n",
       "      <th>humiliate</th>\n",
       "      <th>status</th>\n",
       "      <th>dehumanize</th>\n",
       "      <th>violence</th>\n",
       "      <th>genocide</th>\n",
       "      <th>attack_defend</th>\n",
       "      <th>hatespeech</th>\n",
       "    </tr>\n",
       "  </thead>\n",
       "  <tbody>\n",
       "    <tr>\n",
       "      <th>9558</th>\n",
       "      <td>4</td>\n",
       "      <td>3</td>\n",
       "      <td>2</td>\n",
       "      <td>0</td>\n",
       "      <td>0</td>\n",
       "      <td>1</td>\n",
       "      <td>0</td>\n",
       "      <td>0</td>\n",
       "      <td>2</td>\n",
       "      <td>0</td>\n",
       "    </tr>\n",
       "    <tr>\n",
       "      <th>20647</th>\n",
       "      <td>4</td>\n",
       "      <td>4</td>\n",
       "      <td>3</td>\n",
       "      <td>1</td>\n",
       "      <td>0</td>\n",
       "      <td>1</td>\n",
       "      <td>1</td>\n",
       "      <td>1</td>\n",
       "      <td>2</td>\n",
       "      <td>0</td>\n",
       "    </tr>\n",
       "    <tr>\n",
       "      <th>22461</th>\n",
       "      <td>4</td>\n",
       "      <td>4</td>\n",
       "      <td>3</td>\n",
       "      <td>2</td>\n",
       "      <td>1</td>\n",
       "      <td>1</td>\n",
       "      <td>1</td>\n",
       "      <td>0</td>\n",
       "      <td>3</td>\n",
       "      <td>0</td>\n",
       "    </tr>\n",
       "  </tbody>\n",
       "</table>\n",
       "</div>"
      ],
      "text/plain": [
       "       sentiment  respect  insult  humiliate  status  dehumanize  violence  \\\n",
       "9558           4        3       2          0       0           1         0   \n",
       "20647          4        4       3          1       0           1         1   \n",
       "22461          4        4       3          2       1           1         1   \n",
       "\n",
       "       genocide  attack_defend  hatespeech  \n",
       "9558          0              2           0  \n",
       "20647         1              2           0  \n",
       "22461         0              3           0  "
      ]
     },
     "execution_count": 172,
     "metadata": {},
     "output_type": "execute_result"
    }
   ],
   "source": [
    "data[data['labeler_id'] == annotator][items]"
   ]
  },
  {
   "cell_type": "code",
   "execution_count": null,
   "metadata": {},
   "outputs": [],
   "source": []
  }
 ],
 "metadata": {
  "kernelspec": {
   "display_name": "hate",
   "language": "python",
   "name": "hate"
  },
  "language_info": {
   "codemirror_mode": {
    "name": "ipython",
    "version": 3
   },
   "file_extension": ".py",
   "mimetype": "text/x-python",
   "name": "python",
   "nbconvert_exporter": "python",
   "pygments_lexer": "ipython3",
   "version": "3.7.9"
  }
 },
 "nbformat": 4,
 "nbformat_minor": 4
}
