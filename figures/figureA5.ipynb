{
 "cells": [
  {
   "cell_type": "code",
   "execution_count": null,
   "metadata": {},
   "outputs": [],
   "source": [
    "import numpy as np\n",
    "import os\n",
    "import matplotlib.pyplot as plt\n",
    "import mpl_lego as mplego\n",
    "import pandas as pd\n",
    "\n",
    "from hatespeech import keys, utils\n",
    "from IPython.display import Markdown\n",
    "from scipy.stats import bootstrap, kruskal\n",
    "\n",
    "%matplotlib inline"
   ]
  },
  {
   "cell_type": "code",
   "execution_count": null,
   "metadata": {},
   "outputs": [],
   "source": [
    "mplego.style.use_latex_style()"
   ]
  },
  {
   "cell_type": "code",
   "execution_count": null,
   "metadata": {},
   "outputs": [],
   "source": [
    "exp = \"08\"\n",
    "base_path = os.path.join(os.environ['HOME'], 'projects/annotator_bias_irt')\n",
    "data_path = os.path.join(os.environ['HOME'], 'data/hatespeech/clean_qualtrics_irt_rollout.feather')\n",
    "rater_quality_path = \"~/data/hatespeech/rater_quality_check.csv\"\n",
    "results_path = os.path.join(base_path, f'scaling/experiments/exp{exp}')\n",
    "out_path = os.path.join(results_path, f\"exp{exp}_out.txt\")"
   ]
  },
  {
   "cell_type": "code",
   "execution_count": null,
   "metadata": {},
   "outputs": [],
   "source": [
    "with open(out_path) as f:\n",
    "    lines = f.readlines()"
   ]
  },
  {
   "cell_type": "code",
   "execution_count": null,
   "metadata": {},
   "outputs": [],
   "source": [
    "bias_lines = lines[26223:26287]"
   ]
  },
  {
   "cell_type": "code",
   "execution_count": null,
   "metadata": {},
   "outputs": [],
   "source": [
    "races = {\n",
    "    'asian': 3,\n",
    "    'black': 1,\n",
    "    'latinx': 2,\n",
    "    'middleeastern': 4,\n",
    "    'nativeamerican': 5,\n",
    "    'pacificislander': 6,\n",
    "    'white': 0,\n",
    "    'other': 7\n",
    "}\n",
    "sorted_races = list(np.array(list(races.keys()))[np.argsort(list(races.values()))])"
   ]
  },
  {
   "cell_type": "code",
   "execution_count": null,
   "metadata": {},
   "outputs": [],
   "source": [
    "n_samples = len(bias_lines)\n",
    "observed = np.zeros(n_samples)\n",
    "expected = np.zeros(n_samples)\n",
    "bias_size = np.zeros(n_samples)\n",
    "std_error = np.zeros(n_samples)\n",
    "t_stats = np.zeros(n_samples)\n",
    "p_vals = np.zeros(n_samples)\n",
    "target = np.zeros(n_samples, dtype=str)\n",
    "annotator = np.zeros(n_samples, dtype=str)\n",
    "biases = np.zeros((8, 8))\n",
    "std_errors = np.zeros((8, 8))\n",
    "p_values = np.zeros((8, 8))\n",
    "\n",
    "for idx, line in enumerate(bias_lines):\n",
    "    processed = line.replace('|', ' ').replace('>', ' ').replace('<', ' ').split()\n",
    "    observed[idx] = float(processed[0])\n",
    "    expected[idx] = float(processed[1])\n",
    "    bias_size[idx] = float(processed[4])\n",
    "    std_error[idx] = float(processed[5])\n",
    "    t_stats[idx] = float(processed[6])\n",
    "    p_vals[idx] = float(processed[8])\n",
    "    target[idx] = processed[13]\n",
    "    annotator[idx] = processed[16]\n",
    "\n",
    "    ii = races[line[88:105].replace(' ', '')]\n",
    "    jj = races[line[112:132].replace(' ', '')]\n",
    "    biases[ii, jj] = float(processed[4])\n",
    "    std_errors[ii, jj] = float(processed[5])\n",
    "    p_values[ii, jj] = float(processed[8])\n",
    "    \n",
    "log_odds = np.exp(biases)"
   ]
  },
  {
   "cell_type": "code",
   "execution_count": null,
   "metadata": {},
   "outputs": [],
   "source": []
  },
  {
   "cell_type": "code",
   "execution_count": null,
   "metadata": {},
   "outputs": [],
   "source": []
  },
  {
   "cell_type": "code",
   "execution_count": null,
   "metadata": {},
   "outputs": [],
   "source": [
    "\"\"\"\n",
    "Figure A5\n",
    "\"\"\"\n",
    "fig_height = 6\n",
    "fig_width = 6\n",
    "width = 0.2\n",
    "spacing = 0.18\n",
    "axis_label_size = 18\n",
    "axis_tick_label_size = 14\n",
    "subplot_label_size = 22\n",
    "error_capsize = 4\n",
    "\n",
    "fig, ax = plt.subplots(1, 1, figsize=(fig_height, fig_width))\n",
    "\n",
    "img = ax.imshow(\n",
    "    log_odds,\n",
    "    vmin=0.5,\n",
    "    vmax=1.5,\n",
    "    cmap='RdGy',\n",
    "    origin='lower')\n",
    "cb, cax = mplego.colorbar.append_colorbar_to_axis(ax, img)\n",
    "cax.tick_params(labelsize=15)\n",
    "cax.set_ylim([0.5, 1.5])\n",
    "cb.set_ticks([0.5, 0.75, 1.0, 1.25, 1.5])\n",
    "cb.set_label(mplego.labels.bold_text('Change in Odds Ratio'), fontsize=16, rotation=270, labelpad=20)\n",
    "    \n",
    "for x in range(8):\n",
    "    for y in range(8):\n",
    "        p_val = p_values[x, y]\n",
    "        color = 'black'\n",
    "        if p_val < 1e-3:\n",
    "            ax.text(y, x, s='***',\n",
    "                    ha='center',\n",
    "                    va='center',\n",
    "                    color=color,\n",
    "                    fontsize=25)\n",
    "        elif p_val < 1e-2:\n",
    "            ax.text(y, x, s='**',\n",
    "                    ha='center',\n",
    "                    va='center',\n",
    "                    color=color,\n",
    "                    fontsize=25)\n",
    "        elif p_val < 1e-1:\n",
    "            ax.text(y, x, s='*',\n",
    "                    ha='center',\n",
    "                    va='center',\n",
    "                    color=color,\n",
    "                    fontsize=25)\n",
    "\n",
    "ax.set_xticks(np.arange(8))\n",
    "ax.set_yticks(ax.get_xticks())\n",
    "ax.set_xticklabels(\n",
    "    [r'\\textbf{White}',\n",
    "     r'\\textbf{Black}',\n",
    "     r'\\textbf{Latinx}',\n",
    "     r'\\textbf{Asian}',\n",
    "     r'\\textbf{Middle Eastern}',\n",
    "     r'\\textbf{Native American}',\n",
    "     r'\\textbf{Pacific Islander}',\n",
    "     r'\\textbf{Other}'],\n",
    "    ha='right',\n",
    "    rotation=25,\n",
    "    fontsize=15)\n",
    "ax.set_yticklabels(ax.get_xticklabels(), ha='right', rotation=0, fontsize=15)\n",
    "ax.set_xlabel(mplego.labels.bold_text('Annotator Race'), fontsize=18)\n",
    "ax.set_ylabel(mplego.labels.bold_text('Target Race'), fontsize=18)\n",
    "ax.tick_params(labelsize=axis_tick_label_size)\n",
    "plt.savefig('figureA5.pdf', bbox_inches='tight')"
   ]
  }
 ],
 "metadata": {
  "kernelspec": {
   "display_name": "hate",
   "language": "python",
   "name": "hate"
  },
  "language_info": {
   "codemirror_mode": {
    "name": "ipython",
    "version": 3
   },
   "file_extension": ".py",
   "mimetype": "text/x-python",
   "name": "python",
   "nbconvert_exporter": "python",
   "pygments_lexer": "ipython3",
   "version": "3.8.12"
  }
 },
 "nbformat": 4,
 "nbformat_minor": 4
}
