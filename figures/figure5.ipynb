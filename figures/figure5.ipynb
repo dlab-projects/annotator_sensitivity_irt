{
 "cells": [
  {
   "cell_type": "code",
   "execution_count": null,
   "metadata": {},
   "outputs": [],
   "source": [
    "import numpy as np\n",
    "import os\n",
    "import matplotlib.pyplot as plt\n",
    "import mpl_lego as mplego\n",
    "import pandas as pd\n",
    "\n",
    "from hatespeech import keys, utils\n",
    "from IPython.display import Markdown\n",
    "from scipy.stats import bootstrap, kruskal\n",
    "\n",
    "%matplotlib inline"
   ]
  },
  {
   "cell_type": "code",
   "execution_count": null,
   "metadata": {},
   "outputs": [],
   "source": [
    "mplego.style.use_latex_style()"
   ]
  },
  {
   "cell_type": "code",
   "execution_count": null,
   "metadata": {},
   "outputs": [],
   "source": [
    "exp = \"08\"\n",
    "base_path = os.path.join(os.environ['HOME'], 'projects/hatespeech-2021-fairml')\n",
    "data_path = os.path.join(os.environ['HOME'], 'data/hatespeech/clean_qualtrics_irt_rollout.feather')\n",
    "rater_quality_path = \"~/data/hatespeech/rater_quality_check.csv\"\n",
    "results_path = os.path.join(base_path, f'scaling/experiments/exp{exp}')\n",
    "out_path = os.path.join(results_path, f\"exp{exp}_out.txt\")"
   ]
  },
  {
   "cell_type": "code",
   "execution_count": null,
   "metadata": {},
   "outputs": [],
   "source": [
    "with open(out_path) as f:\n",
    "    lines = f.readlines()"
   ]
  },
  {
   "cell_type": "code",
   "execution_count": null,
   "metadata": {},
   "outputs": [],
   "source": [
    "bias_lines = lines[26223:26287]"
   ]
  },
  {
   "cell_type": "code",
   "execution_count": null,
   "metadata": {},
   "outputs": [],
   "source": [
    "races = {\n",
    "    'asian': 3,\n",
    "    'black': 1,\n",
    "    'latinx': 2,\n",
    "    'middleeastern': 4,\n",
    "    'nativeamerican': 5,\n",
    "    'pacificislander': 6,\n",
    "    'white': 0,\n",
    "    'other': 7\n",
    "}\n",
    "sorted_races = list(np.array(list(races.keys()))[np.argsort(list(races.values()))])"
   ]
  },
  {
   "cell_type": "code",
   "execution_count": null,
   "metadata": {},
   "outputs": [],
   "source": [
    "n_samples = len(bias_lines)\n",
    "observed = np.zeros(n_samples)\n",
    "expected = np.zeros(n_samples)\n",
    "bias_size = np.zeros(n_samples)\n",
    "std_error = np.zeros(n_samples)\n",
    "t_stats = np.zeros(n_samples)\n",
    "p_vals = np.zeros(n_samples)\n",
    "target = np.zeros(n_samples, dtype=str)\n",
    "annotator = np.zeros(n_samples, dtype=str)\n",
    "biases = np.zeros((8, 8))\n",
    "std_errors = np.zeros((8, 8))\n",
    "p_values = np.zeros((8, 8))\n",
    "\n",
    "for idx, line in enumerate(bias_lines):\n",
    "    processed = line.replace('|', ' ').replace('>', ' ').replace('<', ' ').split()\n",
    "    observed[idx] = float(processed[0])\n",
    "    expected[idx] = float(processed[1])\n",
    "    bias_size[idx] = float(processed[4])\n",
    "    std_error[idx] = float(processed[5])\n",
    "    t_stats[idx] = float(processed[6])\n",
    "    p_vals[idx] = float(processed[8])\n",
    "    target[idx] = processed[13]\n",
    "    annotator[idx] = processed[16]\n",
    "\n",
    "    ii = races[line[88:105].replace(' ', '')]\n",
    "    jj = races[line[112:132].replace(' ', '')]\n",
    "    biases[ii, jj] = float(processed[4])\n",
    "    std_errors[ii, jj] = float(processed[5])\n",
    "    p_values[ii, jj] = float(processed[8])"
   ]
  },
  {
   "cell_type": "code",
   "execution_count": null,
   "metadata": {},
   "outputs": [],
   "source": [
    "log_odds = np.exp(np.diag(biases))\n",
    "upper_bound = np.exp(np.diag(biases) + np.diag(std_errors))\n",
    "lower_bound = np.exp(np.diag(biases) - np.diag(std_errors))\n",
    "upper_error = upper_bound - log_odds\n",
    "lower_error = log_odds - lower_bound"
   ]
  },
  {
   "cell_type": "code",
   "execution_count": null,
   "metadata": {},
   "outputs": [],
   "source": [
    "\"\"\"\n",
    "Figure 3\n",
    "\"\"\"\n",
    "width = 0.2\n",
    "spacing = 0.18\n",
    "axis_label_size = 18\n",
    "axis_tick_label_size = 14\n",
    "subplot_label_size = 22\n",
    "error_capsize = 4\n",
    "\n",
    "fig, ax = plt.subplots(1, 1, figsize=(10, 5))\n",
    "\n",
    "ax.bar(x=np.arange(8),\n",
    "       height=log_odds,\n",
    "       color='silver',\n",
    "       yerr=np.concatenate(([lower_error], [upper_error]), axis=0),\n",
    "       error_kw={'capsize': error_capsize},\n",
    "       alpha=0.)\n",
    "ax.scatter(\n",
    "    np.arange(8),\n",
    "    log_odds,\n",
    "    color='k',\n",
    "    s=40,\n",
    "    zorder=1000\n",
    ")\n",
    "ax.set_xticks(np.arange(8))\n",
    "ax.set_xticklabels(\n",
    "    [r'\\textbf{White}',\n",
    "     r'\\textbf{Black}',\n",
    "     r'\\textbf{Latinx}',\n",
    "     r'\\textbf{Asian}',\n",
    "     r'\\textbf{Middle Eastern}',\n",
    "     r'\\textbf{Native American}',\n",
    "     r'\\textbf{Pacific Islander}',\n",
    "     r'\\textbf{Other}'],\n",
    "    ha='right',\n",
    "    rotation=25,\n",
    "    fontsize=15)\n",
    "ax.set_xlabel(r'\\textbf{Identity Group}', fontsize=axis_label_size)\n",
    "ax.set_ylabel(r'\\textbf{Change in Odds Ratio}', fontsize=axis_label_size)\n",
    "ax.set_ylim([0.80, 1.6])\n",
    "ax.axhline(1, linestyle='--', color='red', lw=0.5)\n",
    "ax.text(x=0, y=1.64, s='***', va='center', ha='center', fontsize=30)\n",
    "ax.text(x=1, y=1.64, s='***', va='center', ha='center', fontsize=30)\n",
    "ax.text(x=3, y=1.64, s='**', va='center', ha='center', fontsize=30)\n",
    "ax.text(x=4, y=1.64, s='**', va='center', ha='center', fontsize=30)\n",
    "\n",
    "ax.tick_params(labelsize=axis_tick_label_size)\n",
    "ax.grid('on', axis='y')\n",
    "plt.savefig('figure5.pdf', bbox_inches='tight')"
   ]
  }
 ],
 "metadata": {
  "kernelspec": {
   "display_name": "hate",
   "language": "python",
   "name": "hate"
  },
  "language_info": {
   "codemirror_mode": {
    "name": "ipython",
    "version": 3
   },
   "file_extension": ".py",
   "mimetype": "text/x-python",
   "name": "python",
   "nbconvert_exporter": "python",
   "pygments_lexer": "ipython3",
   "version": "3.7.9"
  }
 },
 "nbformat": 4,
 "nbformat_minor": 4
}
