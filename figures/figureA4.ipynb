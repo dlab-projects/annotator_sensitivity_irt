{
 "cells": [
  {
   "cell_type": "code",
   "execution_count": null,
   "id": "b425fe64-83ea-48b6-9344-f96c6614e4a9",
   "metadata": {},
   "outputs": [],
   "source": [
    "import numpy as np\n",
    "import os\n",
    "import matplotlib.pyplot as plt\n",
    "import mpl_lego as mplego\n",
    "import pandas as pd\n",
    "\n",
    "from hatespeech import keys, utils\n",
    "from IPython.display import Markdown\n",
    "from scipy.stats import chi2_contingency\n",
    "\n",
    "%matplotlib inline"
   ]
  },
  {
   "cell_type": "code",
   "execution_count": null,
   "id": "3e2979c9-a9ac-4ae0-864e-ab57a9510e21",
   "metadata": {},
   "outputs": [],
   "source": [
    "mplego.style.use_latex_style()"
   ]
  },
  {
   "cell_type": "code",
   "execution_count": null,
   "id": "dc9cc58e-3123-403c-9f99-5c1581d09be8",
   "metadata": {},
   "outputs": [],
   "source": [
    "data_path = \"~/data/hatespeech/unfiltered_ratings.feather\"\n",
    "rater_quality_path = \"~/data/hatespeech/rater_quality_check.csv\""
   ]
  },
  {
   "cell_type": "code",
   "execution_count": null,
   "id": "2e7ee64e-f761-4917-ae2e-f63dcbe5bdd6",
   "metadata": {},
   "outputs": [],
   "source": [
    "# Read in hate speech data\n",
    "data = pd.read_feather(data_path)\n",
    "# Remove all rows in which some item is missing\n",
    "data = utils.filter_missing_items(data)\n",
    "# Remove all rows in which the rater is not up to sufficient quality\n",
    "rater_quality = pd.read_csv(rater_quality_path)\n",
    "data = utils.filter_annotator_quality(data, rater_quality)"
   ]
  },
  {
   "cell_type": "code",
   "execution_count": null,
   "id": "21913f33-7f72-476b-ae92-38d9a3d9b354",
   "metadata": {},
   "outputs": [],
   "source": [
    "data = data[data[['annotator_race_black', 'annotator_race_white']].sum(axis=1) == 1]"
   ]
  },
  {
   "cell_type": "code",
   "execution_count": null,
   "id": "f3b9debe-7d55-4c06-ba01-9eb3b2d714b1",
   "metadata": {},
   "outputs": [],
   "source": [
    "unique_annotators = data.drop_duplicates('labeler_id').copy()"
   ]
  },
  {
   "cell_type": "code",
   "execution_count": null,
   "id": "96d99ab0-93ef-4aae-bf16-2308a55c9c6a",
   "metadata": {},
   "outputs": [],
   "source": [
    "# Liberal\n",
    "unique_annotators['annotator_liberal'] = unique_annotators[\n",
    "    ['annotator_ideology_extremeley_liberal', 'annotator_ideology_liberal', 'annotator_ideology_slightly_liberal']\n",
    "].any(axis=1)\n",
    "# Non-religious\n",
    "unique_annotators['annotator_non_religious'] = unique_annotators[\n",
    "    ['annotator_religion_atheist', 'annotator_religion_nothing']\n",
    "].any(axis=1)\n",
    "# Women\n",
    "unique_annotators['annotator_women'] = unique_annotators['annotator_gender_women']\n",
    "# Queer\n",
    "unique_annotators['annotator_queer'] = unique_annotators[\n",
    "    ['annotator_sexuality_bisexual', 'annotator_sexuality_gay', 'annotator_sexuality_other']\n",
    "].any(axis=1)"
   ]
  },
  {
   "cell_type": "code",
   "execution_count": null,
   "id": "b67c5420-c983-4404-abf0-a1d5881d1052",
   "metadata": {},
   "outputs": [],
   "source": [
    "corrs = unique_annotators[\n",
    "    ['annotator_race_black',\n",
    "     'annotator_liberal',\n",
    "     'annotator_non_religious',\n",
    "     'annotator_women',\n",
    "     'annotator_queer']].corr(method='spearman')"
   ]
  },
  {
   "cell_type": "code",
   "execution_count": null,
   "id": "9e99e2ca-60c8-43c0-901c-424d0198d058",
   "metadata": {},
   "outputs": [],
   "source": [
    "fig, ax = plt.subplots(1, 1, figsize=(10, 10))\n",
    "img = ax.imshow(corrs, vmin=0, vmax=1)\n",
    "cb, cax = mplego.colorbar.append_colorbar_to_axis(ax, img, spacing=0.025)\n",
    "ax.set_xticks(np.arange(5))\n",
    "ax.set_xticklabels(['Black', 'Liberal', 'Non-religious', 'Women', 'Queer'], fontsize=18)\n",
    "ax.set_yticks(np.arange(5))\n",
    "ax.set_yticklabels(['Black', 'Liberal', 'Non-religious', 'Women', 'Queer'], fontsize=18)\n",
    "mplego.labels.bold_axis_ticklabels(ax, which='both')\n",
    "\n",
    "cb.set_ticks([0, 0.25, 0.50, 0.75, 1])\n",
    "cb.ax.set_ylim([0, 1])\n",
    "cb.ax.tick_params(labelsize=20)\n",
    "cb.set_label(mplego.labels.bold_text('Spearman Correlation'), rotation=270, labelpad=25, fontsize=20)\n",
    "plt.savefig('figureA3.pdf', bbox_inches='tight')"
   ]
  }
 ],
 "metadata": {
  "kernelspec": {
   "display_name": "hate",
   "language": "python",
   "name": "hate"
  },
  "language_info": {
   "codemirror_mode": {
    "name": "ipython",
    "version": 3
   },
   "file_extension": ".py",
   "mimetype": "text/x-python",
   "name": "python",
   "nbconvert_exporter": "python",
   "pygments_lexer": "ipython3",
   "version": "3.8.12"
  }
 },
 "nbformat": 4,
 "nbformat_minor": 5
}
